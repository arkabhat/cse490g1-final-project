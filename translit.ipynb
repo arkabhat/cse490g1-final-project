{
 "cells": [
  {
   "cell_type": "code",
   "execution_count": 1,
   "id": "ee1b8694",
   "metadata": {},
   "outputs": [
    {
     "name": "stdout",
     "output_type": "stream",
     "text": [
      "Version 1.10.0+cu102\n",
      "CUDA enabled: False\n"
     ]
    }
   ],
   "source": [
    "import torch\n",
    "print('Version', torch.__version__)\n",
    "print('CUDA enabled:', torch.cuda.is_available())"
   ]
  },
  {
   "cell_type": "code",
   "execution_count": 2,
   "id": "e503fd20",
   "metadata": {},
   "outputs": [],
   "source": [
    "import torch.nn as nn\n",
    "from torchvision import datasets\n",
    "from torchvision import transforms\n",
    "import torch.nn.functional as F\n",
    "import torch.optim as optim\n",
    "import numpy as np\n",
    "import matplotlib.pyplot as plt\n",
    "import tqdm\n",
    "\n",
    "import sys\n",
    "import os\n",
    "import pickle\n",
    "import re\n",
    "import csv\n",
    "import multiprocessing\n",
    "\n",
    "import pt_util"
   ]
  },
  {
   "cell_type": "code",
   "execution_count": 3,
   "id": "367c7f47",
   "metadata": {},
   "outputs": [],
   "source": [
    "DATA_DIR = 'dakshina_dataset_v1.0'\n",
    "LANG = 'ta'\n",
    "LANG_DIR = 'lexicons'\n",
    "DATA_PATH = '{}/{}/{}'.format(DATA_DIR, LANG, LANG_DIR)"
   ]
  },
  {
   "cell_type": "code",
   "execution_count": 4,
   "id": "2e7f0549",
   "metadata": {},
   "outputs": [],
   "source": [
    "def prepare_data(dirpath):\n",
    "    # Read train and test data\n",
    "    filenames = os.listdir(dirpath)\n",
    "    train_data = []\n",
    "    test_data = []\n",
    "    max_len = 0 # max length of any word in the dataset\n",
    "    \n",
    "    def get_most_annotated_transliterations(tsv_file, data, max_len):\n",
    "        curr_lang = None\n",
    "        max_annotations = 0\n",
    "        curr_translits = {}\n",
    "\n",
    "        # only consider the most annotated transliteration(s) for each foreign language word\n",
    "        for lang, en, annotations in tsv_file:\n",
    "            if not curr_lang or lang != curr_lang:\n",
    "                for translit, annots in curr_translits.items():\n",
    "                    if annots == max_annotations:\n",
    "                        data.append([curr_lang, translit])\n",
    "                        max_len = max(max_len, len(translit))\n",
    "                curr_lang = lang\n",
    "                max_annotations = annotations\n",
    "                curr_translits = {en: annotations}\n",
    "                max_len = max(max_len, len(curr_lang))\n",
    "            else:\n",
    "                max_annotations = max(max_annotations, annotations)\n",
    "                curr_translits[en] = annotations\n",
    "        for translit, annots in curr_translits.items(): # fencepost\n",
    "            if annots == max_annotations:\n",
    "                data.append([curr_lang, translit])\n",
    "                max_len = max(max_len, len(translit))\n",
    "        return max_len\n",
    "    \n",
    "    for filename in filenames:\n",
    "        with open(os.path.join(dirpath, filename), 'r') as file:\n",
    "            tsv = csv.reader(file, delimiter='\\t')\n",
    "            if filename.endswith('train.tsv'):\n",
    "                max_len = get_most_annotated_transliterations(tsv, train_data, max_len)\n",
    "            else:\n",
    "                max_len = get_most_annotated_transliterations(tsv, test_data, max_len)\n",
    "                \n",
    "    return train_data, test_data, max_len"
   ]
  },
  {
   "cell_type": "code",
   "execution_count": 5,
   "id": "85dca244",
   "metadata": {},
   "outputs": [],
   "source": [
    "PAD = '<PAD>'\n",
    "def create_dictionaries(data):\n",
    "    en_voc2ind = {PAD: 0}\n",
    "    lang_voc2ind = {PAD: 0}\n",
    "    en_ind2voc = {0: PAD}\n",
    "    lang_ind2voc = {0: PAD}\n",
    "    \n",
    "    en_ind = 1\n",
    "    lang_ind = 1\n",
    "    for lang, en in data:\n",
    "        for lang_char in lang:\n",
    "            if lang_char not in lang_voc2ind:\n",
    "                lang_voc2ind[lang_char] = lang_ind\n",
    "                lang_ind2voc[lang_ind] = lang_char\n",
    "                lang_ind += 1\n",
    "        for en_char in en:\n",
    "            if en_char not in en_voc2ind:\n",
    "                en_voc2ind[en_char] = en_ind\n",
    "                en_ind2voc[en_ind] = en_char\n",
    "                en_ind += 1\n",
    "    \n",
    "    return lang_voc2ind, lang_ind2voc, en_voc2ind, en_ind2voc"
   ]
  },
  {
   "cell_type": "code",
   "execution_count": 6,
   "id": "07efad95",
   "metadata": {},
   "outputs": [],
   "source": [
    "# Preprocessing functions\n",
    "def tokenize_data(data, voc2ind):\n",
    "    return [voc2ind[char] for char in data]\n",
    "\n",
    "def detokenize_and_depad_data(data, ind2voc):\n",
    "    res = []\n",
    "    for ind in data:\n",
    "        if ind.item() == 0:\n",
    "            break\n",
    "        res.append(ind2voc[ind.item()])\n",
    "    return res\n",
    "\n",
    "def pad_data(data, seq_len):\n",
    "    for _ in range(len(data), seq_len):\n",
    "        data.append(0)\n",
    "    return data"
   ]
  },
  {
   "cell_type": "code",
   "execution_count": 7,
   "id": "bfcc2098",
   "metadata": {},
   "outputs": [],
   "source": [
    "class TransliterateDataset(torch.utils.data.Dataset):\n",
    "    \n",
    "    def __init__(self, data, lang_voc2ind, en_voc2ind, seq_len):\n",
    "        super(TransliterateDataset, self).__init__()\n",
    "        \n",
    "        # Tokenize and pad data\n",
    "        lang_data = []\n",
    "        en_data = []\n",
    "        for lang, en in data:\n",
    "            lang_tokens = tokenize_data(lang, lang_voc2ind)\n",
    "            lang_data.append(pad_data(lang_tokens, seq_len))\n",
    "            en_tokens = tokenize_data(en, en_voc2ind)\n",
    "            en_data.append(pad_data(en_tokens, seq_len))\n",
    "            \n",
    "        self.language_data = lang_data\n",
    "        self.english_data = en_data\n",
    "        self.sequence_length = seq_len\n",
    "\n",
    "    def __len__(self):\n",
    "        return len(self.english_data)\n",
    "        \n",
    "    def __getitem__(self, idx):\n",
    "        # Return the data and label at idx\n",
    "        return torch.LongTensor(self.language_data[idx]), torch.LongTensor(self.english_data[idx])\n",
    "    \n",
    "    def get_random_sample(self):\n",
    "        return self.__getitem__(np.random.randint(self.__len__()))"
   ]
  },
  {
   "cell_type": "code",
   "execution_count": 8,
   "id": "e150ff19",
   "metadata": {},
   "outputs": [],
   "source": [
    "class TransliterateNet(nn.Module):\n",
    "    \n",
    "    def __init__(self, lang_vocab_size, en_vocab_size, feature_size):\n",
    "        super(TransliterateNet, self).__init__()\n",
    "        self.lang_vocab_size = lang_vocab_size\n",
    "        self.en_vocab_size = en_vocab_size\n",
    "        self.feature_size = feature_size\n",
    "\n",
    "        self.encoder = nn.Embedding(self.lang_vocab_size, self.feature_size)\n",
    "        self.rnn = nn.RNN(self.feature_size, self.feature_size, 2)\n",
    "        self.decoder = nn.Linear(self.feature_size, self.en_vocab_size)\n",
    "        \n",
    "        #self.decoder.weight = self.encoder.weight\n",
    "        #self.decoder.bias.data.zero_()\n",
    "        \n",
    "        self.best_accuracy = -1\n",
    "    \n",
    "    def forward(self, x, hidden_state=None):\n",
    "        x = self.encoder(x)\n",
    "        x, hidden_state = self.rnn(x, hidden_state)\n",
    "        x = self.decoder(x)\n",
    "\n",
    "        return x, hidden_state\n",
    "\n",
    "    # This defines the function that gives a probability distribution and implements the temperature computation.\n",
    "    def inference(self, x, hidden_state=None, temperature=1):\n",
    "        x = x.view(-1, 1)\n",
    "        x, hidden_state = self.forward(x, hidden_state)\n",
    "        x = x.view(1, -1)\n",
    "        x = x / max(temperature, 1e-20)\n",
    "        x = F.softmax(x, dim=1)\n",
    "        return x, hidden_state\n",
    "\n",
    "    # Predefined loss function\n",
    "    def loss(self, prediction, label, reduction='mean'):\n",
    "        loss_val = F.cross_entropy(prediction.view(-1, self.en_vocab_size), label.view(-1), reduction=reduction)\n",
    "        return loss_val\n",
    "\n",
    "    # Saves the current model\n",
    "    def save_model(self, file_path, num_to_keep=1):\n",
    "        pt_util.save(self, file_path, num_to_keep)\n",
    "\n",
    "    # Saves the best model so far\n",
    "    def save_best_model(self, accuracy, file_path, num_to_keep=1):\n",
    "        if accuracy > self.best_accuracy:\n",
    "            self.save_model(file_path, num_to_keep)\n",
    "            self.best_accuracy = accuracy\n",
    "\n",
    "    def load_model(self, file_path):\n",
    "        pt_util.restore(self, file_path)\n",
    "\n",
    "    def load_last_model(self, dir_path):\n",
    "        return pt_util.restore_latest(self, dir_path)"
   ]
  },
  {
   "cell_type": "code",
   "execution_count": 9,
   "id": "0409f758",
   "metadata": {},
   "outputs": [],
   "source": [
    "def repackage_hidden(h):\n",
    "    # Wraps hidden states in new Tensors, to detach them from their history\n",
    "    if isinstance(h, torch.Tensor):\n",
    "        return h.detach()\n",
    "    else:\n",
    "        return tuple(repackage_hidden(v) for v in h)\n",
    "\n",
    "def train(model, device, optimizer, train_loader, lr, epoch, log_interval):\n",
    "    model.train()\n",
    "    losses = []\n",
    "    hidden = None\n",
    "    for batch_idx, (data, label) in enumerate(tqdm.tqdm(train_loader)):\n",
    "        data, label = data.to(device), label.to(device)\n",
    "        # Separates the hidden state across batches.\n",
    "        # Otherwise the backward would try to go all the way to the beginning every time\n",
    "        if hidden is not None:\n",
    "            hidden = repackage_hidden(hidden)\n",
    "        optimizer.zero_grad()\n",
    "        output, hidden = model(data)\n",
    "        pred = output.max(-1)[1]\n",
    "        loss = model.loss(output, label)\n",
    "        losses.append(loss.item())\n",
    "        loss.backward()\n",
    "        optimizer.step()\n",
    "        if batch_idx % log_interval == 0:\n",
    "            print('Train Epoch: {} [{}/{} ({:.0f}%)]\\tLoss: {:.6f}'.format(\n",
    "                epoch, batch_idx * len(data), len(train_loader.dataset),\n",
    "                100. * batch_idx / len(train_loader), loss.item()))\n",
    "    return np.mean(losses)\n",
    "\n",
    "\n",
    "def test(model, device, test_loader, lang_ind2voc, en_ind2voc):\n",
    "    model.eval()\n",
    "    test_loss = 0\n",
    "    correct = 0\n",
    "\n",
    "    with torch.no_grad():\n",
    "        hidden = None\n",
    "        for batch_idx, (data, label) in enumerate(test_loader):\n",
    "            data, label = data.to(device), label.to(device)\n",
    "            output, hidden = model(data, hidden)\n",
    "            test_loss += model.loss(output, label, reduction='mean').item()\n",
    "            pred = output.max(-1)[1]\n",
    "            correct_mask = pred.eq(label.view_as(pred))\n",
    "            num_correct = correct_mask.sum().item()\n",
    "            correct += num_correct\n",
    "            # Comment this out to avoid printing test results\n",
    "            if batch_idx % 10 == 0:\n",
    "                print('Input\\t%s\\nGT\\t%s\\npred\\t%s\\n\\n' % (\n",
    "                    detokenize_and_depad_data(data[0], lang_ind2voc),\n",
    "                    detokenize_and_depad_data(label[0], en_ind2voc),\n",
    "                    detokenize_and_depad_data(pred[0], en_ind2voc)))\n",
    "\n",
    "    test_loss /= len(test_loader)\n",
    "    test_accuracy = 100. * correct / (len(test_loader.dataset) * test_loader.dataset.sequence_length)\n",
    "\n",
    "    print('\\nTest set: Average loss: {:.4f}, Accuracy: {}/{} ({:.0f}%)\\n'.format(\n",
    "        test_loss, correct, len(test_loader.dataset) * test_loader.dataset.sequence_length,\n",
    "        100. * correct / (len(test_loader.dataset) * test_loader.dataset.sequence_length)))\n",
    "    return test_loss, test_accuracy"
   ]
  },
  {
   "cell_type": "code",
   "execution_count": 10,
   "id": "b5bd1ecb",
   "metadata": {},
   "outputs": [
    {
     "name": "stdout",
     "output_type": "stream",
     "text": [
      "Using device cpu\n",
      "num workers: 56\n",
      "Input\t['ஃ', 'ப', 'ா', 'ர', '்', 'ம', '்']\n",
      "GT\t['f', 'a', 'r', 'm']\n",
      "pred\t['o', 'd', 'd', 'f', 'q', 'm', 'q', 'f', 'f', 'f', 'f', 'f', 'f', 'f', 'f', 'f', 'f', 'f', 'f', 'f', 'f', 'f', 'f', 'f', 'f', 'f', 'f', 'f', 'f', 'f']\n",
      "\n",
      "\n",
      "Input\t['ந', 'ெ', 'ற', '்', 'ற', 'ி']\n",
      "GT\t['n', 'e', 't', 'r', 'i']\n",
      "pred\t['l', 'v', 'f', 't', 'f', 'v', 'y', 'd', 'y', 'o', 'y', 'o', 'l', 'o', 'y', 'e', 'e', 'e', 'e', 'e', 'e', 'e', 'e', 'e', 'e', 'e', 'e', 'e', 'e', 'e']\n",
      "\n",
      "\n",
      "Input\t['க', 'ா', 'ர', 'ண', 'த', '்', 'த', 'ை', 'ப', '்']\n",
      "GT\t['k', 'a', 'a', 'r', 'a', 'n', 'a', 't', 't', 'a', 'i', 'p']\n",
      "pred\t['m', 'd', 'x', 'x', 'c', 'o', 'c', 'e', 'd']\n",
      "\n",
      "\n",
      "Input\t['வ', 'ா', 'க', 'ன']\n",
      "GT\t['v', 'a', 'a', 'g', 'a', 'n', 'a']\n",
      "pred\t['f']\n",
      "\n",
      "\n",
      "\n",
      "Test set: Average loss: 3.3323, Accuracy: 2138/239760 (1%)\n",
      "\n"
     ]
    },
    {
     "name": "stderr",
     "output_type": "stream",
     "text": [
      "  3%|▎         | 2/76 [00:00<00:13,  5.44it/s]"
     ]
    },
    {
     "name": "stdout",
     "output_type": "stream",
     "text": [
      "Train Epoch: 0 [0/38723 (0%)]\tLoss: 3.334854\n"
     ]
    },
    {
     "name": "stderr",
     "output_type": "stream",
     "text": [
      " 16%|█▌        | 12/76 [00:02<00:11,  5.73it/s]"
     ]
    },
    {
     "name": "stdout",
     "output_type": "stream",
     "text": [
      "Train Epoch: 0 [5120/38723 (13%)]\tLoss: 1.363441\n"
     ]
    },
    {
     "name": "stderr",
     "output_type": "stream",
     "text": [
      " 28%|██▊       | 21/76 [00:03<00:09,  5.69it/s]"
     ]
    },
    {
     "name": "stdout",
     "output_type": "stream",
     "text": [
      "Train Epoch: 0 [10240/38723 (26%)]\tLoss: 1.607526\n"
     ]
    },
    {
     "name": "stderr",
     "output_type": "stream",
     "text": [
      " 41%|████      | 31/76 [00:05<00:09,  4.57it/s]"
     ]
    },
    {
     "name": "stdout",
     "output_type": "stream",
     "text": [
      "Train Epoch: 0 [15360/38723 (39%)]\tLoss: 1.398236\n"
     ]
    },
    {
     "name": "stderr",
     "output_type": "stream",
     "text": [
      " 54%|█████▍    | 41/76 [00:07<00:07,  4.82it/s]"
     ]
    },
    {
     "name": "stdout",
     "output_type": "stream",
     "text": [
      "Train Epoch: 0 [20480/38723 (53%)]\tLoss: 1.377403\n"
     ]
    },
    {
     "name": "stderr",
     "output_type": "stream",
     "text": [
      " 67%|██████▋   | 51/76 [00:10<00:05,  4.56it/s]"
     ]
    },
    {
     "name": "stdout",
     "output_type": "stream",
     "text": [
      "Train Epoch: 0 [25600/38723 (66%)]\tLoss: 1.258411\n"
     ]
    },
    {
     "name": "stderr",
     "output_type": "stream",
     "text": [
      " 80%|████████  | 61/76 [00:12<00:03,  4.82it/s]"
     ]
    },
    {
     "name": "stdout",
     "output_type": "stream",
     "text": [
      "Train Epoch: 0 [30720/38723 (79%)]\tLoss: 1.225976\n"
     ]
    },
    {
     "name": "stderr",
     "output_type": "stream",
     "text": [
      " 93%|█████████▎| 71/76 [00:14<00:01,  4.82it/s]"
     ]
    },
    {
     "name": "stdout",
     "output_type": "stream",
     "text": [
      "Train Epoch: 0 [35840/38723 (92%)]\tLoss: 1.288834\n"
     ]
    },
    {
     "name": "stderr",
     "output_type": "stream",
     "text": [
      "100%|██████████| 76/76 [00:15<00:00,  4.98it/s]\n"
     ]
    },
    {
     "name": "stdout",
     "output_type": "stream",
     "text": [
      "Input\t['ஃ', 'ப', 'ா', 'ர', '்', 'ம', '்']\n",
      "GT\t['f', 'a', 'r', 'm']\n",
      "pred\t[]\n",
      "\n",
      "\n",
      "Input\t['ந', 'ெ', 'ற', '்', 'ற', 'ி']\n",
      "GT\t['n', 'e', 't', 'r', 'i']\n",
      "pred\t[]\n",
      "\n",
      "\n",
      "Input\t['க', 'ா', 'ர', 'ண', 'த', '்', 'த', 'ை', 'ப', '்']\n",
      "GT\t['k', 'a', 'a', 'r', 'a', 'n', 'a', 't', 't', 'a', 'i', 'p']\n",
      "pred\t['a', 'a', 'a', 'a', 't', 'a', 't', 'a', 'a', 'a']\n",
      "\n",
      "\n",
      "Input\t['வ', 'ா', 'க', 'ன']\n",
      "GT\t['v', 'a', 'a', 'g', 'a', 'n', 'a']\n",
      "pred\t['a', 'a', 'a', 'a']\n",
      "\n",
      "\n",
      "\n",
      "Test set: Average loss: 1.1433, Accuracy: 174147/239760 (73%)\n",
      "\n"
     ]
    },
    {
     "name": "stderr",
     "output_type": "stream",
     "text": [
      "  1%|▏         | 1/76 [00:00<00:14,  5.16it/s]"
     ]
    },
    {
     "name": "stdout",
     "output_type": "stream",
     "text": [
      "Train Epoch: 1 [0/38723 (0%)]\tLoss: 1.171712\n"
     ]
    },
    {
     "name": "stderr",
     "output_type": "stream",
     "text": [
      " 14%|█▍        | 11/76 [00:02<00:13,  4.82it/s]"
     ]
    },
    {
     "name": "stdout",
     "output_type": "stream",
     "text": [
      "Train Epoch: 1 [5120/38723 (13%)]\tLoss: 1.109458\n"
     ]
    },
    {
     "name": "stderr",
     "output_type": "stream",
     "text": [
      " 28%|██▊       | 21/76 [00:04<00:11,  4.79it/s]"
     ]
    },
    {
     "name": "stdout",
     "output_type": "stream",
     "text": [
      "Train Epoch: 1 [10240/38723 (26%)]\tLoss: 1.250221\n"
     ]
    },
    {
     "name": "stderr",
     "output_type": "stream",
     "text": [
      " 41%|████      | 31/76 [00:06<00:11,  3.98it/s]"
     ]
    },
    {
     "name": "stdout",
     "output_type": "stream",
     "text": [
      "Train Epoch: 1 [15360/38723 (39%)]\tLoss: 1.171864\n"
     ]
    },
    {
     "name": "stderr",
     "output_type": "stream",
     "text": [
      " 54%|█████▍    | 41/76 [00:08<00:07,  4.85it/s]"
     ]
    },
    {
     "name": "stdout",
     "output_type": "stream",
     "text": [
      "Train Epoch: 1 [20480/38723 (53%)]\tLoss: 1.208172\n"
     ]
    },
    {
     "name": "stderr",
     "output_type": "stream",
     "text": [
      " 67%|██████▋   | 51/76 [00:10<00:05,  4.85it/s]"
     ]
    },
    {
     "name": "stdout",
     "output_type": "stream",
     "text": [
      "Train Epoch: 1 [25600/38723 (66%)]\tLoss: 1.101862\n"
     ]
    },
    {
     "name": "stderr",
     "output_type": "stream",
     "text": [
      " 80%|████████  | 61/76 [00:12<00:03,  4.85it/s]"
     ]
    },
    {
     "name": "stdout",
     "output_type": "stream",
     "text": [
      "Train Epoch: 1 [30720/38723 (79%)]\tLoss: 1.101303\n"
     ]
    },
    {
     "name": "stderr",
     "output_type": "stream",
     "text": [
      " 93%|█████████▎| 71/76 [00:14<00:01,  4.86it/s]"
     ]
    },
    {
     "name": "stdout",
     "output_type": "stream",
     "text": [
      "Train Epoch: 1 [35840/38723 (92%)]\tLoss: 1.181622\n"
     ]
    },
    {
     "name": "stderr",
     "output_type": "stream",
     "text": [
      "100%|██████████| 76/76 [00:15<00:00,  4.80it/s]\n"
     ]
    },
    {
     "name": "stdout",
     "output_type": "stream",
     "text": [
      "Input\t['ஃ', 'ப', 'ா', 'ர', '்', 'ம', '்']\n",
      "GT\t['f', 'a', 'r', 'm']\n",
      "pred\t[]\n",
      "\n",
      "\n",
      "Input\t['ந', 'ெ', 'ற', '்', 'ற', 'ி']\n",
      "GT\t['n', 'e', 't', 'r', 'i']\n",
      "pred\t['a', 'a', 'a', 'a', 'a', 'a']\n",
      "\n",
      "\n",
      "Input\t['க', 'ா', 'ர', 'ண', 'த', '்', 'த', 'ை', 'ப', '்']\n",
      "GT\t['k', 'a', 'a', 'r', 'a', 'n', 'a', 't', 't', 'a', 'i', 'p']\n",
      "pred\t['a', 'a', 'a', 'a', 't', 'a', 't', 'a', 'a', 'a']\n",
      "\n",
      "\n",
      "Input\t['வ', 'ா', 'க', 'ன']\n",
      "GT\t['v', 'a', 'a', 'g', 'a', 'n', 'a']\n",
      "pred\t['a', 'a', 'a', 'a']\n",
      "\n",
      "\n",
      "\n",
      "Test set: Average loss: 1.0522, Accuracy: 177572/239760 (74%)\n",
      "\n"
     ]
    },
    {
     "name": "stderr",
     "output_type": "stream",
     "text": [
      "  1%|▏         | 1/76 [00:00<00:14,  5.22it/s]"
     ]
    },
    {
     "name": "stdout",
     "output_type": "stream",
     "text": [
      "Train Epoch: 2 [0/38723 (0%)]\tLoss: 1.037030\n"
     ]
    },
    {
     "name": "stderr",
     "output_type": "stream",
     "text": [
      " 16%|█▌        | 12/76 [00:02<00:11,  5.50it/s]"
     ]
    },
    {
     "name": "stdout",
     "output_type": "stream",
     "text": [
      "Train Epoch: 2 [5120/38723 (13%)]\tLoss: 1.018443\n"
     ]
    },
    {
     "name": "stderr",
     "output_type": "stream",
     "text": [
      " 29%|██▉       | 22/76 [00:04<00:09,  5.58it/s]"
     ]
    },
    {
     "name": "stdout",
     "output_type": "stream",
     "text": [
      "Train Epoch: 2 [10240/38723 (26%)]\tLoss: 1.166980\n"
     ]
    },
    {
     "name": "stderr",
     "output_type": "stream",
     "text": [
      " 42%|████▏     | 32/76 [00:05<00:07,  5.76it/s]"
     ]
    },
    {
     "name": "stdout",
     "output_type": "stream",
     "text": [
      "Train Epoch: 2 [15360/38723 (39%)]\tLoss: 1.127301\n"
     ]
    },
    {
     "name": "stderr",
     "output_type": "stream",
     "text": [
      " 55%|█████▌    | 42/76 [00:07<00:05,  5.80it/s]"
     ]
    },
    {
     "name": "stdout",
     "output_type": "stream",
     "text": [
      "Train Epoch: 2 [20480/38723 (53%)]\tLoss: 1.155229\n"
     ]
    },
    {
     "name": "stderr",
     "output_type": "stream",
     "text": [
      " 68%|██████▊   | 52/76 [00:09<00:04,  5.65it/s]"
     ]
    },
    {
     "name": "stdout",
     "output_type": "stream",
     "text": [
      "Train Epoch: 2 [25600/38723 (66%)]\tLoss: 1.041257\n"
     ]
    },
    {
     "name": "stderr",
     "output_type": "stream",
     "text": [
      " 82%|████████▏ | 62/76 [00:11<00:02,  5.80it/s]"
     ]
    },
    {
     "name": "stdout",
     "output_type": "stream",
     "text": [
      "Train Epoch: 2 [30720/38723 (79%)]\tLoss: 1.066562\n"
     ]
    },
    {
     "name": "stderr",
     "output_type": "stream",
     "text": [
      " 95%|█████████▍| 72/76 [00:12<00:00,  5.91it/s]"
     ]
    },
    {
     "name": "stdout",
     "output_type": "stream",
     "text": [
      "Train Epoch: 2 [35840/38723 (92%)]\tLoss: 1.138110\n"
     ]
    },
    {
     "name": "stderr",
     "output_type": "stream",
     "text": [
      "100%|██████████| 76/76 [00:13<00:00,  5.67it/s]\n"
     ]
    },
    {
     "name": "stdout",
     "output_type": "stream",
     "text": [
      "Input\t['ஃ', 'ப', 'ா', 'ர', '்', 'ம', '்']\n",
      "GT\t['f', 'a', 'r', 'm']\n",
      "pred\t['a', 'p', 'a', 'a']\n",
      "\n",
      "\n",
      "Input\t['ந', 'ெ', 'ற', '்', 'ற', 'ி']\n",
      "GT\t['n', 'e', 't', 'r', 'i']\n",
      "pred\t['n', 'a', 'a', 'a', 'a', 'a']\n",
      "\n",
      "\n",
      "Input\t['க', 'ா', 'ர', 'ண', 'த', '்', 'த', 'ை', 'ப', '்']\n",
      "GT\t['k', 'a', 'a', 'r', 'a', 'n', 'a', 't', 't', 'a', 'i', 'p']\n",
      "pred\t['a', 'a', 'a', 'a', 't', 'a', 't', 'a', 'p', 'a']\n",
      "\n",
      "\n",
      "Input\t['வ', 'ா', 'க', 'ன']\n",
      "GT\t['v', 'a', 'a', 'g', 'a', 'n', 'a']\n",
      "pred\t['v', 'a', 'a', 'a']\n",
      "\n",
      "\n",
      "\n",
      "Test set: Average loss: 1.0128, Accuracy: 178992/239760 (75%)\n",
      "\n"
     ]
    },
    {
     "name": "stderr",
     "output_type": "stream",
     "text": [
      "  1%|▏         | 1/76 [00:00<00:12,  6.09it/s]"
     ]
    },
    {
     "name": "stdout",
     "output_type": "stream",
     "text": [
      "Train Epoch: 3 [0/38723 (0%)]\tLoss: 0.988035\n"
     ]
    },
    {
     "name": "stderr",
     "output_type": "stream",
     "text": [
      " 16%|█▌        | 12/76 [00:02<00:11,  5.45it/s]"
     ]
    },
    {
     "name": "stdout",
     "output_type": "stream",
     "text": [
      "Train Epoch: 3 [5120/38723 (13%)]\tLoss: 0.976774\n"
     ]
    },
    {
     "name": "stderr",
     "output_type": "stream",
     "text": [
      " 29%|██▉       | 22/76 [00:03<00:09,  5.81it/s]"
     ]
    },
    {
     "name": "stdout",
     "output_type": "stream",
     "text": [
      "Train Epoch: 3 [10240/38723 (26%)]\tLoss: 1.137879\n"
     ]
    },
    {
     "name": "stderr",
     "output_type": "stream",
     "text": [
      " 42%|████▏     | 32/76 [00:05<00:07,  5.82it/s]"
     ]
    },
    {
     "name": "stdout",
     "output_type": "stream",
     "text": [
      "Train Epoch: 3 [15360/38723 (39%)]\tLoss: 1.105129\n"
     ]
    },
    {
     "name": "stderr",
     "output_type": "stream",
     "text": [
      " 55%|█████▌    | 42/76 [00:07<00:05,  5.71it/s]"
     ]
    },
    {
     "name": "stdout",
     "output_type": "stream",
     "text": [
      "Train Epoch: 3 [20480/38723 (53%)]\tLoss: 1.134085\n"
     ]
    },
    {
     "name": "stderr",
     "output_type": "stream",
     "text": [
      " 68%|██████▊   | 52/76 [00:09<00:04,  5.77it/s]"
     ]
    },
    {
     "name": "stdout",
     "output_type": "stream",
     "text": [
      "Train Epoch: 3 [25600/38723 (66%)]\tLoss: 1.007130\n"
     ]
    },
    {
     "name": "stderr",
     "output_type": "stream",
     "text": [
      " 82%|████████▏ | 62/76 [00:10<00:02,  5.63it/s]"
     ]
    },
    {
     "name": "stdout",
     "output_type": "stream",
     "text": [
      "Train Epoch: 3 [30720/38723 (79%)]\tLoss: 1.038137\n"
     ]
    },
    {
     "name": "stderr",
     "output_type": "stream",
     "text": [
      " 95%|█████████▍| 72/76 [00:12<00:00,  5.80it/s]"
     ]
    },
    {
     "name": "stdout",
     "output_type": "stream",
     "text": [
      "Train Epoch: 3 [35840/38723 (92%)]\tLoss: 1.117085\n"
     ]
    },
    {
     "name": "stderr",
     "output_type": "stream",
     "text": [
      "100%|██████████| 76/76 [00:13<00:00,  5.77it/s]\n"
     ]
    },
    {
     "name": "stdout",
     "output_type": "stream",
     "text": [
      "Input\t['ஃ', 'ப', 'ா', 'ர', '்', 'ம', '்']\n",
      "GT\t['f', 'a', 'r', 'm']\n",
      "pred\t['a', 'p', 'a', 'a']\n",
      "\n",
      "\n",
      "Input\t['ந', 'ெ', 'ற', '்', 'ற', 'ி']\n",
      "GT\t['n', 'e', 't', 'r', 'i']\n",
      "pred\t['n', 'a', 'a', 'a', 'a', 'a']\n",
      "\n",
      "\n",
      "Input\t['க', 'ா', 'ர', 'ண', 'த', '்', 'த', 'ை', 'ப', '்']\n",
      "GT\t['k', 'a', 'a', 'r', 'a', 'n', 'a', 't', 't', 'a', 'i', 'p']\n",
      "pred\t['k', 'a', 'a', 'a', 't', 'a', 't', 'a', 'p', 'a']\n",
      "\n",
      "\n",
      "Input\t['வ', 'ா', 'க', 'ன']\n",
      "GT\t['v', 'a', 'a', 'g', 'a', 'n', 'a']\n",
      "pred\t['v', 'a', 'a', 'a']\n",
      "\n",
      "\n",
      "\n",
      "Test set: Average loss: 0.9894, Accuracy: 180764/239760 (75%)\n",
      "\n"
     ]
    },
    {
     "name": "stderr",
     "output_type": "stream",
     "text": [
      "  1%|▏         | 1/76 [00:00<00:12,  6.07it/s]"
     ]
    },
    {
     "name": "stdout",
     "output_type": "stream",
     "text": [
      "Train Epoch: 4 [0/38723 (0%)]\tLoss: 0.962361\n"
     ]
    },
    {
     "name": "stderr",
     "output_type": "stream",
     "text": [
      " 16%|█▌        | 12/76 [00:02<00:11,  5.79it/s]"
     ]
    },
    {
     "name": "stdout",
     "output_type": "stream",
     "text": [
      "Train Epoch: 4 [5120/38723 (13%)]\tLoss: 0.948573\n"
     ]
    },
    {
     "name": "stderr",
     "output_type": "stream",
     "text": [
      " 29%|██▉       | 22/76 [00:03<00:09,  5.87it/s]"
     ]
    },
    {
     "name": "stdout",
     "output_type": "stream",
     "text": [
      "Train Epoch: 4 [10240/38723 (26%)]\tLoss: 1.127634\n"
     ]
    },
    {
     "name": "stderr",
     "output_type": "stream",
     "text": [
      " 42%|████▏     | 32/76 [00:05<00:07,  5.92it/s]"
     ]
    },
    {
     "name": "stdout",
     "output_type": "stream",
     "text": [
      "Train Epoch: 4 [15360/38723 (39%)]\tLoss: 1.089970\n"
     ]
    },
    {
     "name": "stderr",
     "output_type": "stream",
     "text": [
      " 55%|█████▌    | 42/76 [00:07<00:05,  5.89it/s]"
     ]
    },
    {
     "name": "stdout",
     "output_type": "stream",
     "text": [
      "Train Epoch: 4 [20480/38723 (53%)]\tLoss: 1.122296\n"
     ]
    },
    {
     "name": "stderr",
     "output_type": "stream",
     "text": [
      " 68%|██████▊   | 52/76 [00:08<00:04,  5.86it/s]"
     ]
    },
    {
     "name": "stdout",
     "output_type": "stream",
     "text": [
      "Train Epoch: 4 [25600/38723 (66%)]\tLoss: 0.993267\n"
     ]
    },
    {
     "name": "stderr",
     "output_type": "stream",
     "text": [
      " 82%|████████▏ | 62/76 [00:10<00:02,  5.83it/s]"
     ]
    },
    {
     "name": "stdout",
     "output_type": "stream",
     "text": [
      "Train Epoch: 4 [30720/38723 (79%)]\tLoss: 1.017716\n"
     ]
    },
    {
     "name": "stderr",
     "output_type": "stream",
     "text": [
      " 95%|█████████▍| 72/76 [00:12<00:00,  5.67it/s]"
     ]
    },
    {
     "name": "stdout",
     "output_type": "stream",
     "text": [
      "Train Epoch: 4 [35840/38723 (92%)]\tLoss: 1.099155\n"
     ]
    },
    {
     "name": "stderr",
     "output_type": "stream",
     "text": [
      "100%|██████████| 76/76 [00:13<00:00,  5.80it/s]\n"
     ]
    },
    {
     "name": "stdout",
     "output_type": "stream",
     "text": [
      "Input\t['ஃ', 'ப', 'ா', 'ர', '்', 'ம', '்']\n",
      "GT\t['f', 'a', 'r', 'm']\n",
      "pred\t['a', 'p', 'a', 'a']\n",
      "\n",
      "\n",
      "Input\t['ந', 'ெ', 'ற', '்', 'ற', 'ி']\n",
      "GT\t['n', 'e', 't', 'r', 'i']\n",
      "pred\t['n', 'e', 'a', 'a', 'a', 'i']\n",
      "\n",
      "\n",
      "Input\t['க', 'ா', 'ர', 'ண', 'த', '்', 'த', 'ை', 'ப', '்']\n",
      "GT\t['k', 'a', 'a', 'r', 'a', 'n', 'a', 't', 't', 'a', 'i', 'p']\n",
      "pred\t['k', 'a', 'a', 'a', 't', 'a', 't', 'a', 'p', 'a']\n",
      "\n",
      "\n",
      "Input\t['வ', 'ா', 'க', 'ன']\n",
      "GT\t['v', 'a', 'a', 'g', 'a', 'n', 'a']\n",
      "pred\t['v', 'a', 'a', 'a']\n",
      "\n",
      "\n",
      "\n",
      "Test set: Average loss: 0.9727, Accuracy: 181342/239760 (76%)\n",
      "\n"
     ]
    },
    {
     "name": "stderr",
     "output_type": "stream",
     "text": [
      "  1%|▏         | 1/76 [00:00<00:12,  6.11it/s]"
     ]
    },
    {
     "name": "stdout",
     "output_type": "stream",
     "text": [
      "Train Epoch: 5 [0/38723 (0%)]\tLoss: 0.944282\n"
     ]
    },
    {
     "name": "stderr",
     "output_type": "stream",
     "text": [
      " 16%|█▌        | 12/76 [00:02<00:11,  5.81it/s]"
     ]
    },
    {
     "name": "stdout",
     "output_type": "stream",
     "text": [
      "Train Epoch: 5 [5120/38723 (13%)]\tLoss: 0.928972\n"
     ]
    },
    {
     "name": "stderr",
     "output_type": "stream",
     "text": [
      " 29%|██▉       | 22/76 [00:03<00:09,  5.71it/s]"
     ]
    },
    {
     "name": "stdout",
     "output_type": "stream",
     "text": [
      "Train Epoch: 5 [10240/38723 (26%)]\tLoss: 1.124505\n"
     ]
    },
    {
     "name": "stderr",
     "output_type": "stream",
     "text": [
      " 42%|████▏     | 32/76 [00:05<00:07,  5.82it/s]"
     ]
    },
    {
     "name": "stdout",
     "output_type": "stream",
     "text": [
      "Train Epoch: 5 [15360/38723 (39%)]\tLoss: 1.084504\n"
     ]
    },
    {
     "name": "stderr",
     "output_type": "stream",
     "text": [
      " 55%|█████▌    | 42/76 [00:07<00:05,  5.77it/s]"
     ]
    },
    {
     "name": "stdout",
     "output_type": "stream",
     "text": [
      "Train Epoch: 5 [20480/38723 (53%)]\tLoss: 1.113493\n"
     ]
    },
    {
     "name": "stderr",
     "output_type": "stream",
     "text": [
      " 68%|██████▊   | 52/76 [00:09<00:04,  5.77it/s]"
     ]
    },
    {
     "name": "stdout",
     "output_type": "stream",
     "text": [
      "Train Epoch: 5 [25600/38723 (66%)]\tLoss: 0.983195\n"
     ]
    },
    {
     "name": "stderr",
     "output_type": "stream",
     "text": [
      " 82%|████████▏ | 62/76 [00:10<00:02,  5.74it/s]"
     ]
    },
    {
     "name": "stdout",
     "output_type": "stream",
     "text": [
      "Train Epoch: 5 [30720/38723 (79%)]\tLoss: 1.012865\n"
     ]
    },
    {
     "name": "stderr",
     "output_type": "stream",
     "text": [
      " 95%|█████████▍| 72/76 [00:12<00:00,  5.54it/s]"
     ]
    },
    {
     "name": "stdout",
     "output_type": "stream",
     "text": [
      "Train Epoch: 5 [35840/38723 (92%)]\tLoss: 1.084531\n"
     ]
    },
    {
     "name": "stderr",
     "output_type": "stream",
     "text": [
      "100%|██████████| 76/76 [00:13<00:00,  5.74it/s]\n"
     ]
    },
    {
     "name": "stdout",
     "output_type": "stream",
     "text": [
      "Input\t['ஃ', 'ப', 'ா', 'ர', '்', 'ம', '்']\n",
      "GT\t['f', 'a', 'r', 'm']\n",
      "pred\t['a', 'p', 'a', 'a']\n",
      "\n",
      "\n",
      "Input\t['ந', 'ெ', 'ற', '்', 'ற', 'ி']\n",
      "GT\t['n', 'e', 't', 'r', 'i']\n",
      "pred\t['n', 'e', 'a', 'a', 'a', 'i']\n",
      "\n",
      "\n",
      "Input\t['க', 'ா', 'ர', 'ண', 'த', '்', 'த', 'ை', 'ப', '்']\n",
      "GT\t['k', 'a', 'a', 'r', 'a', 'n', 'a', 't', 't', 'a', 'i', 'p']\n",
      "pred\t['k', 'a', 'a', 'a', 't', 'a', 't', 'a', 'p', 'a']\n",
      "\n",
      "\n",
      "Input\t['வ', 'ா', 'க', 'ன']\n",
      "GT\t['v', 'a', 'a', 'g', 'a', 'n', 'a']\n",
      "pred\t['v', 'a', 'a', 'a']\n",
      "\n",
      "\n",
      "\n",
      "Test set: Average loss: 0.9641, Accuracy: 181520/239760 (76%)\n",
      "\n"
     ]
    },
    {
     "name": "stderr",
     "output_type": "stream",
     "text": [
      "  1%|▏         | 1/76 [00:00<00:12,  6.01it/s]"
     ]
    },
    {
     "name": "stdout",
     "output_type": "stream",
     "text": [
      "Train Epoch: 6 [0/38723 (0%)]\tLoss: 0.934094\n"
     ]
    },
    {
     "name": "stderr",
     "output_type": "stream",
     "text": [
      " 16%|█▌        | 12/76 [00:02<00:11,  5.81it/s]"
     ]
    },
    {
     "name": "stdout",
     "output_type": "stream",
     "text": [
      "Train Epoch: 6 [5120/38723 (13%)]\tLoss: 0.917599\n"
     ]
    },
    {
     "name": "stderr",
     "output_type": "stream",
     "text": [
      " 29%|██▉       | 22/76 [00:03<00:09,  5.86it/s]"
     ]
    },
    {
     "name": "stdout",
     "output_type": "stream",
     "text": [
      "Train Epoch: 6 [10240/38723 (26%)]\tLoss: 1.118225\n"
     ]
    },
    {
     "name": "stderr",
     "output_type": "stream",
     "text": [
      " 42%|████▏     | 32/76 [00:05<00:07,  5.88it/s]"
     ]
    },
    {
     "name": "stdout",
     "output_type": "stream",
     "text": [
      "Train Epoch: 6 [15360/38723 (39%)]\tLoss: 1.089201\n"
     ]
    },
    {
     "name": "stderr",
     "output_type": "stream",
     "text": [
      " 55%|█████▌    | 42/76 [00:07<00:05,  5.87it/s]"
     ]
    },
    {
     "name": "stdout",
     "output_type": "stream",
     "text": [
      "Train Epoch: 6 [20480/38723 (53%)]\tLoss: 1.106887\n"
     ]
    },
    {
     "name": "stderr",
     "output_type": "stream",
     "text": [
      " 68%|██████▊   | 52/76 [00:08<00:04,  5.84it/s]"
     ]
    },
    {
     "name": "stdout",
     "output_type": "stream",
     "text": [
      "Train Epoch: 6 [25600/38723 (66%)]\tLoss: 0.973977\n"
     ]
    },
    {
     "name": "stderr",
     "output_type": "stream",
     "text": [
      " 82%|████████▏ | 62/76 [00:10<00:02,  5.85it/s]"
     ]
    },
    {
     "name": "stdout",
     "output_type": "stream",
     "text": [
      "Train Epoch: 6 [30720/38723 (79%)]\tLoss: 1.009264\n"
     ]
    },
    {
     "name": "stderr",
     "output_type": "stream",
     "text": [
      " 95%|█████████▍| 72/76 [00:12<00:00,  5.80it/s]"
     ]
    },
    {
     "name": "stdout",
     "output_type": "stream",
     "text": [
      "Train Epoch: 6 [35840/38723 (92%)]\tLoss: 1.077106\n"
     ]
    },
    {
     "name": "stderr",
     "output_type": "stream",
     "text": [
      "100%|██████████| 76/76 [00:12<00:00,  5.86it/s]\n"
     ]
    },
    {
     "name": "stdout",
     "output_type": "stream",
     "text": [
      "Input\t['ஃ', 'ப', 'ா', 'ர', '்', 'ம', '்']\n",
      "GT\t['f', 'a', 'r', 'm']\n",
      "pred\t['a', 'p', 'a', 'a']\n",
      "\n",
      "\n",
      "Input\t['ந', 'ெ', 'ற', '்', 'ற', 'ி']\n",
      "GT\t['n', 'e', 't', 'r', 'i']\n",
      "pred\t['n', 'e', 'a', 'a', 'a', 'i']\n",
      "\n",
      "\n",
      "Input\t['க', 'ா', 'ர', 'ண', 'த', '்', 'த', 'ை', 'ப', '்']\n",
      "GT\t['k', 'a', 'a', 'r', 'a', 'n', 'a', 't', 't', 'a', 'i', 'p']\n",
      "pred\t['k', 'a', 'a', 'a', 't', 'a', 't', 'a', 'p', 'a']\n",
      "\n",
      "\n",
      "Input\t['வ', 'ா', 'க', 'ன']\n",
      "GT\t['v', 'a', 'a', 'g', 'a', 'n', 'a']\n",
      "pred\t['v', 'a', 'a', 'a']\n",
      "\n",
      "\n",
      "\n",
      "Test set: Average loss: 0.9550, Accuracy: 181889/239760 (76%)\n",
      "\n"
     ]
    },
    {
     "name": "stderr",
     "output_type": "stream",
     "text": [
      "  1%|▏         | 1/76 [00:00<00:12,  6.14it/s]"
     ]
    },
    {
     "name": "stdout",
     "output_type": "stream",
     "text": [
      "Train Epoch: 7 [0/38723 (0%)]\tLoss: 0.924685\n"
     ]
    },
    {
     "name": "stderr",
     "output_type": "stream",
     "text": [
      " 16%|█▌        | 12/76 [00:02<00:11,  5.82it/s]"
     ]
    },
    {
     "name": "stdout",
     "output_type": "stream",
     "text": [
      "Train Epoch: 7 [5120/38723 (13%)]\tLoss: 0.901183\n"
     ]
    },
    {
     "name": "stderr",
     "output_type": "stream",
     "text": [
      " 29%|██▉       | 22/76 [00:03<00:09,  5.58it/s]"
     ]
    },
    {
     "name": "stdout",
     "output_type": "stream",
     "text": [
      "Train Epoch: 7 [10240/38723 (26%)]\tLoss: 1.108294\n"
     ]
    },
    {
     "name": "stderr",
     "output_type": "stream",
     "text": [
      " 42%|████▏     | 32/76 [00:05<00:07,  5.74it/s]"
     ]
    },
    {
     "name": "stdout",
     "output_type": "stream",
     "text": [
      "Train Epoch: 7 [15360/38723 (39%)]\tLoss: 1.097198\n"
     ]
    },
    {
     "name": "stderr",
     "output_type": "stream",
     "text": [
      " 55%|█████▌    | 42/76 [00:07<00:05,  5.80it/s]"
     ]
    },
    {
     "name": "stdout",
     "output_type": "stream",
     "text": [
      "Train Epoch: 7 [20480/38723 (53%)]\tLoss: 1.101869\n"
     ]
    },
    {
     "name": "stderr",
     "output_type": "stream",
     "text": [
      " 68%|██████▊   | 52/76 [00:09<00:04,  5.84it/s]"
     ]
    },
    {
     "name": "stdout",
     "output_type": "stream",
     "text": [
      "Train Epoch: 7 [25600/38723 (66%)]\tLoss: 0.966729\n"
     ]
    },
    {
     "name": "stderr",
     "output_type": "stream",
     "text": [
      " 82%|████████▏ | 62/76 [00:10<00:02,  5.86it/s]"
     ]
    },
    {
     "name": "stdout",
     "output_type": "stream",
     "text": [
      "Train Epoch: 7 [30720/38723 (79%)]\tLoss: 1.002424\n"
     ]
    },
    {
     "name": "stderr",
     "output_type": "stream",
     "text": [
      " 95%|█████████▍| 72/76 [00:12<00:00,  5.83it/s]"
     ]
    },
    {
     "name": "stdout",
     "output_type": "stream",
     "text": [
      "Train Epoch: 7 [35840/38723 (92%)]\tLoss: 1.073414\n"
     ]
    },
    {
     "name": "stderr",
     "output_type": "stream",
     "text": [
      "100%|██████████| 76/76 [00:13<00:00,  5.80it/s]\n"
     ]
    },
    {
     "name": "stdout",
     "output_type": "stream",
     "text": [
      "Input\t['ஃ', 'ப', 'ா', 'ர', '்', 'ம', '்']\n",
      "GT\t['f', 'a', 'r', 'm']\n",
      "pred\t['a', 'p', 'a', 'a']\n",
      "\n",
      "\n",
      "Input\t['ந', 'ெ', 'ற', '்', 'ற', 'ி']\n",
      "GT\t['n', 'e', 't', 'r', 'i']\n",
      "pred\t['n', 'e', 'a', 'a', 'a', 'i']\n",
      "\n",
      "\n",
      "Input\t['க', 'ா', 'ர', 'ண', 'த', '்', 'த', 'ை', 'ப', '்']\n",
      "GT\t['k', 'a', 'a', 'r', 'a', 'n', 'a', 't', 't', 'a', 'i', 'p']\n",
      "pred\t['k', 'a', 'a', 'a', 't', 'a', 't', 'a', 'p', 'a']\n",
      "\n",
      "\n",
      "Input\t['வ', 'ா', 'க', 'ன']\n",
      "GT\t['v', 'a', 'a', 'g', 'a', 'n', 'a']\n",
      "pred\t['v', 'a', 'a', 'a']\n",
      "\n",
      "\n",
      "\n",
      "Test set: Average loss: 0.9445, Accuracy: 182024/239760 (76%)\n",
      "\n"
     ]
    },
    {
     "name": "stderr",
     "output_type": "stream",
     "text": [
      "  1%|▏         | 1/76 [00:00<00:12,  5.90it/s]"
     ]
    },
    {
     "name": "stdout",
     "output_type": "stream",
     "text": [
      "Train Epoch: 8 [0/38723 (0%)]\tLoss: 0.914026\n"
     ]
    },
    {
     "name": "stderr",
     "output_type": "stream",
     "text": [
      " 16%|█▌        | 12/76 [00:02<00:10,  5.85it/s]"
     ]
    },
    {
     "name": "stdout",
     "output_type": "stream",
     "text": [
      "Train Epoch: 8 [5120/38723 (13%)]\tLoss: 0.879341\n"
     ]
    },
    {
     "name": "stderr",
     "output_type": "stream",
     "text": [
      " 29%|██▉       | 22/76 [00:03<00:09,  5.81it/s]"
     ]
    },
    {
     "name": "stdout",
     "output_type": "stream",
     "text": [
      "Train Epoch: 8 [10240/38723 (26%)]\tLoss: 1.098824\n"
     ]
    },
    {
     "name": "stderr",
     "output_type": "stream",
     "text": [
      " 42%|████▏     | 32/76 [00:05<00:07,  5.86it/s]"
     ]
    },
    {
     "name": "stdout",
     "output_type": "stream",
     "text": [
      "Train Epoch: 8 [15360/38723 (39%)]\tLoss: 1.068435\n"
     ]
    },
    {
     "name": "stderr",
     "output_type": "stream",
     "text": [
      " 55%|█████▌    | 42/76 [00:07<00:05,  5.78it/s]"
     ]
    },
    {
     "name": "stdout",
     "output_type": "stream",
     "text": [
      "Train Epoch: 8 [20480/38723 (53%)]\tLoss: 1.109509\n"
     ]
    },
    {
     "name": "stderr",
     "output_type": "stream",
     "text": [
      " 68%|██████▊   | 52/76 [00:08<00:04,  5.59it/s]"
     ]
    },
    {
     "name": "stdout",
     "output_type": "stream",
     "text": [
      "Train Epoch: 8 [25600/38723 (66%)]\tLoss: 0.978134\n"
     ]
    },
    {
     "name": "stderr",
     "output_type": "stream",
     "text": [
      " 82%|████████▏ | 62/76 [00:10<00:02,  5.65it/s]"
     ]
    },
    {
     "name": "stdout",
     "output_type": "stream",
     "text": [
      "Train Epoch: 8 [30720/38723 (79%)]\tLoss: 0.980548\n"
     ]
    },
    {
     "name": "stderr",
     "output_type": "stream",
     "text": [
      " 95%|█████████▍| 72/76 [00:12<00:00,  5.74it/s]"
     ]
    },
    {
     "name": "stdout",
     "output_type": "stream",
     "text": [
      "Train Epoch: 8 [35840/38723 (92%)]\tLoss: 1.082037\n"
     ]
    },
    {
     "name": "stderr",
     "output_type": "stream",
     "text": [
      "100%|██████████| 76/76 [00:13<00:00,  5.73it/s]\n"
     ]
    },
    {
     "name": "stdout",
     "output_type": "stream",
     "text": [
      "Input\t['ஃ', 'ப', 'ா', 'ர', '்', 'ம', '்']\n",
      "GT\t['f', 'a', 'r', 'm']\n",
      "pred\t['a', 'p', 'a', 'a']\n",
      "\n",
      "\n",
      "Input\t['ந', 'ெ', 'ற', '்', 'ற', 'ி']\n",
      "GT\t['n', 'e', 't', 'r', 'i']\n",
      "pred\t['n', 'e', 'a', 'a', 'a', 'i']\n",
      "\n",
      "\n",
      "Input\t['க', 'ா', 'ர', 'ண', 'த', '்', 'த', 'ை', 'ப', '்']\n",
      "GT\t['k', 'a', 'a', 'r', 'a', 'n', 'a', 't', 't', 'a', 'i', 'p']\n",
      "pred\t['k', 'a', 'a', 'a', 't', 'a', 't', 'a', 'p', 'a']\n",
      "\n",
      "\n",
      "Input\t['வ', 'ா', 'க', 'ன']\n",
      "GT\t['v', 'a', 'a', 'g', 'a', 'n', 'a']\n",
      "pred\t['v', 'a', 'a', 'a']\n",
      "\n",
      "\n",
      "\n",
      "Test set: Average loss: 0.9374, Accuracy: 182559/239760 (76%)\n",
      "\n"
     ]
    },
    {
     "name": "stderr",
     "output_type": "stream",
     "text": [
      "  1%|▏         | 1/76 [00:00<00:12,  6.16it/s]"
     ]
    },
    {
     "name": "stdout",
     "output_type": "stream",
     "text": [
      "Train Epoch: 9 [0/38723 (0%)]\tLoss: 0.907739\n"
     ]
    },
    {
     "name": "stderr",
     "output_type": "stream",
     "text": [
      " 16%|█▌        | 12/76 [00:02<00:11,  5.71it/s]"
     ]
    },
    {
     "name": "stdout",
     "output_type": "stream",
     "text": [
      "Train Epoch: 9 [5120/38723 (13%)]\tLoss: 0.873377\n"
     ]
    },
    {
     "name": "stderr",
     "output_type": "stream",
     "text": [
      " 29%|██▉       | 22/76 [00:03<00:09,  5.71it/s]"
     ]
    },
    {
     "name": "stdout",
     "output_type": "stream",
     "text": [
      "Train Epoch: 9 [10240/38723 (26%)]\tLoss: 1.100026\n"
     ]
    },
    {
     "name": "stderr",
     "output_type": "stream",
     "text": [
      " 42%|████▏     | 32/76 [00:05<00:07,  5.82it/s]"
     ]
    },
    {
     "name": "stdout",
     "output_type": "stream",
     "text": [
      "Train Epoch: 9 [15360/38723 (39%)]\tLoss: 1.070681\n"
     ]
    },
    {
     "name": "stderr",
     "output_type": "stream",
     "text": [
      " 55%|█████▌    | 42/76 [00:07<00:05,  5.72it/s]"
     ]
    },
    {
     "name": "stdout",
     "output_type": "stream",
     "text": [
      "Train Epoch: 9 [20480/38723 (53%)]\tLoss: 1.128586\n"
     ]
    },
    {
     "name": "stderr",
     "output_type": "stream",
     "text": [
      " 68%|██████▊   | 52/76 [00:09<00:04,  5.67it/s]"
     ]
    },
    {
     "name": "stdout",
     "output_type": "stream",
     "text": [
      "Train Epoch: 9 [25600/38723 (66%)]\tLoss: 0.993135\n"
     ]
    },
    {
     "name": "stderr",
     "output_type": "stream",
     "text": [
      " 82%|████████▏ | 62/76 [00:10<00:02,  5.73it/s]"
     ]
    },
    {
     "name": "stdout",
     "output_type": "stream",
     "text": [
      "Train Epoch: 9 [30720/38723 (79%)]\tLoss: 1.018558\n"
     ]
    },
    {
     "name": "stderr",
     "output_type": "stream",
     "text": [
      " 95%|█████████▍| 72/76 [00:12<00:00,  5.56it/s]"
     ]
    },
    {
     "name": "stdout",
     "output_type": "stream",
     "text": [
      "Train Epoch: 9 [35840/38723 (92%)]\tLoss: 1.097574\n"
     ]
    },
    {
     "name": "stderr",
     "output_type": "stream",
     "text": [
      "100%|██████████| 76/76 [00:13<00:00,  5.74it/s]\n"
     ]
    },
    {
     "name": "stdout",
     "output_type": "stream",
     "text": [
      "Input\t['ஃ', 'ப', 'ா', 'ர', '்', 'ம', '்']\n",
      "GT\t['f', 'a', 'r', 'm']\n",
      "pred\t['a', 'p', 'a', 'a']\n",
      "\n",
      "\n",
      "Input\t['ந', 'ெ', 'ற', '்', 'ற', 'ி']\n",
      "GT\t['n', 'e', 't', 'r', 'i']\n",
      "pred\t['n', 'e', 'a', 'a', 'a', 'a']\n",
      "\n",
      "\n",
      "Input\t['க', 'ா', 'ர', 'ண', 'த', '்', 'த', 'ை', 'ப', '்']\n",
      "GT\t['k', 'a', 'a', 'r', 'a', 'n', 'a', 't', 't', 'a', 'i', 'p']\n",
      "pred\t['k', 'a', 'a', 'a', 't', 'a', 't', 'a', 'p', 'a']\n",
      "\n",
      "\n",
      "Input\t['வ', 'ா', 'க', 'ன']\n",
      "GT\t['v', 'a', 'a', 'g', 'a', 'n', 'a']\n",
      "pred\t['v', 'a', 'a', 'a']\n",
      "\n",
      "\n",
      "\n",
      "Test set: Average loss: 0.9553, Accuracy: 182561/239760 (76%)\n",
      "\n"
     ]
    },
    {
     "name": "stderr",
     "output_type": "stream",
     "text": [
      "  1%|▏         | 1/76 [00:00<00:12,  5.86it/s]"
     ]
    },
    {
     "name": "stdout",
     "output_type": "stream",
     "text": [
      "Train Epoch: 10 [0/38723 (0%)]\tLoss: 0.919423\n"
     ]
    },
    {
     "name": "stderr",
     "output_type": "stream",
     "text": [
      " 16%|█▌        | 12/76 [00:02<00:11,  5.73it/s]"
     ]
    },
    {
     "name": "stdout",
     "output_type": "stream",
     "text": [
      "Train Epoch: 10 [5120/38723 (13%)]\tLoss: 0.894017\n"
     ]
    },
    {
     "name": "stderr",
     "output_type": "stream",
     "text": [
      " 29%|██▉       | 22/76 [00:03<00:09,  5.74it/s]"
     ]
    },
    {
     "name": "stdout",
     "output_type": "stream",
     "text": [
      "Train Epoch: 10 [10240/38723 (26%)]\tLoss: 1.121158\n"
     ]
    },
    {
     "name": "stderr",
     "output_type": "stream",
     "text": [
      " 42%|████▏     | 32/76 [00:05<00:07,  5.73it/s]"
     ]
    },
    {
     "name": "stdout",
     "output_type": "stream",
     "text": [
      "Train Epoch: 10 [15360/38723 (39%)]\tLoss: 1.063310\n"
     ]
    },
    {
     "name": "stderr",
     "output_type": "stream",
     "text": [
      " 55%|█████▌    | 42/76 [00:07<00:06,  5.49it/s]"
     ]
    },
    {
     "name": "stdout",
     "output_type": "stream",
     "text": [
      "Train Epoch: 10 [20480/38723 (53%)]\tLoss: 1.111560\n"
     ]
    },
    {
     "name": "stderr",
     "output_type": "stream",
     "text": [
      " 68%|██████▊   | 52/76 [00:09<00:04,  5.71it/s]"
     ]
    },
    {
     "name": "stdout",
     "output_type": "stream",
     "text": [
      "Train Epoch: 10 [25600/38723 (66%)]\tLoss: 0.971832\n"
     ]
    },
    {
     "name": "stderr",
     "output_type": "stream",
     "text": [
      " 82%|████████▏ | 62/76 [00:10<00:02,  5.73it/s]"
     ]
    },
    {
     "name": "stdout",
     "output_type": "stream",
     "text": [
      "Train Epoch: 10 [30720/38723 (79%)]\tLoss: 0.984010\n"
     ]
    },
    {
     "name": "stderr",
     "output_type": "stream",
     "text": [
      " 95%|█████████▍| 72/76 [00:12<00:00,  5.72it/s]"
     ]
    },
    {
     "name": "stdout",
     "output_type": "stream",
     "text": [
      "Train Epoch: 10 [35840/38723 (92%)]\tLoss: 1.074589\n"
     ]
    },
    {
     "name": "stderr",
     "output_type": "stream",
     "text": [
      "100%|██████████| 76/76 [00:13<00:00,  5.74it/s]\n"
     ]
    },
    {
     "name": "stdout",
     "output_type": "stream",
     "text": [
      "Input\t['ஃ', 'ப', 'ா', 'ர', '்', 'ம', '்']\n",
      "GT\t['f', 'a', 'r', 'm']\n",
      "pred\t['a', 'p', 'a', 'a']\n",
      "\n",
      "\n",
      "Input\t['ந', 'ெ', 'ற', '்', 'ற', 'ி']\n",
      "GT\t['n', 'e', 't', 'r', 'i']\n",
      "pred\t['n', 'e', 'a', 'a', 'a', 'i']\n",
      "\n",
      "\n",
      "Input\t['க', 'ா', 'ர', 'ண', 'த', '்', 'த', 'ை', 'ப', '்']\n",
      "GT\t['k', 'a', 'a', 'r', 'a', 'n', 'a', 't', 't', 'a', 'i', 'p']\n",
      "pred\t['k', 'a', 'a', 'a', 't', 'a', 't', 'a', 'p', 'a']\n",
      "\n",
      "\n",
      "Input\t['வ', 'ா', 'க', 'ன']\n",
      "GT\t['v', 'a', 'a', 'g', 'a', 'n', 'a']\n",
      "pred\t['v', 'a', 'a', 'a']\n",
      "\n",
      "\n",
      "\n",
      "Test set: Average loss: 0.9330, Accuracy: 182651/239760 (76%)\n",
      "\n"
     ]
    },
    {
     "name": "stderr",
     "output_type": "stream",
     "text": [
      "  1%|▏         | 1/76 [00:00<00:12,  6.16it/s]"
     ]
    },
    {
     "name": "stdout",
     "output_type": "stream",
     "text": [
      "Train Epoch: 11 [0/38723 (0%)]\tLoss: 0.900274\n"
     ]
    },
    {
     "name": "stderr",
     "output_type": "stream",
     "text": [
      " 16%|█▌        | 12/76 [00:02<00:11,  5.73it/s]"
     ]
    },
    {
     "name": "stdout",
     "output_type": "stream",
     "text": [
      "Train Epoch: 11 [5120/38723 (13%)]\tLoss: 0.863886\n"
     ]
    },
    {
     "name": "stderr",
     "output_type": "stream",
     "text": [
      " 29%|██▉       | 22/76 [00:03<00:09,  5.76it/s]"
     ]
    },
    {
     "name": "stdout",
     "output_type": "stream",
     "text": [
      "Train Epoch: 11 [10240/38723 (26%)]\tLoss: 1.102604\n"
     ]
    },
    {
     "name": "stderr",
     "output_type": "stream",
     "text": [
      " 42%|████▏     | 32/76 [00:05<00:07,  5.77it/s]"
     ]
    },
    {
     "name": "stdout",
     "output_type": "stream",
     "text": [
      "Train Epoch: 11 [15360/38723 (39%)]\tLoss: 1.049284\n"
     ]
    },
    {
     "name": "stderr",
     "output_type": "stream",
     "text": [
      " 55%|█████▌    | 42/76 [00:07<00:05,  5.74it/s]"
     ]
    },
    {
     "name": "stdout",
     "output_type": "stream",
     "text": [
      "Train Epoch: 11 [20480/38723 (53%)]\tLoss: 1.092913\n"
     ]
    },
    {
     "name": "stderr",
     "output_type": "stream",
     "text": [
      " 68%|██████▊   | 52/76 [00:09<00:04,  5.74it/s]"
     ]
    },
    {
     "name": "stdout",
     "output_type": "stream",
     "text": [
      "Train Epoch: 11 [25600/38723 (66%)]\tLoss: 0.965333\n"
     ]
    },
    {
     "name": "stderr",
     "output_type": "stream",
     "text": [
      " 82%|████████▏ | 62/76 [00:10<00:02,  5.79it/s]"
     ]
    },
    {
     "name": "stdout",
     "output_type": "stream",
     "text": [
      "Train Epoch: 11 [30720/38723 (79%)]\tLoss: 0.967812\n"
     ]
    },
    {
     "name": "stderr",
     "output_type": "stream",
     "text": [
      " 95%|█████████▍| 72/76 [00:12<00:00,  5.64it/s]"
     ]
    },
    {
     "name": "stdout",
     "output_type": "stream",
     "text": [
      "Train Epoch: 11 [35840/38723 (92%)]\tLoss: 1.073393\n"
     ]
    },
    {
     "name": "stderr",
     "output_type": "stream",
     "text": [
      "100%|██████████| 76/76 [00:13<00:00,  5.76it/s]\n"
     ]
    },
    {
     "name": "stdout",
     "output_type": "stream",
     "text": [
      "Input\t['ஃ', 'ப', 'ா', 'ர', '்', 'ம', '்']\n",
      "GT\t['f', 'a', 'r', 'm']\n",
      "pred\t['a', 'p', 'a', 'a']\n",
      "\n",
      "\n",
      "Input\t['ந', 'ெ', 'ற', '்', 'ற', 'ி']\n",
      "GT\t['n', 'e', 't', 'r', 'i']\n",
      "pred\t['n', 'e', 'a', 'a', 'a', 'i']\n",
      "\n",
      "\n",
      "Input\t['க', 'ா', 'ர', 'ண', 'த', '்', 'த', 'ை', 'ப', '்']\n",
      "GT\t['k', 'a', 'a', 'r', 'a', 'n', 'a', 't', 't', 'a', 'i', 'p']\n",
      "pred\t['k', 'a', 'a', 'a', 't', 'a', 't', 'a', 'p', 'a']\n",
      "\n",
      "\n",
      "Input\t['வ', 'ா', 'க', 'ன']\n",
      "GT\t['v', 'a', 'a', 'g', 'a', 'n', 'a']\n",
      "pred\t['v', 'a', 'a', 'a']\n",
      "\n",
      "\n",
      "\n",
      "Test set: Average loss: 0.9254, Accuracy: 182582/239760 (76%)\n",
      "\n"
     ]
    },
    {
     "name": "stderr",
     "output_type": "stream",
     "text": [
      "  1%|▏         | 1/76 [00:00<00:12,  6.17it/s]"
     ]
    },
    {
     "name": "stdout",
     "output_type": "stream",
     "text": [
      "Train Epoch: 12 [0/38723 (0%)]\tLoss: 0.892261\n"
     ]
    },
    {
     "name": "stderr",
     "output_type": "stream",
     "text": [
      " 16%|█▌        | 12/76 [00:02<00:11,  5.71it/s]"
     ]
    },
    {
     "name": "stdout",
     "output_type": "stream",
     "text": [
      "Train Epoch: 12 [5120/38723 (13%)]\tLoss: 0.854530\n"
     ]
    },
    {
     "name": "stderr",
     "output_type": "stream",
     "text": [
      " 29%|██▉       | 22/76 [00:03<00:09,  5.76it/s]"
     ]
    },
    {
     "name": "stdout",
     "output_type": "stream",
     "text": [
      "Train Epoch: 12 [10240/38723 (26%)]\tLoss: 1.096582\n"
     ]
    },
    {
     "name": "stderr",
     "output_type": "stream",
     "text": [
      " 42%|████▏     | 32/76 [00:05<00:07,  5.76it/s]"
     ]
    },
    {
     "name": "stdout",
     "output_type": "stream",
     "text": [
      "Train Epoch: 12 [15360/38723 (39%)]\tLoss: 1.126277\n"
     ]
    },
    {
     "name": "stderr",
     "output_type": "stream",
     "text": [
      " 55%|█████▌    | 42/76 [00:07<00:05,  5.78it/s]"
     ]
    },
    {
     "name": "stdout",
     "output_type": "stream",
     "text": [
      "Train Epoch: 12 [20480/38723 (53%)]\tLoss: 1.102459\n"
     ]
    },
    {
     "name": "stderr",
     "output_type": "stream",
     "text": [
      " 68%|██████▊   | 52/76 [00:09<00:04,  5.61it/s]"
     ]
    },
    {
     "name": "stdout",
     "output_type": "stream",
     "text": [
      "Train Epoch: 12 [25600/38723 (66%)]\tLoss: 0.955027\n"
     ]
    },
    {
     "name": "stderr",
     "output_type": "stream",
     "text": [
      " 82%|████████▏ | 62/76 [00:10<00:02,  5.71it/s]"
     ]
    },
    {
     "name": "stdout",
     "output_type": "stream",
     "text": [
      "Train Epoch: 12 [30720/38723 (79%)]\tLoss: 0.981773\n"
     ]
    },
    {
     "name": "stderr",
     "output_type": "stream",
     "text": [
      " 95%|█████████▍| 72/76 [00:12<00:00,  5.78it/s]"
     ]
    },
    {
     "name": "stdout",
     "output_type": "stream",
     "text": [
      "Train Epoch: 12 [35840/38723 (92%)]\tLoss: 1.062807\n"
     ]
    },
    {
     "name": "stderr",
     "output_type": "stream",
     "text": [
      "100%|██████████| 76/76 [00:13<00:00,  5.76it/s]\n"
     ]
    },
    {
     "name": "stdout",
     "output_type": "stream",
     "text": [
      "Input\t['ஃ', 'ப', 'ா', 'ர', '்', 'ம', '்']\n",
      "GT\t['f', 'a', 'r', 'm']\n",
      "pred\t[]\n",
      "\n",
      "\n",
      "Input\t['ந', 'ெ', 'ற', '்', 'ற', 'ி']\n",
      "GT\t['n', 'e', 't', 'r', 'i']\n",
      "pred\t['n', 'e', 'a', 'a', 'a', 'i']\n",
      "\n",
      "\n",
      "Input\t['க', 'ா', 'ர', 'ண', 'த', '்', 'த', 'ை', 'ப', '்']\n",
      "GT\t['k', 'a', 'a', 'r', 'a', 'n', 'a', 't', 't', 'a', 'i', 'p']\n",
      "pred\t['k', 'a', 'a', 'a', 't', 'a', 't', 'a', 'p', 'a']\n",
      "\n",
      "\n",
      "Input\t['வ', 'ா', 'க', 'ன']\n",
      "GT\t['v', 'a', 'a', 'g', 'a', 'n', 'a']\n",
      "pred\t['v', 'a', 'a', 'a']\n",
      "\n",
      "\n",
      "\n",
      "Test set: Average loss: 0.9219, Accuracy: 182596/239760 (76%)\n",
      "\n"
     ]
    },
    {
     "name": "stderr",
     "output_type": "stream",
     "text": [
      "  1%|▏         | 1/76 [00:00<00:12,  6.01it/s]"
     ]
    },
    {
     "name": "stdout",
     "output_type": "stream",
     "text": [
      "Train Epoch: 13 [0/38723 (0%)]\tLoss: 0.887791\n"
     ]
    },
    {
     "name": "stderr",
     "output_type": "stream",
     "text": [
      " 16%|█▌        | 12/76 [00:02<00:10,  5.86it/s]"
     ]
    },
    {
     "name": "stdout",
     "output_type": "stream",
     "text": [
      "Train Epoch: 13 [5120/38723 (13%)]\tLoss: 0.848073\n"
     ]
    },
    {
     "name": "stderr",
     "output_type": "stream",
     "text": [
      " 29%|██▉       | 22/76 [00:03<00:09,  5.77it/s]"
     ]
    },
    {
     "name": "stdout",
     "output_type": "stream",
     "text": [
      "Train Epoch: 13 [10240/38723 (26%)]\tLoss: 1.185693\n"
     ]
    },
    {
     "name": "stderr",
     "output_type": "stream",
     "text": [
      " 42%|████▏     | 32/76 [00:05<00:07,  5.79it/s]"
     ]
    },
    {
     "name": "stdout",
     "output_type": "stream",
     "text": [
      "Train Epoch: 13 [15360/38723 (39%)]\tLoss: 1.083889\n"
     ]
    },
    {
     "name": "stderr",
     "output_type": "stream",
     "text": [
      " 55%|█████▌    | 42/76 [00:07<00:05,  5.81it/s]"
     ]
    },
    {
     "name": "stdout",
     "output_type": "stream",
     "text": [
      "Train Epoch: 13 [20480/38723 (53%)]\tLoss: 1.113502\n"
     ]
    },
    {
     "name": "stderr",
     "output_type": "stream",
     "text": [
      " 68%|██████▊   | 52/76 [00:09<00:04,  5.81it/s]"
     ]
    },
    {
     "name": "stdout",
     "output_type": "stream",
     "text": [
      "Train Epoch: 13 [25600/38723 (66%)]\tLoss: 0.968198\n"
     ]
    },
    {
     "name": "stderr",
     "output_type": "stream",
     "text": [
      " 82%|████████▏ | 62/76 [00:10<00:02,  5.77it/s]"
     ]
    },
    {
     "name": "stdout",
     "output_type": "stream",
     "text": [
      "Train Epoch: 13 [30720/38723 (79%)]\tLoss: 0.982905\n"
     ]
    },
    {
     "name": "stderr",
     "output_type": "stream",
     "text": [
      " 95%|█████████▍| 72/76 [00:12<00:00,  5.81it/s]"
     ]
    },
    {
     "name": "stdout",
     "output_type": "stream",
     "text": [
      "Train Epoch: 13 [35840/38723 (92%)]\tLoss: 1.076944\n"
     ]
    },
    {
     "name": "stderr",
     "output_type": "stream",
     "text": [
      "100%|██████████| 76/76 [00:13<00:00,  5.80it/s]\n"
     ]
    },
    {
     "name": "stdout",
     "output_type": "stream",
     "text": [
      "Input\t['ஃ', 'ப', 'ா', 'ர', '்', 'ம', '்']\n",
      "GT\t['f', 'a', 'r', 'm']\n",
      "pred\t['a', 'p', 'a', 'a']\n",
      "\n",
      "\n",
      "Input\t['ந', 'ெ', 'ற', '்', 'ற', 'ி']\n",
      "GT\t['n', 'e', 't', 'r', 'i']\n",
      "pred\t['n', 'e', 'a', 'a', 'a', 'i']\n",
      "\n",
      "\n",
      "Input\t['க', 'ா', 'ர', 'ண', 'த', '்', 'த', 'ை', 'ப', '்']\n",
      "GT\t['k', 'a', 'a', 'r', 'a', 'n', 'a', 't', 't', 'a', 'i', 'p']\n",
      "pred\t['k', 'a', 'a', 'a', 't', 'a', 't', 'a', 'p', 'a']\n",
      "\n",
      "\n",
      "Input\t['வ', 'ா', 'க', 'ன']\n",
      "GT\t['v', 'a', 'a', 'g', 'a', 'n', 'a']\n",
      "pred\t['v', 'a', 'a', 'a']\n",
      "\n",
      "\n",
      "\n",
      "Test set: Average loss: 0.9306, Accuracy: 182584/239760 (76%)\n",
      "\n"
     ]
    },
    {
     "name": "stderr",
     "output_type": "stream",
     "text": [
      "  1%|▏         | 1/76 [00:00<00:12,  5.95it/s]"
     ]
    },
    {
     "name": "stdout",
     "output_type": "stream",
     "text": [
      "Train Epoch: 14 [0/38723 (0%)]\tLoss: 0.896345\n"
     ]
    },
    {
     "name": "stderr",
     "output_type": "stream",
     "text": [
      " 16%|█▌        | 12/76 [00:02<00:11,  5.81it/s]"
     ]
    },
    {
     "name": "stdout",
     "output_type": "stream",
     "text": [
      "Train Epoch: 14 [5120/38723 (13%)]\tLoss: 0.854659\n"
     ]
    },
    {
     "name": "stderr",
     "output_type": "stream",
     "text": [
      " 29%|██▉       | 22/76 [00:03<00:09,  5.81it/s]"
     ]
    },
    {
     "name": "stdout",
     "output_type": "stream",
     "text": [
      "Train Epoch: 14 [10240/38723 (26%)]\tLoss: 1.101484\n"
     ]
    },
    {
     "name": "stderr",
     "output_type": "stream",
     "text": [
      " 42%|████▏     | 32/76 [00:05<00:07,  5.77it/s]"
     ]
    },
    {
     "name": "stdout",
     "output_type": "stream",
     "text": [
      "Train Epoch: 14 [15360/38723 (39%)]\tLoss: 1.038666\n"
     ]
    },
    {
     "name": "stderr",
     "output_type": "stream",
     "text": [
      " 55%|█████▌    | 42/76 [00:07<00:05,  5.84it/s]"
     ]
    },
    {
     "name": "stdout",
     "output_type": "stream",
     "text": [
      "Train Epoch: 14 [20480/38723 (53%)]\tLoss: 1.086836\n"
     ]
    },
    {
     "name": "stderr",
     "output_type": "stream",
     "text": [
      " 68%|██████▊   | 52/76 [00:08<00:04,  5.82it/s]"
     ]
    },
    {
     "name": "stdout",
     "output_type": "stream",
     "text": [
      "Train Epoch: 14 [25600/38723 (66%)]\tLoss: 0.963980\n"
     ]
    },
    {
     "name": "stderr",
     "output_type": "stream",
     "text": [
      " 82%|████████▏ | 62/76 [00:10<00:02,  5.82it/s]"
     ]
    },
    {
     "name": "stdout",
     "output_type": "stream",
     "text": [
      "Train Epoch: 14 [30720/38723 (79%)]\tLoss: 0.970250\n"
     ]
    },
    {
     "name": "stderr",
     "output_type": "stream",
     "text": [
      " 95%|█████████▍| 72/76 [00:12<00:00,  5.86it/s]"
     ]
    },
    {
     "name": "stdout",
     "output_type": "stream",
     "text": [
      "Train Epoch: 14 [35840/38723 (92%)]\tLoss: 1.069125\n"
     ]
    },
    {
     "name": "stderr",
     "output_type": "stream",
     "text": [
      "100%|██████████| 76/76 [00:13<00:00,  5.84it/s]\n"
     ]
    },
    {
     "name": "stdout",
     "output_type": "stream",
     "text": [
      "Input\t['ஃ', 'ப', 'ா', 'ர', '்', 'ம', '்']\n",
      "GT\t['f', 'a', 'r', 'm']\n",
      "pred\t[]\n",
      "\n",
      "\n",
      "Input\t['ந', 'ெ', 'ற', '்', 'ற', 'ி']\n",
      "GT\t['n', 'e', 't', 'r', 'i']\n",
      "pred\t['n', 'e', 'a', 'a', 'a', 'i']\n",
      "\n",
      "\n",
      "Input\t['க', 'ா', 'ர', 'ண', 'த', '்', 'த', 'ை', 'ப', '்']\n",
      "GT\t['k', 'a', 'a', 'r', 'a', 'n', 'a', 't', 't', 'a', 'i', 'p']\n",
      "pred\t['k', 'a', 'r', 'a', 't', 'a', 't', 'a', 'p', 'a']\n",
      "\n",
      "\n",
      "Input\t['வ', 'ா', 'க', 'ன']\n",
      "GT\t['v', 'a', 'a', 'g', 'a', 'n', 'a']\n",
      "pred\t['v', 'a', 'a', 'a']\n",
      "\n",
      "\n",
      "\n",
      "Test set: Average loss: 0.9237, Accuracy: 182673/239760 (76%)\n",
      "\n"
     ]
    },
    {
     "name": "stderr",
     "output_type": "stream",
     "text": [
      "  3%|▎         | 2/76 [00:00<00:14,  5.12it/s]"
     ]
    },
    {
     "name": "stdout",
     "output_type": "stream",
     "text": [
      "Train Epoch: 15 [0/38723 (0%)]\tLoss: 0.888861\n"
     ]
    },
    {
     "name": "stderr",
     "output_type": "stream",
     "text": [
      " 16%|█▌        | 12/76 [00:02<00:11,  5.80it/s]"
     ]
    },
    {
     "name": "stdout",
     "output_type": "stream",
     "text": [
      "Train Epoch: 15 [5120/38723 (13%)]\tLoss: 0.844047\n"
     ]
    },
    {
     "name": "stderr",
     "output_type": "stream",
     "text": [
      " 29%|██▉       | 22/76 [00:03<00:09,  5.82it/s]"
     ]
    },
    {
     "name": "stdout",
     "output_type": "stream",
     "text": [
      "Train Epoch: 15 [10240/38723 (26%)]\tLoss: 1.095181\n"
     ]
    },
    {
     "name": "stderr",
     "output_type": "stream",
     "text": [
      " 42%|████▏     | 32/76 [00:05<00:07,  5.55it/s]"
     ]
    },
    {
     "name": "stdout",
     "output_type": "stream",
     "text": [
      "Train Epoch: 15 [15360/38723 (39%)]\tLoss: 1.035096\n"
     ]
    },
    {
     "name": "stderr",
     "output_type": "stream",
     "text": [
      " 55%|█████▌    | 42/76 [00:07<00:05,  5.78it/s]"
     ]
    },
    {
     "name": "stdout",
     "output_type": "stream",
     "text": [
      "Train Epoch: 15 [20480/38723 (53%)]\tLoss: 1.089581\n"
     ]
    },
    {
     "name": "stderr",
     "output_type": "stream",
     "text": [
      " 67%|██████▋   | 51/76 [00:08<00:04,  5.65it/s]"
     ]
    },
    {
     "name": "stdout",
     "output_type": "stream",
     "text": [
      "Train Epoch: 15 [25600/38723 (66%)]\tLoss: 0.963671\n"
     ]
    },
    {
     "name": "stderr",
     "output_type": "stream",
     "text": [
      " 82%|████████▏ | 62/76 [00:10<00:02,  5.78it/s]"
     ]
    },
    {
     "name": "stdout",
     "output_type": "stream",
     "text": [
      "Train Epoch: 15 [30720/38723 (79%)]\tLoss: 0.961777\n"
     ]
    },
    {
     "name": "stderr",
     "output_type": "stream",
     "text": [
      " 95%|█████████▍| 72/76 [00:12<00:00,  5.80it/s]"
     ]
    },
    {
     "name": "stdout",
     "output_type": "stream",
     "text": [
      "Train Epoch: 15 [35840/38723 (92%)]\tLoss: 1.065432\n"
     ]
    },
    {
     "name": "stderr",
     "output_type": "stream",
     "text": [
      "100%|██████████| 76/76 [00:13<00:00,  5.71it/s]\n"
     ]
    },
    {
     "name": "stdout",
     "output_type": "stream",
     "text": [
      "Input\t['ஃ', 'ப', 'ா', 'ர', '்', 'ம', '்']\n",
      "GT\t['f', 'a', 'r', 'm']\n",
      "pred\t[]\n",
      "\n",
      "\n",
      "Input\t['ந', 'ெ', 'ற', '்', 'ற', 'ி']\n",
      "GT\t['n', 'e', 't', 'r', 'i']\n",
      "pred\t['n', 'e', 'a', 'a', 'a', 'i']\n",
      "\n",
      "\n",
      "Input\t['க', 'ா', 'ர', 'ண', 'த', '்', 'த', 'ை', 'ப', '்']\n",
      "GT\t['k', 'a', 'a', 'r', 'a', 'n', 'a', 't', 't', 'a', 'i', 'p']\n",
      "pred\t['k', 'a', 'r', 'a', 't', 'a', 't', 'a', 'p', 'a']\n",
      "\n",
      "\n",
      "Input\t['வ', 'ா', 'க', 'ன']\n",
      "GT\t['v', 'a', 'a', 'g', 'a', 'n', 'a']\n",
      "pred\t['v', 'a', 'a', 'a']\n",
      "\n",
      "\n",
      "\n",
      "Test set: Average loss: 0.9190, Accuracy: 182738/239760 (76%)\n",
      "\n"
     ]
    },
    {
     "name": "stderr",
     "output_type": "stream",
     "text": [
      "  1%|▏         | 1/76 [00:00<00:12,  6.16it/s]"
     ]
    },
    {
     "name": "stdout",
     "output_type": "stream",
     "text": [
      "Train Epoch: 16 [0/38723 (0%)]\tLoss: 0.882639\n"
     ]
    },
    {
     "name": "stderr",
     "output_type": "stream",
     "text": [
      " 16%|█▌        | 12/76 [00:02<00:10,  5.83it/s]"
     ]
    },
    {
     "name": "stdout",
     "output_type": "stream",
     "text": [
      "Train Epoch: 16 [5120/38723 (13%)]\tLoss: 0.839711\n"
     ]
    },
    {
     "name": "stderr",
     "output_type": "stream",
     "text": [
      " 29%|██▉       | 22/76 [00:03<00:09,  5.78it/s]"
     ]
    },
    {
     "name": "stdout",
     "output_type": "stream",
     "text": [
      "Train Epoch: 16 [10240/38723 (26%)]\tLoss: 1.096435\n"
     ]
    },
    {
     "name": "stderr",
     "output_type": "stream",
     "text": [
      " 42%|████▏     | 32/76 [00:05<00:07,  5.81it/s]"
     ]
    },
    {
     "name": "stdout",
     "output_type": "stream",
     "text": [
      "Train Epoch: 16 [15360/38723 (39%)]\tLoss: 1.059615\n"
     ]
    },
    {
     "name": "stderr",
     "output_type": "stream",
     "text": [
      " 55%|█████▌    | 42/76 [00:07<00:05,  5.78it/s]"
     ]
    },
    {
     "name": "stdout",
     "output_type": "stream",
     "text": [
      "Train Epoch: 16 [20480/38723 (53%)]\tLoss: 1.079984\n"
     ]
    },
    {
     "name": "stderr",
     "output_type": "stream",
     "text": [
      " 68%|██████▊   | 52/76 [00:08<00:04,  5.79it/s]"
     ]
    },
    {
     "name": "stdout",
     "output_type": "stream",
     "text": [
      "Train Epoch: 16 [25600/38723 (66%)]\tLoss: 0.932777\n"
     ]
    },
    {
     "name": "stderr",
     "output_type": "stream",
     "text": [
      " 82%|████████▏ | 62/76 [00:10<00:02,  5.81it/s]"
     ]
    },
    {
     "name": "stdout",
     "output_type": "stream",
     "text": [
      "Train Epoch: 16 [30720/38723 (79%)]\tLoss: 0.949482\n"
     ]
    },
    {
     "name": "stderr",
     "output_type": "stream",
     "text": [
      " 95%|█████████▍| 72/76 [00:12<00:00,  5.80it/s]"
     ]
    },
    {
     "name": "stdout",
     "output_type": "stream",
     "text": [
      "Train Epoch: 16 [35840/38723 (92%)]\tLoss: 1.065686\n"
     ]
    },
    {
     "name": "stderr",
     "output_type": "stream",
     "text": [
      "100%|██████████| 76/76 [00:13<00:00,  5.84it/s]\n"
     ]
    },
    {
     "name": "stdout",
     "output_type": "stream",
     "text": [
      "Input\t['ஃ', 'ப', 'ா', 'ர', '்', 'ம', '்']\n",
      "GT\t['f', 'a', 'r', 'm']\n",
      "pred\t[]\n",
      "\n",
      "\n",
      "Input\t['ந', 'ெ', 'ற', '்', 'ற', 'ி']\n",
      "GT\t['n', 'e', 't', 'r', 'i']\n",
      "pred\t['n', 'e', 'a', 'a', 'a', 'i']\n",
      "\n",
      "\n",
      "Input\t['க', 'ா', 'ர', 'ண', 'த', '்', 'த', 'ை', 'ப', '்']\n",
      "GT\t['k', 'a', 'a', 'r', 'a', 'n', 'a', 't', 't', 'a', 'i', 'p']\n",
      "pred\t['k', 'a', 'r', 'a', 't', 'a', 't', 'a', 'p', 'a']\n",
      "\n",
      "\n",
      "Input\t['வ', 'ா', 'க', 'ன']\n",
      "GT\t['v', 'a', 'a', 'g', 'a', 'n', 'a']\n",
      "pred\t['v', 'a', 'a', 'a']\n",
      "\n",
      "\n",
      "\n",
      "Test set: Average loss: 0.9112, Accuracy: 182738/239760 (76%)\n",
      "\n"
     ]
    },
    {
     "name": "stderr",
     "output_type": "stream",
     "text": [
      "  1%|▏         | 1/76 [00:00<00:12,  5.88it/s]"
     ]
    },
    {
     "name": "stdout",
     "output_type": "stream",
     "text": [
      "Train Epoch: 17 [0/38723 (0%)]\tLoss: 0.874144\n"
     ]
    },
    {
     "name": "stderr",
     "output_type": "stream",
     "text": [
      " 16%|█▌        | 12/76 [00:02<00:11,  5.77it/s]"
     ]
    },
    {
     "name": "stdout",
     "output_type": "stream",
     "text": [
      "Train Epoch: 17 [5120/38723 (13%)]\tLoss: 0.833824\n"
     ]
    },
    {
     "name": "stderr",
     "output_type": "stream",
     "text": [
      " 29%|██▉       | 22/76 [00:03<00:09,  5.75it/s]"
     ]
    },
    {
     "name": "stdout",
     "output_type": "stream",
     "text": [
      "Train Epoch: 17 [10240/38723 (26%)]\tLoss: 1.102048\n"
     ]
    },
    {
     "name": "stderr",
     "output_type": "stream",
     "text": [
      " 42%|████▏     | 32/76 [00:05<00:07,  5.81it/s]"
     ]
    },
    {
     "name": "stdout",
     "output_type": "stream",
     "text": [
      "Train Epoch: 17 [15360/38723 (39%)]\tLoss: 1.026270\n"
     ]
    },
    {
     "name": "stderr",
     "output_type": "stream",
     "text": [
      " 55%|█████▌    | 42/76 [00:07<00:05,  5.81it/s]"
     ]
    },
    {
     "name": "stdout",
     "output_type": "stream",
     "text": [
      "Train Epoch: 17 [20480/38723 (53%)]\tLoss: 1.083017\n"
     ]
    },
    {
     "name": "stderr",
     "output_type": "stream",
     "text": [
      " 68%|██████▊   | 52/76 [00:09<00:04,  5.80it/s]"
     ]
    },
    {
     "name": "stdout",
     "output_type": "stream",
     "text": [
      "Train Epoch: 17 [25600/38723 (66%)]\tLoss: 0.940535\n"
     ]
    },
    {
     "name": "stderr",
     "output_type": "stream",
     "text": [
      " 82%|████████▏ | 62/76 [00:10<00:02,  5.80it/s]"
     ]
    },
    {
     "name": "stdout",
     "output_type": "stream",
     "text": [
      "Train Epoch: 17 [30720/38723 (79%)]\tLoss: 0.945726\n"
     ]
    },
    {
     "name": "stderr",
     "output_type": "stream",
     "text": [
      " 95%|█████████▍| 72/76 [00:12<00:00,  5.74it/s]"
     ]
    },
    {
     "name": "stdout",
     "output_type": "stream",
     "text": [
      "Train Epoch: 17 [35840/38723 (92%)]\tLoss: 1.062256\n"
     ]
    },
    {
     "name": "stderr",
     "output_type": "stream",
     "text": [
      "100%|██████████| 76/76 [00:13<00:00,  5.80it/s]\n"
     ]
    },
    {
     "name": "stdout",
     "output_type": "stream",
     "text": [
      "Input\t['ஃ', 'ப', 'ா', 'ர', '்', 'ம', '்']\n",
      "GT\t['f', 'a', 'r', 'm']\n",
      "pred\t[]\n",
      "\n",
      "\n",
      "Input\t['ந', 'ெ', 'ற', '்', 'ற', 'ி']\n",
      "GT\t['n', 'e', 't', 'r', 'i']\n",
      "pred\t['n', 'e', 'a', 'a', 'a', 'i']\n",
      "\n",
      "\n",
      "Input\t['க', 'ா', 'ர', 'ண', 'த', '்', 'த', 'ை', 'ப', '்']\n",
      "GT\t['k', 'a', 'a', 'r', 'a', 'n', 'a', 't', 't', 'a', 'i', 'p']\n",
      "pred\t['k', 'a', 'r', 'a', 't', 'a', 't', 'a', 'p', 'a']\n",
      "\n",
      "\n",
      "Input\t['வ', 'ா', 'க', 'ன']\n",
      "GT\t['v', 'a', 'a', 'g', 'a', 'n', 'a']\n",
      "pred\t['v', 'a', 'a', 'a']\n",
      "\n",
      "\n",
      "\n",
      "Test set: Average loss: 0.9074, Accuracy: 182790/239760 (76%)\n",
      "\n"
     ]
    },
    {
     "name": "stderr",
     "output_type": "stream",
     "text": [
      "  1%|▏         | 1/76 [00:00<00:12,  6.06it/s]"
     ]
    },
    {
     "name": "stdout",
     "output_type": "stream",
     "text": [
      "Train Epoch: 18 [0/38723 (0%)]\tLoss: 0.870952\n"
     ]
    },
    {
     "name": "stderr",
     "output_type": "stream",
     "text": [
      " 16%|█▌        | 12/76 [00:02<00:11,  5.78it/s]"
     ]
    },
    {
     "name": "stdout",
     "output_type": "stream",
     "text": [
      "Train Epoch: 18 [5120/38723 (13%)]\tLoss: 0.829522\n"
     ]
    },
    {
     "name": "stderr",
     "output_type": "stream",
     "text": [
      " 29%|██▉       | 22/76 [00:03<00:09,  5.78it/s]"
     ]
    },
    {
     "name": "stdout",
     "output_type": "stream",
     "text": [
      "Train Epoch: 18 [10240/38723 (26%)]\tLoss: 1.098830\n"
     ]
    },
    {
     "name": "stderr",
     "output_type": "stream",
     "text": [
      " 42%|████▏     | 32/76 [00:05<00:07,  5.83it/s]"
     ]
    },
    {
     "name": "stdout",
     "output_type": "stream",
     "text": [
      "Train Epoch: 18 [15360/38723 (39%)]\tLoss: 1.040218\n"
     ]
    },
    {
     "name": "stderr",
     "output_type": "stream",
     "text": [
      " 55%|█████▌    | 42/76 [00:07<00:05,  5.77it/s]"
     ]
    },
    {
     "name": "stdout",
     "output_type": "stream",
     "text": [
      "Train Epoch: 18 [20480/38723 (53%)]\tLoss: 1.081457\n"
     ]
    },
    {
     "name": "stderr",
     "output_type": "stream",
     "text": [
      " 68%|██████▊   | 52/76 [00:09<00:04,  5.79it/s]"
     ]
    },
    {
     "name": "stdout",
     "output_type": "stream",
     "text": [
      "Train Epoch: 18 [25600/38723 (66%)]\tLoss: 0.927412\n"
     ]
    },
    {
     "name": "stderr",
     "output_type": "stream",
     "text": [
      " 82%|████████▏ | 62/76 [00:10<00:02,  5.81it/s]"
     ]
    },
    {
     "name": "stdout",
     "output_type": "stream",
     "text": [
      "Train Epoch: 18 [30720/38723 (79%)]\tLoss: 0.952526\n"
     ]
    },
    {
     "name": "stderr",
     "output_type": "stream",
     "text": [
      " 95%|█████████▍| 72/76 [00:12<00:00,  5.66it/s]"
     ]
    },
    {
     "name": "stdout",
     "output_type": "stream",
     "text": [
      "Train Epoch: 18 [35840/38723 (92%)]\tLoss: 1.086536\n"
     ]
    },
    {
     "name": "stderr",
     "output_type": "stream",
     "text": [
      "100%|██████████| 76/76 [00:13<00:00,  5.77it/s]\n"
     ]
    },
    {
     "name": "stdout",
     "output_type": "stream",
     "text": [
      "Input\t['ஃ', 'ப', 'ா', 'ர', '்', 'ம', '்']\n",
      "GT\t['f', 'a', 'r', 'm']\n",
      "pred\t['a', 'p', 'a', 'r']\n",
      "\n",
      "\n",
      "Input\t['ந', 'ெ', 'ற', '்', 'ற', 'ி']\n",
      "GT\t['n', 'e', 't', 'r', 'i']\n",
      "pred\t['n', 'e', 'a', 'a', 'a', 'i']\n",
      "\n",
      "\n",
      "Input\t['க', 'ா', 'ர', 'ண', 'த', '்', 'த', 'ை', 'ப', '்']\n",
      "GT\t['k', 'a', 'a', 'r', 'a', 'n', 'a', 't', 't', 'a', 'i', 'p']\n",
      "pred\t['k', 'a', 'r', 'a', 't', 'a', 't', 'a', 'p', 'a']\n",
      "\n",
      "\n",
      "Input\t['வ', 'ா', 'க', 'ன']\n",
      "GT\t['v', 'a', 'a', 'g', 'a', 'n', 'a']\n",
      "pred\t['v', 'a', 'a', 'a']\n",
      "\n",
      "\n",
      "\n",
      "Test set: Average loss: 0.9114, Accuracy: 182748/239760 (76%)\n",
      "\n"
     ]
    },
    {
     "name": "stderr",
     "output_type": "stream",
     "text": [
      "  1%|▏         | 1/76 [00:00<00:12,  6.04it/s]"
     ]
    },
    {
     "name": "stdout",
     "output_type": "stream",
     "text": [
      "Train Epoch: 19 [0/38723 (0%)]\tLoss: 0.874482\n"
     ]
    },
    {
     "name": "stderr",
     "output_type": "stream",
     "text": [
      " 14%|█▍        | 11/76 [00:01<00:11,  5.70it/s]"
     ]
    },
    {
     "name": "stdout",
     "output_type": "stream",
     "text": [
      "Train Epoch: 19 [5120/38723 (13%)]\tLoss: 0.828940\n"
     ]
    },
    {
     "name": "stderr",
     "output_type": "stream",
     "text": [
      " 29%|██▉       | 22/76 [00:03<00:09,  5.77it/s]"
     ]
    },
    {
     "name": "stdout",
     "output_type": "stream",
     "text": [
      "Train Epoch: 19 [10240/38723 (26%)]\tLoss: 1.129477\n"
     ]
    },
    {
     "name": "stderr",
     "output_type": "stream",
     "text": [
      " 42%|████▏     | 32/76 [00:05<00:07,  5.85it/s]"
     ]
    },
    {
     "name": "stdout",
     "output_type": "stream",
     "text": [
      "Train Epoch: 19 [15360/38723 (39%)]\tLoss: 1.121073\n"
     ]
    },
    {
     "name": "stderr",
     "output_type": "stream",
     "text": [
      " 55%|█████▌    | 42/76 [00:07<00:05,  5.78it/s]"
     ]
    },
    {
     "name": "stdout",
     "output_type": "stream",
     "text": [
      "Train Epoch: 19 [20480/38723 (53%)]\tLoss: 1.090524\n"
     ]
    },
    {
     "name": "stderr",
     "output_type": "stream",
     "text": [
      " 68%|██████▊   | 52/76 [00:09<00:04,  5.76it/s]"
     ]
    },
    {
     "name": "stdout",
     "output_type": "stream",
     "text": [
      "Train Epoch: 19 [25600/38723 (66%)]\tLoss: 0.942174\n"
     ]
    },
    {
     "name": "stderr",
     "output_type": "stream",
     "text": [
      " 82%|████████▏ | 62/76 [00:10<00:02,  5.73it/s]"
     ]
    },
    {
     "name": "stdout",
     "output_type": "stream",
     "text": [
      "Train Epoch: 19 [30720/38723 (79%)]\tLoss: 0.960419\n"
     ]
    },
    {
     "name": "stderr",
     "output_type": "stream",
     "text": [
      " 95%|█████████▍| 72/76 [00:12<00:00,  5.79it/s]"
     ]
    },
    {
     "name": "stdout",
     "output_type": "stream",
     "text": [
      "Train Epoch: 19 [35840/38723 (92%)]\tLoss: 1.054564\n"
     ]
    },
    {
     "name": "stderr",
     "output_type": "stream",
     "text": [
      "100%|██████████| 76/76 [00:13<00:00,  5.78it/s]\n"
     ]
    },
    {
     "name": "stdout",
     "output_type": "stream",
     "text": [
      "Input\t['ஃ', 'ப', 'ா', 'ர', '்', 'ம', '்']\n",
      "GT\t['f', 'a', 'r', 'm']\n",
      "pred\t['a', 'p', 'a', 'r']\n",
      "\n",
      "\n",
      "Input\t['ந', 'ெ', 'ற', '்', 'ற', 'ி']\n",
      "GT\t['n', 'e', 't', 'r', 'i']\n",
      "pred\t['n', 'e', 'a', 'a', 'a', 'i']\n",
      "\n",
      "\n",
      "Input\t['க', 'ா', 'ர', 'ண', 'த', '்', 'த', 'ை', 'ப', '்']\n",
      "GT\t['k', 'a', 'a', 'r', 'a', 'n', 'a', 't', 't', 'a', 'i', 'p']\n",
      "pred\t['k', 'a', 'r', 'a', 't', 'a', 't', 'a', 'p', 'a']\n",
      "\n",
      "\n",
      "Input\t['வ', 'ா', 'க', 'ன']\n",
      "GT\t['v', 'a', 'a', 'g', 'a', 'n', 'a']\n",
      "pred\t['v', 'a', 'a', 'a']\n",
      "\n",
      "\n",
      "\n",
      "Test set: Average loss: 0.9093, Accuracy: 182812/239760 (76%)\n",
      "\n"
     ]
    },
    {
     "name": "stderr",
     "output_type": "stream",
     "text": [
      "  1%|▏         | 1/76 [00:00<00:12,  5.94it/s]"
     ]
    },
    {
     "name": "stdout",
     "output_type": "stream",
     "text": [
      "Train Epoch: 20 [0/38723 (0%)]\tLoss: 0.871916\n"
     ]
    },
    {
     "name": "stderr",
     "output_type": "stream",
     "text": [
      " 16%|█▌        | 12/76 [00:02<00:11,  5.78it/s]"
     ]
    },
    {
     "name": "stdout",
     "output_type": "stream",
     "text": [
      "Train Epoch: 20 [5120/38723 (13%)]\tLoss: 0.837345\n"
     ]
    },
    {
     "name": "stderr",
     "output_type": "stream",
     "text": [
      " 29%|██▉       | 22/76 [00:03<00:09,  5.84it/s]"
     ]
    },
    {
     "name": "stdout",
     "output_type": "stream",
     "text": [
      "Train Epoch: 20 [10240/38723 (26%)]\tLoss: 1.108711\n"
     ]
    },
    {
     "name": "stderr",
     "output_type": "stream",
     "text": [
      " 42%|████▏     | 32/76 [00:05<00:08,  5.43it/s]"
     ]
    },
    {
     "name": "stdout",
     "output_type": "stream",
     "text": [
      "Train Epoch: 20 [15360/38723 (39%)]\tLoss: 1.034423\n"
     ]
    },
    {
     "name": "stderr",
     "output_type": "stream",
     "text": [
      " 55%|█████▌    | 42/76 [00:07<00:05,  5.75it/s]"
     ]
    },
    {
     "name": "stdout",
     "output_type": "stream",
     "text": [
      "Train Epoch: 20 [20480/38723 (53%)]\tLoss: 1.078544\n"
     ]
    },
    {
     "name": "stderr",
     "output_type": "stream",
     "text": [
      " 68%|██████▊   | 52/76 [00:09<00:04,  5.77it/s]"
     ]
    },
    {
     "name": "stdout",
     "output_type": "stream",
     "text": [
      "Train Epoch: 20 [25600/38723 (66%)]\tLoss: 0.928713\n"
     ]
    },
    {
     "name": "stderr",
     "output_type": "stream",
     "text": [
      " 82%|████████▏ | 62/76 [00:10<00:02,  5.62it/s]"
     ]
    },
    {
     "name": "stdout",
     "output_type": "stream",
     "text": [
      "Train Epoch: 20 [30720/38723 (79%)]\tLoss: 0.968437\n"
     ]
    },
    {
     "name": "stderr",
     "output_type": "stream",
     "text": [
      " 95%|█████████▍| 72/76 [00:12<00:00,  5.76it/s]"
     ]
    },
    {
     "name": "stdout",
     "output_type": "stream",
     "text": [
      "Train Epoch: 20 [35840/38723 (92%)]\tLoss: 1.044748\n"
     ]
    },
    {
     "name": "stderr",
     "output_type": "stream",
     "text": [
      "100%|██████████| 76/76 [00:13<00:00,  5.72it/s]\n"
     ]
    },
    {
     "name": "stdout",
     "output_type": "stream",
     "text": [
      "Input\t['ஃ', 'ப', 'ா', 'ர', '்', 'ம', '்']\n",
      "GT\t['f', 'a', 'r', 'm']\n",
      "pred\t['a', 'p', 'a', 'r']\n",
      "\n",
      "\n",
      "Input\t['ந', 'ெ', 'ற', '்', 'ற', 'ி']\n",
      "GT\t['n', 'e', 't', 'r', 'i']\n",
      "pred\t['n', 'e', 'a', 'a', 'a', 'i']\n",
      "\n",
      "\n",
      "Input\t['க', 'ா', 'ர', 'ண', 'த', '்', 'த', 'ை', 'ப', '்']\n",
      "GT\t['k', 'a', 'a', 'r', 'a', 'n', 'a', 't', 't', 'a', 'i', 'p']\n",
      "pred\t['k', 'a', 'r', 'a', 't', 'a', 't', 'a', 'p', 'a']\n",
      "\n",
      "\n",
      "Input\t['வ', 'ா', 'க', 'ன']\n",
      "GT\t['v', 'a', 'a', 'g', 'a', 'n', 'a']\n",
      "pred\t['v', 'a', 'a', 'a']\n",
      "\n",
      "\n",
      "\n",
      "Test set: Average loss: 0.9064, Accuracy: 182820/239760 (76%)\n",
      "\n"
     ]
    },
    {
     "data": {
      "image/png": "[encoded data removed]",
      "text/plain": [
       "<Figure size 1440x720 with 1 Axes>"
      ]
     },
     "metadata": {
      "needs_background": "light"
     },
     "output_type": "display_data"
    },
    {
     "data": {
      "image/png": "[encoded data removed]",
      "text/plain": [
       "<Figure size 1440x720 with 1 Axes>"
      ]
     },
     "metadata": {
      "needs_background": "light"
     },
     "output_type": "display_data"
    },
    {
     "data": {
      "image/png": "[encoded data removed]",
      "text/plain": [
       "<Figure size 1440x720 with 1 Axes>"
      ]
     },
     "metadata": {
      "needs_background": "light"
     },
     "output_type": "display_data"
    }
   ],
   "source": [
    "def main():\n",
    "    BATCH_SIZE = 512\n",
    "    FEATURE_SIZE = 128\n",
    "    TEST_BATCH_SIZE = 256\n",
    "    EPOCHS = 20\n",
    "    LEARNING_RATE = 0.005\n",
    "    MOMENTUM = 0.9\n",
    "    WEIGHT_DECAY = 0.000005\n",
    "    USE_CUDA = True\n",
    "    PRINT_INTERVAL = 10\n",
    "    OUT_PATH = 'out/'\n",
    "    LOG_PATH = OUT_PATH + 'logs/log.pkl'\n",
    "    \n",
    "    train_data, test_data, seq_len = prepare_data(DATA_PATH)\n",
    "    lang_voc2ind, lang_ind2voc, en_voc2ind, en_ind2voc = create_dictionaries(train_data + test_data)\n",
    "    train_dataset = TransliterateDataset(train_data, lang_voc2ind, en_voc2ind, seq_len)\n",
    "    test_dataset = TransliterateDataset(test_data, lang_voc2ind, en_voc2ind, seq_len)\n",
    "    \n",
    "    use_cuda = USE_CUDA and torch.cuda.is_available()\n",
    "    device = torch.device(\"cuda\" if use_cuda else \"cpu\")\n",
    "    print('Using device', device)\n",
    "    \n",
    "    num_workers = multiprocessing.cpu_count()\n",
    "    print('num workers:', num_workers)\n",
    "    kwargs = {'num_workers': num_workers,\n",
    "              'pin_memory': True} if use_cuda else {}\n",
    "    \n",
    "    train_loader = torch.utils.data.DataLoader(train_dataset, batch_size=BATCH_SIZE,\n",
    "                                               shuffle=False, **kwargs)\n",
    "    test_loader = torch.utils.data.DataLoader(test_dataset, batch_size=TEST_BATCH_SIZE,\n",
    "                                              shuffle=False, **kwargs)\n",
    "    \n",
    "    model = TransliterateNet(len(lang_voc2ind), len(en_voc2ind), FEATURE_SIZE).to(device)\n",
    "    \n",
    "    #optimizer = optim.Adam(model.parameters(), lr=LEARNING_RATE, weight_decay=WEIGHT_DECAY)\n",
    "    optimizer = optim.SGD(model.parameters(), lr=LEARNING_RATE, momentum=MOMENTUM, weight_decay=WEIGHT_DECAY)\n",
    "    start_epoch = model.load_last_model(OUT_PATH + 'checkpoints')\n",
    "\n",
    "    train_losses, test_losses, test_accuracies = pt_util.read_log(LOG_PATH, ([], [], []))\n",
    "    test_loss, test_accuracy = test(model, device, test_loader, lang_ind2voc, en_ind2voc)\n",
    "\n",
    "    test_losses.append((start_epoch, test_loss))\n",
    "    test_accuracies.append((start_epoch, test_accuracy))\n",
    "    \n",
    "    try:\n",
    "        for epoch in range(start_epoch, EPOCHS + 1):\n",
    "            lr = LEARNING_RATE * np.power(0.25, (int(epoch / 6)))\n",
    "            train_loss = train(model, device, optimizer, train_loader, lr, epoch, PRINT_INTERVAL)\n",
    "            test_loss, test_accuracy = test(model, device, test_loader, lang_ind2voc, en_ind2voc)\n",
    "            train_losses.append((epoch, train_loss))\n",
    "            test_losses.append((epoch, test_loss))\n",
    "            test_accuracies.append((epoch, test_accuracy))\n",
    "            #pt_util.write_log(LOG_PATH, (train_losses, test_losses, test_accuracies))\n",
    "            #model.save_best_model(test_accuracy, DATA_PATH + 'checkpoints/%03d.pt' % epoch)\n",
    "\n",
    "    except KeyboardInterrupt as ke:\n",
    "        print('Interrupted')\n",
    "    except:\n",
    "        import traceback\n",
    "        traceback.print_exc()\n",
    "    finally:\n",
    "        #print('Saving final model')\n",
    "        #model.save_model(DATA_PATH + 'checkpoints/%03d.pt' % epoch, 0)\n",
    "        ep, val = zip(*train_losses)\n",
    "        pt_util.plot(ep, val, 'Train loss', 'Epoch', 'Error')\n",
    "        ep, val = zip(*test_losses)\n",
    "        pt_util.plot(ep, val, 'Test loss', 'Epoch', 'Error')\n",
    "        ep, val = zip(*test_accuracies)\n",
    "        pt_util.plot(ep, val, 'Test accuracy', 'Epoch', 'Error')\n",
    "        return model, lang_voc2ind, en_ind2voc, device\n",
    "    \n",
    "final_model, lang_voc2ind, en_ind2voc, device = main()"
   ]
  },
  {
   "cell_type": "code",
   "execution_count": 11,
   "id": "8f517b94",
   "metadata": {},
   "outputs": [],
   "source": [
    "def generate_transliteration(model, word, lang_voc2ind, en_ind2voc, seq_len=30):\n",
    "    transliteration = []\n",
    "    hidden = None\n",
    "    \n",
    "    lang_tokens = tokenize_data(word, lang_voc2ind)\n",
    "    lang_data = torch.LongTensor(pad_data(lang_tokens, seq_len))\n",
    "    \n",
    "    for c in torch.LongTensor(lang_data):\n",
    "        x, hidden = model.inference(c, hidden)\n",
    "        transliteration.append(torch.argmax(x))\n",
    "    \n",
    "    return detokenize_and_depad_data(transliteration, en_ind2voc)"
   ]
  },
  {
   "cell_type": "code",
   "execution_count": 12,
   "id": "497e0b34",
   "metadata": {},
   "outputs": [
    {
     "name": "stdout",
     "output_type": "stream",
     "text": [
      "['a', 'p', 'a', 'a', 'a', 'a', 'a']\n"
     ]
    }
   ],
   "source": [
    "print(generate_transliteration(final_model, 'ஃபார்ம்', lang_voc2ind, en_ind2voc)) # should ideally say 'farm'"
   ]
  }
 ],
 "metadata": {
  "kernelspec": {
   "display_name": "Python 3",
   "language": "python",
   "name": "python3"
  },
  "language_info": {
   "codemirror_mode": {
    "name": "ipython",
    "version": 3
   },
   "file_extension": ".py",
   "mimetype": "text/x-python",
   "name": "python",
   "nbconvert_exporter": "python",
   "pygments_lexer": "ipython3",
   "version": "3.6.8"
  }
 },
 "nbformat": 4,
 "nbformat_minor": 5
}
