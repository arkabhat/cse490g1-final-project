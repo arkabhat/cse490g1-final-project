{
 "cells": [
  {
   "cell_type": "code",
   "execution_count": 1,
   "id": "ee1b8694",
   "metadata": {},
   "outputs": [
    {
     "name": "stdout",
     "output_type": "stream",
     "text": [
      "Version 1.10.0+cu102\n",
      "CUDA enabled: False\n"
     ]
    }
   ],
   "source": [
    "import torch\n",
    "print('Version', torch.__version__)\n",
    "print('CUDA enabled:', torch.cuda.is_available())"
   ]
  },
  {
   "cell_type": "code",
   "execution_count": 2,
   "id": "e503fd20",
   "metadata": {},
   "outputs": [],
   "source": [
    "import torch.nn as nn\n",
    "from torchvision import datasets\n",
    "from torchvision import transforms\n",
    "import torch.nn.functional as F\n",
    "import torch.optim as optim\n",
    "import numpy as np\n",
    "import matplotlib.pyplot as plt\n",
    "import seaborn as sns\n",
    "import tqdm\n",
    "\n",
    "import sys\n",
    "import os\n",
    "import pickle\n",
    "import re\n",
    "import csv\n",
    "import multiprocessing\n",
    "\n",
    "import pt_util"
   ]
  },
  {
   "cell_type": "code",
   "execution_count": 3,
   "id": "774a0851",
   "metadata": {},
   "outputs": [],
   "source": [
    "def prepare_data(dirpath):\n",
    "    # Read train and test data\n",
    "    filenames = os.listdir(dirpath)\n",
    "    train_data = []\n",
    "    test_data = []\n",
    "    max_len = 0 # max length of any word in the dataset\n",
    "    \n",
    "    def get_most_annotated_transliterations(tsv_file, data, max_len):\n",
    "        curr_lang = None\n",
    "        max_annotations = 0\n",
    "        curr_translits = {}\n",
    "\n",
    "        # only consider the most annotated transliteration(s) for each foreign language word\n",
    "        for lang, en, annotations in tsv_file:\n",
    "            if not curr_lang or lang != curr_lang:\n",
    "                for translit, annots in curr_translits.items():\n",
    "                    if annots == max_annotations:\n",
    "                        data.append([curr_lang, translit])\n",
    "                        max_len = max(max_len, len(translit))\n",
    "                curr_lang = lang\n",
    "                max_annotations = annotations\n",
    "                curr_translits = {en: annotations}\n",
    "                max_len = max(max_len, len(curr_lang))\n",
    "            else:\n",
    "                max_annotations = max(max_annotations, annotations)\n",
    "                curr_translits[en] = annotations\n",
    "        for translit, annots in curr_translits.items(): # fencepost\n",
    "            if annots == max_annotations:\n",
    "                data.append([curr_lang, translit])\n",
    "                max_len = max(max_len, len(translit))\n",
    "        return max_len\n",
    "    \n",
    "    for filename in filenames:\n",
    "        with open(os.path.join(dirpath, filename), 'r') as file:\n",
    "            tsv = csv.reader(file, delimiter='\\t')\n",
    "            if filename.endswith('train.tsv'):\n",
    "                max_len = get_most_annotated_transliterations(tsv, train_data, max_len)\n",
    "            else:\n",
    "                max_len = get_most_annotated_transliterations(tsv, test_data, max_len)\n",
    "                \n",
    "    return train_data, test_data, max_len"
   ]
  },
  {
   "cell_type": "code",
   "execution_count": 4,
   "id": "9a49eb6f",
   "metadata": {},
   "outputs": [],
   "source": [
    "def create_dictionaries(data, PAD = '<PAD>'):\n",
    "    #en_voc2ind = {PAD: 0}\n",
    "    #lang_voc2ind = {PAD: 0}\n",
    "    #en_ind2voc = {0: PAD}\n",
    "    #lang_ind2voc = {0: PAD}\n",
    "    \n",
    "    en_voc2ind = {}\n",
    "    lang_voc2ind = {}\n",
    "    en_ind2voc = {}\n",
    "    lang_ind2voc = {}\n",
    "    \n",
    "    en_ind = 0 #1\n",
    "    lang_ind = 0 #1\n",
    "    for lang, en in data:\n",
    "        for lang_char in lang:\n",
    "            if lang_char not in lang_voc2ind:\n",
    "                lang_voc2ind[lang_char] = lang_ind\n",
    "                lang_ind2voc[lang_ind] = lang_char\n",
    "                lang_ind += 1\n",
    "        for en_char in en:\n",
    "            if en_char not in en_voc2ind:\n",
    "                en_voc2ind[en_char] = en_ind\n",
    "                en_ind2voc[en_ind] = en_char\n",
    "                en_ind += 1\n",
    "                \n",
    "    en_voc2ind[PAD] = en_ind\n",
    "    lang_voc2ind[PAD] = lang_ind\n",
    "    en_ind2voc[en_ind] = PAD\n",
    "    lang_ind2voc[lang_ind] = PAD\n",
    "    \n",
    "    return lang_voc2ind, lang_ind2voc, en_voc2ind, en_ind2voc"
   ]
  },
  {
   "cell_type": "code",
   "execution_count": 5,
   "id": "07efad95",
   "metadata": {},
   "outputs": [],
   "source": [
    "# Preprocessing functions\n",
    "def tokenize_data(data, voc2ind):\n",
    "    return [voc2ind[char] for char in data]\n",
    "\n",
    "def detokenize_and_depad_data(data, ind2voc, pad_val=0):\n",
    "    res = []\n",
    "    for ind in data:\n",
    "        if ind.item() == pad_val:\n",
    "            break\n",
    "        res.append(ind2voc[ind.item()])\n",
    "    return res\n",
    "\n",
    "def pad_data(data, seq_len, pad_val=0):\n",
    "    for _ in range(len(data), seq_len):\n",
    "        data.append(pad_val)\n",
    "    return data"
   ]
  },
  {
   "cell_type": "code",
   "execution_count": 6,
   "id": "bfcc2098",
   "metadata": {},
   "outputs": [],
   "source": [
    "class TransliterateDataset(torch.utils.data.Dataset):\n",
    "    \n",
    "    def __init__(self, data, lang_voc2ind, en_voc2ind, seq_len):\n",
    "        super(TransliterateDataset, self).__init__()\n",
    "        \n",
    "        # Tokenize and pad data\n",
    "        lang_data = []\n",
    "        en_data = []\n",
    "        for lang, en in data:\n",
    "            lang_tokens = tokenize_data(lang, lang_voc2ind)\n",
    "            lang_data.append(pad_data(lang_tokens, seq_len, len(lang_voc2ind) - 1))\n",
    "            en_tokens = tokenize_data(en, en_voc2ind)\n",
    "            en_data.append(pad_data(en_tokens, seq_len, len(en_voc2ind) - 1))\n",
    "            \n",
    "        self.language_data = lang_data\n",
    "        self.english_data = en_data\n",
    "        self.sequence_length = seq_len\n",
    "\n",
    "    def __len__(self):\n",
    "        return len(self.english_data)\n",
    "        \n",
    "    def __getitem__(self, idx):\n",
    "        # Return the data and label at idx\n",
    "        return torch.LongTensor(self.english_data[idx]), torch.LongTensor(self.language_data[idx])\n",
    "    \n",
    "    def get_random_sample(self):\n",
    "        # Return a random data point and label: for testing purposes\n",
    "        return self.__getitem__(np.random.randint(self.__len__()))"
   ]
  },
  {
   "cell_type": "code",
   "execution_count": 7,
   "id": "e150ff19",
   "metadata": {},
   "outputs": [],
   "source": [
    "class TransliterateNet(nn.Module):\n",
    "    \n",
    "    def __init__(self, en_vocab_size, lang_vocab_size, feature_size, rnn_type):\n",
    "        super(TransliterateNet, self).__init__()\n",
    "        self.en_vocab_size = en_vocab_size\n",
    "        self.lang_vocab_size = lang_vocab_size\n",
    "        self.feature_size = feature_size\n",
    "        \n",
    "        self.encoder = nn.Embedding(self.en_vocab_size, self.feature_size)\n",
    "        self.midLayer = nn.Linear(self.feature_size, self.feature_size)\n",
    "        self.decoder = nn.Linear(self.feature_size, self.lang_vocab_size)\n",
    "        \n",
    "        if rnn_type == 'gru':\n",
    "            self.rnn = nn.GRU(self.feature_size, self.feature_size, num_layers = 1, batch_first=True)\n",
    "            self.rnn2 = nn.GRU(self.feature_size, self.feature_size, num_layers = 1, batch_first=True)\n",
    "        elif rnn_type == 'lstm':\n",
    "            self.rnn = nn.LSTM(self.feature_size, self.feature_size, num_layers = 1, batch_first=True)\n",
    "            self.rnn2 = nn.LSTM(self.feature_size, self.feature_size, num_layers = 1, batch_first=True)\n",
    "        else:\n",
    "            raise ValueError('RNN type must be either \\'gru\\' or \\'lstm\\'')\n",
    "\n",
    "        #self.decoder.weight = self.encoder.weight\n",
    "        #self.decoder.bias.data.zero_()\n",
    "        \n",
    "        self.best_accuracy = -1\n",
    "    \n",
    "    def forward(self, x, hidden_state=None):\n",
    "        x = self.encoder(x)\n",
    "        x, hidden_state = self.rnn(x, hidden_state)\n",
    "        x = self.midLayer(x)\n",
    "        x = F.leaky_relu(x)\n",
    "        x, hidden_state = self.rnn2(x, hidden_state)\n",
    "        x = self.decoder(x)\n",
    "        return x, hidden_state\n",
    "\n",
    "    # This defines the function that gives a probability distribution and implements the temperature computation.\n",
    "    def inference(self, x, hidden_state=None, temperature=1):\n",
    "        x = x.view(-1, 1)\n",
    "        x, hidden_state = self.forward(x, hidden_state)\n",
    "        x = x.view(1, -1)\n",
    "        x = x / max(temperature, 1e-20)\n",
    "        x = F.softmax(x, dim=1)\n",
    "        return x, hidden_state\n",
    "\n",
    "    # Predefined loss function\n",
    "    def loss(self, prediction, label, reduction='mean'):\n",
    "        loss_val = F.cross_entropy(prediction.view(-1, self.lang_vocab_size), label.view(-1), reduction=reduction)\n",
    "        return loss_val\n",
    "\n",
    "    # Saves the current model\n",
    "    def save_model(self, file_path, num_to_keep=1):\n",
    "        pt_util.save(self, file_path, num_to_keep)\n",
    "\n",
    "    # Saves the best model so far\n",
    "    def save_best_model(self, accuracy, file_path, num_to_keep=1):\n",
    "        if accuracy > self.best_accuracy:\n",
    "            self.save_model(file_path, num_to_keep)\n",
    "            self.best_accuracy = accuracy\n",
    "\n",
    "    def load_model(self, file_path):\n",
    "        pt_util.restore(self, file_path)\n",
    "\n",
    "    def load_last_model(self, dir_path):\n",
    "        return pt_util.restore_latest(self, dir_path)"
   ]
  },
  {
   "cell_type": "code",
   "execution_count": 8,
   "id": "ae5bec02",
   "metadata": {},
   "outputs": [],
   "source": [
    "def repackage_hidden(h):\n",
    "    # Wraps hidden states in new Tensors, to detach them from their history\n",
    "    if isinstance(h, torch.Tensor):\n",
    "        return h.detach()\n",
    "    else:\n",
    "        return tuple(repackage_hidden(v) for v in h)\n",
    "\n",
    "def train(model, device, optimizer, train_loader, lr, epoch, log_interval):\n",
    "    model.train()\n",
    "    losses = []\n",
    "    hidden = None\n",
    "    for batch_idx, (data, label) in enumerate(tqdm.tqdm(train_loader)):\n",
    "        data, label = data.to(device), label.to(device)\n",
    "        # Separates the hidden state across batches.\n",
    "        # Otherwise the backward would try to go all the way to the beginning every time\n",
    "        if hidden is not None:\n",
    "            hidden = repackage_hidden(hidden)\n",
    "        optimizer.zero_grad()\n",
    "        output, hidden = model(data)\n",
    "        pred = output.max(-1)[1]\n",
    "        loss = model.loss(output, label)\n",
    "        losses.append(loss.item())\n",
    "        loss.backward()\n",
    "        optimizer.step()\n",
    "        if batch_idx % log_interval == 0:\n",
    "            print('Train Epoch: {} [{}/{} ({:.0f}%)]\\tLoss: {:.6f}'.format(\n",
    "                epoch, batch_idx * len(data), len(train_loader.dataset),\n",
    "                100. * batch_idx / len(train_loader), loss.item()))\n",
    "    return np.mean(losses)\n",
    "\n",
    "\n",
    "def test(model, device, test_loader, en_ind2voc, lang_ind2voc):\n",
    "    model.eval()\n",
    "    test_loss = 0\n",
    "    correct = 0\n",
    "\n",
    "    with torch.no_grad():\n",
    "        hidden = None\n",
    "        for batch_idx, (data, label) in enumerate(test_loader):\n",
    "            data, label = data.to(device), label.to(device)\n",
    "            output, hidden = model(data, hidden)\n",
    "            test_loss += model.loss(output, label, reduction='mean').item()\n",
    "            pred = output.max(-1)[1]\n",
    "            correct_mask = pred.eq(label.view_as(pred))\n",
    "            num_correct = correct_mask.sum().item()\n",
    "            correct += num_correct\n",
    "            # Comment this out to avoid printing test results\n",
    "            if batch_idx % 10 == 0:\n",
    "                print('Input\\t%s\\nGT\\t%s\\npred\\t%s\\n\\n' % (\n",
    "                    detokenize_and_depad_data(data[0], en_ind2voc, len(en_ind2voc) - 1),\n",
    "                    detokenize_and_depad_data(label[0], lang_ind2voc, len(lang_ind2voc) - 1),\n",
    "                    detokenize_and_depad_data(pred[0], lang_ind2voc, len(lang_ind2voc) - 1)))\n",
    "\n",
    "    test_loss /= len(test_loader)\n",
    "    test_accuracy = 100. * correct / (len(test_loader.dataset) * test_loader.dataset.sequence_length)\n",
    "\n",
    "    print('\\nTest set: Average loss: {:.4f}, Accuracy: {}/{} ({:.0f}%)\\n'.format(\n",
    "        test_loss, correct, len(test_loader.dataset) * test_loader.dataset.sequence_length,\n",
    "        100. * correct / (len(test_loader.dataset) * test_loader.dataset.sequence_length)))\n",
    "    return test_loss, test_accuracy"
   ]
  },
  {
   "cell_type": "code",
   "execution_count": 9,
   "id": "d7d4db38",
   "metadata": {},
   "outputs": [],
   "source": [
    "def main(LANG, RNN_TYPE):\n",
    "    DATA_DIR = 'dakshina_dataset_v1.0'\n",
    "    LANG_DIR = 'lexicons'\n",
    "    DATA_PATH = '{}/{}/{}'.format(DATA_DIR, LANG, LANG_DIR)\n",
    "    \n",
    "    BATCH_SIZE = 512\n",
    "    FEATURE_SIZE = 128\n",
    "    TEST_BATCH_SIZE = 256\n",
    "    EPOCHS = 20\n",
    "    LEARNING_RATE = 0.005\n",
    "    # MOMENTUM = 0.9 # only for SGD\n",
    "    WEIGHT_DECAY = 0.000005\n",
    "    USE_CUDA = True\n",
    "    PRINT_INTERVAL = 10\n",
    "    OUT_PATH = 'out/'\n",
    "    LOG_PATH = OUT_PATH + 'logs/log.pkl'\n",
    "    \n",
    "    train_data, test_data, seq_len = prepare_data(DATA_PATH)\n",
    "    lang_voc2ind, lang_ind2voc, en_voc2ind, en_ind2voc = create_dictionaries(train_data + test_data)\n",
    "    train_dataset = TransliterateDataset(train_data, lang_voc2ind, en_voc2ind, seq_len)\n",
    "    test_dataset = TransliterateDataset(test_data, lang_voc2ind, en_voc2ind, seq_len)\n",
    "    \n",
    "    use_cuda = USE_CUDA and torch.cuda.is_available()\n",
    "    device = torch.device(\"cuda\" if use_cuda else \"cpu\")\n",
    "    print('Using device', device)\n",
    "    \n",
    "    num_workers = multiprocessing.cpu_count()\n",
    "    print('num workers:', num_workers)\n",
    "    kwargs = {'num_workers': num_workers,\n",
    "              'pin_memory': True} if use_cuda else {}\n",
    "    \n",
    "    train_loader = torch.utils.data.DataLoader(train_dataset, batch_size=BATCH_SIZE, drop_last=True,\n",
    "                                               shuffle=False, **kwargs)\n",
    "    test_loader = torch.utils.data.DataLoader(test_dataset, batch_size=TEST_BATCH_SIZE, drop_last=True,\n",
    "                                              shuffle=False, **kwargs)\n",
    "    \n",
    "    model = TransliterateNet(len(en_voc2ind), len(lang_voc2ind), FEATURE_SIZE, RNN_TYPE).to(device)\n",
    "    \n",
    "    optimizer = optim.Adam(model.parameters(), lr=LEARNING_RATE, weight_decay=WEIGHT_DECAY)\n",
    "    #optimizer = optim.SGD(model.parameters(), lr=LEARNING_RATE, momentum=MOMENTUM, weight_decay=WEIGHT_DECAY)\n",
    "    start_epoch = model.load_last_model(OUT_PATH + 'checkpoints')\n",
    "\n",
    "    train_losses, test_losses, test_accuracies = pt_util.read_log(LOG_PATH, ([], [], []))\n",
    "    test_loss, test_accuracy = test(model, device, test_loader, en_ind2voc, lang_ind2voc)\n",
    "\n",
    "    test_losses.append((start_epoch, test_loss))\n",
    "    test_accuracies.append((start_epoch, test_accuracy))\n",
    "    \n",
    "    try:\n",
    "        for epoch in range(start_epoch, EPOCHS + 1):\n",
    "            lr = LEARNING_RATE * np.power(0.25, (int(epoch / 6)))\n",
    "            train_loss = train(model, device, optimizer, train_loader, lr, epoch, PRINT_INTERVAL)\n",
    "            test_loss, test_accuracy = test(model, device, test_loader, en_ind2voc, lang_ind2voc)\n",
    "            train_losses.append((epoch, train_loss))\n",
    "            test_losses.append((epoch, test_loss))\n",
    "            test_accuracies.append((epoch, test_accuracy))\n",
    "            #pt_util.write_log(LOG_PATH, (train_losses, test_losses, test_accuracies))\n",
    "            #model.save_best_model(test_accuracy, OUT_PATH + 'checkpoints/%03d.pt' % epoch)\n",
    "\n",
    "    except KeyboardInterrupt as ke:\n",
    "        print('Interrupted')\n",
    "    except:\n",
    "        import traceback\n",
    "        traceback.print_exc()\n",
    "    finally:\n",
    "        #print('Saving final model')\n",
    "        #model.save_model(OUT_PATH + 'checkpoints/%03d.pt' % epoch, 0)\n",
    "        \n",
    "        sns.set_theme()\n",
    "        \n",
    "        plt.figure(figsize=(12, 6))\n",
    "        ep, val = zip(*train_losses)\n",
    "        plt.plot(ep, val, label='Train Loss')\n",
    "        ep, val = zip(*test_losses)\n",
    "        plt.plot(ep, val, label='Test Loss')\n",
    "        plt.title('Train and Test Loss')\n",
    "        plt.xlabel('Epoch')\n",
    "        plt.ylabel('Error')\n",
    "        plt.legend()\n",
    "        plt.show()\n",
    "        \n",
    "        plt.figure(figsize=(12, 6))\n",
    "        ep, val = zip(*test_accuracies)\n",
    "        plt.plot(ep, val)\n",
    "        plt.title('Test Accuracy')\n",
    "        plt.xlabel('Epoch')\n",
    "        plt.ylabel('Accuracy')\n",
    "        plt.show()\n",
    "        \n",
    "        return model, en_voc2ind, lang_ind2voc, seq_len, device"
   ]
  },
  {
   "cell_type": "code",
   "execution_count": 10,
   "id": "48112d7f",
   "metadata": {},
   "outputs": [],
   "source": [
    "def generate_transliteration(word, model, en_voc2ind, lang_ind2voc, seq_len):\n",
    "    transliteration = []\n",
    "    hidden = None\n",
    "    \n",
    "    en_tokens = tokenize_data(word, en_voc2ind)\n",
    "    en_data = torch.LongTensor(pad_data(en_tokens, seq_len))\n",
    "    \n",
    "    for c in torch.LongTensor(en_data):\n",
    "        x, hidden = model.inference(c, hidden)\n",
    "        transliteration.append(torch.argmax(x))\n",
    "    \n",
    "    return detokenize_and_depad_data(transliteration, lang_ind2voc, len(lang_ind2voc) - 1)"
   ]
  },
  {
   "cell_type": "code",
   "execution_count": 11,
   "id": "39e48498",
   "metadata": {},
   "outputs": [
    {
     "name": "stdout",
     "output_type": "stream",
     "text": [
      "Using device cpu\n",
      "num workers: 48\n",
      "Input\t['f', 'a', 'r', 'm']\n",
      "GT\t['ஃ', 'ப', 'ா', 'ர', '்', 'ம', '்']\n",
      "pred\t['ௌ', '்', '்', 'ஆ', 'ஆ', 'ஆ', 'ஆ', 'ஆ', 'ஆ', 'ஆ', 'ஆ', 'ஆ', 'ஆ', 'ை', 'ை', 'ை', 'ை', 'ை', 'ை', 'ை', 'ை', 'ை', 'ை', 'ை', 'ை', 'ை', 'ை', 'ை', 'ை', 'ை']\n",
      "\n",
      "\n",
      "Input\t['n', 'e', 't', 'r', 'i']\n",
      "GT\t['ந', 'ெ', 'ற', '்', 'ற', 'ி']\n",
      "pred\t['ௌ', 'ௌ', 'ை', 'ை', 'ை', 'ை', 'ை', 'ை', 'ை', 'ை', 'ை', 'ை', 'ை', 'ை', 'ை', 'ை', 'ை', 'ை', 'ை', 'ை', 'ை', 'ை', 'ை', 'ை', 'ை', 'ை', 'ை', 'ை', 'ை', 'ை']\n",
      "\n",
      "\n",
      "Input\t['k', 'a', 'a', 'r', 'a', 'n', 'a', 't', 't', 'a', 'i', 'p']\n",
      "GT\t['க', 'ா', 'ர', 'ண', 'த', '்', 'த', 'ை', 'ப', '்']\n",
      "pred\t['ௌ', '்', '்', 'ஆ', 'எ', 'ச', 'எ', 'எ', 'ை', 'ை', 'எ', 'எ', 'ை', 'ை', 'ை', 'ை', 'ை', 'ை', 'ை', 'ை', 'ை', 'ை', 'ை', 'ை', 'ை', 'ை', 'ை', 'ை', 'ை', 'ை']\n",
      "\n",
      "\n",
      "Input\t['v', 'a', 'a', 'g', 'a', 'n', 'a']\n",
      "GT\t['வ', 'ா', 'க', 'ன']\n",
      "pred\t['ௌ', '்', '்', 'த', 'எ', 'எ', 'எ', 'ை', 'ை', 'ை', 'ை', 'ை', 'ை', 'ை', 'ை', 'ை', 'ை', 'ை', 'ை', 'ை', 'ை', 'ை', 'ை', 'ை', 'ை', 'ை', 'ை', 'ை', 'ை', 'ை']\n",
      "\n",
      "\n",
      "\n",
      "Test set: Average loss: 3.8504, Accuracy: 1334/239760 (1%)\n",
      "\n"
     ]
    },
    {
     "name": "stderr",
     "output_type": "stream",
     "text": [
      "  3%|▎         | 2/75 [00:00<00:15,  4.74it/s]"
     ]
    },
    {
     "name": "stdout",
     "output_type": "stream",
     "text": [
      "Train Epoch: 0 [0/38723 (0%)]\tLoss: 3.849743\n"
     ]
    },
    {
     "name": "stderr",
     "output_type": "stream",
     "text": [
      " 16%|█▌        | 12/75 [00:02<00:12,  4.99it/s]"
     ]
    },
    {
     "name": "stdout",
     "output_type": "stream",
     "text": [
      "Train Epoch: 0 [5120/38723 (13%)]\tLoss: 1.002081\n"
     ]
    },
    {
     "name": "stderr",
     "output_type": "stream",
     "text": [
      " 29%|██▉       | 22/75 [00:04<00:09,  5.43it/s]"
     ]
    },
    {
     "name": "stdout",
     "output_type": "stream",
     "text": [
      "Train Epoch: 0 [10240/38723 (27%)]\tLoss: 1.067675\n"
     ]
    },
    {
     "name": "stderr",
     "output_type": "stream",
     "text": [
      " 43%|████▎     | 32/75 [00:06<00:07,  5.64it/s]"
     ]
    },
    {
     "name": "stdout",
     "output_type": "stream",
     "text": [
      "Train Epoch: 0 [15360/38723 (40%)]\tLoss: 0.996262\n"
     ]
    },
    {
     "name": "stderr",
     "output_type": "stream",
     "text": [
      " 56%|█████▌    | 42/75 [00:08<00:06,  5.25it/s]"
     ]
    },
    {
     "name": "stdout",
     "output_type": "stream",
     "text": [
      "Train Epoch: 0 [20480/38723 (53%)]\tLoss: 1.026766\n"
     ]
    },
    {
     "name": "stderr",
     "output_type": "stream",
     "text": [
      " 69%|██████▉   | 52/75 [00:09<00:04,  5.43it/s]"
     ]
    },
    {
     "name": "stdout",
     "output_type": "stream",
     "text": [
      "Train Epoch: 0 [25600/38723 (67%)]\tLoss: 0.936178\n"
     ]
    },
    {
     "name": "stderr",
     "output_type": "stream",
     "text": [
      " 83%|████████▎ | 62/75 [00:11<00:02,  5.63it/s]"
     ]
    },
    {
     "name": "stdout",
     "output_type": "stream",
     "text": [
      "Train Epoch: 0 [30720/38723 (80%)]\tLoss: 0.929662\n"
     ]
    },
    {
     "name": "stderr",
     "output_type": "stream",
     "text": [
      " 96%|█████████▌| 72/75 [00:13<00:00,  4.80it/s]"
     ]
    },
    {
     "name": "stdout",
     "output_type": "stream",
     "text": [
      "Train Epoch: 0 [35840/38723 (93%)]\tLoss: 0.964160\n"
     ]
    },
    {
     "name": "stderr",
     "output_type": "stream",
     "text": [
      "100%|██████████| 75/75 [00:14<00:00,  5.25it/s]\n"
     ]
    },
    {
     "name": "stdout",
     "output_type": "stream",
     "text": [
      "Input\t['f', 'a', 'r', 'm']\n",
      "GT\t['ஃ', 'ப', 'ா', 'ர', '்', 'ம', '்']\n",
      "pred\t['வ', 'வ', 'வ', '்']\n",
      "\n",
      "\n",
      "Input\t['n', 'e', 't', 'r', 'i']\n",
      "GT\t['ந', 'ெ', 'ற', '்', 'ற', 'ி']\n",
      "pred\t['ம', 'வ', 'த', 'வ', 'ி']\n",
      "\n",
      "\n",
      "Input\t['k', 'a', 'a', 'r', 'a', 'n', 'a', 't', 't', 'a', 'i', 'p']\n",
      "GT\t['க', 'ா', 'ர', 'ண', 'த', '்', 'த', 'ை', 'ப', '்']\n",
      "pred\t['ம', 'வ', 'வ', 'வ', '்', '்', '்', '்', '்', '்', 'ி', 'ப']\n",
      "\n",
      "\n",
      "Input\t['v', 'a', 'a', 'g', 'a', 'n', 'a']\n",
      "GT\t['வ', 'ா', 'க', 'ன']\n",
      "pred\t['வ', 'வ', 'வ', 'க', 'க', '்']\n",
      "\n",
      "\n",
      "\n",
      "Test set: Average loss: 0.9092, Accuracy: 178700/239760 (75%)\n",
      "\n"
     ]
    },
    {
     "name": "stderr",
     "output_type": "stream",
     "text": [
      "  1%|▏         | 1/75 [00:00<00:13,  5.64it/s]"
     ]
    },
    {
     "name": "stdout",
     "output_type": "stream",
     "text": [
      "Train Epoch: 1 [0/38723 (0%)]\tLoss: 1.019939\n"
     ]
    },
    {
     "name": "stderr",
     "output_type": "stream",
     "text": [
      " 16%|█▌        | 12/75 [00:02<00:11,  5.28it/s]"
     ]
    },
    {
     "name": "stdout",
     "output_type": "stream",
     "text": [
      "Train Epoch: 1 [5120/38723 (13%)]\tLoss: 0.870619\n"
     ]
    },
    {
     "name": "stderr",
     "output_type": "stream",
     "text": [
      " 28%|██▊       | 21/75 [00:03<00:10,  5.24it/s]"
     ]
    },
    {
     "name": "stdout",
     "output_type": "stream",
     "text": [
      "Train Epoch: 1 [10240/38723 (27%)]\tLoss: 0.955837\n"
     ]
    },
    {
     "name": "stderr",
     "output_type": "stream",
     "text": [
      " 43%|████▎     | 32/75 [00:05<00:07,  5.60it/s]"
     ]
    },
    {
     "name": "stdout",
     "output_type": "stream",
     "text": [
      "Train Epoch: 1 [15360/38723 (40%)]\tLoss: 0.893153\n"
     ]
    },
    {
     "name": "stderr",
     "output_type": "stream",
     "text": [
      " 56%|█████▌    | 42/75 [00:07<00:05,  5.61it/s]"
     ]
    },
    {
     "name": "stdout",
     "output_type": "stream",
     "text": [
      "Train Epoch: 1 [20480/38723 (53%)]\tLoss: 0.926928\n"
     ]
    },
    {
     "name": "stderr",
     "output_type": "stream",
     "text": [
      " 68%|██████▊   | 51/75 [00:09<00:04,  5.16it/s]"
     ]
    },
    {
     "name": "stdout",
     "output_type": "stream",
     "text": [
      "Train Epoch: 1 [25600/38723 (67%)]\tLoss: 0.865360\n"
     ]
    },
    {
     "name": "stderr",
     "output_type": "stream",
     "text": [
      " 81%|████████▏ | 61/75 [00:11<00:02,  5.35it/s]"
     ]
    },
    {
     "name": "stdout",
     "output_type": "stream",
     "text": [
      "Train Epoch: 1 [30720/38723 (80%)]\tLoss: 0.809724\n"
     ]
    },
    {
     "name": "stderr",
     "output_type": "stream",
     "text": [
      " 96%|█████████▌| 72/75 [00:13<00:00,  5.42it/s]"
     ]
    },
    {
     "name": "stdout",
     "output_type": "stream",
     "text": [
      "Train Epoch: 1 [35840/38723 (93%)]\tLoss: 0.839695\n"
     ]
    },
    {
     "name": "stderr",
     "output_type": "stream",
     "text": [
      "100%|██████████| 75/75 [00:13<00:00,  5.39it/s]\n"
     ]
    },
    {
     "name": "stdout",
     "output_type": "stream",
     "text": [
      "Input\t['f', 'a', 'r', 'm']\n",
      "GT\t['ஃ', 'ப', 'ா', 'ர', '்', 'ம', '்']\n",
      "pred\t['வ', 'ா', '்', 'ம']\n",
      "\n",
      "\n",
      "Input\t['n', 'e', 't', 'r', 'i']\n",
      "GT\t['ந', 'ெ', 'ற', '்', 'ற', 'ி']\n",
      "pred\t['ந', 'ெ', '்', 'ற', 'ி']\n",
      "\n",
      "\n",
      "Input\t['k', 'a', 'a', 'r', 'a', 'n', 'a', 't', 't', 'a', 'i', 'p']\n",
      "GT\t['க', 'ா', 'ர', 'ண', 'த', '்', 'த', 'ை', 'ப', '்']\n",
      "pred\t['க', 'ா', 'க', '்', 'க', '்', 'க', '்', '்']\n",
      "\n",
      "\n",
      "Input\t['v', 'a', 'a', 'g', 'a', 'n', 'a']\n",
      "GT\t['வ', 'ா', 'க', 'ன']\n",
      "pred\t['வ', 'ா', 'ா', 'க', 'க']\n",
      "\n",
      "\n",
      "\n",
      "Test set: Average loss: 0.7628, Accuracy: 187479/239760 (78%)\n",
      "\n"
     ]
    },
    {
     "name": "stderr",
     "output_type": "stream",
     "text": [
      "  1%|▏         | 1/75 [00:00<00:12,  5.80it/s]"
     ]
    },
    {
     "name": "stdout",
     "output_type": "stream",
     "text": [
      "Train Epoch: 2 [0/38723 (0%)]\tLoss: 0.835298\n"
     ]
    },
    {
     "name": "stderr",
     "output_type": "stream",
     "text": [
      " 16%|█▌        | 12/75 [00:02<00:15,  4.10it/s]"
     ]
    },
    {
     "name": "stdout",
     "output_type": "stream",
     "text": [
      "Train Epoch: 2 [5120/38723 (13%)]\tLoss: 0.711159\n"
     ]
    },
    {
     "name": "stderr",
     "output_type": "stream",
     "text": [
      " 29%|██▉       | 22/75 [00:04<00:09,  5.45it/s]"
     ]
    },
    {
     "name": "stdout",
     "output_type": "stream",
     "text": [
      "Train Epoch: 2 [10240/38723 (27%)]\tLoss: 0.902676\n"
     ]
    },
    {
     "name": "stderr",
     "output_type": "stream",
     "text": [
      " 43%|████▎     | 32/75 [00:06<00:07,  5.48it/s]"
     ]
    },
    {
     "name": "stdout",
     "output_type": "stream",
     "text": [
      "Train Epoch: 2 [15360/38723 (40%)]\tLoss: 0.802830\n"
     ]
    },
    {
     "name": "stderr",
     "output_type": "stream",
     "text": [
      " 56%|█████▌    | 42/75 [00:08<00:06,  5.47it/s]"
     ]
    },
    {
     "name": "stdout",
     "output_type": "stream",
     "text": [
      "Train Epoch: 2 [20480/38723 (53%)]\tLoss: 0.870019\n"
     ]
    },
    {
     "name": "stderr",
     "output_type": "stream",
     "text": [
      " 69%|██████▉   | 52/75 [00:10<00:04,  5.07it/s]"
     ]
    },
    {
     "name": "stdout",
     "output_type": "stream",
     "text": [
      "Train Epoch: 2 [25600/38723 (67%)]\tLoss: 0.779193\n"
     ]
    },
    {
     "name": "stderr",
     "output_type": "stream",
     "text": [
      " 83%|████████▎ | 62/75 [00:11<00:02,  5.36it/s]"
     ]
    },
    {
     "name": "stdout",
     "output_type": "stream",
     "text": [
      "Train Epoch: 2 [30720/38723 (80%)]\tLoss: 0.768270\n"
     ]
    },
    {
     "name": "stderr",
     "output_type": "stream",
     "text": [
      " 96%|█████████▌| 72/75 [00:13<00:00,  5.40it/s]"
     ]
    },
    {
     "name": "stdout",
     "output_type": "stream",
     "text": [
      "Train Epoch: 2 [35840/38723 (93%)]\tLoss: 0.790292\n"
     ]
    },
    {
     "name": "stderr",
     "output_type": "stream",
     "text": [
      "100%|██████████| 75/75 [00:14<00:00,  5.23it/s]\n"
     ]
    },
    {
     "name": "stdout",
     "output_type": "stream",
     "text": [
      "Input\t['f', 'a', 'r', 'm']\n",
      "GT\t['ஃ', 'ப', 'ா', 'ர', '்', 'ம', '்']\n",
      "pred\t['ப', 'ா', '்', 'ம', '்']\n",
      "\n",
      "\n",
      "Input\t['n', 'e', 't', 'r', 'i']\n",
      "GT\t['ந', 'ெ', 'ற', '்', 'ற', 'ி']\n",
      "pred\t['ந', 'ெ', '்', 'ற', 'ி']\n",
      "\n",
      "\n",
      "Input\t['k', 'a', 'a', 'r', 'a', 'n', 'a', 't', 't', 'a', 'i', 'p']\n",
      "GT\t['க', 'ா', 'ர', 'ண', 'த', '்', 'த', 'ை', 'ப', '்']\n",
      "pred\t['க', 'ா', 'ா', '்', '்', 'க']\n",
      "\n",
      "\n",
      "Input\t['v', 'a', 'a', 'g', 'a', 'n', 'a']\n",
      "GT\t['வ', 'ா', 'க', 'ன']\n",
      "pred\t['வ', 'ா', 'ா', '்']\n",
      "\n",
      "\n",
      "\n",
      "Test set: Average loss: 0.7082, Accuracy: 189734/239760 (79%)\n",
      "\n"
     ]
    },
    {
     "name": "stderr",
     "output_type": "stream",
     "text": [
      "  1%|▏         | 1/75 [00:00<00:13,  5.62it/s]"
     ]
    },
    {
     "name": "stdout",
     "output_type": "stream",
     "text": [
      "Train Epoch: 3 [0/38723 (0%)]\tLoss: 0.813106\n"
     ]
    },
    {
     "name": "stderr",
     "output_type": "stream",
     "text": [
      " 15%|█▍        | 11/75 [00:02<00:11,  5.54it/s]"
     ]
    },
    {
     "name": "stdout",
     "output_type": "stream",
     "text": [
      "Train Epoch: 3 [5120/38723 (13%)]\tLoss: 0.669920\n"
     ]
    },
    {
     "name": "stderr",
     "output_type": "stream",
     "text": [
      " 29%|██▉       | 22/75 [00:04<00:09,  5.34it/s]"
     ]
    },
    {
     "name": "stdout",
     "output_type": "stream",
     "text": [
      "Train Epoch: 3 [10240/38723 (27%)]\tLoss: 0.902712\n"
     ]
    },
    {
     "name": "stderr",
     "output_type": "stream",
     "text": [
      " 43%|████▎     | 32/75 [00:06<00:07,  5.40it/s]"
     ]
    },
    {
     "name": "stdout",
     "output_type": "stream",
     "text": [
      "Train Epoch: 3 [15360/38723 (40%)]\tLoss: 0.749434\n"
     ]
    },
    {
     "name": "stderr",
     "output_type": "stream",
     "text": [
      " 56%|█████▌    | 42/75 [00:07<00:06,  5.41it/s]"
     ]
    },
    {
     "name": "stdout",
     "output_type": "stream",
     "text": [
      "Train Epoch: 3 [20480/38723 (53%)]\tLoss: 0.814366\n"
     ]
    },
    {
     "name": "stderr",
     "output_type": "stream",
     "text": [
      " 69%|██████▉   | 52/75 [00:09<00:04,  5.48it/s]"
     ]
    },
    {
     "name": "stdout",
     "output_type": "stream",
     "text": [
      "Train Epoch: 3 [25600/38723 (67%)]\tLoss: 0.743319\n"
     ]
    },
    {
     "name": "stderr",
     "output_type": "stream",
     "text": [
      " 83%|████████▎ | 62/75 [00:11<00:02,  5.24it/s]"
     ]
    },
    {
     "name": "stdout",
     "output_type": "stream",
     "text": [
      "Train Epoch: 3 [30720/38723 (80%)]\tLoss: 0.697120\n"
     ]
    },
    {
     "name": "stderr",
     "output_type": "stream",
     "text": [
      " 96%|█████████▌| 72/75 [00:13<00:00,  5.47it/s]"
     ]
    },
    {
     "name": "stdout",
     "output_type": "stream",
     "text": [
      "Train Epoch: 3 [35840/38723 (93%)]\tLoss: 0.739897\n"
     ]
    },
    {
     "name": "stderr",
     "output_type": "stream",
     "text": [
      "100%|██████████| 75/75 [00:14<00:00,  5.32it/s]\n"
     ]
    },
    {
     "name": "stdout",
     "output_type": "stream",
     "text": [
      "Input\t['f', 'a', 'r', 'm']\n",
      "GT\t['ஃ', 'ப', 'ா', 'ர', '்', 'ம', '்']\n",
      "pred\t['ப', 'ா', 'ு', 'ம', '்']\n",
      "\n",
      "\n",
      "Input\t['n', 'e', 't', 'r', 'i']\n",
      "GT\t['ந', 'ெ', 'ற', '்', 'ற', 'ி']\n",
      "pred\t['ந', 'ெ', 'ட', '்', 'ி']\n",
      "\n",
      "\n",
      "Input\t['k', 'a', 'a', 'r', 'a', 'n', 'a', 't', 't', 'a', 'i', 'p']\n",
      "GT\t['க', 'ா', 'ர', 'ண', 'த', '்', 'த', 'ை', 'ப', '்']\n",
      "pred\t['க', 'ா', 'ர', '்', '்', 'க', '்']\n",
      "\n",
      "\n",
      "Input\t['v', 'a', 'a', 'g', 'a', 'n', 'a']\n",
      "GT\t['வ', 'ா', 'க', 'ன']\n",
      "pred\t['வ', 'ழ', 'த', '்', 'த', 'த']\n",
      "\n",
      "\n",
      "\n",
      "Test set: Average loss: 0.6687, Accuracy: 192252/239760 (80%)\n",
      "\n"
     ]
    },
    {
     "name": "stderr",
     "output_type": "stream",
     "text": [
      "  1%|▏         | 1/75 [00:00<00:12,  5.85it/s]"
     ]
    },
    {
     "name": "stdout",
     "output_type": "stream",
     "text": [
      "Train Epoch: 4 [0/38723 (0%)]\tLoss: 0.701630\n"
     ]
    },
    {
     "name": "stderr",
     "output_type": "stream",
     "text": [
      " 16%|█▌        | 12/75 [00:02<00:11,  5.53it/s]"
     ]
    },
    {
     "name": "stdout",
     "output_type": "stream",
     "text": [
      "Train Epoch: 4 [5120/38723 (13%)]\tLoss: 0.602453\n"
     ]
    },
    {
     "name": "stderr",
     "output_type": "stream",
     "text": [
      " 29%|██▉       | 22/75 [00:04<00:10,  5.21it/s]"
     ]
    },
    {
     "name": "stdout",
     "output_type": "stream",
     "text": [
      "Train Epoch: 4 [10240/38723 (27%)]\tLoss: 0.839262\n"
     ]
    },
    {
     "name": "stderr",
     "output_type": "stream",
     "text": [
      " 43%|████▎     | 32/75 [00:05<00:07,  5.54it/s]"
     ]
    },
    {
     "name": "stdout",
     "output_type": "stream",
     "text": [
      "Train Epoch: 4 [15360/38723 (40%)]\tLoss: 0.713339\n"
     ]
    },
    {
     "name": "stderr",
     "output_type": "stream",
     "text": [
      " 56%|█████▌    | 42/75 [00:07<00:06,  5.29it/s]"
     ]
    },
    {
     "name": "stdout",
     "output_type": "stream",
     "text": [
      "Train Epoch: 4 [20480/38723 (53%)]\tLoss: 0.772377\n"
     ]
    },
    {
     "name": "stderr",
     "output_type": "stream",
     "text": [
      " 69%|██████▉   | 52/75 [00:09<00:04,  5.49it/s]"
     ]
    },
    {
     "name": "stdout",
     "output_type": "stream",
     "text": [
      "Train Epoch: 4 [25600/38723 (67%)]\tLoss: 0.685020\n"
     ]
    },
    {
     "name": "stderr",
     "output_type": "stream",
     "text": [
      " 83%|████████▎ | 62/75 [00:11<00:02,  5.46it/s]"
     ]
    },
    {
     "name": "stdout",
     "output_type": "stream",
     "text": [
      "Train Epoch: 4 [30720/38723 (80%)]\tLoss: 0.660611\n"
     ]
    },
    {
     "name": "stderr",
     "output_type": "stream",
     "text": [
      " 96%|█████████▌| 72/75 [00:13<00:00,  5.36it/s]"
     ]
    },
    {
     "name": "stdout",
     "output_type": "stream",
     "text": [
      "Train Epoch: 4 [35840/38723 (93%)]\tLoss: 0.699471\n"
     ]
    },
    {
     "name": "stderr",
     "output_type": "stream",
     "text": [
      "100%|██████████| 75/75 [00:13<00:00,  5.37it/s]\n"
     ]
    },
    {
     "name": "stdout",
     "output_type": "stream",
     "text": [
      "Input\t['f', 'a', 'r', 'm']\n",
      "GT\t['ஃ', 'ப', 'ா', 'ர', '்', 'ம', '்']\n",
      "pred\t['ப', 'ா', 'ு', '்', '்']\n",
      "\n",
      "\n",
      "Input\t['n', 'e', 't', 'r', 'i']\n",
      "GT\t['ந', 'ெ', 'ற', '்', 'ற', 'ி']\n",
      "pred\t['ந', 'ீ', 'ட', '்', 'ன']\n",
      "\n",
      "\n",
      "Input\t['k', 'a', 'a', 'r', 'a', 'n', 'a', 't', 't', 'a', 'i', 'p']\n",
      "GT\t['க', 'ா', 'ர', 'ண', 'த', '்', 'த', 'ை', 'ப', '்']\n",
      "pred\t['க', 'ா', 'ர', '்', '்', 'க', '்', 'ி', 'ி', '்']\n",
      "\n",
      "\n",
      "Input\t['v', 'a', 'a', 'g', 'a', 'n', 'a']\n",
      "GT\t['வ', 'ா', 'க', 'ன']\n",
      "pred\t['வ', 'ழ', 'ர', '்', '்', 'க']\n",
      "\n",
      "\n",
      "\n",
      "Test set: Average loss: 0.6426, Accuracy: 194066/239760 (81%)\n",
      "\n"
     ]
    },
    {
     "name": "stderr",
     "output_type": "stream",
     "text": [
      "  1%|▏         | 1/75 [00:00<00:13,  5.46it/s]"
     ]
    },
    {
     "name": "stdout",
     "output_type": "stream",
     "text": [
      "Train Epoch: 5 [0/38723 (0%)]\tLoss: 0.646780\n"
     ]
    },
    {
     "name": "stderr",
     "output_type": "stream",
     "text": [
      " 15%|█▍        | 11/75 [00:02<00:11,  5.38it/s]"
     ]
    },
    {
     "name": "stdout",
     "output_type": "stream",
     "text": [
      "Train Epoch: 5 [5120/38723 (13%)]\tLoss: 0.544856\n"
     ]
    },
    {
     "name": "stderr",
     "output_type": "stream",
     "text": [
      " 28%|██▊       | 21/75 [00:03<00:10,  5.18it/s]"
     ]
    },
    {
     "name": "stdout",
     "output_type": "stream",
     "text": [
      "Train Epoch: 5 [10240/38723 (27%)]\tLoss: 0.800639\n"
     ]
    },
    {
     "name": "stderr",
     "output_type": "stream",
     "text": [
      " 43%|████▎     | 32/75 [00:06<00:08,  5.11it/s]"
     ]
    },
    {
     "name": "stdout",
     "output_type": "stream",
     "text": [
      "Train Epoch: 5 [15360/38723 (40%)]\tLoss: 0.667158\n"
     ]
    },
    {
     "name": "stderr",
     "output_type": "stream",
     "text": [
      " 56%|█████▌    | 42/75 [00:07<00:06,  5.39it/s]"
     ]
    },
    {
     "name": "stdout",
     "output_type": "stream",
     "text": [
      "Train Epoch: 5 [20480/38723 (53%)]\tLoss: 0.739382\n"
     ]
    },
    {
     "name": "stderr",
     "output_type": "stream",
     "text": [
      " 69%|██████▉   | 52/75 [00:09<00:04,  5.41it/s]"
     ]
    },
    {
     "name": "stdout",
     "output_type": "stream",
     "text": [
      "Train Epoch: 5 [25600/38723 (67%)]\tLoss: 0.633221\n"
     ]
    },
    {
     "name": "stderr",
     "output_type": "stream",
     "text": [
      " 83%|████████▎ | 62/75 [00:11<00:02,  5.32it/s]"
     ]
    },
    {
     "name": "stdout",
     "output_type": "stream",
     "text": [
      "Train Epoch: 5 [30720/38723 (80%)]\tLoss: 0.638162\n"
     ]
    },
    {
     "name": "stderr",
     "output_type": "stream",
     "text": [
      " 96%|█████████▌| 72/75 [00:13<00:00,  5.31it/s]"
     ]
    },
    {
     "name": "stdout",
     "output_type": "stream",
     "text": [
      "Train Epoch: 5 [35840/38723 (93%)]\tLoss: 0.671040\n"
     ]
    },
    {
     "name": "stderr",
     "output_type": "stream",
     "text": [
      "100%|██████████| 75/75 [00:14<00:00,  5.30it/s]\n"
     ]
    },
    {
     "name": "stdout",
     "output_type": "stream",
     "text": [
      "Input\t['f', 'a', 'r', 'm']\n",
      "GT\t['ஃ', 'ப', 'ா', 'ர', '்', 'ம', '்']\n",
      "pred\t['ப', 'ா', '்', 'ம', '்']\n",
      "\n",
      "\n",
      "Input\t['n', 'e', 't', 'r', 'i']\n",
      "GT\t['ந', 'ெ', 'ற', '்', 'ற', 'ி']\n",
      "pred\t['ந', 'ீ', 'ற', '்', 'ர']\n",
      "\n",
      "\n",
      "Input\t['k', 'a', 'a', 'r', 'a', 'n', 'a', 't', 't', 'a', 'i', 'p']\n",
      "GT\t['க', 'ா', 'ர', 'ண', 'த', '்', 'த', 'ை', 'ப', '்']\n",
      "pred\t['க', 'ா', 'த', '்', '்', 'க', '்']\n",
      "\n",
      "\n",
      "Input\t['v', 'a', 'a', 'g', 'a', 'n', 'a']\n",
      "GT\t['வ', 'ா', 'க', 'ன']\n",
      "pred\t['வ', 'ழ', 'ர', 'ி', '்']\n",
      "\n",
      "\n",
      "\n",
      "Test set: Average loss: 0.6496, Accuracy: 193025/239760 (81%)\n",
      "\n"
     ]
    },
    {
     "name": "stderr",
     "output_type": "stream",
     "text": [
      "  1%|▏         | 1/75 [00:00<00:20,  3.59it/s]"
     ]
    },
    {
     "name": "stdout",
     "output_type": "stream",
     "text": [
      "Train Epoch: 6 [0/38723 (0%)]\tLoss: 0.648539\n"
     ]
    },
    {
     "name": "stderr",
     "output_type": "stream",
     "text": [
      " 16%|█▌        | 12/75 [00:02<00:13,  4.69it/s]"
     ]
    },
    {
     "name": "stdout",
     "output_type": "stream",
     "text": [
      "Train Epoch: 6 [5120/38723 (13%)]\tLoss: 0.533323\n"
     ]
    },
    {
     "name": "stderr",
     "output_type": "stream",
     "text": [
      " 29%|██▉       | 22/75 [00:04<00:09,  5.52it/s]"
     ]
    },
    {
     "name": "stdout",
     "output_type": "stream",
     "text": [
      "Train Epoch: 6 [10240/38723 (27%)]\tLoss: 0.797224\n"
     ]
    },
    {
     "name": "stderr",
     "output_type": "stream",
     "text": [
      " 43%|████▎     | 32/75 [00:06<00:08,  5.37it/s]"
     ]
    },
    {
     "name": "stdout",
     "output_type": "stream",
     "text": [
      "Train Epoch: 6 [15360/38723 (40%)]\tLoss: 0.661045\n"
     ]
    },
    {
     "name": "stderr",
     "output_type": "stream",
     "text": [
      " 56%|█████▌    | 42/75 [00:08<00:06,  5.46it/s]"
     ]
    },
    {
     "name": "stdout",
     "output_type": "stream",
     "text": [
      "Train Epoch: 6 [20480/38723 (53%)]\tLoss: 0.725715\n"
     ]
    },
    {
     "name": "stderr",
     "output_type": "stream",
     "text": [
      " 69%|██████▉   | 52/75 [00:09<00:04,  5.49it/s]"
     ]
    },
    {
     "name": "stdout",
     "output_type": "stream",
     "text": [
      "Train Epoch: 6 [25600/38723 (67%)]\tLoss: 0.603991\n"
     ]
    },
    {
     "name": "stderr",
     "output_type": "stream",
     "text": [
      " 83%|████████▎ | 62/75 [00:11<00:02,  5.14it/s]"
     ]
    },
    {
     "name": "stdout",
     "output_type": "stream",
     "text": [
      "Train Epoch: 6 [30720/38723 (80%)]\tLoss: 0.642219\n"
     ]
    },
    {
     "name": "stderr",
     "output_type": "stream",
     "text": [
      " 96%|█████████▌| 72/75 [00:13<00:00,  5.51it/s]"
     ]
    },
    {
     "name": "stdout",
     "output_type": "stream",
     "text": [
      "Train Epoch: 6 [35840/38723 (93%)]\tLoss: 0.646487\n"
     ]
    },
    {
     "name": "stderr",
     "output_type": "stream",
     "text": [
      "100%|██████████| 75/75 [00:14<00:00,  5.29it/s]\n"
     ]
    },
    {
     "name": "stdout",
     "output_type": "stream",
     "text": [
      "Input\t['f', 'a', 'r', 'm']\n",
      "GT\t['ஃ', 'ப', 'ா', 'ர', '்', 'ம', '்']\n",
      "pred\t['ப', 'ா', 'ு', 'ம', '்']\n",
      "\n",
      "\n",
      "Input\t['n', 'e', 't', 'r', 'i']\n",
      "GT\t['ந', 'ெ', 'ற', '்', 'ற', 'ி']\n",
      "pred\t['ந', 'ீ', 'ற', '்', 'ற']\n",
      "\n",
      "\n",
      "Input\t['k', 'a', 'a', 'r', 'a', 'n', 'a', 't', 't', 'a', 'i', 'p']\n",
      "GT\t['க', 'ா', 'ர', 'ண', 'த', '்', 'த', 'ை', 'ப', '்']\n",
      "pred\t['க', 'ா', 'த', '்', '்', 'க', '்', 'ி']\n",
      "\n",
      "\n",
      "Input\t['v', 'a', 'a', 'g', 'a', 'n', 'a']\n",
      "GT\t['வ', 'ா', 'க', 'ன']\n",
      "pred\t['வ', 'ா', 'ர', 'ி', '்']\n",
      "\n",
      "\n",
      "\n",
      "Test set: Average loss: 0.6265, Accuracy: 195222/239760 (81%)\n",
      "\n"
     ]
    },
    {
     "name": "stderr",
     "output_type": "stream",
     "text": [
      "  1%|▏         | 1/75 [00:00<00:13,  5.32it/s]"
     ]
    },
    {
     "name": "stdout",
     "output_type": "stream",
     "text": [
      "Train Epoch: 7 [0/38723 (0%)]\tLoss: 0.636723\n"
     ]
    },
    {
     "name": "stderr",
     "output_type": "stream",
     "text": [
      " 16%|█▌        | 12/75 [00:02<00:11,  5.48it/s]"
     ]
    },
    {
     "name": "stdout",
     "output_type": "stream",
     "text": [
      "Train Epoch: 7 [5120/38723 (13%)]\tLoss: 0.482300\n"
     ]
    },
    {
     "name": "stderr",
     "output_type": "stream",
     "text": [
      " 29%|██▉       | 22/75 [00:03<00:09,  5.56it/s]"
     ]
    },
    {
     "name": "stdout",
     "output_type": "stream",
     "text": [
      "Train Epoch: 7 [10240/38723 (27%)]\tLoss: 0.781783\n"
     ]
    },
    {
     "name": "stderr",
     "output_type": "stream",
     "text": [
      " 41%|████▏     | 31/75 [00:05<00:07,  5.67it/s]"
     ]
    },
    {
     "name": "stdout",
     "output_type": "stream",
     "text": [
      "Train Epoch: 7 [15360/38723 (40%)]\tLoss: 0.630697\n"
     ]
    },
    {
     "name": "stderr",
     "output_type": "stream",
     "text": [
      " 56%|█████▌    | 42/75 [00:07<00:06,  5.49it/s]"
     ]
    },
    {
     "name": "stdout",
     "output_type": "stream",
     "text": [
      "Train Epoch: 7 [20480/38723 (53%)]\tLoss: 0.682734\n"
     ]
    },
    {
     "name": "stderr",
     "output_type": "stream",
     "text": [
      " 69%|██████▉   | 52/75 [00:09<00:04,  5.59it/s]"
     ]
    },
    {
     "name": "stdout",
     "output_type": "stream",
     "text": [
      "Train Epoch: 7 [25600/38723 (67%)]\tLoss: 0.577161\n"
     ]
    },
    {
     "name": "stderr",
     "output_type": "stream",
     "text": [
      " 83%|████████▎ | 62/75 [00:11<00:02,  5.44it/s]"
     ]
    },
    {
     "name": "stdout",
     "output_type": "stream",
     "text": [
      "Train Epoch: 7 [30720/38723 (80%)]\tLoss: 0.586053\n"
     ]
    },
    {
     "name": "stderr",
     "output_type": "stream",
     "text": [
      " 96%|█████████▌| 72/75 [00:13<00:00,  5.58it/s]"
     ]
    },
    {
     "name": "stdout",
     "output_type": "stream",
     "text": [
      "Train Epoch: 7 [35840/38723 (93%)]\tLoss: 0.611960\n"
     ]
    },
    {
     "name": "stderr",
     "output_type": "stream",
     "text": [
      "100%|██████████| 75/75 [00:13<00:00,  5.51it/s]\n"
     ]
    },
    {
     "name": "stdout",
     "output_type": "stream",
     "text": [
      "Input\t['f', 'a', 'r', 'm']\n",
      "GT\t['ஃ', 'ப', 'ா', 'ர', '்', 'ம', '்']\n",
      "pred\t['ப', 'ா', 'ு', 'ம', '்']\n",
      "\n",
      "\n",
      "Input\t['n', 'e', 't', 'r', 'i']\n",
      "GT\t['ந', 'ெ', 'ற', '்', 'ற', 'ி']\n",
      "pred\t['ந', 'ீ', 'ட', '்', 'ற']\n",
      "\n",
      "\n",
      "Input\t['k', 'a', 'a', 'r', 'a', 'n', 'a', 't', 't', 'a', 'i', 'p']\n",
      "GT\t['க', 'ா', 'ர', 'ண', 'த', '்', 'த', 'ை', 'ப', '்']\n",
      "pred\t['க', 'ா', 'த', '்', '்', 'த', 'த', 'ி', 'ல', '்']\n",
      "\n",
      "\n",
      "Input\t['v', 'a', 'a', 'g', 'a', 'n', 'a']\n",
      "GT\t['வ', 'ா', 'க', 'ன']\n",
      "pred\t['வ', 'ா', 'ர', 'ி', '்']\n",
      "\n",
      "\n",
      "\n",
      "Test set: Average loss: 0.6151, Accuracy: 195947/239760 (82%)\n",
      "\n"
     ]
    },
    {
     "name": "stderr",
     "output_type": "stream",
     "text": [
      "  1%|▏         | 1/75 [00:00<00:13,  5.36it/s]"
     ]
    },
    {
     "name": "stdout",
     "output_type": "stream",
     "text": [
      "Train Epoch: 8 [0/38723 (0%)]\tLoss: 0.512458\n"
     ]
    },
    {
     "name": "stderr",
     "output_type": "stream",
     "text": [
      " 16%|█▌        | 12/75 [00:02<00:11,  5.25it/s]"
     ]
    },
    {
     "name": "stdout",
     "output_type": "stream",
     "text": [
      "Train Epoch: 8 [5120/38723 (13%)]\tLoss: 0.463810\n"
     ]
    },
    {
     "name": "stderr",
     "output_type": "stream",
     "text": [
      " 29%|██▉       | 22/75 [00:04<00:09,  5.58it/s]"
     ]
    },
    {
     "name": "stdout",
     "output_type": "stream",
     "text": [
      "Train Epoch: 8 [10240/38723 (27%)]\tLoss: 0.765793\n"
     ]
    },
    {
     "name": "stderr",
     "output_type": "stream",
     "text": [
      " 41%|████▏     | 31/75 [00:05<00:08,  5.20it/s]"
     ]
    },
    {
     "name": "stdout",
     "output_type": "stream",
     "text": [
      "Train Epoch: 8 [15360/38723 (40%)]\tLoss: 0.619700\n"
     ]
    },
    {
     "name": "stderr",
     "output_type": "stream",
     "text": [
      " 56%|█████▌    | 42/75 [00:07<00:05,  5.50it/s]"
     ]
    },
    {
     "name": "stdout",
     "output_type": "stream",
     "text": [
      "Train Epoch: 8 [20480/38723 (53%)]\tLoss: 0.673319\n"
     ]
    },
    {
     "name": "stderr",
     "output_type": "stream",
     "text": [
      " 69%|██████▉   | 52/75 [00:09<00:04,  5.72it/s]"
     ]
    },
    {
     "name": "stdout",
     "output_type": "stream",
     "text": [
      "Train Epoch: 8 [25600/38723 (67%)]\tLoss: 0.572580\n"
     ]
    },
    {
     "name": "stderr",
     "output_type": "stream",
     "text": [
      " 83%|████████▎ | 62/75 [00:11<00:02,  5.64it/s]"
     ]
    },
    {
     "name": "stdout",
     "output_type": "stream",
     "text": [
      "Train Epoch: 8 [30720/38723 (80%)]\tLoss: 0.570428\n"
     ]
    },
    {
     "name": "stderr",
     "output_type": "stream",
     "text": [
      " 96%|█████████▌| 72/75 [00:13<00:00,  5.50it/s]"
     ]
    },
    {
     "name": "stdout",
     "output_type": "stream",
     "text": [
      "Train Epoch: 8 [35840/38723 (93%)]\tLoss: 0.591147\n"
     ]
    },
    {
     "name": "stderr",
     "output_type": "stream",
     "text": [
      "100%|██████████| 75/75 [00:13<00:00,  5.43it/s]\n"
     ]
    },
    {
     "name": "stdout",
     "output_type": "stream",
     "text": [
      "Input\t['f', 'a', 'r', 'm']\n",
      "GT\t['ஃ', 'ப', 'ா', 'ர', '்', 'ம', '்']\n",
      "pred\t['ப', 'ா', 'ு', 'ம', '்']\n",
      "\n",
      "\n",
      "Input\t['n', 'e', 't', 'r', 'i']\n",
      "GT\t['ந', 'ெ', 'ற', '்', 'ற', 'ி']\n",
      "pred\t['ந', 'ீ', 'ட', '்', 'ற', 'ி']\n",
      "\n",
      "\n",
      "Input\t['k', 'a', 'a', 'r', 'a', 'n', 'a', 't', 't', 'a', 'i', 'p']\n",
      "GT\t['க', 'ா', 'ர', 'ண', 'த', '்', 'த', 'ை', 'ப', '்']\n",
      "pred\t['க', 'ா', 'ர', '்', '்', 'க', '்', 'ி', 'ல', '்']\n",
      "\n",
      "\n",
      "Input\t['v', 'a', 'a', 'g', 'a', 'n', 'a']\n",
      "GT\t['வ', 'ா', 'க', 'ன']\n",
      "pred\t['வ', 'ா', 'ழ', 'ை', '்']\n",
      "\n",
      "\n",
      "\n",
      "Test set: Average loss: 0.5835, Accuracy: 198350/239760 (83%)\n",
      "\n"
     ]
    },
    {
     "name": "stderr",
     "output_type": "stream",
     "text": [
      "  3%|▎         | 2/75 [00:00<00:14,  5.20it/s]"
     ]
    },
    {
     "name": "stdout",
     "output_type": "stream",
     "text": [
      "Train Epoch: 9 [0/38723 (0%)]\tLoss: 0.505269\n"
     ]
    },
    {
     "name": "stderr",
     "output_type": "stream",
     "text": [
      " 16%|█▌        | 12/75 [00:02<00:11,  5.28it/s]"
     ]
    },
    {
     "name": "stdout",
     "output_type": "stream",
     "text": [
      "Train Epoch: 9 [5120/38723 (13%)]\tLoss: 0.434673\n"
     ]
    },
    {
     "name": "stderr",
     "output_type": "stream",
     "text": [
      " 29%|██▉       | 22/75 [00:04<00:09,  5.51it/s]"
     ]
    },
    {
     "name": "stdout",
     "output_type": "stream",
     "text": [
      "Train Epoch: 9 [10240/38723 (27%)]\tLoss: 0.714933\n"
     ]
    },
    {
     "name": "stderr",
     "output_type": "stream",
     "text": [
      " 43%|████▎     | 32/75 [00:05<00:07,  5.69it/s]"
     ]
    },
    {
     "name": "stdout",
     "output_type": "stream",
     "text": [
      "Train Epoch: 9 [15360/38723 (40%)]\tLoss: 0.613535\n"
     ]
    },
    {
     "name": "stderr",
     "output_type": "stream",
     "text": [
      " 56%|█████▌    | 42/75 [00:07<00:05,  5.54it/s]"
     ]
    },
    {
     "name": "stdout",
     "output_type": "stream",
     "text": [
      "Train Epoch: 9 [20480/38723 (53%)]\tLoss: 0.655294\n"
     ]
    },
    {
     "name": "stderr",
     "output_type": "stream",
     "text": [
      " 69%|██████▉   | 52/75 [00:09<00:04,  5.49it/s]"
     ]
    },
    {
     "name": "stdout",
     "output_type": "stream",
     "text": [
      "Train Epoch: 9 [25600/38723 (67%)]\tLoss: 0.556984\n"
     ]
    },
    {
     "name": "stderr",
     "output_type": "stream",
     "text": [
      " 83%|████████▎ | 62/75 [00:11<00:02,  5.02it/s]"
     ]
    },
    {
     "name": "stdout",
     "output_type": "stream",
     "text": [
      "Train Epoch: 9 [30720/38723 (80%)]\tLoss: 0.561777\n"
     ]
    },
    {
     "name": "stderr",
     "output_type": "stream",
     "text": [
      " 96%|█████████▌| 72/75 [00:13<00:00,  5.36it/s]"
     ]
    },
    {
     "name": "stdout",
     "output_type": "stream",
     "text": [
      "Train Epoch: 9 [35840/38723 (93%)]\tLoss: 0.561127\n"
     ]
    },
    {
     "name": "stderr",
     "output_type": "stream",
     "text": [
      "100%|██████████| 75/75 [00:13<00:00,  5.39it/s]\n"
     ]
    },
    {
     "name": "stdout",
     "output_type": "stream",
     "text": [
      "Input\t['f', 'a', 'r', 'm']\n",
      "GT\t['ஃ', 'ப', 'ா', 'ர', '்', 'ம', '்']\n",
      "pred\t['ப', 'ா', 'ி', 'ம', '்']\n",
      "\n",
      "\n",
      "Input\t['n', 'e', 't', 'r', 'i']\n",
      "GT\t['ந', 'ெ', 'ற', '்', 'ற', 'ி']\n",
      "pred\t['ந', 'ீ', 'ட', '்', 'ற', 'ி']\n",
      "\n",
      "\n",
      "Input\t['k', 'a', 'a', 'r', 'a', 'n', 'a', 't', 't', 'a', 'i', 'p']\n",
      "GT\t['க', 'ா', 'ர', 'ண', 'த', '்', 'த', 'ை', 'ப', '்']\n",
      "pred\t['க', 'ா', 'ட', '்', '்', '்', '்', 'ி']\n",
      "\n",
      "\n",
      "Input\t['v', 'a', 'a', 'g', 'a', 'n', 'a']\n",
      "GT\t['வ', 'ா', 'க', 'ன']\n",
      "pred\t['வ', 'ழ', 'ர', 'ி', '்']\n",
      "\n",
      "\n",
      "\n",
      "Test set: Average loss: 0.5663, Accuracy: 199916/239760 (83%)\n",
      "\n"
     ]
    },
    {
     "name": "stderr",
     "output_type": "stream",
     "text": [
      "  3%|▎         | 2/75 [00:00<00:16,  4.41it/s]"
     ]
    },
    {
     "name": "stdout",
     "output_type": "stream",
     "text": [
      "Train Epoch: 10 [0/38723 (0%)]\tLoss: 0.431392\n"
     ]
    },
    {
     "name": "stderr",
     "output_type": "stream",
     "text": [
      " 16%|█▌        | 12/75 [00:02<00:11,  5.40it/s]"
     ]
    },
    {
     "name": "stdout",
     "output_type": "stream",
     "text": [
      "Train Epoch: 10 [5120/38723 (13%)]\tLoss: 0.406206\n"
     ]
    },
    {
     "name": "stderr",
     "output_type": "stream",
     "text": [
      " 29%|██▉       | 22/75 [00:04<00:09,  5.50it/s]"
     ]
    },
    {
     "name": "stdout",
     "output_type": "stream",
     "text": [
      "Train Epoch: 10 [10240/38723 (27%)]\tLoss: 0.689375\n"
     ]
    },
    {
     "name": "stderr",
     "output_type": "stream",
     "text": [
      " 43%|████▎     | 32/75 [00:05<00:07,  5.48it/s]"
     ]
    },
    {
     "name": "stdout",
     "output_type": "stream",
     "text": [
      "Train Epoch: 10 [15360/38723 (40%)]\tLoss: 0.587791\n"
     ]
    },
    {
     "name": "stderr",
     "output_type": "stream",
     "text": [
      " 56%|█████▌    | 42/75 [00:07<00:05,  5.62it/s]"
     ]
    },
    {
     "name": "stdout",
     "output_type": "stream",
     "text": [
      "Train Epoch: 10 [20480/38723 (53%)]\tLoss: 0.644395\n"
     ]
    },
    {
     "name": "stderr",
     "output_type": "stream",
     "text": [
      " 69%|██████▉   | 52/75 [00:09<00:04,  5.51it/s]"
     ]
    },
    {
     "name": "stdout",
     "output_type": "stream",
     "text": [
      "Train Epoch: 10 [25600/38723 (67%)]\tLoss: 0.533126\n"
     ]
    },
    {
     "name": "stderr",
     "output_type": "stream",
     "text": [
      " 83%|████████▎ | 62/75 [00:11<00:02,  5.31it/s]"
     ]
    },
    {
     "name": "stdout",
     "output_type": "stream",
     "text": [
      "Train Epoch: 10 [30720/38723 (80%)]\tLoss: 0.544320\n"
     ]
    },
    {
     "name": "stderr",
     "output_type": "stream",
     "text": [
      " 96%|█████████▌| 72/75 [00:13<00:00,  5.32it/s]"
     ]
    },
    {
     "name": "stdout",
     "output_type": "stream",
     "text": [
      "Train Epoch: 10 [35840/38723 (93%)]\tLoss: 0.562023\n"
     ]
    },
    {
     "name": "stderr",
     "output_type": "stream",
     "text": [
      "100%|██████████| 75/75 [00:13<00:00,  5.37it/s]\n"
     ]
    },
    {
     "name": "stdout",
     "output_type": "stream",
     "text": [
      "Input\t['f', 'a', 'r', 'm']\n",
      "GT\t['ஃ', 'ப', 'ா', 'ர', '்', 'ம', '்']\n",
      "pred\t['ப', 'ா', 'ி', 'ம', '்']\n",
      "\n",
      "\n",
      "Input\t['n', 'e', 't', 'r', 'i']\n",
      "GT\t['ந', 'ெ', 'ற', '்', 'ற', 'ி']\n",
      "pred\t['ந', 'ெ', 'ட', '்', 'ற', 'ி']\n",
      "\n",
      "\n",
      "Input\t['k', 'a', 'a', 'r', 'a', 'n', 'a', 't', 't', 'a', 'i', 'p']\n",
      "GT\t['க', 'ா', 'ர', 'ண', 'த', '்', 'த', 'ை', 'ப', '்']\n",
      "pred\t['க', 'ா', 'ட', '்', '்', '்', 'ட', 'ி']\n",
      "\n",
      "\n",
      "Input\t['v', 'a', 'a', 'g', 'a', 'n', 'a']\n",
      "GT\t['வ', 'ா', 'க', 'ன']\n",
      "pred\t['வ', 'ழ', 'ர', 'ி', '்']\n",
      "\n",
      "\n",
      "\n",
      "Test set: Average loss: 0.5606, Accuracy: 199564/239760 (83%)\n",
      "\n"
     ]
    },
    {
     "name": "stderr",
     "output_type": "stream",
     "text": [
      "  1%|▏         | 1/75 [00:00<00:12,  5.74it/s]"
     ]
    },
    {
     "name": "stdout",
     "output_type": "stream",
     "text": [
      "Train Epoch: 11 [0/38723 (0%)]\tLoss: 0.441838\n"
     ]
    },
    {
     "name": "stderr",
     "output_type": "stream",
     "text": [
      " 16%|█▌        | 12/75 [00:02<00:11,  5.54it/s]"
     ]
    },
    {
     "name": "stdout",
     "output_type": "stream",
     "text": [
      "Train Epoch: 11 [5120/38723 (13%)]\tLoss: 0.371148\n"
     ]
    },
    {
     "name": "stderr",
     "output_type": "stream",
     "text": [
      " 29%|██▉       | 22/75 [00:03<00:09,  5.66it/s]"
     ]
    },
    {
     "name": "stdout",
     "output_type": "stream",
     "text": [
      "Train Epoch: 11 [10240/38723 (27%)]\tLoss: 0.663872\n"
     ]
    },
    {
     "name": "stderr",
     "output_type": "stream",
     "text": [
      " 41%|████▏     | 31/75 [00:05<00:08,  5.15it/s]"
     ]
    },
    {
     "name": "stdout",
     "output_type": "stream",
     "text": [
      "Train Epoch: 11 [15360/38723 (40%)]\tLoss: 0.563635\n"
     ]
    },
    {
     "name": "stderr",
     "output_type": "stream",
     "text": [
      " 56%|█████▌    | 42/75 [00:07<00:05,  5.55it/s]"
     ]
    },
    {
     "name": "stdout",
     "output_type": "stream",
     "text": [
      "Train Epoch: 11 [20480/38723 (53%)]\tLoss: 0.628444\n"
     ]
    },
    {
     "name": "stderr",
     "output_type": "stream",
     "text": [
      " 69%|██████▉   | 52/75 [00:09<00:04,  5.60it/s]"
     ]
    },
    {
     "name": "stdout",
     "output_type": "stream",
     "text": [
      "Train Epoch: 11 [25600/38723 (67%)]\tLoss: 0.515639\n"
     ]
    },
    {
     "name": "stderr",
     "output_type": "stream",
     "text": [
      " 83%|████████▎ | 62/75 [00:11<00:02,  5.61it/s]"
     ]
    },
    {
     "name": "stdout",
     "output_type": "stream",
     "text": [
      "Train Epoch: 11 [30720/38723 (80%)]\tLoss: 0.529036\n"
     ]
    },
    {
     "name": "stderr",
     "output_type": "stream",
     "text": [
      " 96%|█████████▌| 72/75 [00:13<00:00,  5.60it/s]"
     ]
    },
    {
     "name": "stdout",
     "output_type": "stream",
     "text": [
      "Train Epoch: 11 [35840/38723 (93%)]\tLoss: 0.524921\n"
     ]
    },
    {
     "name": "stderr",
     "output_type": "stream",
     "text": [
      "100%|██████████| 75/75 [00:13<00:00,  5.49it/s]\n"
     ]
    },
    {
     "name": "stdout",
     "output_type": "stream",
     "text": [
      "Input\t['f', 'a', 'r', 'm']\n",
      "GT\t['ஃ', 'ப', 'ா', 'ர', '்', 'ம', '்']\n",
      "pred\t['ப', 'ா', 'ி', 'ம', '்']\n",
      "\n",
      "\n",
      "Input\t['n', 'e', 't', 'r', 'i']\n",
      "GT\t['ந', 'ெ', 'ற', '்', 'ற', 'ி']\n",
      "pred\t['ந', 'ெ', 'ற', '்', 'ற', 'ி']\n",
      "\n",
      "\n",
      "Input\t['k', 'a', 'a', 'r', 'a', 'n', 'a', 't', 't', 'a', 'i', 'p']\n",
      "GT\t['க', 'ா', 'ர', 'ண', 'த', '்', 'த', 'ை', 'ப', '்']\n",
      "pred\t['க', 'ா', 'ட', 'ி', '்', 'க', '்', 'ி', 'ல']\n",
      "\n",
      "\n",
      "Input\t['v', 'a', 'a', 'g', 'a', 'n', 'a']\n",
      "GT\t['வ', 'ா', 'க', 'ன']\n",
      "pred\t['வ', 'ழ', 'ழ', 'ி', '்', 'க']\n",
      "\n",
      "\n",
      "\n",
      "Test set: Average loss: 0.5630, Accuracy: 199796/239760 (83%)\n",
      "\n"
     ]
    },
    {
     "name": "stderr",
     "output_type": "stream",
     "text": [
      "  1%|▏         | 1/75 [00:00<00:13,  5.63it/s]"
     ]
    },
    {
     "name": "stdout",
     "output_type": "stream",
     "text": [
      "Train Epoch: 12 [0/38723 (0%)]\tLoss: 0.421049\n"
     ]
    },
    {
     "name": "stderr",
     "output_type": "stream",
     "text": [
      " 16%|█▌        | 12/75 [00:02<00:11,  5.52it/s]"
     ]
    },
    {
     "name": "stdout",
     "output_type": "stream",
     "text": [
      "Train Epoch: 12 [5120/38723 (13%)]\tLoss: 0.379080\n"
     ]
    },
    {
     "name": "stderr",
     "output_type": "stream",
     "text": [
      " 29%|██▉       | 22/75 [00:04<00:10,  5.25it/s]"
     ]
    },
    {
     "name": "stdout",
     "output_type": "stream",
     "text": [
      "Train Epoch: 12 [10240/38723 (27%)]\tLoss: 0.621138\n"
     ]
    },
    {
     "name": "stderr",
     "output_type": "stream",
     "text": [
      " 43%|████▎     | 32/75 [00:05<00:07,  5.38it/s]"
     ]
    },
    {
     "name": "stdout",
     "output_type": "stream",
     "text": [
      "Train Epoch: 12 [15360/38723 (40%)]\tLoss: 0.555684\n"
     ]
    },
    {
     "name": "stderr",
     "output_type": "stream",
     "text": [
      " 56%|█████▌    | 42/75 [00:07<00:06,  5.33it/s]"
     ]
    },
    {
     "name": "stdout",
     "output_type": "stream",
     "text": [
      "Train Epoch: 12 [20480/38723 (53%)]\tLoss: 0.635047\n"
     ]
    },
    {
     "name": "stderr",
     "output_type": "stream",
     "text": [
      " 69%|██████▉   | 52/75 [00:09<00:04,  5.17it/s]"
     ]
    },
    {
     "name": "stdout",
     "output_type": "stream",
     "text": [
      "Train Epoch: 12 [25600/38723 (67%)]\tLoss: 0.507660\n"
     ]
    },
    {
     "name": "stderr",
     "output_type": "stream",
     "text": [
      " 83%|████████▎ | 62/75 [00:11<00:02,  5.19it/s]"
     ]
    },
    {
     "name": "stdout",
     "output_type": "stream",
     "text": [
      "Train Epoch: 12 [30720/38723 (80%)]\tLoss: 0.524187\n"
     ]
    },
    {
     "name": "stderr",
     "output_type": "stream",
     "text": [
      " 96%|█████████▌| 72/75 [00:13<00:00,  5.07it/s]"
     ]
    },
    {
     "name": "stdout",
     "output_type": "stream",
     "text": [
      "Train Epoch: 12 [35840/38723 (93%)]\tLoss: 0.507150\n"
     ]
    },
    {
     "name": "stderr",
     "output_type": "stream",
     "text": [
      "100%|██████████| 75/75 [00:14<00:00,  5.29it/s]\n"
     ]
    },
    {
     "name": "stdout",
     "output_type": "stream",
     "text": [
      "Input\t['f', 'a', 'r', 'm']\n",
      "GT\t['ஃ', 'ப', 'ா', 'ர', '்', 'ம', '்']\n",
      "pred\t['ப', 'ா', 'ு', 'ம', '்']\n",
      "\n",
      "\n",
      "Input\t['n', 'e', 't', 'r', 'i']\n",
      "GT\t['ந', 'ெ', 'ற', '்', 'ற', 'ி']\n",
      "pred\t['ந', 'ெ', 'ட', '்', 'ற', 'ி']\n",
      "\n",
      "\n",
      "Input\t['k', 'a', 'a', 'r', 'a', 'n', 'a', 't', 't', 'a', 'i', 'p']\n",
      "GT\t['க', 'ா', 'ர', 'ண', 'த', '்', 'த', 'ை', 'ப', '்']\n",
      "pred\t['க', 'ா', 'ட', 'ி', '்', 'ட', '்', 'ி', 'ல']\n",
      "\n",
      "\n",
      "Input\t['v', 'a', 'a', 'g', 'a', 'n', 'a']\n",
      "GT\t['வ', 'ா', 'க', 'ன']\n",
      "pred\t['வ', 'ா', 'ழ', 'ி', '்']\n",
      "\n",
      "\n",
      "\n",
      "Test set: Average loss: 0.5456, Accuracy: 200912/239760 (84%)\n",
      "\n"
     ]
    },
    {
     "name": "stderr",
     "output_type": "stream",
     "text": [
      "  1%|▏         | 1/75 [00:00<00:12,  5.87it/s]"
     ]
    },
    {
     "name": "stdout",
     "output_type": "stream",
     "text": [
      "Train Epoch: 13 [0/38723 (0%)]\tLoss: 0.426645\n"
     ]
    },
    {
     "name": "stderr",
     "output_type": "stream",
     "text": [
      " 16%|█▌        | 12/75 [00:02<00:11,  5.26it/s]"
     ]
    },
    {
     "name": "stdout",
     "output_type": "stream",
     "text": [
      "Train Epoch: 13 [5120/38723 (13%)]\tLoss: 0.368151\n"
     ]
    },
    {
     "name": "stderr",
     "output_type": "stream",
     "text": [
      " 29%|██▉       | 22/75 [00:04<00:10,  5.17it/s]"
     ]
    },
    {
     "name": "stdout",
     "output_type": "stream",
     "text": [
      "Train Epoch: 13 [10240/38723 (27%)]\tLoss: 0.634194\n"
     ]
    },
    {
     "name": "stderr",
     "output_type": "stream",
     "text": [
      " 43%|████▎     | 32/75 [00:06<00:08,  5.24it/s]"
     ]
    },
    {
     "name": "stdout",
     "output_type": "stream",
     "text": [
      "Train Epoch: 13 [15360/38723 (40%)]\tLoss: 0.528076\n"
     ]
    },
    {
     "name": "stderr",
     "output_type": "stream",
     "text": [
      " 56%|█████▌    | 42/75 [00:08<00:06,  5.28it/s]"
     ]
    },
    {
     "name": "stdout",
     "output_type": "stream",
     "text": [
      "Train Epoch: 13 [20480/38723 (53%)]\tLoss: 0.606853\n"
     ]
    },
    {
     "name": "stderr",
     "output_type": "stream",
     "text": [
      " 69%|██████▉   | 52/75 [00:09<00:04,  5.32it/s]"
     ]
    },
    {
     "name": "stdout",
     "output_type": "stream",
     "text": [
      "Train Epoch: 13 [25600/38723 (67%)]\tLoss: 0.502390\n"
     ]
    },
    {
     "name": "stderr",
     "output_type": "stream",
     "text": [
      " 83%|████████▎ | 62/75 [00:11<00:02,  5.55it/s]"
     ]
    },
    {
     "name": "stdout",
     "output_type": "stream",
     "text": [
      "Train Epoch: 13 [30720/38723 (80%)]\tLoss: 0.524196\n"
     ]
    },
    {
     "name": "stderr",
     "output_type": "stream",
     "text": [
      " 96%|█████████▌| 72/75 [00:13<00:00,  5.28it/s]"
     ]
    },
    {
     "name": "stdout",
     "output_type": "stream",
     "text": [
      "Train Epoch: 13 [35840/38723 (93%)]\tLoss: 0.504258\n"
     ]
    },
    {
     "name": "stderr",
     "output_type": "stream",
     "text": [
      "100%|██████████| 75/75 [00:14<00:00,  5.31it/s]\n"
     ]
    },
    {
     "name": "stdout",
     "output_type": "stream",
     "text": [
      "Input\t['f', 'a', 'r', 'm']\n",
      "GT\t['ஃ', 'ப', 'ா', 'ர', '்', 'ம', '்']\n",
      "pred\t['ப', 'ா', 'ி', 'ம', '்']\n",
      "\n",
      "\n",
      "Input\t['n', 'e', 't', 'r', 'i']\n",
      "GT\t['ந', 'ெ', 'ற', '்', 'ற', 'ி']\n",
      "pred\t['ந', 'ெ', 'ற', '்', 'ற', 'ி']\n",
      "\n",
      "\n",
      "Input\t['k', 'a', 'a', 'r', 'a', 'n', 'a', 't', 't', 'a', 'i', 'p']\n",
      "GT\t['க', 'ா', 'ர', 'ண', 'த', '்', 'த', 'ை', 'ப', '்']\n",
      "pred\t['க', 'ா', 'ட', '்', '்', 'த', 'த', 'ி', 'ல']\n",
      "\n",
      "\n",
      "Input\t['v', 'a', 'a', 'g', 'a', 'n', 'a']\n",
      "GT\t['வ', 'ா', 'க', 'ன']\n",
      "pred\t['வ', 'ா', 'ர', 'ி', '்', 'க']\n",
      "\n",
      "\n",
      "\n",
      "Test set: Average loss: 0.5185, Accuracy: 202837/239760 (85%)\n",
      "\n"
     ]
    },
    {
     "name": "stderr",
     "output_type": "stream",
     "text": [
      "  1%|▏         | 1/75 [00:00<00:12,  5.83it/s]"
     ]
    },
    {
     "name": "stdout",
     "output_type": "stream",
     "text": [
      "Train Epoch: 14 [0/38723 (0%)]\tLoss: 0.380409\n"
     ]
    },
    {
     "name": "stderr",
     "output_type": "stream",
     "text": [
      " 16%|█▌        | 12/75 [00:02<00:12,  4.87it/s]"
     ]
    },
    {
     "name": "stdout",
     "output_type": "stream",
     "text": [
      "Train Epoch: 14 [5120/38723 (13%)]\tLoss: 0.355469\n"
     ]
    },
    {
     "name": "stderr",
     "output_type": "stream",
     "text": [
      " 29%|██▉       | 22/75 [00:04<00:09,  5.42it/s]"
     ]
    },
    {
     "name": "stdout",
     "output_type": "stream",
     "text": [
      "Train Epoch: 14 [10240/38723 (27%)]\tLoss: 0.598063\n"
     ]
    },
    {
     "name": "stderr",
     "output_type": "stream",
     "text": [
      " 43%|████▎     | 32/75 [00:06<00:07,  5.50it/s]"
     ]
    },
    {
     "name": "stdout",
     "output_type": "stream",
     "text": [
      "Train Epoch: 14 [15360/38723 (40%)]\tLoss: 0.515661\n"
     ]
    },
    {
     "name": "stderr",
     "output_type": "stream",
     "text": [
      " 56%|█████▌    | 42/75 [00:07<00:06,  5.38it/s]"
     ]
    },
    {
     "name": "stdout",
     "output_type": "stream",
     "text": [
      "Train Epoch: 14 [20480/38723 (53%)]\tLoss: 0.589069\n"
     ]
    },
    {
     "name": "stderr",
     "output_type": "stream",
     "text": [
      " 69%|██████▉   | 52/75 [00:09<00:04,  5.51it/s]"
     ]
    },
    {
     "name": "stdout",
     "output_type": "stream",
     "text": [
      "Train Epoch: 14 [25600/38723 (67%)]\tLoss: 0.502763\n"
     ]
    },
    {
     "name": "stderr",
     "output_type": "stream",
     "text": [
      " 83%|████████▎ | 62/75 [00:11<00:02,  5.48it/s]"
     ]
    },
    {
     "name": "stdout",
     "output_type": "stream",
     "text": [
      "Train Epoch: 14 [30720/38723 (80%)]\tLoss: 0.504046\n"
     ]
    },
    {
     "name": "stderr",
     "output_type": "stream",
     "text": [
      " 96%|█████████▌| 72/75 [00:13<00:00,  5.31it/s]"
     ]
    },
    {
     "name": "stdout",
     "output_type": "stream",
     "text": [
      "Train Epoch: 14 [35840/38723 (93%)]\tLoss: 0.497053\n"
     ]
    },
    {
     "name": "stderr",
     "output_type": "stream",
     "text": [
      "100%|██████████| 75/75 [00:14<00:00,  5.36it/s]\n"
     ]
    },
    {
     "name": "stdout",
     "output_type": "stream",
     "text": [
      "Input\t['f', 'a', 'r', 'm']\n",
      "GT\t['ஃ', 'ப', 'ா', 'ர', '்', 'ம', '்']\n",
      "pred\t['ப', 'ா', 'ர', 'ம', '்']\n",
      "\n",
      "\n",
      "Input\t['n', 'e', 't', 'r', 'i']\n",
      "GT\t['ந', 'ெ', 'ற', '்', 'ற', 'ி']\n",
      "pred\t['ந', 'ே', 'ட', '்', 'ற', 'ி']\n",
      "\n",
      "\n",
      "Input\t['k', 'a', 'a', 'r', 'a', 'n', 'a', 't', 't', 'a', 'i', 'p']\n",
      "GT\t['க', 'ா', 'ர', 'ண', 'த', '்', 'த', 'ை', 'ப', '்']\n",
      "pred\t['க', 'ா', 'ட', 'ி', '்', 'க', 'ட', 'ி', 'க']\n",
      "\n",
      "\n",
      "Input\t['v', 'a', 'a', 'g', 'a', 'n', 'a']\n",
      "GT\t['வ', 'ா', 'க', 'ன']\n",
      "pred\t['வ', 'ா', 'க', 'ி', '்', 'க']\n",
      "\n",
      "\n",
      "\n",
      "Test set: Average loss: 0.5661, Accuracy: 199545/239760 (83%)\n",
      "\n"
     ]
    },
    {
     "name": "stderr",
     "output_type": "stream",
     "text": [
      "  1%|▏         | 1/75 [00:00<00:13,  5.68it/s]"
     ]
    },
    {
     "name": "stdout",
     "output_type": "stream",
     "text": [
      "Train Epoch: 15 [0/38723 (0%)]\tLoss: 0.417245\n"
     ]
    },
    {
     "name": "stderr",
     "output_type": "stream",
     "text": [
      " 16%|█▌        | 12/75 [00:02<00:11,  5.45it/s]"
     ]
    },
    {
     "name": "stdout",
     "output_type": "stream",
     "text": [
      "Train Epoch: 15 [5120/38723 (13%)]\tLoss: 0.352783\n"
     ]
    },
    {
     "name": "stderr",
     "output_type": "stream",
     "text": [
      " 29%|██▉       | 22/75 [00:03<00:09,  5.64it/s]"
     ]
    },
    {
     "name": "stdout",
     "output_type": "stream",
     "text": [
      "Train Epoch: 15 [10240/38723 (27%)]\tLoss: 0.604255\n"
     ]
    },
    {
     "name": "stderr",
     "output_type": "stream",
     "text": [
      " 43%|████▎     | 32/75 [00:05<00:08,  5.34it/s]"
     ]
    },
    {
     "name": "stdout",
     "output_type": "stream",
     "text": [
      "Train Epoch: 15 [15360/38723 (40%)]\tLoss: 0.545210\n"
     ]
    },
    {
     "name": "stderr",
     "output_type": "stream",
     "text": [
      " 56%|█████▌    | 42/75 [00:07<00:06,  5.30it/s]"
     ]
    },
    {
     "name": "stdout",
     "output_type": "stream",
     "text": [
      "Train Epoch: 15 [20480/38723 (53%)]\tLoss: 0.586548\n"
     ]
    },
    {
     "name": "stderr",
     "output_type": "stream",
     "text": [
      " 69%|██████▉   | 52/75 [00:09<00:04,  5.45it/s]"
     ]
    },
    {
     "name": "stdout",
     "output_type": "stream",
     "text": [
      "Train Epoch: 15 [25600/38723 (67%)]\tLoss: 0.528801\n"
     ]
    },
    {
     "name": "stderr",
     "output_type": "stream",
     "text": [
      " 81%|████████▏ | 61/75 [00:11<00:02,  5.25it/s]"
     ]
    },
    {
     "name": "stdout",
     "output_type": "stream",
     "text": [
      "Train Epoch: 15 [30720/38723 (80%)]\tLoss: 0.525579\n"
     ]
    },
    {
     "name": "stderr",
     "output_type": "stream",
     "text": [
      " 96%|█████████▌| 72/75 [00:13<00:00,  5.63it/s]"
     ]
    },
    {
     "name": "stdout",
     "output_type": "stream",
     "text": [
      "Train Epoch: 15 [35840/38723 (93%)]\tLoss: 0.478108\n"
     ]
    },
    {
     "name": "stderr",
     "output_type": "stream",
     "text": [
      "100%|██████████| 75/75 [00:13<00:00,  5.46it/s]\n"
     ]
    },
    {
     "name": "stdout",
     "output_type": "stream",
     "text": [
      "Input\t['f', 'a', 'r', 'm']\n",
      "GT\t['ஃ', 'ப', 'ா', 'ர', '்', 'ம', '்']\n",
      "pred\t['ப', 'ா', 'ர', 'ம', '்']\n",
      "\n",
      "\n",
      "Input\t['n', 'e', 't', 'r', 'i']\n",
      "GT\t['ந', 'ெ', 'ற', '்', 'ற', 'ி']\n",
      "pred\t['ந', 'ெ', 'ட', '்', 'ற', 'ி']\n",
      "\n",
      "\n",
      "Input\t['k', 'a', 'a', 'r', 'a', 'n', 'a', 't', 't', 'a', 'i', 'p']\n",
      "GT\t['க', 'ா', 'ர', 'ண', 'த', '்', 'த', 'ை', 'ப', '்']\n",
      "pred\t['க', 'ா', 'ல', '்', '்', 'ட', 'ப', 'ி', 'ல', '்']\n",
      "\n",
      "\n",
      "Input\t['v', 'a', 'a', 'g', 'a', 'n', 'a']\n",
      "GT\t['வ', 'ா', 'க', 'ன']\n",
      "pred\t['வ', 'ா', 'ர', 'ி', '்']\n",
      "\n",
      "\n",
      "\n",
      "Test set: Average loss: 0.5369, Accuracy: 201668/239760 (84%)\n",
      "\n"
     ]
    },
    {
     "name": "stderr",
     "output_type": "stream",
     "text": [
      "  1%|▏         | 1/75 [00:00<00:13,  5.45it/s]"
     ]
    },
    {
     "name": "stdout",
     "output_type": "stream",
     "text": [
      "Train Epoch: 16 [0/38723 (0%)]\tLoss: 0.393195\n"
     ]
    },
    {
     "name": "stderr",
     "output_type": "stream",
     "text": [
      " 16%|█▌        | 12/75 [00:02<00:11,  5.34it/s]"
     ]
    },
    {
     "name": "stdout",
     "output_type": "stream",
     "text": [
      "Train Epoch: 16 [5120/38723 (13%)]\tLoss: 0.359725\n"
     ]
    },
    {
     "name": "stderr",
     "output_type": "stream",
     "text": [
      " 29%|██▉       | 22/75 [00:04<00:09,  5.58it/s]"
     ]
    },
    {
     "name": "stdout",
     "output_type": "stream",
     "text": [
      "Train Epoch: 16 [10240/38723 (27%)]\tLoss: 0.602220\n"
     ]
    },
    {
     "name": "stderr",
     "output_type": "stream",
     "text": [
      " 41%|████▏     | 31/75 [00:05<00:08,  5.26it/s]"
     ]
    },
    {
     "name": "stdout",
     "output_type": "stream",
     "text": [
      "Train Epoch: 16 [15360/38723 (40%)]\tLoss: 0.506150\n"
     ]
    },
    {
     "name": "stderr",
     "output_type": "stream",
     "text": [
      " 56%|█████▌    | 42/75 [00:07<00:06,  5.49it/s]"
     ]
    },
    {
     "name": "stdout",
     "output_type": "stream",
     "text": [
      "Train Epoch: 16 [20480/38723 (53%)]\tLoss: 0.593476\n"
     ]
    },
    {
     "name": "stderr",
     "output_type": "stream",
     "text": [
      " 69%|██████▉   | 52/75 [00:09<00:04,  5.44it/s]"
     ]
    },
    {
     "name": "stdout",
     "output_type": "stream",
     "text": [
      "Train Epoch: 16 [25600/38723 (67%)]\tLoss: 0.505371\n"
     ]
    },
    {
     "name": "stderr",
     "output_type": "stream",
     "text": [
      " 81%|████████▏ | 61/75 [00:11<00:02,  5.48it/s]"
     ]
    },
    {
     "name": "stdout",
     "output_type": "stream",
     "text": [
      "Train Epoch: 16 [30720/38723 (80%)]\tLoss: 0.499544\n"
     ]
    },
    {
     "name": "stderr",
     "output_type": "stream",
     "text": [
      " 96%|█████████▌| 72/75 [00:13<00:00,  5.19it/s]"
     ]
    },
    {
     "name": "stdout",
     "output_type": "stream",
     "text": [
      "Train Epoch: 16 [35840/38723 (93%)]\tLoss: 0.480776\n"
     ]
    },
    {
     "name": "stderr",
     "output_type": "stream",
     "text": [
      "100%|██████████| 75/75 [00:13<00:00,  5.39it/s]\n"
     ]
    },
    {
     "name": "stdout",
     "output_type": "stream",
     "text": [
      "Input\t['f', 'a', 'r', 'm']\n",
      "GT\t['ஃ', 'ப', 'ா', 'ர', '்', 'ம', '்']\n",
      "pred\t['ப', 'ா', 'ர', 'ம', '்']\n",
      "\n",
      "\n",
      "Input\t['n', 'e', 't', 'r', 'i']\n",
      "GT\t['ந', 'ெ', 'ற', '்', 'ற', 'ி']\n",
      "pred\t['ந', 'ெ', 'ட', '்', 'ற', 'ி']\n",
      "\n",
      "\n",
      "Input\t['k', 'a', 'a', 'r', 'a', 'n', 'a', 't', 't', 'a', 'i', 'p']\n",
      "GT\t['க', 'ா', 'ர', 'ண', 'த', '்', 'த', 'ை', 'ப', '்']\n",
      "pred\t['க', 'ா', 'ல', '்', '்', 'த', '்', 'ி', 'த', 'ை']\n",
      "\n",
      "\n",
      "Input\t['v', 'a', 'a', 'g', 'a', 'n', 'a']\n",
      "GT\t['வ', 'ா', 'க', 'ன']\n",
      "pred\t['வ', 'ா', 'ர', 'ர', '்']\n",
      "\n",
      "\n",
      "\n",
      "Test set: Average loss: 0.5011, Accuracy: 203770/239760 (85%)\n",
      "\n"
     ]
    },
    {
     "name": "stderr",
     "output_type": "stream",
     "text": [
      "  1%|▏         | 1/75 [00:00<00:13,  5.69it/s]"
     ]
    },
    {
     "name": "stdout",
     "output_type": "stream",
     "text": [
      "Train Epoch: 17 [0/38723 (0%)]\tLoss: 0.410502\n"
     ]
    },
    {
     "name": "stderr",
     "output_type": "stream",
     "text": [
      " 16%|█▌        | 12/75 [00:02<00:11,  5.36it/s]"
     ]
    },
    {
     "name": "stdout",
     "output_type": "stream",
     "text": [
      "Train Epoch: 17 [5120/38723 (13%)]\tLoss: 0.335913\n"
     ]
    },
    {
     "name": "stderr",
     "output_type": "stream",
     "text": [
      " 29%|██▉       | 22/75 [00:04<00:10,  5.19it/s]"
     ]
    },
    {
     "name": "stdout",
     "output_type": "stream",
     "text": [
      "Train Epoch: 17 [10240/38723 (27%)]\tLoss: 0.595443\n"
     ]
    },
    {
     "name": "stderr",
     "output_type": "stream",
     "text": [
      " 43%|████▎     | 32/75 [00:06<00:08,  5.27it/s]"
     ]
    },
    {
     "name": "stdout",
     "output_type": "stream",
     "text": [
      "Train Epoch: 17 [15360/38723 (40%)]\tLoss: 0.508926\n"
     ]
    },
    {
     "name": "stderr",
     "output_type": "stream",
     "text": [
      " 56%|█████▌    | 42/75 [00:07<00:05,  5.55it/s]"
     ]
    },
    {
     "name": "stdout",
     "output_type": "stream",
     "text": [
      "Train Epoch: 17 [20480/38723 (53%)]\tLoss: 0.581962\n"
     ]
    },
    {
     "name": "stderr",
     "output_type": "stream",
     "text": [
      " 69%|██████▉   | 52/75 [00:09<00:04,  5.57it/s]"
     ]
    },
    {
     "name": "stdout",
     "output_type": "stream",
     "text": [
      "Train Epoch: 17 [25600/38723 (67%)]\tLoss: 0.460900\n"
     ]
    },
    {
     "name": "stderr",
     "output_type": "stream",
     "text": [
      " 83%|████████▎ | 62/75 [00:11<00:02,  5.52it/s]"
     ]
    },
    {
     "name": "stdout",
     "output_type": "stream",
     "text": [
      "Train Epoch: 17 [30720/38723 (80%)]\tLoss: 0.509928\n"
     ]
    },
    {
     "name": "stderr",
     "output_type": "stream",
     "text": [
      " 96%|█████████▌| 72/75 [00:13<00:00,  5.34it/s]"
     ]
    },
    {
     "name": "stdout",
     "output_type": "stream",
     "text": [
      "Train Epoch: 17 [35840/38723 (93%)]\tLoss: 0.458676\n"
     ]
    },
    {
     "name": "stderr",
     "output_type": "stream",
     "text": [
      "100%|██████████| 75/75 [00:13<00:00,  5.40it/s]\n"
     ]
    },
    {
     "name": "stdout",
     "output_type": "stream",
     "text": [
      "Input\t['f', 'a', 'r', 'm']\n",
      "GT\t['ஃ', 'ப', 'ா', 'ர', '்', 'ம', '்']\n",
      "pred\t['ப', 'ா', 'ு', 'ம', '்']\n",
      "\n",
      "\n",
      "Input\t['n', 'e', 't', 'r', 'i']\n",
      "GT\t['ந', 'ெ', 'ற', '்', 'ற', 'ி']\n",
      "pred\t['ந', 'ெ', 'ட', '்', 'ற', 'ி']\n",
      "\n",
      "\n",
      "Input\t['k', 'a', 'a', 'r', 'a', 'n', 'a', 't', 't', 'a', 'i', 'p']\n",
      "GT\t['க', 'ா', 'ர', 'ண', 'த', '்', 'த', 'ை', 'ப', '்']\n",
      "pred\t['க', 'ா', 'ர', 'ு', '்', 'ப', 'ப', 'ி']\n",
      "\n",
      "\n",
      "Input\t['v', 'a', 'a', 'g', 'a', 'n', 'a']\n",
      "GT\t['வ', 'ா', 'க', 'ன']\n",
      "pred\t['வ', 'ா', 'ர', 'ா']\n",
      "\n",
      "\n",
      "\n",
      "Test set: Average loss: 0.5191, Accuracy: 203150/239760 (85%)\n",
      "\n"
     ]
    },
    {
     "name": "stderr",
     "output_type": "stream",
     "text": [
      "  1%|▏         | 1/75 [00:00<00:12,  5.70it/s]"
     ]
    },
    {
     "name": "stdout",
     "output_type": "stream",
     "text": [
      "Train Epoch: 18 [0/38723 (0%)]\tLoss: 0.357029\n"
     ]
    },
    {
     "name": "stderr",
     "output_type": "stream",
     "text": [
      " 16%|█▌        | 12/75 [00:02<00:12,  5.02it/s]"
     ]
    },
    {
     "name": "stdout",
     "output_type": "stream",
     "text": [
      "Train Epoch: 18 [5120/38723 (13%)]\tLoss: 0.329480\n"
     ]
    },
    {
     "name": "stderr",
     "output_type": "stream",
     "text": [
      " 29%|██▉       | 22/75 [00:04<00:09,  5.53it/s]"
     ]
    },
    {
     "name": "stdout",
     "output_type": "stream",
     "text": [
      "Train Epoch: 18 [10240/38723 (27%)]\tLoss: 0.572006\n"
     ]
    },
    {
     "name": "stderr",
     "output_type": "stream",
     "text": [
      " 43%|████▎     | 32/75 [00:05<00:07,  5.47it/s]"
     ]
    },
    {
     "name": "stdout",
     "output_type": "stream",
     "text": [
      "Train Epoch: 18 [15360/38723 (40%)]\tLoss: 0.498788\n"
     ]
    },
    {
     "name": "stderr",
     "output_type": "stream",
     "text": [
      " 56%|█████▌    | 42/75 [00:07<00:05,  5.56it/s]"
     ]
    },
    {
     "name": "stdout",
     "output_type": "stream",
     "text": [
      "Train Epoch: 18 [20480/38723 (53%)]\tLoss: 0.551466\n"
     ]
    },
    {
     "name": "stderr",
     "output_type": "stream",
     "text": [
      " 69%|██████▉   | 52/75 [00:09<00:04,  5.39it/s]"
     ]
    },
    {
     "name": "stdout",
     "output_type": "stream",
     "text": [
      "Train Epoch: 18 [25600/38723 (67%)]\tLoss: 0.462846\n"
     ]
    },
    {
     "name": "stderr",
     "output_type": "stream",
     "text": [
      " 83%|████████▎ | 62/75 [00:11<00:02,  5.30it/s]"
     ]
    },
    {
     "name": "stdout",
     "output_type": "stream",
     "text": [
      "Train Epoch: 18 [30720/38723 (80%)]\tLoss: 0.477971\n"
     ]
    },
    {
     "name": "stderr",
     "output_type": "stream",
     "text": [
      " 96%|█████████▌| 72/75 [00:13<00:00,  5.56it/s]"
     ]
    },
    {
     "name": "stdout",
     "output_type": "stream",
     "text": [
      "Train Epoch: 18 [35840/38723 (93%)]\tLoss: 0.436217\n"
     ]
    },
    {
     "name": "stderr",
     "output_type": "stream",
     "text": [
      "100%|██████████| 75/75 [00:13<00:00,  5.40it/s]\n"
     ]
    },
    {
     "name": "stdout",
     "output_type": "stream",
     "text": [
      "Input\t['f', 'a', 'r', 'm']\n",
      "GT\t['ஃ', 'ப', 'ா', 'ர', '்', 'ம', '்']\n",
      "pred\t['ப', 'ா', 'ர', 'ம', '்']\n",
      "\n",
      "\n",
      "Input\t['n', 'e', 't', 'r', 'i']\n",
      "GT\t['ந', 'ெ', 'ற', '்', 'ற', 'ி']\n",
      "pred\t['ந', 'ெ', 'ட', '்', 'ற', 'ி']\n",
      "\n",
      "\n",
      "Input\t['k', 'a', 'a', 'r', 'a', 'n', 'a', 't', 't', 'a', 'i', 'p']\n",
      "GT\t['க', 'ா', 'ர', 'ண', 'த', '்', 'த', 'ை', 'ப', '்']\n",
      "pred\t['க', 'ா', 'ர', '்', '்', 'க', 'ப', 'ி', 'க']\n",
      "\n",
      "\n",
      "Input\t['v', 'a', 'a', 'g', 'a', 'n', 'a']\n",
      "GT\t['வ', 'ா', 'க', 'ன']\n",
      "pred\t['வ', 'ா', 'ர', '்']\n",
      "\n",
      "\n",
      "\n",
      "Test set: Average loss: 0.5251, Accuracy: 202315/239760 (84%)\n",
      "\n"
     ]
    },
    {
     "name": "stderr",
     "output_type": "stream",
     "text": [
      "  1%|▏         | 1/75 [00:00<00:13,  5.43it/s]"
     ]
    },
    {
     "name": "stdout",
     "output_type": "stream",
     "text": [
      "Train Epoch: 19 [0/38723 (0%)]\tLoss: 0.387091\n"
     ]
    },
    {
     "name": "stderr",
     "output_type": "stream",
     "text": [
      " 16%|█▌        | 12/75 [00:02<00:11,  5.55it/s]"
     ]
    },
    {
     "name": "stdout",
     "output_type": "stream",
     "text": [
      "Train Epoch: 19 [5120/38723 (13%)]\tLoss: 0.310823\n"
     ]
    },
    {
     "name": "stderr",
     "output_type": "stream",
     "text": [
      " 29%|██▉       | 22/75 [00:04<00:09,  5.55it/s]"
     ]
    },
    {
     "name": "stdout",
     "output_type": "stream",
     "text": [
      "Train Epoch: 19 [10240/38723 (27%)]\tLoss: 0.553146\n"
     ]
    },
    {
     "name": "stderr",
     "output_type": "stream",
     "text": [
      " 43%|████▎     | 32/75 [00:05<00:07,  5.52it/s]"
     ]
    },
    {
     "name": "stdout",
     "output_type": "stream",
     "text": [
      "Train Epoch: 19 [15360/38723 (40%)]\tLoss: 0.467906\n"
     ]
    },
    {
     "name": "stderr",
     "output_type": "stream",
     "text": [
      " 56%|█████▌    | 42/75 [00:07<00:06,  5.49it/s]"
     ]
    },
    {
     "name": "stdout",
     "output_type": "stream",
     "text": [
      "Train Epoch: 19 [20480/38723 (53%)]\tLoss: 0.540777\n"
     ]
    },
    {
     "name": "stderr",
     "output_type": "stream",
     "text": [
      " 69%|██████▉   | 52/75 [00:09<00:04,  5.64it/s]"
     ]
    },
    {
     "name": "stdout",
     "output_type": "stream",
     "text": [
      "Train Epoch: 19 [25600/38723 (67%)]\tLoss: 0.437513\n"
     ]
    },
    {
     "name": "stderr",
     "output_type": "stream",
     "text": [
      " 83%|████████▎ | 62/75 [00:11<00:02,  5.51it/s]"
     ]
    },
    {
     "name": "stdout",
     "output_type": "stream",
     "text": [
      "Train Epoch: 19 [30720/38723 (80%)]\tLoss: 0.451529\n"
     ]
    },
    {
     "name": "stderr",
     "output_type": "stream",
     "text": [
      " 96%|█████████▌| 72/75 [00:13<00:00,  5.52it/s]"
     ]
    },
    {
     "name": "stdout",
     "output_type": "stream",
     "text": [
      "Train Epoch: 19 [35840/38723 (93%)]\tLoss: 0.422038\n"
     ]
    },
    {
     "name": "stderr",
     "output_type": "stream",
     "text": [
      "100%|██████████| 75/75 [00:13<00:00,  5.51it/s]\n"
     ]
    },
    {
     "name": "stdout",
     "output_type": "stream",
     "text": [
      "Input\t['f', 'a', 'r', 'm']\n",
      "GT\t['ஃ', 'ப', 'ா', 'ர', '்', 'ம', '்']\n",
      "pred\t['ப', 'ா', 'ர', 'ம', '்']\n",
      "\n",
      "\n",
      "Input\t['n', 'e', 't', 'r', 'i']\n",
      "GT\t['ந', 'ெ', 'ற', '்', 'ற', 'ி']\n",
      "pred\t['ந', 'ெ', 'ட', '்', 'ற', 'ி']\n",
      "\n",
      "\n",
      "Input\t['k', 'a', 'a', 'r', 'a', 'n', 'a', 't', 't', 'a', 'i', 'p']\n",
      "GT\t['க', 'ா', 'ர', 'ண', 'த', '்', 'த', 'ை', 'ப', '்']\n",
      "pred\t['க', 'ா', 'ல', 'ி', '்', 'த', 'ப', 'ி', 'ல', '்']\n",
      "\n",
      "\n",
      "Input\t['v', 'a', 'a', 'g', 'a', 'n', 'a']\n",
      "GT\t['வ', 'ா', 'க', 'ன']\n",
      "pred\t['வ', 'ா', 'ர', 'ி', 'ன']\n",
      "\n",
      "\n",
      "\n",
      "Test set: Average loss: 0.5282, Accuracy: 202401/239760 (84%)\n",
      "\n"
     ]
    },
    {
     "name": "stderr",
     "output_type": "stream",
     "text": [
      "  1%|▏         | 1/75 [00:00<00:12,  5.88it/s]"
     ]
    },
    {
     "name": "stdout",
     "output_type": "stream",
     "text": [
      "Train Epoch: 20 [0/38723 (0%)]\tLoss: 0.333955\n"
     ]
    },
    {
     "name": "stderr",
     "output_type": "stream",
     "text": [
      " 16%|█▌        | 12/75 [00:02<00:11,  5.34it/s]"
     ]
    },
    {
     "name": "stdout",
     "output_type": "stream",
     "text": [
      "Train Epoch: 20 [5120/38723 (13%)]\tLoss: 0.312871\n"
     ]
    },
    {
     "name": "stderr",
     "output_type": "stream",
     "text": [
      " 29%|██▉       | 22/75 [00:04<00:10,  5.12it/s]"
     ]
    },
    {
     "name": "stdout",
     "output_type": "stream",
     "text": [
      "Train Epoch: 20 [10240/38723 (27%)]\tLoss: 0.529105\n"
     ]
    },
    {
     "name": "stderr",
     "output_type": "stream",
     "text": [
      " 43%|████▎     | 32/75 [00:05<00:07,  5.47it/s]"
     ]
    },
    {
     "name": "stdout",
     "output_type": "stream",
     "text": [
      "Train Epoch: 20 [15360/38723 (40%)]\tLoss: 0.469378\n"
     ]
    },
    {
     "name": "stderr",
     "output_type": "stream",
     "text": [
      " 56%|█████▌    | 42/75 [00:07<00:06,  5.50it/s]"
     ]
    },
    {
     "name": "stdout",
     "output_type": "stream",
     "text": [
      "Train Epoch: 20 [20480/38723 (53%)]\tLoss: 0.515323\n"
     ]
    },
    {
     "name": "stderr",
     "output_type": "stream",
     "text": [
      " 69%|██████▉   | 52/75 [00:09<00:04,  5.42it/s]"
     ]
    },
    {
     "name": "stdout",
     "output_type": "stream",
     "text": [
      "Train Epoch: 20 [25600/38723 (67%)]\tLoss: 0.417788\n"
     ]
    },
    {
     "name": "stderr",
     "output_type": "stream",
     "text": [
      " 83%|████████▎ | 62/75 [00:11<00:02,  5.52it/s]"
     ]
    },
    {
     "name": "stdout",
     "output_type": "stream",
     "text": [
      "Train Epoch: 20 [30720/38723 (80%)]\tLoss: 0.441014\n"
     ]
    },
    {
     "name": "stderr",
     "output_type": "stream",
     "text": [
      " 96%|█████████▌| 72/75 [00:13<00:00,  5.46it/s]"
     ]
    },
    {
     "name": "stdout",
     "output_type": "stream",
     "text": [
      "Train Epoch: 20 [35840/38723 (93%)]\tLoss: 0.409538\n"
     ]
    },
    {
     "name": "stderr",
     "output_type": "stream",
     "text": [
      "100%|██████████| 75/75 [00:13<00:00,  5.44it/s]\n"
     ]
    },
    {
     "name": "stdout",
     "output_type": "stream",
     "text": [
      "Input\t['f', 'a', 'r', 'm']\n",
      "GT\t['ஃ', 'ப', 'ா', 'ர', '்', 'ம', '்']\n",
      "pred\t['ப', 'ா', 'ர', 'ம', '்']\n",
      "\n",
      "\n",
      "Input\t['n', 'e', 't', 'r', 'i']\n",
      "GT\t['ந', 'ெ', 'ற', '்', 'ற', 'ி']\n",
      "pred\t['ந', 'ெ', 'ற', '்', 'ற', 'ி']\n",
      "\n",
      "\n",
      "Input\t['k', 'a', 'a', 'r', 'a', 'n', 'a', 't', 't', 'a', 'i', 'p']\n",
      "GT\t['க', 'ா', 'ர', 'ண', 'த', '்', 'த', 'ை', 'ப', '்']\n",
      "pred\t['க', 'ா', 'ல', 'ி', '்', 'க', 'ப', 'ை', 'ல', 'ம', 'ம']\n",
      "\n",
      "\n",
      "Input\t['v', 'a', 'a', 'g', 'a', 'n', 'a']\n",
      "GT\t['வ', 'ா', 'க', 'ன']\n",
      "pred\t['வ', 'ழ', 'ழ', 'ி', '்']\n",
      "\n",
      "\n",
      "\n",
      "Test set: Average loss: 0.5025, Accuracy: 203884/239760 (85%)\n",
      "\n"
     ]
    },
    {
     "data": {
      "image/png": "[encoded data removed]",
      "text/plain": [
       "<Figure size 864x432 with 1 Axes>"
      ]
     },
     "metadata": {},
     "output_type": "display_data"
    },
    {
     "data": {
      "image/png": "[encoded data removed]",
      "text/plain": [
       "<Figure size 864x432 with 1 Axes>"
      ]
     },
     "metadata": {},
     "output_type": "display_data"
    }
   ],
   "source": [
    "ta_gru_model, ta_en_voc2ind, ta_ind2voc, ta_seq_len, device = main('ta', 'gru')"
   ]
  },
  {
   "cell_type": "code",
   "execution_count": 12,
   "id": "7ca7f79c",
   "metadata": {
    "scrolled": true
   },
   "outputs": [
    {
     "name": "stdout",
     "output_type": "stream",
     "text": [
      "Using device cpu\n",
      "num workers: 48\n",
      "Input\t['f', 'a', 'r', 'm']\n",
      "GT\t['ஃ', 'ப', 'ா', 'ர', '்', 'ம', '்']\n",
      "pred\t['க', 'க', 'ம', 'ம', 'ம', 'ம', 'ம', 'ம', 'ம', 'ம', 'ம', 'ம', 'ம', 'ம', 'ம', 'ம', 'ம', 'ம', 'ம', 'ம', 'ம', 'ம', 'ம', 'ம', 'ம', 'ம', 'ம', 'ம', 'ம', 'ம']\n",
      "\n",
      "\n",
      "Input\t['n', 'e', 't', 'r', 'i']\n",
      "GT\t['ந', 'ெ', 'ற', '்', 'ற', 'ி']\n",
      "pred\t['க', 'ே', 'ம', 'ம', 'ம', 'ம', 'ம', 'ம', 'ம', 'ம', 'ம', 'ம', 'ம', 'ம', 'ம', 'ம', 'ம', 'ம', 'ம', 'ம', 'ம', 'ம', 'ம', 'ம', 'ம', 'ம', 'ம', 'ம', 'ம', 'ம']\n",
      "\n",
      "\n",
      "Input\t['k', 'a', 'a', 'r', 'a', 'n', 'a', 't', 't', 'a', 'i', 'p']\n",
      "GT\t['க', 'ா', 'ர', 'ண', 'த', '்', 'த', 'ை', 'ப', '்']\n",
      "pred\t['க', 'ஞ', 'ஞ', 'ம', 'ம', 'ம', 'ம', 'ம', 'ம', 'ம', 'ம', 'ம', 'ம', 'ம', 'ம', 'ம', 'ம', 'ம', 'ம', 'ம', 'ம', 'ம', 'ம', 'ம', 'ம', 'ம', 'ம', 'ம', 'ம', 'ம']\n",
      "\n",
      "\n",
      "Input\t['v', 'a', 'a', 'g', 'a', 'n', 'a']\n",
      "GT\t['வ', 'ா', 'க', 'ன']\n",
      "pred\t['க', 'க', 'ம', 'ம', 'ம', 'ம', 'ம', 'ம', 'ம', 'ம', 'ம', 'ம', 'ம', 'ம', 'ம', 'ம', 'ம', 'ம', 'ம', 'ம', 'ம', 'ம', 'ம', 'ம', 'ம', 'ம', 'ம', 'ம', 'ம', 'ம']\n",
      "\n",
      "\n",
      "\n",
      "Test set: Average loss: 3.8920, Accuracy: 3249/239760 (1%)\n",
      "\n"
     ]
    },
    {
     "name": "stderr",
     "output_type": "stream",
     "text": [
      "  1%|▏         | 1/75 [00:00<00:17,  4.28it/s]"
     ]
    },
    {
     "name": "stdout",
     "output_type": "stream",
     "text": [
      "Train Epoch: 0 [0/38723 (0%)]\tLoss: 3.889306\n"
     ]
    },
    {
     "name": "stderr",
     "output_type": "stream",
     "text": [
      " 15%|█▍        | 11/75 [00:02<00:13,  4.61it/s]"
     ]
    },
    {
     "name": "stdout",
     "output_type": "stream",
     "text": [
      "Train Epoch: 0 [5120/38723 (13%)]\tLoss: 1.060485\n"
     ]
    },
    {
     "name": "stderr",
     "output_type": "stream",
     "text": [
      " 28%|██▊       | 21/75 [00:04<00:11,  4.66it/s]"
     ]
    },
    {
     "name": "stdout",
     "output_type": "stream",
     "text": [
      "Train Epoch: 0 [10240/38723 (27%)]\tLoss: 1.060327\n"
     ]
    },
    {
     "name": "stderr",
     "output_type": "stream",
     "text": [
      " 41%|████▏     | 31/75 [00:06<00:09,  4.41it/s]"
     ]
    },
    {
     "name": "stdout",
     "output_type": "stream",
     "text": [
      "Train Epoch: 0 [15360/38723 (40%)]\tLoss: 0.996180\n"
     ]
    },
    {
     "name": "stderr",
     "output_type": "stream",
     "text": [
      " 55%|█████▍    | 41/75 [00:09<00:07,  4.30it/s]"
     ]
    },
    {
     "name": "stdout",
     "output_type": "stream",
     "text": [
      "Train Epoch: 0 [20480/38723 (53%)]\tLoss: 1.076710\n"
     ]
    },
    {
     "name": "stderr",
     "output_type": "stream",
     "text": [
      " 68%|██████▊   | 51/75 [00:11<00:05,  4.56it/s]"
     ]
    },
    {
     "name": "stdout",
     "output_type": "stream",
     "text": [
      "Train Epoch: 0 [25600/38723 (67%)]\tLoss: 1.014074\n"
     ]
    },
    {
     "name": "stderr",
     "output_type": "stream",
     "text": [
      " 81%|████████▏ | 61/75 [00:13<00:03,  4.63it/s]"
     ]
    },
    {
     "name": "stdout",
     "output_type": "stream",
     "text": [
      "Train Epoch: 0 [30720/38723 (80%)]\tLoss: 0.989076\n"
     ]
    },
    {
     "name": "stderr",
     "output_type": "stream",
     "text": [
      " 96%|█████████▌| 72/75 [00:15<00:00,  4.66it/s]"
     ]
    },
    {
     "name": "stdout",
     "output_type": "stream",
     "text": [
      "Train Epoch: 0 [35840/38723 (93%)]\tLoss: 1.000619\n"
     ]
    },
    {
     "name": "stderr",
     "output_type": "stream",
     "text": [
      "100%|██████████| 75/75 [00:16<00:00,  4.54it/s]\n"
     ]
    },
    {
     "name": "stdout",
     "output_type": "stream",
     "text": [
      "Input\t['f', 'a', 'r', 'm']\n",
      "GT\t['ஃ', 'ப', 'ா', 'ர', '்', 'ம', '்']\n",
      "pred\t['ம', 'ா', '்', '்']\n",
      "\n",
      "\n",
      "Input\t['n', 'e', 't', 'r', 'i']\n",
      "GT\t['ந', 'ெ', 'ற', '்', 'ற', 'ி']\n",
      "pred\t['ம', 'ி', '்', '்', 'ி']\n",
      "\n",
      "\n",
      "Input\t['k', 'a', 'a', 'r', 'a', 'n', 'a', 't', 't', 'a', 'i', 'p']\n",
      "GT\t['க', 'ா', 'ர', 'ண', 'த', '்', 'த', 'ை', 'ப', '்']\n",
      "pred\t['ம', '்', '்', '்', '்', '்', '்', '்', '்', '்']\n",
      "\n",
      "\n",
      "Input\t['v', 'a', 'a', 'g', 'a', 'n', 'a']\n",
      "GT\t['வ', 'ா', 'க', 'ன']\n",
      "pred\t['ம', '்', '்', 'க', '்', '்', '்']\n",
      "\n",
      "\n",
      "\n",
      "Test set: Average loss: 0.9512, Accuracy: 176861/239760 (74%)\n",
      "\n"
     ]
    },
    {
     "name": "stderr",
     "output_type": "stream",
     "text": [
      "  1%|▏         | 1/75 [00:00<00:15,  4.72it/s]"
     ]
    },
    {
     "name": "stdout",
     "output_type": "stream",
     "text": [
      "Train Epoch: 1 [0/38723 (0%)]\tLoss: 1.009738\n"
     ]
    },
    {
     "name": "stderr",
     "output_type": "stream",
     "text": [
      " 15%|█▍        | 11/75 [00:02<00:13,  4.69it/s]"
     ]
    },
    {
     "name": "stdout",
     "output_type": "stream",
     "text": [
      "Train Epoch: 1 [5120/38723 (13%)]\tLoss: 0.937108\n"
     ]
    },
    {
     "name": "stderr",
     "output_type": "stream",
     "text": [
      " 28%|██▊       | 21/75 [00:04<00:11,  4.72it/s]"
     ]
    },
    {
     "name": "stdout",
     "output_type": "stream",
     "text": [
      "Train Epoch: 1 [10240/38723 (27%)]\tLoss: 0.966087\n"
     ]
    },
    {
     "name": "stderr",
     "output_type": "stream",
     "text": [
      " 41%|████▏     | 31/75 [00:06<00:09,  4.84it/s]"
     ]
    },
    {
     "name": "stdout",
     "output_type": "stream",
     "text": [
      "Train Epoch: 1 [15360/38723 (40%)]\tLoss: 0.946149\n"
     ]
    },
    {
     "name": "stderr",
     "output_type": "stream",
     "text": [
      " 55%|█████▍    | 41/75 [00:08<00:07,  4.56it/s]"
     ]
    },
    {
     "name": "stdout",
     "output_type": "stream",
     "text": [
      "Train Epoch: 1 [20480/38723 (53%)]\tLoss: 0.952760\n"
     ]
    },
    {
     "name": "stderr",
     "output_type": "stream",
     "text": [
      " 68%|██████▊   | 51/75 [00:10<00:05,  4.75it/s]"
     ]
    },
    {
     "name": "stdout",
     "output_type": "stream",
     "text": [
      "Train Epoch: 1 [25600/38723 (67%)]\tLoss: 0.893448\n"
     ]
    },
    {
     "name": "stderr",
     "output_type": "stream",
     "text": [
      " 81%|████████▏ | 61/75 [00:12<00:02,  4.72it/s]"
     ]
    },
    {
     "name": "stdout",
     "output_type": "stream",
     "text": [
      "Train Epoch: 1 [30720/38723 (80%)]\tLoss: 0.843210\n"
     ]
    },
    {
     "name": "stderr",
     "output_type": "stream",
     "text": [
      " 95%|█████████▍| 71/75 [00:15<00:00,  4.65it/s]"
     ]
    },
    {
     "name": "stdout",
     "output_type": "stream",
     "text": [
      "Train Epoch: 1 [35840/38723 (93%)]\tLoss: 0.927005\n"
     ]
    },
    {
     "name": "stderr",
     "output_type": "stream",
     "text": [
      "100%|██████████| 75/75 [00:16<00:00,  4.67it/s]\n"
     ]
    },
    {
     "name": "stdout",
     "output_type": "stream",
     "text": [
      "Input\t['f', 'a', 'r', 'm']\n",
      "GT\t['ஃ', 'ப', 'ா', 'ர', '்', 'ம', '்']\n",
      "pred\t['க', 'ா', '்', 'ம']\n",
      "\n",
      "\n",
      "Input\t['n', 'e', 't', 'r', 'i']\n",
      "GT\t['ந', 'ெ', 'ற', '்', 'ற', 'ி']\n",
      "pred\t['க', 'ெ', '்', '்', 'ி']\n",
      "\n",
      "\n",
      "Input\t['k', 'a', 'a', 'r', 'a', 'n', 'a', 't', 't', 'a', 'i', 'p']\n",
      "GT\t['க', 'ா', 'ர', 'ண', 'த', '்', 'த', 'ை', 'ப', '்']\n",
      "pred\t['ப', 'க', 'க', '்', 'க', '்', 'க', '்', 'த', '்']\n",
      "\n",
      "\n",
      "Input\t['v', 'a', 'a', 'g', 'a', 'n', 'a']\n",
      "GT\t['வ', 'ா', 'க', 'ன']\n",
      "pred\t['ப', 'க', 'க', 'க', 'க', '்', '்']\n",
      "\n",
      "\n",
      "\n",
      "Test set: Average loss: 0.8964, Accuracy: 177975/239760 (74%)\n",
      "\n"
     ]
    },
    {
     "name": "stderr",
     "output_type": "stream",
     "text": [
      "  1%|▏         | 1/75 [00:00<00:15,  4.80it/s]"
     ]
    },
    {
     "name": "stdout",
     "output_type": "stream",
     "text": [
      "Train Epoch: 2 [0/38723 (0%)]\tLoss: 0.892933\n"
     ]
    },
    {
     "name": "stderr",
     "output_type": "stream",
     "text": [
      " 15%|█▍        | 11/75 [00:02<00:15,  4.09it/s]"
     ]
    },
    {
     "name": "stdout",
     "output_type": "stream",
     "text": [
      "Train Epoch: 2 [5120/38723 (13%)]\tLoss: 0.803608\n"
     ]
    },
    {
     "name": "stderr",
     "output_type": "stream",
     "text": [
      " 28%|██▊       | 21/75 [00:04<00:11,  4.67it/s]"
     ]
    },
    {
     "name": "stdout",
     "output_type": "stream",
     "text": [
      "Train Epoch: 2 [10240/38723 (27%)]\tLoss: 0.931516\n"
     ]
    },
    {
     "name": "stderr",
     "output_type": "stream",
     "text": [
      " 41%|████▏     | 31/75 [00:06<00:09,  4.78it/s]"
     ]
    },
    {
     "name": "stdout",
     "output_type": "stream",
     "text": [
      "Train Epoch: 2 [15360/38723 (40%)]\tLoss: 0.918381\n"
     ]
    },
    {
     "name": "stderr",
     "output_type": "stream",
     "text": [
      " 55%|█████▍    | 41/75 [00:08<00:07,  4.58it/s]"
     ]
    },
    {
     "name": "stdout",
     "output_type": "stream",
     "text": [
      "Train Epoch: 2 [20480/38723 (53%)]\tLoss: 0.884708\n"
     ]
    },
    {
     "name": "stderr",
     "output_type": "stream",
     "text": [
      " 69%|██████▉   | 52/75 [00:11<00:04,  4.81it/s]"
     ]
    },
    {
     "name": "stdout",
     "output_type": "stream",
     "text": [
      "Train Epoch: 2 [25600/38723 (67%)]\tLoss: 0.786681\n"
     ]
    },
    {
     "name": "stderr",
     "output_type": "stream",
     "text": [
      " 81%|████████▏ | 61/75 [00:13<00:03,  4.52it/s]"
     ]
    },
    {
     "name": "stdout",
     "output_type": "stream",
     "text": [
      "Train Epoch: 2 [30720/38723 (80%)]\tLoss: 0.772315\n"
     ]
    },
    {
     "name": "stderr",
     "output_type": "stream",
     "text": [
      " 95%|█████████▍| 71/75 [00:15<00:00,  4.67it/s]"
     ]
    },
    {
     "name": "stdout",
     "output_type": "stream",
     "text": [
      "Train Epoch: 2 [35840/38723 (93%)]\tLoss: 0.843347\n"
     ]
    },
    {
     "name": "stderr",
     "output_type": "stream",
     "text": [
      "100%|██████████| 75/75 [00:16<00:00,  4.64it/s]\n"
     ]
    },
    {
     "name": "stdout",
     "output_type": "stream",
     "text": [
      "Input\t['f', 'a', 'r', 'm']\n",
      "GT\t['ஃ', 'ப', 'ா', 'ர', '்', 'ம', '்']\n",
      "pred\t['ப', 'ா', 'ர', 'ம', '்']\n",
      "\n",
      "\n",
      "Input\t['n', 'e', 't', 'r', 'i']\n",
      "GT\t['ந', 'ெ', 'ற', '்', 'ற', 'ி']\n",
      "pred\t['க', 'ெ', '்', '்', 'ி']\n",
      "\n",
      "\n",
      "Input\t['k', 'a', 'a', 'r', 'a', 'n', 'a', 't', 't', 'a', 'i', 'p']\n",
      "GT\t['க', 'ா', 'ர', 'ண', 'த', '்', 'த', 'ை', 'ப', '்']\n",
      "pred\t['ப', 'க', 'க', 'ு', 'க', '்', 'க', '்', 'ட', 'க']\n",
      "\n",
      "\n",
      "Input\t['v', 'a', 'a', 'g', 'a', 'n', 'a']\n",
      "GT\t['வ', 'ா', 'க', 'ன']\n",
      "pred\t['ப', 'ா', 'ா', 'க', 'க', '்', 'க']\n",
      "\n",
      "\n",
      "\n",
      "Test set: Average loss: 0.8745, Accuracy: 178564/239760 (74%)\n",
      "\n"
     ]
    },
    {
     "name": "stderr",
     "output_type": "stream",
     "text": [
      "  1%|▏         | 1/75 [00:00<00:16,  4.56it/s]"
     ]
    },
    {
     "name": "stdout",
     "output_type": "stream",
     "text": [
      "Train Epoch: 3 [0/38723 (0%)]\tLoss: 0.817582\n"
     ]
    },
    {
     "name": "stderr",
     "output_type": "stream",
     "text": [
      " 15%|█▍        | 11/75 [00:02<00:13,  4.68it/s]"
     ]
    },
    {
     "name": "stdout",
     "output_type": "stream",
     "text": [
      "Train Epoch: 3 [5120/38723 (13%)]\tLoss: 0.731918\n"
     ]
    },
    {
     "name": "stderr",
     "output_type": "stream",
     "text": [
      " 28%|██▊       | 21/75 [00:04<00:11,  4.69it/s]"
     ]
    },
    {
     "name": "stdout",
     "output_type": "stream",
     "text": [
      "Train Epoch: 3 [10240/38723 (27%)]\tLoss: 0.888901\n"
     ]
    },
    {
     "name": "stderr",
     "output_type": "stream",
     "text": [
      " 41%|████▏     | 31/75 [00:06<00:09,  4.85it/s]"
     ]
    },
    {
     "name": "stdout",
     "output_type": "stream",
     "text": [
      "Train Epoch: 3 [15360/38723 (40%)]\tLoss: 0.841388\n"
     ]
    },
    {
     "name": "stderr",
     "output_type": "stream",
     "text": [
      " 55%|█████▍    | 41/75 [00:08<00:07,  4.81it/s]"
     ]
    },
    {
     "name": "stdout",
     "output_type": "stream",
     "text": [
      "Train Epoch: 3 [20480/38723 (53%)]\tLoss: 0.853771\n"
     ]
    },
    {
     "name": "stderr",
     "output_type": "stream",
     "text": [
      " 68%|██████▊   | 51/75 [00:10<00:05,  4.80it/s]"
     ]
    },
    {
     "name": "stdout",
     "output_type": "stream",
     "text": [
      "Train Epoch: 3 [25600/38723 (67%)]\tLoss: 0.754178\n"
     ]
    },
    {
     "name": "stderr",
     "output_type": "stream",
     "text": [
      " 81%|████████▏ | 61/75 [00:12<00:02,  4.75it/s]"
     ]
    },
    {
     "name": "stdout",
     "output_type": "stream",
     "text": [
      "Train Epoch: 3 [30720/38723 (80%)]\tLoss: 0.753526\n"
     ]
    },
    {
     "name": "stderr",
     "output_type": "stream",
     "text": [
      " 95%|█████████▍| 71/75 [00:15<00:00,  4.78it/s]"
     ]
    },
    {
     "name": "stdout",
     "output_type": "stream",
     "text": [
      "Train Epoch: 3 [35840/38723 (93%)]\tLoss: 0.801282\n"
     ]
    },
    {
     "name": "stderr",
     "output_type": "stream",
     "text": [
      "100%|██████████| 75/75 [00:15<00:00,  4.73it/s]\n"
     ]
    },
    {
     "name": "stdout",
     "output_type": "stream",
     "text": [
      "Input\t['f', 'a', 'r', 'm']\n",
      "GT\t['ஃ', 'ப', 'ா', 'ர', '்', 'ம', '்']\n",
      "pred\t['ப', 'ா', 'ர', 'ம', '்']\n",
      "\n",
      "\n",
      "Input\t['n', 'e', 't', 'r', 'i']\n",
      "GT\t['ந', 'ெ', 'ற', '்', 'ற', 'ி']\n",
      "pred\t['க', 'ெ', '்', '்', 'ி']\n",
      "\n",
      "\n",
      "Input\t['k', 'a', 'a', 'r', 'a', 'n', 'a', 't', 't', 'a', 'i', 'p']\n",
      "GT\t['க', 'ா', 'ர', 'ண', 'த', '்', 'த', 'ை', 'ப', '்']\n",
      "pred\t['க', 'க', 'க', 'ர', 'க', '்', 'க', '்', 'ட', 'த']\n",
      "\n",
      "\n",
      "Input\t['v', 'a', 'a', 'g', 'a', 'n', 'a']\n",
      "GT\t['வ', 'ா', 'க', 'ன']\n",
      "pred\t['ப', 'ா', 'க', 'க', 'க', '்', '்']\n",
      "\n",
      "\n",
      "\n",
      "Test set: Average loss: 0.8725, Accuracy: 180101/239760 (75%)\n",
      "\n"
     ]
    },
    {
     "name": "stderr",
     "output_type": "stream",
     "text": [
      "  1%|▏         | 1/75 [00:00<00:14,  5.02it/s]"
     ]
    },
    {
     "name": "stdout",
     "output_type": "stream",
     "text": [
      "Train Epoch: 4 [0/38723 (0%)]\tLoss: 0.769433\n"
     ]
    },
    {
     "name": "stderr",
     "output_type": "stream",
     "text": [
      " 15%|█▍        | 11/75 [00:02<00:15,  4.20it/s]"
     ]
    },
    {
     "name": "stdout",
     "output_type": "stream",
     "text": [
      "Train Epoch: 4 [5120/38723 (13%)]\tLoss: 0.668937\n"
     ]
    },
    {
     "name": "stderr",
     "output_type": "stream",
     "text": [
      " 28%|██▊       | 21/75 [00:04<00:12,  4.40it/s]"
     ]
    },
    {
     "name": "stdout",
     "output_type": "stream",
     "text": [
      "Train Epoch: 4 [10240/38723 (27%)]\tLoss: 0.874053\n"
     ]
    },
    {
     "name": "stderr",
     "output_type": "stream",
     "text": [
      " 41%|████▏     | 31/75 [00:07<00:09,  4.70it/s]"
     ]
    },
    {
     "name": "stdout",
     "output_type": "stream",
     "text": [
      "Train Epoch: 4 [15360/38723 (40%)]\tLoss: 0.798220\n"
     ]
    },
    {
     "name": "stderr",
     "output_type": "stream",
     "text": [
      " 55%|█████▍    | 41/75 [00:09<00:07,  4.70it/s]"
     ]
    },
    {
     "name": "stdout",
     "output_type": "stream",
     "text": [
      "Train Epoch: 4 [20480/38723 (53%)]\tLoss: 0.822610\n"
     ]
    },
    {
     "name": "stderr",
     "output_type": "stream",
     "text": [
      " 68%|██████▊   | 51/75 [00:11<00:05,  4.77it/s]"
     ]
    },
    {
     "name": "stdout",
     "output_type": "stream",
     "text": [
      "Train Epoch: 4 [25600/38723 (67%)]\tLoss: 0.714124\n"
     ]
    },
    {
     "name": "stderr",
     "output_type": "stream",
     "text": [
      " 81%|████████▏ | 61/75 [00:13<00:02,  4.77it/s]"
     ]
    },
    {
     "name": "stdout",
     "output_type": "stream",
     "text": [
      "Train Epoch: 4 [30720/38723 (80%)]\tLoss: 0.739923\n"
     ]
    },
    {
     "name": "stderr",
     "output_type": "stream",
     "text": [
      " 95%|█████████▍| 71/75 [00:15<00:00,  4.59it/s]"
     ]
    },
    {
     "name": "stdout",
     "output_type": "stream",
     "text": [
      "Train Epoch: 4 [35840/38723 (93%)]\tLoss: 0.771826\n"
     ]
    },
    {
     "name": "stderr",
     "output_type": "stream",
     "text": [
      "100%|██████████| 75/75 [00:16<00:00,  4.54it/s]\n"
     ]
    },
    {
     "name": "stdout",
     "output_type": "stream",
     "text": [
      "Input\t['f', 'a', 'r', 'm']\n",
      "GT\t['ஃ', 'ப', 'ா', 'ர', '்', 'ம', '்']\n",
      "pred\t['ப', 'ா', 'ு', 'ம', '்']\n",
      "\n",
      "\n",
      "Input\t['n', 'e', 't', 'r', 'i']\n",
      "GT\t['ந', 'ெ', 'ற', '்', 'ற', 'ி']\n",
      "pred\t['ந', 'ெ', '்', '்', 'ி']\n",
      "\n",
      "\n",
      "Input\t['k', 'a', 'a', 'r', 'a', 'n', 'a', 't', 't', 'a', 'i', 'p']\n",
      "GT\t['க', 'ா', 'ர', 'ண', 'த', '்', 'த', 'ை', 'ப', '்']\n",
      "pred\t['க', 'ா', 'க', 'ர', '்', '்', 'ா', 'த', 'ட', 'ட']\n",
      "\n",
      "\n",
      "Input\t['v', 'a', 'a', 'g', 'a', 'n', 'a']\n",
      "GT\t['வ', 'ா', 'க', 'ன']\n",
      "pred\t['வ', 'ா', '்', 'க', '்', 'க']\n",
      "\n",
      "\n",
      "\n",
      "Test set: Average loss: 0.8577, Accuracy: 182718/239760 (76%)\n",
      "\n"
     ]
    },
    {
     "name": "stderr",
     "output_type": "stream",
     "text": [
      "  1%|▏         | 1/75 [00:00<00:15,  4.69it/s]"
     ]
    },
    {
     "name": "stdout",
     "output_type": "stream",
     "text": [
      "Train Epoch: 5 [0/38723 (0%)]\tLoss: 0.751211\n"
     ]
    },
    {
     "name": "stderr",
     "output_type": "stream",
     "text": [
      " 15%|█▍        | 11/75 [00:02<00:14,  4.44it/s]"
     ]
    },
    {
     "name": "stdout",
     "output_type": "stream",
     "text": [
      "Train Epoch: 5 [5120/38723 (13%)]\tLoss: 0.620510\n"
     ]
    },
    {
     "name": "stderr",
     "output_type": "stream",
     "text": [
      " 28%|██▊       | 21/75 [00:04<00:11,  4.58it/s]"
     ]
    },
    {
     "name": "stdout",
     "output_type": "stream",
     "text": [
      "Train Epoch: 5 [10240/38723 (27%)]\tLoss: 0.845356\n"
     ]
    },
    {
     "name": "stderr",
     "output_type": "stream",
     "text": [
      " 41%|████▏     | 31/75 [00:06<00:09,  4.48it/s]"
     ]
    },
    {
     "name": "stdout",
     "output_type": "stream",
     "text": [
      "Train Epoch: 5 [15360/38723 (40%)]\tLoss: 0.763140\n"
     ]
    },
    {
     "name": "stderr",
     "output_type": "stream",
     "text": [
      " 55%|█████▍    | 41/75 [00:08<00:06,  4.87it/s]"
     ]
    },
    {
     "name": "stdout",
     "output_type": "stream",
     "text": [
      "Train Epoch: 5 [20480/38723 (53%)]\tLoss: 0.806716\n"
     ]
    },
    {
     "name": "stderr",
     "output_type": "stream",
     "text": [
      " 68%|██████▊   | 51/75 [00:11<00:05,  4.72it/s]"
     ]
    },
    {
     "name": "stdout",
     "output_type": "stream",
     "text": [
      "Train Epoch: 5 [25600/38723 (67%)]\tLoss: 0.686557\n"
     ]
    },
    {
     "name": "stderr",
     "output_type": "stream",
     "text": [
      " 81%|████████▏ | 61/75 [00:13<00:03,  4.67it/s]"
     ]
    },
    {
     "name": "stdout",
     "output_type": "stream",
     "text": [
      "Train Epoch: 5 [30720/38723 (80%)]\tLoss: 0.721382\n"
     ]
    },
    {
     "name": "stderr",
     "output_type": "stream",
     "text": [
      " 95%|█████████▍| 71/75 [00:15<00:00,  4.62it/s]"
     ]
    },
    {
     "name": "stdout",
     "output_type": "stream",
     "text": [
      "Train Epoch: 5 [35840/38723 (93%)]\tLoss: 0.750793\n"
     ]
    },
    {
     "name": "stderr",
     "output_type": "stream",
     "text": [
      "100%|██████████| 75/75 [00:16<00:00,  4.63it/s]\n"
     ]
    },
    {
     "name": "stdout",
     "output_type": "stream",
     "text": [
      "Input\t['f', 'a', 'r', 'm']\n",
      "GT\t['ஃ', 'ப', 'ா', 'ர', '்', 'ம', '்']\n",
      "pred\t['ப', 'ா', 'ு', 'ம', '்']\n",
      "\n",
      "\n",
      "Input\t['n', 'e', 't', 'r', 'i']\n",
      "GT\t['ந', 'ெ', 'ற', '்', 'ற', 'ி']\n",
      "pred\t['ந', 'ெ', 'ட', '்', 'ி']\n",
      "\n",
      "\n",
      "Input\t['k', 'a', 'a', 'r', 'a', 'n', 'a', 't', 't', 'a', 'i', 'p']\n",
      "GT\t['க', 'ா', 'ர', 'ண', 'த', '்', 'த', 'ை', 'ப', '்']\n",
      "pred\t['க', 'க', 'க', 'ர', 'ா', '்']\n",
      "\n",
      "\n",
      "Input\t['v', 'a', 'a', 'g', 'a', 'n', 'a']\n",
      "GT\t['வ', 'ா', 'க', 'ன']\n",
      "pred\t['ப', 'ா', '்', 'க', '்', '்']\n",
      "\n",
      "\n",
      "\n",
      "Test set: Average loss: 0.8358, Accuracy: 183844/239760 (77%)\n",
      "\n"
     ]
    },
    {
     "name": "stderr",
     "output_type": "stream",
     "text": [
      "  1%|▏         | 1/75 [00:00<00:16,  4.43it/s]"
     ]
    },
    {
     "name": "stdout",
     "output_type": "stream",
     "text": [
      "Train Epoch: 6 [0/38723 (0%)]\tLoss: 0.730051\n"
     ]
    },
    {
     "name": "stderr",
     "output_type": "stream",
     "text": [
      " 15%|█▍        | 11/75 [00:02<00:13,  4.58it/s]"
     ]
    },
    {
     "name": "stdout",
     "output_type": "stream",
     "text": [
      "Train Epoch: 6 [5120/38723 (13%)]\tLoss: 0.605827\n"
     ]
    },
    {
     "name": "stderr",
     "output_type": "stream",
     "text": [
      " 28%|██▊       | 21/75 [00:04<00:12,  4.32it/s]"
     ]
    },
    {
     "name": "stdout",
     "output_type": "stream",
     "text": [
      "Train Epoch: 6 [10240/38723 (27%)]\tLoss: 0.824566\n"
     ]
    },
    {
     "name": "stderr",
     "output_type": "stream",
     "text": [
      " 41%|████▏     | 31/75 [00:06<00:09,  4.78it/s]"
     ]
    },
    {
     "name": "stdout",
     "output_type": "stream",
     "text": [
      "Train Epoch: 6 [15360/38723 (40%)]\tLoss: 0.750541\n"
     ]
    },
    {
     "name": "stderr",
     "output_type": "stream",
     "text": [
      " 55%|█████▍    | 41/75 [00:08<00:07,  4.76it/s]"
     ]
    },
    {
     "name": "stdout",
     "output_type": "stream",
     "text": [
      "Train Epoch: 6 [20480/38723 (53%)]\tLoss: 0.779874\n"
     ]
    },
    {
     "name": "stderr",
     "output_type": "stream",
     "text": [
      " 68%|██████▊   | 51/75 [00:11<00:05,  4.65it/s]"
     ]
    },
    {
     "name": "stdout",
     "output_type": "stream",
     "text": [
      "Train Epoch: 6 [25600/38723 (67%)]\tLoss: 0.663285\n"
     ]
    },
    {
     "name": "stderr",
     "output_type": "stream",
     "text": [
      " 81%|████████▏ | 61/75 [00:13<00:03,  4.54it/s]"
     ]
    },
    {
     "name": "stdout",
     "output_type": "stream",
     "text": [
      "Train Epoch: 6 [30720/38723 (80%)]\tLoss: 0.708254\n"
     ]
    },
    {
     "name": "stderr",
     "output_type": "stream",
     "text": [
      " 95%|█████████▍| 71/75 [00:15<00:00,  4.61it/s]"
     ]
    },
    {
     "name": "stdout",
     "output_type": "stream",
     "text": [
      "Train Epoch: 6 [35840/38723 (93%)]\tLoss: 0.733072\n"
     ]
    },
    {
     "name": "stderr",
     "output_type": "stream",
     "text": [
      "100%|██████████| 75/75 [00:16<00:00,  4.57it/s]\n"
     ]
    },
    {
     "name": "stdout",
     "output_type": "stream",
     "text": [
      "Input\t['f', 'a', 'r', 'm']\n",
      "GT\t['ஃ', 'ப', 'ா', 'ர', '்', 'ம', '்']\n",
      "pred\t['ப', 'ா', 'ு', 'ம', '்']\n",
      "\n",
      "\n",
      "Input\t['n', 'e', 't', 'r', 'i']\n",
      "GT\t['ந', 'ெ', 'ற', '்', 'ற', 'ி']\n",
      "pred\t['க', 'ெ', 'ட', '்', 'ி']\n",
      "\n",
      "\n",
      "Input\t['k', 'a', 'a', 'r', 'a', 'n', 'a', 't', 't', 'a', 'i', 'p']\n",
      "GT\t['க', 'ா', 'ர', 'ண', 'த', '்', 'த', 'ை', 'ப', '்']\n",
      "pred\t['க', 'ா', 'க', 'ர', 'ா', '்']\n",
      "\n",
      "\n",
      "Input\t['v', 'a', 'a', 'g', 'a', 'n', 'a']\n",
      "GT\t['வ', 'ா', 'க', 'ன']\n",
      "pred\t['எ', 'ா', 'ர', 'க', '்', 'க']\n",
      "\n",
      "\n",
      "\n",
      "Test set: Average loss: 0.8192, Accuracy: 183740/239760 (77%)\n",
      "\n"
     ]
    },
    {
     "name": "stderr",
     "output_type": "stream",
     "text": [
      "  1%|▏         | 1/75 [00:00<00:16,  4.54it/s]"
     ]
    },
    {
     "name": "stdout",
     "output_type": "stream",
     "text": [
      "Train Epoch: 7 [0/38723 (0%)]\tLoss: 0.717007\n"
     ]
    },
    {
     "name": "stderr",
     "output_type": "stream",
     "text": [
      " 15%|█▍        | 11/75 [00:02<00:14,  4.43it/s]"
     ]
    },
    {
     "name": "stdout",
     "output_type": "stream",
     "text": [
      "Train Epoch: 7 [5120/38723 (13%)]\tLoss: 0.569390\n"
     ]
    },
    {
     "name": "stderr",
     "output_type": "stream",
     "text": [
      " 28%|██▊       | 21/75 [00:04<00:12,  4.38it/s]"
     ]
    },
    {
     "name": "stdout",
     "output_type": "stream",
     "text": [
      "Train Epoch: 7 [10240/38723 (27%)]\tLoss: 0.812378\n"
     ]
    },
    {
     "name": "stderr",
     "output_type": "stream",
     "text": [
      " 41%|████▏     | 31/75 [00:06<00:09,  4.65it/s]"
     ]
    },
    {
     "name": "stdout",
     "output_type": "stream",
     "text": [
      "Train Epoch: 7 [15360/38723 (40%)]\tLoss: 0.737027\n"
     ]
    },
    {
     "name": "stderr",
     "output_type": "stream",
     "text": [
      " 55%|█████▍    | 41/75 [00:08<00:07,  4.72it/s]"
     ]
    },
    {
     "name": "stdout",
     "output_type": "stream",
     "text": [
      "Train Epoch: 7 [20480/38723 (53%)]\tLoss: 0.767530\n"
     ]
    },
    {
     "name": "stderr",
     "output_type": "stream",
     "text": [
      " 68%|██████▊   | 51/75 [00:11<00:05,  4.55it/s]"
     ]
    },
    {
     "name": "stdout",
     "output_type": "stream",
     "text": [
      "Train Epoch: 7 [25600/38723 (67%)]\tLoss: 0.657078\n"
     ]
    },
    {
     "name": "stderr",
     "output_type": "stream",
     "text": [
      " 81%|████████▏ | 61/75 [00:13<00:02,  4.75it/s]"
     ]
    },
    {
     "name": "stdout",
     "output_type": "stream",
     "text": [
      "Train Epoch: 7 [30720/38723 (80%)]\tLoss: 0.691332\n"
     ]
    },
    {
     "name": "stderr",
     "output_type": "stream",
     "text": [
      " 95%|█████████▍| 71/75 [00:15<00:00,  4.70it/s]"
     ]
    },
    {
     "name": "stdout",
     "output_type": "stream",
     "text": [
      "Train Epoch: 7 [35840/38723 (93%)]\tLoss: 0.724106\n"
     ]
    },
    {
     "name": "stderr",
     "output_type": "stream",
     "text": [
      "100%|██████████| 75/75 [00:16<00:00,  4.60it/s]\n"
     ]
    },
    {
     "name": "stdout",
     "output_type": "stream",
     "text": [
      "Input\t['f', 'a', 'r', 'm']\n",
      "GT\t['ஃ', 'ப', 'ா', 'ர', '்', 'ம', '்']\n",
      "pred\t['ப', 'ா', 'ு', 'ம', '்']\n",
      "\n",
      "\n",
      "Input\t['n', 'e', 't', 'r', 'i']\n",
      "GT\t['ந', 'ெ', 'ற', '்', 'ற', 'ி']\n",
      "pred\t['ந', 'ே', 'ட', '்', 'ி']\n",
      "\n",
      "\n",
      "Input\t['k', 'a', 'a', 'r', 'a', 'n', 'a', 't', 't', 'a', 'i', 'p']\n",
      "GT\t['க', 'ா', 'ர', 'ண', 'த', '்', 'த', 'ை', 'ப', '்']\n",
      "pred\t['க', 'க', 'க', 'ர', 'க', '்']\n",
      "\n",
      "\n",
      "Input\t['v', 'a', 'a', 'g', 'a', 'n', 'a']\n",
      "GT\t['வ', 'ா', 'க', 'ன']\n",
      "pred\t['ஜ', 'ா', '்', 'க', 'ை', '்', '்']\n",
      "\n",
      "\n",
      "\n",
      "Test set: Average loss: 0.8445, Accuracy: 182609/239760 (76%)\n",
      "\n"
     ]
    },
    {
     "name": "stderr",
     "output_type": "stream",
     "text": [
      "  1%|▏         | 1/75 [00:00<00:15,  4.74it/s]"
     ]
    },
    {
     "name": "stdout",
     "output_type": "stream",
     "text": [
      "Train Epoch: 8 [0/38723 (0%)]\tLoss: 0.700632\n"
     ]
    },
    {
     "name": "stderr",
     "output_type": "stream",
     "text": [
      " 15%|█▍        | 11/75 [00:02<00:13,  4.59it/s]"
     ]
    },
    {
     "name": "stdout",
     "output_type": "stream",
     "text": [
      "Train Epoch: 8 [5120/38723 (13%)]\tLoss: 0.559210\n"
     ]
    },
    {
     "name": "stderr",
     "output_type": "stream",
     "text": [
      " 29%|██▉       | 22/75 [00:04<00:11,  4.61it/s]"
     ]
    },
    {
     "name": "stdout",
     "output_type": "stream",
     "text": [
      "Train Epoch: 8 [10240/38723 (27%)]\tLoss: 0.806575\n"
     ]
    },
    {
     "name": "stderr",
     "output_type": "stream",
     "text": [
      " 41%|████▏     | 31/75 [00:06<00:09,  4.68it/s]"
     ]
    },
    {
     "name": "stdout",
     "output_type": "stream",
     "text": [
      "Train Epoch: 8 [15360/38723 (40%)]\tLoss: 0.732171\n"
     ]
    },
    {
     "name": "stderr",
     "output_type": "stream",
     "text": [
      " 55%|█████▍    | 41/75 [00:08<00:07,  4.58it/s]"
     ]
    },
    {
     "name": "stdout",
     "output_type": "stream",
     "text": [
      "Train Epoch: 8 [20480/38723 (53%)]\tLoss: 0.747471\n"
     ]
    },
    {
     "name": "stderr",
     "output_type": "stream",
     "text": [
      " 68%|██████▊   | 51/75 [00:11<00:05,  4.42it/s]"
     ]
    },
    {
     "name": "stdout",
     "output_type": "stream",
     "text": [
      "Train Epoch: 8 [25600/38723 (67%)]\tLoss: 0.652132\n"
     ]
    },
    {
     "name": "stderr",
     "output_type": "stream",
     "text": [
      " 81%|████████▏ | 61/75 [00:13<00:02,  4.76it/s]"
     ]
    },
    {
     "name": "stdout",
     "output_type": "stream",
     "text": [
      "Train Epoch: 8 [30720/38723 (80%)]\tLoss: 0.676291\n"
     ]
    },
    {
     "name": "stderr",
     "output_type": "stream",
     "text": [
      " 95%|█████████▍| 71/75 [00:15<00:00,  4.70it/s]"
     ]
    },
    {
     "name": "stdout",
     "output_type": "stream",
     "text": [
      "Train Epoch: 8 [35840/38723 (93%)]\tLoss: 0.698962\n"
     ]
    },
    {
     "name": "stderr",
     "output_type": "stream",
     "text": [
      "100%|██████████| 75/75 [00:16<00:00,  4.66it/s]\n"
     ]
    },
    {
     "name": "stdout",
     "output_type": "stream",
     "text": [
      "Input\t['f', 'a', 'r', 'm']\n",
      "GT\t['ஃ', 'ப', 'ா', 'ர', '்', 'ம', '்']\n",
      "pred\t['ப', 'ா', 'ு', 'ம', '்']\n",
      "\n",
      "\n",
      "Input\t['n', 'e', 't', 'r', 'i']\n",
      "GT\t['ந', 'ெ', 'ற', '்', 'ற', 'ி']\n",
      "pred\t['ந', 'ே', 'ட', '்', 'ி']\n",
      "\n",
      "\n",
      "Input\t['k', 'a', 'a', 'r', 'a', 'n', 'a', 't', 't', 'a', 'i', 'p']\n",
      "GT\t['க', 'ா', 'ர', 'ண', 'த', '்', 'த', 'ை', 'ப', '்']\n",
      "pred\t['க', 'க', 'க', 'ர', 'ா', '்']\n",
      "\n",
      "\n",
      "Input\t['v', 'a', 'a', 'g', 'a', 'n', 'a']\n",
      "GT\t['வ', 'ா', 'க', 'ன']\n",
      "pred\t['வ', 'ா', '்', 'க', '்', '்', '்']\n",
      "\n",
      "\n",
      "\n",
      "Test set: Average loss: 0.8318, Accuracy: 183174/239760 (76%)\n",
      "\n"
     ]
    },
    {
     "name": "stderr",
     "output_type": "stream",
     "text": [
      "  1%|▏         | 1/75 [00:00<00:16,  4.48it/s]"
     ]
    },
    {
     "name": "stdout",
     "output_type": "stream",
     "text": [
      "Train Epoch: 9 [0/38723 (0%)]\tLoss: 0.665411\n"
     ]
    },
    {
     "name": "stderr",
     "output_type": "stream",
     "text": [
      " 15%|█▍        | 11/75 [00:02<00:13,  4.61it/s]"
     ]
    },
    {
     "name": "stdout",
     "output_type": "stream",
     "text": [
      "Train Epoch: 9 [5120/38723 (13%)]\tLoss: 0.569395\n"
     ]
    },
    {
     "name": "stderr",
     "output_type": "stream",
     "text": [
      " 28%|██▊       | 21/75 [00:04<00:12,  4.47it/s]"
     ]
    },
    {
     "name": "stdout",
     "output_type": "stream",
     "text": [
      "Train Epoch: 9 [10240/38723 (27%)]\tLoss: 0.802934\n"
     ]
    },
    {
     "name": "stderr",
     "output_type": "stream",
     "text": [
      " 41%|████▏     | 31/75 [00:06<00:09,  4.75it/s]"
     ]
    },
    {
     "name": "stdout",
     "output_type": "stream",
     "text": [
      "Train Epoch: 9 [15360/38723 (40%)]\tLoss: 0.723273\n"
     ]
    },
    {
     "name": "stderr",
     "output_type": "stream",
     "text": [
      " 55%|█████▍    | 41/75 [00:08<00:07,  4.65it/s]"
     ]
    },
    {
     "name": "stdout",
     "output_type": "stream",
     "text": [
      "Train Epoch: 9 [20480/38723 (53%)]\tLoss: 0.730470\n"
     ]
    },
    {
     "name": "stderr",
     "output_type": "stream",
     "text": [
      " 68%|██████▊   | 51/75 [00:11<00:05,  4.68it/s]"
     ]
    },
    {
     "name": "stdout",
     "output_type": "stream",
     "text": [
      "Train Epoch: 9 [25600/38723 (67%)]\tLoss: 0.631010\n"
     ]
    },
    {
     "name": "stderr",
     "output_type": "stream",
     "text": [
      " 81%|████████▏ | 61/75 [00:13<00:02,  4.80it/s]"
     ]
    },
    {
     "name": "stdout",
     "output_type": "stream",
     "text": [
      "Train Epoch: 9 [30720/38723 (80%)]\tLoss: 0.661136\n"
     ]
    },
    {
     "name": "stderr",
     "output_type": "stream",
     "text": [
      " 95%|█████████▍| 71/75 [00:15<00:00,  4.75it/s]"
     ]
    },
    {
     "name": "stdout",
     "output_type": "stream",
     "text": [
      "Train Epoch: 9 [35840/38723 (93%)]\tLoss: 0.686381\n"
     ]
    },
    {
     "name": "stderr",
     "output_type": "stream",
     "text": [
      "100%|██████████| 75/75 [00:16<00:00,  4.65it/s]\n"
     ]
    },
    {
     "name": "stdout",
     "output_type": "stream",
     "text": [
      "Input\t['f', 'a', 'r', 'm']\n",
      "GT\t['ஃ', 'ப', 'ா', 'ர', '்', 'ம', '்']\n",
      "pred\t['ப', 'ா', 'ர', 'ம', '்']\n",
      "\n",
      "\n",
      "Input\t['n', 'e', 't', 'r', 'i']\n",
      "GT\t['ந', 'ெ', 'ற', '்', 'ற', 'ி']\n",
      "pred\t['ந', 'ே', 'ற', '்', 'ற']\n",
      "\n",
      "\n",
      "Input\t['k', 'a', 'a', 'r', 'a', 'n', 'a', 't', 't', 'a', 'i', 'p']\n",
      "GT\t['க', 'ா', 'ர', 'ண', 'த', '்', 'த', 'ை', 'ப', '்']\n",
      "pred\t['க', 'க', 'க', 'ு', 'ை', '்']\n",
      "\n",
      "\n",
      "Input\t['v', 'a', 'a', 'g', 'a', 'n', 'a']\n",
      "GT\t['வ', 'ா', 'க', 'ன']\n",
      "pred\t['அ', 'ன', '்', 'க', 'ள', '்', '்']\n",
      "\n",
      "\n",
      "\n",
      "Test set: Average loss: 0.8797, Accuracy: 181391/239760 (76%)\n",
      "\n"
     ]
    },
    {
     "name": "stderr",
     "output_type": "stream",
     "text": [
      "  1%|▏         | 1/75 [00:00<00:15,  4.72it/s]"
     ]
    },
    {
     "name": "stdout",
     "output_type": "stream",
     "text": [
      "Train Epoch: 10 [0/38723 (0%)]\tLoss: 0.602135\n"
     ]
    },
    {
     "name": "stderr",
     "output_type": "stream",
     "text": [
      " 15%|█▍        | 11/75 [00:02<00:13,  4.65it/s]"
     ]
    },
    {
     "name": "stdout",
     "output_type": "stream",
     "text": [
      "Train Epoch: 10 [5120/38723 (13%)]\tLoss: 0.493111\n"
     ]
    },
    {
     "name": "stderr",
     "output_type": "stream",
     "text": [
      " 28%|██▊       | 21/75 [00:04<00:11,  4.55it/s]"
     ]
    },
    {
     "name": "stdout",
     "output_type": "stream",
     "text": [
      "Train Epoch: 10 [10240/38723 (27%)]\tLoss: 0.778552\n"
     ]
    },
    {
     "name": "stderr",
     "output_type": "stream",
     "text": [
      " 41%|████▏     | 31/75 [00:06<00:09,  4.82it/s]"
     ]
    },
    {
     "name": "stdout",
     "output_type": "stream",
     "text": [
      "Train Epoch: 10 [15360/38723 (40%)]\tLoss: 0.702084\n"
     ]
    },
    {
     "name": "stderr",
     "output_type": "stream",
     "text": [
      " 55%|█████▍    | 41/75 [00:08<00:06,  4.86it/s]"
     ]
    },
    {
     "name": "stdout",
     "output_type": "stream",
     "text": [
      "Train Epoch: 10 [20480/38723 (53%)]\tLoss: 0.728625\n"
     ]
    },
    {
     "name": "stderr",
     "output_type": "stream",
     "text": [
      " 68%|██████▊   | 51/75 [00:11<00:05,  4.48it/s]"
     ]
    },
    {
     "name": "stdout",
     "output_type": "stream",
     "text": [
      "Train Epoch: 10 [25600/38723 (67%)]\tLoss: 0.614586\n"
     ]
    },
    {
     "name": "stderr",
     "output_type": "stream",
     "text": [
      " 81%|████████▏ | 61/75 [00:13<00:02,  4.83it/s]"
     ]
    },
    {
     "name": "stdout",
     "output_type": "stream",
     "text": [
      "Train Epoch: 10 [30720/38723 (80%)]\tLoss: 0.649897\n"
     ]
    },
    {
     "name": "stderr",
     "output_type": "stream",
     "text": [
      " 95%|█████████▍| 71/75 [00:15<00:00,  4.85it/s]"
     ]
    },
    {
     "name": "stdout",
     "output_type": "stream",
     "text": [
      "Train Epoch: 10 [35840/38723 (93%)]\tLoss: 0.664278\n"
     ]
    },
    {
     "name": "stderr",
     "output_type": "stream",
     "text": [
      "100%|██████████| 75/75 [00:16<00:00,  4.68it/s]\n"
     ]
    },
    {
     "name": "stdout",
     "output_type": "stream",
     "text": [
      "Input\t['f', 'a', 'r', 'm']\n",
      "GT\t['ஃ', 'ப', 'ா', 'ர', '்', 'ம', '்']\n",
      "pred\t['ப', 'ா', 'ு', 'ம', '்']\n",
      "\n",
      "\n",
      "Input\t['n', 'e', 't', 'r', 'i']\n",
      "GT\t['ந', 'ெ', 'ற', '்', 'ற', 'ி']\n",
      "pred\t['த', 'ே', 'த', '்', 'ி']\n",
      "\n",
      "\n",
      "Input\t['k', 'a', 'a', 'r', 'a', 'n', 'a', 't', 't', 'a', 'i', 'p']\n",
      "GT\t['க', 'ா', 'ர', 'ண', 'த', '்', 'த', 'ை', 'ப', '்']\n",
      "pred\t['க', 'க', '்', 'ற', 'த', '்', '்', 'த', 'ட']\n",
      "\n",
      "\n",
      "Input\t['v', 'a', 'a', 'g', 'a', 'n', 'a']\n",
      "GT\t['வ', 'ா', 'க', 'ன']\n",
      "pred\t['எ', 'க', '்', 'க', '்', 'த', '்']\n",
      "\n",
      "\n",
      "\n",
      "Test set: Average loss: 0.8027, Accuracy: 185850/239760 (78%)\n",
      "\n"
     ]
    },
    {
     "name": "stderr",
     "output_type": "stream",
     "text": [
      "  1%|▏         | 1/75 [00:00<00:15,  4.83it/s]"
     ]
    },
    {
     "name": "stdout",
     "output_type": "stream",
     "text": [
      "Train Epoch: 11 [0/38723 (0%)]\tLoss: 0.609306\n"
     ]
    },
    {
     "name": "stderr",
     "output_type": "stream",
     "text": [
      " 15%|█▍        | 11/75 [00:02<00:13,  4.64it/s]"
     ]
    },
    {
     "name": "stdout",
     "output_type": "stream",
     "text": [
      "Train Epoch: 11 [5120/38723 (13%)]\tLoss: 0.484019\n"
     ]
    },
    {
     "name": "stderr",
     "output_type": "stream",
     "text": [
      " 28%|██▊       | 21/75 [00:04<00:11,  4.81it/s]"
     ]
    },
    {
     "name": "stdout",
     "output_type": "stream",
     "text": [
      "Train Epoch: 11 [10240/38723 (27%)]\tLoss: 0.764120\n"
     ]
    },
    {
     "name": "stderr",
     "output_type": "stream",
     "text": [
      " 41%|████▏     | 31/75 [00:06<00:09,  4.67it/s]"
     ]
    },
    {
     "name": "stdout",
     "output_type": "stream",
     "text": [
      "Train Epoch: 11 [15360/38723 (40%)]\tLoss: 0.695204\n"
     ]
    },
    {
     "name": "stderr",
     "output_type": "stream",
     "text": [
      " 55%|█████▍    | 41/75 [00:08<00:07,  4.72it/s]"
     ]
    },
    {
     "name": "stdout",
     "output_type": "stream",
     "text": [
      "Train Epoch: 11 [20480/38723 (53%)]\tLoss: 0.734825\n"
     ]
    },
    {
     "name": "stderr",
     "output_type": "stream",
     "text": [
      " 68%|██████▊   | 51/75 [00:10<00:05,  4.60it/s]"
     ]
    },
    {
     "name": "stdout",
     "output_type": "stream",
     "text": [
      "Train Epoch: 11 [25600/38723 (67%)]\tLoss: 0.617682\n"
     ]
    },
    {
     "name": "stderr",
     "output_type": "stream",
     "text": [
      " 81%|████████▏ | 61/75 [00:13<00:03,  4.45it/s]"
     ]
    },
    {
     "name": "stdout",
     "output_type": "stream",
     "text": [
      "Train Epoch: 11 [30720/38723 (80%)]\tLoss: 0.659069\n"
     ]
    },
    {
     "name": "stderr",
     "output_type": "stream",
     "text": [
      " 95%|█████████▍| 71/75 [00:15<00:00,  4.61it/s]"
     ]
    },
    {
     "name": "stdout",
     "output_type": "stream",
     "text": [
      "Train Epoch: 11 [35840/38723 (93%)]\tLoss: 0.650371\n"
     ]
    },
    {
     "name": "stderr",
     "output_type": "stream",
     "text": [
      "100%|██████████| 75/75 [00:16<00:00,  4.66it/s]\n"
     ]
    },
    {
     "name": "stdout",
     "output_type": "stream",
     "text": [
      "Input\t['f', 'a', 'r', 'm']\n",
      "GT\t['ஃ', 'ப', 'ா', 'ர', '்', 'ம', '்']\n",
      "pred\t['ப', 'ா', 'ு', 'ம', '்']\n",
      "\n",
      "\n",
      "Input\t['n', 'e', 't', 'r', 'i']\n",
      "GT\t['ந', 'ெ', 'ற', '்', 'ற', 'ி']\n",
      "pred\t['த', 'ே', '்', 'ற', 'ி']\n",
      "\n",
      "\n",
      "Input\t['k', 'a', 'a', 'r', 'a', 'n', 'a', 't', 't', 'a', 'i', 'p']\n",
      "GT\t['க', 'ா', 'ர', 'ண', 'த', '்', 'த', 'ை', 'ப', '்']\n",
      "pred\t['க', 'ட', 'த', '்', '்', '்']\n",
      "\n",
      "\n",
      "Input\t['v', 'a', 'a', 'g', 'a', 'n', 'a']\n",
      "GT\t['வ', 'ா', 'க', 'ன']\n",
      "pred\t['எ', 'ட', '்', 'க', 'த', 'த']\n",
      "\n",
      "\n",
      "\n",
      "Test set: Average loss: 0.7487, Accuracy: 188476/239760 (79%)\n",
      "\n"
     ]
    },
    {
     "name": "stderr",
     "output_type": "stream",
     "text": [
      "  1%|▏         | 1/75 [00:00<00:16,  4.58it/s]"
     ]
    },
    {
     "name": "stdout",
     "output_type": "stream",
     "text": [
      "Train Epoch: 12 [0/38723 (0%)]\tLoss: 0.607960\n"
     ]
    },
    {
     "name": "stderr",
     "output_type": "stream",
     "text": [
      " 15%|█▍        | 11/75 [00:02<00:13,  4.75it/s]"
     ]
    },
    {
     "name": "stdout",
     "output_type": "stream",
     "text": [
      "Train Epoch: 12 [5120/38723 (13%)]\tLoss: 0.485238\n"
     ]
    },
    {
     "name": "stderr",
     "output_type": "stream",
     "text": [
      " 28%|██▊       | 21/75 [00:04<00:11,  4.77it/s]"
     ]
    },
    {
     "name": "stdout",
     "output_type": "stream",
     "text": [
      "Train Epoch: 12 [10240/38723 (27%)]\tLoss: 0.773056\n"
     ]
    },
    {
     "name": "stderr",
     "output_type": "stream",
     "text": [
      " 43%|████▎     | 32/75 [00:06<00:08,  4.88it/s]"
     ]
    },
    {
     "name": "stdout",
     "output_type": "stream",
     "text": [
      "Train Epoch: 12 [15360/38723 (40%)]\tLoss: 0.671617\n"
     ]
    },
    {
     "name": "stderr",
     "output_type": "stream",
     "text": [
      " 55%|█████▍    | 41/75 [00:08<00:07,  4.74it/s]"
     ]
    },
    {
     "name": "stdout",
     "output_type": "stream",
     "text": [
      "Train Epoch: 12 [20480/38723 (53%)]\tLoss: 0.714544\n"
     ]
    },
    {
     "name": "stderr",
     "output_type": "stream",
     "text": [
      " 68%|██████▊   | 51/75 [00:10<00:05,  4.74it/s]"
     ]
    },
    {
     "name": "stdout",
     "output_type": "stream",
     "text": [
      "Train Epoch: 12 [25600/38723 (67%)]\tLoss: 0.609542\n"
     ]
    },
    {
     "name": "stderr",
     "output_type": "stream",
     "text": [
      " 83%|████████▎ | 62/75 [00:12<00:02,  4.91it/s]"
     ]
    },
    {
     "name": "stdout",
     "output_type": "stream",
     "text": [
      "Train Epoch: 12 [30720/38723 (80%)]\tLoss: 0.631559\n"
     ]
    },
    {
     "name": "stderr",
     "output_type": "stream",
     "text": [
      " 95%|█████████▍| 71/75 [00:14<00:00,  4.69it/s]"
     ]
    },
    {
     "name": "stdout",
     "output_type": "stream",
     "text": [
      "Train Epoch: 12 [35840/38723 (93%)]\tLoss: 0.630150\n"
     ]
    },
    {
     "name": "stderr",
     "output_type": "stream",
     "text": [
      "100%|██████████| 75/75 [00:15<00:00,  4.75it/s]\n"
     ]
    },
    {
     "name": "stdout",
     "output_type": "stream",
     "text": [
      "Input\t['f', 'a', 'r', 'm']\n",
      "GT\t['ஃ', 'ப', 'ா', 'ர', '்', 'ம', '்']\n",
      "pred\t['ப', 'ா', 'ு', 'ம', '்']\n",
      "\n",
      "\n",
      "Input\t['n', 'e', 't', 'r', 'i']\n",
      "GT\t['ந', 'ெ', 'ற', '்', 'ற', 'ி']\n",
      "pred\t['ப', 'ே', 'த', '்', 'ி']\n",
      "\n",
      "\n",
      "Input\t['k', 'a', 'a', 'r', 'a', 'n', 'a', 't', 't', 'a', 'i', 'p']\n",
      "GT\t['க', 'ா', 'ர', 'ண', 'த', '்', 'த', 'ை', 'ப', '்']\n",
      "pred\t['க', 'க', '்', '்', '்', 'த']\n",
      "\n",
      "\n",
      "Input\t['v', 'a', 'a', 'g', 'a', 'n', 'a']\n",
      "GT\t['வ', 'ா', 'க', 'ன']\n",
      "pred\t['எ', 'ட', '்', 'த', 'த', '்']\n",
      "\n",
      "\n",
      "\n",
      "Test set: Average loss: 0.7665, Accuracy: 188053/239760 (78%)\n",
      "\n"
     ]
    },
    {
     "name": "stderr",
     "output_type": "stream",
     "text": [
      "  1%|▏         | 1/75 [00:00<00:15,  4.80it/s]"
     ]
    },
    {
     "name": "stdout",
     "output_type": "stream",
     "text": [
      "Train Epoch: 13 [0/38723 (0%)]\tLoss: 0.583113\n"
     ]
    },
    {
     "name": "stderr",
     "output_type": "stream",
     "text": [
      " 15%|█▍        | 11/75 [00:02<00:13,  4.84it/s]"
     ]
    },
    {
     "name": "stdout",
     "output_type": "stream",
     "text": [
      "Train Epoch: 13 [5120/38723 (13%)]\tLoss: 0.495159\n"
     ]
    },
    {
     "name": "stderr",
     "output_type": "stream",
     "text": [
      " 28%|██▊       | 21/75 [00:04<00:11,  4.66it/s]"
     ]
    },
    {
     "name": "stdout",
     "output_type": "stream",
     "text": [
      "Train Epoch: 13 [10240/38723 (27%)]\tLoss: 0.770030\n"
     ]
    },
    {
     "name": "stderr",
     "output_type": "stream",
     "text": [
      " 41%|████▏     | 31/75 [00:06<00:09,  4.69it/s]"
     ]
    },
    {
     "name": "stdout",
     "output_type": "stream",
     "text": [
      "Train Epoch: 13 [15360/38723 (40%)]\tLoss: 0.664737\n"
     ]
    },
    {
     "name": "stderr",
     "output_type": "stream",
     "text": [
      " 55%|█████▍    | 41/75 [00:08<00:07,  4.42it/s]"
     ]
    },
    {
     "name": "stdout",
     "output_type": "stream",
     "text": [
      "Train Epoch: 13 [20480/38723 (53%)]\tLoss: 0.708706\n"
     ]
    },
    {
     "name": "stderr",
     "output_type": "stream",
     "text": [
      " 68%|██████▊   | 51/75 [00:10<00:05,  4.78it/s]"
     ]
    },
    {
     "name": "stdout",
     "output_type": "stream",
     "text": [
      "Train Epoch: 13 [25600/38723 (67%)]\tLoss: 0.603969\n"
     ]
    },
    {
     "name": "stderr",
     "output_type": "stream",
     "text": [
      " 81%|████████▏ | 61/75 [00:13<00:02,  4.68it/s]"
     ]
    },
    {
     "name": "stdout",
     "output_type": "stream",
     "text": [
      "Train Epoch: 13 [30720/38723 (80%)]\tLoss: 0.621789\n"
     ]
    },
    {
     "name": "stderr",
     "output_type": "stream",
     "text": [
      " 95%|█████████▍| 71/75 [00:15<00:00,  4.55it/s]"
     ]
    },
    {
     "name": "stdout",
     "output_type": "stream",
     "text": [
      "Train Epoch: 13 [35840/38723 (93%)]\tLoss: 0.627007\n"
     ]
    },
    {
     "name": "stderr",
     "output_type": "stream",
     "text": [
      "100%|██████████| 75/75 [00:16<00:00,  4.61it/s]\n"
     ]
    },
    {
     "name": "stdout",
     "output_type": "stream",
     "text": [
      "Input\t['f', 'a', 'r', 'm']\n",
      "GT\t['ஃ', 'ப', 'ா', 'ர', '்', 'ம', '்']\n",
      "pred\t['ப', 'ா', 'ர', '்', '்']\n",
      "\n",
      "\n",
      "Input\t['n', 'e', 't', 'r', 'i']\n",
      "GT\t['ந', 'ெ', 'ற', '்', 'ற', 'ி']\n",
      "pred\t['ந', 'ட', 'ட', '்', 'ி']\n",
      "\n",
      "\n",
      "Input\t['k', 'a', 'a', 'r', 'a', 'n', 'a', 't', 't', 'a', 'i', 'p']\n",
      "GT\t['க', 'ா', 'ர', 'ண', 'த', '்', 'த', 'ை', 'ப', '்']\n",
      "pred\t['க', 'க', '்', '்']\n",
      "\n",
      "\n",
      "Input\t['v', 'a', 'a', 'g', 'a', 'n', 'a']\n",
      "GT\t['வ', 'ா', 'க', 'ன']\n",
      "pred\t['த', 'ா', '்', 'த']\n",
      "\n",
      "\n",
      "\n",
      "Test set: Average loss: 0.7610, Accuracy: 189161/239760 (79%)\n",
      "\n"
     ]
    },
    {
     "name": "stderr",
     "output_type": "stream",
     "text": [
      "  1%|▏         | 1/75 [00:00<00:16,  4.42it/s]"
     ]
    },
    {
     "name": "stdout",
     "output_type": "stream",
     "text": [
      "Train Epoch: 14 [0/38723 (0%)]\tLoss: 0.538096\n"
     ]
    },
    {
     "name": "stderr",
     "output_type": "stream",
     "text": [
      " 15%|█▍        | 11/75 [00:02<00:14,  4.45it/s]"
     ]
    },
    {
     "name": "stdout",
     "output_type": "stream",
     "text": [
      "Train Epoch: 14 [5120/38723 (13%)]\tLoss: 0.463793\n"
     ]
    },
    {
     "name": "stderr",
     "output_type": "stream",
     "text": [
      " 28%|██▊       | 21/75 [00:04<00:13,  4.08it/s]"
     ]
    },
    {
     "name": "stdout",
     "output_type": "stream",
     "text": [
      "Train Epoch: 14 [10240/38723 (27%)]\tLoss: 0.743533\n"
     ]
    },
    {
     "name": "stderr",
     "output_type": "stream",
     "text": [
      " 41%|████▏     | 31/75 [00:07<00:09,  4.45it/s]"
     ]
    },
    {
     "name": "stdout",
     "output_type": "stream",
     "text": [
      "Train Epoch: 14 [15360/38723 (40%)]\tLoss: 0.660965\n"
     ]
    },
    {
     "name": "stderr",
     "output_type": "stream",
     "text": [
      " 55%|█████▍    | 41/75 [00:09<00:07,  4.56it/s]"
     ]
    },
    {
     "name": "stdout",
     "output_type": "stream",
     "text": [
      "Train Epoch: 14 [20480/38723 (53%)]\tLoss: 0.695569\n"
     ]
    },
    {
     "name": "stderr",
     "output_type": "stream",
     "text": [
      " 68%|██████▊   | 51/75 [00:11<00:05,  4.50it/s]"
     ]
    },
    {
     "name": "stdout",
     "output_type": "stream",
     "text": [
      "Train Epoch: 14 [25600/38723 (67%)]\tLoss: 0.615357\n"
     ]
    },
    {
     "name": "stderr",
     "output_type": "stream",
     "text": [
      " 81%|████████▏ | 61/75 [00:13<00:03,  4.63it/s]"
     ]
    },
    {
     "name": "stdout",
     "output_type": "stream",
     "text": [
      "Train Epoch: 14 [30720/38723 (80%)]\tLoss: 0.613410\n"
     ]
    },
    {
     "name": "stderr",
     "output_type": "stream",
     "text": [
      " 95%|█████████▍| 71/75 [00:15<00:00,  4.68it/s]"
     ]
    },
    {
     "name": "stdout",
     "output_type": "stream",
     "text": [
      "Train Epoch: 14 [35840/38723 (93%)]\tLoss: 0.619463\n"
     ]
    },
    {
     "name": "stderr",
     "output_type": "stream",
     "text": [
      "100%|██████████| 75/75 [00:16<00:00,  4.53it/s]\n"
     ]
    },
    {
     "name": "stdout",
     "output_type": "stream",
     "text": [
      "Input\t['f', 'a', 'r', 'm']\n",
      "GT\t['ஃ', 'ப', 'ா', 'ர', '்', 'ம', '்']\n",
      "pred\t['ப', 'ா', 'ர', '்', '்']\n",
      "\n",
      "\n",
      "Input\t['n', 'e', 't', 'r', 'i']\n",
      "GT\t['ந', 'ெ', 'ற', '்', 'ற', 'ி']\n",
      "pred\t['ந', 'ட', 'ட', '்', 'ி']\n",
      "\n",
      "\n",
      "Input\t['k', 'a', 'a', 'r', 'a', 'n', 'a', 't', 't', 'a', 'i', 'p']\n",
      "GT\t['க', 'ா', 'ர', 'ண', 'த', '்', 'த', 'ை', 'ப', '்']\n",
      "pred\t['க', 'க', '்', '்', '்', '்']\n",
      "\n",
      "\n",
      "Input\t['v', 'a', 'a', 'g', 'a', 'n', 'a']\n",
      "GT\t['வ', 'ா', 'க', 'ன']\n",
      "pred\t['த', 'ா', '்', 'த', '்', 'த']\n",
      "\n",
      "\n",
      "\n",
      "Test set: Average loss: 0.7519, Accuracy: 189493/239760 (79%)\n",
      "\n"
     ]
    },
    {
     "name": "stderr",
     "output_type": "stream",
     "text": [
      "  1%|▏         | 1/75 [00:00<00:16,  4.48it/s]"
     ]
    },
    {
     "name": "stdout",
     "output_type": "stream",
     "text": [
      "Train Epoch: 15 [0/38723 (0%)]\tLoss: 0.500716\n"
     ]
    },
    {
     "name": "stderr",
     "output_type": "stream",
     "text": [
      " 15%|█▍        | 11/75 [00:02<00:13,  4.65it/s]"
     ]
    },
    {
     "name": "stdout",
     "output_type": "stream",
     "text": [
      "Train Epoch: 15 [5120/38723 (13%)]\tLoss: 0.446099\n"
     ]
    },
    {
     "name": "stderr",
     "output_type": "stream",
     "text": [
      " 28%|██▊       | 21/75 [00:04<00:11,  4.73it/s]"
     ]
    },
    {
     "name": "stdout",
     "output_type": "stream",
     "text": [
      "Train Epoch: 15 [10240/38723 (27%)]\tLoss: 0.730105\n"
     ]
    },
    {
     "name": "stderr",
     "output_type": "stream",
     "text": [
      " 41%|████▏     | 31/75 [00:06<00:09,  4.68it/s]"
     ]
    },
    {
     "name": "stdout",
     "output_type": "stream",
     "text": [
      "Train Epoch: 15 [15360/38723 (40%)]\tLoss: 0.656276\n"
     ]
    },
    {
     "name": "stderr",
     "output_type": "stream",
     "text": [
      " 55%|█████▍    | 41/75 [00:08<00:07,  4.69it/s]"
     ]
    },
    {
     "name": "stdout",
     "output_type": "stream",
     "text": [
      "Train Epoch: 15 [20480/38723 (53%)]\tLoss: 0.685073\n"
     ]
    },
    {
     "name": "stderr",
     "output_type": "stream",
     "text": [
      " 68%|██████▊   | 51/75 [00:10<00:05,  4.72it/s]"
     ]
    },
    {
     "name": "stdout",
     "output_type": "stream",
     "text": [
      "Train Epoch: 15 [25600/38723 (67%)]\tLoss: 0.593407\n"
     ]
    },
    {
     "name": "stderr",
     "output_type": "stream",
     "text": [
      " 81%|████████▏ | 61/75 [00:13<00:02,  4.73it/s]"
     ]
    },
    {
     "name": "stdout",
     "output_type": "stream",
     "text": [
      "Train Epoch: 15 [30720/38723 (80%)]\tLoss: 0.615705\n"
     ]
    },
    {
     "name": "stderr",
     "output_type": "stream",
     "text": [
      " 95%|█████████▍| 71/75 [00:15<00:00,  4.66it/s]"
     ]
    },
    {
     "name": "stdout",
     "output_type": "stream",
     "text": [
      "Train Epoch: 15 [35840/38723 (93%)]\tLoss: 0.608596\n"
     ]
    },
    {
     "name": "stderr",
     "output_type": "stream",
     "text": [
      "100%|██████████| 75/75 [00:15<00:00,  4.70it/s]\n"
     ]
    },
    {
     "name": "stdout",
     "output_type": "stream",
     "text": [
      "Input\t['f', 'a', 'r', 'm']\n",
      "GT\t['ஃ', 'ப', 'ா', 'ர', '்', 'ம', '்']\n",
      "pred\t['ப', 'ா', 'ர', '்', '்']\n",
      "\n",
      "\n",
      "Input\t['n', 'e', 't', 'r', 'i']\n",
      "GT\t['ந', 'ெ', 'ற', '்', 'ற', 'ி']\n",
      "pred\t['ப', 'ட', 'ட', '்', 'ி']\n",
      "\n",
      "\n",
      "Input\t['k', 'a', 'a', 'r', 'a', 'n', 'a', 't', 't', 'a', 'i', 'p']\n",
      "GT\t['க', 'ா', 'ர', 'ண', 'த', '்', 'த', 'ை', 'ப', '்']\n",
      "pred\t['க', 'க', 'த', '்', 'ா', '்']\n",
      "\n",
      "\n",
      "Input\t['v', 'a', 'a', 'g', 'a', 'n', 'a']\n",
      "GT\t['வ', 'ா', 'க', 'ன']\n",
      "pred\t['த', 'த', 'த', 'த', 'த', 'த']\n",
      "\n",
      "\n",
      "\n",
      "Test set: Average loss: 0.7831, Accuracy: 188063/239760 (78%)\n",
      "\n"
     ]
    },
    {
     "name": "stderr",
     "output_type": "stream",
     "text": [
      "  1%|▏         | 1/75 [00:00<00:15,  4.81it/s]"
     ]
    },
    {
     "name": "stdout",
     "output_type": "stream",
     "text": [
      "Train Epoch: 16 [0/38723 (0%)]\tLoss: 0.487850\n"
     ]
    },
    {
     "name": "stderr",
     "output_type": "stream",
     "text": [
      " 15%|█▍        | 11/75 [00:02<00:13,  4.60it/s]"
     ]
    },
    {
     "name": "stdout",
     "output_type": "stream",
     "text": [
      "Train Epoch: 16 [5120/38723 (13%)]\tLoss: 0.435041\n"
     ]
    },
    {
     "name": "stderr",
     "output_type": "stream",
     "text": [
      " 28%|██▊       | 21/75 [00:04<00:11,  4.82it/s]"
     ]
    },
    {
     "name": "stdout",
     "output_type": "stream",
     "text": [
      "Train Epoch: 16 [10240/38723 (27%)]\tLoss: 0.719865\n"
     ]
    },
    {
     "name": "stderr",
     "output_type": "stream",
     "text": [
      " 41%|████▏     | 31/75 [00:06<00:09,  4.75it/s]"
     ]
    },
    {
     "name": "stdout",
     "output_type": "stream",
     "text": [
      "Train Epoch: 16 [15360/38723 (40%)]\tLoss: 0.642438\n"
     ]
    },
    {
     "name": "stderr",
     "output_type": "stream",
     "text": [
      " 55%|█████▍    | 41/75 [00:08<00:07,  4.60it/s]"
     ]
    },
    {
     "name": "stdout",
     "output_type": "stream",
     "text": [
      "Train Epoch: 16 [20480/38723 (53%)]\tLoss: 0.675788\n"
     ]
    },
    {
     "name": "stderr",
     "output_type": "stream",
     "text": [
      " 68%|██████▊   | 51/75 [00:10<00:05,  4.63it/s]"
     ]
    },
    {
     "name": "stdout",
     "output_type": "stream",
     "text": [
      "Train Epoch: 16 [25600/38723 (67%)]\tLoss: 0.585093\n"
     ]
    },
    {
     "name": "stderr",
     "output_type": "stream",
     "text": [
      " 81%|████████▏ | 61/75 [00:13<00:02,  4.84it/s]"
     ]
    },
    {
     "name": "stdout",
     "output_type": "stream",
     "text": [
      "Train Epoch: 16 [30720/38723 (80%)]\tLoss: 0.597389\n"
     ]
    },
    {
     "name": "stderr",
     "output_type": "stream",
     "text": [
      " 95%|█████████▍| 71/75 [00:15<00:00,  4.60it/s]"
     ]
    },
    {
     "name": "stdout",
     "output_type": "stream",
     "text": [
      "Train Epoch: 16 [35840/38723 (93%)]\tLoss: 0.592033\n"
     ]
    },
    {
     "name": "stderr",
     "output_type": "stream",
     "text": [
      "100%|██████████| 75/75 [00:16<00:00,  4.65it/s]\n"
     ]
    },
    {
     "name": "stdout",
     "output_type": "stream",
     "text": [
      "Input\t['f', 'a', 'r', 'm']\n",
      "GT\t['ஃ', 'ப', 'ா', 'ர', '்', 'ம', '்']\n",
      "pred\t['ப', 'ா', 'ர', '்', 'ம']\n",
      "\n",
      "\n",
      "Input\t['n', 'e', 't', 'r', 'i']\n",
      "GT\t['ந', 'ெ', 'ற', '்', 'ற', 'ி']\n",
      "pred\t['ந', 'ட', '்', 'ற', 'ி']\n",
      "\n",
      "\n",
      "Input\t['k', 'a', 'a', 'r', 'a', 'n', 'a', 't', 't', 'a', 'i', 'p']\n",
      "GT\t['க', 'ா', 'ர', 'ண', 'த', '்', 'த', 'ை', 'ப', '்']\n",
      "pred\t['க', 'க', 'த', 'ா']\n",
      "\n",
      "\n",
      "Input\t['v', 'a', 'a', 'g', 'a', 'n', 'a']\n",
      "GT\t['வ', 'ா', 'க', 'ன']\n",
      "pred\t['த', 'த', 'த', 'த', 'த', 'த']\n",
      "\n",
      "\n",
      "\n",
      "Test set: Average loss: 0.7204, Accuracy: 191466/239760 (80%)\n",
      "\n"
     ]
    },
    {
     "name": "stderr",
     "output_type": "stream",
     "text": [
      "  1%|▏         | 1/75 [00:00<00:15,  4.92it/s]"
     ]
    },
    {
     "name": "stdout",
     "output_type": "stream",
     "text": [
      "Train Epoch: 17 [0/38723 (0%)]\tLoss: 0.464738\n"
     ]
    },
    {
     "name": "stderr",
     "output_type": "stream",
     "text": [
      " 15%|█▍        | 11/75 [00:02<00:13,  4.62it/s]"
     ]
    },
    {
     "name": "stdout",
     "output_type": "stream",
     "text": [
      "Train Epoch: 17 [5120/38723 (13%)]\tLoss: 0.423259\n"
     ]
    },
    {
     "name": "stderr",
     "output_type": "stream",
     "text": [
      " 28%|██▊       | 21/75 [00:04<00:11,  4.53it/s]"
     ]
    },
    {
     "name": "stdout",
     "output_type": "stream",
     "text": [
      "Train Epoch: 17 [10240/38723 (27%)]\tLoss: 0.697186\n"
     ]
    },
    {
     "name": "stderr",
     "output_type": "stream",
     "text": [
      " 41%|████▏     | 31/75 [00:06<00:09,  4.81it/s]"
     ]
    },
    {
     "name": "stdout",
     "output_type": "stream",
     "text": [
      "Train Epoch: 17 [15360/38723 (40%)]\tLoss: 0.638549\n"
     ]
    },
    {
     "name": "stderr",
     "output_type": "stream",
     "text": [
      " 55%|█████▍    | 41/75 [00:08<00:07,  4.38it/s]"
     ]
    },
    {
     "name": "stdout",
     "output_type": "stream",
     "text": [
      "Train Epoch: 17 [20480/38723 (53%)]\tLoss: 0.669668\n"
     ]
    },
    {
     "name": "stderr",
     "output_type": "stream",
     "text": [
      " 68%|██████▊   | 51/75 [00:11<00:05,  4.73it/s]"
     ]
    },
    {
     "name": "stdout",
     "output_type": "stream",
     "text": [
      "Train Epoch: 17 [25600/38723 (67%)]\tLoss: 0.560836\n"
     ]
    },
    {
     "name": "stderr",
     "output_type": "stream",
     "text": [
      " 81%|████████▏ | 61/75 [00:13<00:03,  4.61it/s]"
     ]
    },
    {
     "name": "stdout",
     "output_type": "stream",
     "text": [
      "Train Epoch: 17 [30720/38723 (80%)]\tLoss: 0.588656\n"
     ]
    },
    {
     "name": "stderr",
     "output_type": "stream",
     "text": [
      " 95%|█████████▍| 71/75 [00:15<00:00,  4.83it/s]"
     ]
    },
    {
     "name": "stdout",
     "output_type": "stream",
     "text": [
      "Train Epoch: 17 [35840/38723 (93%)]\tLoss: 0.575260\n"
     ]
    },
    {
     "name": "stderr",
     "output_type": "stream",
     "text": [
      "100%|██████████| 75/75 [00:16<00:00,  4.64it/s]\n"
     ]
    },
    {
     "name": "stdout",
     "output_type": "stream",
     "text": [
      "Input\t['f', 'a', 'r', 'm']\n",
      "GT\t['ஃ', 'ப', 'ா', 'ர', '்', 'ம', '்']\n",
      "pred\t['ப', 'ா', 'ர', '்', 'ம']\n",
      "\n",
      "\n",
      "Input\t['n', 'e', 't', 'r', 'i']\n",
      "GT\t['ந', 'ெ', 'ற', '்', 'ற', 'ி']\n",
      "pred\t['ந', 'ட', 'ட', '்', 'ி']\n",
      "\n",
      "\n",
      "Input\t['k', 'a', 'a', 'r', 'a', 'n', 'a', 't', 't', 'a', 'i', 'p']\n",
      "GT\t['க', 'ா', 'ர', 'ண', 'த', '்', 'த', 'ை', 'ப', '்']\n",
      "pred\t['க', 'த', 'த', 'ா', 'த', 'த']\n",
      "\n",
      "\n",
      "Input\t['v', 'a', 'a', 'g', 'a', 'n', 'a']\n",
      "GT\t['வ', 'ா', 'க', 'ன']\n",
      "pred\t['த', 'த', 'த', 'த', 'த', 'த']\n",
      "\n",
      "\n",
      "\n",
      "Test set: Average loss: 0.7052, Accuracy: 191959/239760 (80%)\n",
      "\n"
     ]
    },
    {
     "name": "stderr",
     "output_type": "stream",
     "text": [
      "  1%|▏         | 1/75 [00:00<00:15,  4.92it/s]"
     ]
    },
    {
     "name": "stdout",
     "output_type": "stream",
     "text": [
      "Train Epoch: 18 [0/38723 (0%)]\tLoss: 0.457286\n"
     ]
    },
    {
     "name": "stderr",
     "output_type": "stream",
     "text": [
      " 15%|█▍        | 11/75 [00:02<00:14,  4.40it/s]"
     ]
    },
    {
     "name": "stdout",
     "output_type": "stream",
     "text": [
      "Train Epoch: 18 [5120/38723 (13%)]\tLoss: 0.423016\n"
     ]
    },
    {
     "name": "stderr",
     "output_type": "stream",
     "text": [
      " 28%|██▊       | 21/75 [00:04<00:11,  4.74it/s]"
     ]
    },
    {
     "name": "stdout",
     "output_type": "stream",
     "text": [
      "Train Epoch: 18 [10240/38723 (27%)]\tLoss: 0.693918\n"
     ]
    },
    {
     "name": "stderr",
     "output_type": "stream",
     "text": [
      " 41%|████▏     | 31/75 [00:06<00:09,  4.73it/s]"
     ]
    },
    {
     "name": "stdout",
     "output_type": "stream",
     "text": [
      "Train Epoch: 18 [15360/38723 (40%)]\tLoss: 0.643274\n"
     ]
    },
    {
     "name": "stderr",
     "output_type": "stream",
     "text": [
      " 55%|█████▍    | 41/75 [00:08<00:07,  4.75it/s]"
     ]
    },
    {
     "name": "stdout",
     "output_type": "stream",
     "text": [
      "Train Epoch: 18 [20480/38723 (53%)]\tLoss: 0.661026\n"
     ]
    },
    {
     "name": "stderr",
     "output_type": "stream",
     "text": [
      " 68%|██████▊   | 51/75 [00:11<00:05,  4.64it/s]"
     ]
    },
    {
     "name": "stdout",
     "output_type": "stream",
     "text": [
      "Train Epoch: 18 [25600/38723 (67%)]\tLoss: 0.551981\n"
     ]
    },
    {
     "name": "stderr",
     "output_type": "stream",
     "text": [
      " 81%|████████▏ | 61/75 [00:13<00:03,  4.53it/s]"
     ]
    },
    {
     "name": "stdout",
     "output_type": "stream",
     "text": [
      "Train Epoch: 18 [30720/38723 (80%)]\tLoss: 0.592409\n"
     ]
    },
    {
     "name": "stderr",
     "output_type": "stream",
     "text": [
      " 95%|█████████▍| 71/75 [00:15<00:00,  4.21it/s]"
     ]
    },
    {
     "name": "stdout",
     "output_type": "stream",
     "text": [
      "Train Epoch: 18 [35840/38723 (93%)]\tLoss: 0.578554\n"
     ]
    },
    {
     "name": "stderr",
     "output_type": "stream",
     "text": [
      "100%|██████████| 75/75 [00:16<00:00,  4.58it/s]\n"
     ]
    },
    {
     "name": "stdout",
     "output_type": "stream",
     "text": [
      "Input\t['f', 'a', 'r', 'm']\n",
      "GT\t['ஃ', 'ப', 'ா', 'ர', '்', 'ம', '்']\n",
      "pred\t['ப', 'ா', 'ர', 'ம', 'ம']\n",
      "\n",
      "\n",
      "Input\t['n', 'e', 't', 'r', 'i']\n",
      "GT\t['ந', 'ெ', 'ற', '்', 'ற', 'ி']\n",
      "pred\t['ந', 'ட', 'ட', '்', 'ி', 'ி']\n",
      "\n",
      "\n",
      "Input\t['k', 'a', 'a', 'r', 'a', 'n', 'a', 't', 't', 'a', 'i', 'p']\n",
      "GT\t['க', 'ா', 'ர', 'ண', 'த', '்', 'த', 'ை', 'ப', '்']\n",
      "pred\t['க', 'த', 'த', 'ா', 'த', 'த']\n",
      "\n",
      "\n",
      "Input\t['v', 'a', 'a', 'g', 'a', 'n', 'a']\n",
      "GT\t['வ', 'ா', 'க', 'ன']\n",
      "pred\t['த', 'ா', 'த', 'த', 'த', 'த']\n",
      "\n",
      "\n",
      "\n",
      "Test set: Average loss: 0.7152, Accuracy: 191274/239760 (80%)\n",
      "\n"
     ]
    },
    {
     "name": "stderr",
     "output_type": "stream",
     "text": [
      "  1%|▏         | 1/75 [00:00<00:16,  4.60it/s]"
     ]
    },
    {
     "name": "stdout",
     "output_type": "stream",
     "text": [
      "Train Epoch: 19 [0/38723 (0%)]\tLoss: 0.448009\n"
     ]
    },
    {
     "name": "stderr",
     "output_type": "stream",
     "text": [
      " 15%|█▍        | 11/75 [00:02<00:14,  4.54it/s]"
     ]
    },
    {
     "name": "stdout",
     "output_type": "stream",
     "text": [
      "Train Epoch: 19 [5120/38723 (13%)]\tLoss: 0.410810\n"
     ]
    },
    {
     "name": "stderr",
     "output_type": "stream",
     "text": [
      " 28%|██▊       | 21/75 [00:04<00:11,  4.66it/s]"
     ]
    },
    {
     "name": "stdout",
     "output_type": "stream",
     "text": [
      "Train Epoch: 19 [10240/38723 (27%)]\tLoss: 0.673461\n"
     ]
    },
    {
     "name": "stderr",
     "output_type": "stream",
     "text": [
      " 41%|████▏     | 31/75 [00:06<00:09,  4.50it/s]"
     ]
    },
    {
     "name": "stdout",
     "output_type": "stream",
     "text": [
      "Train Epoch: 19 [15360/38723 (40%)]\tLoss: 0.632290\n"
     ]
    },
    {
     "name": "stderr",
     "output_type": "stream",
     "text": [
      " 56%|█████▌    | 42/75 [00:09<00:06,  4.80it/s]"
     ]
    },
    {
     "name": "stdout",
     "output_type": "stream",
     "text": [
      "Train Epoch: 19 [20480/38723 (53%)]\tLoss: 0.661552\n"
     ]
    },
    {
     "name": "stderr",
     "output_type": "stream",
     "text": [
      " 68%|██████▊   | 51/75 [00:11<00:05,  4.36it/s]"
     ]
    },
    {
     "name": "stdout",
     "output_type": "stream",
     "text": [
      "Train Epoch: 19 [25600/38723 (67%)]\tLoss: 0.540814\n"
     ]
    },
    {
     "name": "stderr",
     "output_type": "stream",
     "text": [
      " 81%|████████▏ | 61/75 [00:13<00:03,  4.48it/s]"
     ]
    },
    {
     "name": "stdout",
     "output_type": "stream",
     "text": [
      "Train Epoch: 19 [30720/38723 (80%)]\tLoss: 0.573501\n"
     ]
    },
    {
     "name": "stderr",
     "output_type": "stream",
     "text": [
      " 95%|█████████▍| 71/75 [00:15<00:00,  4.58it/s]"
     ]
    },
    {
     "name": "stdout",
     "output_type": "stream",
     "text": [
      "Train Epoch: 19 [35840/38723 (93%)]\tLoss: 0.567377\n"
     ]
    },
    {
     "name": "stderr",
     "output_type": "stream",
     "text": [
      "100%|██████████| 75/75 [00:16<00:00,  4.54it/s]\n"
     ]
    },
    {
     "name": "stdout",
     "output_type": "stream",
     "text": [
      "Input\t['f', 'a', 'r', 'm']\n",
      "GT\t['ஃ', 'ப', 'ா', 'ர', '்', 'ம', '்']\n",
      "pred\t['ப', 'ா', 'ர', '்', 'ம']\n",
      "\n",
      "\n",
      "Input\t['n', 'e', 't', 'r', 'i']\n",
      "GT\t['ந', 'ெ', 'ற', '்', 'ற', 'ி']\n",
      "pred\t['ந', 'ட', '்', '்', 'ி', 'ி']\n",
      "\n",
      "\n",
      "Input\t['k', 'a', 'a', 'r', 'a', 'n', 'a', 't', 't', 'a', 'i', 'p']\n",
      "GT\t['க', 'ா', 'ர', 'ண', 'த', '்', 'த', 'ை', 'ப', '்']\n",
      "pred\t['க', 'த', 'த', 'ா', 'ா', 'த']\n",
      "\n",
      "\n",
      "Input\t['v', 'a', 'a', 'g', 'a', 'n', 'a']\n",
      "GT\t['வ', 'ா', 'க', 'ன']\n",
      "pred\t['த', 'த', 'த', 'த', 'த', 'த']\n",
      "\n",
      "\n",
      "\n",
      "Test set: Average loss: 0.7489, Accuracy: 189718/239760 (79%)\n",
      "\n"
     ]
    },
    {
     "name": "stderr",
     "output_type": "stream",
     "text": [
      "  1%|▏         | 1/75 [00:00<00:15,  4.83it/s]"
     ]
    },
    {
     "name": "stdout",
     "output_type": "stream",
     "text": [
      "Train Epoch: 20 [0/38723 (0%)]\tLoss: 0.448345\n"
     ]
    },
    {
     "name": "stderr",
     "output_type": "stream",
     "text": [
      " 15%|█▍        | 11/75 [00:02<00:13,  4.72it/s]"
     ]
    },
    {
     "name": "stdout",
     "output_type": "stream",
     "text": [
      "Train Epoch: 20 [5120/38723 (13%)]\tLoss: 0.410652\n"
     ]
    },
    {
     "name": "stderr",
     "output_type": "stream",
     "text": [
      " 28%|██▊       | 21/75 [00:04<00:11,  4.56it/s]"
     ]
    },
    {
     "name": "stdout",
     "output_type": "stream",
     "text": [
      "Train Epoch: 20 [10240/38723 (27%)]\tLoss: 0.683466\n"
     ]
    },
    {
     "name": "stderr",
     "output_type": "stream",
     "text": [
      " 41%|████▏     | 31/75 [00:06<00:09,  4.56it/s]"
     ]
    },
    {
     "name": "stdout",
     "output_type": "stream",
     "text": [
      "Train Epoch: 20 [15360/38723 (40%)]\tLoss: 0.602087\n"
     ]
    },
    {
     "name": "stderr",
     "output_type": "stream",
     "text": [
      " 55%|█████▍    | 41/75 [00:08<00:07,  4.57it/s]"
     ]
    },
    {
     "name": "stdout",
     "output_type": "stream",
     "text": [
      "Train Epoch: 20 [20480/38723 (53%)]\tLoss: 0.649096\n"
     ]
    },
    {
     "name": "stderr",
     "output_type": "stream",
     "text": [
      " 68%|██████▊   | 51/75 [00:11<00:05,  4.56it/s]"
     ]
    },
    {
     "name": "stdout",
     "output_type": "stream",
     "text": [
      "Train Epoch: 20 [25600/38723 (67%)]\tLoss: 0.531668\n"
     ]
    },
    {
     "name": "stderr",
     "output_type": "stream",
     "text": [
      " 81%|████████▏ | 61/75 [00:13<00:03,  4.39it/s]"
     ]
    },
    {
     "name": "stdout",
     "output_type": "stream",
     "text": [
      "Train Epoch: 20 [30720/38723 (80%)]\tLoss: 0.584351\n"
     ]
    },
    {
     "name": "stderr",
     "output_type": "stream",
     "text": [
      " 95%|█████████▍| 71/75 [00:15<00:00,  4.79it/s]"
     ]
    },
    {
     "name": "stdout",
     "output_type": "stream",
     "text": [
      "Train Epoch: 20 [35840/38723 (93%)]\tLoss: 0.547724\n"
     ]
    },
    {
     "name": "stderr",
     "output_type": "stream",
     "text": [
      "100%|██████████| 75/75 [00:16<00:00,  4.61it/s]\n"
     ]
    },
    {
     "name": "stdout",
     "output_type": "stream",
     "text": [
      "Input\t['f', 'a', 'r', 'm']\n",
      "GT\t['ஃ', 'ப', 'ா', 'ர', '்', 'ம', '்']\n",
      "pred\t['ப', 'ா', 'ர', 'ம', 'ம']\n",
      "\n",
      "\n",
      "Input\t['n', 'e', 't', 'r', 'i']\n",
      "GT\t['ந', 'ெ', 'ற', '்', 'ற', 'ி']\n",
      "pred\t['ந', 'ட', '்', 'ற', 'ி']\n",
      "\n",
      "\n",
      "Input\t['k', 'a', 'a', 'r', 'a', 'n', 'a', 't', 't', 'a', 'i', 'p']\n",
      "GT\t['க', 'ா', 'ர', 'ண', 'த', '்', 'த', 'ை', 'ப', '்']\n",
      "pred\t['க', 'த', 'த', 'ா', '்', 'த']\n",
      "\n",
      "\n",
      "Input\t['v', 'a', 'a', 'g', 'a', 'n', 'a']\n",
      "GT\t['வ', 'ா', 'க', 'ன']\n",
      "pred\t['த', 'த', 'த', 'த', '்', 'த']\n",
      "\n",
      "\n",
      "\n",
      "Test set: Average loss: 0.6893, Accuracy: 193035/239760 (81%)\n",
      "\n"
     ]
    },
    {
     "data": {
      "image/png": "[encoded data removed]",
      "text/plain": [
       "<Figure size 864x432 with 1 Axes>"
      ]
     },
     "metadata": {},
     "output_type": "display_data"
    },
    {
     "data": {
      "image/png": "[encoded data removed]",
      "text/plain": [
       "<Figure size 864x432 with 1 Axes>"
      ]
     },
     "metadata": {},
     "output_type": "display_data"
    }
   ],
   "source": [
    "ta_lstm_model, _, _, _, _ = main('ta', 'lstm')"
   ]
  },
  {
   "cell_type": "code",
   "execution_count": 13,
   "id": "d79e716d",
   "metadata": {
    "scrolled": true
   },
   "outputs": [
    {
     "name": "stdout",
     "output_type": "stream",
     "text": [
      "Using device cpu\n",
      "num workers: 48\n",
      "Input\t['a', 'n', 'r', 'i']\n",
      "GT\t['অ', 'ঁ', 'র', 'ি']\n",
      "pred\t['ফ', 'ফ', 'ফ', 'ফ', 'ফ', 'ফ', 'ফ', 'ফ', 'ফ', 'ফ', 'ফ', 'ফ', 'ফ', 'ফ', 'ফ', 'ফ', 'ফ', 'ফ', 'ফ', 'ফ', 'ফ', 'ফ']\n",
      "\n",
      "\n",
      "Input\t['b', 'o', 'g', 'a']\n",
      "GT\t['ব', 'গ', 'া']\n",
      "pred\t['ফ', 'ফ', 'ফ', 'ফ', 'ফ', 'ফ', 'ফ', 'ফ', 'ফ', 'ফ', 'ফ', 'ফ', 'ফ', 'ফ', 'ফ', 'ফ', 'ফ', 'ফ', 'ফ', 'ফ', 'ফ', 'ফ']\n",
      "\n",
      "\n",
      "Input\t['e', 's', 't', 'a', 'n', 'i', 'y', 'a']\n",
      "GT\t['এ', 'স', '্', 'ত', 'ো', 'ন', 'ি', 'য', '়', 'া']\n",
      "pred\t['ফ', 'ফ', 'ফ', 'ফ', 'ফ', 'ফ', 'ফ', 'ফ', 'ফ', 'ফ', 'ফ', 'ফ', 'ফ', 'ফ', 'ফ', 'ফ', 'ফ', 'ফ', 'ফ', 'ফ', 'ফ', 'ফ']\n",
      "\n",
      "\n",
      "Input\t['m', 'a', 'd', 'h', 'o', 'b', 'i', 'r']\n",
      "GT\t['ম', 'া', 'ধ', 'ব', 'ী', 'র']\n",
      "pred\t['ফ', 'ফ', 'ফ', 'ফ', 'ফ', 'ফ', 'ফ', 'ফ', 'ফ', 'ফ', 'ফ', 'ফ', 'ফ', 'ফ', 'ফ', 'ফ', 'ফ', 'ফ', 'ফ', 'ফ', 'ফ', 'ফ']\n",
      "\n",
      "\n",
      "\n",
      "Test set: Average loss: 4.0593, Accuracy: 555/195976 (0%)\n",
      "\n"
     ]
    },
    {
     "name": "stderr",
     "output_type": "stream",
     "text": [
      "  2%|▏         | 2/89 [00:00<00:11,  7.28it/s]"
     ]
    },
    {
     "name": "stdout",
     "output_type": "stream",
     "text": [
      "Train Epoch: 0 [0/45976 (0%)]\tLoss: 4.063099\n"
     ]
    },
    {
     "name": "stderr",
     "output_type": "stream",
     "text": [
      " 13%|█▎        | 12/89 [00:01<00:11,  6.81it/s]"
     ]
    },
    {
     "name": "stdout",
     "output_type": "stream",
     "text": [
      "Train Epoch: 0 [5120/45976 (11%)]\tLoss: 1.438438\n"
     ]
    },
    {
     "name": "stderr",
     "output_type": "stream",
     "text": [
      " 25%|██▍       | 22/89 [00:03<00:09,  6.82it/s]"
     ]
    },
    {
     "name": "stdout",
     "output_type": "stream",
     "text": [
      "Train Epoch: 0 [10240/45976 (22%)]\tLoss: 1.121956\n"
     ]
    },
    {
     "name": "stderr",
     "output_type": "stream",
     "text": [
      " 36%|███▌      | 32/89 [00:04<00:08,  6.88it/s]"
     ]
    },
    {
     "name": "stdout",
     "output_type": "stream",
     "text": [
      "Train Epoch: 0 [15360/45976 (34%)]\tLoss: 1.249907\n"
     ]
    },
    {
     "name": "stderr",
     "output_type": "stream",
     "text": [
      " 47%|████▋     | 42/89 [00:06<00:06,  6.83it/s]"
     ]
    },
    {
     "name": "stdout",
     "output_type": "stream",
     "text": [
      "Train Epoch: 0 [20480/45976 (45%)]\tLoss: 1.221364\n"
     ]
    },
    {
     "name": "stderr",
     "output_type": "stream",
     "text": [
      " 58%|█████▊    | 52/89 [00:07<00:05,  6.92it/s]"
     ]
    },
    {
     "name": "stdout",
     "output_type": "stream",
     "text": [
      "Train Epoch: 0 [25600/45976 (56%)]\tLoss: 1.168249\n"
     ]
    },
    {
     "name": "stderr",
     "output_type": "stream",
     "text": [
      " 70%|██████▉   | 62/89 [00:09<00:03,  7.04it/s]"
     ]
    },
    {
     "name": "stdout",
     "output_type": "stream",
     "text": [
      "Train Epoch: 0 [30720/45976 (67%)]\tLoss: 1.250794\n"
     ]
    },
    {
     "name": "stderr",
     "output_type": "stream",
     "text": [
      " 81%|████████  | 72/89 [00:10<00:02,  7.26it/s]"
     ]
    },
    {
     "name": "stdout",
     "output_type": "stream",
     "text": [
      "Train Epoch: 0 [35840/45976 (79%)]\tLoss: 1.024984\n"
     ]
    },
    {
     "name": "stderr",
     "output_type": "stream",
     "text": [
      " 92%|█████████▏| 82/89 [00:11<00:00,  7.11it/s]"
     ]
    },
    {
     "name": "stdout",
     "output_type": "stream",
     "text": [
      "Train Epoch: 0 [40960/45976 (90%)]\tLoss: 1.298290\n"
     ]
    },
    {
     "name": "stderr",
     "output_type": "stream",
     "text": [
      "100%|██████████| 89/89 [00:12<00:00,  6.95it/s]\n"
     ]
    },
    {
     "name": "stdout",
     "output_type": "stream",
     "text": [
      "Input\t['a', 'n', 'r', 'i']\n",
      "GT\t['অ', 'ঁ', 'র', 'ি']\n",
      "pred\t['া', 'ন', 'র', 'ি']\n",
      "\n",
      "\n",
      "Input\t['b', 'o', 'g', 'a']\n",
      "GT\t['ব', 'গ', 'া']\n",
      "pred\t['স', 'ো', 'ু', 'া']\n",
      "\n",
      "\n",
      "Input\t['e', 's', 't', 'a', 'n', 'i', 'y', 'a']\n",
      "GT\t['এ', 'স', '্', 'ত', 'ো', 'ন', 'ি', 'য', '়', 'া']\n",
      "pred\t['স', 'স', '্', 'া', 'ন', 'ি', '্', 'া']\n",
      "\n",
      "\n",
      "Input\t['m', 'a', 'd', 'h', 'o', 'b', 'i', 'r']\n",
      "GT\t['ম', 'া', 'ধ', 'ব', 'ী', 'র']\n",
      "pred\t['স', 'া', '্', 'া', 'া', 'ব']\n",
      "\n",
      "\n",
      "\n",
      "Test set: Average loss: 1.0973, Accuracy: 139518/195976 (71%)\n",
      "\n"
     ]
    },
    {
     "name": "stderr",
     "output_type": "stream",
     "text": [
      "  2%|▏         | 2/89 [00:00<00:12,  7.08it/s]"
     ]
    },
    {
     "name": "stdout",
     "output_type": "stream",
     "text": [
      "Train Epoch: 1 [0/45976 (0%)]\tLoss: 1.401837\n"
     ]
    },
    {
     "name": "stderr",
     "output_type": "stream",
     "text": [
      " 13%|█▎        | 12/89 [00:01<00:10,  7.14it/s]"
     ]
    },
    {
     "name": "stdout",
     "output_type": "stream",
     "text": [
      "Train Epoch: 1 [5120/45976 (11%)]\tLoss: 1.099872\n"
     ]
    },
    {
     "name": "stderr",
     "output_type": "stream",
     "text": [
      " 25%|██▍       | 22/89 [00:03<00:09,  7.24it/s]"
     ]
    },
    {
     "name": "stdout",
     "output_type": "stream",
     "text": [
      "Train Epoch: 1 [10240/45976 (22%)]\tLoss: 0.888584\n"
     ]
    },
    {
     "name": "stderr",
     "output_type": "stream",
     "text": [
      " 36%|███▌      | 32/89 [00:04<00:07,  7.26it/s]"
     ]
    },
    {
     "name": "stdout",
     "output_type": "stream",
     "text": [
      "Train Epoch: 1 [15360/45976 (34%)]\tLoss: 0.946292\n"
     ]
    },
    {
     "name": "stderr",
     "output_type": "stream",
     "text": [
      " 47%|████▋     | 42/89 [00:05<00:06,  7.25it/s]"
     ]
    },
    {
     "name": "stdout",
     "output_type": "stream",
     "text": [
      "Train Epoch: 1 [20480/45976 (45%)]\tLoss: 0.856341\n"
     ]
    },
    {
     "name": "stderr",
     "output_type": "stream",
     "text": [
      " 58%|█████▊    | 52/89 [00:07<00:05,  7.32it/s]"
     ]
    },
    {
     "name": "stdout",
     "output_type": "stream",
     "text": [
      "Train Epoch: 1 [25600/45976 (56%)]\tLoss: 1.037044\n"
     ]
    },
    {
     "name": "stderr",
     "output_type": "stream",
     "text": [
      " 70%|██████▉   | 62/89 [00:08<00:03,  7.19it/s]"
     ]
    },
    {
     "name": "stdout",
     "output_type": "stream",
     "text": [
      "Train Epoch: 1 [30720/45976 (67%)]\tLoss: 1.120591\n"
     ]
    },
    {
     "name": "stderr",
     "output_type": "stream",
     "text": [
      " 81%|████████  | 72/89 [00:10<00:02,  7.23it/s]"
     ]
    },
    {
     "name": "stdout",
     "output_type": "stream",
     "text": [
      "Train Epoch: 1 [35840/45976 (79%)]\tLoss: 0.939240\n"
     ]
    },
    {
     "name": "stderr",
     "output_type": "stream",
     "text": [
      " 92%|█████████▏| 82/89 [00:11<00:01,  6.92it/s]"
     ]
    },
    {
     "name": "stdout",
     "output_type": "stream",
     "text": [
      "Train Epoch: 1 [40960/45976 (90%)]\tLoss: 1.151822\n"
     ]
    },
    {
     "name": "stderr",
     "output_type": "stream",
     "text": [
      "100%|██████████| 89/89 [00:12<00:00,  7.07it/s]\n"
     ]
    },
    {
     "name": "stdout",
     "output_type": "stream",
     "text": [
      "Input\t['a', 'n', 'r', 'i']\n",
      "GT\t['অ', 'ঁ', 'র', 'ি']\n",
      "pred\t['া', '্', 'র', 'ি']\n",
      "\n",
      "\n",
      "Input\t['b', 'o', 'g', 'a']\n",
      "GT\t['ব', 'গ', 'া']\n",
      "pred\t['ভ', 'ো', 'গ', 'া']\n",
      "\n",
      "\n",
      "Input\t['e', 's', 't', 'a', 'n', 'i', 'y', 'a']\n",
      "GT\t['এ', 'স', '্', 'ত', 'ো', 'ন', 'ি', 'য', '়', 'া']\n",
      "pred\t['ে', 'স', '্', 'া', '্', 'ি', 'য', 'য', 'য']\n",
      "\n",
      "\n",
      "Input\t['m', 'a', 'd', 'h', 'o', 'b', 'i', 'r']\n",
      "GT\t['ম', 'া', 'ধ', 'ব', 'ী', 'র']\n",
      "pred\t['ম', 'া', 'দ', 'া', 'া', 'া', '্', 'র']\n",
      "\n",
      "\n",
      "\n",
      "Test set: Average loss: 0.9810, Accuracy: 142576/195976 (73%)\n",
      "\n"
     ]
    },
    {
     "name": "stderr",
     "output_type": "stream",
     "text": [
      "  2%|▏         | 2/89 [00:00<00:13,  6.63it/s]"
     ]
    },
    {
     "name": "stdout",
     "output_type": "stream",
     "text": [
      "Train Epoch: 2 [0/45976 (0%)]\tLoss: 1.193768\n"
     ]
    },
    {
     "name": "stderr",
     "output_type": "stream",
     "text": [
      " 13%|█▎        | 12/89 [00:01<00:10,  7.09it/s]"
     ]
    },
    {
     "name": "stdout",
     "output_type": "stream",
     "text": [
      "Train Epoch: 2 [5120/45976 (11%)]\tLoss: 0.927360\n"
     ]
    },
    {
     "name": "stderr",
     "output_type": "stream",
     "text": [
      " 25%|██▍       | 22/89 [00:03<00:09,  7.02it/s]"
     ]
    },
    {
     "name": "stdout",
     "output_type": "stream",
     "text": [
      "Train Epoch: 2 [10240/45976 (22%)]\tLoss: 0.808614\n"
     ]
    },
    {
     "name": "stderr",
     "output_type": "stream",
     "text": [
      " 36%|███▌      | 32/89 [00:04<00:07,  7.26it/s]"
     ]
    },
    {
     "name": "stdout",
     "output_type": "stream",
     "text": [
      "Train Epoch: 2 [15360/45976 (34%)]\tLoss: 0.838722\n"
     ]
    },
    {
     "name": "stderr",
     "output_type": "stream",
     "text": [
      " 47%|████▋     | 42/89 [00:05<00:06,  7.21it/s]"
     ]
    },
    {
     "name": "stdout",
     "output_type": "stream",
     "text": [
      "Train Epoch: 2 [20480/45976 (45%)]\tLoss: 0.775289\n"
     ]
    },
    {
     "name": "stderr",
     "output_type": "stream",
     "text": [
      " 58%|█████▊    | 52/89 [00:07<00:04,  7.40it/s]"
     ]
    },
    {
     "name": "stdout",
     "output_type": "stream",
     "text": [
      "Train Epoch: 2 [25600/45976 (56%)]\tLoss: 0.952329\n"
     ]
    },
    {
     "name": "stderr",
     "output_type": "stream",
     "text": [
      " 70%|██████▉   | 62/89 [00:08<00:03,  7.14it/s]"
     ]
    },
    {
     "name": "stdout",
     "output_type": "stream",
     "text": [
      "Train Epoch: 2 [30720/45976 (67%)]\tLoss: 1.067651\n"
     ]
    },
    {
     "name": "stderr",
     "output_type": "stream",
     "text": [
      " 81%|████████  | 72/89 [00:10<00:02,  7.20it/s]"
     ]
    },
    {
     "name": "stdout",
     "output_type": "stream",
     "text": [
      "Train Epoch: 2 [35840/45976 (79%)]\tLoss: 0.810384\n"
     ]
    },
    {
     "name": "stderr",
     "output_type": "stream",
     "text": [
      " 92%|█████████▏| 82/89 [00:11<00:00,  7.00it/s]"
     ]
    },
    {
     "name": "stdout",
     "output_type": "stream",
     "text": [
      "Train Epoch: 2 [40960/45976 (90%)]\tLoss: 1.122073\n"
     ]
    },
    {
     "name": "stderr",
     "output_type": "stream",
     "text": [
      "100%|██████████| 89/89 [00:12<00:00,  7.14it/s]\n"
     ]
    },
    {
     "name": "stdout",
     "output_type": "stream",
     "text": [
      "Input\t['a', 'n', 'r', 'i']\n",
      "GT\t['অ', 'ঁ', 'র', 'ি']\n",
      "pred\t['আ', 'ন', 'র', 'র']\n",
      "\n",
      "\n",
      "Input\t['b', 'o', 'g', 'a']\n",
      "GT\t['ব', 'গ', 'া']\n",
      "pred\t['ভ', 'ো', 'গ', 'া']\n",
      "\n",
      "\n",
      "Input\t['e', 's', 't', 'a', 'n', 'i', 'y', 'a']\n",
      "GT\t['এ', 'স', '্', 'ত', 'ো', 'ন', 'ি', 'য', '়', 'া']\n",
      "pred\t['এ', 'স', '্', 'ট', '্', 'ি', '়', '়', '়']\n",
      "\n",
      "\n",
      "Input\t['m', 'a', 'd', 'h', 'o', 'b', 'i', 'r']\n",
      "GT\t['ম', 'া', 'ধ', 'ব', 'ী', 'র']\n",
      "pred\t['ম', 'া', 'দ', 'া', 'া', 'া']\n",
      "\n",
      "\n",
      "\n",
      "Test set: Average loss: 0.8930, Accuracy: 145968/195976 (74%)\n",
      "\n"
     ]
    },
    {
     "name": "stderr",
     "output_type": "stream",
     "text": [
      "  2%|▏         | 2/89 [00:00<00:12,  7.03it/s]"
     ]
    },
    {
     "name": "stdout",
     "output_type": "stream",
     "text": [
      "Train Epoch: 3 [0/45976 (0%)]\tLoss: 1.080042\n"
     ]
    },
    {
     "name": "stderr",
     "output_type": "stream",
     "text": [
      " 13%|█▎        | 12/89 [00:01<00:10,  7.03it/s]"
     ]
    },
    {
     "name": "stdout",
     "output_type": "stream",
     "text": [
      "Train Epoch: 3 [5120/45976 (11%)]\tLoss: 0.872460\n"
     ]
    },
    {
     "name": "stderr",
     "output_type": "stream",
     "text": [
      " 25%|██▍       | 22/89 [00:03<00:09,  7.09it/s]"
     ]
    },
    {
     "name": "stdout",
     "output_type": "stream",
     "text": [
      "Train Epoch: 3 [10240/45976 (22%)]\tLoss: 0.783545\n"
     ]
    },
    {
     "name": "stderr",
     "output_type": "stream",
     "text": [
      " 36%|███▌      | 32/89 [00:04<00:08,  7.02it/s]"
     ]
    },
    {
     "name": "stdout",
     "output_type": "stream",
     "text": [
      "Train Epoch: 3 [15360/45976 (34%)]\tLoss: 0.775705\n"
     ]
    },
    {
     "name": "stderr",
     "output_type": "stream",
     "text": [
      " 47%|████▋     | 42/89 [00:05<00:06,  7.07it/s]"
     ]
    },
    {
     "name": "stdout",
     "output_type": "stream",
     "text": [
      "Train Epoch: 3 [20480/45976 (45%)]\tLoss: 0.721516\n"
     ]
    },
    {
     "name": "stderr",
     "output_type": "stream",
     "text": [
      " 58%|█████▊    | 52/89 [00:07<00:05,  6.73it/s]"
     ]
    },
    {
     "name": "stdout",
     "output_type": "stream",
     "text": [
      "Train Epoch: 3 [25600/45976 (56%)]\tLoss: 0.894652\n"
     ]
    },
    {
     "name": "stderr",
     "output_type": "stream",
     "text": [
      " 70%|██████▉   | 62/89 [00:08<00:03,  7.22it/s]"
     ]
    },
    {
     "name": "stdout",
     "output_type": "stream",
     "text": [
      "Train Epoch: 3 [30720/45976 (67%)]\tLoss: 1.017313\n"
     ]
    },
    {
     "name": "stderr",
     "output_type": "stream",
     "text": [
      " 81%|████████  | 72/89 [00:10<00:02,  7.28it/s]"
     ]
    },
    {
     "name": "stdout",
     "output_type": "stream",
     "text": [
      "Train Epoch: 3 [35840/45976 (79%)]\tLoss: 0.789457\n"
     ]
    },
    {
     "name": "stderr",
     "output_type": "stream",
     "text": [
      " 92%|█████████▏| 82/89 [00:11<00:01,  6.88it/s]"
     ]
    },
    {
     "name": "stdout",
     "output_type": "stream",
     "text": [
      "Train Epoch: 3 [40960/45976 (90%)]\tLoss: 1.080639\n"
     ]
    },
    {
     "name": "stderr",
     "output_type": "stream",
     "text": [
      "100%|██████████| 89/89 [00:12<00:00,  7.11it/s]\n"
     ]
    },
    {
     "name": "stdout",
     "output_type": "stream",
     "text": [
      "Input\t['a', 'n', 'r', 'i']\n",
      "GT\t['অ', 'ঁ', 'র', 'ি']\n",
      "pred\t['আ', 'ন', 'র', 'র']\n",
      "\n",
      "\n",
      "Input\t['b', 'o', 'g', 'a']\n",
      "GT\t['ব', 'গ', 'া']\n",
      "pred\t['ভ', 'ৈ', '্', 'া']\n",
      "\n",
      "\n",
      "Input\t['e', 's', 't', 'a', 'n', 'i', 'y', 'a']\n",
      "GT\t['এ', 'স', '্', 'ত', 'ো', 'ন', 'ি', 'য', '়', 'া']\n",
      "pred\t['এ', 'স', '্', 'ট', '্', 'ি', '়', '়', '়']\n",
      "\n",
      "\n",
      "Input\t['m', 'a', 'd', 'h', 'o', 'b', 'i', 'r']\n",
      "GT\t['ম', 'া', 'ধ', 'ব', 'ী', 'র']\n",
      "pred\t['ম', 'া', 'দ', 'া', 'র']\n",
      "\n",
      "\n",
      "\n",
      "Test set: Average loss: 0.8228, Accuracy: 149023/195976 (76%)\n",
      "\n"
     ]
    },
    {
     "name": "stderr",
     "output_type": "stream",
     "text": [
      "  2%|▏         | 2/89 [00:00<00:11,  7.66it/s]"
     ]
    },
    {
     "name": "stdout",
     "output_type": "stream",
     "text": [
      "Train Epoch: 4 [0/45976 (0%)]\tLoss: 0.981529\n"
     ]
    },
    {
     "name": "stderr",
     "output_type": "stream",
     "text": [
      " 13%|█▎        | 12/89 [00:01<00:10,  7.14it/s]"
     ]
    },
    {
     "name": "stdout",
     "output_type": "stream",
     "text": [
      "Train Epoch: 4 [5120/45976 (11%)]\tLoss: 0.801737\n"
     ]
    },
    {
     "name": "stderr",
     "output_type": "stream",
     "text": [
      " 25%|██▍       | 22/89 [00:03<00:09,  7.26it/s]"
     ]
    },
    {
     "name": "stdout",
     "output_type": "stream",
     "text": [
      "Train Epoch: 4 [10240/45976 (22%)]\tLoss: 0.740958\n"
     ]
    },
    {
     "name": "stderr",
     "output_type": "stream",
     "text": [
      " 36%|███▌      | 32/89 [00:04<00:07,  7.13it/s]"
     ]
    },
    {
     "name": "stdout",
     "output_type": "stream",
     "text": [
      "Train Epoch: 4 [15360/45976 (34%)]\tLoss: 0.718012\n"
     ]
    },
    {
     "name": "stderr",
     "output_type": "stream",
     "text": [
      " 47%|████▋     | 42/89 [00:05<00:06,  7.37it/s]"
     ]
    },
    {
     "name": "stdout",
     "output_type": "stream",
     "text": [
      "Train Epoch: 4 [20480/45976 (45%)]\tLoss: 0.675276\n"
     ]
    },
    {
     "name": "stderr",
     "output_type": "stream",
     "text": [
      " 58%|█████▊    | 52/89 [00:07<00:05,  7.35it/s]"
     ]
    },
    {
     "name": "stdout",
     "output_type": "stream",
     "text": [
      "Train Epoch: 4 [25600/45976 (56%)]\tLoss: 0.847332\n"
     ]
    },
    {
     "name": "stderr",
     "output_type": "stream",
     "text": [
      " 70%|██████▉   | 62/89 [00:08<00:03,  7.18it/s]"
     ]
    },
    {
     "name": "stdout",
     "output_type": "stream",
     "text": [
      "Train Epoch: 4 [30720/45976 (67%)]\tLoss: 0.935032\n"
     ]
    },
    {
     "name": "stderr",
     "output_type": "stream",
     "text": [
      " 81%|████████  | 72/89 [00:10<00:02,  7.01it/s]"
     ]
    },
    {
     "name": "stdout",
     "output_type": "stream",
     "text": [
      "Train Epoch: 4 [35840/45976 (79%)]\tLoss: 0.745584\n"
     ]
    },
    {
     "name": "stderr",
     "output_type": "stream",
     "text": [
      " 92%|█████████▏| 82/89 [00:11<00:00,  7.40it/s]"
     ]
    },
    {
     "name": "stdout",
     "output_type": "stream",
     "text": [
      "Train Epoch: 4 [40960/45976 (90%)]\tLoss: 1.026970\n"
     ]
    },
    {
     "name": "stderr",
     "output_type": "stream",
     "text": [
      "100%|██████████| 89/89 [00:12<00:00,  7.22it/s]\n"
     ]
    },
    {
     "name": "stdout",
     "output_type": "stream",
     "text": [
      "Input\t['a', 'n', 'r', 'i']\n",
      "GT\t['অ', 'ঁ', 'র', 'ি']\n",
      "pred\t['আ', 'ন', '্', 'র']\n",
      "\n",
      "\n",
      "Input\t['b', 'o', 'g', 'a']\n",
      "GT\t['ব', 'গ', 'া']\n",
      "pred\t['ভ', 'ো', '্']\n",
      "\n",
      "\n",
      "Input\t['e', 's', 't', 'a', 'n', 'i', 'y', 'a']\n",
      "GT\t['এ', 'স', '্', 'ত', 'ো', 'ন', 'ি', 'য', '়', 'া']\n",
      "pred\t['এ', 'স', '্', 'ট', 'ন', 'ি', '়', '়', '়', '়']\n",
      "\n",
      "\n",
      "Input\t['m', 'a', 'd', 'h', 'o', 'b', 'i', 'r']\n",
      "GT\t['ম', 'া', 'ধ', 'ব', 'ী', 'র']\n",
      "pred\t['ম', 'া', 'ধ', 'া', 'র', '্', 'র']\n",
      "\n",
      "\n",
      "\n",
      "Test set: Average loss: 0.7913, Accuracy: 149742/195976 (76%)\n",
      "\n"
     ]
    },
    {
     "name": "stderr",
     "output_type": "stream",
     "text": [
      "  2%|▏         | 2/89 [00:00<00:11,  7.42it/s]"
     ]
    },
    {
     "name": "stdout",
     "output_type": "stream",
     "text": [
      "Train Epoch: 5 [0/45976 (0%)]\tLoss: 0.967815\n"
     ]
    },
    {
     "name": "stderr",
     "output_type": "stream",
     "text": [
      " 13%|█▎        | 12/89 [00:01<00:10,  7.23it/s]"
     ]
    },
    {
     "name": "stdout",
     "output_type": "stream",
     "text": [
      "Train Epoch: 5 [5120/45976 (11%)]\tLoss: 0.757986\n"
     ]
    },
    {
     "name": "stderr",
     "output_type": "stream",
     "text": [
      " 25%|██▍       | 22/89 [00:03<00:09,  7.14it/s]"
     ]
    },
    {
     "name": "stdout",
     "output_type": "stream",
     "text": [
      "Train Epoch: 5 [10240/45976 (22%)]\tLoss: 0.718786\n"
     ]
    },
    {
     "name": "stderr",
     "output_type": "stream",
     "text": [
      " 36%|███▌      | 32/89 [00:04<00:07,  7.15it/s]"
     ]
    },
    {
     "name": "stdout",
     "output_type": "stream",
     "text": [
      "Train Epoch: 5 [15360/45976 (34%)]\tLoss: 0.654151\n"
     ]
    },
    {
     "name": "stderr",
     "output_type": "stream",
     "text": [
      " 47%|████▋     | 42/89 [00:05<00:07,  6.66it/s]"
     ]
    },
    {
     "name": "stdout",
     "output_type": "stream",
     "text": [
      "Train Epoch: 5 [20480/45976 (45%)]\tLoss: 0.631230\n"
     ]
    },
    {
     "name": "stderr",
     "output_type": "stream",
     "text": [
      " 58%|█████▊    | 52/89 [00:07<00:05,  7.21it/s]"
     ]
    },
    {
     "name": "stdout",
     "output_type": "stream",
     "text": [
      "Train Epoch: 5 [25600/45976 (56%)]\tLoss: 0.797343\n"
     ]
    },
    {
     "name": "stderr",
     "output_type": "stream",
     "text": [
      " 70%|██████▉   | 62/89 [00:08<00:03,  7.45it/s]"
     ]
    },
    {
     "name": "stdout",
     "output_type": "stream",
     "text": [
      "Train Epoch: 5 [30720/45976 (67%)]\tLoss: 0.894306\n"
     ]
    },
    {
     "name": "stderr",
     "output_type": "stream",
     "text": [
      " 81%|████████  | 72/89 [00:10<00:02,  7.41it/s]"
     ]
    },
    {
     "name": "stdout",
     "output_type": "stream",
     "text": [
      "Train Epoch: 5 [35840/45976 (79%)]\tLoss: 0.695766\n"
     ]
    },
    {
     "name": "stderr",
     "output_type": "stream",
     "text": [
      " 92%|█████████▏| 82/89 [00:11<00:00,  7.35it/s]"
     ]
    },
    {
     "name": "stdout",
     "output_type": "stream",
     "text": [
      "Train Epoch: 5 [40960/45976 (90%)]\tLoss: 0.967296\n"
     ]
    },
    {
     "name": "stderr",
     "output_type": "stream",
     "text": [
      "100%|██████████| 89/89 [00:12<00:00,  7.15it/s]\n"
     ]
    },
    {
     "name": "stdout",
     "output_type": "stream",
     "text": [
      "Input\t['a', 'n', 'r', 'i']\n",
      "GT\t['অ', 'ঁ', 'র', 'ি']\n",
      "pred\t['আ', 'ন', 'র', 'র']\n",
      "\n",
      "\n",
      "Input\t['b', 'o', 'g', 'a']\n",
      "GT\t['ব', 'গ', 'া']\n",
      "pred\t['ভ', 'ৈ', 'গ']\n",
      "\n",
      "\n",
      "Input\t['e', 's', 't', 'a', 'n', 'i', 'y', 'a']\n",
      "GT\t['এ', 'স', '্', 'ত', 'ো', 'ন', 'ি', 'য', '়', 'া']\n",
      "pred\t['এ', 'স', '্', 'ত', 'ন', 'ন', 'ি', '়', '়']\n",
      "\n",
      "\n",
      "Input\t['m', 'a', 'd', 'h', 'o', 'b', 'i', 'r']\n",
      "GT\t['ম', 'া', 'ধ', 'ব', 'ী', 'র']\n",
      "pred\t['ম', 'া', 'ধ', 'া', 'র', 'া', 'র']\n",
      "\n",
      "\n",
      "\n",
      "Test set: Average loss: 0.7466, Accuracy: 151975/195976 (78%)\n",
      "\n"
     ]
    },
    {
     "name": "stderr",
     "output_type": "stream",
     "text": [
      "  2%|▏         | 2/89 [00:00<00:12,  7.25it/s]"
     ]
    },
    {
     "name": "stdout",
     "output_type": "stream",
     "text": [
      "Train Epoch: 6 [0/45976 (0%)]\tLoss: 0.857875\n"
     ]
    },
    {
     "name": "stderr",
     "output_type": "stream",
     "text": [
      " 13%|█▎        | 12/89 [00:01<00:11,  6.61it/s]"
     ]
    },
    {
     "name": "stdout",
     "output_type": "stream",
     "text": [
      "Train Epoch: 6 [5120/45976 (11%)]\tLoss: 0.717301\n"
     ]
    },
    {
     "name": "stderr",
     "output_type": "stream",
     "text": [
      " 25%|██▍       | 22/89 [00:03<00:09,  7.37it/s]"
     ]
    },
    {
     "name": "stdout",
     "output_type": "stream",
     "text": [
      "Train Epoch: 6 [10240/45976 (22%)]\tLoss: 0.693272\n"
     ]
    },
    {
     "name": "stderr",
     "output_type": "stream",
     "text": [
      " 36%|███▌      | 32/89 [00:04<00:08,  6.83it/s]"
     ]
    },
    {
     "name": "stdout",
     "output_type": "stream",
     "text": [
      "Train Epoch: 6 [15360/45976 (34%)]\tLoss: 0.620362\n"
     ]
    },
    {
     "name": "stderr",
     "output_type": "stream",
     "text": [
      " 47%|████▋     | 42/89 [00:05<00:06,  7.29it/s]"
     ]
    },
    {
     "name": "stdout",
     "output_type": "stream",
     "text": [
      "Train Epoch: 6 [20480/45976 (45%)]\tLoss: 0.591410\n"
     ]
    },
    {
     "name": "stderr",
     "output_type": "stream",
     "text": [
      " 58%|█████▊    | 52/89 [00:07<00:05,  7.23it/s]"
     ]
    },
    {
     "name": "stdout",
     "output_type": "stream",
     "text": [
      "Train Epoch: 6 [25600/45976 (56%)]\tLoss: 0.729478\n"
     ]
    },
    {
     "name": "stderr",
     "output_type": "stream",
     "text": [
      " 70%|██████▉   | 62/89 [00:08<00:03,  7.11it/s]"
     ]
    },
    {
     "name": "stdout",
     "output_type": "stream",
     "text": [
      "Train Epoch: 6 [30720/45976 (67%)]\tLoss: 0.834797\n"
     ]
    },
    {
     "name": "stderr",
     "output_type": "stream",
     "text": [
      " 81%|████████  | 72/89 [00:10<00:02,  6.62it/s]"
     ]
    },
    {
     "name": "stdout",
     "output_type": "stream",
     "text": [
      "Train Epoch: 6 [35840/45976 (79%)]\tLoss: 0.657596\n"
     ]
    },
    {
     "name": "stderr",
     "output_type": "stream",
     "text": [
      " 92%|█████████▏| 82/89 [00:11<00:00,  7.34it/s]"
     ]
    },
    {
     "name": "stdout",
     "output_type": "stream",
     "text": [
      "Train Epoch: 6 [40960/45976 (90%)]\tLoss: 0.943077\n"
     ]
    },
    {
     "name": "stderr",
     "output_type": "stream",
     "text": [
      "100%|██████████| 89/89 [00:12<00:00,  7.01it/s]\n"
     ]
    },
    {
     "name": "stdout",
     "output_type": "stream",
     "text": [
      "Input\t['a', 'n', 'r', 'i']\n",
      "GT\t['অ', 'ঁ', 'র', 'ি']\n",
      "pred\t['আ', 'ন', 'র', 'র']\n",
      "\n",
      "\n",
      "Input\t['b', 'o', 'g', 'a']\n",
      "GT\t['ব', 'গ', 'া']\n",
      "pred\t['ভ', 'ৈ', 'গ', 'া']\n",
      "\n",
      "\n",
      "Input\t['e', 's', 't', 'a', 'n', 'i', 'y', 'a']\n",
      "GT\t['এ', 'স', '্', 'ত', 'ো', 'ন', 'ি', 'য', '়', 'া']\n",
      "pred\t['এ', 'স', '্', 'ট', 'ন', 'ন', 'ি', 'য', '়']\n",
      "\n",
      "\n",
      "Input\t['m', 'a', 'd', 'h', 'o', 'b', 'i', 'r']\n",
      "GT\t['ম', 'া', 'ধ', 'ব', 'ী', 'র']\n",
      "pred\t['ম', 'া', '্', 'ধ', '্', 'া', 'র']\n",
      "\n",
      "\n",
      "\n",
      "Test set: Average loss: 0.7603, Accuracy: 150081/195976 (77%)\n",
      "\n"
     ]
    },
    {
     "name": "stderr",
     "output_type": "stream",
     "text": [
      "  2%|▏         | 2/89 [00:00<00:12,  6.84it/s]"
     ]
    },
    {
     "name": "stdout",
     "output_type": "stream",
     "text": [
      "Train Epoch: 7 [0/45976 (0%)]\tLoss: 0.894117\n"
     ]
    },
    {
     "name": "stderr",
     "output_type": "stream",
     "text": [
      " 13%|█▎        | 12/89 [00:01<00:11,  6.93it/s]"
     ]
    },
    {
     "name": "stdout",
     "output_type": "stream",
     "text": [
      "Train Epoch: 7 [5120/45976 (11%)]\tLoss: 0.695545\n"
     ]
    },
    {
     "name": "stderr",
     "output_type": "stream",
     "text": [
      " 25%|██▍       | 22/89 [00:03<00:09,  7.11it/s]"
     ]
    },
    {
     "name": "stdout",
     "output_type": "stream",
     "text": [
      "Train Epoch: 7 [10240/45976 (22%)]\tLoss: 0.674724\n"
     ]
    },
    {
     "name": "stderr",
     "output_type": "stream",
     "text": [
      " 36%|███▌      | 32/89 [00:04<00:08,  7.09it/s]"
     ]
    },
    {
     "name": "stdout",
     "output_type": "stream",
     "text": [
      "Train Epoch: 7 [15360/45976 (34%)]\tLoss: 0.600056\n"
     ]
    },
    {
     "name": "stderr",
     "output_type": "stream",
     "text": [
      " 47%|████▋     | 42/89 [00:05<00:06,  6.78it/s]"
     ]
    },
    {
     "name": "stdout",
     "output_type": "stream",
     "text": [
      "Train Epoch: 7 [20480/45976 (45%)]\tLoss: 0.577306\n"
     ]
    },
    {
     "name": "stderr",
     "output_type": "stream",
     "text": [
      " 58%|█████▊    | 52/89 [00:07<00:05,  7.17it/s]"
     ]
    },
    {
     "name": "stdout",
     "output_type": "stream",
     "text": [
      "Train Epoch: 7 [25600/45976 (56%)]\tLoss: 0.717547\n"
     ]
    },
    {
     "name": "stderr",
     "output_type": "stream",
     "text": [
      " 70%|██████▉   | 62/89 [00:08<00:03,  7.21it/s]"
     ]
    },
    {
     "name": "stdout",
     "output_type": "stream",
     "text": [
      "Train Epoch: 7 [30720/45976 (67%)]\tLoss: 0.825630\n"
     ]
    },
    {
     "name": "stderr",
     "output_type": "stream",
     "text": [
      " 81%|████████  | 72/89 [00:10<00:02,  7.24it/s]"
     ]
    },
    {
     "name": "stdout",
     "output_type": "stream",
     "text": [
      "Train Epoch: 7 [35840/45976 (79%)]\tLoss: 0.645639\n"
     ]
    },
    {
     "name": "stderr",
     "output_type": "stream",
     "text": [
      " 92%|█████████▏| 82/89 [00:11<00:01,  6.81it/s]"
     ]
    },
    {
     "name": "stdout",
     "output_type": "stream",
     "text": [
      "Train Epoch: 7 [40960/45976 (90%)]\tLoss: 0.878714\n"
     ]
    },
    {
     "name": "stderr",
     "output_type": "stream",
     "text": [
      "100%|██████████| 89/89 [00:12<00:00,  7.05it/s]\n"
     ]
    },
    {
     "name": "stdout",
     "output_type": "stream",
     "text": [
      "Input\t['a', 'n', 'r', 'i']\n",
      "GT\t['অ', 'ঁ', 'র', 'ি']\n",
      "pred\t['আ', 'ন', 'র', 'ি']\n",
      "\n",
      "\n",
      "Input\t['b', 'o', 'g', 'a']\n",
      "GT\t['ব', 'গ', 'া']\n",
      "pred\t['ব', 'ো', 'গ', 'া']\n",
      "\n",
      "\n",
      "Input\t['e', 's', 't', 'a', 'n', 'i', 'y', 'a']\n",
      "GT\t['এ', 'স', '্', 'ত', 'ো', 'ন', 'ি', 'য', '়', 'া']\n",
      "pred\t['এ', 'স', '্', 'ট', 'ন', 'ন', 'ি', 'য', '়']\n",
      "\n",
      "\n",
      "Input\t['m', 'a', 'd', 'h', 'o', 'b', 'i', 'r']\n",
      "GT\t['ম', 'া', 'ধ', 'ব', 'ী', 'র']\n",
      "pred\t['ম', 'হ', 'ধ', 'া', 'র', 'া', 'র', 'র']\n",
      "\n",
      "\n",
      "\n",
      "Test set: Average loss: 0.7452, Accuracy: 150773/195976 (77%)\n",
      "\n"
     ]
    },
    {
     "name": "stderr",
     "output_type": "stream",
     "text": [
      "  2%|▏         | 2/89 [00:00<00:12,  7.24it/s]"
     ]
    },
    {
     "name": "stdout",
     "output_type": "stream",
     "text": [
      "Train Epoch: 8 [0/45976 (0%)]\tLoss: 0.812976\n"
     ]
    },
    {
     "name": "stderr",
     "output_type": "stream",
     "text": [
      " 13%|█▎        | 12/89 [00:01<00:11,  6.95it/s]"
     ]
    },
    {
     "name": "stdout",
     "output_type": "stream",
     "text": [
      "Train Epoch: 8 [5120/45976 (11%)]\tLoss: 0.703134\n"
     ]
    },
    {
     "name": "stderr",
     "output_type": "stream",
     "text": [
      " 25%|██▍       | 22/89 [00:03<00:09,  7.08it/s]"
     ]
    },
    {
     "name": "stdout",
     "output_type": "stream",
     "text": [
      "Train Epoch: 8 [10240/45976 (22%)]\tLoss: 0.678506\n"
     ]
    },
    {
     "name": "stderr",
     "output_type": "stream",
     "text": [
      " 36%|███▌      | 32/89 [00:04<00:07,  7.29it/s]"
     ]
    },
    {
     "name": "stdout",
     "output_type": "stream",
     "text": [
      "Train Epoch: 8 [15360/45976 (34%)]\tLoss: 0.561181\n"
     ]
    },
    {
     "name": "stderr",
     "output_type": "stream",
     "text": [
      " 47%|████▋     | 42/89 [00:05<00:06,  7.19it/s]"
     ]
    },
    {
     "name": "stdout",
     "output_type": "stream",
     "text": [
      "Train Epoch: 8 [20480/45976 (45%)]\tLoss: 0.579558\n"
     ]
    },
    {
     "name": "stderr",
     "output_type": "stream",
     "text": [
      " 58%|█████▊    | 52/89 [00:07<00:05,  7.31it/s]"
     ]
    },
    {
     "name": "stdout",
     "output_type": "stream",
     "text": [
      "Train Epoch: 8 [25600/45976 (56%)]\tLoss: 0.725085\n"
     ]
    },
    {
     "name": "stderr",
     "output_type": "stream",
     "text": [
      " 70%|██████▉   | 62/89 [00:08<00:03,  7.13it/s]"
     ]
    },
    {
     "name": "stdout",
     "output_type": "stream",
     "text": [
      "Train Epoch: 8 [30720/45976 (67%)]\tLoss: 0.808944\n"
     ]
    },
    {
     "name": "stderr",
     "output_type": "stream",
     "text": [
      " 81%|████████  | 72/89 [00:10<00:02,  7.32it/s]"
     ]
    },
    {
     "name": "stdout",
     "output_type": "stream",
     "text": [
      "Train Epoch: 8 [35840/45976 (79%)]\tLoss: 0.618984\n"
     ]
    },
    {
     "name": "stderr",
     "output_type": "stream",
     "text": [
      " 91%|█████████ | 81/89 [00:11<00:01,  7.18it/s]"
     ]
    },
    {
     "name": "stdout",
     "output_type": "stream",
     "text": [
      "Train Epoch: 8 [40960/45976 (90%)]\tLoss: 0.855166\n"
     ]
    },
    {
     "name": "stderr",
     "output_type": "stream",
     "text": [
      "100%|██████████| 89/89 [00:12<00:00,  7.10it/s]\n"
     ]
    },
    {
     "name": "stdout",
     "output_type": "stream",
     "text": [
      "Input\t['a', 'n', 'r', 'i']\n",
      "GT\t['অ', 'ঁ', 'র', 'ি']\n",
      "pred\t['আ', 'ন', 'র', 'র']\n",
      "\n",
      "\n",
      "Input\t['b', 'o', 'g', 'a']\n",
      "GT\t['ব', 'গ', 'া']\n",
      "pred\t['ব', 'ো', 'গ', 'া']\n",
      "\n",
      "\n",
      "Input\t['e', 's', 't', 'a', 'n', 'i', 'y', 'a']\n",
      "GT\t['এ', 'স', '্', 'ত', 'ো', 'ন', 'ি', 'য', '়', 'া']\n",
      "pred\t['এ', 'স', '্', 'ট', 'া', 'ন', 'ি', 'য', 'া']\n",
      "\n",
      "\n",
      "Input\t['m', 'a', 'd', 'h', 'o', 'b', 'i', 'r']\n",
      "GT\t['ম', 'া', 'ধ', 'ব', 'ী', 'র']\n",
      "pred\t['ম', 'া', 'ধ', 'া', 'র']\n",
      "\n",
      "\n",
      "\n",
      "Test set: Average loss: 0.6932, Accuracy: 153974/195976 (79%)\n",
      "\n"
     ]
    },
    {
     "name": "stderr",
     "output_type": "stream",
     "text": [
      "  2%|▏         | 2/89 [00:00<00:11,  7.53it/s]"
     ]
    },
    {
     "name": "stdout",
     "output_type": "stream",
     "text": [
      "Train Epoch: 9 [0/45976 (0%)]\tLoss: 0.810172\n"
     ]
    },
    {
     "name": "stderr",
     "output_type": "stream",
     "text": [
      " 13%|█▎        | 12/89 [00:01<00:10,  7.64it/s]"
     ]
    },
    {
     "name": "stdout",
     "output_type": "stream",
     "text": [
      "Train Epoch: 9 [5120/45976 (11%)]\tLoss: 0.654321\n"
     ]
    },
    {
     "name": "stderr",
     "output_type": "stream",
     "text": [
      " 25%|██▍       | 22/89 [00:02<00:09,  7.36it/s]"
     ]
    },
    {
     "name": "stdout",
     "output_type": "stream",
     "text": [
      "Train Epoch: 9 [10240/45976 (22%)]\tLoss: 0.654121\n"
     ]
    },
    {
     "name": "stderr",
     "output_type": "stream",
     "text": [
      " 36%|███▌      | 32/89 [00:04<00:07,  7.22it/s]"
     ]
    },
    {
     "name": "stdout",
     "output_type": "stream",
     "text": [
      "Train Epoch: 9 [15360/45976 (34%)]\tLoss: 0.545426\n"
     ]
    },
    {
     "name": "stderr",
     "output_type": "stream",
     "text": [
      " 47%|████▋     | 42/89 [00:05<00:06,  7.20it/s]"
     ]
    },
    {
     "name": "stdout",
     "output_type": "stream",
     "text": [
      "Train Epoch: 9 [20480/45976 (45%)]\tLoss: 0.562599\n"
     ]
    },
    {
     "name": "stderr",
     "output_type": "stream",
     "text": [
      " 58%|█████▊    | 52/89 [00:07<00:05,  7.17it/s]"
     ]
    },
    {
     "name": "stdout",
     "output_type": "stream",
     "text": [
      "Train Epoch: 9 [25600/45976 (56%)]\tLoss: 0.664758\n"
     ]
    },
    {
     "name": "stderr",
     "output_type": "stream",
     "text": [
      " 70%|██████▉   | 62/89 [00:08<00:03,  7.38it/s]"
     ]
    },
    {
     "name": "stdout",
     "output_type": "stream",
     "text": [
      "Train Epoch: 9 [30720/45976 (67%)]\tLoss: 0.803018\n"
     ]
    },
    {
     "name": "stderr",
     "output_type": "stream",
     "text": [
      " 81%|████████  | 72/89 [00:09<00:02,  7.27it/s]"
     ]
    },
    {
     "name": "stdout",
     "output_type": "stream",
     "text": [
      "Train Epoch: 9 [35840/45976 (79%)]\tLoss: 0.630122\n"
     ]
    },
    {
     "name": "stderr",
     "output_type": "stream",
     "text": [
      " 92%|█████████▏| 82/89 [00:11<00:00,  7.18it/s]"
     ]
    },
    {
     "name": "stdout",
     "output_type": "stream",
     "text": [
      "Train Epoch: 9 [40960/45976 (90%)]\tLoss: 0.831929\n"
     ]
    },
    {
     "name": "stderr",
     "output_type": "stream",
     "text": [
      "100%|██████████| 89/89 [00:12<00:00,  7.27it/s]\n"
     ]
    },
    {
     "name": "stdout",
     "output_type": "stream",
     "text": [
      "Input\t['a', 'n', 'r', 'i']\n",
      "GT\t['অ', 'ঁ', 'র', 'ি']\n",
      "pred\t['আ', 'ন', 'র', 'র']\n",
      "\n",
      "\n",
      "Input\t['b', 'o', 'g', 'a']\n",
      "GT\t['ব', 'গ', 'া']\n",
      "pred\t['ভ', 'ো', 'গ', 'া']\n",
      "\n",
      "\n",
      "Input\t['e', 's', 't', 'a', 'n', 'i', 'y', 'a']\n",
      "GT\t['এ', 'স', '্', 'ত', 'ো', 'ন', 'ি', 'য', '়', 'া']\n",
      "pred\t['এ', 'স', '্', 'ট', 'ন', 'ন', 'ি', 'য', 'া']\n",
      "\n",
      "\n",
      "Input\t['m', 'a', 'd', 'h', 'o', 'b', 'i', 'r']\n",
      "GT\t['ম', 'া', 'ধ', 'ব', 'ী', 'র']\n",
      "pred\t['ম', 'া', 'ধ', 'ি']\n",
      "\n",
      "\n",
      "\n",
      "Test set: Average loss: 0.6926, Accuracy: 153617/195976 (78%)\n",
      "\n"
     ]
    },
    {
     "name": "stderr",
     "output_type": "stream",
     "text": [
      "  2%|▏         | 2/89 [00:00<00:11,  7.51it/s]"
     ]
    },
    {
     "name": "stdout",
     "output_type": "stream",
     "text": [
      "Train Epoch: 10 [0/45976 (0%)]\tLoss: 0.751070\n"
     ]
    },
    {
     "name": "stderr",
     "output_type": "stream",
     "text": [
      " 13%|█▎        | 12/89 [00:01<00:10,  7.07it/s]"
     ]
    },
    {
     "name": "stdout",
     "output_type": "stream",
     "text": [
      "Train Epoch: 10 [5120/45976 (11%)]\tLoss: 0.645675\n"
     ]
    },
    {
     "name": "stderr",
     "output_type": "stream",
     "text": [
      " 25%|██▍       | 22/89 [00:03<00:09,  7.23it/s]"
     ]
    },
    {
     "name": "stdout",
     "output_type": "stream",
     "text": [
      "Train Epoch: 10 [10240/45976 (22%)]\tLoss: 0.616473\n"
     ]
    },
    {
     "name": "stderr",
     "output_type": "stream",
     "text": [
      " 36%|███▌      | 32/89 [00:04<00:08,  7.09it/s]"
     ]
    },
    {
     "name": "stdout",
     "output_type": "stream",
     "text": [
      "Train Epoch: 10 [15360/45976 (34%)]\tLoss: 0.534274\n"
     ]
    },
    {
     "name": "stderr",
     "output_type": "stream",
     "text": [
      " 47%|████▋     | 42/89 [00:05<00:06,  7.10it/s]"
     ]
    },
    {
     "name": "stdout",
     "output_type": "stream",
     "text": [
      "Train Epoch: 10 [20480/45976 (45%)]\tLoss: 0.536052\n"
     ]
    },
    {
     "name": "stderr",
     "output_type": "stream",
     "text": [
      " 58%|█████▊    | 52/89 [00:07<00:05,  7.39it/s]"
     ]
    },
    {
     "name": "stdout",
     "output_type": "stream",
     "text": [
      "Train Epoch: 10 [25600/45976 (56%)]\tLoss: 0.640296\n"
     ]
    },
    {
     "name": "stderr",
     "output_type": "stream",
     "text": [
      " 70%|██████▉   | 62/89 [00:08<00:03,  7.12it/s]"
     ]
    },
    {
     "name": "stdout",
     "output_type": "stream",
     "text": [
      "Train Epoch: 10 [30720/45976 (67%)]\tLoss: 0.879031\n"
     ]
    },
    {
     "name": "stderr",
     "output_type": "stream",
     "text": [
      " 81%|████████  | 72/89 [00:10<00:02,  7.09it/s]"
     ]
    },
    {
     "name": "stdout",
     "output_type": "stream",
     "text": [
      "Train Epoch: 10 [35840/45976 (79%)]\tLoss: 0.617852\n"
     ]
    },
    {
     "name": "stderr",
     "output_type": "stream",
     "text": [
      " 92%|█████████▏| 82/89 [00:11<00:00,  7.07it/s]"
     ]
    },
    {
     "name": "stdout",
     "output_type": "stream",
     "text": [
      "Train Epoch: 10 [40960/45976 (90%)]\tLoss: 0.803791\n"
     ]
    },
    {
     "name": "stderr",
     "output_type": "stream",
     "text": [
      "100%|██████████| 89/89 [00:12<00:00,  7.16it/s]\n"
     ]
    },
    {
     "name": "stdout",
     "output_type": "stream",
     "text": [
      "Input\t['a', 'n', 'r', 'i']\n",
      "GT\t['অ', 'ঁ', 'র', 'ি']\n",
      "pred\t['আ', 'ন', 'র', 'ী']\n",
      "\n",
      "\n",
      "Input\t['b', 'o', 'g', 'a']\n",
      "GT\t['ব', 'গ', 'া']\n",
      "pred\t['ভ', 'ো', 'গ', 'া']\n",
      "\n",
      "\n",
      "Input\t['e', 's', 't', 'a', 'n', 'i', 'y', 'a']\n",
      "GT\t['এ', 'স', '্', 'ত', 'ো', 'ন', 'ি', 'য', '়', 'া']\n",
      "pred\t['এ', 'স', '্', 'ট', 'া', 'ন', 'ি', 'য', '়']\n",
      "\n",
      "\n",
      "Input\t['m', 'a', 'd', 'h', 'o', 'b', 'i', 'r']\n",
      "GT\t['ম', 'া', 'ধ', 'ব', 'ী', 'র']\n",
      "pred\t['ম', 'হ', 'দ', 'ি']\n",
      "\n",
      "\n",
      "\n",
      "Test set: Average loss: 0.6850, Accuracy: 154168/195976 (79%)\n",
      "\n"
     ]
    },
    {
     "name": "stderr",
     "output_type": "stream",
     "text": [
      "  2%|▏         | 2/89 [00:00<00:11,  7.68it/s]"
     ]
    },
    {
     "name": "stdout",
     "output_type": "stream",
     "text": [
      "Train Epoch: 11 [0/45976 (0%)]\tLoss: 0.760804\n"
     ]
    },
    {
     "name": "stderr",
     "output_type": "stream",
     "text": [
      " 13%|█▎        | 12/89 [00:01<00:10,  7.17it/s]"
     ]
    },
    {
     "name": "stdout",
     "output_type": "stream",
     "text": [
      "Train Epoch: 11 [5120/45976 (11%)]\tLoss: 0.639563\n"
     ]
    },
    {
     "name": "stderr",
     "output_type": "stream",
     "text": [
      " 25%|██▍       | 22/89 [00:02<00:09,  7.31it/s]"
     ]
    },
    {
     "name": "stdout",
     "output_type": "stream",
     "text": [
      "Train Epoch: 11 [10240/45976 (22%)]\tLoss: 0.641262\n"
     ]
    },
    {
     "name": "stderr",
     "output_type": "stream",
     "text": [
      " 36%|███▌      | 32/89 [00:04<00:08,  7.06it/s]"
     ]
    },
    {
     "name": "stdout",
     "output_type": "stream",
     "text": [
      "Train Epoch: 11 [15360/45976 (34%)]\tLoss: 0.502930\n"
     ]
    },
    {
     "name": "stderr",
     "output_type": "stream",
     "text": [
      " 47%|████▋     | 42/89 [00:05<00:06,  7.15it/s]"
     ]
    },
    {
     "name": "stdout",
     "output_type": "stream",
     "text": [
      "Train Epoch: 11 [20480/45976 (45%)]\tLoss: 0.515117\n"
     ]
    },
    {
     "name": "stderr",
     "output_type": "stream",
     "text": [
      " 58%|█████▊    | 52/89 [00:07<00:05,  7.36it/s]"
     ]
    },
    {
     "name": "stdout",
     "output_type": "stream",
     "text": [
      "Train Epoch: 11 [25600/45976 (56%)]\tLoss: 0.632087\n"
     ]
    },
    {
     "name": "stderr",
     "output_type": "stream",
     "text": [
      " 70%|██████▉   | 62/89 [00:08<00:03,  7.28it/s]"
     ]
    },
    {
     "name": "stdout",
     "output_type": "stream",
     "text": [
      "Train Epoch: 11 [30720/45976 (67%)]\tLoss: 0.770962\n"
     ]
    },
    {
     "name": "stderr",
     "output_type": "stream",
     "text": [
      " 81%|████████  | 72/89 [00:10<00:02,  6.62it/s]"
     ]
    },
    {
     "name": "stdout",
     "output_type": "stream",
     "text": [
      "Train Epoch: 11 [35840/45976 (79%)]\tLoss: 0.593178\n"
     ]
    },
    {
     "name": "stderr",
     "output_type": "stream",
     "text": [
      " 92%|█████████▏| 82/89 [00:11<00:00,  7.26it/s]"
     ]
    },
    {
     "name": "stdout",
     "output_type": "stream",
     "text": [
      "Train Epoch: 11 [40960/45976 (90%)]\tLoss: 0.759502\n"
     ]
    },
    {
     "name": "stderr",
     "output_type": "stream",
     "text": [
      "100%|██████████| 89/89 [00:12<00:00,  7.17it/s]\n"
     ]
    },
    {
     "name": "stdout",
     "output_type": "stream",
     "text": [
      "Input\t['a', 'n', 'r', 'i']\n",
      "GT\t['অ', 'ঁ', 'র', 'ি']\n",
      "pred\t['আ', 'ন', 'র', 'র']\n",
      "\n",
      "\n",
      "Input\t['b', 'o', 'g', 'a']\n",
      "GT\t['ব', 'গ', 'া']\n",
      "pred\t['ব', 'ো', 'গ', 'া']\n",
      "\n",
      "\n",
      "Input\t['e', 's', 't', 'a', 'n', 'i', 'y', 'a']\n",
      "GT\t['এ', 'স', '্', 'ত', 'ো', 'ন', 'ি', 'য', '়', 'া']\n",
      "pred\t['এ', 'স', '্', 'ট', 'া', 'ন', 'ি', 'য', 'া']\n",
      "\n",
      "\n",
      "Input\t['m', 'a', 'd', 'h', 'o', 'b', 'i', 'r']\n",
      "GT\t['ম', 'া', 'ধ', 'ব', 'ী', 'র']\n",
      "pred\t['ম', 'া', 'ধ', 'ি']\n",
      "\n",
      "\n",
      "\n",
      "Test set: Average loss: 0.6793, Accuracy: 154403/195976 (79%)\n",
      "\n"
     ]
    },
    {
     "name": "stderr",
     "output_type": "stream",
     "text": [
      "  2%|▏         | 2/89 [00:00<00:11,  7.47it/s]"
     ]
    },
    {
     "name": "stdout",
     "output_type": "stream",
     "text": [
      "Train Epoch: 12 [0/45976 (0%)]\tLoss: 0.745867\n"
     ]
    },
    {
     "name": "stderr",
     "output_type": "stream",
     "text": [
      " 13%|█▎        | 12/89 [00:01<00:10,  7.31it/s]"
     ]
    },
    {
     "name": "stdout",
     "output_type": "stream",
     "text": [
      "Train Epoch: 12 [5120/45976 (11%)]\tLoss: 0.663677\n"
     ]
    },
    {
     "name": "stderr",
     "output_type": "stream",
     "text": [
      " 25%|██▍       | 22/89 [00:03<00:09,  7.03it/s]"
     ]
    },
    {
     "name": "stdout",
     "output_type": "stream",
     "text": [
      "Train Epoch: 12 [10240/45976 (22%)]\tLoss: 0.616013\n"
     ]
    },
    {
     "name": "stderr",
     "output_type": "stream",
     "text": [
      " 36%|███▌      | 32/89 [00:04<00:07,  7.33it/s]"
     ]
    },
    {
     "name": "stdout",
     "output_type": "stream",
     "text": [
      "Train Epoch: 12 [15360/45976 (34%)]\tLoss: 0.507168\n"
     ]
    },
    {
     "name": "stderr",
     "output_type": "stream",
     "text": [
      " 47%|████▋     | 42/89 [00:05<00:06,  7.39it/s]"
     ]
    },
    {
     "name": "stdout",
     "output_type": "stream",
     "text": [
      "Train Epoch: 12 [20480/45976 (45%)]\tLoss: 0.488888\n"
     ]
    },
    {
     "name": "stderr",
     "output_type": "stream",
     "text": [
      " 58%|█████▊    | 52/89 [00:07<00:05,  7.17it/s]"
     ]
    },
    {
     "name": "stdout",
     "output_type": "stream",
     "text": [
      "Train Epoch: 12 [25600/45976 (56%)]\tLoss: 0.613369\n"
     ]
    },
    {
     "name": "stderr",
     "output_type": "stream",
     "text": [
      " 70%|██████▉   | 62/89 [00:08<00:03,  7.12it/s]"
     ]
    },
    {
     "name": "stdout",
     "output_type": "stream",
     "text": [
      "Train Epoch: 12 [30720/45976 (67%)]\tLoss: 0.739593\n"
     ]
    },
    {
     "name": "stderr",
     "output_type": "stream",
     "text": [
      " 81%|████████  | 72/89 [00:10<00:02,  7.16it/s]"
     ]
    },
    {
     "name": "stdout",
     "output_type": "stream",
     "text": [
      "Train Epoch: 12 [35840/45976 (79%)]\tLoss: 0.568446\n"
     ]
    },
    {
     "name": "stderr",
     "output_type": "stream",
     "text": [
      " 92%|█████████▏| 82/89 [00:11<00:01,  6.78it/s]"
     ]
    },
    {
     "name": "stdout",
     "output_type": "stream",
     "text": [
      "Train Epoch: 12 [40960/45976 (90%)]\tLoss: 0.743999\n"
     ]
    },
    {
     "name": "stderr",
     "output_type": "stream",
     "text": [
      "100%|██████████| 89/89 [00:12<00:00,  7.16it/s]\n"
     ]
    },
    {
     "name": "stdout",
     "output_type": "stream",
     "text": [
      "Input\t['a', 'n', 'r', 'i']\n",
      "GT\t['অ', 'ঁ', 'র', 'ি']\n",
      "pred\t['আ', 'ন', '্', 'র']\n",
      "\n",
      "\n",
      "Input\t['b', 'o', 'g', 'a']\n",
      "GT\t['ব', 'গ', 'া']\n",
      "pred\t['ব', 'ো', 'গ', 'া']\n",
      "\n",
      "\n",
      "Input\t['e', 's', 't', 'a', 'n', 'i', 'y', 'a']\n",
      "GT\t['এ', 'স', '্', 'ত', 'ো', 'ন', 'ি', 'য', '়', 'া']\n",
      "pred\t['এ', 'স', 'ট', 'ত', 'ন', 'ি', 'য', 'য']\n",
      "\n",
      "\n",
      "Input\t['m', 'a', 'd', 'h', 'o', 'b', 'i', 'r']\n",
      "GT\t['ম', 'া', 'ধ', 'ব', 'ী', 'র']\n",
      "pred\t['ম', 'হ', 'ধ', '্', 'র', 'র', 'র']\n",
      "\n",
      "\n",
      "\n",
      "Test set: Average loss: 0.6766, Accuracy: 154780/195976 (79%)\n",
      "\n"
     ]
    },
    {
     "name": "stderr",
     "output_type": "stream",
     "text": [
      "  2%|▏         | 2/89 [00:00<00:11,  7.55it/s]"
     ]
    },
    {
     "name": "stdout",
     "output_type": "stream",
     "text": [
      "Train Epoch: 13 [0/45976 (0%)]\tLoss: 0.747522\n"
     ]
    },
    {
     "name": "stderr",
     "output_type": "stream",
     "text": [
      " 13%|█▎        | 12/89 [00:01<00:10,  7.13it/s]"
     ]
    },
    {
     "name": "stdout",
     "output_type": "stream",
     "text": [
      "Train Epoch: 13 [5120/45976 (11%)]\tLoss: 0.613367\n"
     ]
    },
    {
     "name": "stderr",
     "output_type": "stream",
     "text": [
      " 25%|██▍       | 22/89 [00:03<00:09,  7.25it/s]"
     ]
    },
    {
     "name": "stdout",
     "output_type": "stream",
     "text": [
      "Train Epoch: 13 [10240/45976 (22%)]\tLoss: 0.590621\n"
     ]
    },
    {
     "name": "stderr",
     "output_type": "stream",
     "text": [
      " 36%|███▌      | 32/89 [00:04<00:07,  7.44it/s]"
     ]
    },
    {
     "name": "stdout",
     "output_type": "stream",
     "text": [
      "Train Epoch: 13 [15360/45976 (34%)]\tLoss: 0.490767\n"
     ]
    },
    {
     "name": "stderr",
     "output_type": "stream",
     "text": [
      " 47%|████▋     | 42/89 [00:05<00:06,  6.78it/s]"
     ]
    },
    {
     "name": "stdout",
     "output_type": "stream",
     "text": [
      "Train Epoch: 13 [20480/45976 (45%)]\tLoss: 0.493332\n"
     ]
    },
    {
     "name": "stderr",
     "output_type": "stream",
     "text": [
      " 58%|█████▊    | 52/89 [00:07<00:05,  7.09it/s]"
     ]
    },
    {
     "name": "stdout",
     "output_type": "stream",
     "text": [
      "Train Epoch: 13 [25600/45976 (56%)]\tLoss: 0.572540\n"
     ]
    },
    {
     "name": "stderr",
     "output_type": "stream",
     "text": [
      " 70%|██████▉   | 62/89 [00:08<00:03,  7.00it/s]"
     ]
    },
    {
     "name": "stdout",
     "output_type": "stream",
     "text": [
      "Train Epoch: 13 [30720/45976 (67%)]\tLoss: 0.732273\n"
     ]
    },
    {
     "name": "stderr",
     "output_type": "stream",
     "text": [
      " 81%|████████  | 72/89 [00:10<00:02,  6.74it/s]"
     ]
    },
    {
     "name": "stdout",
     "output_type": "stream",
     "text": [
      "Train Epoch: 13 [35840/45976 (79%)]\tLoss: 0.565557\n"
     ]
    },
    {
     "name": "stderr",
     "output_type": "stream",
     "text": [
      " 92%|█████████▏| 82/89 [00:11<00:01,  6.97it/s]"
     ]
    },
    {
     "name": "stdout",
     "output_type": "stream",
     "text": [
      "Train Epoch: 13 [40960/45976 (90%)]\tLoss: 0.722927\n"
     ]
    },
    {
     "name": "stderr",
     "output_type": "stream",
     "text": [
      "100%|██████████| 89/89 [00:12<00:00,  7.05it/s]\n"
     ]
    },
    {
     "name": "stdout",
     "output_type": "stream",
     "text": [
      "Input\t['a', 'n', 'r', 'i']\n",
      "GT\t['অ', 'ঁ', 'র', 'ি']\n",
      "pred\t['আ', 'ন', '্', 'ি']\n",
      "\n",
      "\n",
      "Input\t['b', 'o', 'g', 'a']\n",
      "GT\t['ব', 'গ', 'া']\n",
      "pred\t['ব', 'ো', 'গ', 'া']\n",
      "\n",
      "\n",
      "Input\t['e', 's', 't', 'a', 'n', 'i', 'y', 'a']\n",
      "GT\t['এ', 'স', '্', 'ত', 'ো', 'ন', 'ি', 'য', '়', 'া']\n",
      "pred\t['এ', 'স', 'ট', 'ট', 'ন', 'ি', 'য', 'া']\n",
      "\n",
      "\n",
      "Input\t['m', 'a', 'd', 'h', 'o', 'b', 'i', 'r']\n",
      "GT\t['ম', 'া', 'ধ', 'ব', 'ী', 'র']\n",
      "pred\t['ম', 'া', 'ধ', 'ি']\n",
      "\n",
      "\n",
      "\n",
      "Test set: Average loss: 0.6549, Accuracy: 156191/195976 (80%)\n",
      "\n"
     ]
    },
    {
     "name": "stderr",
     "output_type": "stream",
     "text": [
      "  2%|▏         | 2/89 [00:00<00:11,  7.48it/s]"
     ]
    },
    {
     "name": "stdout",
     "output_type": "stream",
     "text": [
      "Train Epoch: 14 [0/45976 (0%)]\tLoss: 0.704954\n"
     ]
    },
    {
     "name": "stderr",
     "output_type": "stream",
     "text": [
      " 13%|█▎        | 12/89 [00:01<00:10,  7.13it/s]"
     ]
    },
    {
     "name": "stdout",
     "output_type": "stream",
     "text": [
      "Train Epoch: 14 [5120/45976 (11%)]\tLoss: 0.624674\n"
     ]
    },
    {
     "name": "stderr",
     "output_type": "stream",
     "text": [
      " 25%|██▍       | 22/89 [00:03<00:09,  7.18it/s]"
     ]
    },
    {
     "name": "stdout",
     "output_type": "stream",
     "text": [
      "Train Epoch: 14 [10240/45976 (22%)]\tLoss: 0.581891\n"
     ]
    },
    {
     "name": "stderr",
     "output_type": "stream",
     "text": [
      " 36%|███▌      | 32/89 [00:04<00:07,  7.40it/s]"
     ]
    },
    {
     "name": "stdout",
     "output_type": "stream",
     "text": [
      "Train Epoch: 14 [15360/45976 (34%)]\tLoss: 0.484714\n"
     ]
    },
    {
     "name": "stderr",
     "output_type": "stream",
     "text": [
      " 47%|████▋     | 42/89 [00:05<00:06,  7.49it/s]"
     ]
    },
    {
     "name": "stdout",
     "output_type": "stream",
     "text": [
      "Train Epoch: 14 [20480/45976 (45%)]\tLoss: 0.474219\n"
     ]
    },
    {
     "name": "stderr",
     "output_type": "stream",
     "text": [
      " 58%|█████▊    | 52/89 [00:07<00:05,  7.17it/s]"
     ]
    },
    {
     "name": "stdout",
     "output_type": "stream",
     "text": [
      "Train Epoch: 14 [25600/45976 (56%)]\tLoss: 0.569219\n"
     ]
    },
    {
     "name": "stderr",
     "output_type": "stream",
     "text": [
      " 70%|██████▉   | 62/89 [00:08<00:03,  7.40it/s]"
     ]
    },
    {
     "name": "stdout",
     "output_type": "stream",
     "text": [
      "Train Epoch: 14 [30720/45976 (67%)]\tLoss: 0.702245\n"
     ]
    },
    {
     "name": "stderr",
     "output_type": "stream",
     "text": [
      " 81%|████████  | 72/89 [00:09<00:02,  7.33it/s]"
     ]
    },
    {
     "name": "stdout",
     "output_type": "stream",
     "text": [
      "Train Epoch: 14 [35840/45976 (79%)]\tLoss: 0.555726\n"
     ]
    },
    {
     "name": "stderr",
     "output_type": "stream",
     "text": [
      " 92%|█████████▏| 82/89 [00:11<00:00,  7.19it/s]"
     ]
    },
    {
     "name": "stdout",
     "output_type": "stream",
     "text": [
      "Train Epoch: 14 [40960/45976 (90%)]\tLoss: 0.705591\n"
     ]
    },
    {
     "name": "stderr",
     "output_type": "stream",
     "text": [
      "100%|██████████| 89/89 [00:12<00:00,  7.28it/s]\n"
     ]
    },
    {
     "name": "stdout",
     "output_type": "stream",
     "text": [
      "Input\t['a', 'n', 'r', 'i']\n",
      "GT\t['অ', 'ঁ', 'র', 'ি']\n",
      "pred\t['আ', 'ন', '্', 'ি']\n",
      "\n",
      "\n",
      "Input\t['b', 'o', 'g', 'a']\n",
      "GT\t['ব', 'গ', 'া']\n",
      "pred\t['ব', 'ো', 'গ', 'া']\n",
      "\n",
      "\n",
      "Input\t['e', 's', 't', 'a', 'n', 'i', 'y', 'a']\n",
      "GT\t['এ', 'স', '্', 'ত', 'ো', 'ন', 'ি', 'য', '়', 'া']\n",
      "pred\t['এ', 'স', 'ট', 'ট', 'ন', 'ন', 'ি', '়']\n",
      "\n",
      "\n",
      "Input\t['m', 'a', 'd', 'h', 'o', 'b', 'i', 'r']\n",
      "GT\t['ম', 'া', 'ধ', 'ব', 'ী', 'র']\n",
      "pred\t['ম', 'হ', 'ধ', 'ি']\n",
      "\n",
      "\n",
      "\n",
      "Test set: Average loss: 0.6638, Accuracy: 156064/195976 (80%)\n",
      "\n"
     ]
    },
    {
     "name": "stderr",
     "output_type": "stream",
     "text": [
      "  2%|▏         | 2/89 [00:00<00:11,  7.31it/s]"
     ]
    },
    {
     "name": "stdout",
     "output_type": "stream",
     "text": [
      "Train Epoch: 15 [0/45976 (0%)]\tLoss: 0.747853\n"
     ]
    },
    {
     "name": "stderr",
     "output_type": "stream",
     "text": [
      " 13%|█▎        | 12/89 [00:01<00:10,  7.07it/s]"
     ]
    },
    {
     "name": "stdout",
     "output_type": "stream",
     "text": [
      "Train Epoch: 15 [5120/45976 (11%)]\tLoss: 0.591156\n"
     ]
    },
    {
     "name": "stderr",
     "output_type": "stream",
     "text": [
      " 25%|██▍       | 22/89 [00:03<00:09,  7.19it/s]"
     ]
    },
    {
     "name": "stdout",
     "output_type": "stream",
     "text": [
      "Train Epoch: 15 [10240/45976 (22%)]\tLoss: 0.599287\n"
     ]
    },
    {
     "name": "stderr",
     "output_type": "stream",
     "text": [
      " 36%|███▌      | 32/89 [00:04<00:07,  7.29it/s]"
     ]
    },
    {
     "name": "stdout",
     "output_type": "stream",
     "text": [
      "Train Epoch: 15 [15360/45976 (34%)]\tLoss: 0.483312\n"
     ]
    },
    {
     "name": "stderr",
     "output_type": "stream",
     "text": [
      " 47%|████▋     | 42/89 [00:05<00:06,  7.00it/s]"
     ]
    },
    {
     "name": "stdout",
     "output_type": "stream",
     "text": [
      "Train Epoch: 15 [20480/45976 (45%)]\tLoss: 0.450350\n"
     ]
    },
    {
     "name": "stderr",
     "output_type": "stream",
     "text": [
      " 58%|█████▊    | 52/89 [00:07<00:04,  7.58it/s]"
     ]
    },
    {
     "name": "stdout",
     "output_type": "stream",
     "text": [
      "Train Epoch: 15 [25600/45976 (56%)]\tLoss: 0.551289\n"
     ]
    },
    {
     "name": "stderr",
     "output_type": "stream",
     "text": [
      " 70%|██████▉   | 62/89 [00:08<00:03,  7.23it/s]"
     ]
    },
    {
     "name": "stdout",
     "output_type": "stream",
     "text": [
      "Train Epoch: 15 [30720/45976 (67%)]\tLoss: 0.690456\n"
     ]
    },
    {
     "name": "stderr",
     "output_type": "stream",
     "text": [
      " 81%|████████  | 72/89 [00:10<00:02,  7.11it/s]"
     ]
    },
    {
     "name": "stdout",
     "output_type": "stream",
     "text": [
      "Train Epoch: 15 [35840/45976 (79%)]\tLoss: 0.523165\n"
     ]
    },
    {
     "name": "stderr",
     "output_type": "stream",
     "text": [
      " 92%|█████████▏| 82/89 [00:11<00:00,  7.32it/s]"
     ]
    },
    {
     "name": "stdout",
     "output_type": "stream",
     "text": [
      "Train Epoch: 15 [40960/45976 (90%)]\tLoss: 0.675655\n"
     ]
    },
    {
     "name": "stderr",
     "output_type": "stream",
     "text": [
      "100%|██████████| 89/89 [00:12<00:00,  7.20it/s]\n"
     ]
    },
    {
     "name": "stdout",
     "output_type": "stream",
     "text": [
      "Input\t['a', 'n', 'r', 'i']\n",
      "GT\t['অ', 'ঁ', 'র', 'ি']\n",
      "pred\t['অ', 'ন', '্', 'ি']\n",
      "\n",
      "\n",
      "Input\t['b', 'o', 'g', 'a']\n",
      "GT\t['ব', 'গ', 'া']\n",
      "pred\t['ব', 'ো', 'গ', 'া']\n",
      "\n",
      "\n",
      "Input\t['e', 's', 't', 'a', 'n', 'i', 'y', 'a']\n",
      "GT\t['এ', 'স', '্', 'ত', 'ো', 'ন', 'ি', 'য', '়', 'া']\n",
      "pred\t['এ', 'স', '্', 'ট', 'া', 'ন', 'ি', 'য']\n",
      "\n",
      "\n",
      "Input\t['m', 'a', 'd', 'h', 'o', 'b', 'i', 'r']\n",
      "GT\t['ম', 'া', 'ধ', 'ব', 'ী', 'র']\n",
      "pred\t['ম', 'া', 'ধ', 'ি']\n",
      "\n",
      "\n",
      "\n",
      "Test set: Average loss: 0.6562, Accuracy: 156062/195976 (80%)\n",
      "\n"
     ]
    },
    {
     "name": "stderr",
     "output_type": "stream",
     "text": [
      "  2%|▏         | 2/89 [00:00<00:11,  7.55it/s]"
     ]
    },
    {
     "name": "stdout",
     "output_type": "stream",
     "text": [
      "Train Epoch: 16 [0/45976 (0%)]\tLoss: 0.616176\n"
     ]
    },
    {
     "name": "stderr",
     "output_type": "stream",
     "text": [
      " 13%|█▎        | 12/89 [00:01<00:10,  7.55it/s]"
     ]
    },
    {
     "name": "stdout",
     "output_type": "stream",
     "text": [
      "Train Epoch: 16 [5120/45976 (11%)]\tLoss: 0.600103\n"
     ]
    },
    {
     "name": "stderr",
     "output_type": "stream",
     "text": [
      " 25%|██▍       | 22/89 [00:02<00:09,  7.13it/s]"
     ]
    },
    {
     "name": "stdout",
     "output_type": "stream",
     "text": [
      "Train Epoch: 16 [10240/45976 (22%)]\tLoss: 0.574489\n"
     ]
    },
    {
     "name": "stderr",
     "output_type": "stream",
     "text": [
      " 36%|███▌      | 32/89 [00:04<00:08,  6.71it/s]"
     ]
    },
    {
     "name": "stdout",
     "output_type": "stream",
     "text": [
      "Train Epoch: 16 [15360/45976 (34%)]\tLoss: 0.488927\n"
     ]
    },
    {
     "name": "stderr",
     "output_type": "stream",
     "text": [
      " 47%|████▋     | 42/89 [00:05<00:06,  7.30it/s]"
     ]
    },
    {
     "name": "stdout",
     "output_type": "stream",
     "text": [
      "Train Epoch: 16 [20480/45976 (45%)]\tLoss: 0.446746\n"
     ]
    },
    {
     "name": "stderr",
     "output_type": "stream",
     "text": [
      " 58%|█████▊    | 52/89 [00:07<00:04,  7.40it/s]"
     ]
    },
    {
     "name": "stdout",
     "output_type": "stream",
     "text": [
      "Train Epoch: 16 [25600/45976 (56%)]\tLoss: 0.559027\n"
     ]
    },
    {
     "name": "stderr",
     "output_type": "stream",
     "text": [
      " 70%|██████▉   | 62/89 [00:08<00:03,  7.05it/s]"
     ]
    },
    {
     "name": "stdout",
     "output_type": "stream",
     "text": [
      "Train Epoch: 16 [30720/45976 (67%)]\tLoss: 0.741471\n"
     ]
    },
    {
     "name": "stderr",
     "output_type": "stream",
     "text": [
      " 81%|████████  | 72/89 [00:10<00:02,  7.10it/s]"
     ]
    },
    {
     "name": "stdout",
     "output_type": "stream",
     "text": [
      "Train Epoch: 16 [35840/45976 (79%)]\tLoss: 0.517754\n"
     ]
    },
    {
     "name": "stderr",
     "output_type": "stream",
     "text": [
      " 92%|█████████▏| 82/89 [00:11<00:00,  7.10it/s]"
     ]
    },
    {
     "name": "stdout",
     "output_type": "stream",
     "text": [
      "Train Epoch: 16 [40960/45976 (90%)]\tLoss: 0.695019\n"
     ]
    },
    {
     "name": "stderr",
     "output_type": "stream",
     "text": [
      "100%|██████████| 89/89 [00:12<00:00,  7.08it/s]\n"
     ]
    },
    {
     "name": "stdout",
     "output_type": "stream",
     "text": [
      "Input\t['a', 'n', 'r', 'i']\n",
      "GT\t['অ', 'ঁ', 'র', 'ি']\n",
      "pred\t['আ', 'ন', '্', 'ি']\n",
      "\n",
      "\n",
      "Input\t['b', 'o', 'g', 'a']\n",
      "GT\t['ব', 'গ', 'া']\n",
      "pred\t['ব', 'ো', 'গ', 'া']\n",
      "\n",
      "\n",
      "Input\t['e', 's', 't', 'a', 'n', 'i', 'y', 'a']\n",
      "GT\t['এ', 'স', '্', 'ত', 'ো', 'ন', 'ি', 'য', '়', 'া']\n",
      "pred\t['ই', 'স', '্', 'ট', 'া', 'ন', 'ি', 'য', '়']\n",
      "\n",
      "\n",
      "Input\t['m', 'a', 'd', 'h', 'o', 'b', 'i', 'r']\n",
      "GT\t['ম', 'া', 'ধ', 'ব', 'ী', 'র']\n",
      "pred\t['ম', 'া', 'ধ', 'ি']\n",
      "\n",
      "\n",
      "\n",
      "Test set: Average loss: 0.6531, Accuracy: 156614/195976 (80%)\n",
      "\n"
     ]
    },
    {
     "name": "stderr",
     "output_type": "stream",
     "text": [
      "  2%|▏         | 2/89 [00:00<00:11,  7.37it/s]"
     ]
    },
    {
     "name": "stdout",
     "output_type": "stream",
     "text": [
      "Train Epoch: 17 [0/45976 (0%)]\tLoss: 0.695735\n"
     ]
    },
    {
     "name": "stderr",
     "output_type": "stream",
     "text": [
      " 13%|█▎        | 12/89 [00:01<00:10,  7.22it/s]"
     ]
    },
    {
     "name": "stdout",
     "output_type": "stream",
     "text": [
      "Train Epoch: 17 [5120/45976 (11%)]\tLoss: 0.552021\n"
     ]
    },
    {
     "name": "stderr",
     "output_type": "stream",
     "text": [
      " 25%|██▍       | 22/89 [00:03<00:09,  6.87it/s]"
     ]
    },
    {
     "name": "stdout",
     "output_type": "stream",
     "text": [
      "Train Epoch: 17 [10240/45976 (22%)]\tLoss: 0.533209\n"
     ]
    },
    {
     "name": "stderr",
     "output_type": "stream",
     "text": [
      " 36%|███▌      | 32/89 [00:04<00:07,  7.23it/s]"
     ]
    },
    {
     "name": "stdout",
     "output_type": "stream",
     "text": [
      "Train Epoch: 17 [15360/45976 (34%)]\tLoss: 0.490164\n"
     ]
    },
    {
     "name": "stderr",
     "output_type": "stream",
     "text": [
      " 47%|████▋     | 42/89 [00:05<00:06,  7.24it/s]"
     ]
    },
    {
     "name": "stdout",
     "output_type": "stream",
     "text": [
      "Train Epoch: 17 [20480/45976 (45%)]\tLoss: 0.451506\n"
     ]
    },
    {
     "name": "stderr",
     "output_type": "stream",
     "text": [
      " 58%|█████▊    | 52/89 [00:07<00:05,  6.81it/s]"
     ]
    },
    {
     "name": "stdout",
     "output_type": "stream",
     "text": [
      "Train Epoch: 17 [25600/45976 (56%)]\tLoss: 0.535543\n"
     ]
    },
    {
     "name": "stderr",
     "output_type": "stream",
     "text": [
      " 70%|██████▉   | 62/89 [00:08<00:03,  6.82it/s]"
     ]
    },
    {
     "name": "stdout",
     "output_type": "stream",
     "text": [
      "Train Epoch: 17 [30720/45976 (67%)]\tLoss: 0.712534\n"
     ]
    },
    {
     "name": "stderr",
     "output_type": "stream",
     "text": [
      " 81%|████████  | 72/89 [00:10<00:02,  6.93it/s]"
     ]
    },
    {
     "name": "stdout",
     "output_type": "stream",
     "text": [
      "Train Epoch: 17 [35840/45976 (79%)]\tLoss: 0.521415\n"
     ]
    },
    {
     "name": "stderr",
     "output_type": "stream",
     "text": [
      " 92%|█████████▏| 82/89 [00:11<00:00,  7.26it/s]"
     ]
    },
    {
     "name": "stdout",
     "output_type": "stream",
     "text": [
      "Train Epoch: 17 [40960/45976 (90%)]\tLoss: 0.684358\n"
     ]
    },
    {
     "name": "stderr",
     "output_type": "stream",
     "text": [
      "100%|██████████| 89/89 [00:12<00:00,  7.04it/s]\n"
     ]
    },
    {
     "name": "stdout",
     "output_type": "stream",
     "text": [
      "Input\t['a', 'n', 'r', 'i']\n",
      "GT\t['অ', 'ঁ', 'র', 'ি']\n",
      "pred\t['অ', 'ন', '্', 'ি']\n",
      "\n",
      "\n",
      "Input\t['b', 'o', 'g', 'a']\n",
      "GT\t['ব', 'গ', 'া']\n",
      "pred\t['ব', 'ো', 'গ']\n",
      "\n",
      "\n",
      "Input\t['e', 's', 't', 'a', 'n', 'i', 'y', 'a']\n",
      "GT\t['এ', 'স', '্', 'ত', 'ো', 'ন', 'ি', 'য', '়', 'া']\n",
      "pred\t['এ', 'স', '্', 'ট', 'া', 'ন', 'ি', 'য', '়']\n",
      "\n",
      "\n",
      "Input\t['m', 'a', 'd', 'h', 'o', 'b', 'i', 'r']\n",
      "GT\t['ম', 'া', 'ধ', 'ব', 'ী', 'র']\n",
      "pred\t['ম', 'হ', 'ধ', 'ি']\n",
      "\n",
      "\n",
      "\n",
      "Test set: Average loss: 0.6622, Accuracy: 156887/195976 (80%)\n",
      "\n"
     ]
    },
    {
     "name": "stderr",
     "output_type": "stream",
     "text": [
      "  2%|▏         | 2/89 [00:00<00:12,  6.79it/s]"
     ]
    },
    {
     "name": "stdout",
     "output_type": "stream",
     "text": [
      "Train Epoch: 18 [0/45976 (0%)]\tLoss: 0.624785\n"
     ]
    },
    {
     "name": "stderr",
     "output_type": "stream",
     "text": [
      " 13%|█▎        | 12/89 [00:01<00:10,  7.46it/s]"
     ]
    },
    {
     "name": "stdout",
     "output_type": "stream",
     "text": [
      "Train Epoch: 18 [5120/45976 (11%)]\tLoss: 0.583695\n"
     ]
    },
    {
     "name": "stderr",
     "output_type": "stream",
     "text": [
      " 25%|██▍       | 22/89 [00:03<00:09,  7.19it/s]"
     ]
    },
    {
     "name": "stdout",
     "output_type": "stream",
     "text": [
      "Train Epoch: 18 [10240/45976 (22%)]\tLoss: 0.542632\n"
     ]
    },
    {
     "name": "stderr",
     "output_type": "stream",
     "text": [
      " 36%|███▌      | 32/89 [00:04<00:07,  7.21it/s]"
     ]
    },
    {
     "name": "stdout",
     "output_type": "stream",
     "text": [
      "Train Epoch: 18 [15360/45976 (34%)]\tLoss: 0.453748\n"
     ]
    },
    {
     "name": "stderr",
     "output_type": "stream",
     "text": [
      " 47%|████▋     | 42/89 [00:05<00:06,  6.95it/s]"
     ]
    },
    {
     "name": "stdout",
     "output_type": "stream",
     "text": [
      "Train Epoch: 18 [20480/45976 (45%)]\tLoss: 0.435749\n"
     ]
    },
    {
     "name": "stderr",
     "output_type": "stream",
     "text": [
      " 58%|█████▊    | 52/89 [00:07<00:05,  6.91it/s]"
     ]
    },
    {
     "name": "stdout",
     "output_type": "stream",
     "text": [
      "Train Epoch: 18 [25600/45976 (56%)]\tLoss: 0.518701\n"
     ]
    },
    {
     "name": "stderr",
     "output_type": "stream",
     "text": [
      " 70%|██████▉   | 62/89 [00:08<00:03,  6.86it/s]"
     ]
    },
    {
     "name": "stdout",
     "output_type": "stream",
     "text": [
      "Train Epoch: 18 [30720/45976 (67%)]\tLoss: 0.716725\n"
     ]
    },
    {
     "name": "stderr",
     "output_type": "stream",
     "text": [
      " 81%|████████  | 72/89 [00:10<00:02,  7.17it/s]"
     ]
    },
    {
     "name": "stdout",
     "output_type": "stream",
     "text": [
      "Train Epoch: 18 [35840/45976 (79%)]\tLoss: 0.516274\n"
     ]
    },
    {
     "name": "stderr",
     "output_type": "stream",
     "text": [
      " 92%|█████████▏| 82/89 [00:11<00:00,  7.41it/s]"
     ]
    },
    {
     "name": "stdout",
     "output_type": "stream",
     "text": [
      "Train Epoch: 18 [40960/45976 (90%)]\tLoss: 0.667173\n"
     ]
    },
    {
     "name": "stderr",
     "output_type": "stream",
     "text": [
      "100%|██████████| 89/89 [00:12<00:00,  7.10it/s]\n"
     ]
    },
    {
     "name": "stdout",
     "output_type": "stream",
     "text": [
      "Input\t['a', 'n', 'r', 'i']\n",
      "GT\t['অ', 'ঁ', 'র', 'ি']\n",
      "pred\t['আ', 'ন', '্', 'ি', 'ি']\n",
      "\n",
      "\n",
      "Input\t['b', 'o', 'g', 'a']\n",
      "GT\t['ব', 'গ', 'া']\n",
      "pred\t['ব', 'ো', 'গ', 'া']\n",
      "\n",
      "\n",
      "Input\t['e', 's', 't', 'a', 'n', 'i', 'y', 'a']\n",
      "GT\t['এ', 'স', '্', 'ত', 'ো', 'ন', 'ি', 'য', '়', 'া']\n",
      "pred\t['এ', 'স', '্', 'ট', 'া', 'ন', 'ি', 'য', 'া']\n",
      "\n",
      "\n",
      "Input\t['m', 'a', 'd', 'h', 'o', 'b', 'i', 'r']\n",
      "GT\t['ম', 'া', 'ধ', 'ব', 'ী', 'র']\n",
      "pred\t['ম', 'া', 'ধ', 'ি']\n",
      "\n",
      "\n",
      "\n",
      "Test set: Average loss: 0.6603, Accuracy: 156863/195976 (80%)\n",
      "\n"
     ]
    },
    {
     "name": "stderr",
     "output_type": "stream",
     "text": [
      "  2%|▏         | 2/89 [00:00<00:11,  7.31it/s]"
     ]
    },
    {
     "name": "stdout",
     "output_type": "stream",
     "text": [
      "Train Epoch: 19 [0/45976 (0%)]\tLoss: 0.667759\n"
     ]
    },
    {
     "name": "stderr",
     "output_type": "stream",
     "text": [
      " 13%|█▎        | 12/89 [00:01<00:10,  7.39it/s]"
     ]
    },
    {
     "name": "stdout",
     "output_type": "stream",
     "text": [
      "Train Epoch: 19 [5120/45976 (11%)]\tLoss: 0.522463\n"
     ]
    },
    {
     "name": "stderr",
     "output_type": "stream",
     "text": [
      " 25%|██▍       | 22/89 [00:03<00:09,  7.32it/s]"
     ]
    },
    {
     "name": "stdout",
     "output_type": "stream",
     "text": [
      "Train Epoch: 19 [10240/45976 (22%)]\tLoss: 0.541775\n"
     ]
    },
    {
     "name": "stderr",
     "output_type": "stream",
     "text": [
      " 36%|███▌      | 32/89 [00:04<00:07,  7.33it/s]"
     ]
    },
    {
     "name": "stdout",
     "output_type": "stream",
     "text": [
      "Train Epoch: 19 [15360/45976 (34%)]\tLoss: 0.437316\n"
     ]
    },
    {
     "name": "stderr",
     "output_type": "stream",
     "text": [
      " 47%|████▋     | 42/89 [00:05<00:06,  7.42it/s]"
     ]
    },
    {
     "name": "stdout",
     "output_type": "stream",
     "text": [
      "Train Epoch: 19 [20480/45976 (45%)]\tLoss: 0.418211\n"
     ]
    },
    {
     "name": "stderr",
     "output_type": "stream",
     "text": [
      " 58%|█████▊    | 52/89 [00:07<00:05,  7.11it/s]"
     ]
    },
    {
     "name": "stdout",
     "output_type": "stream",
     "text": [
      "Train Epoch: 19 [25600/45976 (56%)]\tLoss: 0.492781\n"
     ]
    },
    {
     "name": "stderr",
     "output_type": "stream",
     "text": [
      " 70%|██████▉   | 62/89 [00:08<00:03,  6.79it/s]"
     ]
    },
    {
     "name": "stdout",
     "output_type": "stream",
     "text": [
      "Train Epoch: 19 [30720/45976 (67%)]\tLoss: 0.679485\n"
     ]
    },
    {
     "name": "stderr",
     "output_type": "stream",
     "text": [
      " 81%|████████  | 72/89 [00:09<00:02,  7.43it/s]"
     ]
    },
    {
     "name": "stdout",
     "output_type": "stream",
     "text": [
      "Train Epoch: 19 [35840/45976 (79%)]\tLoss: 0.512282\n"
     ]
    },
    {
     "name": "stderr",
     "output_type": "stream",
     "text": [
      " 92%|█████████▏| 82/89 [00:11<00:01,  6.68it/s]"
     ]
    },
    {
     "name": "stdout",
     "output_type": "stream",
     "text": [
      "Train Epoch: 19 [40960/45976 (90%)]\tLoss: 0.656409\n"
     ]
    },
    {
     "name": "stderr",
     "output_type": "stream",
     "text": [
      "100%|██████████| 89/89 [00:12<00:00,  7.15it/s]\n"
     ]
    },
    {
     "name": "stdout",
     "output_type": "stream",
     "text": [
      "Input\t['a', 'n', 'r', 'i']\n",
      "GT\t['অ', 'ঁ', 'র', 'ি']\n",
      "pred\t['অ', 'ন', '্', 'ি']\n",
      "\n",
      "\n",
      "Input\t['b', 'o', 'g', 'a']\n",
      "GT\t['ব', 'গ', 'া']\n",
      "pred\t['ব', 'ো', 'গ']\n",
      "\n",
      "\n",
      "Input\t['e', 's', 't', 'a', 'n', 'i', 'y', 'a']\n",
      "GT\t['এ', 'স', '্', 'ত', 'ো', 'ন', 'ি', 'য', '়', 'া']\n",
      "pred\t['এ', 'স', '্', 'ট', 'া', 'ন', 'ি', 'য', '়']\n",
      "\n",
      "\n",
      "Input\t['m', 'a', 'd', 'h', 'o', 'b', 'i', 'r']\n",
      "GT\t['ম', 'া', 'ধ', 'ব', 'ী', 'র']\n",
      "pred\t['ম', 'হ', 'ধ', 'ি', 'ি']\n",
      "\n",
      "\n",
      "\n",
      "Test set: Average loss: 0.6356, Accuracy: 157683/195976 (80%)\n",
      "\n"
     ]
    },
    {
     "name": "stderr",
     "output_type": "stream",
     "text": [
      "  2%|▏         | 2/89 [00:00<00:11,  7.38it/s]"
     ]
    },
    {
     "name": "stdout",
     "output_type": "stream",
     "text": [
      "Train Epoch: 20 [0/45976 (0%)]\tLoss: 0.534725\n"
     ]
    },
    {
     "name": "stderr",
     "output_type": "stream",
     "text": [
      " 13%|█▎        | 12/89 [00:01<00:10,  7.16it/s]"
     ]
    },
    {
     "name": "stdout",
     "output_type": "stream",
     "text": [
      "Train Epoch: 20 [5120/45976 (11%)]\tLoss: 0.547416\n"
     ]
    },
    {
     "name": "stderr",
     "output_type": "stream",
     "text": [
      " 25%|██▍       | 22/89 [00:03<00:09,  7.21it/s]"
     ]
    },
    {
     "name": "stdout",
     "output_type": "stream",
     "text": [
      "Train Epoch: 20 [10240/45976 (22%)]\tLoss: 0.521150\n"
     ]
    },
    {
     "name": "stderr",
     "output_type": "stream",
     "text": [
      " 36%|███▌      | 32/89 [00:04<00:08,  7.05it/s]"
     ]
    },
    {
     "name": "stdout",
     "output_type": "stream",
     "text": [
      "Train Epoch: 20 [15360/45976 (34%)]\tLoss: 0.442785\n"
     ]
    },
    {
     "name": "stderr",
     "output_type": "stream",
     "text": [
      " 47%|████▋     | 42/89 [00:05<00:06,  6.84it/s]"
     ]
    },
    {
     "name": "stdout",
     "output_type": "stream",
     "text": [
      "Train Epoch: 20 [20480/45976 (45%)]\tLoss: 0.404947\n"
     ]
    },
    {
     "name": "stderr",
     "output_type": "stream",
     "text": [
      " 58%|█████▊    | 52/89 [00:07<00:05,  7.02it/s]"
     ]
    },
    {
     "name": "stdout",
     "output_type": "stream",
     "text": [
      "Train Epoch: 20 [25600/45976 (56%)]\tLoss: 0.483199\n"
     ]
    },
    {
     "name": "stderr",
     "output_type": "stream",
     "text": [
      " 70%|██████▉   | 62/89 [00:08<00:03,  7.07it/s]"
     ]
    },
    {
     "name": "stdout",
     "output_type": "stream",
     "text": [
      "Train Epoch: 20 [30720/45976 (67%)]\tLoss: 0.652986\n"
     ]
    },
    {
     "name": "stderr",
     "output_type": "stream",
     "text": [
      " 81%|████████  | 72/89 [00:10<00:02,  6.97it/s]"
     ]
    },
    {
     "name": "stdout",
     "output_type": "stream",
     "text": [
      "Train Epoch: 20 [35840/45976 (79%)]\tLoss: 0.491714\n"
     ]
    },
    {
     "name": "stderr",
     "output_type": "stream",
     "text": [
      " 92%|█████████▏| 82/89 [00:11<00:01,  6.76it/s]"
     ]
    },
    {
     "name": "stdout",
     "output_type": "stream",
     "text": [
      "Train Epoch: 20 [40960/45976 (90%)]\tLoss: 0.616828\n"
     ]
    },
    {
     "name": "stderr",
     "output_type": "stream",
     "text": [
      "100%|██████████| 89/89 [00:12<00:00,  7.05it/s]\n"
     ]
    },
    {
     "name": "stdout",
     "output_type": "stream",
     "text": [
      "Input\t['a', 'n', 'r', 'i']\n",
      "GT\t['অ', 'ঁ', 'র', 'ি']\n",
      "pred\t['আ', 'ন', '্', 'র']\n",
      "\n",
      "\n",
      "Input\t['b', 'o', 'g', 'a']\n",
      "GT\t['ব', 'গ', 'া']\n",
      "pred\t['ব', 'ো']\n",
      "\n",
      "\n",
      "Input\t['e', 's', 't', 'a', 'n', 'i', 'y', 'a']\n",
      "GT\t['এ', 'স', '্', 'ত', 'ো', 'ন', 'ি', 'য', '়', 'া']\n",
      "pred\t['এ', 'স', '্', 'ট', 'া', 'ন', 'য', 'য', '়']\n",
      "\n",
      "\n",
      "Input\t['m', 'a', 'd', 'h', 'o', 'b', 'i', 'r']\n",
      "GT\t['ম', 'া', 'ধ', 'ব', 'ী', 'র']\n",
      "pred\t['ম', 'হ', 'ধ', 'ি', 'ি']\n",
      "\n",
      "\n",
      "\n",
      "Test set: Average loss: 0.6308, Accuracy: 157764/195976 (81%)\n",
      "\n"
     ]
    },
    {
     "data": {
      "image/png": "[encoded data removed]",
      "text/plain": [
       "<Figure size 864x432 with 1 Axes>"
      ]
     },
     "metadata": {},
     "output_type": "display_data"
    },
    {
     "data": {
      "image/png": "[encoded data removed]",
      "text/plain": [
       "<Figure size 864x432 with 1 Axes>"
      ]
     },
     "metadata": {},
     "output_type": "display_data"
    }
   ],
   "source": [
    "bn_gru_model, bn_en_voc2ind, bn_ind2voc, bn_seq_len, _ = main('bn', 'gru')"
   ]
  },
  {
   "cell_type": "code",
   "execution_count": 14,
   "id": "c0e5d8af",
   "metadata": {
    "scrolled": true
   },
   "outputs": [
    {
     "name": "stdout",
     "output_type": "stream",
     "text": [
      "Using device cpu\n",
      "num workers: 48\n",
      "Input\t['a', 'n', 'r', 'i']\n",
      "GT\t['অ', 'ঁ', 'র', 'ি']\n",
      "pred\t['ক', 'ক']\n",
      "\n",
      "\n",
      "Input\t['b', 'o', 'g', 'a']\n",
      "GT\t['ব', 'গ', 'া']\n",
      "pred\t['ক', 'ক']\n",
      "\n",
      "\n",
      "Input\t['e', 's', 't', 'a', 'n', 'i', 'y', 'a']\n",
      "GT\t['এ', 'স', '্', 'ত', 'ো', 'ন', 'ি', 'য', '়', 'া']\n",
      "pred\t['ক', 'ক', 'ক']\n",
      "\n",
      "\n",
      "Input\t['m', 'a', 'd', 'h', 'o', 'b', 'i', 'r']\n",
      "GT\t['ম', 'া', 'ধ', 'ব', 'ী', 'র']\n",
      "pred\t['ক', 'ক', 'ক']\n",
      "\n",
      "\n",
      "\n",
      "Test set: Average loss: 4.0490, Accuracy: 15427/195976 (8%)\n",
      "\n"
     ]
    },
    {
     "name": "stderr",
     "output_type": "stream",
     "text": [
      "  1%|          | 1/89 [00:00<00:12,  6.80it/s]"
     ]
    },
    {
     "name": "stdout",
     "output_type": "stream",
     "text": [
      "Train Epoch: 0 [0/45976 (0%)]\tLoss: 4.055797\n"
     ]
    },
    {
     "name": "stderr",
     "output_type": "stream",
     "text": [
      " 13%|█▎        | 12/89 [00:01<00:12,  6.14it/s]"
     ]
    },
    {
     "name": "stdout",
     "output_type": "stream",
     "text": [
      "Train Epoch: 0 [5120/45976 (11%)]\tLoss: 1.447636\n"
     ]
    },
    {
     "name": "stderr",
     "output_type": "stream",
     "text": [
      " 25%|██▍       | 22/89 [00:03<00:11,  5.97it/s]"
     ]
    },
    {
     "name": "stdout",
     "output_type": "stream",
     "text": [
      "Train Epoch: 0 [10240/45976 (22%)]\tLoss: 1.184349\n"
     ]
    },
    {
     "name": "stderr",
     "output_type": "stream",
     "text": [
      " 36%|███▌      | 32/89 [00:05<00:09,  6.16it/s]"
     ]
    },
    {
     "name": "stdout",
     "output_type": "stream",
     "text": [
      "Train Epoch: 0 [15360/45976 (34%)]\tLoss: 1.294332\n"
     ]
    },
    {
     "name": "stderr",
     "output_type": "stream",
     "text": [
      " 47%|████▋     | 42/89 [00:06<00:08,  5.81it/s]"
     ]
    },
    {
     "name": "stdout",
     "output_type": "stream",
     "text": [
      "Train Epoch: 0 [20480/45976 (45%)]\tLoss: 1.239093\n"
     ]
    },
    {
     "name": "stderr",
     "output_type": "stream",
     "text": [
      " 58%|█████▊    | 52/89 [00:08<00:06,  6.15it/s]"
     ]
    },
    {
     "name": "stdout",
     "output_type": "stream",
     "text": [
      "Train Epoch: 0 [25600/45976 (56%)]\tLoss: 1.323599\n"
     ]
    },
    {
     "name": "stderr",
     "output_type": "stream",
     "text": [
      " 70%|██████▉   | 62/89 [00:10<00:04,  5.96it/s]"
     ]
    },
    {
     "name": "stdout",
     "output_type": "stream",
     "text": [
      "Train Epoch: 0 [30720/45976 (67%)]\tLoss: 1.375761\n"
     ]
    },
    {
     "name": "stderr",
     "output_type": "stream",
     "text": [
      " 81%|████████  | 72/89 [00:11<00:03,  5.65it/s]"
     ]
    },
    {
     "name": "stdout",
     "output_type": "stream",
     "text": [
      "Train Epoch: 0 [35840/45976 (79%)]\tLoss: 1.055989\n"
     ]
    },
    {
     "name": "stderr",
     "output_type": "stream",
     "text": [
      " 92%|█████████▏| 82/89 [00:13<00:01,  6.14it/s]"
     ]
    },
    {
     "name": "stdout",
     "output_type": "stream",
     "text": [
      "Train Epoch: 0 [40960/45976 (90%)]\tLoss: 1.302325\n"
     ]
    },
    {
     "name": "stderr",
     "output_type": "stream",
     "text": [
      "100%|██████████| 89/89 [00:14<00:00,  6.01it/s]\n"
     ]
    },
    {
     "name": "stdout",
     "output_type": "stream",
     "text": [
      "Input\t['a', 'n', 'r', 'i']\n",
      "GT\t['অ', 'ঁ', 'র', 'ি']\n",
      "pred\t['া', '্', 'র', 'ি']\n",
      "\n",
      "\n",
      "Input\t['b', 'o', 'g', 'a']\n",
      "GT\t['ব', 'গ', 'া']\n",
      "pred\t['র', '্', '্', 'া']\n",
      "\n",
      "\n",
      "Input\t['e', 's', 't', 'a', 'n', 'i', 'y', 'a']\n",
      "GT\t['এ', 'স', '্', 'ত', 'ো', 'ন', 'ি', 'য', '়', 'া']\n",
      "pred\t['র', 'স', '্', 'া', '্', 'ি', '্', 'া']\n",
      "\n",
      "\n",
      "Input\t['m', 'a', 'd', 'h', 'o', 'b', 'i', 'r']\n",
      "GT\t['ম', 'া', 'ধ', 'ব', 'ী', 'র']\n",
      "pred\t['র', 'া', '্', '্', '্', '্', '্', 'র']\n",
      "\n",
      "\n",
      "\n",
      "Test set: Average loss: 1.2093, Accuracy: 132871/195976 (68%)\n",
      "\n"
     ]
    },
    {
     "name": "stderr",
     "output_type": "stream",
     "text": [
      "  1%|          | 1/89 [00:00<00:14,  6.04it/s]"
     ]
    },
    {
     "name": "stdout",
     "output_type": "stream",
     "text": [
      "Train Epoch: 1 [0/45976 (0%)]\tLoss: 1.430111\n"
     ]
    },
    {
     "name": "stderr",
     "output_type": "stream",
     "text": [
      " 13%|█▎        | 12/89 [00:01<00:13,  5.78it/s]"
     ]
    },
    {
     "name": "stdout",
     "output_type": "stream",
     "text": [
      "Train Epoch: 1 [5120/45976 (11%)]\tLoss: 1.206449\n"
     ]
    },
    {
     "name": "stderr",
     "output_type": "stream",
     "text": [
      " 25%|██▍       | 22/89 [00:03<00:10,  6.13it/s]"
     ]
    },
    {
     "name": "stdout",
     "output_type": "stream",
     "text": [
      "Train Epoch: 1 [10240/45976 (22%)]\tLoss: 1.053248\n"
     ]
    },
    {
     "name": "stderr",
     "output_type": "stream",
     "text": [
      " 36%|███▌      | 32/89 [00:05<00:09,  6.24it/s]"
     ]
    },
    {
     "name": "stdout",
     "output_type": "stream",
     "text": [
      "Train Epoch: 1 [15360/45976 (34%)]\tLoss: 1.104032\n"
     ]
    },
    {
     "name": "stderr",
     "output_type": "stream",
     "text": [
      " 47%|████▋     | 42/89 [00:06<00:07,  6.15it/s]"
     ]
    },
    {
     "name": "stdout",
     "output_type": "stream",
     "text": [
      "Train Epoch: 1 [20480/45976 (45%)]\tLoss: 0.954443\n"
     ]
    },
    {
     "name": "stderr",
     "output_type": "stream",
     "text": [
      " 58%|█████▊    | 52/89 [00:08<00:05,  6.20it/s]"
     ]
    },
    {
     "name": "stdout",
     "output_type": "stream",
     "text": [
      "Train Epoch: 1 [25600/45976 (56%)]\tLoss: 1.054429\n"
     ]
    },
    {
     "name": "stderr",
     "output_type": "stream",
     "text": [
      " 70%|██████▉   | 62/89 [00:10<00:04,  6.17it/s]"
     ]
    },
    {
     "name": "stdout",
     "output_type": "stream",
     "text": [
      "Train Epoch: 1 [30720/45976 (67%)]\tLoss: 1.187912\n"
     ]
    },
    {
     "name": "stderr",
     "output_type": "stream",
     "text": [
      " 81%|████████  | 72/89 [00:11<00:02,  6.09it/s]"
     ]
    },
    {
     "name": "stdout",
     "output_type": "stream",
     "text": [
      "Train Epoch: 1 [35840/45976 (79%)]\tLoss: 0.954327\n"
     ]
    },
    {
     "name": "stderr",
     "output_type": "stream",
     "text": [
      " 92%|█████████▏| 82/89 [00:13<00:01,  6.40it/s]"
     ]
    },
    {
     "name": "stdout",
     "output_type": "stream",
     "text": [
      "Train Epoch: 1 [40960/45976 (90%)]\tLoss: 1.196671\n"
     ]
    },
    {
     "name": "stderr",
     "output_type": "stream",
     "text": [
      "100%|██████████| 89/89 [00:14<00:00,  6.19it/s]\n"
     ]
    },
    {
     "name": "stdout",
     "output_type": "stream",
     "text": [
      "Input\t['a', 'n', 'r', 'i']\n",
      "GT\t['অ', 'ঁ', 'র', 'ি']\n",
      "pred\t['ব', 'ন', '্', 'ি']\n",
      "\n",
      "\n",
      "Input\t['b', 'o', 'g', 'a']\n",
      "GT\t['ব', 'গ', 'া']\n",
      "pred\t['ব', '্', '্', 'া']\n",
      "\n",
      "\n",
      "Input\t['e', 's', 't', 'a', 'n', 'i', 'y', 'a']\n",
      "GT\t['এ', 'স', '্', 'ত', 'ো', 'ন', 'ি', 'য', '়', 'া']\n",
      "pred\t['ব', 'স', '্', 'া', 'ন', 'ি', '্', 'া']\n",
      "\n",
      "\n",
      "Input\t['m', 'a', 'd', 'h', 'o', 'b', 'i', 'r']\n",
      "GT\t['ম', 'া', 'ধ', 'ব', 'ী', 'র']\n",
      "pred\t['র', 'া', '্', 'া', '্', '্']\n",
      "\n",
      "\n",
      "\n",
      "Test set: Average loss: 1.0903, Accuracy: 138786/195976 (71%)\n",
      "\n"
     ]
    },
    {
     "name": "stderr",
     "output_type": "stream",
     "text": [
      "  2%|▏         | 2/89 [00:00<00:13,  6.59it/s]"
     ]
    },
    {
     "name": "stdout",
     "output_type": "stream",
     "text": [
      "Train Epoch: 2 [0/45976 (0%)]\tLoss: 1.273463\n"
     ]
    },
    {
     "name": "stderr",
     "output_type": "stream",
     "text": [
      " 13%|█▎        | 12/89 [00:01<00:12,  6.21it/s]"
     ]
    },
    {
     "name": "stdout",
     "output_type": "stream",
     "text": [
      "Train Epoch: 2 [5120/45976 (11%)]\tLoss: 1.028222\n"
     ]
    },
    {
     "name": "stderr",
     "output_type": "stream",
     "text": [
      " 25%|██▍       | 22/89 [00:03<00:10,  6.17it/s]"
     ]
    },
    {
     "name": "stdout",
     "output_type": "stream",
     "text": [
      "Train Epoch: 2 [10240/45976 (22%)]\tLoss: 0.853106\n"
     ]
    },
    {
     "name": "stderr",
     "output_type": "stream",
     "text": [
      " 36%|███▌      | 32/89 [00:05<00:09,  6.22it/s]"
     ]
    },
    {
     "name": "stdout",
     "output_type": "stream",
     "text": [
      "Train Epoch: 2 [15360/45976 (34%)]\tLoss: 0.942291\n"
     ]
    },
    {
     "name": "stderr",
     "output_type": "stream",
     "text": [
      " 47%|████▋     | 42/89 [00:06<00:07,  6.31it/s]"
     ]
    },
    {
     "name": "stdout",
     "output_type": "stream",
     "text": [
      "Train Epoch: 2 [20480/45976 (45%)]\tLoss: 0.844040\n"
     ]
    },
    {
     "name": "stderr",
     "output_type": "stream",
     "text": [
      " 58%|█████▊    | 52/89 [00:08<00:06,  6.06it/s]"
     ]
    },
    {
     "name": "stdout",
     "output_type": "stream",
     "text": [
      "Train Epoch: 2 [25600/45976 (56%)]\tLoss: 0.990100\n"
     ]
    },
    {
     "name": "stderr",
     "output_type": "stream",
     "text": [
      " 70%|██████▉   | 62/89 [00:10<00:04,  6.14it/s]"
     ]
    },
    {
     "name": "stdout",
     "output_type": "stream",
     "text": [
      "Train Epoch: 2 [30720/45976 (67%)]\tLoss: 1.116609\n"
     ]
    },
    {
     "name": "stderr",
     "output_type": "stream",
     "text": [
      " 81%|████████  | 72/89 [00:11<00:02,  5.86it/s]"
     ]
    },
    {
     "name": "stdout",
     "output_type": "stream",
     "text": [
      "Train Epoch: 2 [35840/45976 (79%)]\tLoss: 0.849618\n"
     ]
    },
    {
     "name": "stderr",
     "output_type": "stream",
     "text": [
      " 92%|█████████▏| 82/89 [00:13<00:01,  5.84it/s]"
     ]
    },
    {
     "name": "stdout",
     "output_type": "stream",
     "text": [
      "Train Epoch: 2 [40960/45976 (90%)]\tLoss: 1.164093\n"
     ]
    },
    {
     "name": "stderr",
     "output_type": "stream",
     "text": [
      "100%|██████████| 89/89 [00:14<00:00,  6.09it/s]\n"
     ]
    },
    {
     "name": "stdout",
     "output_type": "stream",
     "text": [
      "Input\t['a', 'n', 'r', 'i']\n",
      "GT\t['অ', 'ঁ', 'র', 'ি']\n",
      "pred\t['আ', 'ন', 'র', 'ি']\n",
      "\n",
      "\n",
      "Input\t['b', 'o', 'g', 'a']\n",
      "GT\t['ব', 'গ', 'া']\n",
      "pred\t['ব', 'ব', 'ত', 'া']\n",
      "\n",
      "\n",
      "Input\t['e', 's', 't', 'a', 'n', 'i', 'y', 'a']\n",
      "GT\t['এ', 'স', '্', 'ত', 'ো', 'ন', 'ি', 'য', '়', 'া']\n",
      "pred\t['এ', '্', '্', 'ত', 'ন', 'ি', 'য', 'য']\n",
      "\n",
      "\n",
      "Input\t['m', 'a', 'd', 'h', 'o', 'b', 'i', 'r']\n",
      "GT\t['ম', 'া', 'ধ', 'ব', 'ী', 'র']\n",
      "pred\t['র', 'া', 'দ', 'া', '্', '্', 'ি', 'র']\n",
      "\n",
      "\n",
      "\n",
      "Test set: Average loss: 1.0230, Accuracy: 142203/195976 (73%)\n",
      "\n"
     ]
    },
    {
     "name": "stderr",
     "output_type": "stream",
     "text": [
      "  1%|          | 1/89 [00:00<00:14,  5.96it/s]"
     ]
    },
    {
     "name": "stdout",
     "output_type": "stream",
     "text": [
      "Train Epoch: 3 [0/45976 (0%)]\tLoss: 1.122117\n"
     ]
    },
    {
     "name": "stderr",
     "output_type": "stream",
     "text": [
      " 13%|█▎        | 12/89 [00:01<00:12,  6.34it/s]"
     ]
    },
    {
     "name": "stdout",
     "output_type": "stream",
     "text": [
      "Train Epoch: 3 [5120/45976 (11%)]\tLoss: 0.923759\n"
     ]
    },
    {
     "name": "stderr",
     "output_type": "stream",
     "text": [
      " 25%|██▍       | 22/89 [00:03<00:10,  6.34it/s]"
     ]
    },
    {
     "name": "stdout",
     "output_type": "stream",
     "text": [
      "Train Epoch: 3 [10240/45976 (22%)]\tLoss: 0.810269\n"
     ]
    },
    {
     "name": "stderr",
     "output_type": "stream",
     "text": [
      " 36%|███▌      | 32/89 [00:05<00:09,  6.31it/s]"
     ]
    },
    {
     "name": "stdout",
     "output_type": "stream",
     "text": [
      "Train Epoch: 3 [15360/45976 (34%)]\tLoss: 0.831197\n"
     ]
    },
    {
     "name": "stderr",
     "output_type": "stream",
     "text": [
      " 47%|████▋     | 42/89 [00:06<00:07,  6.28it/s]"
     ]
    },
    {
     "name": "stdout",
     "output_type": "stream",
     "text": [
      "Train Epoch: 3 [20480/45976 (45%)]\tLoss: 0.779245\n"
     ]
    },
    {
     "name": "stderr",
     "output_type": "stream",
     "text": [
      " 58%|█████▊    | 52/89 [00:08<00:05,  6.24it/s]"
     ]
    },
    {
     "name": "stdout",
     "output_type": "stream",
     "text": [
      "Train Epoch: 3 [25600/45976 (56%)]\tLoss: 0.895427\n"
     ]
    },
    {
     "name": "stderr",
     "output_type": "stream",
     "text": [
      " 70%|██████▉   | 62/89 [00:10<00:04,  6.20it/s]"
     ]
    },
    {
     "name": "stdout",
     "output_type": "stream",
     "text": [
      "Train Epoch: 3 [30720/45976 (67%)]\tLoss: 1.034718\n"
     ]
    },
    {
     "name": "stderr",
     "output_type": "stream",
     "text": [
      " 81%|████████  | 72/89 [00:11<00:02,  6.20it/s]"
     ]
    },
    {
     "name": "stdout",
     "output_type": "stream",
     "text": [
      "Train Epoch: 3 [35840/45976 (79%)]\tLoss: 0.810252\n"
     ]
    },
    {
     "name": "stderr",
     "output_type": "stream",
     "text": [
      " 92%|█████████▏| 82/89 [00:13<00:01,  6.23it/s]"
     ]
    },
    {
     "name": "stdout",
     "output_type": "stream",
     "text": [
      "Train Epoch: 3 [40960/45976 (90%)]\tLoss: 1.115857\n"
     ]
    },
    {
     "name": "stderr",
     "output_type": "stream",
     "text": [
      "100%|██████████| 89/89 [00:14<00:00,  6.20it/s]\n"
     ]
    },
    {
     "name": "stdout",
     "output_type": "stream",
     "text": [
      "Input\t['a', 'n', 'r', 'i']\n",
      "GT\t['অ', 'ঁ', 'র', 'ি']\n",
      "pred\t['আ', 'ন', '্', 'ি']\n",
      "\n",
      "\n",
      "Input\t['b', 'o', 'g', 'a']\n",
      "GT\t['ব', 'গ', 'া']\n",
      "pred\t['ব', '্', 'গ', 'া']\n",
      "\n",
      "\n",
      "Input\t['e', 's', 't', 'a', 'n', 'i', 'y', 'a']\n",
      "GT\t['এ', 'স', '্', 'ত', 'ো', 'ন', 'ি', 'য', '়', 'া']\n",
      "pred\t['এ', 'স', '্', 'ত', 'ন', 'ি', 'য', 'য', '়']\n",
      "\n",
      "\n",
      "Input\t['m', 'a', 'd', 'h', 'o', 'b', 'i', 'r']\n",
      "GT\t['ম', 'া', 'ধ', 'ব', 'ী', 'র']\n",
      "pred\t['এ', 'া', 'দ', 'া', '্', 'া']\n",
      "\n",
      "\n",
      "\n",
      "Test set: Average loss: 0.9956, Accuracy: 142889/195976 (73%)\n",
      "\n"
     ]
    },
    {
     "name": "stderr",
     "output_type": "stream",
     "text": [
      "  1%|          | 1/89 [00:00<00:14,  6.17it/s]"
     ]
    },
    {
     "name": "stdout",
     "output_type": "stream",
     "text": [
      "Train Epoch: 4 [0/45976 (0%)]\tLoss: 1.042139\n"
     ]
    },
    {
     "name": "stderr",
     "output_type": "stream",
     "text": [
      " 13%|█▎        | 12/89 [00:01<00:12,  6.39it/s]"
     ]
    },
    {
     "name": "stdout",
     "output_type": "stream",
     "text": [
      "Train Epoch: 4 [5120/45976 (11%)]\tLoss: 0.843168\n"
     ]
    },
    {
     "name": "stderr",
     "output_type": "stream",
     "text": [
      " 25%|██▍       | 22/89 [00:03<00:10,  6.37it/s]"
     ]
    },
    {
     "name": "stdout",
     "output_type": "stream",
     "text": [
      "Train Epoch: 4 [10240/45976 (22%)]\tLoss: 0.777990\n"
     ]
    },
    {
     "name": "stderr",
     "output_type": "stream",
     "text": [
      " 36%|███▌      | 32/89 [00:05<00:09,  6.32it/s]"
     ]
    },
    {
     "name": "stdout",
     "output_type": "stream",
     "text": [
      "Train Epoch: 4 [15360/45976 (34%)]\tLoss: 0.767099\n"
     ]
    },
    {
     "name": "stderr",
     "output_type": "stream",
     "text": [
      " 47%|████▋     | 42/89 [00:06<00:07,  6.23it/s]"
     ]
    },
    {
     "name": "stdout",
     "output_type": "stream",
     "text": [
      "Train Epoch: 4 [20480/45976 (45%)]\tLoss: 0.730963\n"
     ]
    },
    {
     "name": "stderr",
     "output_type": "stream",
     "text": [
      " 58%|█████▊    | 52/89 [00:08<00:06,  6.14it/s]"
     ]
    },
    {
     "name": "stdout",
     "output_type": "stream",
     "text": [
      "Train Epoch: 4 [25600/45976 (56%)]\tLoss: 0.835308\n"
     ]
    },
    {
     "name": "stderr",
     "output_type": "stream",
     "text": [
      " 70%|██████▉   | 62/89 [00:09<00:04,  6.23it/s]"
     ]
    },
    {
     "name": "stdout",
     "output_type": "stream",
     "text": [
      "Train Epoch: 4 [30720/45976 (67%)]\tLoss: 0.983002\n"
     ]
    },
    {
     "name": "stderr",
     "output_type": "stream",
     "text": [
      " 81%|████████  | 72/89 [00:11<00:02,  6.26it/s]"
     ]
    },
    {
     "name": "stdout",
     "output_type": "stream",
     "text": [
      "Train Epoch: 4 [35840/45976 (79%)]\tLoss: 0.767561\n"
     ]
    },
    {
     "name": "stderr",
     "output_type": "stream",
     "text": [
      " 92%|█████████▏| 82/89 [00:13<00:01,  6.18it/s]"
     ]
    },
    {
     "name": "stdout",
     "output_type": "stream",
     "text": [
      "Train Epoch: 4 [40960/45976 (90%)]\tLoss: 1.054332\n"
     ]
    },
    {
     "name": "stderr",
     "output_type": "stream",
     "text": [
      "100%|██████████| 89/89 [00:14<00:00,  6.26it/s]\n"
     ]
    },
    {
     "name": "stdout",
     "output_type": "stream",
     "text": [
      "Input\t['a', 'n', 'r', 'i']\n",
      "GT\t['অ', 'ঁ', 'র', 'ি']\n",
      "pred\t['আ', 'ন', '্', 'ি', 'ি']\n",
      "\n",
      "\n",
      "Input\t['b', 'o', 'g', 'a']\n",
      "GT\t['ব', 'গ', 'া']\n",
      "pred\t['ভ', 'ব', 'গ', 'া']\n",
      "\n",
      "\n",
      "Input\t['e', 's', 't', 'a', 'n', 'i', 'y', 'a']\n",
      "GT\t['এ', 'স', '্', 'ত', 'ো', 'ন', 'ি', 'য', '়', 'া']\n",
      "pred\t['এ', 'স', '্', '্', 'ন', 'ি', 'ি', 'য', 'া']\n",
      "\n",
      "\n",
      "Input\t['m', 'a', 'd', 'h', 'o', 'b', 'i', 'r']\n",
      "GT\t['ম', 'া', 'ধ', 'ব', 'ী', 'র']\n",
      "pred\t['স', 'া', 'দ', 'া', '্', 'া']\n",
      "\n",
      "\n",
      "\n",
      "Test set: Average loss: 0.9977, Accuracy: 141615/195976 (72%)\n",
      "\n"
     ]
    },
    {
     "name": "stderr",
     "output_type": "stream",
     "text": [
      "  1%|          | 1/89 [00:00<00:14,  6.12it/s]"
     ]
    },
    {
     "name": "stdout",
     "output_type": "stream",
     "text": [
      "Train Epoch: 5 [0/45976 (0%)]\tLoss: 0.994881\n"
     ]
    },
    {
     "name": "stderr",
     "output_type": "stream",
     "text": [
      " 13%|█▎        | 12/89 [00:01<00:12,  6.22it/s]"
     ]
    },
    {
     "name": "stdout",
     "output_type": "stream",
     "text": [
      "Train Epoch: 5 [5120/45976 (11%)]\tLoss: 0.790976\n"
     ]
    },
    {
     "name": "stderr",
     "output_type": "stream",
     "text": [
      " 25%|██▍       | 22/89 [00:03<00:12,  5.40it/s]"
     ]
    },
    {
     "name": "stdout",
     "output_type": "stream",
     "text": [
      "Train Epoch: 5 [10240/45976 (22%)]\tLoss: 0.756327\n"
     ]
    },
    {
     "name": "stderr",
     "output_type": "stream",
     "text": [
      " 36%|███▌      | 32/89 [00:05<00:09,  6.12it/s]"
     ]
    },
    {
     "name": "stdout",
     "output_type": "stream",
     "text": [
      "Train Epoch: 5 [15360/45976 (34%)]\tLoss: 0.719626\n"
     ]
    },
    {
     "name": "stderr",
     "output_type": "stream",
     "text": [
      " 47%|████▋     | 42/89 [00:06<00:07,  6.19it/s]"
     ]
    },
    {
     "name": "stdout",
     "output_type": "stream",
     "text": [
      "Train Epoch: 5 [20480/45976 (45%)]\tLoss: 0.703993\n"
     ]
    },
    {
     "name": "stderr",
     "output_type": "stream",
     "text": [
      " 58%|█████▊    | 52/89 [00:08<00:05,  6.35it/s]"
     ]
    },
    {
     "name": "stdout",
     "output_type": "stream",
     "text": [
      "Train Epoch: 5 [25600/45976 (56%)]\tLoss: 0.789189\n"
     ]
    },
    {
     "name": "stderr",
     "output_type": "stream",
     "text": [
      " 70%|██████▉   | 62/89 [00:10<00:04,  5.58it/s]"
     ]
    },
    {
     "name": "stdout",
     "output_type": "stream",
     "text": [
      "Train Epoch: 5 [30720/45976 (67%)]\tLoss: 0.956680\n"
     ]
    },
    {
     "name": "stderr",
     "output_type": "stream",
     "text": [
      " 81%|████████  | 72/89 [00:11<00:02,  6.17it/s]"
     ]
    },
    {
     "name": "stdout",
     "output_type": "stream",
     "text": [
      "Train Epoch: 5 [35840/45976 (79%)]\tLoss: 0.753269\n"
     ]
    },
    {
     "name": "stderr",
     "output_type": "stream",
     "text": [
      " 92%|█████████▏| 82/89 [00:13<00:01,  6.02it/s]"
     ]
    },
    {
     "name": "stdout",
     "output_type": "stream",
     "text": [
      "Train Epoch: 5 [40960/45976 (90%)]\tLoss: 1.035259\n"
     ]
    },
    {
     "name": "stderr",
     "output_type": "stream",
     "text": [
      "100%|██████████| 89/89 [00:14<00:00,  6.09it/s]\n"
     ]
    },
    {
     "name": "stdout",
     "output_type": "stream",
     "text": [
      "Input\t['a', 'n', 'r', 'i']\n",
      "GT\t['অ', 'ঁ', 'র', 'ি']\n",
      "pred\t['আ', 'ন', 'র', 'ি', 'ি']\n",
      "\n",
      "\n",
      "Input\t['b', 'o', 'g', 'a']\n",
      "GT\t['ব', 'গ', 'া']\n",
      "pred\t['ভ', 'ব', 'গ', 'া']\n",
      "\n",
      "\n",
      "Input\t['e', 's', 't', 'a', 'n', 'i', 'y', 'a']\n",
      "GT\t['এ', 'স', '্', 'ত', 'ো', 'ন', 'ি', 'য', '়', 'া']\n",
      "pred\t['এ', 'স', '্', 'ত', 'ন', 'ি', 'ি', 'য', 'য']\n",
      "\n",
      "\n",
      "Input\t['m', 'a', 'd', 'h', 'o', 'b', 'i', 'r']\n",
      "GT\t['ম', 'া', 'ধ', 'ব', 'ী', 'র']\n",
      "pred\t['আ', 'া', 'দ', 'া', '্', 'া', '্', '্']\n",
      "\n",
      "\n",
      "\n",
      "Test set: Average loss: 0.9842, Accuracy: 142382/195976 (73%)\n",
      "\n"
     ]
    },
    {
     "name": "stderr",
     "output_type": "stream",
     "text": [
      "  1%|          | 1/89 [00:00<00:13,  6.43it/s]"
     ]
    },
    {
     "name": "stdout",
     "output_type": "stream",
     "text": [
      "Train Epoch: 6 [0/45976 (0%)]\tLoss: 0.969843\n"
     ]
    },
    {
     "name": "stderr",
     "output_type": "stream",
     "text": [
      " 13%|█▎        | 12/89 [00:01<00:12,  6.23it/s]"
     ]
    },
    {
     "name": "stdout",
     "output_type": "stream",
     "text": [
      "Train Epoch: 6 [5120/45976 (11%)]\tLoss: 0.758758\n"
     ]
    },
    {
     "name": "stderr",
     "output_type": "stream",
     "text": [
      " 25%|██▍       | 22/89 [00:03<00:11,  6.02it/s]"
     ]
    },
    {
     "name": "stdout",
     "output_type": "stream",
     "text": [
      "Train Epoch: 6 [10240/45976 (22%)]\tLoss: 0.732825\n"
     ]
    },
    {
     "name": "stderr",
     "output_type": "stream",
     "text": [
      " 36%|███▌      | 32/89 [00:05<00:08,  6.47it/s]"
     ]
    },
    {
     "name": "stdout",
     "output_type": "stream",
     "text": [
      "Train Epoch: 6 [15360/45976 (34%)]\tLoss: 0.689964\n"
     ]
    },
    {
     "name": "stderr",
     "output_type": "stream",
     "text": [
      " 47%|████▋     | 42/89 [00:06<00:07,  6.30it/s]"
     ]
    },
    {
     "name": "stdout",
     "output_type": "stream",
     "text": [
      "Train Epoch: 6 [20480/45976 (45%)]\tLoss: 0.681097\n"
     ]
    },
    {
     "name": "stderr",
     "output_type": "stream",
     "text": [
      " 58%|█████▊    | 52/89 [00:08<00:05,  6.31it/s]"
     ]
    },
    {
     "name": "stdout",
     "output_type": "stream",
     "text": [
      "Train Epoch: 6 [25600/45976 (56%)]\tLoss: 0.750473\n"
     ]
    },
    {
     "name": "stderr",
     "output_type": "stream",
     "text": [
      " 70%|██████▉   | 62/89 [00:09<00:04,  6.44it/s]"
     ]
    },
    {
     "name": "stdout",
     "output_type": "stream",
     "text": [
      "Train Epoch: 6 [30720/45976 (67%)]\tLoss: 0.944645\n"
     ]
    },
    {
     "name": "stderr",
     "output_type": "stream",
     "text": [
      " 81%|████████  | 72/89 [00:11<00:02,  6.14it/s]"
     ]
    },
    {
     "name": "stdout",
     "output_type": "stream",
     "text": [
      "Train Epoch: 6 [35840/45976 (79%)]\tLoss: 0.743910\n"
     ]
    },
    {
     "name": "stderr",
     "output_type": "stream",
     "text": [
      " 92%|█████████▏| 82/89 [00:13<00:01,  6.19it/s]"
     ]
    },
    {
     "name": "stdout",
     "output_type": "stream",
     "text": [
      "Train Epoch: 6 [40960/45976 (90%)]\tLoss: 1.010852\n"
     ]
    },
    {
     "name": "stderr",
     "output_type": "stream",
     "text": [
      "100%|██████████| 89/89 [00:14<00:00,  6.24it/s]\n"
     ]
    },
    {
     "name": "stdout",
     "output_type": "stream",
     "text": [
      "Input\t['a', 'n', 'r', 'i']\n",
      "GT\t['অ', 'ঁ', 'র', 'ি']\n",
      "pred\t['আ', 'ন', 'র', 'ি', 'ি']\n",
      "\n",
      "\n",
      "Input\t['b', 'o', 'g', 'a']\n",
      "GT\t['ব', 'গ', 'া']\n",
      "pred\t['অ', 'ত', 'গ', 'া']\n",
      "\n",
      "\n",
      "Input\t['e', 's', 't', 'a', 'n', 'i', 'y', 'a']\n",
      "GT\t['এ', 'স', '্', 'ত', 'ো', 'ন', 'ি', 'য', '়', 'া']\n",
      "pred\t['এ', 'স', '্', 'ট', 'ন', 'ি', 'য', 'য', 'া', 'া']\n",
      "\n",
      "\n",
      "Input\t['m', 'a', 'd', 'h', 'o', 'b', 'i', 'r']\n",
      "GT\t['ম', 'া', 'ধ', 'ব', 'ী', 'র']\n",
      "pred\t['স', 'া', 'দ', 'া', '্', 'া']\n",
      "\n",
      "\n",
      "\n",
      "Test set: Average loss: 0.9665, Accuracy: 142991/195976 (73%)\n",
      "\n"
     ]
    },
    {
     "name": "stderr",
     "output_type": "stream",
     "text": [
      "  1%|          | 1/89 [00:00<00:14,  6.16it/s]"
     ]
    },
    {
     "name": "stdout",
     "output_type": "stream",
     "text": [
      "Train Epoch: 7 [0/45976 (0%)]\tLoss: 0.946275\n"
     ]
    },
    {
     "name": "stderr",
     "output_type": "stream",
     "text": [
      " 13%|█▎        | 12/89 [00:01<00:12,  6.36it/s]"
     ]
    },
    {
     "name": "stdout",
     "output_type": "stream",
     "text": [
      "Train Epoch: 7 [5120/45976 (11%)]\tLoss: 0.737729\n"
     ]
    },
    {
     "name": "stderr",
     "output_type": "stream",
     "text": [
      " 25%|██▍       | 22/89 [00:03<00:10,  6.36it/s]"
     ]
    },
    {
     "name": "stdout",
     "output_type": "stream",
     "text": [
      "Train Epoch: 7 [10240/45976 (22%)]\tLoss: 0.719449\n"
     ]
    },
    {
     "name": "stderr",
     "output_type": "stream",
     "text": [
      " 36%|███▌      | 32/89 [00:05<00:09,  6.18it/s]"
     ]
    },
    {
     "name": "stdout",
     "output_type": "stream",
     "text": [
      "Train Epoch: 7 [15360/45976 (34%)]\tLoss: 0.658617\n"
     ]
    },
    {
     "name": "stderr",
     "output_type": "stream",
     "text": [
      " 47%|████▋     | 42/89 [00:06<00:07,  6.28it/s]"
     ]
    },
    {
     "name": "stdout",
     "output_type": "stream",
     "text": [
      "Train Epoch: 7 [20480/45976 (45%)]\tLoss: 0.667933\n"
     ]
    },
    {
     "name": "stderr",
     "output_type": "stream",
     "text": [
      " 58%|█████▊    | 52/89 [00:08<00:05,  6.21it/s]"
     ]
    },
    {
     "name": "stdout",
     "output_type": "stream",
     "text": [
      "Train Epoch: 7 [25600/45976 (56%)]\tLoss: 0.723990\n"
     ]
    },
    {
     "name": "stderr",
     "output_type": "stream",
     "text": [
      " 70%|██████▉   | 62/89 [00:09<00:04,  6.32it/s]"
     ]
    },
    {
     "name": "stdout",
     "output_type": "stream",
     "text": [
      "Train Epoch: 7 [30720/45976 (67%)]\tLoss: 0.936619\n"
     ]
    },
    {
     "name": "stderr",
     "output_type": "stream",
     "text": [
      " 81%|████████  | 72/89 [00:11<00:02,  6.39it/s]"
     ]
    },
    {
     "name": "stdout",
     "output_type": "stream",
     "text": [
      "Train Epoch: 7 [35840/45976 (79%)]\tLoss: 0.742323\n"
     ]
    },
    {
     "name": "stderr",
     "output_type": "stream",
     "text": [
      " 92%|█████████▏| 82/89 [00:13<00:01,  6.34it/s]"
     ]
    },
    {
     "name": "stdout",
     "output_type": "stream",
     "text": [
      "Train Epoch: 7 [40960/45976 (90%)]\tLoss: 0.971109\n"
     ]
    },
    {
     "name": "stderr",
     "output_type": "stream",
     "text": [
      "100%|██████████| 89/89 [00:14<00:00,  6.28it/s]\n"
     ]
    },
    {
     "name": "stdout",
     "output_type": "stream",
     "text": [
      "Input\t['a', 'n', 'r', 'i']\n",
      "GT\t['অ', 'ঁ', 'র', 'ি']\n",
      "pred\t['আ', 'ন', 'র', 'ি']\n",
      "\n",
      "\n",
      "Input\t['b', 'o', 'g', 'a']\n",
      "GT\t['ব', 'গ', 'া']\n",
      "pred\t['অ', 'ত', 'গ', 'া']\n",
      "\n",
      "\n",
      "Input\t['e', 's', 't', 'a', 'n', 'i', 'y', 'a']\n",
      "GT\t['এ', 'স', '্', 'ত', 'ো', 'ন', 'ি', 'য', '়', 'া']\n",
      "pred\t['এ', '্', '্', 'ত', 'ন', 'ি', 'ি', 'য', '়', 'া']\n",
      "\n",
      "\n",
      "Input\t['m', 'a', 'd', 'h', 'o', 'b', 'i', 'r']\n",
      "GT\t['ম', 'া', 'ধ', 'ব', 'ী', 'র']\n",
      "pred\t['স', 'া', '্', 'া', '্', 'া', 'ন', '্']\n",
      "\n",
      "\n",
      "\n",
      "Test set: Average loss: 0.9518, Accuracy: 142947/195976 (73%)\n",
      "\n"
     ]
    },
    {
     "name": "stderr",
     "output_type": "stream",
     "text": [
      "  1%|          | 1/89 [00:00<00:13,  6.37it/s]"
     ]
    },
    {
     "name": "stdout",
     "output_type": "stream",
     "text": [
      "Train Epoch: 8 [0/45976 (0%)]\tLoss: 0.919654\n"
     ]
    },
    {
     "name": "stderr",
     "output_type": "stream",
     "text": [
      " 13%|█▎        | 12/89 [00:01<00:12,  6.20it/s]"
     ]
    },
    {
     "name": "stdout",
     "output_type": "stream",
     "text": [
      "Train Epoch: 8 [5120/45976 (11%)]\tLoss: 0.720668\n"
     ]
    },
    {
     "name": "stderr",
     "output_type": "stream",
     "text": [
      " 25%|██▍       | 22/89 [00:03<00:10,  6.15it/s]"
     ]
    },
    {
     "name": "stdout",
     "output_type": "stream",
     "text": [
      "Train Epoch: 8 [10240/45976 (22%)]\tLoss: 0.721103\n"
     ]
    },
    {
     "name": "stderr",
     "output_type": "stream",
     "text": [
      " 36%|███▌      | 32/89 [00:05<00:09,  6.05it/s]"
     ]
    },
    {
     "name": "stdout",
     "output_type": "stream",
     "text": [
      "Train Epoch: 8 [15360/45976 (34%)]\tLoss: 0.644336\n"
     ]
    },
    {
     "name": "stderr",
     "output_type": "stream",
     "text": [
      " 47%|████▋     | 42/89 [00:06<00:07,  6.34it/s]"
     ]
    },
    {
     "name": "stdout",
     "output_type": "stream",
     "text": [
      "Train Epoch: 8 [20480/45976 (45%)]\tLoss: 0.639153\n"
     ]
    },
    {
     "name": "stderr",
     "output_type": "stream",
     "text": [
      " 58%|█████▊    | 52/89 [00:08<00:06,  6.14it/s]"
     ]
    },
    {
     "name": "stdout",
     "output_type": "stream",
     "text": [
      "Train Epoch: 8 [25600/45976 (56%)]\tLoss: 0.698835\n"
     ]
    },
    {
     "name": "stderr",
     "output_type": "stream",
     "text": [
      " 70%|██████▉   | 62/89 [00:10<00:04,  6.16it/s]"
     ]
    },
    {
     "name": "stdout",
     "output_type": "stream",
     "text": [
      "Train Epoch: 8 [30720/45976 (67%)]\tLoss: 0.924730\n"
     ]
    },
    {
     "name": "stderr",
     "output_type": "stream",
     "text": [
      " 81%|████████  | 72/89 [00:11<00:02,  6.30it/s]"
     ]
    },
    {
     "name": "stdout",
     "output_type": "stream",
     "text": [
      "Train Epoch: 8 [35840/45976 (79%)]\tLoss: 0.731607\n"
     ]
    },
    {
     "name": "stderr",
     "output_type": "stream",
     "text": [
      " 92%|█████████▏| 82/89 [00:13<00:01,  6.19it/s]"
     ]
    },
    {
     "name": "stdout",
     "output_type": "stream",
     "text": [
      "Train Epoch: 8 [40960/45976 (90%)]\tLoss: 1.006357\n"
     ]
    },
    {
     "name": "stderr",
     "output_type": "stream",
     "text": [
      "100%|██████████| 89/89 [00:14<00:00,  6.19it/s]\n"
     ]
    },
    {
     "name": "stdout",
     "output_type": "stream",
     "text": [
      "Input\t['a', 'n', 'r', 'i']\n",
      "GT\t['অ', 'ঁ', 'র', 'ি']\n",
      "pred\t['আ', 'ন', 'র', 'ি']\n",
      "\n",
      "\n",
      "Input\t['b', 'o', 'g', 'a']\n",
      "GT\t['ব', 'গ', 'া']\n",
      "pred\t['অ', 'ত', 'গ', 'া']\n",
      "\n",
      "\n",
      "Input\t['e', 's', 't', 'a', 'n', 'i', 'y', 'a']\n",
      "GT\t['এ', 'স', '্', 'ত', 'ো', 'ন', 'ি', 'য', '়', 'া']\n",
      "pred\t['এ', 'স', '্', 'ট', 'া', 'ন', 'ি', 'য', '়', 'া']\n",
      "\n",
      "\n",
      "Input\t['m', 'a', 'd', 'h', 'o', 'b', 'i', 'r']\n",
      "GT\t['ম', 'া', 'ধ', 'ব', 'ী', 'র']\n",
      "pred\t['স', 'া', '্', 'া', '্', 'া', 'ি', '্']\n",
      "\n",
      "\n",
      "\n",
      "Test set: Average loss: 0.9555, Accuracy: 143080/195976 (73%)\n",
      "\n"
     ]
    },
    {
     "name": "stderr",
     "output_type": "stream",
     "text": [
      "  1%|          | 1/89 [00:00<00:14,  6.21it/s]"
     ]
    },
    {
     "name": "stdout",
     "output_type": "stream",
     "text": [
      "Train Epoch: 9 [0/45976 (0%)]\tLoss: 0.916595\n"
     ]
    },
    {
     "name": "stderr",
     "output_type": "stream",
     "text": [
      " 13%|█▎        | 12/89 [00:01<00:12,  6.26it/s]"
     ]
    },
    {
     "name": "stdout",
     "output_type": "stream",
     "text": [
      "Train Epoch: 9 [5120/45976 (11%)]\tLoss: 0.704404\n"
     ]
    },
    {
     "name": "stderr",
     "output_type": "stream",
     "text": [
      " 25%|██▍       | 22/89 [00:03<00:10,  6.10it/s]"
     ]
    },
    {
     "name": "stdout",
     "output_type": "stream",
     "text": [
      "Train Epoch: 9 [10240/45976 (22%)]\tLoss: 0.717151\n"
     ]
    },
    {
     "name": "stderr",
     "output_type": "stream",
     "text": [
      " 36%|███▌      | 32/89 [00:05<00:09,  6.16it/s]"
     ]
    },
    {
     "name": "stdout",
     "output_type": "stream",
     "text": [
      "Train Epoch: 9 [15360/45976 (34%)]\tLoss: 0.625616\n"
     ]
    },
    {
     "name": "stderr",
     "output_type": "stream",
     "text": [
      " 47%|████▋     | 42/89 [00:06<00:07,  5.92it/s]"
     ]
    },
    {
     "name": "stdout",
     "output_type": "stream",
     "text": [
      "Train Epoch: 9 [20480/45976 (45%)]\tLoss: 0.627509\n"
     ]
    },
    {
     "name": "stderr",
     "output_type": "stream",
     "text": [
      " 58%|█████▊    | 52/89 [00:08<00:05,  6.38it/s]"
     ]
    },
    {
     "name": "stdout",
     "output_type": "stream",
     "text": [
      "Train Epoch: 9 [25600/45976 (56%)]\tLoss: 0.672756\n"
     ]
    },
    {
     "name": "stderr",
     "output_type": "stream",
     "text": [
      " 70%|██████▉   | 62/89 [00:10<00:04,  6.35it/s]"
     ]
    },
    {
     "name": "stdout",
     "output_type": "stream",
     "text": [
      "Train Epoch: 9 [30720/45976 (67%)]\tLoss: 0.897811\n"
     ]
    },
    {
     "name": "stderr",
     "output_type": "stream",
     "text": [
      " 81%|████████  | 72/89 [00:11<00:02,  6.18it/s]"
     ]
    },
    {
     "name": "stdout",
     "output_type": "stream",
     "text": [
      "Train Epoch: 9 [35840/45976 (79%)]\tLoss: 0.725271\n"
     ]
    },
    {
     "name": "stderr",
     "output_type": "stream",
     "text": [
      " 92%|█████████▏| 82/89 [00:13<00:01,  6.38it/s]"
     ]
    },
    {
     "name": "stdout",
     "output_type": "stream",
     "text": [
      "Train Epoch: 9 [40960/45976 (90%)]\tLoss: 0.953122\n"
     ]
    },
    {
     "name": "stderr",
     "output_type": "stream",
     "text": [
      "100%|██████████| 89/89 [00:14<00:00,  6.20it/s]\n"
     ]
    },
    {
     "name": "stdout",
     "output_type": "stream",
     "text": [
      "Input\t['a', 'n', 'r', 'i']\n",
      "GT\t['অ', 'ঁ', 'র', 'ি']\n",
      "pred\t['আ', 'ন', 'র', 'ি']\n",
      "\n",
      "\n",
      "Input\t['b', 'o', 'g', 'a']\n",
      "GT\t['ব', 'গ', 'া']\n",
      "pred\t['অ', 'ো', 'গ', 'া']\n",
      "\n",
      "\n",
      "Input\t['e', 's', 't', 'a', 'n', 'i', 'y', 'a']\n",
      "GT\t['এ', 'স', '্', 'ত', 'ো', 'ন', 'ি', 'য', '়', 'া']\n",
      "pred\t['এ', 'স', '্', 'ট', 'া', 'ন', 'ি', 'য', 'য', 'া', 'া']\n",
      "\n",
      "\n",
      "Input\t['m', 'a', 'd', 'h', 'o', 'b', 'i', 'r']\n",
      "GT\t['ম', 'া', 'ধ', 'ব', 'ী', 'র']\n",
      "pred\t['স', 'া', '্', 'া', '্', 'া', 'ি', 'র']\n",
      "\n",
      "\n",
      "\n",
      "Test set: Average loss: 0.9289, Accuracy: 144490/195976 (74%)\n",
      "\n"
     ]
    },
    {
     "name": "stderr",
     "output_type": "stream",
     "text": [
      "  1%|          | 1/89 [00:00<00:13,  6.34it/s]"
     ]
    },
    {
     "name": "stdout",
     "output_type": "stream",
     "text": [
      "Train Epoch: 10 [0/45976 (0%)]\tLoss: 0.867421\n"
     ]
    },
    {
     "name": "stderr",
     "output_type": "stream",
     "text": [
      " 13%|█▎        | 12/89 [00:01<00:12,  6.31it/s]"
     ]
    },
    {
     "name": "stdout",
     "output_type": "stream",
     "text": [
      "Train Epoch: 10 [5120/45976 (11%)]\tLoss: 0.679543\n"
     ]
    },
    {
     "name": "stderr",
     "output_type": "stream",
     "text": [
      " 25%|██▍       | 22/89 [00:03<00:10,  6.30it/s]"
     ]
    },
    {
     "name": "stdout",
     "output_type": "stream",
     "text": [
      "Train Epoch: 10 [10240/45976 (22%)]\tLoss: 0.704818\n"
     ]
    },
    {
     "name": "stderr",
     "output_type": "stream",
     "text": [
      " 36%|███▌      | 32/89 [00:05<00:09,  6.30it/s]"
     ]
    },
    {
     "name": "stdout",
     "output_type": "stream",
     "text": [
      "Train Epoch: 10 [15360/45976 (34%)]\tLoss: 0.610222\n"
     ]
    },
    {
     "name": "stderr",
     "output_type": "stream",
     "text": [
      " 47%|████▋     | 42/89 [00:06<00:07,  6.27it/s]"
     ]
    },
    {
     "name": "stdout",
     "output_type": "stream",
     "text": [
      "Train Epoch: 10 [20480/45976 (45%)]\tLoss: 0.612935\n"
     ]
    },
    {
     "name": "stderr",
     "output_type": "stream",
     "text": [
      " 58%|█████▊    | 52/89 [00:08<00:05,  6.40it/s]"
     ]
    },
    {
     "name": "stdout",
     "output_type": "stream",
     "text": [
      "Train Epoch: 10 [25600/45976 (56%)]\tLoss: 0.677534\n"
     ]
    },
    {
     "name": "stderr",
     "output_type": "stream",
     "text": [
      " 70%|██████▉   | 62/89 [00:09<00:04,  6.37it/s]"
     ]
    },
    {
     "name": "stdout",
     "output_type": "stream",
     "text": [
      "Train Epoch: 10 [30720/45976 (67%)]\tLoss: 0.867382\n"
     ]
    },
    {
     "name": "stderr",
     "output_type": "stream",
     "text": [
      " 81%|████████  | 72/89 [00:11<00:02,  6.18it/s]"
     ]
    },
    {
     "name": "stdout",
     "output_type": "stream",
     "text": [
      "Train Epoch: 10 [35840/45976 (79%)]\tLoss: 0.696329\n"
     ]
    },
    {
     "name": "stderr",
     "output_type": "stream",
     "text": [
      " 92%|█████████▏| 82/89 [00:13<00:01,  6.07it/s]"
     ]
    },
    {
     "name": "stdout",
     "output_type": "stream",
     "text": [
      "Train Epoch: 10 [40960/45976 (90%)]\tLoss: 0.947393\n"
     ]
    },
    {
     "name": "stderr",
     "output_type": "stream",
     "text": [
      "100%|██████████| 89/89 [00:14<00:00,  6.27it/s]\n"
     ]
    },
    {
     "name": "stdout",
     "output_type": "stream",
     "text": [
      "Input\t['a', 'n', 'r', 'i']\n",
      "GT\t['অ', 'ঁ', 'র', 'ি']\n",
      "pred\t['আ', 'ন', 'র', 'র']\n",
      "\n",
      "\n",
      "Input\t['b', 'o', 'g', 'a']\n",
      "GT\t['ব', 'গ', 'া']\n",
      "pred\t['অ', 'ত', 'গ', 'া']\n",
      "\n",
      "\n",
      "Input\t['e', 's', 't', 'a', 'n', 'i', 'y', 'a']\n",
      "GT\t['এ', 'স', '্', 'ত', 'ো', 'ন', 'ি', 'য', '়', 'া']\n",
      "pred\t['এ', 'স', '্', 'ট', 'ন', 'ন', 'ি', 'য', '়', 'া']\n",
      "\n",
      "\n",
      "Input\t['m', 'a', 'd', 'h', 'o', 'b', 'i', 'r']\n",
      "GT\t['ম', 'া', 'ধ', 'ব', 'ী', 'র']\n",
      "pred\t['স', 'া', '্', 'া', '্', 'া', 'ি', 'র']\n",
      "\n",
      "\n",
      "\n",
      "Test set: Average loss: 0.9298, Accuracy: 144554/195976 (74%)\n",
      "\n"
     ]
    },
    {
     "name": "stderr",
     "output_type": "stream",
     "text": [
      "  1%|          | 1/89 [00:00<00:13,  6.54it/s]"
     ]
    },
    {
     "name": "stdout",
     "output_type": "stream",
     "text": [
      "Train Epoch: 11 [0/45976 (0%)]\tLoss: 0.847565\n"
     ]
    },
    {
     "name": "stderr",
     "output_type": "stream",
     "text": [
      " 13%|█▎        | 12/89 [00:01<00:12,  6.11it/s]"
     ]
    },
    {
     "name": "stdout",
     "output_type": "stream",
     "text": [
      "Train Epoch: 11 [5120/45976 (11%)]\tLoss: 0.676427\n"
     ]
    },
    {
     "name": "stderr",
     "output_type": "stream",
     "text": [
      " 25%|██▍       | 22/89 [00:03<00:10,  6.36it/s]"
     ]
    },
    {
     "name": "stdout",
     "output_type": "stream",
     "text": [
      "Train Epoch: 11 [10240/45976 (22%)]\tLoss: 0.687287\n"
     ]
    },
    {
     "name": "stderr",
     "output_type": "stream",
     "text": [
      " 36%|███▌      | 32/89 [00:05<00:09,  6.21it/s]"
     ]
    },
    {
     "name": "stdout",
     "output_type": "stream",
     "text": [
      "Train Epoch: 11 [15360/45976 (34%)]\tLoss: 0.600256\n"
     ]
    },
    {
     "name": "stderr",
     "output_type": "stream",
     "text": [
      " 47%|████▋     | 42/89 [00:06<00:07,  6.28it/s]"
     ]
    },
    {
     "name": "stdout",
     "output_type": "stream",
     "text": [
      "Train Epoch: 11 [20480/45976 (45%)]\tLoss: 0.590734\n"
     ]
    },
    {
     "name": "stderr",
     "output_type": "stream",
     "text": [
      " 58%|█████▊    | 52/89 [00:08<00:06,  5.94it/s]"
     ]
    },
    {
     "name": "stdout",
     "output_type": "stream",
     "text": [
      "Train Epoch: 11 [25600/45976 (56%)]\tLoss: 0.629872\n"
     ]
    },
    {
     "name": "stderr",
     "output_type": "stream",
     "text": [
      " 70%|██████▉   | 62/89 [00:10<00:04,  6.00it/s]"
     ]
    },
    {
     "name": "stdout",
     "output_type": "stream",
     "text": [
      "Train Epoch: 11 [30720/45976 (67%)]\tLoss: 0.852586\n"
     ]
    },
    {
     "name": "stderr",
     "output_type": "stream",
     "text": [
      " 81%|████████  | 72/89 [00:11<00:02,  6.31it/s]"
     ]
    },
    {
     "name": "stdout",
     "output_type": "stream",
     "text": [
      "Train Epoch: 11 [35840/45976 (79%)]\tLoss: 0.687906\n"
     ]
    },
    {
     "name": "stderr",
     "output_type": "stream",
     "text": [
      " 92%|█████████▏| 82/89 [00:13<00:01,  6.03it/s]"
     ]
    },
    {
     "name": "stdout",
     "output_type": "stream",
     "text": [
      "Train Epoch: 11 [40960/45976 (90%)]\tLoss: 0.934108\n"
     ]
    },
    {
     "name": "stderr",
     "output_type": "stream",
     "text": [
      "100%|██████████| 89/89 [00:14<00:00,  6.18it/s]\n"
     ]
    },
    {
     "name": "stdout",
     "output_type": "stream",
     "text": [
      "Input\t['a', 'n', 'r', 'i']\n",
      "GT\t['অ', 'ঁ', 'র', 'ি']\n",
      "pred\t['আ', 'ন', 'র', 'ি']\n",
      "\n",
      "\n",
      "Input\t['b', 'o', 'g', 'a']\n",
      "GT\t['ব', 'গ', 'া']\n",
      "pred\t['আ', 'ত', 'গ', 'া']\n",
      "\n",
      "\n",
      "Input\t['e', 's', 't', 'a', 'n', 'i', 'y', 'a']\n",
      "GT\t['এ', 'স', '্', 'ত', 'ো', 'ন', 'ি', 'য', '়', 'া']\n",
      "pred\t['এ', 'স', '্', 'ট', 'া', 'ন', 'ি', 'য', '়', 'া']\n",
      "\n",
      "\n",
      "Input\t['m', 'a', 'd', 'h', 'o', 'b', 'i', 'r']\n",
      "GT\t['ম', 'া', 'ধ', 'ব', 'ী', 'র']\n",
      "pred\t['স', 'া', '্', 'া', '্', 'া', 'ি', 'র']\n",
      "\n",
      "\n",
      "\n",
      "Test set: Average loss: 0.9194, Accuracy: 144614/195976 (74%)\n",
      "\n"
     ]
    },
    {
     "name": "stderr",
     "output_type": "stream",
     "text": [
      "  1%|          | 1/89 [00:00<00:14,  6.06it/s]"
     ]
    },
    {
     "name": "stdout",
     "output_type": "stream",
     "text": [
      "Train Epoch: 12 [0/45976 (0%)]\tLoss: 0.837954\n"
     ]
    },
    {
     "name": "stderr",
     "output_type": "stream",
     "text": [
      " 13%|█▎        | 12/89 [00:01<00:11,  6.45it/s]"
     ]
    },
    {
     "name": "stdout",
     "output_type": "stream",
     "text": [
      "Train Epoch: 12 [5120/45976 (11%)]\tLoss: 0.668651\n"
     ]
    },
    {
     "name": "stderr",
     "output_type": "stream",
     "text": [
      " 25%|██▍       | 22/89 [00:03<00:10,  6.27it/s]"
     ]
    },
    {
     "name": "stdout",
     "output_type": "stream",
     "text": [
      "Train Epoch: 12 [10240/45976 (22%)]\tLoss: 0.676101\n"
     ]
    },
    {
     "name": "stderr",
     "output_type": "stream",
     "text": [
      " 36%|███▌      | 32/89 [00:05<00:09,  6.30it/s]"
     ]
    },
    {
     "name": "stdout",
     "output_type": "stream",
     "text": [
      "Train Epoch: 12 [15360/45976 (34%)]\tLoss: 0.582498\n"
     ]
    },
    {
     "name": "stderr",
     "output_type": "stream",
     "text": [
      " 47%|████▋     | 42/89 [00:06<00:07,  6.23it/s]"
     ]
    },
    {
     "name": "stdout",
     "output_type": "stream",
     "text": [
      "Train Epoch: 12 [20480/45976 (45%)]\tLoss: 0.574336\n"
     ]
    },
    {
     "name": "stderr",
     "output_type": "stream",
     "text": [
      " 58%|█████▊    | 52/89 [00:08<00:06,  6.09it/s]"
     ]
    },
    {
     "name": "stdout",
     "output_type": "stream",
     "text": [
      "Train Epoch: 12 [25600/45976 (56%)]\tLoss: 0.617779\n"
     ]
    },
    {
     "name": "stderr",
     "output_type": "stream",
     "text": [
      " 70%|██████▉   | 62/89 [00:09<00:04,  6.35it/s]"
     ]
    },
    {
     "name": "stdout",
     "output_type": "stream",
     "text": [
      "Train Epoch: 12 [30720/45976 (67%)]\tLoss: 0.834581\n"
     ]
    },
    {
     "name": "stderr",
     "output_type": "stream",
     "text": [
      " 81%|████████  | 72/89 [00:11<00:02,  6.20it/s]"
     ]
    },
    {
     "name": "stdout",
     "output_type": "stream",
     "text": [
      "Train Epoch: 12 [35840/45976 (79%)]\tLoss: 0.670515\n"
     ]
    },
    {
     "name": "stderr",
     "output_type": "stream",
     "text": [
      " 92%|█████████▏| 82/89 [00:13<00:01,  6.09it/s]"
     ]
    },
    {
     "name": "stdout",
     "output_type": "stream",
     "text": [
      "Train Epoch: 12 [40960/45976 (90%)]\tLoss: 0.924535\n"
     ]
    },
    {
     "name": "stderr",
     "output_type": "stream",
     "text": [
      "100%|██████████| 89/89 [00:14<00:00,  6.24it/s]\n"
     ]
    },
    {
     "name": "stdout",
     "output_type": "stream",
     "text": [
      "Input\t['a', 'n', 'r', 'i']\n",
      "GT\t['অ', 'ঁ', 'র', 'ি']\n",
      "pred\t['আ', 'ন', 'র', 'র']\n",
      "\n",
      "\n",
      "Input\t['b', 'o', 'g', 'a']\n",
      "GT\t['ব', 'গ', 'া']\n",
      "pred\t['ভ', 'ো', 'গ', 'া']\n",
      "\n",
      "\n",
      "Input\t['e', 's', 't', 'a', 'n', 'i', 'y', 'a']\n",
      "GT\t['এ', 'স', '্', 'ত', 'ো', 'ন', 'ি', 'য', '়', 'া']\n",
      "pred\t['এ', 'শ', '্', 'ট', 'ন', 'ন', 'ি', 'য', '়']\n",
      "\n",
      "\n",
      "Input\t['m', 'a', 'd', 'h', 'o', 'b', 'i', 'r']\n",
      "GT\t['ম', 'া', 'ধ', 'ব', 'ী', 'র']\n",
      "pred\t['স', 'া', 'দ', 'া', '্', 'া', 'ি']\n",
      "\n",
      "\n",
      "\n",
      "Test set: Average loss: 0.9154, Accuracy: 145647/195976 (74%)\n",
      "\n"
     ]
    },
    {
     "name": "stderr",
     "output_type": "stream",
     "text": [
      "  1%|          | 1/89 [00:00<00:13,  6.33it/s]"
     ]
    },
    {
     "name": "stdout",
     "output_type": "stream",
     "text": [
      "Train Epoch: 13 [0/45976 (0%)]\tLoss: 0.839664\n"
     ]
    },
    {
     "name": "stderr",
     "output_type": "stream",
     "text": [
      " 13%|█▎        | 12/89 [00:01<00:12,  6.17it/s]"
     ]
    },
    {
     "name": "stdout",
     "output_type": "stream",
     "text": [
      "Train Epoch: 13 [5120/45976 (11%)]\tLoss: 0.658770\n"
     ]
    },
    {
     "name": "stderr",
     "output_type": "stream",
     "text": [
      " 25%|██▍       | 22/89 [00:03<00:10,  6.31it/s]"
     ]
    },
    {
     "name": "stdout",
     "output_type": "stream",
     "text": [
      "Train Epoch: 13 [10240/45976 (22%)]\tLoss: 0.677862\n"
     ]
    },
    {
     "name": "stderr",
     "output_type": "stream",
     "text": [
      " 36%|███▌      | 32/89 [00:05<00:08,  6.48it/s]"
     ]
    },
    {
     "name": "stdout",
     "output_type": "stream",
     "text": [
      "Train Epoch: 13 [15360/45976 (34%)]\tLoss: 0.590118\n"
     ]
    },
    {
     "name": "stderr",
     "output_type": "stream",
     "text": [
      " 47%|████▋     | 42/89 [00:06<00:07,  6.09it/s]"
     ]
    },
    {
     "name": "stdout",
     "output_type": "stream",
     "text": [
      "Train Epoch: 13 [20480/45976 (45%)]\tLoss: 0.572374\n"
     ]
    },
    {
     "name": "stderr",
     "output_type": "stream",
     "text": [
      " 58%|█████▊    | 52/89 [00:08<00:05,  6.35it/s]"
     ]
    },
    {
     "name": "stdout",
     "output_type": "stream",
     "text": [
      "Train Epoch: 13 [25600/45976 (56%)]\tLoss: 0.622055\n"
     ]
    },
    {
     "name": "stderr",
     "output_type": "stream",
     "text": [
      " 70%|██████▉   | 62/89 [00:09<00:04,  6.35it/s]"
     ]
    },
    {
     "name": "stdout",
     "output_type": "stream",
     "text": [
      "Train Epoch: 13 [30720/45976 (67%)]\tLoss: 0.821553\n"
     ]
    },
    {
     "name": "stderr",
     "output_type": "stream",
     "text": [
      " 81%|████████  | 72/89 [00:11<00:02,  6.38it/s]"
     ]
    },
    {
     "name": "stdout",
     "output_type": "stream",
     "text": [
      "Train Epoch: 13 [35840/45976 (79%)]\tLoss: 0.672427\n"
     ]
    },
    {
     "name": "stderr",
     "output_type": "stream",
     "text": [
      " 92%|█████████▏| 82/89 [00:13<00:01,  6.26it/s]"
     ]
    },
    {
     "name": "stdout",
     "output_type": "stream",
     "text": [
      "Train Epoch: 13 [40960/45976 (90%)]\tLoss: 0.921010\n"
     ]
    },
    {
     "name": "stderr",
     "output_type": "stream",
     "text": [
      "100%|██████████| 89/89 [00:14<00:00,  6.22it/s]\n"
     ]
    },
    {
     "name": "stdout",
     "output_type": "stream",
     "text": [
      "Input\t['a', 'n', 'r', 'i']\n",
      "GT\t['অ', 'ঁ', 'র', 'ি']\n",
      "pred\t['আ', 'ন', 'র', 'র']\n",
      "\n",
      "\n",
      "Input\t['b', 'o', 'g', 'a']\n",
      "GT\t['ব', 'গ', 'া']\n",
      "pred\t['ভ', 'ো', 'গ', 'া']\n",
      "\n",
      "\n",
      "Input\t['e', 's', 't', 'a', 'n', 'i', 'y', 'a']\n",
      "GT\t['এ', 'স', '্', 'ত', 'ো', 'ন', 'ি', 'য', '়', 'া']\n",
      "pred\t['এ', 'শ', '্', 'ট', 'ন', 'ন', 'ি', 'য', '়']\n",
      "\n",
      "\n",
      "Input\t['m', 'a', 'd', 'h', 'o', 'b', 'i', 'r']\n",
      "GT\t['ম', 'া', 'ধ', 'ব', 'ী', 'র']\n",
      "pred\t['স', 'া', 'দ', 'া', '্', 'া', 'ত']\n",
      "\n",
      "\n",
      "\n",
      "Test set: Average loss: 0.9094, Accuracy: 146056/195976 (75%)\n",
      "\n"
     ]
    },
    {
     "name": "stderr",
     "output_type": "stream",
     "text": [
      "  1%|          | 1/89 [00:00<00:14,  5.90it/s]"
     ]
    },
    {
     "name": "stdout",
     "output_type": "stream",
     "text": [
      "Train Epoch: 14 [0/45976 (0%)]\tLoss: 0.837118\n"
     ]
    },
    {
     "name": "stderr",
     "output_type": "stream",
     "text": [
      " 13%|█▎        | 12/89 [00:01<00:11,  6.52it/s]"
     ]
    },
    {
     "name": "stdout",
     "output_type": "stream",
     "text": [
      "Train Epoch: 14 [5120/45976 (11%)]\tLoss: 0.654496\n"
     ]
    },
    {
     "name": "stderr",
     "output_type": "stream",
     "text": [
      " 25%|██▍       | 22/89 [00:03<00:10,  6.39it/s]"
     ]
    },
    {
     "name": "stdout",
     "output_type": "stream",
     "text": [
      "Train Epoch: 14 [10240/45976 (22%)]\tLoss: 0.663555\n"
     ]
    },
    {
     "name": "stderr",
     "output_type": "stream",
     "text": [
      " 36%|███▌      | 32/89 [00:04<00:08,  6.48it/s]"
     ]
    },
    {
     "name": "stdout",
     "output_type": "stream",
     "text": [
      "Train Epoch: 14 [15360/45976 (34%)]\tLoss: 0.573844\n"
     ]
    },
    {
     "name": "stderr",
     "output_type": "stream",
     "text": [
      " 47%|████▋     | 42/89 [00:06<00:07,  6.23it/s]"
     ]
    },
    {
     "name": "stdout",
     "output_type": "stream",
     "text": [
      "Train Epoch: 14 [20480/45976 (45%)]\tLoss: 0.556101\n"
     ]
    },
    {
     "name": "stderr",
     "output_type": "stream",
     "text": [
      " 58%|█████▊    | 52/89 [00:08<00:05,  6.40it/s]"
     ]
    },
    {
     "name": "stdout",
     "output_type": "stream",
     "text": [
      "Train Epoch: 14 [25600/45976 (56%)]\tLoss: 0.596859\n"
     ]
    },
    {
     "name": "stderr",
     "output_type": "stream",
     "text": [
      " 70%|██████▉   | 62/89 [00:09<00:04,  6.13it/s]"
     ]
    },
    {
     "name": "stdout",
     "output_type": "stream",
     "text": [
      "Train Epoch: 14 [30720/45976 (67%)]\tLoss: 0.833165\n"
     ]
    },
    {
     "name": "stderr",
     "output_type": "stream",
     "text": [
      " 81%|████████  | 72/89 [00:11<00:02,  6.38it/s]"
     ]
    },
    {
     "name": "stdout",
     "output_type": "stream",
     "text": [
      "Train Epoch: 14 [35840/45976 (79%)]\tLoss: 0.676596\n"
     ]
    },
    {
     "name": "stderr",
     "output_type": "stream",
     "text": [
      " 92%|█████████▏| 82/89 [00:12<00:01,  6.43it/s]"
     ]
    },
    {
     "name": "stdout",
     "output_type": "stream",
     "text": [
      "Train Epoch: 14 [40960/45976 (90%)]\tLoss: 0.887262\n"
     ]
    },
    {
     "name": "stderr",
     "output_type": "stream",
     "text": [
      "100%|██████████| 89/89 [00:14<00:00,  6.35it/s]\n"
     ]
    },
    {
     "name": "stdout",
     "output_type": "stream",
     "text": [
      "Input\t['a', 'n', 'r', 'i']\n",
      "GT\t['অ', 'ঁ', 'র', 'ি']\n",
      "pred\t['আ', 'ন', 'র', 'ী']\n",
      "\n",
      "\n",
      "Input\t['b', 'o', 'g', 'a']\n",
      "GT\t['ব', 'গ', 'া']\n",
      "pred\t['হ', 'ো', 'গ', 'া']\n",
      "\n",
      "\n",
      "Input\t['e', 's', 't', 'a', 'n', 'i', 'y', 'a']\n",
      "GT\t['এ', 'স', '্', 'ত', 'ো', 'ন', 'ি', 'য', '়', 'া']\n",
      "pred\t['এ', 'স', '্', 'ট', 'ন', 'ন', 'ি', 'য', '়']\n",
      "\n",
      "\n",
      "Input\t['m', 'a', 'd', 'h', 'o', 'b', 'i', 'r']\n",
      "GT\t['ম', 'া', 'ধ', 'ব', 'ী', 'র']\n",
      "pred\t['স', 'া', 'দ', 'া', '্', 'া', '্']\n",
      "\n",
      "\n",
      "\n",
      "Test set: Average loss: 0.9257, Accuracy: 145431/195976 (74%)\n",
      "\n"
     ]
    },
    {
     "name": "stderr",
     "output_type": "stream",
     "text": [
      "  1%|          | 1/89 [00:00<00:13,  6.52it/s]"
     ]
    },
    {
     "name": "stdout",
     "output_type": "stream",
     "text": [
      "Train Epoch: 15 [0/45976 (0%)]\tLoss: 0.780344\n"
     ]
    },
    {
     "name": "stderr",
     "output_type": "stream",
     "text": [
      " 13%|█▎        | 12/89 [00:01<00:13,  5.79it/s]"
     ]
    },
    {
     "name": "stdout",
     "output_type": "stream",
     "text": [
      "Train Epoch: 15 [5120/45976 (11%)]\tLoss: 0.642566\n"
     ]
    },
    {
     "name": "stderr",
     "output_type": "stream",
     "text": [
      " 25%|██▍       | 22/89 [00:03<00:10,  6.11it/s]"
     ]
    },
    {
     "name": "stdout",
     "output_type": "stream",
     "text": [
      "Train Epoch: 15 [10240/45976 (22%)]\tLoss: 0.639620\n"
     ]
    },
    {
     "name": "stderr",
     "output_type": "stream",
     "text": [
      " 36%|███▌      | 32/89 [00:05<00:09,  6.11it/s]"
     ]
    },
    {
     "name": "stdout",
     "output_type": "stream",
     "text": [
      "Train Epoch: 15 [15360/45976 (34%)]\tLoss: 0.568453\n"
     ]
    },
    {
     "name": "stderr",
     "output_type": "stream",
     "text": [
      " 47%|████▋     | 42/89 [00:06<00:07,  5.90it/s]"
     ]
    },
    {
     "name": "stdout",
     "output_type": "stream",
     "text": [
      "Train Epoch: 15 [20480/45976 (45%)]\tLoss: 0.552262\n"
     ]
    },
    {
     "name": "stderr",
     "output_type": "stream",
     "text": [
      " 58%|█████▊    | 52/89 [00:08<00:05,  6.17it/s]"
     ]
    },
    {
     "name": "stdout",
     "output_type": "stream",
     "text": [
      "Train Epoch: 15 [25600/45976 (56%)]\tLoss: 0.580006\n"
     ]
    },
    {
     "name": "stderr",
     "output_type": "stream",
     "text": [
      " 70%|██████▉   | 62/89 [00:10<00:04,  6.38it/s]"
     ]
    },
    {
     "name": "stdout",
     "output_type": "stream",
     "text": [
      "Train Epoch: 15 [30720/45976 (67%)]\tLoss: 0.827745\n"
     ]
    },
    {
     "name": "stderr",
     "output_type": "stream",
     "text": [
      " 81%|████████  | 72/89 [00:11<00:02,  6.10it/s]"
     ]
    },
    {
     "name": "stdout",
     "output_type": "stream",
     "text": [
      "Train Epoch: 15 [35840/45976 (79%)]\tLoss: 0.666150\n"
     ]
    },
    {
     "name": "stderr",
     "output_type": "stream",
     "text": [
      " 92%|█████████▏| 82/89 [00:13<00:01,  6.11it/s]"
     ]
    },
    {
     "name": "stdout",
     "output_type": "stream",
     "text": [
      "Train Epoch: 15 [40960/45976 (90%)]\tLoss: 0.867683\n"
     ]
    },
    {
     "name": "stderr",
     "output_type": "stream",
     "text": [
      "100%|██████████| 89/89 [00:14<00:00,  6.14it/s]\n"
     ]
    },
    {
     "name": "stdout",
     "output_type": "stream",
     "text": [
      "Input\t['a', 'n', 'r', 'i']\n",
      "GT\t['অ', 'ঁ', 'র', 'ি']\n",
      "pred\t['আ', 'ন', 'র', 'র']\n",
      "\n",
      "\n",
      "Input\t['b', 'o', 'g', 'a']\n",
      "GT\t['ব', 'গ', 'া']\n",
      "pred\t['হ', 'ো', 'গ', 'া']\n",
      "\n",
      "\n",
      "Input\t['e', 's', 't', 'a', 'n', 'i', 'y', 'a']\n",
      "GT\t['এ', 'স', '্', 'ত', 'ো', 'ন', 'ি', 'য', '়', 'া']\n",
      "pred\t['এ', 'স', '্', 'ট', 'ন', 'ন', 'ি', 'য', '়']\n",
      "\n",
      "\n",
      "Input\t['m', 'a', 'd', 'h', 'o', 'b', 'i', 'r']\n",
      "GT\t['ম', 'া', 'ধ', 'ব', 'ী', 'র']\n",
      "pred\t['স', 'া', 'দ', 'া', '্', 'র', 'ত']\n",
      "\n",
      "\n",
      "\n",
      "Test set: Average loss: 0.9219, Accuracy: 145209/195976 (74%)\n",
      "\n"
     ]
    },
    {
     "name": "stderr",
     "output_type": "stream",
     "text": [
      "  1%|          | 1/89 [00:00<00:14,  5.97it/s]"
     ]
    },
    {
     "name": "stdout",
     "output_type": "stream",
     "text": [
      "Train Epoch: 16 [0/45976 (0%)]\tLoss: 0.774276\n"
     ]
    },
    {
     "name": "stderr",
     "output_type": "stream",
     "text": [
      " 13%|█▎        | 12/89 [00:02<00:12,  6.22it/s]"
     ]
    },
    {
     "name": "stdout",
     "output_type": "stream",
     "text": [
      "Train Epoch: 16 [5120/45976 (11%)]\tLoss: 0.627211\n"
     ]
    },
    {
     "name": "stderr",
     "output_type": "stream",
     "text": [
      " 25%|██▍       | 22/89 [00:03<00:10,  6.27it/s]"
     ]
    },
    {
     "name": "stdout",
     "output_type": "stream",
     "text": [
      "Train Epoch: 16 [10240/45976 (22%)]\tLoss: 0.618429\n"
     ]
    },
    {
     "name": "stderr",
     "output_type": "stream",
     "text": [
      " 36%|███▌      | 32/89 [00:05<00:09,  6.17it/s]"
     ]
    },
    {
     "name": "stdout",
     "output_type": "stream",
     "text": [
      "Train Epoch: 16 [15360/45976 (34%)]\tLoss: 0.560012\n"
     ]
    },
    {
     "name": "stderr",
     "output_type": "stream",
     "text": [
      " 47%|████▋     | 42/89 [00:06<00:07,  6.12it/s]"
     ]
    },
    {
     "name": "stdout",
     "output_type": "stream",
     "text": [
      "Train Epoch: 16 [20480/45976 (45%)]\tLoss: 0.537698\n"
     ]
    },
    {
     "name": "stderr",
     "output_type": "stream",
     "text": [
      " 58%|█████▊    | 52/89 [00:08<00:06,  6.11it/s]"
     ]
    },
    {
     "name": "stdout",
     "output_type": "stream",
     "text": [
      "Train Epoch: 16 [25600/45976 (56%)]\tLoss: 0.554066\n"
     ]
    },
    {
     "name": "stderr",
     "output_type": "stream",
     "text": [
      " 70%|██████▉   | 62/89 [00:10<00:04,  6.17it/s]"
     ]
    },
    {
     "name": "stdout",
     "output_type": "stream",
     "text": [
      "Train Epoch: 16 [30720/45976 (67%)]\tLoss: 0.836704\n"
     ]
    },
    {
     "name": "stderr",
     "output_type": "stream",
     "text": [
      " 81%|████████  | 72/89 [00:11<00:02,  6.16it/s]"
     ]
    },
    {
     "name": "stdout",
     "output_type": "stream",
     "text": [
      "Train Epoch: 16 [35840/45976 (79%)]\tLoss: 0.645607\n"
     ]
    },
    {
     "name": "stderr",
     "output_type": "stream",
     "text": [
      " 92%|█████████▏| 82/89 [00:13<00:01,  6.03it/s]"
     ]
    },
    {
     "name": "stdout",
     "output_type": "stream",
     "text": [
      "Train Epoch: 16 [40960/45976 (90%)]\tLoss: 0.862566\n"
     ]
    },
    {
     "name": "stderr",
     "output_type": "stream",
     "text": [
      "100%|██████████| 89/89 [00:14<00:00,  6.09it/s]\n"
     ]
    },
    {
     "name": "stdout",
     "output_type": "stream",
     "text": [
      "Input\t['a', 'n', 'r', 'i']\n",
      "GT\t['অ', 'ঁ', 'র', 'ি']\n",
      "pred\t['আ', 'ন', 'র', 'র']\n",
      "\n",
      "\n",
      "Input\t['b', 'o', 'g', 'a']\n",
      "GT\t['ব', 'গ', 'া']\n",
      "pred\t['হ', 'ো', 'গ', 'া']\n",
      "\n",
      "\n",
      "Input\t['e', 's', 't', 'a', 'n', 'i', 'y', 'a']\n",
      "GT\t['এ', 'স', '্', 'ত', 'ো', 'ন', 'ি', 'য', '়', 'া']\n",
      "pred\t['এ', 'স', '্', 'ট', 'ন', 'ন', 'ি', 'য', '়']\n",
      "\n",
      "\n",
      "Input\t['m', 'a', 'd', 'h', 'o', 'b', 'i', 'r']\n",
      "GT\t['ম', 'া', 'ধ', 'ব', 'ী', 'র']\n",
      "pred\t['ফ', 'া', '্', 'া', 'র', 'র', '্']\n",
      "\n",
      "\n",
      "\n",
      "Test set: Average loss: 0.9353, Accuracy: 144884/195976 (74%)\n",
      "\n"
     ]
    },
    {
     "name": "stderr",
     "output_type": "stream",
     "text": [
      "  1%|          | 1/89 [00:00<00:13,  6.46it/s]"
     ]
    },
    {
     "name": "stdout",
     "output_type": "stream",
     "text": [
      "Train Epoch: 17 [0/45976 (0%)]\tLoss: 0.755668\n"
     ]
    },
    {
     "name": "stderr",
     "output_type": "stream",
     "text": [
      " 13%|█▎        | 12/89 [00:01<00:13,  5.77it/s]"
     ]
    },
    {
     "name": "stdout",
     "output_type": "stream",
     "text": [
      "Train Epoch: 17 [5120/45976 (11%)]\tLoss: 0.611520\n"
     ]
    },
    {
     "name": "stderr",
     "output_type": "stream",
     "text": [
      " 25%|██▍       | 22/89 [00:03<00:10,  6.39it/s]"
     ]
    },
    {
     "name": "stdout",
     "output_type": "stream",
     "text": [
      "Train Epoch: 17 [10240/45976 (22%)]\tLoss: 0.607605\n"
     ]
    },
    {
     "name": "stderr",
     "output_type": "stream",
     "text": [
      " 36%|███▌      | 32/89 [00:05<00:08,  6.38it/s]"
     ]
    },
    {
     "name": "stdout",
     "output_type": "stream",
     "text": [
      "Train Epoch: 17 [15360/45976 (34%)]\tLoss: 0.549097\n"
     ]
    },
    {
     "name": "stderr",
     "output_type": "stream",
     "text": [
      " 47%|████▋     | 42/89 [00:06<00:07,  6.44it/s]"
     ]
    },
    {
     "name": "stdout",
     "output_type": "stream",
     "text": [
      "Train Epoch: 17 [20480/45976 (45%)]\tLoss: 0.526433\n"
     ]
    },
    {
     "name": "stderr",
     "output_type": "stream",
     "text": [
      " 58%|█████▊    | 52/89 [00:08<00:05,  6.38it/s]"
     ]
    },
    {
     "name": "stdout",
     "output_type": "stream",
     "text": [
      "Train Epoch: 17 [25600/45976 (56%)]\tLoss: 0.581394\n"
     ]
    },
    {
     "name": "stderr",
     "output_type": "stream",
     "text": [
      " 70%|██████▉   | 62/89 [00:09<00:04,  6.39it/s]"
     ]
    },
    {
     "name": "stdout",
     "output_type": "stream",
     "text": [
      "Train Epoch: 17 [30720/45976 (67%)]\tLoss: 0.811033\n"
     ]
    },
    {
     "name": "stderr",
     "output_type": "stream",
     "text": [
      " 81%|████████  | 72/89 [00:11<00:02,  6.19it/s]"
     ]
    },
    {
     "name": "stdout",
     "output_type": "stream",
     "text": [
      "Train Epoch: 17 [35840/45976 (79%)]\tLoss: 0.638268\n"
     ]
    },
    {
     "name": "stderr",
     "output_type": "stream",
     "text": [
      " 92%|█████████▏| 82/89 [00:12<00:01,  6.31it/s]"
     ]
    },
    {
     "name": "stdout",
     "output_type": "stream",
     "text": [
      "Train Epoch: 17 [40960/45976 (90%)]\tLoss: 0.869131\n"
     ]
    },
    {
     "name": "stderr",
     "output_type": "stream",
     "text": [
      "100%|██████████| 89/89 [00:13<00:00,  6.36it/s]\n"
     ]
    },
    {
     "name": "stdout",
     "output_type": "stream",
     "text": [
      "Input\t['a', 'n', 'r', 'i']\n",
      "GT\t['অ', 'ঁ', 'র', 'ি']\n",
      "pred\t['আ', 'ন', 'র', 'ি']\n",
      "\n",
      "\n",
      "Input\t['b', 'o', 'g', 'a']\n",
      "GT\t['ব', 'গ', 'া']\n",
      "pred\t['ভ', 'ো', 'গ', 'া']\n",
      "\n",
      "\n",
      "Input\t['e', 's', 't', 'a', 'n', 'i', 'y', 'a']\n",
      "GT\t['এ', 'স', '্', 'ত', 'ো', 'ন', 'ি', 'য', '়', 'া']\n",
      "pred\t['এ', '্', 'ট', 'ট', 'ন', 'ি', 'ি', 'য', '়', 'া']\n",
      "\n",
      "\n",
      "Input\t['m', 'a', 'd', 'h', 'o', 'b', 'i', 'r']\n",
      "GT\t['ম', 'া', 'ধ', 'ব', 'ী', 'র']\n",
      "pred\t['ফ', 'া', '্', 'য', 'র', 'া', 'র']\n",
      "\n",
      "\n",
      "\n",
      "Test set: Average loss: 0.9366, Accuracy: 144964/195976 (74%)\n",
      "\n"
     ]
    },
    {
     "name": "stderr",
     "output_type": "stream",
     "text": [
      "  1%|          | 1/89 [00:00<00:14,  6.28it/s]"
     ]
    },
    {
     "name": "stdout",
     "output_type": "stream",
     "text": [
      "Train Epoch: 18 [0/45976 (0%)]\tLoss: 0.741558\n"
     ]
    },
    {
     "name": "stderr",
     "output_type": "stream",
     "text": [
      " 13%|█▎        | 12/89 [00:02<00:12,  6.00it/s]"
     ]
    },
    {
     "name": "stdout",
     "output_type": "stream",
     "text": [
      "Train Epoch: 18 [5120/45976 (11%)]\tLoss: 0.594604\n"
     ]
    },
    {
     "name": "stderr",
     "output_type": "stream",
     "text": [
      " 25%|██▍       | 22/89 [00:03<00:11,  5.62it/s]"
     ]
    },
    {
     "name": "stdout",
     "output_type": "stream",
     "text": [
      "Train Epoch: 18 [10240/45976 (22%)]\tLoss: 0.598808\n"
     ]
    },
    {
     "name": "stderr",
     "output_type": "stream",
     "text": [
      " 36%|███▌      | 32/89 [00:05<00:08,  6.37it/s]"
     ]
    },
    {
     "name": "stdout",
     "output_type": "stream",
     "text": [
      "Train Epoch: 18 [15360/45976 (34%)]\tLoss: 0.546195\n"
     ]
    },
    {
     "name": "stderr",
     "output_type": "stream",
     "text": [
      " 47%|████▋     | 42/89 [00:07<00:07,  6.03it/s]"
     ]
    },
    {
     "name": "stdout",
     "output_type": "stream",
     "text": [
      "Train Epoch: 18 [20480/45976 (45%)]\tLoss: 0.520547\n"
     ]
    },
    {
     "name": "stderr",
     "output_type": "stream",
     "text": [
      " 58%|█████▊    | 52/89 [00:08<00:06,  6.10it/s]"
     ]
    },
    {
     "name": "stdout",
     "output_type": "stream",
     "text": [
      "Train Epoch: 18 [25600/45976 (56%)]\tLoss: 0.532157\n"
     ]
    },
    {
     "name": "stderr",
     "output_type": "stream",
     "text": [
      " 70%|██████▉   | 62/89 [00:10<00:04,  6.30it/s]"
     ]
    },
    {
     "name": "stdout",
     "output_type": "stream",
     "text": [
      "Train Epoch: 18 [30720/45976 (67%)]\tLoss: 0.793485\n"
     ]
    },
    {
     "name": "stderr",
     "output_type": "stream",
     "text": [
      " 81%|████████  | 72/89 [00:12<00:02,  6.08it/s]"
     ]
    },
    {
     "name": "stdout",
     "output_type": "stream",
     "text": [
      "Train Epoch: 18 [35840/45976 (79%)]\tLoss: 0.637583\n"
     ]
    },
    {
     "name": "stderr",
     "output_type": "stream",
     "text": [
      " 92%|█████████▏| 82/89 [00:13<00:01,  6.15it/s]"
     ]
    },
    {
     "name": "stdout",
     "output_type": "stream",
     "text": [
      "Train Epoch: 18 [40960/45976 (90%)]\tLoss: 0.858611\n"
     ]
    },
    {
     "name": "stderr",
     "output_type": "stream",
     "text": [
      "100%|██████████| 89/89 [00:14<00:00,  6.02it/s]\n"
     ]
    },
    {
     "name": "stdout",
     "output_type": "stream",
     "text": [
      "Input\t['a', 'n', 'r', 'i']\n",
      "GT\t['অ', 'ঁ', 'র', 'ি']\n",
      "pred\t['আ', 'ন', 'র', 'ি']\n",
      "\n",
      "\n",
      "Input\t['b', 'o', 'g', 'a']\n",
      "GT\t['ব', 'গ', 'া']\n",
      "pred\t['হ', 'ো', 'গ', 'া']\n",
      "\n",
      "\n",
      "Input\t['e', 's', 't', 'a', 'n', 'i', 'y', 'a']\n",
      "GT\t['এ', 'স', '্', 'ত', 'ো', 'ন', 'ি', 'য', '়', 'া']\n",
      "pred\t['এ', 'স', '্', 'ট', 'ন', 'ন', 'য', 'য', '়', '়']\n",
      "\n",
      "\n",
      "Input\t['m', 'a', 'd', 'h', 'o', 'b', 'i', 'r']\n",
      "GT\t['ম', 'া', 'ধ', 'ব', 'ী', 'র']\n",
      "pred\t['স', 'ম', '্', 'া', 'া', 'া', '্']\n",
      "\n",
      "\n",
      "\n",
      "Test set: Average loss: 0.9665, Accuracy: 144397/195976 (74%)\n",
      "\n"
     ]
    },
    {
     "name": "stderr",
     "output_type": "stream",
     "text": [
      "  1%|          | 1/89 [00:00<00:14,  6.18it/s]"
     ]
    },
    {
     "name": "stdout",
     "output_type": "stream",
     "text": [
      "Train Epoch: 19 [0/45976 (0%)]\tLoss: 0.758782\n"
     ]
    },
    {
     "name": "stderr",
     "output_type": "stream",
     "text": [
      " 13%|█▎        | 12/89 [00:01<00:12,  6.15it/s]"
     ]
    },
    {
     "name": "stdout",
     "output_type": "stream",
     "text": [
      "Train Epoch: 19 [5120/45976 (11%)]\tLoss: 0.589695\n"
     ]
    },
    {
     "name": "stderr",
     "output_type": "stream",
     "text": [
      " 25%|██▍       | 22/89 [00:03<00:10,  6.33it/s]"
     ]
    },
    {
     "name": "stdout",
     "output_type": "stream",
     "text": [
      "Train Epoch: 19 [10240/45976 (22%)]\tLoss: 0.590615\n"
     ]
    },
    {
     "name": "stderr",
     "output_type": "stream",
     "text": [
      " 36%|███▌      | 32/89 [00:05<00:09,  6.19it/s]"
     ]
    },
    {
     "name": "stdout",
     "output_type": "stream",
     "text": [
      "Train Epoch: 19 [15360/45976 (34%)]\tLoss: 0.518381\n"
     ]
    },
    {
     "name": "stderr",
     "output_type": "stream",
     "text": [
      " 47%|████▋     | 42/89 [00:06<00:07,  6.33it/s]"
     ]
    },
    {
     "name": "stdout",
     "output_type": "stream",
     "text": [
      "Train Epoch: 19 [20480/45976 (45%)]\tLoss: 0.511630\n"
     ]
    },
    {
     "name": "stderr",
     "output_type": "stream",
     "text": [
      " 58%|█████▊    | 52/89 [00:08<00:05,  6.30it/s]"
     ]
    },
    {
     "name": "stdout",
     "output_type": "stream",
     "text": [
      "Train Epoch: 19 [25600/45976 (56%)]\tLoss: 0.525009\n"
     ]
    },
    {
     "name": "stderr",
     "output_type": "stream",
     "text": [
      " 70%|██████▉   | 62/89 [00:09<00:04,  6.34it/s]"
     ]
    },
    {
     "name": "stdout",
     "output_type": "stream",
     "text": [
      "Train Epoch: 19 [30720/45976 (67%)]\tLoss: 0.838915\n"
     ]
    },
    {
     "name": "stderr",
     "output_type": "stream",
     "text": [
      " 81%|████████  | 72/89 [00:11<00:02,  6.30it/s]"
     ]
    },
    {
     "name": "stdout",
     "output_type": "stream",
     "text": [
      "Train Epoch: 19 [35840/45976 (79%)]\tLoss: 0.626785\n"
     ]
    },
    {
     "name": "stderr",
     "output_type": "stream",
     "text": [
      " 92%|█████████▏| 82/89 [00:13<00:01,  6.26it/s]"
     ]
    },
    {
     "name": "stdout",
     "output_type": "stream",
     "text": [
      "Train Epoch: 19 [40960/45976 (90%)]\tLoss: 0.834837\n"
     ]
    },
    {
     "name": "stderr",
     "output_type": "stream",
     "text": [
      "100%|██████████| 89/89 [00:14<00:00,  6.26it/s]\n"
     ]
    },
    {
     "name": "stdout",
     "output_type": "stream",
     "text": [
      "Input\t['a', 'n', 'r', 'i']\n",
      "GT\t['অ', 'ঁ', 'র', 'ি']\n",
      "pred\t['আ', 'ন', 'র', 'ি']\n",
      "\n",
      "\n",
      "Input\t['b', 'o', 'g', 'a']\n",
      "GT\t['ব', 'গ', 'া']\n",
      "pred\t['ত', 'ো', 'গ', 'া']\n",
      "\n",
      "\n",
      "Input\t['e', 's', 't', 'a', 'n', 'i', 'y', 'a']\n",
      "GT\t['এ', 'স', '্', 'ত', 'ো', 'ন', 'ি', 'য', '়', 'া']\n",
      "pred\t['এ', 'স', 'ট', 'ট', 'ন', 'ন', 'ি', 'য', '়']\n",
      "\n",
      "\n",
      "Input\t['m', 'a', 'd', 'h', 'o', 'b', 'i', 'r']\n",
      "GT\t['ম', 'া', 'ধ', 'ব', 'ী', 'র']\n",
      "pred\t['স', 'া', '্', 'য', '্', 'া', '্']\n",
      "\n",
      "\n",
      "\n",
      "Test set: Average loss: 0.9596, Accuracy: 144947/195976 (74%)\n",
      "\n"
     ]
    },
    {
     "name": "stderr",
     "output_type": "stream",
     "text": [
      "  1%|          | 1/89 [00:00<00:14,  6.27it/s]"
     ]
    },
    {
     "name": "stdout",
     "output_type": "stream",
     "text": [
      "Train Epoch: 20 [0/45976 (0%)]\tLoss: 0.734872\n"
     ]
    },
    {
     "name": "stderr",
     "output_type": "stream",
     "text": [
      " 13%|█▎        | 12/89 [00:01<00:12,  6.05it/s]"
     ]
    },
    {
     "name": "stdout",
     "output_type": "stream",
     "text": [
      "Train Epoch: 20 [5120/45976 (11%)]\tLoss: 0.564351\n"
     ]
    },
    {
     "name": "stderr",
     "output_type": "stream",
     "text": [
      " 25%|██▍       | 22/89 [00:03<00:10,  6.11it/s]"
     ]
    },
    {
     "name": "stdout",
     "output_type": "stream",
     "text": [
      "Train Epoch: 20 [10240/45976 (22%)]\tLoss: 0.579296\n"
     ]
    },
    {
     "name": "stderr",
     "output_type": "stream",
     "text": [
      " 36%|███▌      | 32/89 [00:05<00:09,  6.25it/s]"
     ]
    },
    {
     "name": "stdout",
     "output_type": "stream",
     "text": [
      "Train Epoch: 20 [15360/45976 (34%)]\tLoss: 0.525153\n"
     ]
    },
    {
     "name": "stderr",
     "output_type": "stream",
     "text": [
      " 47%|████▋     | 42/89 [00:07<00:08,  5.65it/s]"
     ]
    },
    {
     "name": "stdout",
     "output_type": "stream",
     "text": [
      "Train Epoch: 20 [20480/45976 (45%)]\tLoss: 0.495062\n"
     ]
    },
    {
     "name": "stderr",
     "output_type": "stream",
     "text": [
      " 58%|█████▊    | 52/89 [00:08<00:06,  6.00it/s]"
     ]
    },
    {
     "name": "stdout",
     "output_type": "stream",
     "text": [
      "Train Epoch: 20 [25600/45976 (56%)]\tLoss: 0.512542\n"
     ]
    },
    {
     "name": "stderr",
     "output_type": "stream",
     "text": [
      " 70%|██████▉   | 62/89 [00:10<00:04,  6.40it/s]"
     ]
    },
    {
     "name": "stdout",
     "output_type": "stream",
     "text": [
      "Train Epoch: 20 [30720/45976 (67%)]\tLoss: 0.781034\n"
     ]
    },
    {
     "name": "stderr",
     "output_type": "stream",
     "text": [
      " 81%|████████  | 72/89 [00:11<00:02,  6.27it/s]"
     ]
    },
    {
     "name": "stdout",
     "output_type": "stream",
     "text": [
      "Train Epoch: 20 [35840/45976 (79%)]\tLoss: 0.625332\n"
     ]
    },
    {
     "name": "stderr",
     "output_type": "stream",
     "text": [
      " 92%|█████████▏| 82/89 [00:13<00:01,  6.09it/s]"
     ]
    },
    {
     "name": "stdout",
     "output_type": "stream",
     "text": [
      "Train Epoch: 20 [40960/45976 (90%)]\tLoss: 0.825631\n"
     ]
    },
    {
     "name": "stderr",
     "output_type": "stream",
     "text": [
      "100%|██████████| 89/89 [00:14<00:00,  6.10it/s]\n"
     ]
    },
    {
     "name": "stdout",
     "output_type": "stream",
     "text": [
      "Input\t['a', 'n', 'r', 'i']\n",
      "GT\t['অ', 'ঁ', 'র', 'ি']\n",
      "pred\t['আ', 'ন', 'র', 'ি']\n",
      "\n",
      "\n",
      "Input\t['b', 'o', 'g', 'a']\n",
      "GT\t['ব', 'গ', 'া']\n",
      "pred\t['ভ', 'ো', 'গ', 'া']\n",
      "\n",
      "\n",
      "Input\t['e', 's', 't', 'a', 'n', 'i', 'y', 'a']\n",
      "GT\t['এ', 'স', '্', 'ত', 'ো', 'ন', 'ি', 'য', '়', 'া']\n",
      "pred\t['এ', 'স', 'ট', 'ট', 'ন', 'ন', 'ি', 'য', '়', 'া']\n",
      "\n",
      "\n",
      "Input\t['m', 'a', 'd', 'h', 'o', 'b', 'i', 'r']\n",
      "GT\t['ম', 'া', 'ধ', 'ব', 'ী', 'র']\n",
      "pred\t['স', 'া', '্', 'া', 'া', 'া', '্']\n",
      "\n",
      "\n",
      "\n",
      "Test set: Average loss: 0.9706, Accuracy: 144360/195976 (74%)\n",
      "\n"
     ]
    },
    {
     "data": {
      "image/png": "[encoded data removed]",
      "text/plain": [
       "<Figure size 864x432 with 1 Axes>"
      ]
     },
     "metadata": {},
     "output_type": "display_data"
    },
    {
     "data": {
      "image/png": "[encoded data removed]",
      "text/plain": [
       "<Figure size 864x432 with 1 Axes>"
      ]
     },
     "metadata": {},
     "output_type": "display_data"
    }
   ],
   "source": [
    "bn_lstm_model, _, _, _, _ = main('bn', 'lstm')"
   ]
  },
  {
   "cell_type": "code",
   "execution_count": 15,
   "id": "b19001a3",
   "metadata": {},
   "outputs": [
    {
     "name": "stdout",
     "output_type": "stream",
     "text": [
      "Using device cpu\n",
      "num workers: 48\n",
      "Input\t['a', 'n', 'k', 'a', 'n']\n",
      "GT\t['अ', 'ं', 'क', 'न']\n",
      "pred\t['ि', 'ू', 'स', 'स', 'स', 'स', 'स', 'भ', 'भ', 'भ', 'ञ', 'ञ', 'ञ', 'ञ', 'ञ', 'ञ', 'ञ', 'ञ', 'ञ']\n",
      "\n",
      "\n",
      "Input\t['w', 'a', 'h', 'n', 'i', 'y']\n",
      "GT\t['व', 'ह', 'न', 'ी', 'य']\n",
      "pred\t['ि']\n",
      "\n",
      "\n",
      "Input\t['b', 'a', 's', 'i', 'n']\n",
      "GT\t['ब', 'े', 'स', 'ि', 'न']\n",
      "pred\t['ि', 'ू']\n",
      "\n",
      "\n",
      "\n",
      "Test set: Average loss: 4.0993, Accuracy: 3013/119035 (3%)\n",
      "\n"
     ]
    },
    {
     "name": "stderr",
     "output_type": "stream",
     "text": [
      "  3%|▎         | 2/61 [00:00<00:06,  8.43it/s]"
     ]
    },
    {
     "name": "stdout",
     "output_type": "stream",
     "text": [
      "Train Epoch: 0 [0/31587 (0%)]\tLoss: 4.108767\n"
     ]
    },
    {
     "name": "stderr",
     "output_type": "stream",
     "text": [
      " 20%|█▉        | 12/61 [00:01<00:06,  7.77it/s]"
     ]
    },
    {
     "name": "stdout",
     "output_type": "stream",
     "text": [
      "Train Epoch: 0 [5120/31587 (16%)]\tLoss: 1.280263\n"
     ]
    },
    {
     "name": "stderr",
     "output_type": "stream",
     "text": [
      " 36%|███▌      | 22/61 [00:02<00:04,  8.49it/s]"
     ]
    },
    {
     "name": "stdout",
     "output_type": "stream",
     "text": [
      "Train Epoch: 0 [10240/31587 (33%)]\tLoss: 1.168015\n"
     ]
    },
    {
     "name": "stderr",
     "output_type": "stream",
     "text": [
      " 52%|█████▏    | 32/61 [00:03<00:03,  8.43it/s]"
     ]
    },
    {
     "name": "stdout",
     "output_type": "stream",
     "text": [
      "Train Epoch: 0 [15360/31587 (49%)]\tLoss: 1.393260\n"
     ]
    },
    {
     "name": "stderr",
     "output_type": "stream",
     "text": [
      " 69%|██████▉   | 42/61 [00:05<00:02,  8.19it/s]"
     ]
    },
    {
     "name": "stdout",
     "output_type": "stream",
     "text": [
      "Train Epoch: 0 [20480/31587 (66%)]\tLoss: 1.375802\n"
     ]
    },
    {
     "name": "stderr",
     "output_type": "stream",
     "text": [
      " 85%|████████▌ | 52/61 [00:06<00:01,  8.08it/s]"
     ]
    },
    {
     "name": "stdout",
     "output_type": "stream",
     "text": [
      "Train Epoch: 0 [25600/31587 (82%)]\tLoss: 1.161407\n"
     ]
    },
    {
     "name": "stderr",
     "output_type": "stream",
     "text": [
      "100%|██████████| 61/61 [00:07<00:00,  8.25it/s]\n"
     ]
    },
    {
     "name": "stdout",
     "output_type": "stream",
     "text": [
      "Train Epoch: 0 [30720/31587 (98%)]\tLoss: 1.165055\n",
      "Input\t['a', 'n', 'k', 'a', 'n']\n",
      "GT\t['अ', 'ं', 'क', 'न']\n",
      "pred\t['व', 'ं', 'क', 'ा', 'ं']\n",
      "\n",
      "\n",
      "Input\t['w', 'a', 'h', 'n', 'i', 'y']\n",
      "GT\t['व', 'ह', 'न', 'ी', 'य']\n",
      "pred\t['व', 'व', 'ा', 'ं', 'ि', '्']\n",
      "\n",
      "\n",
      "Input\t['b', 'a', 's', 'i', 'n']\n",
      "GT\t['ब', 'े', 'स', 'ि', 'न']\n",
      "pred\t['स', 'ा', 'स', 'ि', 'ं']\n",
      "\n",
      "\n",
      "\n",
      "Test set: Average loss: 1.0958, Accuracy: 84569/119035 (71%)\n",
      "\n"
     ]
    },
    {
     "name": "stderr",
     "output_type": "stream",
     "text": [
      "  3%|▎         | 2/61 [00:00<00:08,  7.33it/s]"
     ]
    },
    {
     "name": "stdout",
     "output_type": "stream",
     "text": [
      "Train Epoch: 1 [0/31587 (0%)]\tLoss: 1.375938\n"
     ]
    },
    {
     "name": "stderr",
     "output_type": "stream",
     "text": [
      " 20%|█▉        | 12/61 [00:01<00:06,  7.58it/s]"
     ]
    },
    {
     "name": "stdout",
     "output_type": "stream",
     "text": [
      "Train Epoch: 1 [5120/31587 (16%)]\tLoss: 0.999725\n"
     ]
    },
    {
     "name": "stderr",
     "output_type": "stream",
     "text": [
      " 36%|███▌      | 22/61 [00:02<00:05,  7.65it/s]"
     ]
    },
    {
     "name": "stdout",
     "output_type": "stream",
     "text": [
      "Train Epoch: 1 [10240/31587 (33%)]\tLoss: 0.940652\n"
     ]
    },
    {
     "name": "stderr",
     "output_type": "stream",
     "text": [
      " 52%|█████▏    | 32/61 [00:04<00:03,  7.75it/s]"
     ]
    },
    {
     "name": "stdout",
     "output_type": "stream",
     "text": [
      "Train Epoch: 1 [15360/31587 (49%)]\tLoss: 1.142698\n"
     ]
    },
    {
     "name": "stderr",
     "output_type": "stream",
     "text": [
      " 69%|██████▉   | 42/61 [00:05<00:02,  7.63it/s]"
     ]
    },
    {
     "name": "stdout",
     "output_type": "stream",
     "text": [
      "Train Epoch: 1 [20480/31587 (66%)]\tLoss: 1.260397\n"
     ]
    },
    {
     "name": "stderr",
     "output_type": "stream",
     "text": [
      " 85%|████████▌ | 52/61 [00:06<00:01,  8.04it/s]"
     ]
    },
    {
     "name": "stdout",
     "output_type": "stream",
     "text": [
      "Train Epoch: 1 [25600/31587 (82%)]\tLoss: 0.916693\n"
     ]
    },
    {
     "name": "stderr",
     "output_type": "stream",
     "text": [
      "100%|██████████| 61/61 [00:07<00:00,  7.71it/s]\n"
     ]
    },
    {
     "name": "stdout",
     "output_type": "stream",
     "text": [
      "Train Epoch: 1 [30720/31587 (98%)]\tLoss: 1.031575\n",
      "Input\t['a', 'n', 'k', 'a', 'n']\n",
      "GT\t['अ', 'ं', 'क', 'न']\n",
      "pred\t['ज', 'न', 'क', 'न']\n",
      "\n",
      "\n",
      "Input\t['w', 'a', 'h', 'n', 'i', 'y']\n",
      "GT\t['व', 'ह', 'न', 'ी', 'य']\n",
      "pred\t['व', 'व', 'व', 'न']\n",
      "\n",
      "\n",
      "Input\t['b', 'a', 's', 'i', 'n']\n",
      "GT\t['ब', 'े', 'स', 'ि', 'न']\n",
      "pred\t['ब', 'ा', 'स', '्', 'ं']\n",
      "\n",
      "\n",
      "\n",
      "Test set: Average loss: 0.9209, Accuracy: 88913/119035 (75%)\n",
      "\n"
     ]
    },
    {
     "name": "stderr",
     "output_type": "stream",
     "text": [
      "  3%|▎         | 2/61 [00:00<00:07,  8.26it/s]"
     ]
    },
    {
     "name": "stdout",
     "output_type": "stream",
     "text": [
      "Train Epoch: 2 [0/31587 (0%)]\tLoss: 1.118819\n"
     ]
    },
    {
     "name": "stderr",
     "output_type": "stream",
     "text": [
      " 20%|█▉        | 12/61 [00:01<00:06,  8.15it/s]"
     ]
    },
    {
     "name": "stdout",
     "output_type": "stream",
     "text": [
      "Train Epoch: 2 [5120/31587 (16%)]\tLoss: 0.945553\n"
     ]
    },
    {
     "name": "stderr",
     "output_type": "stream",
     "text": [
      " 36%|███▌      | 22/61 [00:02<00:04,  8.18it/s]"
     ]
    },
    {
     "name": "stdout",
     "output_type": "stream",
     "text": [
      "Train Epoch: 2 [10240/31587 (33%)]\tLoss: 0.812669\n"
     ]
    },
    {
     "name": "stderr",
     "output_type": "stream",
     "text": [
      " 52%|█████▏    | 32/61 [00:04<00:03,  7.78it/s]"
     ]
    },
    {
     "name": "stdout",
     "output_type": "stream",
     "text": [
      "Train Epoch: 2 [15360/31587 (49%)]\tLoss: 1.072902\n"
     ]
    },
    {
     "name": "stderr",
     "output_type": "stream",
     "text": [
      " 69%|██████▉   | 42/61 [00:05<00:02,  7.79it/s]"
     ]
    },
    {
     "name": "stdout",
     "output_type": "stream",
     "text": [
      "Train Epoch: 2 [20480/31587 (66%)]\tLoss: 1.158011\n"
     ]
    },
    {
     "name": "stderr",
     "output_type": "stream",
     "text": [
      " 85%|████████▌ | 52/61 [00:06<00:01,  7.86it/s]"
     ]
    },
    {
     "name": "stdout",
     "output_type": "stream",
     "text": [
      "Train Epoch: 2 [25600/31587 (82%)]\tLoss: 0.712000\n"
     ]
    },
    {
     "name": "stderr",
     "output_type": "stream",
     "text": [
      "100%|██████████| 61/61 [00:07<00:00,  7.87it/s]\n"
     ]
    },
    {
     "name": "stdout",
     "output_type": "stream",
     "text": [
      "Train Epoch: 2 [30720/31587 (98%)]\tLoss: 0.925002\n",
      "Input\t['a', 'n', 'k', 'a', 'n']\n",
      "GT\t['अ', 'ं', 'क', 'न']\n",
      "pred\t['आ', 'न', 'क', 'ा']\n",
      "\n",
      "\n",
      "Input\t['w', 'a', 'h', 'n', 'i', 'y']\n",
      "GT\t['व', 'ह', 'न', 'ी', 'य']\n",
      "pred\t['व', 'ा', 'ह', 'न', 'ी', 'य']\n",
      "\n",
      "\n",
      "Input\t['b', 'a', 's', 'i', 'n']\n",
      "GT\t['ब', 'े', 'स', 'ि', 'न']\n",
      "pred\t['ब', 'ा', 'स', 'ि', 'ं']\n",
      "\n",
      "\n",
      "\n",
      "Test set: Average loss: 0.8094, Accuracy: 91179/119035 (77%)\n",
      "\n"
     ]
    },
    {
     "name": "stderr",
     "output_type": "stream",
     "text": [
      "  3%|▎         | 2/61 [00:00<00:06,  8.58it/s]"
     ]
    },
    {
     "name": "stdout",
     "output_type": "stream",
     "text": [
      "Train Epoch: 3 [0/31587 (0%)]\tLoss: 0.883383\n"
     ]
    },
    {
     "name": "stderr",
     "output_type": "stream",
     "text": [
      " 20%|█▉        | 12/61 [00:01<00:06,  7.98it/s]"
     ]
    },
    {
     "name": "stdout",
     "output_type": "stream",
     "text": [
      "Train Epoch: 3 [5120/31587 (16%)]\tLoss: 0.817636\n"
     ]
    },
    {
     "name": "stderr",
     "output_type": "stream",
     "text": [
      " 36%|███▌      | 22/61 [00:02<00:04,  7.94it/s]"
     ]
    },
    {
     "name": "stdout",
     "output_type": "stream",
     "text": [
      "Train Epoch: 3 [10240/31587 (33%)]\tLoss: 0.712358\n"
     ]
    },
    {
     "name": "stderr",
     "output_type": "stream",
     "text": [
      " 52%|█████▏    | 32/61 [00:03<00:03,  8.25it/s]"
     ]
    },
    {
     "name": "stdout",
     "output_type": "stream",
     "text": [
      "Train Epoch: 3 [15360/31587 (49%)]\tLoss: 1.015988\n"
     ]
    },
    {
     "name": "stderr",
     "output_type": "stream",
     "text": [
      " 69%|██████▉   | 42/61 [00:05<00:02,  7.93it/s]"
     ]
    },
    {
     "name": "stdout",
     "output_type": "stream",
     "text": [
      "Train Epoch: 3 [20480/31587 (66%)]\tLoss: 1.087986\n"
     ]
    },
    {
     "name": "stderr",
     "output_type": "stream",
     "text": [
      " 85%|████████▌ | 52/61 [00:06<00:01,  7.73it/s]"
     ]
    },
    {
     "name": "stdout",
     "output_type": "stream",
     "text": [
      "Train Epoch: 3 [25600/31587 (82%)]\tLoss: 0.661297\n"
     ]
    },
    {
     "name": "stderr",
     "output_type": "stream",
     "text": [
      "100%|██████████| 61/61 [00:07<00:00,  8.00it/s]\n"
     ]
    },
    {
     "name": "stdout",
     "output_type": "stream",
     "text": [
      "Train Epoch: 3 [30720/31587 (98%)]\tLoss: 0.866558\n",
      "Input\t['a', 'n', 'k', 'a', 'n']\n",
      "GT\t['अ', 'ं', 'क', 'न']\n",
      "pred\t['आ', 'न', 'क', 'ा']\n",
      "\n",
      "\n",
      "Input\t['w', 'a', 'h', 'n', 'i', 'y']\n",
      "GT\t['व', 'ह', 'न', 'ी', 'य']\n",
      "pred\t['व', 'ा', 'ह', 'न', 'ी', 'य']\n",
      "\n",
      "\n",
      "Input\t['b', 'a', 's', 'i', 'n']\n",
      "GT\t['ब', 'े', 'स', 'ि', 'न']\n",
      "pred\t['ब', 'ा', 'स', 'ि', 'ं']\n",
      "\n",
      "\n",
      "\n",
      "Test set: Average loss: 0.7402, Accuracy: 92843/119035 (78%)\n",
      "\n"
     ]
    },
    {
     "name": "stderr",
     "output_type": "stream",
     "text": [
      "  3%|▎         | 2/61 [00:00<00:07,  8.22it/s]"
     ]
    },
    {
     "name": "stdout",
     "output_type": "stream",
     "text": [
      "Train Epoch: 4 [0/31587 (0%)]\tLoss: 0.850701\n"
     ]
    },
    {
     "name": "stderr",
     "output_type": "stream",
     "text": [
      " 20%|█▉        | 12/61 [00:01<00:06,  8.10it/s]"
     ]
    },
    {
     "name": "stdout",
     "output_type": "stream",
     "text": [
      "Train Epoch: 4 [5120/31587 (16%)]\tLoss: 0.766184\n"
     ]
    },
    {
     "name": "stderr",
     "output_type": "stream",
     "text": [
      " 36%|███▌      | 22/61 [00:02<00:04,  8.07it/s]"
     ]
    },
    {
     "name": "stdout",
     "output_type": "stream",
     "text": [
      "Train Epoch: 4 [10240/31587 (33%)]\tLoss: 0.648201\n"
     ]
    },
    {
     "name": "stderr",
     "output_type": "stream",
     "text": [
      " 52%|█████▏    | 32/61 [00:03<00:03,  8.07it/s]"
     ]
    },
    {
     "name": "stdout",
     "output_type": "stream",
     "text": [
      "Train Epoch: 4 [15360/31587 (49%)]\tLoss: 0.980782\n"
     ]
    },
    {
     "name": "stderr",
     "output_type": "stream",
     "text": [
      " 69%|██████▉   | 42/61 [00:05<00:02,  8.33it/s]"
     ]
    },
    {
     "name": "stdout",
     "output_type": "stream",
     "text": [
      "Train Epoch: 4 [20480/31587 (66%)]\tLoss: 0.988496\n"
     ]
    },
    {
     "name": "stderr",
     "output_type": "stream",
     "text": [
      " 85%|████████▌ | 52/61 [00:06<00:01,  7.77it/s]"
     ]
    },
    {
     "name": "stdout",
     "output_type": "stream",
     "text": [
      "Train Epoch: 4 [25600/31587 (82%)]\tLoss: 0.627256\n"
     ]
    },
    {
     "name": "stderr",
     "output_type": "stream",
     "text": [
      "100%|██████████| 61/61 [00:07<00:00,  8.08it/s]\n"
     ]
    },
    {
     "name": "stdout",
     "output_type": "stream",
     "text": [
      "Train Epoch: 4 [30720/31587 (98%)]\tLoss: 0.778844\n",
      "Input\t['a', 'n', 'k', 'a', 'n']\n",
      "GT\t['अ', 'ं', 'क', 'न']\n",
      "pred\t['अ', 'न', 'क', 'ा', 'न']\n",
      "\n",
      "\n",
      "Input\t['w', 'a', 'h', 'n', 'i', 'y']\n",
      "GT\t['व', 'ह', 'न', 'ी', 'य']\n",
      "pred\t['व', 'ा', 'ह', 'न', 'ी', 'य']\n",
      "\n",
      "\n",
      "Input\t['b', 'a', 's', 'i', 'n']\n",
      "GT\t['ब', 'े', 'स', 'ि', 'न']\n",
      "pred\t['ब', 'ा', 'स', 'ि', 'न']\n",
      "\n",
      "\n",
      "\n",
      "Test set: Average loss: 0.7080, Accuracy: 93457/119035 (79%)\n",
      "\n"
     ]
    },
    {
     "name": "stderr",
     "output_type": "stream",
     "text": [
      "  3%|▎         | 2/61 [00:00<00:06,  8.55it/s]"
     ]
    },
    {
     "name": "stdout",
     "output_type": "stream",
     "text": [
      "Train Epoch: 5 [0/31587 (0%)]\tLoss: 0.738731\n"
     ]
    },
    {
     "name": "stderr",
     "output_type": "stream",
     "text": [
      " 20%|█▉        | 12/61 [00:01<00:06,  7.73it/s]"
     ]
    },
    {
     "name": "stdout",
     "output_type": "stream",
     "text": [
      "Train Epoch: 5 [5120/31587 (16%)]\tLoss: 0.718870\n"
     ]
    },
    {
     "name": "stderr",
     "output_type": "stream",
     "text": [
      " 36%|███▌      | 22/61 [00:02<00:04,  8.43it/s]"
     ]
    },
    {
     "name": "stdout",
     "output_type": "stream",
     "text": [
      "Train Epoch: 5 [10240/31587 (33%)]\tLoss: 0.632909\n"
     ]
    },
    {
     "name": "stderr",
     "output_type": "stream",
     "text": [
      " 52%|█████▏    | 32/61 [00:03<00:03,  8.25it/s]"
     ]
    },
    {
     "name": "stdout",
     "output_type": "stream",
     "text": [
      "Train Epoch: 5 [15360/31587 (49%)]\tLoss: 0.932917\n"
     ]
    },
    {
     "name": "stderr",
     "output_type": "stream",
     "text": [
      " 69%|██████▉   | 42/61 [00:05<00:02,  8.63it/s]"
     ]
    },
    {
     "name": "stdout",
     "output_type": "stream",
     "text": [
      "Train Epoch: 5 [20480/31587 (66%)]\tLoss: 0.948659\n"
     ]
    },
    {
     "name": "stderr",
     "output_type": "stream",
     "text": [
      " 85%|████████▌ | 52/61 [00:06<00:01,  8.36it/s]"
     ]
    },
    {
     "name": "stdout",
     "output_type": "stream",
     "text": [
      "Train Epoch: 5 [25600/31587 (82%)]\tLoss: 0.581811\n"
     ]
    },
    {
     "name": "stderr",
     "output_type": "stream",
     "text": [
      "100%|██████████| 61/61 [00:07<00:00,  8.35it/s]\n"
     ]
    },
    {
     "name": "stdout",
     "output_type": "stream",
     "text": [
      "Train Epoch: 5 [30720/31587 (98%)]\tLoss: 0.775078\n",
      "Input\t['a', 'n', 'k', 'a', 'n']\n",
      "GT\t['अ', 'ं', 'क', 'न']\n",
      "pred\t['आ', 'न', 'क', 'ा']\n",
      "\n",
      "\n",
      "Input\t['w', 'a', 'h', 'n', 'i', 'y']\n",
      "GT\t['व', 'ह', 'न', 'ी', 'य']\n",
      "pred\t['व', 'ा', 'ह', 'न', 'ी', 'य']\n",
      "\n",
      "\n",
      "Input\t['b', 'a', 's', 'i', 'n']\n",
      "GT\t['ब', 'े', 'स', 'ि', 'न']\n",
      "pred\t['ब', 'ा', 'स']\n",
      "\n",
      "\n",
      "\n",
      "Test set: Average loss: 0.6962, Accuracy: 93426/119035 (78%)\n",
      "\n"
     ]
    },
    {
     "name": "stderr",
     "output_type": "stream",
     "text": [
      "  3%|▎         | 2/61 [00:00<00:06,  8.53it/s]"
     ]
    },
    {
     "name": "stdout",
     "output_type": "stream",
     "text": [
      "Train Epoch: 6 [0/31587 (0%)]\tLoss: 0.798871\n"
     ]
    },
    {
     "name": "stderr",
     "output_type": "stream",
     "text": [
      " 20%|█▉        | 12/61 [00:01<00:05,  8.38it/s]"
     ]
    },
    {
     "name": "stdout",
     "output_type": "stream",
     "text": [
      "Train Epoch: 6 [5120/31587 (16%)]\tLoss: 0.716682\n"
     ]
    },
    {
     "name": "stderr",
     "output_type": "stream",
     "text": [
      " 36%|███▌      | 22/61 [00:02<00:04,  8.17it/s]"
     ]
    },
    {
     "name": "stdout",
     "output_type": "stream",
     "text": [
      "Train Epoch: 6 [10240/31587 (33%)]\tLoss: 0.571244\n"
     ]
    },
    {
     "name": "stderr",
     "output_type": "stream",
     "text": [
      " 52%|█████▏    | 32/61 [00:03<00:03,  8.27it/s]"
     ]
    },
    {
     "name": "stdout",
     "output_type": "stream",
     "text": [
      "Train Epoch: 6 [15360/31587 (49%)]\tLoss: 0.879983\n"
     ]
    },
    {
     "name": "stderr",
     "output_type": "stream",
     "text": [
      " 69%|██████▉   | 42/61 [00:05<00:02,  8.23it/s]"
     ]
    },
    {
     "name": "stdout",
     "output_type": "stream",
     "text": [
      "Train Epoch: 6 [20480/31587 (66%)]\tLoss: 0.884896\n"
     ]
    },
    {
     "name": "stderr",
     "output_type": "stream",
     "text": [
      " 85%|████████▌ | 52/61 [00:06<00:01,  7.72it/s]"
     ]
    },
    {
     "name": "stdout",
     "output_type": "stream",
     "text": [
      "Train Epoch: 6 [25600/31587 (82%)]\tLoss: 0.546616\n"
     ]
    },
    {
     "name": "stderr",
     "output_type": "stream",
     "text": [
      "100%|██████████| 61/61 [00:07<00:00,  8.11it/s]\n"
     ]
    },
    {
     "name": "stdout",
     "output_type": "stream",
     "text": [
      "Train Epoch: 6 [30720/31587 (98%)]\tLoss: 0.733792\n",
      "Input\t['a', 'n', 'k', 'a', 'n']\n",
      "GT\t['अ', 'ं', 'क', 'न']\n",
      "pred\t['अ', 'न', 'क', 'ा']\n",
      "\n",
      "\n",
      "Input\t['w', 'a', 'h', 'n', 'i', 'y']\n",
      "GT\t['व', 'ह', 'न', 'ी', 'य']\n",
      "pred\t['व', 'ा', 'ह', 'न', 'ी', 'य']\n",
      "\n",
      "\n",
      "Input\t['b', 'a', 's', 'i', 'n']\n",
      "GT\t['ब', 'े', 'स', 'ि', 'न']\n",
      "pred\t['ब', 'ा', 'स', 'ी', 'न']\n",
      "\n",
      "\n",
      "\n",
      "Test set: Average loss: 0.6488, Accuracy: 95197/119035 (80%)\n",
      "\n"
     ]
    },
    {
     "name": "stderr",
     "output_type": "stream",
     "text": [
      "  3%|▎         | 2/61 [00:00<00:06,  8.65it/s]"
     ]
    },
    {
     "name": "stdout",
     "output_type": "stream",
     "text": [
      "Train Epoch: 7 [0/31587 (0%)]\tLoss: 0.673209\n"
     ]
    },
    {
     "name": "stderr",
     "output_type": "stream",
     "text": [
      " 20%|█▉        | 12/61 [00:01<00:06,  8.06it/s]"
     ]
    },
    {
     "name": "stdout",
     "output_type": "stream",
     "text": [
      "Train Epoch: 7 [5120/31587 (16%)]\tLoss: 0.685546\n"
     ]
    },
    {
     "name": "stderr",
     "output_type": "stream",
     "text": [
      " 36%|███▌      | 22/61 [00:02<00:04,  8.42it/s]"
     ]
    },
    {
     "name": "stdout",
     "output_type": "stream",
     "text": [
      "Train Epoch: 7 [10240/31587 (33%)]\tLoss: 0.567035\n"
     ]
    },
    {
     "name": "stderr",
     "output_type": "stream",
     "text": [
      " 52%|█████▏    | 32/61 [00:03<00:03,  8.45it/s]"
     ]
    },
    {
     "name": "stdout",
     "output_type": "stream",
     "text": [
      "Train Epoch: 7 [15360/31587 (49%)]\tLoss: 0.837961\n"
     ]
    },
    {
     "name": "stderr",
     "output_type": "stream",
     "text": [
      " 69%|██████▉   | 42/61 [00:05<00:02,  8.04it/s]"
     ]
    },
    {
     "name": "stdout",
     "output_type": "stream",
     "text": [
      "Train Epoch: 7 [20480/31587 (66%)]\tLoss: 0.852899\n"
     ]
    },
    {
     "name": "stderr",
     "output_type": "stream",
     "text": [
      " 85%|████████▌ | 52/61 [00:06<00:01,  8.37it/s]"
     ]
    },
    {
     "name": "stdout",
     "output_type": "stream",
     "text": [
      "Train Epoch: 7 [25600/31587 (82%)]\tLoss: 0.532067\n"
     ]
    },
    {
     "name": "stderr",
     "output_type": "stream",
     "text": [
      "100%|██████████| 61/61 [00:07<00:00,  8.20it/s]\n"
     ]
    },
    {
     "name": "stdout",
     "output_type": "stream",
     "text": [
      "Train Epoch: 7 [30720/31587 (98%)]\tLoss: 0.679442\n",
      "Input\t['a', 'n', 'k', 'a', 'n']\n",
      "GT\t['अ', 'ं', 'क', 'न']\n",
      "pred\t['आ', 'न', 'क', 'ा']\n",
      "\n",
      "\n",
      "Input\t['w', 'a', 'h', 'n', 'i', 'y']\n",
      "GT\t['व', 'ह', 'न', 'ी', 'य']\n",
      "pred\t['व', 'ा', 'ह', 'न', 'ी', 'य']\n",
      "\n",
      "\n",
      "Input\t['b', 'a', 's', 'i', 'n']\n",
      "GT\t['ब', 'े', 'स', 'ि', 'न']\n",
      "pred\t['ब', 'ा', 'स']\n",
      "\n",
      "\n",
      "\n",
      "Test set: Average loss: 0.6443, Accuracy: 95075/119035 (80%)\n",
      "\n"
     ]
    },
    {
     "name": "stderr",
     "output_type": "stream",
     "text": [
      "  3%|▎         | 2/61 [00:00<00:07,  8.10it/s]"
     ]
    },
    {
     "name": "stdout",
     "output_type": "stream",
     "text": [
      "Train Epoch: 8 [0/31587 (0%)]\tLoss: 0.811083\n"
     ]
    },
    {
     "name": "stderr",
     "output_type": "stream",
     "text": [
      " 20%|█▉        | 12/61 [00:01<00:06,  7.78it/s]"
     ]
    },
    {
     "name": "stdout",
     "output_type": "stream",
     "text": [
      "Train Epoch: 8 [5120/31587 (16%)]\tLoss: 0.659014\n"
     ]
    },
    {
     "name": "stderr",
     "output_type": "stream",
     "text": [
      " 36%|███▌      | 22/61 [00:02<00:04,  8.52it/s]"
     ]
    },
    {
     "name": "stdout",
     "output_type": "stream",
     "text": [
      "Train Epoch: 8 [10240/31587 (33%)]\tLoss: 0.522923\n"
     ]
    },
    {
     "name": "stderr",
     "output_type": "stream",
     "text": [
      " 52%|█████▏    | 32/61 [00:03<00:03,  8.29it/s]"
     ]
    },
    {
     "name": "stdout",
     "output_type": "stream",
     "text": [
      "Train Epoch: 8 [15360/31587 (49%)]\tLoss: 0.803573\n"
     ]
    },
    {
     "name": "stderr",
     "output_type": "stream",
     "text": [
      " 69%|██████▉   | 42/61 [00:05<00:02,  7.90it/s]"
     ]
    },
    {
     "name": "stdout",
     "output_type": "stream",
     "text": [
      "Train Epoch: 8 [20480/31587 (66%)]\tLoss: 0.824250\n"
     ]
    },
    {
     "name": "stderr",
     "output_type": "stream",
     "text": [
      " 85%|████████▌ | 52/61 [00:06<00:01,  8.25it/s]"
     ]
    },
    {
     "name": "stdout",
     "output_type": "stream",
     "text": [
      "Train Epoch: 8 [25600/31587 (82%)]\tLoss: 0.523468\n"
     ]
    },
    {
     "name": "stderr",
     "output_type": "stream",
     "text": [
      "100%|██████████| 61/61 [00:07<00:00,  8.09it/s]\n"
     ]
    },
    {
     "name": "stdout",
     "output_type": "stream",
     "text": [
      "Train Epoch: 8 [30720/31587 (98%)]\tLoss: 0.689565\n",
      "Input\t['a', 'n', 'k', 'a', 'n']\n",
      "GT\t['अ', 'ं', 'क', 'न']\n",
      "pred\t['अ', 'न', 'क', 'ा']\n",
      "\n",
      "\n",
      "Input\t['w', 'a', 'h', 'n', 'i', 'y']\n",
      "GT\t['व', 'ह', 'न', 'ी', 'य']\n",
      "pred\t['व', 'व', 'ह', 'न', 'ी', 'य']\n",
      "\n",
      "\n",
      "Input\t['b', 'a', 's', 'i', 'n']\n",
      "GT\t['ब', 'े', 'स', 'ि', 'न']\n",
      "pred\t['ब', 'ै', 'स', 'न', 'न']\n",
      "\n",
      "\n",
      "\n",
      "Test set: Average loss: 0.6245, Accuracy: 95691/119035 (80%)\n",
      "\n"
     ]
    },
    {
     "name": "stderr",
     "output_type": "stream",
     "text": [
      "  3%|▎         | 2/61 [00:00<00:07,  8.12it/s]"
     ]
    },
    {
     "name": "stdout",
     "output_type": "stream",
     "text": [
      "Train Epoch: 9 [0/31587 (0%)]\tLoss: 0.627867\n"
     ]
    },
    {
     "name": "stderr",
     "output_type": "stream",
     "text": [
      " 20%|█▉        | 12/61 [00:01<00:05,  8.44it/s]"
     ]
    },
    {
     "name": "stdout",
     "output_type": "stream",
     "text": [
      "Train Epoch: 9 [5120/31587 (16%)]\tLoss: 0.654549\n"
     ]
    },
    {
     "name": "stderr",
     "output_type": "stream",
     "text": [
      " 36%|███▌      | 22/61 [00:02<00:04,  8.32it/s]"
     ]
    },
    {
     "name": "stdout",
     "output_type": "stream",
     "text": [
      "Train Epoch: 9 [10240/31587 (33%)]\tLoss: 0.532199\n"
     ]
    },
    {
     "name": "stderr",
     "output_type": "stream",
     "text": [
      " 52%|█████▏    | 32/61 [00:03<00:03,  8.26it/s]"
     ]
    },
    {
     "name": "stdout",
     "output_type": "stream",
     "text": [
      "Train Epoch: 9 [15360/31587 (49%)]\tLoss: 0.791465\n"
     ]
    },
    {
     "name": "stderr",
     "output_type": "stream",
     "text": [
      " 69%|██████▉   | 42/61 [00:05<00:02,  7.92it/s]"
     ]
    },
    {
     "name": "stdout",
     "output_type": "stream",
     "text": [
      "Train Epoch: 9 [20480/31587 (66%)]\tLoss: 0.801165\n"
     ]
    },
    {
     "name": "stderr",
     "output_type": "stream",
     "text": [
      " 85%|████████▌ | 52/61 [00:06<00:01,  8.17it/s]"
     ]
    },
    {
     "name": "stdout",
     "output_type": "stream",
     "text": [
      "Train Epoch: 9 [25600/31587 (82%)]\tLoss: 0.495283\n"
     ]
    },
    {
     "name": "stderr",
     "output_type": "stream",
     "text": [
      "100%|██████████| 61/61 [00:07<00:00,  8.07it/s]\n"
     ]
    },
    {
     "name": "stdout",
     "output_type": "stream",
     "text": [
      "Train Epoch: 9 [30720/31587 (98%)]\tLoss: 0.635111\n",
      "Input\t['a', 'n', 'k', 'a', 'n']\n",
      "GT\t['अ', 'ं', 'क', 'न']\n",
      "pred\t['आ', 'न', 'क', 'ा']\n",
      "\n",
      "\n",
      "Input\t['w', 'a', 'h', 'n', 'i', 'y']\n",
      "GT\t['व', 'ह', 'न', 'ी', 'य']\n",
      "pred\t['व', 'व', 'ा', 'न', 'ी', 'य']\n",
      "\n",
      "\n",
      "Input\t['b', 'a', 's', 'i', 'n']\n",
      "GT\t['ब', 'े', 'स', 'ि', 'न']\n",
      "pred\t['ब', 'ै', 'स', 'न', 'न']\n",
      "\n",
      "\n",
      "\n",
      "Test set: Average loss: 0.6354, Accuracy: 95160/119035 (80%)\n",
      "\n"
     ]
    },
    {
     "name": "stderr",
     "output_type": "stream",
     "text": [
      "  3%|▎         | 2/61 [00:00<00:07,  8.26it/s]"
     ]
    },
    {
     "name": "stdout",
     "output_type": "stream",
     "text": [
      "Train Epoch: 10 [0/31587 (0%)]\tLoss: 0.786256\n"
     ]
    },
    {
     "name": "stderr",
     "output_type": "stream",
     "text": [
      " 20%|█▉        | 12/61 [00:01<00:06,  7.92it/s]"
     ]
    },
    {
     "name": "stdout",
     "output_type": "stream",
     "text": [
      "Train Epoch: 10 [5120/31587 (16%)]\tLoss: 0.632020\n"
     ]
    },
    {
     "name": "stderr",
     "output_type": "stream",
     "text": [
      " 36%|███▌      | 22/61 [00:02<00:04,  8.15it/s]"
     ]
    },
    {
     "name": "stdout",
     "output_type": "stream",
     "text": [
      "Train Epoch: 10 [10240/31587 (33%)]\tLoss: 0.500979\n"
     ]
    },
    {
     "name": "stderr",
     "output_type": "stream",
     "text": [
      " 52%|█████▏    | 32/61 [00:04<00:04,  7.18it/s]"
     ]
    },
    {
     "name": "stdout",
     "output_type": "stream",
     "text": [
      "Train Epoch: 10 [15360/31587 (49%)]\tLoss: 0.807315\n"
     ]
    },
    {
     "name": "stderr",
     "output_type": "stream",
     "text": [
      " 69%|██████▉   | 42/61 [00:05<00:02,  7.69it/s]"
     ]
    },
    {
     "name": "stdout",
     "output_type": "stream",
     "text": [
      "Train Epoch: 10 [20480/31587 (66%)]\tLoss: 0.799586\n"
     ]
    },
    {
     "name": "stderr",
     "output_type": "stream",
     "text": [
      " 85%|████████▌ | 52/61 [00:06<00:01,  7.85it/s]"
     ]
    },
    {
     "name": "stdout",
     "output_type": "stream",
     "text": [
      "Train Epoch: 10 [25600/31587 (82%)]\tLoss: 0.494995\n"
     ]
    },
    {
     "name": "stderr",
     "output_type": "stream",
     "text": [
      "100%|██████████| 61/61 [00:07<00:00,  7.72it/s]\n"
     ]
    },
    {
     "name": "stdout",
     "output_type": "stream",
     "text": [
      "Train Epoch: 10 [30720/31587 (98%)]\tLoss: 0.617017\n",
      "Input\t['a', 'n', 'k', 'a', 'n']\n",
      "GT\t['अ', 'ं', 'क', 'न']\n",
      "pred\t['अ', 'न', 'क', 'ा']\n",
      "\n",
      "\n",
      "Input\t['w', 'a', 'h', 'n', 'i', 'y']\n",
      "GT\t['व', 'ह', 'न', 'ी', 'य']\n",
      "pred\t['व', 'ा', 'ा', 'न', 'ि', 'य']\n",
      "\n",
      "\n",
      "Input\t['b', 'a', 's', 'i', 'n']\n",
      "GT\t['ब', 'े', 'स', 'ि', 'न']\n",
      "pred\t['ब', 'ै', 'स', 'न', 'न']\n",
      "\n",
      "\n",
      "\n",
      "Test set: Average loss: 0.6496, Accuracy: 94855/119035 (80%)\n",
      "\n"
     ]
    },
    {
     "name": "stderr",
     "output_type": "stream",
     "text": [
      "  3%|▎         | 2/61 [00:00<00:07,  7.61it/s]"
     ]
    },
    {
     "name": "stdout",
     "output_type": "stream",
     "text": [
      "Train Epoch: 11 [0/31587 (0%)]\tLoss: 0.579075\n"
     ]
    },
    {
     "name": "stderr",
     "output_type": "stream",
     "text": [
      " 20%|█▉        | 12/61 [00:01<00:06,  7.72it/s]"
     ]
    },
    {
     "name": "stdout",
     "output_type": "stream",
     "text": [
      "Train Epoch: 11 [5120/31587 (16%)]\tLoss: 0.620088\n"
     ]
    },
    {
     "name": "stderr",
     "output_type": "stream",
     "text": [
      " 36%|███▌      | 22/61 [00:02<00:05,  7.71it/s]"
     ]
    },
    {
     "name": "stdout",
     "output_type": "stream",
     "text": [
      "Train Epoch: 11 [10240/31587 (33%)]\tLoss: 0.530503\n"
     ]
    },
    {
     "name": "stderr",
     "output_type": "stream",
     "text": [
      " 52%|█████▏    | 32/61 [00:04<00:03,  7.69it/s]"
     ]
    },
    {
     "name": "stdout",
     "output_type": "stream",
     "text": [
      "Train Epoch: 11 [15360/31587 (49%)]\tLoss: 0.767886\n"
     ]
    },
    {
     "name": "stderr",
     "output_type": "stream",
     "text": [
      " 69%|██████▉   | 42/61 [00:05<00:02,  7.71it/s]"
     ]
    },
    {
     "name": "stdout",
     "output_type": "stream",
     "text": [
      "Train Epoch: 11 [20480/31587 (66%)]\tLoss: 0.784190\n"
     ]
    },
    {
     "name": "stderr",
     "output_type": "stream",
     "text": [
      " 85%|████████▌ | 52/61 [00:06<00:01,  7.75it/s]"
     ]
    },
    {
     "name": "stdout",
     "output_type": "stream",
     "text": [
      "Train Epoch: 11 [25600/31587 (82%)]\tLoss: 0.500497\n"
     ]
    },
    {
     "name": "stderr",
     "output_type": "stream",
     "text": [
      "100%|██████████| 61/61 [00:07<00:00,  7.77it/s]\n"
     ]
    },
    {
     "name": "stdout",
     "output_type": "stream",
     "text": [
      "Train Epoch: 11 [30720/31587 (98%)]\tLoss: 0.615275\n",
      "Input\t['a', 'n', 'k', 'a', 'n']\n",
      "GT\t['अ', 'ं', 'क', 'न']\n",
      "pred\t['आ', 'न', 'क', 'ा']\n",
      "\n",
      "\n",
      "Input\t['w', 'a', 'h', 'n', 'i', 'y']\n",
      "GT\t['व', 'ह', 'न', 'ी', 'य']\n",
      "pred\t['व', 'व', 'ा', 'न', 'ि', 'य']\n",
      "\n",
      "\n",
      "Input\t['b', 'a', 's', 'i', 'n']\n",
      "GT\t['ब', 'े', 'स', 'ि', 'न']\n",
      "pred\t['ब', 'ै', 'स', 'ि', 'न']\n",
      "\n",
      "\n",
      "\n",
      "Test set: Average loss: 0.6662, Accuracy: 94263/119035 (79%)\n",
      "\n"
     ]
    },
    {
     "name": "stderr",
     "output_type": "stream",
     "text": [
      "  3%|▎         | 2/61 [00:00<00:07,  8.38it/s]"
     ]
    },
    {
     "name": "stdout",
     "output_type": "stream",
     "text": [
      "Train Epoch: 12 [0/31587 (0%)]\tLoss: 0.749409\n"
     ]
    },
    {
     "name": "stderr",
     "output_type": "stream",
     "text": [
      " 20%|█▉        | 12/61 [00:01<00:06,  8.14it/s]"
     ]
    },
    {
     "name": "stdout",
     "output_type": "stream",
     "text": [
      "Train Epoch: 12 [5120/31587 (16%)]\tLoss: 0.636043\n"
     ]
    },
    {
     "name": "stderr",
     "output_type": "stream",
     "text": [
      " 36%|███▌      | 22/61 [00:02<00:04,  7.92it/s]"
     ]
    },
    {
     "name": "stdout",
     "output_type": "stream",
     "text": [
      "Train Epoch: 12 [10240/31587 (33%)]\tLoss: 0.471324\n"
     ]
    },
    {
     "name": "stderr",
     "output_type": "stream",
     "text": [
      " 52%|█████▏    | 32/61 [00:04<00:03,  7.86it/s]"
     ]
    },
    {
     "name": "stdout",
     "output_type": "stream",
     "text": [
      "Train Epoch: 12 [15360/31587 (49%)]\tLoss: 0.823311\n"
     ]
    },
    {
     "name": "stderr",
     "output_type": "stream",
     "text": [
      " 69%|██████▉   | 42/61 [00:05<00:02,  8.27it/s]"
     ]
    },
    {
     "name": "stdout",
     "output_type": "stream",
     "text": [
      "Train Epoch: 12 [20480/31587 (66%)]\tLoss: 0.751686\n"
     ]
    },
    {
     "name": "stderr",
     "output_type": "stream",
     "text": [
      " 85%|████████▌ | 52/61 [00:06<00:01,  8.49it/s]"
     ]
    },
    {
     "name": "stdout",
     "output_type": "stream",
     "text": [
      "Train Epoch: 12 [25600/31587 (82%)]\tLoss: 0.455350\n"
     ]
    },
    {
     "name": "stderr",
     "output_type": "stream",
     "text": [
      "100%|██████████| 61/61 [00:07<00:00,  8.05it/s]\n"
     ]
    },
    {
     "name": "stdout",
     "output_type": "stream",
     "text": [
      "Train Epoch: 12 [30720/31587 (98%)]\tLoss: 0.603438\n",
      "Input\t['a', 'n', 'k', 'a', 'n']\n",
      "GT\t['अ', 'ं', 'क', 'न']\n",
      "pred\t['अ', 'न', 'क', 'ा']\n",
      "\n",
      "\n",
      "Input\t['w', 'a', 'h', 'n', 'i', 'y']\n",
      "GT\t['व', 'ह', 'न', 'ी', 'य']\n",
      "pred\t['व', 'व', 'ा', 'न', 'ि', 'य']\n",
      "\n",
      "\n",
      "Input\t['b', 'a', 's', 'i', 'n']\n",
      "GT\t['ब', 'े', 'स', 'ि', 'न']\n",
      "pred\t['ब', 'ै', 'स', 'न', 'न']\n",
      "\n",
      "\n",
      "\n",
      "Test set: Average loss: 0.6109, Accuracy: 95862/119035 (81%)\n",
      "\n"
     ]
    },
    {
     "name": "stderr",
     "output_type": "stream",
     "text": [
      "  3%|▎         | 2/61 [00:00<00:06,  8.63it/s]"
     ]
    },
    {
     "name": "stdout",
     "output_type": "stream",
     "text": [
      "Train Epoch: 13 [0/31587 (0%)]\tLoss: 0.561023\n"
     ]
    },
    {
     "name": "stderr",
     "output_type": "stream",
     "text": [
      " 20%|█▉        | 12/61 [00:01<00:06,  8.13it/s]"
     ]
    },
    {
     "name": "stdout",
     "output_type": "stream",
     "text": [
      "Train Epoch: 13 [5120/31587 (16%)]\tLoss: 0.586847\n"
     ]
    },
    {
     "name": "stderr",
     "output_type": "stream",
     "text": [
      " 36%|███▌      | 22/61 [00:02<00:04,  8.43it/s]"
     ]
    },
    {
     "name": "stdout",
     "output_type": "stream",
     "text": [
      "Train Epoch: 13 [10240/31587 (33%)]\tLoss: 0.466285\n"
     ]
    },
    {
     "name": "stderr",
     "output_type": "stream",
     "text": [
      " 52%|█████▏    | 32/61 [00:03<00:03,  8.39it/s]"
     ]
    },
    {
     "name": "stdout",
     "output_type": "stream",
     "text": [
      "Train Epoch: 13 [15360/31587 (49%)]\tLoss: 0.774741\n"
     ]
    },
    {
     "name": "stderr",
     "output_type": "stream",
     "text": [
      " 69%|██████▉   | 42/61 [00:05<00:02,  8.34it/s]"
     ]
    },
    {
     "name": "stdout",
     "output_type": "stream",
     "text": [
      "Train Epoch: 13 [20480/31587 (66%)]\tLoss: 0.751507\n"
     ]
    },
    {
     "name": "stderr",
     "output_type": "stream",
     "text": [
      " 85%|████████▌ | 52/61 [00:06<00:01,  7.66it/s]"
     ]
    },
    {
     "name": "stdout",
     "output_type": "stream",
     "text": [
      "Train Epoch: 13 [25600/31587 (82%)]\tLoss: 0.482560\n"
     ]
    },
    {
     "name": "stderr",
     "output_type": "stream",
     "text": [
      "100%|██████████| 61/61 [00:07<00:00,  8.18it/s]\n"
     ]
    },
    {
     "name": "stdout",
     "output_type": "stream",
     "text": [
      "Train Epoch: 13 [30720/31587 (98%)]\tLoss: 0.588907\n",
      "Input\t['a', 'n', 'k', 'a', 'n']\n",
      "GT\t['अ', 'ं', 'क', 'न']\n",
      "pred\t['आ', 'ं', 'क', 'ा']\n",
      "\n",
      "\n",
      "Input\t['w', 'a', 'h', 'n', 'i', 'y']\n",
      "GT\t['व', 'ह', 'न', 'ी', 'य']\n",
      "pred\t['व', 'व', 'ा', 'ा', 'न', 'ी']\n",
      "\n",
      "\n",
      "Input\t['b', 'a', 's', 'i', 'n']\n",
      "GT\t['ब', 'े', 'स', 'ि', 'न']\n",
      "pred\t['ब', 'ै', 'स', 'न', 'न']\n",
      "\n",
      "\n",
      "\n",
      "Test set: Average loss: 0.6391, Accuracy: 95163/119035 (80%)\n",
      "\n"
     ]
    },
    {
     "name": "stderr",
     "output_type": "stream",
     "text": [
      "  3%|▎         | 2/61 [00:00<00:07,  7.40it/s]"
     ]
    },
    {
     "name": "stdout",
     "output_type": "stream",
     "text": [
      "Train Epoch: 14 [0/31587 (0%)]\tLoss: 0.750997\n"
     ]
    },
    {
     "name": "stderr",
     "output_type": "stream",
     "text": [
      " 20%|█▉        | 12/61 [00:01<00:06,  8.08it/s]"
     ]
    },
    {
     "name": "stdout",
     "output_type": "stream",
     "text": [
      "Train Epoch: 14 [5120/31587 (16%)]\tLoss: 0.601028\n"
     ]
    },
    {
     "name": "stderr",
     "output_type": "stream",
     "text": [
      " 36%|███▌      | 22/61 [00:02<00:04,  8.10it/s]"
     ]
    },
    {
     "name": "stdout",
     "output_type": "stream",
     "text": [
      "Train Epoch: 14 [10240/31587 (33%)]\tLoss: 0.458907\n"
     ]
    },
    {
     "name": "stderr",
     "output_type": "stream",
     "text": [
      " 52%|█████▏    | 32/61 [00:03<00:03,  8.26it/s]"
     ]
    },
    {
     "name": "stdout",
     "output_type": "stream",
     "text": [
      "Train Epoch: 14 [15360/31587 (49%)]\tLoss: 0.752552\n"
     ]
    },
    {
     "name": "stderr",
     "output_type": "stream",
     "text": [
      " 69%|██████▉   | 42/61 [00:05<00:02,  8.40it/s]"
     ]
    },
    {
     "name": "stdout",
     "output_type": "stream",
     "text": [
      "Train Epoch: 14 [20480/31587 (66%)]\tLoss: 0.795242\n"
     ]
    },
    {
     "name": "stderr",
     "output_type": "stream",
     "text": [
      " 85%|████████▌ | 52/61 [00:06<00:01,  7.79it/s]"
     ]
    },
    {
     "name": "stdout",
     "output_type": "stream",
     "text": [
      "Train Epoch: 14 [25600/31587 (82%)]\tLoss: 0.480896\n"
     ]
    },
    {
     "name": "stderr",
     "output_type": "stream",
     "text": [
      "100%|██████████| 61/61 [00:07<00:00,  8.11it/s]\n"
     ]
    },
    {
     "name": "stdout",
     "output_type": "stream",
     "text": [
      "Train Epoch: 14 [30720/31587 (98%)]\tLoss: 0.611169\n",
      "Input\t['a', 'n', 'k', 'a', 'n']\n",
      "GT\t['अ', 'ं', 'क', 'न']\n",
      "pred\t['अ', 'न', 'क', 'ा']\n",
      "\n",
      "\n",
      "Input\t['w', 'a', 'h', 'n', 'i', 'y']\n",
      "GT\t['व', 'ह', 'न', 'ी', 'य']\n",
      "pred\t['व', 'व', 'ह', 'ा', 'न', 'ी']\n",
      "\n",
      "\n",
      "Input\t['b', 'a', 's', 'i', 'n']\n",
      "GT\t['ब', 'े', 'स', 'ि', 'न']\n",
      "pred\t['ब', 'ै', 'स']\n",
      "\n",
      "\n",
      "\n",
      "Test set: Average loss: 0.6610, Accuracy: 95055/119035 (80%)\n",
      "\n"
     ]
    },
    {
     "name": "stderr",
     "output_type": "stream",
     "text": [
      "  3%|▎         | 2/61 [00:00<00:12,  4.86it/s]"
     ]
    },
    {
     "name": "stdout",
     "output_type": "stream",
     "text": [
      "Train Epoch: 15 [0/31587 (0%)]\tLoss: 0.621373\n"
     ]
    },
    {
     "name": "stderr",
     "output_type": "stream",
     "text": [
      " 20%|█▉        | 12/61 [00:01<00:05,  8.31it/s]"
     ]
    },
    {
     "name": "stdout",
     "output_type": "stream",
     "text": [
      "Train Epoch: 15 [5120/31587 (16%)]\tLoss: 0.593711\n"
     ]
    },
    {
     "name": "stderr",
     "output_type": "stream",
     "text": [
      " 36%|███▌      | 22/61 [00:02<00:04,  8.39it/s]"
     ]
    },
    {
     "name": "stdout",
     "output_type": "stream",
     "text": [
      "Train Epoch: 15 [10240/31587 (33%)]\tLoss: 0.505594\n"
     ]
    },
    {
     "name": "stderr",
     "output_type": "stream",
     "text": [
      " 52%|█████▏    | 32/61 [00:04<00:03,  8.21it/s]"
     ]
    },
    {
     "name": "stdout",
     "output_type": "stream",
     "text": [
      "Train Epoch: 15 [15360/31587 (49%)]\tLoss: 0.754617\n"
     ]
    },
    {
     "name": "stderr",
     "output_type": "stream",
     "text": [
      " 69%|██████▉   | 42/61 [00:05<00:02,  8.28it/s]"
     ]
    },
    {
     "name": "stdout",
     "output_type": "stream",
     "text": [
      "Train Epoch: 15 [20480/31587 (66%)]\tLoss: 0.739026\n"
     ]
    },
    {
     "name": "stderr",
     "output_type": "stream",
     "text": [
      " 85%|████████▌ | 52/61 [00:06<00:01,  7.67it/s]"
     ]
    },
    {
     "name": "stdout",
     "output_type": "stream",
     "text": [
      "Train Epoch: 15 [25600/31587 (82%)]\tLoss: 0.439613\n"
     ]
    },
    {
     "name": "stderr",
     "output_type": "stream",
     "text": [
      "100%|██████████| 61/61 [00:07<00:00,  7.90it/s]\n"
     ]
    },
    {
     "name": "stdout",
     "output_type": "stream",
     "text": [
      "Train Epoch: 15 [30720/31587 (98%)]\tLoss: 0.577308\n",
      "Input\t['a', 'n', 'k', 'a', 'n']\n",
      "GT\t['अ', 'ं', 'क', 'न']\n",
      "pred\t['आ', 'न', 'क', 'क']\n",
      "\n",
      "\n",
      "Input\t['w', 'a', 'h', 'n', 'i', 'y']\n",
      "GT\t['व', 'ह', 'न', 'ी', 'य']\n",
      "pred\t['व', 'व', 'ह', 'ी', 'ी', 'ी']\n",
      "\n",
      "\n",
      "Input\t['b', 'a', 's', 'i', 'n']\n",
      "GT\t['ब', 'े', 'स', 'ि', 'न']\n",
      "pred\t['ब', 'ै', 'स', 'न']\n",
      "\n",
      "\n",
      "\n",
      "Test set: Average loss: 0.6311, Accuracy: 95463/119035 (80%)\n",
      "\n"
     ]
    },
    {
     "name": "stderr",
     "output_type": "stream",
     "text": [
      "  3%|▎         | 2/61 [00:00<00:07,  8.40it/s]"
     ]
    },
    {
     "name": "stdout",
     "output_type": "stream",
     "text": [
      "Train Epoch: 16 [0/31587 (0%)]\tLoss: 0.703667\n"
     ]
    },
    {
     "name": "stderr",
     "output_type": "stream",
     "text": [
      " 20%|█▉        | 12/61 [00:01<00:06,  8.16it/s]"
     ]
    },
    {
     "name": "stdout",
     "output_type": "stream",
     "text": [
      "Train Epoch: 16 [5120/31587 (16%)]\tLoss: 0.591591\n"
     ]
    },
    {
     "name": "stderr",
     "output_type": "stream",
     "text": [
      " 36%|███▌      | 22/61 [00:02<00:04,  8.37it/s]"
     ]
    },
    {
     "name": "stdout",
     "output_type": "stream",
     "text": [
      "Train Epoch: 16 [10240/31587 (33%)]\tLoss: 0.446605\n"
     ]
    },
    {
     "name": "stderr",
     "output_type": "stream",
     "text": [
      " 52%|█████▏    | 32/61 [00:03<00:03,  8.26it/s]"
     ]
    },
    {
     "name": "stdout",
     "output_type": "stream",
     "text": [
      "Train Epoch: 16 [15360/31587 (49%)]\tLoss: 0.693817\n"
     ]
    },
    {
     "name": "stderr",
     "output_type": "stream",
     "text": [
      " 69%|██████▉   | 42/61 [00:05<00:02,  7.74it/s]"
     ]
    },
    {
     "name": "stdout",
     "output_type": "stream",
     "text": [
      "Train Epoch: 16 [20480/31587 (66%)]\tLoss: 0.706472\n"
     ]
    },
    {
     "name": "stderr",
     "output_type": "stream",
     "text": [
      " 85%|████████▌ | 52/61 [00:06<00:01,  8.20it/s]"
     ]
    },
    {
     "name": "stdout",
     "output_type": "stream",
     "text": [
      "Train Epoch: 16 [25600/31587 (82%)]\tLoss: 0.478295\n"
     ]
    },
    {
     "name": "stderr",
     "output_type": "stream",
     "text": [
      "100%|██████████| 61/61 [00:07<00:00,  8.10it/s]\n"
     ]
    },
    {
     "name": "stdout",
     "output_type": "stream",
     "text": [
      "Train Epoch: 16 [30720/31587 (98%)]\tLoss: 0.561876\n",
      "Input\t['a', 'n', 'k', 'a', 'n']\n",
      "GT\t['अ', 'ं', 'क', 'न']\n",
      "pred\t['अ', 'न', 'क', 'ा']\n",
      "\n",
      "\n",
      "Input\t['w', 'a', 'h', 'n', 'i', 'y']\n",
      "GT\t['व', 'ह', 'न', 'ी', 'य']\n",
      "pred\t['व', 'व', 'ह', 'ा', 'ी', 'ी']\n",
      "\n",
      "\n",
      "Input\t['b', 'a', 's', 'i', 'n']\n",
      "GT\t['ब', 'े', 'स', 'ि', 'न']\n",
      "pred\t['ब', 'ै', 'स']\n",
      "\n",
      "\n",
      "\n",
      "Test set: Average loss: 0.6192, Accuracy: 95893/119035 (81%)\n",
      "\n"
     ]
    },
    {
     "name": "stderr",
     "output_type": "stream",
     "text": [
      "  3%|▎         | 2/61 [00:00<00:07,  8.37it/s]"
     ]
    },
    {
     "name": "stdout",
     "output_type": "stream",
     "text": [
      "Train Epoch: 17 [0/31587 (0%)]\tLoss: 0.526818\n"
     ]
    },
    {
     "name": "stderr",
     "output_type": "stream",
     "text": [
      " 20%|█▉        | 12/61 [00:01<00:05,  8.18it/s]"
     ]
    },
    {
     "name": "stdout",
     "output_type": "stream",
     "text": [
      "Train Epoch: 17 [5120/31587 (16%)]\tLoss: 0.569570\n"
     ]
    },
    {
     "name": "stderr",
     "output_type": "stream",
     "text": [
      " 36%|███▌      | 22/61 [00:02<00:04,  8.19it/s]"
     ]
    },
    {
     "name": "stdout",
     "output_type": "stream",
     "text": [
      "Train Epoch: 17 [10240/31587 (33%)]\tLoss: 0.437614\n"
     ]
    },
    {
     "name": "stderr",
     "output_type": "stream",
     "text": [
      " 52%|█████▏    | 32/61 [00:03<00:03,  8.25it/s]"
     ]
    },
    {
     "name": "stdout",
     "output_type": "stream",
     "text": [
      "Train Epoch: 17 [15360/31587 (49%)]\tLoss: 0.693543\n"
     ]
    },
    {
     "name": "stderr",
     "output_type": "stream",
     "text": [
      " 69%|██████▉   | 42/61 [00:05<00:02,  8.25it/s]"
     ]
    },
    {
     "name": "stdout",
     "output_type": "stream",
     "text": [
      "Train Epoch: 17 [20480/31587 (66%)]\tLoss: 0.693554\n"
     ]
    },
    {
     "name": "stderr",
     "output_type": "stream",
     "text": [
      " 85%|████████▌ | 52/61 [00:06<00:01,  8.29it/s]"
     ]
    },
    {
     "name": "stdout",
     "output_type": "stream",
     "text": [
      "Train Epoch: 17 [25600/31587 (82%)]\tLoss: 0.462631\n"
     ]
    },
    {
     "name": "stderr",
     "output_type": "stream",
     "text": [
      "100%|██████████| 61/61 [00:07<00:00,  8.26it/s]\n"
     ]
    },
    {
     "name": "stdout",
     "output_type": "stream",
     "text": [
      "Train Epoch: 17 [30720/31587 (98%)]\tLoss: 0.625635\n",
      "Input\t['a', 'n', 'k', 'a', 'n']\n",
      "GT\t['अ', 'ं', 'क', 'न']\n",
      "pred\t['आ', 'न', 'क', 'क', 'न']\n",
      "\n",
      "\n",
      "Input\t['w', 'a', 'h', 'n', 'i', 'y']\n",
      "GT\t['व', 'ह', 'न', 'ी', 'य']\n",
      "pred\t['व', 'व', 'ह', 'न', 'ह', 'य']\n",
      "\n",
      "\n",
      "Input\t['b', 'a', 's', 'i', 'n']\n",
      "GT\t['ब', 'े', 'स', 'ि', 'न']\n",
      "pred\t['ब', 'ै', 'स', 'न', 'न']\n",
      "\n",
      "\n",
      "\n",
      "Test set: Average loss: 0.7242, Accuracy: 92232/119035 (77%)\n",
      "\n"
     ]
    },
    {
     "name": "stderr",
     "output_type": "stream",
     "text": [
      "  3%|▎         | 2/61 [00:00<00:06,  8.73it/s]"
     ]
    },
    {
     "name": "stdout",
     "output_type": "stream",
     "text": [
      "Train Epoch: 18 [0/31587 (0%)]\tLoss: 0.744476\n"
     ]
    },
    {
     "name": "stderr",
     "output_type": "stream",
     "text": [
      " 20%|█▉        | 12/61 [00:01<00:05,  8.40it/s]"
     ]
    },
    {
     "name": "stdout",
     "output_type": "stream",
     "text": [
      "Train Epoch: 18 [5120/31587 (16%)]\tLoss: 0.628705\n"
     ]
    },
    {
     "name": "stderr",
     "output_type": "stream",
     "text": [
      " 36%|███▌      | 22/61 [00:02<00:05,  7.56it/s]"
     ]
    },
    {
     "name": "stdout",
     "output_type": "stream",
     "text": [
      "Train Epoch: 18 [10240/31587 (33%)]\tLoss: 0.425619\n"
     ]
    },
    {
     "name": "stderr",
     "output_type": "stream",
     "text": [
      " 52%|█████▏    | 32/61 [00:04<00:03,  8.26it/s]"
     ]
    },
    {
     "name": "stdout",
     "output_type": "stream",
     "text": [
      "Train Epoch: 18 [15360/31587 (49%)]\tLoss: 0.691001\n"
     ]
    },
    {
     "name": "stderr",
     "output_type": "stream",
     "text": [
      " 69%|██████▉   | 42/61 [00:05<00:02,  8.17it/s]"
     ]
    },
    {
     "name": "stdout",
     "output_type": "stream",
     "text": [
      "Train Epoch: 18 [20480/31587 (66%)]\tLoss: 0.692908\n"
     ]
    },
    {
     "name": "stderr",
     "output_type": "stream",
     "text": [
      " 85%|████████▌ | 52/61 [00:06<00:01,  8.13it/s]"
     ]
    },
    {
     "name": "stdout",
     "output_type": "stream",
     "text": [
      "Train Epoch: 18 [25600/31587 (82%)]\tLoss: 0.424113\n"
     ]
    },
    {
     "name": "stderr",
     "output_type": "stream",
     "text": [
      "100%|██████████| 61/61 [00:07<00:00,  8.01it/s]\n"
     ]
    },
    {
     "name": "stdout",
     "output_type": "stream",
     "text": [
      "Train Epoch: 18 [30720/31587 (98%)]\tLoss: 0.563832\n",
      "Input\t['a', 'n', 'k', 'a', 'n']\n",
      "GT\t['अ', 'ं', 'क', 'न']\n",
      "pred\t['अ', 'न', 'क', 'क', 'क']\n",
      "\n",
      "\n",
      "Input\t['w', 'a', 'h', 'n', 'i', 'y']\n",
      "GT\t['व', 'ह', 'न', 'ी', 'य']\n",
      "pred\t['व', 'व', 'ा', 'न', 'ि', 'य']\n",
      "\n",
      "\n",
      "Input\t['b', 'a', 's', 'i', 'n']\n",
      "GT\t['ब', 'े', 'स', 'ि', 'न']\n",
      "pred\t['ब', 'ै', 'स', 'ि']\n",
      "\n",
      "\n",
      "\n",
      "Test set: Average loss: 0.6725, Accuracy: 93704/119035 (79%)\n",
      "\n"
     ]
    },
    {
     "name": "stderr",
     "output_type": "stream",
     "text": [
      "  3%|▎         | 2/61 [00:00<00:07,  8.24it/s]"
     ]
    },
    {
     "name": "stdout",
     "output_type": "stream",
     "text": [
      "Train Epoch: 19 [0/31587 (0%)]\tLoss: 0.577825\n"
     ]
    },
    {
     "name": "stderr",
     "output_type": "stream",
     "text": [
      " 20%|█▉        | 12/61 [00:01<00:05,  8.37it/s]"
     ]
    },
    {
     "name": "stdout",
     "output_type": "stream",
     "text": [
      "Train Epoch: 19 [5120/31587 (16%)]\tLoss: 0.551797\n"
     ]
    },
    {
     "name": "stderr",
     "output_type": "stream",
     "text": [
      " 36%|███▌      | 22/61 [00:02<00:04,  8.72it/s]"
     ]
    },
    {
     "name": "stdout",
     "output_type": "stream",
     "text": [
      "Train Epoch: 19 [10240/31587 (33%)]\tLoss: 0.475857\n"
     ]
    },
    {
     "name": "stderr",
     "output_type": "stream",
     "text": [
      " 52%|█████▏    | 32/61 [00:03<00:03,  8.71it/s]"
     ]
    },
    {
     "name": "stdout",
     "output_type": "stream",
     "text": [
      "Train Epoch: 19 [15360/31587 (49%)]\tLoss: 0.659414\n"
     ]
    },
    {
     "name": "stderr",
     "output_type": "stream",
     "text": [
      " 69%|██████▉   | 42/61 [00:05<00:02,  7.46it/s]"
     ]
    },
    {
     "name": "stdout",
     "output_type": "stream",
     "text": [
      "Train Epoch: 19 [20480/31587 (66%)]\tLoss: 0.672160\n"
     ]
    },
    {
     "name": "stderr",
     "output_type": "stream",
     "text": [
      " 85%|████████▌ | 52/61 [00:06<00:01,  7.60it/s]"
     ]
    },
    {
     "name": "stdout",
     "output_type": "stream",
     "text": [
      "Train Epoch: 19 [25600/31587 (82%)]\tLoss: 0.420432\n"
     ]
    },
    {
     "name": "stderr",
     "output_type": "stream",
     "text": [
      "100%|██████████| 61/61 [00:07<00:00,  8.20it/s]\n"
     ]
    },
    {
     "name": "stdout",
     "output_type": "stream",
     "text": [
      "Train Epoch: 19 [30720/31587 (98%)]\tLoss: 0.534050\n",
      "Input\t['a', 'n', 'k', 'a', 'n']\n",
      "GT\t['अ', 'ं', 'क', 'न']\n",
      "pred\t['आ', 'न', 'क', 'क']\n",
      "\n",
      "\n",
      "Input\t['w', 'a', 'h', 'n', 'i', 'y']\n",
      "GT\t['व', 'ह', 'न', 'ी', 'य']\n",
      "pred\t['व', 'व', 'ह', 'न', 'न', 'ि', 'य']\n",
      "\n",
      "\n",
      "Input\t['b', 'a', 's', 'i', 'n']\n",
      "GT\t['ब', 'े', 'स', 'ि', 'न']\n",
      "pred\t['ब', 'ै', 'स', 'न']\n",
      "\n",
      "\n",
      "\n",
      "Test set: Average loss: 0.5917, Accuracy: 96149/119035 (81%)\n",
      "\n"
     ]
    },
    {
     "name": "stderr",
     "output_type": "stream",
     "text": [
      "  3%|▎         | 2/61 [00:00<00:06,  8.69it/s]"
     ]
    },
    {
     "name": "stdout",
     "output_type": "stream",
     "text": [
      "Train Epoch: 20 [0/31587 (0%)]\tLoss: 0.612559\n"
     ]
    },
    {
     "name": "stderr",
     "output_type": "stream",
     "text": [
      " 20%|█▉        | 12/61 [00:01<00:05,  8.36it/s]"
     ]
    },
    {
     "name": "stdout",
     "output_type": "stream",
     "text": [
      "Train Epoch: 20 [5120/31587 (16%)]\tLoss: 0.549429\n"
     ]
    },
    {
     "name": "stderr",
     "output_type": "stream",
     "text": [
      " 36%|███▌      | 22/61 [00:02<00:04,  8.48it/s]"
     ]
    },
    {
     "name": "stdout",
     "output_type": "stream",
     "text": [
      "Train Epoch: 20 [10240/31587 (33%)]\tLoss: 0.421406\n"
     ]
    },
    {
     "name": "stderr",
     "output_type": "stream",
     "text": [
      " 52%|█████▏    | 32/61 [00:03<00:03,  8.39it/s]"
     ]
    },
    {
     "name": "stdout",
     "output_type": "stream",
     "text": [
      "Train Epoch: 20 [15360/31587 (49%)]\tLoss: 0.650839\n"
     ]
    },
    {
     "name": "stderr",
     "output_type": "stream",
     "text": [
      " 69%|██████▉   | 42/61 [00:05<00:02,  8.23it/s]"
     ]
    },
    {
     "name": "stdout",
     "output_type": "stream",
     "text": [
      "Train Epoch: 20 [20480/31587 (66%)]\tLoss: 0.656707\n"
     ]
    },
    {
     "name": "stderr",
     "output_type": "stream",
     "text": [
      " 85%|████████▌ | 52/61 [00:06<00:01,  8.60it/s]"
     ]
    },
    {
     "name": "stdout",
     "output_type": "stream",
     "text": [
      "Train Epoch: 20 [25600/31587 (82%)]\tLoss: 0.394135\n"
     ]
    },
    {
     "name": "stderr",
     "output_type": "stream",
     "text": [
      "100%|██████████| 61/61 [00:07<00:00,  8.38it/s]\n"
     ]
    },
    {
     "name": "stdout",
     "output_type": "stream",
     "text": [
      "Train Epoch: 20 [30720/31587 (98%)]\tLoss: 0.506832\n",
      "Input\t['a', 'n', 'k', 'a', 'n']\n",
      "GT\t['अ', 'ं', 'क', 'न']\n",
      "pred\t['अ', 'न', 'क', 'ा']\n",
      "\n",
      "\n",
      "Input\t['w', 'a', 'h', 'n', 'i', 'y']\n",
      "GT\t['व', 'ह', 'न', 'ी', 'य']\n",
      "pred\t['व', 'व', 'ह', 'न', 'न', 'य']\n",
      "\n",
      "\n",
      "Input\t['b', 'a', 's', 'i', 'n']\n",
      "GT\t['ब', 'े', 'स', 'ि', 'न']\n",
      "pred\t['ब', 'ै', 'स', 'न']\n",
      "\n",
      "\n",
      "\n",
      "Test set: Average loss: 0.5886, Accuracy: 96276/119035 (81%)\n",
      "\n"
     ]
    },
    {
     "data": {
      "image/png": "[encoded data removed]",
      "text/plain": [
       "<Figure size 864x432 with 1 Axes>"
      ]
     },
     "metadata": {},
     "output_type": "display_data"
    },
    {
     "data": {
      "image/png": "[encoded data removed]",
      "text/plain": [
       "<Figure size 864x432 with 1 Axes>"
      ]
     },
     "metadata": {},
     "output_type": "display_data"
    }
   ],
   "source": [
    "hi_gru_model, hi_en_voc2ind, hi_ind2voc, hi_seq_len, _ = main('hi', 'gru')"
   ]
  },
  {
   "cell_type": "code",
   "execution_count": 16,
   "id": "eb9900bb",
   "metadata": {},
   "outputs": [
    {
     "name": "stdout",
     "output_type": "stream",
     "text": [
      "Using device cpu\n",
      "num workers: 48\n",
      "Input\t['a', 'n', 'k', 'a', 'n']\n",
      "GT\t['अ', 'ं', 'क', 'न']\n",
      "pred\t['क', 'ह', 'र', 'र', 'र', 'र', 'र', 'र', 'र', 'र', 'भ', 'भ', 'भ', 'भ', 'भ', 'भ', 'भ', 'भ', 'भ']\n",
      "\n",
      "\n",
      "Input\t['w', 'a', 'h', 'n', 'i', 'y']\n",
      "GT\t['व', 'ह', 'न', 'ी', 'य']\n",
      "pred\t['क', 'ह', 'र', 'र', 'र', 'र', 'र', 'र', 'र', 'र', 'भ', 'भ', 'भ', 'भ', 'भ', 'भ', 'भ', 'भ', 'भ']\n",
      "\n",
      "\n",
      "Input\t['b', 'a', 's', 'i', 'n']\n",
      "GT\t['ब', 'े', 'स', 'ि', 'न']\n",
      "pred\t['क', 'ह', 'र', 'र', 'र', 'र', 'र', 'र', 'र', 'भ', 'भ', 'भ', 'भ', 'भ', 'भ', 'भ', 'भ', 'भ', 'भ']\n",
      "\n",
      "\n",
      "\n",
      "Test set: Average loss: 4.1472, Accuracy: 2113/119035 (2%)\n",
      "\n"
     ]
    },
    {
     "name": "stderr",
     "output_type": "stream",
     "text": [
      "  3%|▎         | 2/61 [00:00<00:10,  5.83it/s]"
     ]
    },
    {
     "name": "stdout",
     "output_type": "stream",
     "text": [
      "Train Epoch: 0 [0/31587 (0%)]\tLoss: 4.143219\n"
     ]
    },
    {
     "name": "stderr",
     "output_type": "stream",
     "text": [
      " 20%|█▉        | 12/61 [00:01<00:07,  6.55it/s]"
     ]
    },
    {
     "name": "stdout",
     "output_type": "stream",
     "text": [
      "Train Epoch: 0 [5120/31587 (16%)]\tLoss: 1.321977\n"
     ]
    },
    {
     "name": "stderr",
     "output_type": "stream",
     "text": [
      " 36%|███▌      | 22/61 [00:03<00:05,  7.23it/s]"
     ]
    },
    {
     "name": "stdout",
     "output_type": "stream",
     "text": [
      "Train Epoch: 0 [10240/31587 (33%)]\tLoss: 1.172121\n"
     ]
    },
    {
     "name": "stderr",
     "output_type": "stream",
     "text": [
      " 52%|█████▏    | 32/61 [00:04<00:04,  6.94it/s]"
     ]
    },
    {
     "name": "stdout",
     "output_type": "stream",
     "text": [
      "Train Epoch: 0 [15360/31587 (49%)]\tLoss: 1.385861\n"
     ]
    },
    {
     "name": "stderr",
     "output_type": "stream",
     "text": [
      " 69%|██████▉   | 42/61 [00:06<00:02,  6.88it/s]"
     ]
    },
    {
     "name": "stdout",
     "output_type": "stream",
     "text": [
      "Train Epoch: 0 [20480/31587 (66%)]\tLoss: 1.387463\n"
     ]
    },
    {
     "name": "stderr",
     "output_type": "stream",
     "text": [
      " 85%|████████▌ | 52/61 [00:07<00:01,  6.93it/s]"
     ]
    },
    {
     "name": "stdout",
     "output_type": "stream",
     "text": [
      "Train Epoch: 0 [25600/31587 (82%)]\tLoss: 1.249944\n"
     ]
    },
    {
     "name": "stderr",
     "output_type": "stream",
     "text": [
      "100%|██████████| 61/61 [00:08<00:00,  6.91it/s]\n"
     ]
    },
    {
     "name": "stdout",
     "output_type": "stream",
     "text": [
      "Train Epoch: 0 [30720/31587 (98%)]\tLoss: 1.225196\n",
      "Input\t['a', 'n', 'k', 'a', 'n']\n",
      "GT\t['अ', 'ं', 'क', 'न']\n",
      "pred\t['ा', 'ा', 'र', 'ा']\n",
      "\n",
      "\n",
      "Input\t['w', 'a', 'h', 'n', 'i', 'y']\n",
      "GT\t['व', 'ह', 'न', 'ी', 'य']\n",
      "pred\t['र', 'ा', 'ि', 'ि', 'ि']\n",
      "\n",
      "\n",
      "Input\t['b', 'a', 's', 'i', 'n']\n",
      "GT\t['ब', 'े', 'स', 'ि', 'न']\n",
      "pred\t['र', 'ा', '्', 'ि', 'ि']\n",
      "\n",
      "\n",
      "\n",
      "Test set: Average loss: 1.1813, Accuracy: 82470/119035 (69%)\n",
      "\n"
     ]
    },
    {
     "name": "stderr",
     "output_type": "stream",
     "text": [
      "  3%|▎         | 2/61 [00:00<00:07,  7.62it/s]"
     ]
    },
    {
     "name": "stdout",
     "output_type": "stream",
     "text": [
      "Train Epoch: 1 [0/31587 (0%)]\tLoss: 1.443450\n"
     ]
    },
    {
     "name": "stderr",
     "output_type": "stream",
     "text": [
      " 20%|█▉        | 12/61 [00:01<00:06,  7.06it/s]"
     ]
    },
    {
     "name": "stdout",
     "output_type": "stream",
     "text": [
      "Train Epoch: 1 [5120/31587 (16%)]\tLoss: 1.162752\n"
     ]
    },
    {
     "name": "stderr",
     "output_type": "stream",
     "text": [
      " 36%|███▌      | 22/61 [00:03<00:05,  7.30it/s]"
     ]
    },
    {
     "name": "stdout",
     "output_type": "stream",
     "text": [
      "Train Epoch: 1 [10240/31587 (33%)]\tLoss: 1.060103\n"
     ]
    },
    {
     "name": "stderr",
     "output_type": "stream",
     "text": [
      " 52%|█████▏    | 32/61 [00:04<00:03,  7.27it/s]"
     ]
    },
    {
     "name": "stdout",
     "output_type": "stream",
     "text": [
      "Train Epoch: 1 [15360/31587 (49%)]\tLoss: 1.348741\n"
     ]
    },
    {
     "name": "stderr",
     "output_type": "stream",
     "text": [
      " 69%|██████▉   | 42/61 [00:05<00:02,  7.32it/s]"
     ]
    },
    {
     "name": "stdout",
     "output_type": "stream",
     "text": [
      "Train Epoch: 1 [20480/31587 (66%)]\tLoss: 1.302495\n"
     ]
    },
    {
     "name": "stderr",
     "output_type": "stream",
     "text": [
      " 85%|████████▌ | 52/61 [00:07<00:01,  7.07it/s]"
     ]
    },
    {
     "name": "stdout",
     "output_type": "stream",
     "text": [
      "Train Epoch: 1 [25600/31587 (82%)]\tLoss: 1.003771\n"
     ]
    },
    {
     "name": "stderr",
     "output_type": "stream",
     "text": [
      "100%|██████████| 61/61 [00:08<00:00,  7.24it/s]\n"
     ]
    },
    {
     "name": "stdout",
     "output_type": "stream",
     "text": [
      "Train Epoch: 1 [30720/31587 (98%)]\tLoss: 1.114708\n",
      "Input\t['a', 'n', 'k', 'a', 'n']\n",
      "GT\t['अ', 'ं', 'क', 'न']\n",
      "pred\t['न', 'न', 'क', 'ा', 'न']\n",
      "\n",
      "\n",
      "Input\t['w', 'a', 'h', 'n', 'i', 'y']\n",
      "GT\t['व', 'ह', 'न', 'ी', 'य']\n",
      "pred\t['ल', 'ा', 'ा', 'न', 'ि', 'य']\n",
      "\n",
      "\n",
      "Input\t['b', 'a', 's', 'i', 'n']\n",
      "GT\t['ब', 'े', 'स', 'ि', 'न']\n",
      "pred\t['व', 'ा', 'स', 'ि', 'न']\n",
      "\n",
      "\n",
      "\n",
      "Test set: Average loss: 1.1080, Accuracy: 84406/119035 (71%)\n",
      "\n"
     ]
    },
    {
     "name": "stderr",
     "output_type": "stream",
     "text": [
      "  3%|▎         | 2/61 [00:00<00:08,  7.07it/s]"
     ]
    },
    {
     "name": "stdout",
     "output_type": "stream",
     "text": [
      "Train Epoch: 2 [0/31587 (0%)]\tLoss: 1.243548\n"
     ]
    },
    {
     "name": "stderr",
     "output_type": "stream",
     "text": [
      " 20%|█▉        | 12/61 [00:01<00:06,  7.26it/s]"
     ]
    },
    {
     "name": "stdout",
     "output_type": "stream",
     "text": [
      "Train Epoch: 2 [5120/31587 (16%)]\tLoss: 0.944615\n"
     ]
    },
    {
     "name": "stderr",
     "output_type": "stream",
     "text": [
      " 36%|███▌      | 22/61 [00:03<00:05,  7.07it/s]"
     ]
    },
    {
     "name": "stdout",
     "output_type": "stream",
     "text": [
      "Train Epoch: 2 [10240/31587 (33%)]\tLoss: 0.931305\n"
     ]
    },
    {
     "name": "stderr",
     "output_type": "stream",
     "text": [
      " 52%|█████▏    | 32/61 [00:04<00:04,  6.92it/s]"
     ]
    },
    {
     "name": "stdout",
     "output_type": "stream",
     "text": [
      "Train Epoch: 2 [15360/31587 (49%)]\tLoss: 1.209198\n"
     ]
    },
    {
     "name": "stderr",
     "output_type": "stream",
     "text": [
      " 69%|██████▉   | 42/61 [00:05<00:02,  7.18it/s]"
     ]
    },
    {
     "name": "stdout",
     "output_type": "stream",
     "text": [
      "Train Epoch: 2 [20480/31587 (66%)]\tLoss: 1.225275\n"
     ]
    },
    {
     "name": "stderr",
     "output_type": "stream",
     "text": [
      " 85%|████████▌ | 52/61 [00:07<00:01,  7.08it/s]"
     ]
    },
    {
     "name": "stdout",
     "output_type": "stream",
     "text": [
      "Train Epoch: 2 [25600/31587 (82%)]\tLoss: 0.800999\n"
     ]
    },
    {
     "name": "stderr",
     "output_type": "stream",
     "text": [
      "100%|██████████| 61/61 [00:08<00:00,  7.04it/s]\n"
     ]
    },
    {
     "name": "stdout",
     "output_type": "stream",
     "text": [
      "Train Epoch: 2 [30720/31587 (98%)]\tLoss: 1.054194\n",
      "Input\t['a', 'n', 'k', 'a', 'n']\n",
      "GT\t['अ', 'ं', 'क', 'न']\n",
      "pred\t['न', 'न', 'क', 'ा']\n",
      "\n",
      "\n",
      "Input\t['w', 'a', 'h', 'n', 'i', 'y']\n",
      "GT\t['व', 'ह', 'न', 'ी', 'य']\n",
      "pred\t['ज', 'ा', 'ा', 'न', 'ि', 'य']\n",
      "\n",
      "\n",
      "Input\t['b', 'a', 's', 'i', 'n']\n",
      "GT\t['ब', 'े', 'स', 'ि', 'न']\n",
      "pred\t['ब', 'ा', 'स', 'ि', 'न']\n",
      "\n",
      "\n",
      "\n",
      "Test set: Average loss: 1.0478, Accuracy: 85855/119035 (72%)\n",
      "\n"
     ]
    },
    {
     "name": "stderr",
     "output_type": "stream",
     "text": [
      "  3%|▎         | 2/61 [00:00<00:08,  6.93it/s]"
     ]
    },
    {
     "name": "stdout",
     "output_type": "stream",
     "text": [
      "Train Epoch: 3 [0/31587 (0%)]\tLoss: 1.084998\n"
     ]
    },
    {
     "name": "stderr",
     "output_type": "stream",
     "text": [
      " 20%|█▉        | 12/61 [00:01<00:06,  7.27it/s]"
     ]
    },
    {
     "name": "stdout",
     "output_type": "stream",
     "text": [
      "Train Epoch: 3 [5120/31587 (16%)]\tLoss: 0.886179\n"
     ]
    },
    {
     "name": "stderr",
     "output_type": "stream",
     "text": [
      " 36%|███▌      | 22/61 [00:03<00:05,  7.31it/s]"
     ]
    },
    {
     "name": "stdout",
     "output_type": "stream",
     "text": [
      "Train Epoch: 3 [10240/31587 (33%)]\tLoss: 0.821307\n"
     ]
    },
    {
     "name": "stderr",
     "output_type": "stream",
     "text": [
      " 52%|█████▏    | 32/61 [00:04<00:03,  7.27it/s]"
     ]
    },
    {
     "name": "stdout",
     "output_type": "stream",
     "text": [
      "Train Epoch: 3 [15360/31587 (49%)]\tLoss: 1.135072\n"
     ]
    },
    {
     "name": "stderr",
     "output_type": "stream",
     "text": [
      " 69%|██████▉   | 42/61 [00:05<00:02,  7.21it/s]"
     ]
    },
    {
     "name": "stdout",
     "output_type": "stream",
     "text": [
      "Train Epoch: 3 [20480/31587 (66%)]\tLoss: 1.166661\n"
     ]
    },
    {
     "name": "stderr",
     "output_type": "stream",
     "text": [
      " 85%|████████▌ | 52/61 [00:07<00:01,  7.15it/s]"
     ]
    },
    {
     "name": "stdout",
     "output_type": "stream",
     "text": [
      "Train Epoch: 3 [25600/31587 (82%)]\tLoss: 0.727326\n"
     ]
    },
    {
     "name": "stderr",
     "output_type": "stream",
     "text": [
      "100%|██████████| 61/61 [00:08<00:00,  7.21it/s]\n"
     ]
    },
    {
     "name": "stdout",
     "output_type": "stream",
     "text": [
      "Train Epoch: 3 [30720/31587 (98%)]\tLoss: 0.991080\n",
      "Input\t['a', 'n', 'k', 'a', 'n']\n",
      "GT\t['अ', 'ं', 'क', 'न']\n",
      "pred\t['अ', 'न', 'क', 'ा']\n",
      "\n",
      "\n",
      "Input\t['w', 'a', 'h', 'n', 'i', 'y']\n",
      "GT\t['व', 'ह', 'न', 'ी', 'य']\n",
      "pred\t['ज', 'ा', 'ा', 'न', 'ि', 'य']\n",
      "\n",
      "\n",
      "Input\t['b', 'a', 's', 'i', 'n']\n",
      "GT\t['ब', 'े', 'स', 'ि', 'न']\n",
      "pred\t['ब', 'ा', 'स', 'ि', 'ं']\n",
      "\n",
      "\n",
      "\n",
      "Test set: Average loss: 0.9913, Accuracy: 86678/119035 (73%)\n",
      "\n"
     ]
    },
    {
     "name": "stderr",
     "output_type": "stream",
     "text": [
      "  3%|▎         | 2/61 [00:00<00:08,  7.00it/s]"
     ]
    },
    {
     "name": "stdout",
     "output_type": "stream",
     "text": [
      "Train Epoch: 4 [0/31587 (0%)]\tLoss: 0.993385\n"
     ]
    },
    {
     "name": "stderr",
     "output_type": "stream",
     "text": [
      " 20%|█▉        | 12/61 [00:01<00:06,  7.35it/s]"
     ]
    },
    {
     "name": "stdout",
     "output_type": "stream",
     "text": [
      "Train Epoch: 4 [5120/31587 (16%)]\tLoss: 0.818498\n"
     ]
    },
    {
     "name": "stderr",
     "output_type": "stream",
     "text": [
      " 36%|███▌      | 22/61 [00:03<00:06,  6.34it/s]"
     ]
    },
    {
     "name": "stdout",
     "output_type": "stream",
     "text": [
      "Train Epoch: 4 [10240/31587 (33%)]\tLoss: 0.770568\n"
     ]
    },
    {
     "name": "stderr",
     "output_type": "stream",
     "text": [
      " 52%|█████▏    | 32/61 [00:04<00:03,  7.26it/s]"
     ]
    },
    {
     "name": "stdout",
     "output_type": "stream",
     "text": [
      "Train Epoch: 4 [15360/31587 (49%)]\tLoss: 1.096103\n"
     ]
    },
    {
     "name": "stderr",
     "output_type": "stream",
     "text": [
      " 69%|██████▉   | 42/61 [00:06<00:02,  6.62it/s]"
     ]
    },
    {
     "name": "stdout",
     "output_type": "stream",
     "text": [
      "Train Epoch: 4 [20480/31587 (66%)]\tLoss: 1.147962\n"
     ]
    },
    {
     "name": "stderr",
     "output_type": "stream",
     "text": [
      " 85%|████████▌ | 52/61 [00:07<00:01,  6.54it/s]"
     ]
    },
    {
     "name": "stdout",
     "output_type": "stream",
     "text": [
      "Train Epoch: 4 [25600/31587 (82%)]\tLoss: 0.700212\n"
     ]
    },
    {
     "name": "stderr",
     "output_type": "stream",
     "text": [
      "100%|██████████| 61/61 [00:08<00:00,  6.86it/s]\n"
     ]
    },
    {
     "name": "stdout",
     "output_type": "stream",
     "text": [
      "Train Epoch: 4 [30720/31587 (98%)]\tLoss: 0.951724\n",
      "Input\t['a', 'n', 'k', 'a', 'n']\n",
      "GT\t['अ', 'ं', 'क', 'न']\n",
      "pred\t['अ', 'न', 'क', 'ा']\n",
      "\n",
      "\n",
      "Input\t['w', 'a', 'h', 'n', 'i', 'y']\n",
      "GT\t['व', 'ह', 'न', 'ी', 'य']\n",
      "pred\t['ज', 'ा', 'ा', 'न', 'ि', 'य']\n",
      "\n",
      "\n",
      "Input\t['b', 'a', 's', 'i', 'n']\n",
      "GT\t['ब', 'े', 'स', 'ि', 'न']\n",
      "pred\t['ब', 'ा', 'स', 'ि', 'ं']\n",
      "\n",
      "\n",
      "\n",
      "Test set: Average loss: 0.9670, Accuracy: 88022/119035 (74%)\n",
      "\n"
     ]
    },
    {
     "name": "stderr",
     "output_type": "stream",
     "text": [
      "  3%|▎         | 2/61 [00:00<00:08,  7.21it/s]"
     ]
    },
    {
     "name": "stdout",
     "output_type": "stream",
     "text": [
      "Train Epoch: 5 [0/31587 (0%)]\tLoss: 0.935082\n"
     ]
    },
    {
     "name": "stderr",
     "output_type": "stream",
     "text": [
      " 20%|█▉        | 12/61 [00:01<00:06,  7.12it/s]"
     ]
    },
    {
     "name": "stdout",
     "output_type": "stream",
     "text": [
      "Train Epoch: 5 [5120/31587 (16%)]\tLoss: 0.794233\n"
     ]
    },
    {
     "name": "stderr",
     "output_type": "stream",
     "text": [
      " 36%|███▌      | 22/61 [00:03<00:05,  7.19it/s]"
     ]
    },
    {
     "name": "stdout",
     "output_type": "stream",
     "text": [
      "Train Epoch: 5 [10240/31587 (33%)]\tLoss: 0.710307\n"
     ]
    },
    {
     "name": "stderr",
     "output_type": "stream",
     "text": [
      " 52%|█████▏    | 32/61 [00:04<00:04,  7.12it/s]"
     ]
    },
    {
     "name": "stdout",
     "output_type": "stream",
     "text": [
      "Train Epoch: 5 [15360/31587 (49%)]\tLoss: 1.103135\n"
     ]
    },
    {
     "name": "stderr",
     "output_type": "stream",
     "text": [
      " 69%|██████▉   | 42/61 [00:05<00:03,  6.26it/s]"
     ]
    },
    {
     "name": "stdout",
     "output_type": "stream",
     "text": [
      "Train Epoch: 5 [20480/31587 (66%)]\tLoss: 1.106803\n"
     ]
    },
    {
     "name": "stderr",
     "output_type": "stream",
     "text": [
      " 85%|████████▌ | 52/61 [00:07<00:01,  6.64it/s]"
     ]
    },
    {
     "name": "stdout",
     "output_type": "stream",
     "text": [
      "Train Epoch: 5 [25600/31587 (82%)]\tLoss: 0.677637\n"
     ]
    },
    {
     "name": "stderr",
     "output_type": "stream",
     "text": [
      "100%|██████████| 61/61 [00:08<00:00,  7.02it/s]\n"
     ]
    },
    {
     "name": "stdout",
     "output_type": "stream",
     "text": [
      "Train Epoch: 5 [30720/31587 (98%)]\tLoss: 0.886920\n",
      "Input\t['a', 'n', 'k', 'a', 'n']\n",
      "GT\t['अ', 'ं', 'क', 'न']\n",
      "pred\t['अ', 'न', 'क', 'ा']\n",
      "\n",
      "\n",
      "Input\t['w', 'a', 'h', 'n', 'i', 'y']\n",
      "GT\t['व', 'ह', 'न', 'ी', 'य']\n",
      "pred\t['ज', 'ा', 'ा', 'न', 'ि', 'य']\n",
      "\n",
      "\n",
      "Input\t['b', 'a', 's', 'i', 'n']\n",
      "GT\t['ब', 'े', 'स', 'ि', 'न']\n",
      "pred\t['ब', 'ा', 'स', 'ि', 'ं']\n",
      "\n",
      "\n",
      "\n",
      "Test set: Average loss: 0.9510, Accuracy: 88541/119035 (74%)\n",
      "\n"
     ]
    },
    {
     "name": "stderr",
     "output_type": "stream",
     "text": [
      "  3%|▎         | 2/61 [00:00<00:08,  7.26it/s]"
     ]
    },
    {
     "name": "stdout",
     "output_type": "stream",
     "text": [
      "Train Epoch: 6 [0/31587 (0%)]\tLoss: 0.895173\n"
     ]
    },
    {
     "name": "stderr",
     "output_type": "stream",
     "text": [
      " 20%|█▉        | 12/61 [00:01<00:07,  6.94it/s]"
     ]
    },
    {
     "name": "stdout",
     "output_type": "stream",
     "text": [
      "Train Epoch: 6 [5120/31587 (16%)]\tLoss: 0.769483\n"
     ]
    },
    {
     "name": "stderr",
     "output_type": "stream",
     "text": [
      " 36%|███▌      | 22/61 [00:03<00:05,  6.79it/s]"
     ]
    },
    {
     "name": "stdout",
     "output_type": "stream",
     "text": [
      "Train Epoch: 6 [10240/31587 (33%)]\tLoss: 0.697399\n"
     ]
    },
    {
     "name": "stderr",
     "output_type": "stream",
     "text": [
      " 52%|█████▏    | 32/61 [00:04<00:04,  7.03it/s]"
     ]
    },
    {
     "name": "stdout",
     "output_type": "stream",
     "text": [
      "Train Epoch: 6 [15360/31587 (49%)]\tLoss: 1.086961\n"
     ]
    },
    {
     "name": "stderr",
     "output_type": "stream",
     "text": [
      " 69%|██████▉   | 42/61 [00:06<00:02,  7.27it/s]"
     ]
    },
    {
     "name": "stdout",
     "output_type": "stream",
     "text": [
      "Train Epoch: 6 [20480/31587 (66%)]\tLoss: 1.091974\n"
     ]
    },
    {
     "name": "stderr",
     "output_type": "stream",
     "text": [
      " 85%|████████▌ | 52/61 [00:07<00:01,  7.29it/s]"
     ]
    },
    {
     "name": "stdout",
     "output_type": "stream",
     "text": [
      "Train Epoch: 6 [25600/31587 (82%)]\tLoss: 0.662558\n"
     ]
    },
    {
     "name": "stderr",
     "output_type": "stream",
     "text": [
      "100%|██████████| 61/61 [00:08<00:00,  7.02it/s]\n"
     ]
    },
    {
     "name": "stdout",
     "output_type": "stream",
     "text": [
      "Train Epoch: 6 [30720/31587 (98%)]\tLoss: 0.868238\n",
      "Input\t['a', 'n', 'k', 'a', 'n']\n",
      "GT\t['अ', 'ं', 'क', 'न']\n",
      "pred\t['अ', 'न', 'क', 'ा']\n",
      "\n",
      "\n",
      "Input\t['w', 'a', 'h', 'n', 'i', 'y']\n",
      "GT\t['व', 'ह', 'न', 'ी', 'य']\n",
      "pred\t['आ', 'ा', 'ा', 'न', 'ि', 'य']\n",
      "\n",
      "\n",
      "Input\t['b', 'a', 's', 'i', 'n']\n",
      "GT\t['ब', 'े', 'स', 'ि', 'न']\n",
      "pred\t['ब', 'ा', 'स', 'ि', 'न']\n",
      "\n",
      "\n",
      "\n",
      "Test set: Average loss: 0.9335, Accuracy: 89278/119035 (75%)\n",
      "\n"
     ]
    },
    {
     "name": "stderr",
     "output_type": "stream",
     "text": [
      "  3%|▎         | 2/61 [00:00<00:08,  7.05it/s]"
     ]
    },
    {
     "name": "stdout",
     "output_type": "stream",
     "text": [
      "Train Epoch: 7 [0/31587 (0%)]\tLoss: 0.904915\n"
     ]
    },
    {
     "name": "stderr",
     "output_type": "stream",
     "text": [
      " 20%|█▉        | 12/61 [00:01<00:06,  7.35it/s]"
     ]
    },
    {
     "name": "stdout",
     "output_type": "stream",
     "text": [
      "Train Epoch: 7 [5120/31587 (16%)]\tLoss: 0.764308\n"
     ]
    },
    {
     "name": "stderr",
     "output_type": "stream",
     "text": [
      " 36%|███▌      | 22/61 [00:03<00:05,  6.70it/s]"
     ]
    },
    {
     "name": "stdout",
     "output_type": "stream",
     "text": [
      "Train Epoch: 7 [10240/31587 (33%)]\tLoss: 0.687178\n"
     ]
    },
    {
     "name": "stderr",
     "output_type": "stream",
     "text": [
      " 52%|█████▏    | 32/61 [00:04<00:04,  7.17it/s]"
     ]
    },
    {
     "name": "stdout",
     "output_type": "stream",
     "text": [
      "Train Epoch: 7 [15360/31587 (49%)]\tLoss: 1.057074\n"
     ]
    },
    {
     "name": "stderr",
     "output_type": "stream",
     "text": [
      " 69%|██████▉   | 42/61 [00:05<00:02,  7.21it/s]"
     ]
    },
    {
     "name": "stdout",
     "output_type": "stream",
     "text": [
      "Train Epoch: 7 [20480/31587 (66%)]\tLoss: 1.069085\n"
     ]
    },
    {
     "name": "stderr",
     "output_type": "stream",
     "text": [
      " 85%|████████▌ | 52/61 [00:07<00:01,  7.20it/s]"
     ]
    },
    {
     "name": "stdout",
     "output_type": "stream",
     "text": [
      "Train Epoch: 7 [25600/31587 (82%)]\tLoss: 0.653526\n"
     ]
    },
    {
     "name": "stderr",
     "output_type": "stream",
     "text": [
      "100%|██████████| 61/61 [00:08<00:00,  7.12it/s]\n"
     ]
    },
    {
     "name": "stdout",
     "output_type": "stream",
     "text": [
      "Train Epoch: 7 [30720/31587 (98%)]\tLoss: 0.835378\n",
      "Input\t['a', 'n', 'k', 'a', 'n']\n",
      "GT\t['अ', 'ं', 'क', 'न']\n",
      "pred\t['अ', 'न', 'क', 'ा']\n",
      "\n",
      "\n",
      "Input\t['w', 'a', 'h', 'n', 'i', 'y']\n",
      "GT\t['व', 'ह', 'न', 'ी', 'य']\n",
      "pred\t['इ', 'ा', 'ा', 'न', 'ि', 'य']\n",
      "\n",
      "\n",
      "Input\t['b', 'a', 's', 'i', 'n']\n",
      "GT\t['ब', 'े', 'स', 'ि', 'न']\n",
      "pred\t['ब', 'ा', 'स', 'ी', 'न']\n",
      "\n",
      "\n",
      "\n",
      "Test set: Average loss: 0.9276, Accuracy: 89172/119035 (75%)\n",
      "\n"
     ]
    },
    {
     "name": "stderr",
     "output_type": "stream",
     "text": [
      "  3%|▎         | 2/61 [00:00<00:08,  7.31it/s]"
     ]
    },
    {
     "name": "stdout",
     "output_type": "stream",
     "text": [
      "Train Epoch: 8 [0/31587 (0%)]\tLoss: 0.877914\n"
     ]
    },
    {
     "name": "stderr",
     "output_type": "stream",
     "text": [
      " 20%|█▉        | 12/61 [00:01<00:06,  7.17it/s]"
     ]
    },
    {
     "name": "stdout",
     "output_type": "stream",
     "text": [
      "Train Epoch: 8 [5120/31587 (16%)]\tLoss: 0.754936\n"
     ]
    },
    {
     "name": "stderr",
     "output_type": "stream",
     "text": [
      " 36%|███▌      | 22/61 [00:03<00:05,  7.39it/s]"
     ]
    },
    {
     "name": "stdout",
     "output_type": "stream",
     "text": [
      "Train Epoch: 8 [10240/31587 (33%)]\tLoss: 0.667883\n"
     ]
    },
    {
     "name": "stderr",
     "output_type": "stream",
     "text": [
      " 52%|█████▏    | 32/61 [00:04<00:04,  7.02it/s]"
     ]
    },
    {
     "name": "stdout",
     "output_type": "stream",
     "text": [
      "Train Epoch: 8 [15360/31587 (49%)]\tLoss: 1.024747\n"
     ]
    },
    {
     "name": "stderr",
     "output_type": "stream",
     "text": [
      " 69%|██████▉   | 42/61 [00:05<00:02,  7.14it/s]"
     ]
    },
    {
     "name": "stdout",
     "output_type": "stream",
     "text": [
      "Train Epoch: 8 [20480/31587 (66%)]\tLoss: 1.060178\n"
     ]
    },
    {
     "name": "stderr",
     "output_type": "stream",
     "text": [
      " 85%|████████▌ | 52/61 [00:07<00:01,  7.16it/s]"
     ]
    },
    {
     "name": "stdout",
     "output_type": "stream",
     "text": [
      "Train Epoch: 8 [25600/31587 (82%)]\tLoss: 0.634545\n"
     ]
    },
    {
     "name": "stderr",
     "output_type": "stream",
     "text": [
      "100%|██████████| 61/61 [00:08<00:00,  7.13it/s]\n"
     ]
    },
    {
     "name": "stdout",
     "output_type": "stream",
     "text": [
      "Train Epoch: 8 [30720/31587 (98%)]\tLoss: 0.782033\n",
      "Input\t['a', 'n', 'k', 'a', 'n']\n",
      "GT\t['अ', 'ं', 'क', 'न']\n",
      "pred\t['अ', 'न', 'क', 'ा']\n",
      "\n",
      "\n",
      "Input\t['w', 'a', 'h', 'n', 'i', 'y']\n",
      "GT\t['व', 'ह', 'न', 'ी', 'य']\n",
      "pred\t['इ', 'ा', 'ा', 'न', 'ि', 'य']\n",
      "\n",
      "\n",
      "Input\t['b', 'a', 's', 'i', 'n']\n",
      "GT\t['ब', 'े', 'स', 'ि', 'न']\n",
      "pred\t['फ', 'ा', 'स', 'ी', 'न']\n",
      "\n",
      "\n",
      "\n",
      "Test set: Average loss: 0.9232, Accuracy: 89229/119035 (75%)\n",
      "\n"
     ]
    },
    {
     "name": "stderr",
     "output_type": "stream",
     "text": [
      "  3%|▎         | 2/61 [00:00<00:08,  7.29it/s]"
     ]
    },
    {
     "name": "stdout",
     "output_type": "stream",
     "text": [
      "Train Epoch: 9 [0/31587 (0%)]\tLoss: 0.818456\n"
     ]
    },
    {
     "name": "stderr",
     "output_type": "stream",
     "text": [
      " 20%|█▉        | 12/61 [00:01<00:06,  7.15it/s]"
     ]
    },
    {
     "name": "stdout",
     "output_type": "stream",
     "text": [
      "Train Epoch: 9 [5120/31587 (16%)]\tLoss: 0.726841\n"
     ]
    },
    {
     "name": "stderr",
     "output_type": "stream",
     "text": [
      " 36%|███▌      | 22/61 [00:03<00:05,  6.52it/s]"
     ]
    },
    {
     "name": "stdout",
     "output_type": "stream",
     "text": [
      "Train Epoch: 9 [10240/31587 (33%)]\tLoss: 0.641169\n"
     ]
    },
    {
     "name": "stderr",
     "output_type": "stream",
     "text": [
      " 52%|█████▏    | 32/61 [00:04<00:04,  6.68it/s]"
     ]
    },
    {
     "name": "stdout",
     "output_type": "stream",
     "text": [
      "Train Epoch: 9 [15360/31587 (49%)]\tLoss: 0.989734\n"
     ]
    },
    {
     "name": "stderr",
     "output_type": "stream",
     "text": [
      " 69%|██████▉   | 42/61 [00:06<00:02,  7.15it/s]"
     ]
    },
    {
     "name": "stdout",
     "output_type": "stream",
     "text": [
      "Train Epoch: 9 [20480/31587 (66%)]\tLoss: 1.027534\n"
     ]
    },
    {
     "name": "stderr",
     "output_type": "stream",
     "text": [
      " 84%|████████▎ | 51/61 [00:07<00:01,  6.35it/s]"
     ]
    },
    {
     "name": "stdout",
     "output_type": "stream",
     "text": [
      "Train Epoch: 9 [25600/31587 (82%)]\tLoss: 0.618723\n"
     ]
    },
    {
     "name": "stderr",
     "output_type": "stream",
     "text": [
      "100%|██████████| 61/61 [00:09<00:00,  6.65it/s]\n"
     ]
    },
    {
     "name": "stdout",
     "output_type": "stream",
     "text": [
      "Train Epoch: 9 [30720/31587 (98%)]\tLoss: 0.750263\n",
      "Input\t['a', 'n', 'k', 'a', 'n']\n",
      "GT\t['अ', 'ं', 'क', 'न']\n",
      "pred\t['अ', 'न', 'क', 'ा']\n",
      "\n",
      "\n",
      "Input\t['w', 'a', 'h', 'n', 'i', 'y']\n",
      "GT\t['व', 'ह', 'न', 'ी', 'य']\n",
      "pred\t['आ', 'ा', 'ा', 'न', 'ि', 'य']\n",
      "\n",
      "\n",
      "Input\t['b', 'a', 's', 'i', 'n']\n",
      "GT\t['ब', 'े', 'स', 'ि', 'न']\n",
      "pred\t['फ', 'ा', 'स', 'ि', 'न']\n",
      "\n",
      "\n",
      "\n",
      "Test set: Average loss: 0.9086, Accuracy: 89132/119035 (75%)\n",
      "\n"
     ]
    },
    {
     "name": "stderr",
     "output_type": "stream",
     "text": [
      "  3%|▎         | 2/61 [00:00<00:08,  7.29it/s]"
     ]
    },
    {
     "name": "stdout",
     "output_type": "stream",
     "text": [
      "Train Epoch: 10 [0/31587 (0%)]\tLoss: 0.781155\n"
     ]
    },
    {
     "name": "stderr",
     "output_type": "stream",
     "text": [
      " 20%|█▉        | 12/61 [00:01<00:06,  7.17it/s]"
     ]
    },
    {
     "name": "stdout",
     "output_type": "stream",
     "text": [
      "Train Epoch: 10 [5120/31587 (16%)]\tLoss: 0.713724\n"
     ]
    },
    {
     "name": "stderr",
     "output_type": "stream",
     "text": [
      " 36%|███▌      | 22/61 [00:03<00:05,  7.36it/s]"
     ]
    },
    {
     "name": "stdout",
     "output_type": "stream",
     "text": [
      "Train Epoch: 10 [10240/31587 (33%)]\tLoss: 0.619942\n"
     ]
    },
    {
     "name": "stderr",
     "output_type": "stream",
     "text": [
      " 52%|█████▏    | 32/61 [00:04<00:04,  6.73it/s]"
     ]
    },
    {
     "name": "stdout",
     "output_type": "stream",
     "text": [
      "Train Epoch: 10 [15360/31587 (49%)]\tLoss: 0.960767\n"
     ]
    },
    {
     "name": "stderr",
     "output_type": "stream",
     "text": [
      " 69%|██████▉   | 42/61 [00:05<00:02,  6.81it/s]"
     ]
    },
    {
     "name": "stdout",
     "output_type": "stream",
     "text": [
      "Train Epoch: 10 [20480/31587 (66%)]\tLoss: 1.006056\n"
     ]
    },
    {
     "name": "stderr",
     "output_type": "stream",
     "text": [
      " 85%|████████▌ | 52/61 [00:07<00:01,  7.13it/s]"
     ]
    },
    {
     "name": "stdout",
     "output_type": "stream",
     "text": [
      "Train Epoch: 10 [25600/31587 (82%)]\tLoss: 0.598321\n"
     ]
    },
    {
     "name": "stderr",
     "output_type": "stream",
     "text": [
      "100%|██████████| 61/61 [00:08<00:00,  7.15it/s]\n"
     ]
    },
    {
     "name": "stdout",
     "output_type": "stream",
     "text": [
      "Train Epoch: 10 [30720/31587 (98%)]\tLoss: 0.725568\n",
      "Input\t['a', 'n', 'k', 'a', 'n']\n",
      "GT\t['अ', 'ं', 'क', 'न']\n",
      "pred\t['अ', 'न', 'क', 'ा']\n",
      "\n",
      "\n",
      "Input\t['w', 'a', 'h', 'n', 'i', 'y']\n",
      "GT\t['व', 'ह', 'न', 'ी', 'य']\n",
      "pred\t['आ', 'य', 'ा', 'न', 'ी', 'य']\n",
      "\n",
      "\n",
      "Input\t['b', 'a', 's', 'i', 'n']\n",
      "GT\t['ब', 'े', 'स', 'ि', 'न']\n",
      "pred\t['फ', 'ा', 'स', 'ी', 'न']\n",
      "\n",
      "\n",
      "\n",
      "Test set: Average loss: 0.9213, Accuracy: 88880/119035 (75%)\n",
      "\n"
     ]
    },
    {
     "name": "stderr",
     "output_type": "stream",
     "text": [
      "  3%|▎         | 2/61 [00:00<00:08,  7.15it/s]"
     ]
    },
    {
     "name": "stdout",
     "output_type": "stream",
     "text": [
      "Train Epoch: 11 [0/31587 (0%)]\tLoss: 0.761792\n"
     ]
    },
    {
     "name": "stderr",
     "output_type": "stream",
     "text": [
      " 20%|█▉        | 12/61 [00:01<00:07,  6.79it/s]"
     ]
    },
    {
     "name": "stdout",
     "output_type": "stream",
     "text": [
      "Train Epoch: 11 [5120/31587 (16%)]\tLoss: 0.716569\n"
     ]
    },
    {
     "name": "stderr",
     "output_type": "stream",
     "text": [
      " 36%|███▌      | 22/61 [00:03<00:05,  6.52it/s]"
     ]
    },
    {
     "name": "stdout",
     "output_type": "stream",
     "text": [
      "Train Epoch: 11 [10240/31587 (33%)]\tLoss: 0.595862\n"
     ]
    },
    {
     "name": "stderr",
     "output_type": "stream",
     "text": [
      " 52%|█████▏    | 32/61 [00:04<00:04,  6.85it/s]"
     ]
    },
    {
     "name": "stdout",
     "output_type": "stream",
     "text": [
      "Train Epoch: 11 [15360/31587 (49%)]\tLoss: 0.929224\n"
     ]
    },
    {
     "name": "stderr",
     "output_type": "stream",
     "text": [
      " 69%|██████▉   | 42/61 [00:06<00:02,  6.93it/s]"
     ]
    },
    {
     "name": "stdout",
     "output_type": "stream",
     "text": [
      "Train Epoch: 11 [20480/31587 (66%)]\tLoss: 0.970890\n"
     ]
    },
    {
     "name": "stderr",
     "output_type": "stream",
     "text": [
      " 85%|████████▌ | 52/61 [00:07<00:01,  7.08it/s]"
     ]
    },
    {
     "name": "stdout",
     "output_type": "stream",
     "text": [
      "Train Epoch: 11 [25600/31587 (82%)]\tLoss: 0.580363\n"
     ]
    },
    {
     "name": "stderr",
     "output_type": "stream",
     "text": [
      "100%|██████████| 61/61 [00:08<00:00,  6.91it/s]\n"
     ]
    },
    {
     "name": "stdout",
     "output_type": "stream",
     "text": [
      "Train Epoch: 11 [30720/31587 (98%)]\tLoss: 0.711324\n",
      "Input\t['a', 'n', 'k', 'a', 'n']\n",
      "GT\t['अ', 'ं', 'क', 'न']\n",
      "pred\t['अ', 'न', 'क', 'ा']\n",
      "\n",
      "\n",
      "Input\t['w', 'a', 'h', 'n', 'i', 'y']\n",
      "GT\t['व', 'ह', 'न', 'ी', 'य']\n",
      "pred\t['य', 'ा', 'ा', 'न', 'ी', 'य']\n",
      "\n",
      "\n",
      "Input\t['b', 'a', 's', 'i', 'n']\n",
      "GT\t['ब', 'े', 'स', 'ि', 'न']\n",
      "pred\t['ब', 'ा', 'स', 'ि', 'न']\n",
      "\n",
      "\n",
      "\n",
      "Test set: Average loss: 0.9073, Accuracy: 89222/119035 (75%)\n",
      "\n"
     ]
    },
    {
     "name": "stderr",
     "output_type": "stream",
     "text": [
      "  3%|▎         | 2/61 [00:00<00:08,  7.11it/s]"
     ]
    },
    {
     "name": "stdout",
     "output_type": "stream",
     "text": [
      "Train Epoch: 12 [0/31587 (0%)]\tLoss: 0.746303\n"
     ]
    },
    {
     "name": "stderr",
     "output_type": "stream",
     "text": [
      " 20%|█▉        | 12/61 [00:01<00:07,  6.99it/s]"
     ]
    },
    {
     "name": "stdout",
     "output_type": "stream",
     "text": [
      "Train Epoch: 12 [5120/31587 (16%)]\tLoss: 0.690609\n"
     ]
    },
    {
     "name": "stderr",
     "output_type": "stream",
     "text": [
      " 36%|███▌      | 22/61 [00:03<00:05,  6.69it/s]"
     ]
    },
    {
     "name": "stdout",
     "output_type": "stream",
     "text": [
      "Train Epoch: 12 [10240/31587 (33%)]\tLoss: 0.588268\n"
     ]
    },
    {
     "name": "stderr",
     "output_type": "stream",
     "text": [
      " 52%|█████▏    | 32/61 [00:04<00:04,  7.07it/s]"
     ]
    },
    {
     "name": "stdout",
     "output_type": "stream",
     "text": [
      "Train Epoch: 12 [15360/31587 (49%)]\tLoss: 0.930616\n"
     ]
    },
    {
     "name": "stderr",
     "output_type": "stream",
     "text": [
      " 69%|██████▉   | 42/61 [00:06<00:02,  7.30it/s]"
     ]
    },
    {
     "name": "stdout",
     "output_type": "stream",
     "text": [
      "Train Epoch: 12 [20480/31587 (66%)]\tLoss: 0.949712\n"
     ]
    },
    {
     "name": "stderr",
     "output_type": "stream",
     "text": [
      " 85%|████████▌ | 52/61 [00:07<00:01,  7.32it/s]"
     ]
    },
    {
     "name": "stdout",
     "output_type": "stream",
     "text": [
      "Train Epoch: 12 [25600/31587 (82%)]\tLoss: 0.559939\n"
     ]
    },
    {
     "name": "stderr",
     "output_type": "stream",
     "text": [
      "100%|██████████| 61/61 [00:08<00:00,  7.08it/s]\n"
     ]
    },
    {
     "name": "stdout",
     "output_type": "stream",
     "text": [
      "Train Epoch: 12 [30720/31587 (98%)]\tLoss: 0.705955\n",
      "Input\t['a', 'n', 'k', 'a', 'n']\n",
      "GT\t['अ', 'ं', 'क', 'न']\n",
      "pred\t['अ', 'न', 'क', 'ा', 'ं']\n",
      "\n",
      "\n",
      "Input\t['w', 'a', 'h', 'n', 'i', 'y']\n",
      "GT\t['व', 'ह', 'न', 'ी', 'य']\n",
      "pred\t['य', 'ा', 'ा', 'ा', 'ी', 'य']\n",
      "\n",
      "\n",
      "Input\t['b', 'a', 's', 'i', 'n']\n",
      "GT\t['ब', 'े', 'स', 'ि', 'न']\n",
      "pred\t['ग', 'ा', 'स', 'ि', 'न']\n",
      "\n",
      "\n",
      "\n",
      "Test set: Average loss: 0.9144, Accuracy: 89106/119035 (75%)\n",
      "\n"
     ]
    },
    {
     "name": "stderr",
     "output_type": "stream",
     "text": [
      "  3%|▎         | 2/61 [00:00<00:08,  7.16it/s]"
     ]
    },
    {
     "name": "stdout",
     "output_type": "stream",
     "text": [
      "Train Epoch: 13 [0/31587 (0%)]\tLoss: 0.755299\n"
     ]
    },
    {
     "name": "stderr",
     "output_type": "stream",
     "text": [
      " 20%|█▉        | 12/61 [00:01<00:06,  7.26it/s]"
     ]
    },
    {
     "name": "stdout",
     "output_type": "stream",
     "text": [
      "Train Epoch: 13 [5120/31587 (16%)]\tLoss: 0.680073\n"
     ]
    },
    {
     "name": "stderr",
     "output_type": "stream",
     "text": [
      " 36%|███▌      | 22/61 [00:03<00:05,  7.28it/s]"
     ]
    },
    {
     "name": "stdout",
     "output_type": "stream",
     "text": [
      "Train Epoch: 13 [10240/31587 (33%)]\tLoss: 0.587062\n"
     ]
    },
    {
     "name": "stderr",
     "output_type": "stream",
     "text": [
      " 52%|█████▏    | 32/61 [00:04<00:03,  7.34it/s]"
     ]
    },
    {
     "name": "stdout",
     "output_type": "stream",
     "text": [
      "Train Epoch: 13 [15360/31587 (49%)]\tLoss: 0.884845\n"
     ]
    },
    {
     "name": "stderr",
     "output_type": "stream",
     "text": [
      " 69%|██████▉   | 42/61 [00:05<00:02,  7.27it/s]"
     ]
    },
    {
     "name": "stdout",
     "output_type": "stream",
     "text": [
      "Train Epoch: 13 [20480/31587 (66%)]\tLoss: 0.914698\n"
     ]
    },
    {
     "name": "stderr",
     "output_type": "stream",
     "text": [
      " 85%|████████▌ | 52/61 [00:07<00:01,  7.19it/s]"
     ]
    },
    {
     "name": "stdout",
     "output_type": "stream",
     "text": [
      "Train Epoch: 13 [25600/31587 (82%)]\tLoss: 0.555579\n"
     ]
    },
    {
     "name": "stderr",
     "output_type": "stream",
     "text": [
      "100%|██████████| 61/61 [00:08<00:00,  7.22it/s]\n"
     ]
    },
    {
     "name": "stdout",
     "output_type": "stream",
     "text": [
      "Train Epoch: 13 [30720/31587 (98%)]\tLoss: 0.668289\n",
      "Input\t['a', 'n', 'k', 'a', 'n']\n",
      "GT\t['अ', 'ं', 'क', 'न']\n",
      "pred\t['अ', 'न', 'क', 'ा', 'न']\n",
      "\n",
      "\n",
      "Input\t['w', 'a', 'h', 'n', 'i', 'y']\n",
      "GT\t['व', 'ह', 'न', 'ी', 'य']\n",
      "pred\t['ह', 'ा', 'ा', 'ा', 'ी']\n",
      "\n",
      "\n",
      "Input\t['b', 'a', 's', 'i', 'n']\n",
      "GT\t['ब', 'े', 'स', 'ि', 'न']\n",
      "pred\t['ग', 'ा', 'स', 'ि', 'न']\n",
      "\n",
      "\n",
      "\n",
      "Test set: Average loss: 0.9298, Accuracy: 89135/119035 (75%)\n",
      "\n"
     ]
    },
    {
     "name": "stderr",
     "output_type": "stream",
     "text": [
      "  3%|▎         | 2/61 [00:00<00:07,  7.47it/s]"
     ]
    },
    {
     "name": "stdout",
     "output_type": "stream",
     "text": [
      "Train Epoch: 14 [0/31587 (0%)]\tLoss: 0.730727\n"
     ]
    },
    {
     "name": "stderr",
     "output_type": "stream",
     "text": [
      " 20%|█▉        | 12/61 [00:01<00:07,  6.84it/s]"
     ]
    },
    {
     "name": "stdout",
     "output_type": "stream",
     "text": [
      "Train Epoch: 14 [5120/31587 (16%)]\tLoss: 0.677531\n"
     ]
    },
    {
     "name": "stderr",
     "output_type": "stream",
     "text": [
      " 36%|███▌      | 22/61 [00:03<00:05,  6.59it/s]"
     ]
    },
    {
     "name": "stdout",
     "output_type": "stream",
     "text": [
      "Train Epoch: 14 [10240/31587 (33%)]\tLoss: 0.570844\n"
     ]
    },
    {
     "name": "stderr",
     "output_type": "stream",
     "text": [
      " 52%|█████▏    | 32/61 [00:04<00:04,  6.83it/s]"
     ]
    },
    {
     "name": "stdout",
     "output_type": "stream",
     "text": [
      "Train Epoch: 14 [15360/31587 (49%)]\tLoss: 0.917494\n"
     ]
    },
    {
     "name": "stderr",
     "output_type": "stream",
     "text": [
      " 69%|██████▉   | 42/61 [00:06<00:02,  7.21it/s]"
     ]
    },
    {
     "name": "stdout",
     "output_type": "stream",
     "text": [
      "Train Epoch: 14 [20480/31587 (66%)]\tLoss: 0.902672\n"
     ]
    },
    {
     "name": "stderr",
     "output_type": "stream",
     "text": [
      " 85%|████████▌ | 52/61 [00:07<00:01,  7.02it/s]"
     ]
    },
    {
     "name": "stdout",
     "output_type": "stream",
     "text": [
      "Train Epoch: 14 [25600/31587 (82%)]\tLoss: 0.557724\n"
     ]
    },
    {
     "name": "stderr",
     "output_type": "stream",
     "text": [
      "100%|██████████| 61/61 [00:08<00:00,  6.91it/s]\n"
     ]
    },
    {
     "name": "stdout",
     "output_type": "stream",
     "text": [
      "Train Epoch: 14 [30720/31587 (98%)]\tLoss: 0.665128\n",
      "Input\t['a', 'n', 'k', 'a', 'n']\n",
      "GT\t['अ', 'ं', 'क', 'न']\n",
      "pred\t['अ', 'न', 'क', 'ा']\n",
      "\n",
      "\n",
      "Input\t['w', 'a', 'h', 'n', 'i', 'y']\n",
      "GT\t['व', 'ह', 'न', 'ी', 'य']\n",
      "pred\t['य', 'ा', 'ा', 'न']\n",
      "\n",
      "\n",
      "Input\t['b', 'a', 's', 'i', 'n']\n",
      "GT\t['ब', 'े', 'स', 'ि', 'न']\n",
      "pred\t['य', 'ा', 'स', 'ि', 'न']\n",
      "\n",
      "\n",
      "\n",
      "Test set: Average loss: 0.9551, Accuracy: 88887/119035 (75%)\n",
      "\n"
     ]
    },
    {
     "name": "stderr",
     "output_type": "stream",
     "text": [
      "  3%|▎         | 2/61 [00:00<00:08,  7.20it/s]"
     ]
    },
    {
     "name": "stdout",
     "output_type": "stream",
     "text": [
      "Train Epoch: 15 [0/31587 (0%)]\tLoss: 0.732990\n"
     ]
    },
    {
     "name": "stderr",
     "output_type": "stream",
     "text": [
      " 20%|█▉        | 12/61 [00:01<00:06,  7.29it/s]"
     ]
    },
    {
     "name": "stdout",
     "output_type": "stream",
     "text": [
      "Train Epoch: 15 [5120/31587 (16%)]\tLoss: 0.674764\n"
     ]
    },
    {
     "name": "stderr",
     "output_type": "stream",
     "text": [
      " 36%|███▌      | 22/61 [00:02<00:05,  7.38it/s]"
     ]
    },
    {
     "name": "stdout",
     "output_type": "stream",
     "text": [
      "Train Epoch: 15 [10240/31587 (33%)]\tLoss: 0.536199\n"
     ]
    },
    {
     "name": "stderr",
     "output_type": "stream",
     "text": [
      " 52%|█████▏    | 32/61 [00:04<00:04,  6.76it/s]"
     ]
    },
    {
     "name": "stdout",
     "output_type": "stream",
     "text": [
      "Train Epoch: 15 [15360/31587 (49%)]\tLoss: 0.861036\n"
     ]
    },
    {
     "name": "stderr",
     "output_type": "stream",
     "text": [
      " 69%|██████▉   | 42/61 [00:05<00:02,  7.09it/s]"
     ]
    },
    {
     "name": "stdout",
     "output_type": "stream",
     "text": [
      "Train Epoch: 15 [20480/31587 (66%)]\tLoss: 0.883034\n"
     ]
    },
    {
     "name": "stderr",
     "output_type": "stream",
     "text": [
      " 85%|████████▌ | 52/61 [00:07<00:01,  7.31it/s]"
     ]
    },
    {
     "name": "stdout",
     "output_type": "stream",
     "text": [
      "Train Epoch: 15 [25600/31587 (82%)]\tLoss: 0.536641\n"
     ]
    },
    {
     "name": "stderr",
     "output_type": "stream",
     "text": [
      "100%|██████████| 61/61 [00:08<00:00,  7.11it/s]\n"
     ]
    },
    {
     "name": "stdout",
     "output_type": "stream",
     "text": [
      "Train Epoch: 15 [30720/31587 (98%)]\tLoss: 0.632074\n",
      "Input\t['a', 'n', 'k', 'a', 'n']\n",
      "GT\t['अ', 'ं', 'क', 'न']\n",
      "pred\t['अ', 'ं', 'क', 'ा']\n",
      "\n",
      "\n",
      "Input\t['w', 'a', 'h', 'n', 'i', 'y']\n",
      "GT\t['व', 'ह', 'न', 'ी', 'य']\n",
      "pred\t['ह', 'ा', 'ह', 'न']\n",
      "\n",
      "\n",
      "Input\t['b', 'a', 's', 'i', 'n']\n",
      "GT\t['ब', 'े', 'स', 'ि', 'न']\n",
      "pred\t['ब', 'ा', 'स']\n",
      "\n",
      "\n",
      "\n",
      "Test set: Average loss: 0.9220, Accuracy: 89165/119035 (75%)\n",
      "\n"
     ]
    },
    {
     "name": "stderr",
     "output_type": "stream",
     "text": [
      "  3%|▎         | 2/61 [00:00<00:08,  7.25it/s]"
     ]
    },
    {
     "name": "stdout",
     "output_type": "stream",
     "text": [
      "Train Epoch: 16 [0/31587 (0%)]\tLoss: 0.669490\n"
     ]
    },
    {
     "name": "stderr",
     "output_type": "stream",
     "text": [
      " 20%|█▉        | 12/61 [00:01<00:06,  7.33it/s]"
     ]
    },
    {
     "name": "stdout",
     "output_type": "stream",
     "text": [
      "Train Epoch: 16 [5120/31587 (16%)]\tLoss: 0.631593\n"
     ]
    },
    {
     "name": "stderr",
     "output_type": "stream",
     "text": [
      " 36%|███▌      | 22/61 [00:03<00:05,  7.35it/s]"
     ]
    },
    {
     "name": "stdout",
     "output_type": "stream",
     "text": [
      "Train Epoch: 16 [10240/31587 (33%)]\tLoss: 0.529751\n"
     ]
    },
    {
     "name": "stderr",
     "output_type": "stream",
     "text": [
      " 52%|█████▏    | 32/61 [00:04<00:04,  6.80it/s]"
     ]
    },
    {
     "name": "stdout",
     "output_type": "stream",
     "text": [
      "Train Epoch: 16 [15360/31587 (49%)]\tLoss: 0.864045\n"
     ]
    },
    {
     "name": "stderr",
     "output_type": "stream",
     "text": [
      " 69%|██████▉   | 42/61 [00:05<00:02,  6.85it/s]"
     ]
    },
    {
     "name": "stdout",
     "output_type": "stream",
     "text": [
      "Train Epoch: 16 [20480/31587 (66%)]\tLoss: 0.856336\n"
     ]
    },
    {
     "name": "stderr",
     "output_type": "stream",
     "text": [
      " 85%|████████▌ | 52/61 [00:07<00:01,  7.08it/s]"
     ]
    },
    {
     "name": "stdout",
     "output_type": "stream",
     "text": [
      "Train Epoch: 16 [25600/31587 (82%)]\tLoss: 0.557814\n"
     ]
    },
    {
     "name": "stderr",
     "output_type": "stream",
     "text": [
      "100%|██████████| 61/61 [00:08<00:00,  7.10it/s]\n"
     ]
    },
    {
     "name": "stdout",
     "output_type": "stream",
     "text": [
      "Train Epoch: 16 [30720/31587 (98%)]\tLoss: 0.641554\n",
      "Input\t['a', 'n', 'k', 'a', 'n']\n",
      "GT\t['अ', 'ं', 'क', 'न']\n",
      "pred\t['अ', 'न', 'क', 'ा', 'न']\n",
      "\n",
      "\n",
      "Input\t['w', 'a', 'h', 'n', 'i', 'y']\n",
      "GT\t['व', 'ह', 'न', 'ी', 'य']\n",
      "pred\t['आ', 'त', 'ह', 'ा']\n",
      "\n",
      "\n",
      "Input\t['b', 'a', 's', 'i', 'n']\n",
      "GT\t['ब', 'े', 'स', 'ि', 'न']\n",
      "pred\t['ब', 'ा', 'स', 'ी']\n",
      "\n",
      "\n",
      "\n",
      "Test set: Average loss: 0.9652, Accuracy: 88334/119035 (74%)\n",
      "\n"
     ]
    },
    {
     "name": "stderr",
     "output_type": "stream",
     "text": [
      "  3%|▎         | 2/61 [00:00<00:08,  7.36it/s]"
     ]
    },
    {
     "name": "stdout",
     "output_type": "stream",
     "text": [
      "Train Epoch: 17 [0/31587 (0%)]\tLoss: 0.704445\n"
     ]
    },
    {
     "name": "stderr",
     "output_type": "stream",
     "text": [
      " 20%|█▉        | 12/61 [00:01<00:06,  7.02it/s]"
     ]
    },
    {
     "name": "stdout",
     "output_type": "stream",
     "text": [
      "Train Epoch: 17 [5120/31587 (16%)]\tLoss: 0.638546\n"
     ]
    },
    {
     "name": "stderr",
     "output_type": "stream",
     "text": [
      " 36%|███▌      | 22/61 [00:03<00:05,  7.06it/s]"
     ]
    },
    {
     "name": "stdout",
     "output_type": "stream",
     "text": [
      "Train Epoch: 17 [10240/31587 (33%)]\tLoss: 0.524322\n"
     ]
    },
    {
     "name": "stderr",
     "output_type": "stream",
     "text": [
      " 52%|█████▏    | 32/61 [00:04<00:04,  6.65it/s]"
     ]
    },
    {
     "name": "stdout",
     "output_type": "stream",
     "text": [
      "Train Epoch: 17 [15360/31587 (49%)]\tLoss: 0.826184\n"
     ]
    },
    {
     "name": "stderr",
     "output_type": "stream",
     "text": [
      " 69%|██████▉   | 42/61 [00:06<00:02,  6.89it/s]"
     ]
    },
    {
     "name": "stdout",
     "output_type": "stream",
     "text": [
      "Train Epoch: 17 [20480/31587 (66%)]\tLoss: 0.854114\n"
     ]
    },
    {
     "name": "stderr",
     "output_type": "stream",
     "text": [
      " 85%|████████▌ | 52/61 [00:07<00:01,  6.99it/s]"
     ]
    },
    {
     "name": "stdout",
     "output_type": "stream",
     "text": [
      "Train Epoch: 17 [25600/31587 (82%)]\tLoss: 0.512816\n"
     ]
    },
    {
     "name": "stderr",
     "output_type": "stream",
     "text": [
      "100%|██████████| 61/61 [00:08<00:00,  7.00it/s]\n"
     ]
    },
    {
     "name": "stdout",
     "output_type": "stream",
     "text": [
      "Train Epoch: 17 [30720/31587 (98%)]\tLoss: 0.619781\n",
      "Input\t['a', 'n', 'k', 'a', 'n']\n",
      "GT\t['अ', 'ं', 'क', 'न']\n",
      "pred\t['अ', 'न', 'क', 'ा', 'ं']\n",
      "\n",
      "\n",
      "Input\t['w', 'a', 'h', 'n', 'i', 'y']\n",
      "GT\t['व', 'ह', 'न', 'ी', 'य']\n",
      "pred\t['आ', 'ा', 'ह', 'ा']\n",
      "\n",
      "\n",
      "Input\t['b', 'a', 's', 'i', 'n']\n",
      "GT\t['ब', 'े', 'स', 'ि', 'न']\n",
      "pred\t['ज', 'ा', 'स', 'ी']\n",
      "\n",
      "\n",
      "\n",
      "Test set: Average loss: 0.9404, Accuracy: 89059/119035 (75%)\n",
      "\n"
     ]
    },
    {
     "name": "stderr",
     "output_type": "stream",
     "text": [
      "  3%|▎         | 2/61 [00:00<00:08,  6.94it/s]"
     ]
    },
    {
     "name": "stdout",
     "output_type": "stream",
     "text": [
      "Train Epoch: 18 [0/31587 (0%)]\tLoss: 0.662418\n"
     ]
    },
    {
     "name": "stderr",
     "output_type": "stream",
     "text": [
      " 20%|█▉        | 12/61 [00:01<00:06,  7.09it/s]"
     ]
    },
    {
     "name": "stdout",
     "output_type": "stream",
     "text": [
      "Train Epoch: 18 [5120/31587 (16%)]\tLoss: 0.645252\n"
     ]
    },
    {
     "name": "stderr",
     "output_type": "stream",
     "text": [
      " 36%|███▌      | 22/61 [00:03<00:05,  6.90it/s]"
     ]
    },
    {
     "name": "stdout",
     "output_type": "stream",
     "text": [
      "Train Epoch: 18 [10240/31587 (33%)]\tLoss: 0.515694\n"
     ]
    },
    {
     "name": "stderr",
     "output_type": "stream",
     "text": [
      " 52%|█████▏    | 32/61 [00:04<00:04,  6.44it/s]"
     ]
    },
    {
     "name": "stdout",
     "output_type": "stream",
     "text": [
      "Train Epoch: 18 [15360/31587 (49%)]\tLoss: 0.818723\n"
     ]
    },
    {
     "name": "stderr",
     "output_type": "stream",
     "text": [
      " 69%|██████▉   | 42/61 [00:06<00:02,  7.25it/s]"
     ]
    },
    {
     "name": "stdout",
     "output_type": "stream",
     "text": [
      "Train Epoch: 18 [20480/31587 (66%)]\tLoss: 0.826285\n"
     ]
    },
    {
     "name": "stderr",
     "output_type": "stream",
     "text": [
      " 85%|████████▌ | 52/61 [00:07<00:01,  7.12it/s]"
     ]
    },
    {
     "name": "stdout",
     "output_type": "stream",
     "text": [
      "Train Epoch: 18 [25600/31587 (82%)]\tLoss: 0.535375\n"
     ]
    },
    {
     "name": "stderr",
     "output_type": "stream",
     "text": [
      "100%|██████████| 61/61 [00:08<00:00,  6.91it/s]\n"
     ]
    },
    {
     "name": "stdout",
     "output_type": "stream",
     "text": [
      "Train Epoch: 18 [30720/31587 (98%)]\tLoss: 0.646827\n",
      "Input\t['a', 'n', 'k', 'a', 'n']\n",
      "GT\t['अ', 'ं', 'क', 'न']\n",
      "pred\t['आ', 'न', 'क', 'ा']\n",
      "\n",
      "\n",
      "Input\t['w', 'a', 'h', 'n', 'i', 'y']\n",
      "GT\t['व', 'ह', 'न', 'ी', 'य']\n",
      "pred\t['आ', 'ा', 'ा']\n",
      "\n",
      "\n",
      "Input\t['b', 'a', 's', 'i', 'n']\n",
      "GT\t['ब', 'े', 'स', 'ि', 'न']\n",
      "pred\t['ग', 'ा', 'स', 'ी']\n",
      "\n",
      "\n",
      "\n",
      "Test set: Average loss: 0.9893, Accuracy: 88468/119035 (74%)\n",
      "\n"
     ]
    },
    {
     "name": "stderr",
     "output_type": "stream",
     "text": [
      "  3%|▎         | 2/61 [00:00<00:08,  7.25it/s]"
     ]
    },
    {
     "name": "stdout",
     "output_type": "stream",
     "text": [
      "Train Epoch: 19 [0/31587 (0%)]\tLoss: 0.740125\n"
     ]
    },
    {
     "name": "stderr",
     "output_type": "stream",
     "text": [
      " 20%|█▉        | 12/61 [00:01<00:07,  6.89it/s]"
     ]
    },
    {
     "name": "stdout",
     "output_type": "stream",
     "text": [
      "Train Epoch: 19 [5120/31587 (16%)]\tLoss: 0.627865\n"
     ]
    },
    {
     "name": "stderr",
     "output_type": "stream",
     "text": [
      " 36%|███▌      | 22/61 [00:03<00:05,  7.18it/s]"
     ]
    },
    {
     "name": "stdout",
     "output_type": "stream",
     "text": [
      "Train Epoch: 19 [10240/31587 (33%)]\tLoss: 0.510186\n"
     ]
    },
    {
     "name": "stderr",
     "output_type": "stream",
     "text": [
      " 52%|█████▏    | 32/61 [00:04<00:03,  7.32it/s]"
     ]
    },
    {
     "name": "stdout",
     "output_type": "stream",
     "text": [
      "Train Epoch: 19 [15360/31587 (49%)]\tLoss: 0.802924\n"
     ]
    },
    {
     "name": "stderr",
     "output_type": "stream",
     "text": [
      " 69%|██████▉   | 42/61 [00:06<00:02,  7.10it/s]"
     ]
    },
    {
     "name": "stdout",
     "output_type": "stream",
     "text": [
      "Train Epoch: 19 [20480/31587 (66%)]\tLoss: 0.822850\n"
     ]
    },
    {
     "name": "stderr",
     "output_type": "stream",
     "text": [
      " 85%|████████▌ | 52/61 [00:07<00:01,  7.19it/s]"
     ]
    },
    {
     "name": "stdout",
     "output_type": "stream",
     "text": [
      "Train Epoch: 19 [25600/31587 (82%)]\tLoss: 0.488516\n"
     ]
    },
    {
     "name": "stderr",
     "output_type": "stream",
     "text": [
      "100%|██████████| 61/61 [00:08<00:00,  7.06it/s]\n"
     ]
    },
    {
     "name": "stdout",
     "output_type": "stream",
     "text": [
      "Train Epoch: 19 [30720/31587 (98%)]\tLoss: 0.615700\n",
      "Input\t['a', 'n', 'k', 'a', 'n']\n",
      "GT\t['अ', 'ं', 'क', 'न']\n",
      "pred\t['अ', 'न', 'क', 'ा']\n",
      "\n",
      "\n",
      "Input\t['w', 'a', 'h', 'n', 'i', 'y']\n",
      "GT\t['व', 'ह', 'न', 'ी', 'य']\n",
      "pred\t['ए', 'य', 'ह']\n",
      "\n",
      "\n",
      "Input\t['b', 'a', 's', 'i', 'n']\n",
      "GT\t['ब', 'े', 'स', 'ि', 'न']\n",
      "pred\t['ब', 'ा', 'स', 'ी']\n",
      "\n",
      "\n",
      "\n",
      "Test set: Average loss: 1.0828, Accuracy: 87090/119035 (73%)\n",
      "\n"
     ]
    },
    {
     "name": "stderr",
     "output_type": "stream",
     "text": [
      "  3%|▎         | 2/61 [00:00<00:08,  7.03it/s]"
     ]
    },
    {
     "name": "stdout",
     "output_type": "stream",
     "text": [
      "Train Epoch: 20 [0/31587 (0%)]\tLoss: 0.692555\n"
     ]
    },
    {
     "name": "stderr",
     "output_type": "stream",
     "text": [
      " 20%|█▉        | 12/61 [00:01<00:06,  7.05it/s]"
     ]
    },
    {
     "name": "stdout",
     "output_type": "stream",
     "text": [
      "Train Epoch: 20 [5120/31587 (16%)]\tLoss: 0.617531\n"
     ]
    },
    {
     "name": "stderr",
     "output_type": "stream",
     "text": [
      " 36%|███▌      | 22/61 [00:03<00:05,  7.18it/s]"
     ]
    },
    {
     "name": "stdout",
     "output_type": "stream",
     "text": [
      "Train Epoch: 20 [10240/31587 (33%)]\tLoss: 0.500342\n"
     ]
    },
    {
     "name": "stderr",
     "output_type": "stream",
     "text": [
      " 52%|█████▏    | 32/61 [00:04<00:04,  7.09it/s]"
     ]
    },
    {
     "name": "stdout",
     "output_type": "stream",
     "text": [
      "Train Epoch: 20 [15360/31587 (49%)]\tLoss: 0.792287\n"
     ]
    },
    {
     "name": "stderr",
     "output_type": "stream",
     "text": [
      " 69%|██████▉   | 42/61 [00:05<00:02,  7.33it/s]"
     ]
    },
    {
     "name": "stdout",
     "output_type": "stream",
     "text": [
      "Train Epoch: 20 [20480/31587 (66%)]\tLoss: 0.803232\n"
     ]
    },
    {
     "name": "stderr",
     "output_type": "stream",
     "text": [
      " 85%|████████▌ | 52/61 [00:07<00:01,  7.09it/s]"
     ]
    },
    {
     "name": "stdout",
     "output_type": "stream",
     "text": [
      "Train Epoch: 20 [25600/31587 (82%)]\tLoss: 0.481320\n"
     ]
    },
    {
     "name": "stderr",
     "output_type": "stream",
     "text": [
      "100%|██████████| 61/61 [00:08<00:00,  7.07it/s]\n"
     ]
    },
    {
     "name": "stdout",
     "output_type": "stream",
     "text": [
      "Train Epoch: 20 [30720/31587 (98%)]\tLoss: 0.575584\n",
      "Input\t['a', 'n', 'k', 'a', 'n']\n",
      "GT\t['अ', 'ं', 'क', 'न']\n",
      "pred\t['आ', 'न', 'क', 'ा']\n",
      "\n",
      "\n",
      "Input\t['w', 'a', 'h', 'n', 'i', 'y']\n",
      "GT\t['व', 'ह', 'न', 'ी', 'य']\n",
      "pred\t['आ', 'ा', 'ह']\n",
      "\n",
      "\n",
      "Input\t['b', 'a', 's', 'i', 'n']\n",
      "GT\t['ब', 'े', 'स', 'ि', 'न']\n",
      "pred\t['ब', 'ा', 'स', 'ी']\n",
      "\n",
      "\n",
      "\n",
      "Test set: Average loss: 1.0424, Accuracy: 88033/119035 (74%)\n",
      "\n"
     ]
    },
    {
     "data": {
      "image/png": "[encoded data removed]",
      "text/plain": [
       "<Figure size 864x432 with 1 Axes>"
      ]
     },
     "metadata": {},
     "output_type": "display_data"
    },
    {
     "data": {
      "image/png": "[encoded data removed]",
      "text/plain": [
       "<Figure size 864x432 with 1 Axes>"
      ]
     },
     "metadata": {},
     "output_type": "display_data"
    }
   ],
   "source": [
    "hi_lstm_model, _, _, _, _ = main('hi', 'lstm')"
   ]
  },
  {
   "cell_type": "code",
   "execution_count": 17,
   "id": "2f2727f2",
   "metadata": {
    "scrolled": true
   },
   "outputs": [
    {
     "name": "stdout",
     "output_type": "stream",
     "text": [
      "Using device cpu\n",
      "num workers: 48\n",
      "Input\t['a', 'm', 'g', 'a', 't', 'h', 'a', 'v', 'a', 'v', 'u', 'm']\n",
      "GT\t['അ', 'ം', 'ഗ', 'ത', '്', 'വ', 'വ', 'ു', 'ം']\n",
      "pred\t['ർ', 'ു', 'െ', 'ു', 'ു', 'ു', 'ു', 'ു', 'ു', 'ു', 'ു', 'ു', 'ു', 'ഃ', 'ഃ', 'ഃ', 'ഃ', 'ഃ', 'ഃ', 'ഃ', 'ഃ', 'ഃ', 'ഃ', 'ഃ', 'ഃ', 'ഃ', 'ഃ', 'ഃ', 'ഃ', 'ഃ', 'ഃ', 'ഃ']\n",
      "\n",
      "\n",
      "Input\t['m', 'a', 'n', 'n', 'i', 'n', 'g']\n",
      "GT\t['മ', 'ാ', 'ന', 'ി', 'ം', 'ഗ', '്']\n",
      "pred\t['ർ', 'ു', 'ു', 'ക', 'ക', 'ക', 'ആ', 'ു', 'ഃ', 'ഃ', 'ഃ', 'ഃ', 'ഃ', 'ഃ', 'ഃ', 'ഃ', 'ഃ', 'ഃ', 'ഃ', 'ഃ', 'ഃ', 'ഃ', 'ഃ', 'ഃ', 'ഃ', 'ഃ', 'ഃ', 'ഃ', 'ഃ', 'ഃ', 'ഃ', 'ഃ']\n",
      "\n",
      "\n",
      "Input\t['t', 'h', 'e', 'n', 'g', 'a', 'a', 'p', 'p', 'a', 'a', 'l']\n",
      "GT\t['ത', 'േ', 'ങ', '്', 'ങ', 'ാ', 'പ', '്', 'പ', 'ാ', 'ൽ']\n",
      "pred\t['ർ', 'െ', 'െ', 'ഗ', 'ഗ', 'ു', 'ു', 'ു', 'ദ', 'ു', 'ു', 'ു', 'ു', 'ഃ', 'ഃ', 'ഃ', 'ഃ', 'ഃ', 'ഃ', 'ഃ', 'ഃ', 'ഃ', 'ഃ', 'ഃ', 'ഃ', 'ഃ', 'ഃ', 'ഃ', 'ഃ', 'ഃ', 'ഃ', 'ഃ']\n",
      "\n",
      "\n",
      "\n",
      "Test set: Average loss: 4.2312, Accuracy: 1583/228544 (1%)\n",
      "\n"
     ]
    },
    {
     "name": "stderr",
     "output_type": "stream",
     "text": [
      "  1%|▏         | 1/70 [00:00<00:12,  5.36it/s]"
     ]
    },
    {
     "name": "stdout",
     "output_type": "stream",
     "text": [
      "Train Epoch: 0 [0/35947 (0%)]\tLoss: 4.227129\n"
     ]
    },
    {
     "name": "stderr",
     "output_type": "stream",
     "text": [
      " 16%|█▌        | 11/70 [00:02<00:12,  4.91it/s]"
     ]
    },
    {
     "name": "stdout",
     "output_type": "stream",
     "text": [
      "Train Epoch: 0 [5120/35947 (14%)]\tLoss: 1.177303\n"
     ]
    },
    {
     "name": "stderr",
     "output_type": "stream",
     "text": [
      " 31%|███▏      | 22/70 [00:04<00:08,  5.43it/s]"
     ]
    },
    {
     "name": "stdout",
     "output_type": "stream",
     "text": [
      "Train Epoch: 0 [10240/35947 (29%)]\tLoss: 0.985826\n"
     ]
    },
    {
     "name": "stderr",
     "output_type": "stream",
     "text": [
      " 44%|████▍     | 31/70 [00:06<00:08,  4.49it/s]"
     ]
    },
    {
     "name": "stdout",
     "output_type": "stream",
     "text": [
      "Train Epoch: 0 [15360/35947 (43%)]\tLoss: 1.073112\n"
     ]
    },
    {
     "name": "stderr",
     "output_type": "stream",
     "text": [
      " 60%|██████    | 42/70 [00:08<00:05,  5.00it/s]"
     ]
    },
    {
     "name": "stdout",
     "output_type": "stream",
     "text": [
      "Train Epoch: 0 [20480/35947 (57%)]\tLoss: 0.952294\n"
     ]
    },
    {
     "name": "stderr",
     "output_type": "stream",
     "text": [
      " 74%|███████▍  | 52/70 [00:10<00:03,  5.34it/s]"
     ]
    },
    {
     "name": "stdout",
     "output_type": "stream",
     "text": [
      "Train Epoch: 0 [25600/35947 (71%)]\tLoss: 1.036704\n"
     ]
    },
    {
     "name": "stderr",
     "output_type": "stream",
     "text": [
      " 89%|████████▊ | 62/70 [00:12<00:01,  5.45it/s]"
     ]
    },
    {
     "name": "stdout",
     "output_type": "stream",
     "text": [
      "Train Epoch: 0 [30720/35947 (86%)]\tLoss: 1.020675\n"
     ]
    },
    {
     "name": "stderr",
     "output_type": "stream",
     "text": [
      "100%|██████████| 70/70 [00:13<00:00,  5.15it/s]\n"
     ]
    },
    {
     "name": "stdout",
     "output_type": "stream",
     "text": [
      "Input\t['a', 'm', 'g', 'a', 't', 'h', 'a', 'v', 'a', 'v', 'u', 'm']\n",
      "GT\t['അ', 'ം', 'ഗ', 'ത', '്', 'വ', 'വ', 'ു', 'ം']\n",
      "pred\t['സ', 'സ', 'സ', 'ാ', '്', '്', '്', '്']\n",
      "\n",
      "\n",
      "Input\t['m', 'a', 'n', 'n', 'i', 'n', 'g']\n",
      "GT\t['മ', 'ാ', 'ന', 'ി', 'ം', 'ഗ', '്']\n",
      "pred\t['മ', 'ാ', 'ന', 'ന', 'ി', 'ന', '്']\n",
      "\n",
      "\n",
      "Input\t['t', 'h', 'e', 'n', 'g', 'a', 'a', 'p', 'p', 'a', 'a', 'l']\n",
      "GT\t['ത', 'േ', 'ങ', '്', 'ങ', 'ാ', 'പ', '്', 'പ', 'ാ', 'ൽ']\n",
      "pred\t['വ', '്', 'വ', '്', '്', 'ാ', 'ാ', 'പ', 'പ', '്', '്']\n",
      "\n",
      "\n",
      "\n",
      "Test set: Average loss: 0.9740, Accuracy: 167991/228544 (74%)\n",
      "\n"
     ]
    },
    {
     "name": "stderr",
     "output_type": "stream",
     "text": [
      "  1%|▏         | 1/70 [00:00<00:12,  5.41it/s]"
     ]
    },
    {
     "name": "stdout",
     "output_type": "stream",
     "text": [
      "Train Epoch: 1 [0/35947 (0%)]\tLoss: 1.113323\n"
     ]
    },
    {
     "name": "stderr",
     "output_type": "stream",
     "text": [
      " 17%|█▋        | 12/70 [00:02<00:10,  5.30it/s]"
     ]
    },
    {
     "name": "stdout",
     "output_type": "stream",
     "text": [
      "Train Epoch: 1 [5120/35947 (14%)]\tLoss: 0.992210\n"
     ]
    },
    {
     "name": "stderr",
     "output_type": "stream",
     "text": [
      " 30%|███       | 21/70 [00:03<00:09,  5.24it/s]"
     ]
    },
    {
     "name": "stdout",
     "output_type": "stream",
     "text": [
      "Train Epoch: 1 [10240/35947 (29%)]\tLoss: 0.778047\n"
     ]
    },
    {
     "name": "stderr",
     "output_type": "stream",
     "text": [
      " 44%|████▍     | 31/70 [00:05<00:07,  4.92it/s]"
     ]
    },
    {
     "name": "stdout",
     "output_type": "stream",
     "text": [
      "Train Epoch: 1 [15360/35947 (43%)]\tLoss: 1.005910\n"
     ]
    },
    {
     "name": "stderr",
     "output_type": "stream",
     "text": [
      " 60%|██████    | 42/70 [00:08<00:05,  5.29it/s]"
     ]
    },
    {
     "name": "stdout",
     "output_type": "stream",
     "text": [
      "Train Epoch: 1 [20480/35947 (57%)]\tLoss: 0.782895\n"
     ]
    },
    {
     "name": "stderr",
     "output_type": "stream",
     "text": [
      " 74%|███████▍  | 52/70 [00:09<00:03,  5.26it/s]"
     ]
    },
    {
     "name": "stdout",
     "output_type": "stream",
     "text": [
      "Train Epoch: 1 [25600/35947 (71%)]\tLoss: 0.843782\n"
     ]
    },
    {
     "name": "stderr",
     "output_type": "stream",
     "text": [
      " 87%|████████▋ | 61/70 [00:11<00:01,  5.17it/s]"
     ]
    },
    {
     "name": "stdout",
     "output_type": "stream",
     "text": [
      "Train Epoch: 1 [30720/35947 (86%)]\tLoss: 0.810533\n"
     ]
    },
    {
     "name": "stderr",
     "output_type": "stream",
     "text": [
      "100%|██████████| 70/70 [00:13<00:00,  5.20it/s]\n"
     ]
    },
    {
     "name": "stdout",
     "output_type": "stream",
     "text": [
      "Input\t['a', 'm', 'g', 'a', 't', 'h', 'a', 'v', 'a', 'v', 'u', 'm']\n",
      "GT\t['അ', 'ം', 'ഗ', 'ത', '്', 'വ', 'വ', 'ു', 'ം']\n",
      "pred\t['ബ', 'ാ', '്', 'ാ', '്', 'ത']\n",
      "\n",
      "\n",
      "Input\t['m', 'a', 'n', 'n', 'i', 'n', 'g']\n",
      "GT\t['മ', 'ാ', 'ന', 'ി', 'ം', 'ഗ', '്']\n",
      "pred\t['മ', 'ാ', '്', '്', 'ി', '്', '്']\n",
      "\n",
      "\n",
      "Input\t['t', 'h', 'e', 'n', 'g', 'a', 'a', 'p', 'p', 'a', 'a', 'l']\n",
      "GT\t['ത', 'േ', 'ങ', '്', 'ങ', 'ാ', 'പ', '്', 'പ', 'ാ', 'ൽ']\n",
      "pred\t['ത', 'ാ', 'ീ', '്', '്', '്']\n",
      "\n",
      "\n",
      "\n",
      "Test set: Average loss: 0.8285, Accuracy: 172735/228544 (76%)\n",
      "\n"
     ]
    },
    {
     "name": "stderr",
     "output_type": "stream",
     "text": [
      "  1%|▏         | 1/70 [00:00<00:12,  5.38it/s]"
     ]
    },
    {
     "name": "stdout",
     "output_type": "stream",
     "text": [
      "Train Epoch: 2 [0/35947 (0%)]\tLoss: 0.894693\n"
     ]
    },
    {
     "name": "stderr",
     "output_type": "stream",
     "text": [
      " 17%|█▋        | 12/70 [00:02<00:10,  5.29it/s]"
     ]
    },
    {
     "name": "stdout",
     "output_type": "stream",
     "text": [
      "Train Epoch: 2 [5120/35947 (14%)]\tLoss: 0.902290\n"
     ]
    },
    {
     "name": "stderr",
     "output_type": "stream",
     "text": [
      " 30%|███       | 21/70 [00:04<00:09,  4.98it/s]"
     ]
    },
    {
     "name": "stdout",
     "output_type": "stream",
     "text": [
      "Train Epoch: 2 [10240/35947 (29%)]\tLoss: 0.682833\n"
     ]
    },
    {
     "name": "stderr",
     "output_type": "stream",
     "text": [
      " 46%|████▌     | 32/70 [00:06<00:07,  5.20it/s]"
     ]
    },
    {
     "name": "stdout",
     "output_type": "stream",
     "text": [
      "Train Epoch: 2 [15360/35947 (43%)]\tLoss: 0.943956\n"
     ]
    },
    {
     "name": "stderr",
     "output_type": "stream",
     "text": [
      " 60%|██████    | 42/70 [00:08<00:05,  5.38it/s]"
     ]
    },
    {
     "name": "stdout",
     "output_type": "stream",
     "text": [
      "Train Epoch: 2 [20480/35947 (57%)]\tLoss: 0.711248\n"
     ]
    },
    {
     "name": "stderr",
     "output_type": "stream",
     "text": [
      " 74%|███████▍  | 52/70 [00:09<00:03,  5.38it/s]"
     ]
    },
    {
     "name": "stdout",
     "output_type": "stream",
     "text": [
      "Train Epoch: 2 [25600/35947 (71%)]\tLoss: 0.781755\n"
     ]
    },
    {
     "name": "stderr",
     "output_type": "stream",
     "text": [
      " 89%|████████▊ | 62/70 [00:11<00:01,  5.42it/s]"
     ]
    },
    {
     "name": "stdout",
     "output_type": "stream",
     "text": [
      "Train Epoch: 2 [30720/35947 (86%)]\tLoss: 0.742962\n"
     ]
    },
    {
     "name": "stderr",
     "output_type": "stream",
     "text": [
      "100%|██████████| 70/70 [00:13<00:00,  5.26it/s]\n"
     ]
    },
    {
     "name": "stdout",
     "output_type": "stream",
     "text": [
      "Input\t['a', 'm', 'g', 'a', 't', 'h', 'a', 'v', 'a', 'v', 'u', 'm']\n",
      "GT\t['അ', 'ം', 'ഗ', 'ത', '്', 'വ', 'വ', 'ു', 'ം']\n",
      "pred\t['ആ', 'മ', '്', '്', '്', 'ത']\n",
      "\n",
      "\n",
      "Input\t['m', 'a', 'n', 'n', 'i', 'n', 'g']\n",
      "GT\t['മ', 'ാ', 'ന', 'ി', 'ം', 'ഗ', '്']\n",
      "pred\t['മ', 'ാ', '്', '്', 'ി', 'ന', '്']\n",
      "\n",
      "\n",
      "Input\t['t', 'h', 'e', 'n', 'g', 'a', 'a', 'p', 'p', 'a', 'a', 'l']\n",
      "GT\t['ത', 'േ', 'ങ', '്', 'ങ', 'ാ', 'പ', '്', 'പ', 'ാ', 'ൽ']\n",
      "pred\t['ത', 'ി', 'ീ', 'ന', 'ങ', 'ങ']\n",
      "\n",
      "\n",
      "\n",
      "Test set: Average loss: 0.7546, Accuracy: 175484/228544 (77%)\n",
      "\n"
     ]
    },
    {
     "name": "stderr",
     "output_type": "stream",
     "text": [
      "  1%|▏         | 1/70 [00:00<00:13,  5.29it/s]"
     ]
    },
    {
     "name": "stdout",
     "output_type": "stream",
     "text": [
      "Train Epoch: 3 [0/35947 (0%)]\tLoss: 0.781777\n"
     ]
    },
    {
     "name": "stderr",
     "output_type": "stream",
     "text": [
      " 16%|█▌        | 11/70 [00:02<00:10,  5.37it/s]"
     ]
    },
    {
     "name": "stdout",
     "output_type": "stream",
     "text": [
      "Train Epoch: 3 [5120/35947 (14%)]\tLoss: 0.854704\n"
     ]
    },
    {
     "name": "stderr",
     "output_type": "stream",
     "text": [
      " 31%|███▏      | 22/70 [00:04<00:09,  5.17it/s]"
     ]
    },
    {
     "name": "stdout",
     "output_type": "stream",
     "text": [
      "Train Epoch: 3 [10240/35947 (29%)]\tLoss: 0.614244\n"
     ]
    },
    {
     "name": "stderr",
     "output_type": "stream",
     "text": [
      " 46%|████▌     | 32/70 [00:06<00:07,  5.41it/s]"
     ]
    },
    {
     "name": "stdout",
     "output_type": "stream",
     "text": [
      "Train Epoch: 3 [15360/35947 (43%)]\tLoss: 0.896668\n"
     ]
    },
    {
     "name": "stderr",
     "output_type": "stream",
     "text": [
      " 60%|██████    | 42/70 [00:07<00:05,  5.28it/s]"
     ]
    },
    {
     "name": "stdout",
     "output_type": "stream",
     "text": [
      "Train Epoch: 3 [20480/35947 (57%)]\tLoss: 0.677328\n"
     ]
    },
    {
     "name": "stderr",
     "output_type": "stream",
     "text": [
      " 74%|███████▍  | 52/70 [00:09<00:03,  5.34it/s]"
     ]
    },
    {
     "name": "stdout",
     "output_type": "stream",
     "text": [
      "Train Epoch: 3 [25600/35947 (71%)]\tLoss: 0.757241\n"
     ]
    },
    {
     "name": "stderr",
     "output_type": "stream",
     "text": [
      " 89%|████████▊ | 62/70 [00:11<00:01,  5.32it/s]"
     ]
    },
    {
     "name": "stdout",
     "output_type": "stream",
     "text": [
      "Train Epoch: 3 [30720/35947 (86%)]\tLoss: 0.720276\n"
     ]
    },
    {
     "name": "stderr",
     "output_type": "stream",
     "text": [
      "100%|██████████| 70/70 [00:13<00:00,  5.29it/s]\n"
     ]
    },
    {
     "name": "stdout",
     "output_type": "stream",
     "text": [
      "Input\t['a', 'm', 'g', 'a', 't', 'h', 'a', 'v', 'a', 'v', 'u', 'm']\n",
      "GT\t['അ', 'ം', 'ഗ', 'ത', '്', 'വ', 'വ', 'ു', 'ം']\n",
      "pred\t['ആ', 'ം', '്', '്', '്', 'ത']\n",
      "\n",
      "\n",
      "Input\t['m', 'a', 'n', 'n', 'i', 'n', 'g']\n",
      "GT\t['മ', 'ാ', 'ന', 'ി', 'ം', 'ഗ', '്']\n",
      "pred\t['മ', 'ാ', '്', 'ന', 'ി', 'ന', 'ഗ']\n",
      "\n",
      "\n",
      "Input\t['t', 'h', 'e', 'n', 'g', 'a', 'a', 'p', 'p', 'a', 'a', 'l']\n",
      "GT\t['ത', 'േ', 'ങ', '്', 'ങ', 'ാ', 'പ', '്', 'പ', 'ാ', 'ൽ']\n",
      "pred\t['ത', 'ി', 'ക', '്', 'ങ', 'ങ']\n",
      "\n",
      "\n",
      "\n",
      "Test set: Average loss: 0.7160, Accuracy: 176932/228544 (77%)\n",
      "\n"
     ]
    },
    {
     "name": "stderr",
     "output_type": "stream",
     "text": [
      "  1%|▏         | 1/70 [00:00<00:12,  5.39it/s]"
     ]
    },
    {
     "name": "stdout",
     "output_type": "stream",
     "text": [
      "Train Epoch: 4 [0/35947 (0%)]\tLoss: 0.749995\n"
     ]
    },
    {
     "name": "stderr",
     "output_type": "stream",
     "text": [
      " 16%|█▌        | 11/70 [00:02<00:10,  5.47it/s]"
     ]
    },
    {
     "name": "stdout",
     "output_type": "stream",
     "text": [
      "Train Epoch: 4 [5120/35947 (14%)]\tLoss: 0.800954\n"
     ]
    },
    {
     "name": "stderr",
     "output_type": "stream",
     "text": [
      " 31%|███▏      | 22/70 [00:04<00:09,  5.27it/s]"
     ]
    },
    {
     "name": "stdout",
     "output_type": "stream",
     "text": [
      "Train Epoch: 4 [10240/35947 (29%)]\tLoss: 0.574035\n"
     ]
    },
    {
     "name": "stderr",
     "output_type": "stream",
     "text": [
      " 46%|████▌     | 32/70 [00:06<00:07,  5.30it/s]"
     ]
    },
    {
     "name": "stdout",
     "output_type": "stream",
     "text": [
      "Train Epoch: 4 [15360/35947 (43%)]\tLoss: 0.845013\n"
     ]
    },
    {
     "name": "stderr",
     "output_type": "stream",
     "text": [
      " 60%|██████    | 42/70 [00:07<00:05,  5.30it/s]"
     ]
    },
    {
     "name": "stdout",
     "output_type": "stream",
     "text": [
      "Train Epoch: 4 [20480/35947 (57%)]\tLoss: 0.631030\n"
     ]
    },
    {
     "name": "stderr",
     "output_type": "stream",
     "text": [
      " 74%|███████▍  | 52/70 [00:09<00:03,  5.22it/s]"
     ]
    },
    {
     "name": "stdout",
     "output_type": "stream",
     "text": [
      "Train Epoch: 4 [25600/35947 (71%)]\tLoss: 0.735944\n"
     ]
    },
    {
     "name": "stderr",
     "output_type": "stream",
     "text": [
      " 89%|████████▊ | 62/70 [00:11<00:01,  5.28it/s]"
     ]
    },
    {
     "name": "stdout",
     "output_type": "stream",
     "text": [
      "Train Epoch: 4 [30720/35947 (86%)]\tLoss: 0.674187\n"
     ]
    },
    {
     "name": "stderr",
     "output_type": "stream",
     "text": [
      "100%|██████████| 70/70 [00:13<00:00,  5.21it/s]\n"
     ]
    },
    {
     "name": "stdout",
     "output_type": "stream",
     "text": [
      "Input\t['a', 'm', 'g', 'a', 't', 'h', 'a', 'v', 'a', 'v', 'u', 'm']\n",
      "GT\t['അ', 'ം', 'ഗ', 'ത', '്', 'വ', 'വ', 'ു', 'ം']\n",
      "pred\t['ആ', 'മ', 'ഗ', 'ഗ', '്', 'ത', '്', 'ു', '്']\n",
      "\n",
      "\n",
      "Input\t['m', 'a', 'n', 'n', 'i', 'n', 'g']\n",
      "GT\t['മ', 'ാ', 'ന', 'ി', 'ം', 'ഗ', '്']\n",
      "pred\t['മ', 'ാ', '്', 'ന', 'ി', 'ന', 'ഗ']\n",
      "\n",
      "\n",
      "Input\t['t', 'h', 'e', 'n', 'g', 'a', 'a', 'p', 'p', 'a', 'a', 'l']\n",
      "GT\t['ത', 'േ', 'ങ', '്', 'ങ', 'ാ', 'പ', '്', 'പ', 'ാ', 'ൽ']\n",
      "pred\t['ത', 'ാ', 'ക', '്', 'ങ', 'ങ', 'ൾ', 'പ', '്', 'ൾ']\n",
      "\n",
      "\n",
      "\n",
      "Test set: Average loss: 0.6776, Accuracy: 178934/228544 (78%)\n",
      "\n"
     ]
    },
    {
     "name": "stderr",
     "output_type": "stream",
     "text": [
      "  1%|▏         | 1/70 [00:00<00:13,  5.22it/s]"
     ]
    },
    {
     "name": "stdout",
     "output_type": "stream",
     "text": [
      "Train Epoch: 5 [0/35947 (0%)]\tLoss: 0.681872\n"
     ]
    },
    {
     "name": "stderr",
     "output_type": "stream",
     "text": [
      " 17%|█▋        | 12/70 [00:02<00:10,  5.37it/s]"
     ]
    },
    {
     "name": "stdout",
     "output_type": "stream",
     "text": [
      "Train Epoch: 5 [5120/35947 (14%)]\tLoss: 0.726929\n"
     ]
    },
    {
     "name": "stderr",
     "output_type": "stream",
     "text": [
      " 31%|███▏      | 22/70 [00:04<00:08,  5.45it/s]"
     ]
    },
    {
     "name": "stdout",
     "output_type": "stream",
     "text": [
      "Train Epoch: 5 [10240/35947 (29%)]\tLoss: 0.513059\n"
     ]
    },
    {
     "name": "stderr",
     "output_type": "stream",
     "text": [
      " 46%|████▌     | 32/70 [00:06<00:07,  5.24it/s]"
     ]
    },
    {
     "name": "stdout",
     "output_type": "stream",
     "text": [
      "Train Epoch: 5 [15360/35947 (43%)]\tLoss: 0.794600\n"
     ]
    },
    {
     "name": "stderr",
     "output_type": "stream",
     "text": [
      " 60%|██████    | 42/70 [00:08<00:05,  5.16it/s]"
     ]
    },
    {
     "name": "stdout",
     "output_type": "stream",
     "text": [
      "Train Epoch: 5 [20480/35947 (57%)]\tLoss: 0.605233\n"
     ]
    },
    {
     "name": "stderr",
     "output_type": "stream",
     "text": [
      " 73%|███████▎  | 51/70 [00:09<00:03,  4.95it/s]"
     ]
    },
    {
     "name": "stdout",
     "output_type": "stream",
     "text": [
      "Train Epoch: 5 [25600/35947 (71%)]\tLoss: 0.710103\n"
     ]
    },
    {
     "name": "stderr",
     "output_type": "stream",
     "text": [
      " 87%|████████▋ | 61/70 [00:11<00:01,  5.03it/s]"
     ]
    },
    {
     "name": "stdout",
     "output_type": "stream",
     "text": [
      "Train Epoch: 5 [30720/35947 (86%)]\tLoss: 0.592847\n"
     ]
    },
    {
     "name": "stderr",
     "output_type": "stream",
     "text": [
      "100%|██████████| 70/70 [00:13<00:00,  5.19it/s]\n"
     ]
    },
    {
     "name": "stdout",
     "output_type": "stream",
     "text": [
      "Input\t['a', 'm', 'g', 'a', 't', 'h', 'a', 'v', 'a', 'v', 'u', 'm']\n",
      "GT\t['അ', 'ം', 'ഗ', 'ത', '്', 'വ', 'വ', 'ു', 'ം']\n",
      "pred\t['ആ', 'ം', 'ഗ', 'ത', 'ത', 'ത', 'ത', 'ു', '്', '്']\n",
      "\n",
      "\n",
      "Input\t['m', 'a', 'n', 'n', 'i', 'n', 'g']\n",
      "GT\t['മ', 'ാ', 'ന', 'ി', 'ം', 'ഗ', '്']\n",
      "pred\t['മ', 'ാ', '്', 'ന', 'ി', 'ന', '്']\n",
      "\n",
      "\n",
      "Input\t['t', 'h', 'e', 'n', 'g', 'a', 'a', 'p', 'p', 'a', 'a', 'l']\n",
      "GT\t['ത', 'േ', 'ങ', '്', 'ങ', 'ാ', 'പ', '്', 'പ', 'ാ', 'ൽ']\n",
      "pred\t['ത', 'ി', 'ക', '്', 'ങ', 'ൾ', 'ൾ', 'പ', 'പ', 'ൾ', 'ൾ']\n",
      "\n",
      "\n",
      "\n",
      "Test set: Average loss: 0.6655, Accuracy: 180174/228544 (79%)\n",
      "\n"
     ]
    },
    {
     "name": "stderr",
     "output_type": "stream",
     "text": [
      "  1%|▏         | 1/70 [00:00<00:12,  5.45it/s]"
     ]
    },
    {
     "name": "stdout",
     "output_type": "stream",
     "text": [
      "Train Epoch: 6 [0/35947 (0%)]\tLoss: 0.668742\n"
     ]
    },
    {
     "name": "stderr",
     "output_type": "stream",
     "text": [
      " 17%|█▋        | 12/70 [00:02<00:11,  5.18it/s]"
     ]
    },
    {
     "name": "stdout",
     "output_type": "stream",
     "text": [
      "Train Epoch: 6 [5120/35947 (14%)]\tLoss: 0.706512\n"
     ]
    },
    {
     "name": "stderr",
     "output_type": "stream",
     "text": [
      " 31%|███▏      | 22/70 [00:04<00:08,  5.40it/s]"
     ]
    },
    {
     "name": "stdout",
     "output_type": "stream",
     "text": [
      "Train Epoch: 6 [10240/35947 (29%)]\tLoss: 0.479436\n"
     ]
    },
    {
     "name": "stderr",
     "output_type": "stream",
     "text": [
      " 46%|████▌     | 32/70 [00:06<00:07,  5.31it/s]"
     ]
    },
    {
     "name": "stdout",
     "output_type": "stream",
     "text": [
      "Train Epoch: 6 [15360/35947 (43%)]\tLoss: 0.744514\n"
     ]
    },
    {
     "name": "stderr",
     "output_type": "stream",
     "text": [
      " 60%|██████    | 42/70 [00:08<00:05,  5.13it/s]"
     ]
    },
    {
     "name": "stdout",
     "output_type": "stream",
     "text": [
      "Train Epoch: 6 [20480/35947 (57%)]\tLoss: 0.563708\n"
     ]
    },
    {
     "name": "stderr",
     "output_type": "stream",
     "text": [
      " 74%|███████▍  | 52/70 [00:09<00:03,  5.26it/s]"
     ]
    },
    {
     "name": "stdout",
     "output_type": "stream",
     "text": [
      "Train Epoch: 6 [25600/35947 (71%)]\tLoss: 0.696644\n"
     ]
    },
    {
     "name": "stderr",
     "output_type": "stream",
     "text": [
      " 89%|████████▊ | 62/70 [00:11<00:01,  5.15it/s]"
     ]
    },
    {
     "name": "stdout",
     "output_type": "stream",
     "text": [
      "Train Epoch: 6 [30720/35947 (86%)]\tLoss: 0.558261\n"
     ]
    },
    {
     "name": "stderr",
     "output_type": "stream",
     "text": [
      "100%|██████████| 70/70 [00:13<00:00,  5.25it/s]\n"
     ]
    },
    {
     "name": "stdout",
     "output_type": "stream",
     "text": [
      "Input\t['a', 'm', 'g', 'a', 't', 'h', 'a', 'v', 'a', 'v', 'u', 'm']\n",
      "GT\t['അ', 'ം', 'ഗ', 'ത', '്', 'വ', 'വ', 'ു', 'ം']\n",
      "pred\t['അ', 'ം', '്', '്', 'ത', 'ി', '്', '്', '്', '്']\n",
      "\n",
      "\n",
      "Input\t['m', 'a', 'n', 'n', 'i', 'n', 'g']\n",
      "GT\t['മ', 'ാ', 'ന', 'ി', 'ം', 'ഗ', '്']\n",
      "pred\t['മ', 'ാ', '്', 'ന', 'ി', 'ന', '്']\n",
      "\n",
      "\n",
      "Input\t['t', 'h', 'e', 'n', 'g', 'a', 'a', 'p', 'p', 'a', 'a', 'l']\n",
      "GT\t['ത', 'േ', 'ങ', '്', 'ങ', 'ാ', 'പ', '്', 'പ', 'ാ', 'ൽ']\n",
      "pred\t['ത', 'െ', 'ക', '്', 'ങ', 'ങ', 'ക', '്', 'പ', 'ക', 'ൾ']\n",
      "\n",
      "\n",
      "\n",
      "Test set: Average loss: 0.6379, Accuracy: 182257/228544 (80%)\n",
      "\n"
     ]
    },
    {
     "name": "stderr",
     "output_type": "stream",
     "text": [
      "  3%|▎         | 2/70 [00:00<00:13,  5.11it/s]"
     ]
    },
    {
     "name": "stdout",
     "output_type": "stream",
     "text": [
      "Train Epoch: 7 [0/35947 (0%)]\tLoss: 0.616231\n"
     ]
    },
    {
     "name": "stderr",
     "output_type": "stream",
     "text": [
      " 17%|█▋        | 12/70 [00:02<00:10,  5.27it/s]"
     ]
    },
    {
     "name": "stdout",
     "output_type": "stream",
     "text": [
      "Train Epoch: 7 [5120/35947 (14%)]\tLoss: 0.662260\n"
     ]
    },
    {
     "name": "stderr",
     "output_type": "stream",
     "text": [
      " 31%|███▏      | 22/70 [00:04<00:08,  5.37it/s]"
     ]
    },
    {
     "name": "stdout",
     "output_type": "stream",
     "text": [
      "Train Epoch: 7 [10240/35947 (29%)]\tLoss: 0.461638\n"
     ]
    },
    {
     "name": "stderr",
     "output_type": "stream",
     "text": [
      " 46%|████▌     | 32/70 [00:06<00:08,  4.65it/s]"
     ]
    },
    {
     "name": "stdout",
     "output_type": "stream",
     "text": [
      "Train Epoch: 7 [15360/35947 (43%)]\tLoss: 0.707753\n"
     ]
    },
    {
     "name": "stderr",
     "output_type": "stream",
     "text": [
      " 59%|█████▊    | 41/70 [00:08<00:05,  5.01it/s]"
     ]
    },
    {
     "name": "stdout",
     "output_type": "stream",
     "text": [
      "Train Epoch: 7 [20480/35947 (57%)]\tLoss: 0.526283\n"
     ]
    },
    {
     "name": "stderr",
     "output_type": "stream",
     "text": [
      " 74%|███████▍  | 52/70 [00:10<00:03,  5.16it/s]"
     ]
    },
    {
     "name": "stdout",
     "output_type": "stream",
     "text": [
      "Train Epoch: 7 [25600/35947 (71%)]\tLoss: 0.668361\n"
     ]
    },
    {
     "name": "stderr",
     "output_type": "stream",
     "text": [
      " 89%|████████▊ | 62/70 [00:12<00:01,  5.19it/s]"
     ]
    },
    {
     "name": "stdout",
     "output_type": "stream",
     "text": [
      "Train Epoch: 7 [30720/35947 (86%)]\tLoss: 0.541329\n"
     ]
    },
    {
     "name": "stderr",
     "output_type": "stream",
     "text": [
      "100%|██████████| 70/70 [00:13<00:00,  5.03it/s]\n"
     ]
    },
    {
     "name": "stdout",
     "output_type": "stream",
     "text": [
      "Input\t['a', 'm', 'g', 'a', 't', 'h', 'a', 'v', 'a', 'v', 'u', 'm']\n",
      "GT\t['അ', 'ം', 'ഗ', 'ത', '്', 'വ', 'വ', 'ു', 'ം']\n",
      "pred\t['ആ', 'ം', 'ഗ', 'ത', 'ത', 'ു', 'ം']\n",
      "\n",
      "\n",
      "Input\t['m', 'a', 'n', 'n', 'i', 'n', 'g']\n",
      "GT\t['മ', 'ാ', 'ന', 'ി', 'ം', 'ഗ', '്']\n",
      "pred\t['മ', 'ാ', '്', 'ന', 'ി', 'ന', '്']\n",
      "\n",
      "\n",
      "Input\t['t', 'h', 'e', 'n', 'g', 'a', 'a', 'p', 'p', 'a', 'a', 'l']\n",
      "GT\t['ത', 'േ', 'ങ', '്', 'ങ', 'ാ', 'പ', '്', 'പ', 'ാ', 'ൽ']\n",
      "pred\t['ത', 'ാ', 'ക', '്', 'ങ', 'ങ', 'ങ', '്', 'പ', 'ങ', 'ങ']\n",
      "\n",
      "\n",
      "\n",
      "Test set: Average loss: 0.6027, Accuracy: 184318/228544 (81%)\n",
      "\n"
     ]
    },
    {
     "name": "stderr",
     "output_type": "stream",
     "text": [
      "  1%|▏         | 1/70 [00:00<00:13,  5.13it/s]"
     ]
    },
    {
     "name": "stdout",
     "output_type": "stream",
     "text": [
      "Train Epoch: 8 [0/35947 (0%)]\tLoss: 0.624894\n"
     ]
    },
    {
     "name": "stderr",
     "output_type": "stream",
     "text": [
      " 17%|█▋        | 12/70 [00:02<00:11,  5.15it/s]"
     ]
    },
    {
     "name": "stdout",
     "output_type": "stream",
     "text": [
      "Train Epoch: 8 [5120/35947 (14%)]\tLoss: 0.633674\n"
     ]
    },
    {
     "name": "stderr",
     "output_type": "stream",
     "text": [
      " 31%|███▏      | 22/70 [00:04<00:08,  5.41it/s]"
     ]
    },
    {
     "name": "stdout",
     "output_type": "stream",
     "text": [
      "Train Epoch: 8 [10240/35947 (29%)]\tLoss: 0.451988\n"
     ]
    },
    {
     "name": "stderr",
     "output_type": "stream",
     "text": [
      " 46%|████▌     | 32/70 [00:06<00:07,  5.38it/s]"
     ]
    },
    {
     "name": "stdout",
     "output_type": "stream",
     "text": [
      "Train Epoch: 8 [15360/35947 (43%)]\tLoss: 0.680534\n"
     ]
    },
    {
     "name": "stderr",
     "output_type": "stream",
     "text": [
      " 60%|██████    | 42/70 [00:08<00:05,  5.00it/s]"
     ]
    },
    {
     "name": "stdout",
     "output_type": "stream",
     "text": [
      "Train Epoch: 8 [20480/35947 (57%)]\tLoss: 0.501023\n"
     ]
    },
    {
     "name": "stderr",
     "output_type": "stream",
     "text": [
      " 74%|███████▍  | 52/70 [00:10<00:03,  5.37it/s]"
     ]
    },
    {
     "name": "stdout",
     "output_type": "stream",
     "text": [
      "Train Epoch: 8 [25600/35947 (71%)]\tLoss: 0.647082\n"
     ]
    },
    {
     "name": "stderr",
     "output_type": "stream",
     "text": [
      " 89%|████████▊ | 62/70 [00:12<00:01,  5.31it/s]"
     ]
    },
    {
     "name": "stdout",
     "output_type": "stream",
     "text": [
      "Train Epoch: 8 [30720/35947 (86%)]\tLoss: 0.515393\n"
     ]
    },
    {
     "name": "stderr",
     "output_type": "stream",
     "text": [
      "100%|██████████| 70/70 [00:13<00:00,  5.16it/s]\n"
     ]
    },
    {
     "name": "stdout",
     "output_type": "stream",
     "text": [
      "Input\t['a', 'm', 'g', 'a', 't', 'h', 'a', 'v', 'a', 'v', 'u', 'm']\n",
      "GT\t['അ', 'ം', 'ഗ', 'ത', '്', 'വ', 'വ', 'ു', 'ം']\n",
      "pred\t['അ', 'ം', 'ഗ', 'ത', 'ത', '്', '്']\n",
      "\n",
      "\n",
      "Input\t['m', 'a', 'n', 'n', 'i', 'n', 'g']\n",
      "GT\t['മ', 'ാ', 'ന', 'ി', 'ം', 'ഗ', '്']\n",
      "pred\t['മ', 'ാ', '്', 'ന', 'ി', 'ന', '്']\n",
      "\n",
      "\n",
      "Input\t['t', 'h', 'e', 'n', 'g', 'a', 'a', 'p', 'p', 'a', 'a', 'l']\n",
      "GT\t['ത', 'േ', 'ങ', '്', 'ങ', 'ാ', 'പ', '്', 'പ', 'ാ', 'ൽ']\n",
      "pred\t['ത', 'ു', 'ങ', '്', 'ങ', 'ള', 'ങ', 'െ', 'പ', 'ങ', 'ങ']\n",
      "\n",
      "\n",
      "\n",
      "Test set: Average loss: 0.5929, Accuracy: 185363/228544 (81%)\n",
      "\n"
     ]
    },
    {
     "name": "stderr",
     "output_type": "stream",
     "text": [
      "  1%|▏         | 1/70 [00:00<00:12,  5.57it/s]"
     ]
    },
    {
     "name": "stdout",
     "output_type": "stream",
     "text": [
      "Train Epoch: 9 [0/35947 (0%)]\tLoss: 0.567316\n"
     ]
    },
    {
     "name": "stderr",
     "output_type": "stream",
     "text": [
      " 17%|█▋        | 12/70 [00:02<00:10,  5.30it/s]"
     ]
    },
    {
     "name": "stdout",
     "output_type": "stream",
     "text": [
      "Train Epoch: 9 [5120/35947 (14%)]\tLoss: 0.603434\n"
     ]
    },
    {
     "name": "stderr",
     "output_type": "stream",
     "text": [
      " 31%|███▏      | 22/70 [00:04<00:08,  5.37it/s]"
     ]
    },
    {
     "name": "stdout",
     "output_type": "stream",
     "text": [
      "Train Epoch: 9 [10240/35947 (29%)]\tLoss: 0.434303\n"
     ]
    },
    {
     "name": "stderr",
     "output_type": "stream",
     "text": [
      " 46%|████▌     | 32/70 [00:05<00:07,  5.34it/s]"
     ]
    },
    {
     "name": "stdout",
     "output_type": "stream",
     "text": [
      "Train Epoch: 9 [15360/35947 (43%)]\tLoss: 0.681549\n"
     ]
    },
    {
     "name": "stderr",
     "output_type": "stream",
     "text": [
      " 60%|██████    | 42/70 [00:07<00:05,  5.44it/s]"
     ]
    },
    {
     "name": "stdout",
     "output_type": "stream",
     "text": [
      "Train Epoch: 9 [20480/35947 (57%)]\tLoss: 0.522649\n"
     ]
    },
    {
     "name": "stderr",
     "output_type": "stream",
     "text": [
      " 74%|███████▍  | 52/70 [00:09<00:03,  5.33it/s]"
     ]
    },
    {
     "name": "stdout",
     "output_type": "stream",
     "text": [
      "Train Epoch: 9 [25600/35947 (71%)]\tLoss: 0.661496\n"
     ]
    },
    {
     "name": "stderr",
     "output_type": "stream",
     "text": [
      " 89%|████████▊ | 62/70 [00:11<00:01,  5.43it/s]"
     ]
    },
    {
     "name": "stdout",
     "output_type": "stream",
     "text": [
      "Train Epoch: 9 [30720/35947 (86%)]\tLoss: 0.500692\n"
     ]
    },
    {
     "name": "stderr",
     "output_type": "stream",
     "text": [
      "100%|██████████| 70/70 [00:13<00:00,  5.34it/s]\n"
     ]
    },
    {
     "name": "stdout",
     "output_type": "stream",
     "text": [
      "Input\t['a', 'm', 'g', 'a', 't', 'h', 'a', 'v', 'a', 'v', 'u', 'm']\n",
      "GT\t['അ', 'ം', 'ഗ', 'ത', '്', 'വ', 'വ', 'ു', 'ം']\n",
      "pred\t['ആ', 'ം', '്', '്', 'ത', 'ു', 'ു', 'ം']\n",
      "\n",
      "\n",
      "Input\t['m', 'a', 'n', 'n', 'i', 'n', 'g']\n",
      "GT\t['മ', 'ാ', 'ന', 'ി', 'ം', 'ഗ', '്']\n",
      "pred\t['മ', 'ാ', '്', 'ന', 'ി', 'ന', '്']\n",
      "\n",
      "\n",
      "Input\t['t', 'h', 'e', 'n', 'g', 'a', 'a', 'p', 'p', 'a', 'a', 'l']\n",
      "GT\t['ത', 'േ', 'ങ', '്', 'ങ', 'ാ', 'പ', '്', 'പ', 'ാ', 'ൽ']\n",
      "pred\t['ത', 'ി', 'ങ', 'ങ', 'ങ', 'ങ', 'ങ', '്', 'പ', 'ക', 'ൾ']\n",
      "\n",
      "\n",
      "\n",
      "Test set: Average loss: 0.5905, Accuracy: 185292/228544 (81%)\n",
      "\n"
     ]
    },
    {
     "name": "stderr",
     "output_type": "stream",
     "text": [
      "  1%|▏         | 1/70 [00:00<00:12,  5.45it/s]"
     ]
    },
    {
     "name": "stdout",
     "output_type": "stream",
     "text": [
      "Train Epoch: 10 [0/35947 (0%)]\tLoss: 0.613927\n"
     ]
    },
    {
     "name": "stderr",
     "output_type": "stream",
     "text": [
      " 17%|█▋        | 12/70 [00:02<00:11,  5.17it/s]"
     ]
    },
    {
     "name": "stdout",
     "output_type": "stream",
     "text": [
      "Train Epoch: 10 [5120/35947 (14%)]\tLoss: 0.626246\n"
     ]
    },
    {
     "name": "stderr",
     "output_type": "stream",
     "text": [
      " 30%|███       | 21/70 [00:04<00:10,  4.56it/s]"
     ]
    },
    {
     "name": "stdout",
     "output_type": "stream",
     "text": [
      "Train Epoch: 10 [10240/35947 (29%)]\tLoss: 0.420657\n"
     ]
    },
    {
     "name": "stderr",
     "output_type": "stream",
     "text": [
      " 44%|████▍     | 31/70 [00:06<00:07,  5.24it/s]"
     ]
    },
    {
     "name": "stdout",
     "output_type": "stream",
     "text": [
      "Train Epoch: 10 [15360/35947 (43%)]\tLoss: 0.648711\n"
     ]
    },
    {
     "name": "stderr",
     "output_type": "stream",
     "text": [
      " 60%|██████    | 42/70 [00:08<00:05,  5.20it/s]"
     ]
    },
    {
     "name": "stdout",
     "output_type": "stream",
     "text": [
      "Train Epoch: 10 [20480/35947 (57%)]\tLoss: 0.491013\n"
     ]
    },
    {
     "name": "stderr",
     "output_type": "stream",
     "text": [
      " 74%|███████▍  | 52/70 [00:10<00:03,  5.35it/s]"
     ]
    },
    {
     "name": "stdout",
     "output_type": "stream",
     "text": [
      "Train Epoch: 10 [25600/35947 (71%)]\tLoss: 0.659596\n"
     ]
    },
    {
     "name": "stderr",
     "output_type": "stream",
     "text": [
      " 89%|████████▊ | 62/70 [00:12<00:01,  5.35it/s]"
     ]
    },
    {
     "name": "stdout",
     "output_type": "stream",
     "text": [
      "Train Epoch: 10 [30720/35947 (86%)]\tLoss: 0.517877\n"
     ]
    },
    {
     "name": "stderr",
     "output_type": "stream",
     "text": [
      "100%|██████████| 70/70 [00:13<00:00,  5.15it/s]\n"
     ]
    },
    {
     "name": "stdout",
     "output_type": "stream",
     "text": [
      "Input\t['a', 'm', 'g', 'a', 't', 'h', 'a', 'v', 'a', 'v', 'u', 'm']\n",
      "GT\t['അ', 'ം', 'ഗ', 'ത', '്', 'വ', 'വ', 'ു', 'ം']\n",
      "pred\t['ആ', 'ം', '്', 'ാ', 'ത', 'ി', 'ം', 'ം', 'ം']\n",
      "\n",
      "\n",
      "Input\t['m', 'a', 'n', 'n', 'i', 'n', 'g']\n",
      "GT\t['മ', 'ാ', 'ന', 'ി', 'ം', 'ഗ', '്']\n",
      "pred\t['മ', 'ാ', '്', 'ന', 'ി', 'ന', '്', '്']\n",
      "\n",
      "\n",
      "Input\t['t', 'h', 'e', 'n', 'g', 'a', 'a', 'p', 'p', 'a', 'a', 'l']\n",
      "GT\t['ത', 'േ', 'ങ', '്', 'ങ', 'ാ', 'പ', '്', 'പ', 'ാ', 'ൽ']\n",
      "pred\t['ത', 'ാ', 'ല', '്', 'ങ', 'ള', 'ള', 'ി', 'ട', 'ക', 'ക', '്']\n",
      "\n",
      "\n",
      "\n",
      "Test set: Average loss: 0.6054, Accuracy: 184049/228544 (81%)\n",
      "\n"
     ]
    },
    {
     "name": "stderr",
     "output_type": "stream",
     "text": [
      "  1%|▏         | 1/70 [00:00<00:12,  5.39it/s]"
     ]
    },
    {
     "name": "stdout",
     "output_type": "stream",
     "text": [
      "Train Epoch: 11 [0/35947 (0%)]\tLoss: 0.548974\n"
     ]
    },
    {
     "name": "stderr",
     "output_type": "stream",
     "text": [
      " 17%|█▋        | 12/70 [00:02<00:11,  5.17it/s]"
     ]
    },
    {
     "name": "stdout",
     "output_type": "stream",
     "text": [
      "Train Epoch: 11 [5120/35947 (14%)]\tLoss: 0.587884\n"
     ]
    },
    {
     "name": "stderr",
     "output_type": "stream",
     "text": [
      " 31%|███▏      | 22/70 [00:04<00:09,  5.12it/s]"
     ]
    },
    {
     "name": "stdout",
     "output_type": "stream",
     "text": [
      "Train Epoch: 11 [10240/35947 (29%)]\tLoss: 0.430654\n"
     ]
    },
    {
     "name": "stderr",
     "output_type": "stream",
     "text": [
      " 46%|████▌     | 32/70 [00:06<00:07,  5.26it/s]"
     ]
    },
    {
     "name": "stdout",
     "output_type": "stream",
     "text": [
      "Train Epoch: 11 [15360/35947 (43%)]\tLoss: 0.641881\n"
     ]
    },
    {
     "name": "stderr",
     "output_type": "stream",
     "text": [
      " 59%|█████▊    | 41/70 [00:07<00:05,  5.13it/s]"
     ]
    },
    {
     "name": "stdout",
     "output_type": "stream",
     "text": [
      "Train Epoch: 11 [20480/35947 (57%)]\tLoss: 0.479491\n"
     ]
    },
    {
     "name": "stderr",
     "output_type": "stream",
     "text": [
      " 74%|███████▍  | 52/70 [00:10<00:03,  4.97it/s]"
     ]
    },
    {
     "name": "stdout",
     "output_type": "stream",
     "text": [
      "Train Epoch: 11 [25600/35947 (71%)]\tLoss: 0.615337\n"
     ]
    },
    {
     "name": "stderr",
     "output_type": "stream",
     "text": [
      " 89%|████████▊ | 62/70 [00:12<00:01,  5.06it/s]"
     ]
    },
    {
     "name": "stdout",
     "output_type": "stream",
     "text": [
      "Train Epoch: 11 [30720/35947 (86%)]\tLoss: 0.486450\n"
     ]
    },
    {
     "name": "stderr",
     "output_type": "stream",
     "text": [
      "100%|██████████| 70/70 [00:13<00:00,  5.13it/s]\n"
     ]
    },
    {
     "name": "stdout",
     "output_type": "stream",
     "text": [
      "Input\t['a', 'm', 'g', 'a', 't', 'h', 'a', 'v', 'a', 'v', 'u', 'm']\n",
      "GT\t['അ', 'ം', 'ഗ', 'ത', '്', 'വ', 'വ', 'ു', 'ം']\n",
      "pred\t['ആ', 'മ', 'ഗ', 'ാ', 'ത', 'ാ', 'ാ', 'യ', 'യ', 'ു']\n",
      "\n",
      "\n",
      "Input\t['m', 'a', 'n', 'n', 'i', 'n', 'g']\n",
      "GT\t['മ', 'ാ', 'ന', 'ി', 'ം', 'ഗ', '്']\n",
      "pred\t['മ', 'ാ', '്', 'ന', 'ി', 'ന', '്', '്']\n",
      "\n",
      "\n",
      "Input\t['t', 'h', 'e', 'n', 'g', 'a', 'a', 'p', 'p', 'a', 'a', 'l']\n",
      "GT\t['ത', 'േ', 'ങ', '്', 'ങ', 'ാ', 'പ', '്', 'പ', 'ാ', 'ൽ']\n",
      "pred\t['ത', 'ാ', 'ര', '്', 'ള', 'ള', 'ല', 'ി', 'ട', 'ാ', 'ി']\n",
      "\n",
      "\n",
      "\n",
      "Test set: Average loss: 0.5844, Accuracy: 185527/228544 (81%)\n",
      "\n"
     ]
    },
    {
     "name": "stderr",
     "output_type": "stream",
     "text": [
      "  1%|▏         | 1/70 [00:00<00:12,  5.40it/s]"
     ]
    },
    {
     "name": "stdout",
     "output_type": "stream",
     "text": [
      "Train Epoch: 12 [0/35947 (0%)]\tLoss: 0.558923\n"
     ]
    },
    {
     "name": "stderr",
     "output_type": "stream",
     "text": [
      " 16%|█▌        | 11/70 [00:02<00:12,  4.89it/s]"
     ]
    },
    {
     "name": "stdout",
     "output_type": "stream",
     "text": [
      "Train Epoch: 12 [5120/35947 (14%)]\tLoss: 0.555876\n"
     ]
    },
    {
     "name": "stderr",
     "output_type": "stream",
     "text": [
      " 30%|███       | 21/70 [00:04<00:10,  4.83it/s]"
     ]
    },
    {
     "name": "stdout",
     "output_type": "stream",
     "text": [
      "Train Epoch: 12 [10240/35947 (29%)]\tLoss: 0.393659\n"
     ]
    },
    {
     "name": "stderr",
     "output_type": "stream",
     "text": [
      " 46%|████▌     | 32/70 [00:06<00:06,  5.54it/s]"
     ]
    },
    {
     "name": "stdout",
     "output_type": "stream",
     "text": [
      "Train Epoch: 12 [15360/35947 (43%)]\tLoss: 0.620195\n"
     ]
    },
    {
     "name": "stderr",
     "output_type": "stream",
     "text": [
      " 60%|██████    | 42/70 [00:08<00:05,  5.40it/s]"
     ]
    },
    {
     "name": "stdout",
     "output_type": "stream",
     "text": [
      "Train Epoch: 12 [20480/35947 (57%)]\tLoss: 0.463121\n"
     ]
    },
    {
     "name": "stderr",
     "output_type": "stream",
     "text": [
      " 73%|███████▎  | 51/70 [00:09<00:03,  5.29it/s]"
     ]
    },
    {
     "name": "stdout",
     "output_type": "stream",
     "text": [
      "Train Epoch: 12 [25600/35947 (71%)]\tLoss: 0.603725\n"
     ]
    },
    {
     "name": "stderr",
     "output_type": "stream",
     "text": [
      " 89%|████████▊ | 62/70 [00:12<00:01,  5.31it/s]"
     ]
    },
    {
     "name": "stdout",
     "output_type": "stream",
     "text": [
      "Train Epoch: 12 [30720/35947 (86%)]\tLoss: 0.467815\n"
     ]
    },
    {
     "name": "stderr",
     "output_type": "stream",
     "text": [
      "100%|██████████| 70/70 [00:13<00:00,  5.12it/s]\n"
     ]
    },
    {
     "name": "stdout",
     "output_type": "stream",
     "text": [
      "Input\t['a', 'm', 'g', 'a', 't', 'h', 'a', 'v', 'a', 'v', 'u', 'm']\n",
      "GT\t['അ', 'ം', 'ഗ', 'ത', '്', 'വ', 'വ', 'ു', 'ം']\n",
      "pred\t['അ', 'മ', 'ഗ', 'ാ', 'ത', 'ു', 'ു', 'യ', 'ം']\n",
      "\n",
      "\n",
      "Input\t['m', 'a', 'n', 'n', 'i', 'n', 'g']\n",
      "GT\t['മ', 'ാ', 'ന', 'ി', 'ം', 'ഗ', '്']\n",
      "pred\t['മ', 'ാ', '്', 'ന', 'ി', 'ന', '്']\n",
      "\n",
      "\n",
      "Input\t['t', 'h', 'e', 'n', 'g', 'a', 'a', 'p', 'p', 'a', 'a', 'l']\n",
      "GT\t['ത', 'േ', 'ങ', '്', 'ങ', 'ാ', 'പ', '്', 'പ', 'ാ', 'ൽ']\n",
      "pred\t['ത', 'ി', 'ല', '്', 'ള', 'ാ', 'ി', '്', 'ട', 'ാ', 'ട', '്']\n",
      "\n",
      "\n",
      "\n",
      "Test set: Average loss: 0.5877, Accuracy: 185578/228544 (81%)\n",
      "\n"
     ]
    },
    {
     "name": "stderr",
     "output_type": "stream",
     "text": [
      "  1%|▏         | 1/70 [00:00<00:12,  5.32it/s]"
     ]
    },
    {
     "name": "stdout",
     "output_type": "stream",
     "text": [
      "Train Epoch: 13 [0/35947 (0%)]\tLoss: 0.518225\n"
     ]
    },
    {
     "name": "stderr",
     "output_type": "stream",
     "text": [
      " 17%|█▋        | 12/70 [00:02<00:11,  5.26it/s]"
     ]
    },
    {
     "name": "stdout",
     "output_type": "stream",
     "text": [
      "Train Epoch: 13 [5120/35947 (14%)]\tLoss: 0.509887\n"
     ]
    },
    {
     "name": "stderr",
     "output_type": "stream",
     "text": [
      " 31%|███▏      | 22/70 [00:04<00:08,  5.37it/s]"
     ]
    },
    {
     "name": "stdout",
     "output_type": "stream",
     "text": [
      "Train Epoch: 13 [10240/35947 (29%)]\tLoss: 0.379976\n"
     ]
    },
    {
     "name": "stderr",
     "output_type": "stream",
     "text": [
      " 44%|████▍     | 31/70 [00:05<00:08,  4.85it/s]"
     ]
    },
    {
     "name": "stdout",
     "output_type": "stream",
     "text": [
      "Train Epoch: 13 [15360/35947 (43%)]\tLoss: 0.580117\n"
     ]
    },
    {
     "name": "stderr",
     "output_type": "stream",
     "text": [
      " 60%|██████    | 42/70 [00:08<00:05,  5.18it/s]"
     ]
    },
    {
     "name": "stdout",
     "output_type": "stream",
     "text": [
      "Train Epoch: 13 [20480/35947 (57%)]\tLoss: 0.432200\n"
     ]
    },
    {
     "name": "stderr",
     "output_type": "stream",
     "text": [
      " 74%|███████▍  | 52/70 [00:10<00:03,  5.37it/s]"
     ]
    },
    {
     "name": "stdout",
     "output_type": "stream",
     "text": [
      "Train Epoch: 13 [25600/35947 (71%)]\tLoss: 0.586178\n"
     ]
    },
    {
     "name": "stderr",
     "output_type": "stream",
     "text": [
      " 89%|████████▊ | 62/70 [00:11<00:01,  5.43it/s]"
     ]
    },
    {
     "name": "stdout",
     "output_type": "stream",
     "text": [
      "Train Epoch: 13 [30720/35947 (86%)]\tLoss: 0.448960\n"
     ]
    },
    {
     "name": "stderr",
     "output_type": "stream",
     "text": [
      "100%|██████████| 70/70 [00:13<00:00,  5.19it/s]\n"
     ]
    },
    {
     "name": "stdout",
     "output_type": "stream",
     "text": [
      "Input\t['a', 'm', 'g', 'a', 't', 'h', 'a', 'v', 'a', 'v', 'u', 'm']\n",
      "GT\t['അ', 'ം', 'ഗ', 'ത', '്', 'വ', 'വ', 'ു', 'ം']\n",
      "pred\t['ആ', 'ം', 'ഗ', 'ാ', 'ത', 'ു', 'ു', 'ു', 'ു']\n",
      "\n",
      "\n",
      "Input\t['m', 'a', 'n', 'n', 'i', 'n', 'g']\n",
      "GT\t['മ', 'ാ', 'ന', 'ി', 'ം', 'ഗ', '്']\n",
      "pred\t['മ', 'ാ', '്', 'ന', 'ി', 'ന', '്', 'ഗ']\n",
      "\n",
      "\n",
      "Input\t['t', 'h', 'e', 'n', 'g', 'a', 'a', 'p', 'p', 'a', 'a', 'l']\n",
      "GT\t['ത', 'േ', 'ങ', '്', 'ങ', 'ാ', 'പ', '്', 'പ', 'ാ', 'ൽ']\n",
      "pred\t['ത', 'ി', 'ല', '്', 'ങ', 'ള', 'ി', '്', 'ട', 'ാ', '്', '്']\n",
      "\n",
      "\n",
      "\n",
      "Test set: Average loss: 0.5597, Accuracy: 186861/228544 (82%)\n",
      "\n"
     ]
    },
    {
     "name": "stderr",
     "output_type": "stream",
     "text": [
      "  1%|▏         | 1/70 [00:00<00:13,  5.30it/s]"
     ]
    },
    {
     "name": "stdout",
     "output_type": "stream",
     "text": [
      "Train Epoch: 14 [0/35947 (0%)]\tLoss: 0.515029\n"
     ]
    },
    {
     "name": "stderr",
     "output_type": "stream",
     "text": [
      " 16%|█▌        | 11/70 [00:02<00:11,  5.30it/s]"
     ]
    },
    {
     "name": "stdout",
     "output_type": "stream",
     "text": [
      "Train Epoch: 14 [5120/35947 (14%)]\tLoss: 0.537504\n"
     ]
    },
    {
     "name": "stderr",
     "output_type": "stream",
     "text": [
      " 31%|███▏      | 22/70 [00:04<00:09,  5.18it/s]"
     ]
    },
    {
     "name": "stdout",
     "output_type": "stream",
     "text": [
      "Train Epoch: 14 [10240/35947 (29%)]\tLoss: 0.378422\n"
     ]
    },
    {
     "name": "stderr",
     "output_type": "stream",
     "text": [
      " 46%|████▌     | 32/70 [00:06<00:07,  5.17it/s]"
     ]
    },
    {
     "name": "stdout",
     "output_type": "stream",
     "text": [
      "Train Epoch: 14 [15360/35947 (43%)]\tLoss: 0.598043\n"
     ]
    },
    {
     "name": "stderr",
     "output_type": "stream",
     "text": [
      " 60%|██████    | 42/70 [00:08<00:05,  5.33it/s]"
     ]
    },
    {
     "name": "stdout",
     "output_type": "stream",
     "text": [
      "Train Epoch: 14 [20480/35947 (57%)]\tLoss: 0.437270\n"
     ]
    },
    {
     "name": "stderr",
     "output_type": "stream",
     "text": [
      " 73%|███████▎  | 51/70 [00:09<00:03,  5.01it/s]"
     ]
    },
    {
     "name": "stdout",
     "output_type": "stream",
     "text": [
      "Train Epoch: 14 [25600/35947 (71%)]\tLoss: 0.596071\n"
     ]
    },
    {
     "name": "stderr",
     "output_type": "stream",
     "text": [
      " 89%|████████▊ | 62/70 [00:11<00:01,  5.27it/s]"
     ]
    },
    {
     "name": "stdout",
     "output_type": "stream",
     "text": [
      "Train Epoch: 14 [30720/35947 (86%)]\tLoss: 0.430121\n"
     ]
    },
    {
     "name": "stderr",
     "output_type": "stream",
     "text": [
      "100%|██████████| 70/70 [00:13<00:00,  5.17it/s]\n"
     ]
    },
    {
     "name": "stdout",
     "output_type": "stream",
     "text": [
      "Input\t['a', 'm', 'g', 'a', 't', 'h', 'a', 'v', 'a', 'v', 'u', 'm']\n",
      "GT\t['അ', 'ം', 'ഗ', 'ത', '്', 'വ', 'വ', 'ു', 'ം']\n",
      "pred\t['അ', 'മ', 'ഗ', 'ത', 'ത', 'ത', 'ത', 'ം', 'ം']\n",
      "\n",
      "\n",
      "Input\t['m', 'a', 'n', 'n', 'i', 'n', 'g']\n",
      "GT\t['മ', 'ാ', 'ന', 'ി', 'ം', 'ഗ', '്']\n",
      "pred\t['മ', 'ാ', '്', 'ന', 'ി', 'ന', 'ഗ', 'ഗ']\n",
      "\n",
      "\n",
      "Input\t['t', 'h', 'e', 'n', 'g', 'a', 'a', 'p', 'p', 'a', 'a', 'l']\n",
      "GT\t['ത', 'േ', 'ങ', '്', 'ങ', 'ാ', 'പ', '്', 'പ', 'ാ', 'ൽ']\n",
      "pred\t['ത', 'ു', 'ക', '്', 'ങ', 'ള', 'ി', '്', 'ട']\n",
      "\n",
      "\n",
      "\n",
      "Test set: Average loss: 0.5514, Accuracy: 187719/228544 (82%)\n",
      "\n"
     ]
    },
    {
     "name": "stderr",
     "output_type": "stream",
     "text": [
      "  3%|▎         | 2/70 [00:00<00:13,  4.94it/s]"
     ]
    },
    {
     "name": "stdout",
     "output_type": "stream",
     "text": [
      "Train Epoch: 15 [0/35947 (0%)]\tLoss: 0.470160\n"
     ]
    },
    {
     "name": "stderr",
     "output_type": "stream",
     "text": [
      " 17%|█▋        | 12/70 [00:02<00:10,  5.32it/s]"
     ]
    },
    {
     "name": "stdout",
     "output_type": "stream",
     "text": [
      "Train Epoch: 15 [5120/35947 (14%)]\tLoss: 0.502480\n"
     ]
    },
    {
     "name": "stderr",
     "output_type": "stream",
     "text": [
      " 31%|███▏      | 22/70 [00:04<00:09,  5.28it/s]"
     ]
    },
    {
     "name": "stdout",
     "output_type": "stream",
     "text": [
      "Train Epoch: 15 [10240/35947 (29%)]\tLoss: 0.364361\n"
     ]
    },
    {
     "name": "stderr",
     "output_type": "stream",
     "text": [
      " 46%|████▌     | 32/70 [00:06<00:07,  5.22it/s]"
     ]
    },
    {
     "name": "stdout",
     "output_type": "stream",
     "text": [
      "Train Epoch: 15 [15360/35947 (43%)]\tLoss: 0.557098\n"
     ]
    },
    {
     "name": "stderr",
     "output_type": "stream",
     "text": [
      " 60%|██████    | 42/70 [00:08<00:05,  5.47it/s]"
     ]
    },
    {
     "name": "stdout",
     "output_type": "stream",
     "text": [
      "Train Epoch: 15 [20480/35947 (57%)]\tLoss: 0.437574\n"
     ]
    },
    {
     "name": "stderr",
     "output_type": "stream",
     "text": [
      " 74%|███████▍  | 52/70 [00:09<00:03,  5.23it/s]"
     ]
    },
    {
     "name": "stdout",
     "output_type": "stream",
     "text": [
      "Train Epoch: 15 [25600/35947 (71%)]\tLoss: 0.571173\n"
     ]
    },
    {
     "name": "stderr",
     "output_type": "stream",
     "text": [
      " 89%|████████▊ | 62/70 [00:11<00:01,  5.11it/s]"
     ]
    },
    {
     "name": "stdout",
     "output_type": "stream",
     "text": [
      "Train Epoch: 15 [30720/35947 (86%)]\tLoss: 0.412090\n"
     ]
    },
    {
     "name": "stderr",
     "output_type": "stream",
     "text": [
      "100%|██████████| 70/70 [00:13<00:00,  5.22it/s]\n"
     ]
    },
    {
     "name": "stdout",
     "output_type": "stream",
     "text": [
      "Input\t['a', 'm', 'g', 'a', 't', 'h', 'a', 'v', 'a', 'v', 'u', 'm']\n",
      "GT\t['അ', 'ം', 'ഗ', 'ത', '്', 'വ', 'വ', 'ു', 'ം']\n",
      "pred\t['ആ', 'മ', 'ഗ', 'ത', 'ത', 'ത', 'ാ', 'ു', 'ം']\n",
      "\n",
      "\n",
      "Input\t['m', 'a', 'n', 'n', 'i', 'n', 'g']\n",
      "GT\t['മ', 'ാ', 'ന', 'ി', 'ം', 'ഗ', '്']\n",
      "pred\t['മ', 'ാ', '്', 'ന', 'ി', 'ന', 'ഗ', 'ഗ', '്']\n",
      "\n",
      "\n",
      "Input\t['t', 'h', 'e', 'n', 'g', 'a', 'a', 'p', 'p', 'a', 'a', 'l']\n",
      "GT\t['ത', 'േ', 'ങ', '്', 'ങ', 'ാ', 'പ', '്', 'പ', 'ാ', 'ൽ']\n",
      "pred\t['ത', 'ി', 'റ', '്', 'ങ', 'ള', 'ക', '്', 'ട', 'ാ']\n",
      "\n",
      "\n",
      "\n",
      "Test set: Average loss: 0.5606, Accuracy: 186461/228544 (82%)\n",
      "\n"
     ]
    },
    {
     "name": "stderr",
     "output_type": "stream",
     "text": [
      "  1%|▏         | 1/70 [00:00<00:12,  5.32it/s]"
     ]
    },
    {
     "name": "stdout",
     "output_type": "stream",
     "text": [
      "Train Epoch: 16 [0/35947 (0%)]\tLoss: 0.467930\n"
     ]
    },
    {
     "name": "stderr",
     "output_type": "stream",
     "text": [
      " 17%|█▋        | 12/70 [00:02<00:11,  5.11it/s]"
     ]
    },
    {
     "name": "stdout",
     "output_type": "stream",
     "text": [
      "Train Epoch: 16 [5120/35947 (14%)]\tLoss: 0.507668\n"
     ]
    },
    {
     "name": "stderr",
     "output_type": "stream",
     "text": [
      " 30%|███       | 21/70 [00:04<00:09,  5.19it/s]"
     ]
    },
    {
     "name": "stdout",
     "output_type": "stream",
     "text": [
      "Train Epoch: 16 [10240/35947 (29%)]\tLoss: 0.351806\n"
     ]
    },
    {
     "name": "stderr",
     "output_type": "stream",
     "text": [
      " 46%|████▌     | 32/70 [00:06<00:07,  5.22it/s]"
     ]
    },
    {
     "name": "stdout",
     "output_type": "stream",
     "text": [
      "Train Epoch: 16 [15360/35947 (43%)]\tLoss: 0.554861\n"
     ]
    },
    {
     "name": "stderr",
     "output_type": "stream",
     "text": [
      " 60%|██████    | 42/70 [00:08<00:05,  5.08it/s]"
     ]
    },
    {
     "name": "stdout",
     "output_type": "stream",
     "text": [
      "Train Epoch: 16 [20480/35947 (57%)]\tLoss: 0.414270\n"
     ]
    },
    {
     "name": "stderr",
     "output_type": "stream",
     "text": [
      " 74%|███████▍  | 52/70 [00:10<00:03,  5.16it/s]"
     ]
    },
    {
     "name": "stdout",
     "output_type": "stream",
     "text": [
      "Train Epoch: 16 [25600/35947 (71%)]\tLoss: 0.595492\n"
     ]
    },
    {
     "name": "stderr",
     "output_type": "stream",
     "text": [
      " 89%|████████▊ | 62/70 [00:11<00:01,  5.22it/s]"
     ]
    },
    {
     "name": "stdout",
     "output_type": "stream",
     "text": [
      "Train Epoch: 16 [30720/35947 (86%)]\tLoss: 0.417200\n"
     ]
    },
    {
     "name": "stderr",
     "output_type": "stream",
     "text": [
      "100%|██████████| 70/70 [00:13<00:00,  5.18it/s]\n"
     ]
    },
    {
     "name": "stdout",
     "output_type": "stream",
     "text": [
      "Input\t['a', 'm', 'g', 'a', 't', 'h', 'a', 'v', 'a', 'v', 'u', 'm']\n",
      "GT\t['അ', 'ം', 'ഗ', 'ത', '്', 'വ', 'വ', 'ു', 'ം']\n",
      "pred\t['അ', 'ം', 'ഗ', 'ത', 'ത', '്', 'ു', 'ം', 'ു']\n",
      "\n",
      "\n",
      "Input\t['m', 'a', 'n', 'n', 'i', 'n', 'g']\n",
      "GT\t['മ', 'ാ', 'ന', 'ി', 'ം', 'ഗ', '്']\n",
      "pred\t['മ', 'ാ', '്', 'ന', 'ി', 'ന', '്', 'ഗ', '്']\n",
      "\n",
      "\n",
      "Input\t['t', 'h', 'e', 'n', 'g', 'a', 'a', 'p', 'p', 'a', 'a', 'l']\n",
      "GT\t['ത', 'േ', 'ങ', '്', 'ങ', 'ാ', 'പ', '്', 'പ', 'ാ', 'ൽ']\n",
      "pred\t['ത', 'ി', 'ള', '്', 'ങ', 'ങ', 'ങ', '്', 'പ', '്', 'ൾ']\n",
      "\n",
      "\n",
      "\n",
      "Test set: Average loss: 0.5698, Accuracy: 185844/228544 (81%)\n",
      "\n"
     ]
    },
    {
     "name": "stderr",
     "output_type": "stream",
     "text": [
      "  1%|▏         | 1/70 [00:00<00:12,  5.47it/s]"
     ]
    },
    {
     "name": "stdout",
     "output_type": "stream",
     "text": [
      "Train Epoch: 17 [0/35947 (0%)]\tLoss: 0.449768\n"
     ]
    },
    {
     "name": "stderr",
     "output_type": "stream",
     "text": [
      " 17%|█▋        | 12/70 [00:02<00:11,  5.20it/s]"
     ]
    },
    {
     "name": "stdout",
     "output_type": "stream",
     "text": [
      "Train Epoch: 17 [5120/35947 (14%)]\tLoss: 0.526251\n"
     ]
    },
    {
     "name": "stderr",
     "output_type": "stream",
     "text": [
      " 31%|███▏      | 22/70 [00:04<00:09,  5.03it/s]"
     ]
    },
    {
     "name": "stdout",
     "output_type": "stream",
     "text": [
      "Train Epoch: 17 [10240/35947 (29%)]\tLoss: 0.368632\n"
     ]
    },
    {
     "name": "stderr",
     "output_type": "stream",
     "text": [
      " 46%|████▌     | 32/70 [00:06<00:07,  5.02it/s]"
     ]
    },
    {
     "name": "stdout",
     "output_type": "stream",
     "text": [
      "Train Epoch: 17 [15360/35947 (43%)]\tLoss: 0.554868\n"
     ]
    },
    {
     "name": "stderr",
     "output_type": "stream",
     "text": [
      " 59%|█████▊    | 41/70 [00:07<00:05,  5.36it/s]"
     ]
    },
    {
     "name": "stdout",
     "output_type": "stream",
     "text": [
      "Train Epoch: 17 [20480/35947 (57%)]\tLoss: 0.445614\n"
     ]
    },
    {
     "name": "stderr",
     "output_type": "stream",
     "text": [
      " 74%|███████▍  | 52/70 [00:10<00:03,  5.40it/s]"
     ]
    },
    {
     "name": "stdout",
     "output_type": "stream",
     "text": [
      "Train Epoch: 17 [25600/35947 (71%)]\tLoss: 0.576798\n"
     ]
    },
    {
     "name": "stderr",
     "output_type": "stream",
     "text": [
      " 89%|████████▊ | 62/70 [00:11<00:01,  5.29it/s]"
     ]
    },
    {
     "name": "stdout",
     "output_type": "stream",
     "text": [
      "Train Epoch: 17 [30720/35947 (86%)]\tLoss: 0.411239\n"
     ]
    },
    {
     "name": "stderr",
     "output_type": "stream",
     "text": [
      "100%|██████████| 70/70 [00:13<00:00,  5.20it/s]\n"
     ]
    },
    {
     "name": "stdout",
     "output_type": "stream",
     "text": [
      "Input\t['a', 'm', 'g', 'a', 't', 'h', 'a', 'v', 'a', 'v', 'u', 'm']\n",
      "GT\t['അ', 'ം', 'ഗ', 'ത', '്', 'വ', 'വ', 'ു', 'ം']\n",
      "pred\t['ആ', 'മ', 'ഗ', 'ത', 'ത', 'ത', 'ാ', 'ു', 'ു', 'ം']\n",
      "\n",
      "\n",
      "Input\t['m', 'a', 'n', 'n', 'i', 'n', 'g']\n",
      "GT\t['മ', 'ാ', 'ന', 'ി', 'ം', 'ഗ', '്']\n",
      "pred\t['മ', 'ാ', 'ൻ', 'ന', 'ി', 'ന', '്', 'ഗ', '്']\n",
      "\n",
      "\n",
      "Input\t['t', 'h', 'e', 'n', 'g', 'a', 'a', 'p', 'p', 'a', 'a', 'l']\n",
      "GT\t['ത', 'േ', 'ങ', '്', 'ങ', 'ാ', 'പ', '്', 'പ', 'ാ', 'ൽ']\n",
      "pred\t['ത', 'ി', 'ങ', 'ങ', 'ങ', 'ങ', 'ങ', '്', 'പ', 'ങ']\n",
      "\n",
      "\n",
      "\n",
      "Test set: Average loss: 0.5495, Accuracy: 187315/228544 (82%)\n",
      "\n"
     ]
    },
    {
     "name": "stderr",
     "output_type": "stream",
     "text": [
      "  1%|▏         | 1/70 [00:00<00:13,  5.18it/s]"
     ]
    },
    {
     "name": "stdout",
     "output_type": "stream",
     "text": [
      "Train Epoch: 18 [0/35947 (0%)]\tLoss: 0.450973\n"
     ]
    },
    {
     "name": "stderr",
     "output_type": "stream",
     "text": [
      " 17%|█▋        | 12/70 [00:02<00:11,  5.11it/s]"
     ]
    },
    {
     "name": "stdout",
     "output_type": "stream",
     "text": [
      "Train Epoch: 18 [5120/35947 (14%)]\tLoss: 0.483019\n"
     ]
    },
    {
     "name": "stderr",
     "output_type": "stream",
     "text": [
      " 31%|███▏      | 22/70 [00:04<00:09,  5.26it/s]"
     ]
    },
    {
     "name": "stdout",
     "output_type": "stream",
     "text": [
      "Train Epoch: 18 [10240/35947 (29%)]\tLoss: 0.373679\n"
     ]
    },
    {
     "name": "stderr",
     "output_type": "stream",
     "text": [
      " 46%|████▌     | 32/70 [00:06<00:07,  5.41it/s]"
     ]
    },
    {
     "name": "stdout",
     "output_type": "stream",
     "text": [
      "Train Epoch: 18 [15360/35947 (43%)]\tLoss: 0.554295\n"
     ]
    },
    {
     "name": "stderr",
     "output_type": "stream",
     "text": [
      " 60%|██████    | 42/70 [00:08<00:05,  5.33it/s]"
     ]
    },
    {
     "name": "stdout",
     "output_type": "stream",
     "text": [
      "Train Epoch: 18 [20480/35947 (57%)]\tLoss: 0.405411\n"
     ]
    },
    {
     "name": "stderr",
     "output_type": "stream",
     "text": [
      " 74%|███████▍  | 52/70 [00:09<00:03,  5.32it/s]"
     ]
    },
    {
     "name": "stdout",
     "output_type": "stream",
     "text": [
      "Train Epoch: 18 [25600/35947 (71%)]\tLoss: 0.574354\n"
     ]
    },
    {
     "name": "stderr",
     "output_type": "stream",
     "text": [
      " 89%|████████▊ | 62/70 [00:11<00:01,  5.50it/s]"
     ]
    },
    {
     "name": "stdout",
     "output_type": "stream",
     "text": [
      "Train Epoch: 18 [30720/35947 (86%)]\tLoss: 0.422542\n"
     ]
    },
    {
     "name": "stderr",
     "output_type": "stream",
     "text": [
      "100%|██████████| 70/70 [00:13<00:00,  5.24it/s]\n"
     ]
    },
    {
     "name": "stdout",
     "output_type": "stream",
     "text": [
      "Input\t['a', 'm', 'g', 'a', 't', 'h', 'a', 'v', 'a', 'v', 'u', 'm']\n",
      "GT\t['അ', 'ം', 'ഗ', 'ത', '്', 'വ', 'വ', 'ു', 'ം']\n",
      "pred\t['അ', 'ം', 'ഗ', 'ാ', 'ത', '്', 'ു', 'ു', 'ു']\n",
      "\n",
      "\n",
      "Input\t['m', 'a', 'n', 'n', 'i', 'n', 'g']\n",
      "GT\t['മ', 'ാ', 'ന', 'ി', 'ം', 'ഗ', '്']\n",
      "pred\t['മ', 'ാ', '്', 'ന', 'ി', 'ന', '്', 'ഗ', '്']\n",
      "\n",
      "\n",
      "Input\t['t', 'h', 'e', 'n', 'g', 'a', 'a', 'p', 'p', 'a', 'a', 'l']\n",
      "GT\t['ത', 'േ', 'ങ', '്', 'ങ', 'ാ', 'പ', '്', 'പ', 'ാ', 'ൽ']\n",
      "pred\t['ത', 'ി', 'ങ', '്', 'ങ', 'ൾ']\n",
      "\n",
      "\n",
      "\n",
      "Test set: Average loss: 0.5563, Accuracy: 187402/228544 (82%)\n",
      "\n"
     ]
    },
    {
     "name": "stderr",
     "output_type": "stream",
     "text": [
      "  1%|▏         | 1/70 [00:00<00:13,  5.14it/s]"
     ]
    },
    {
     "name": "stdout",
     "output_type": "stream",
     "text": [
      "Train Epoch: 19 [0/35947 (0%)]\tLoss: 0.418123\n"
     ]
    },
    {
     "name": "stderr",
     "output_type": "stream",
     "text": [
      " 17%|█▋        | 12/70 [00:02<00:10,  5.33it/s]"
     ]
    },
    {
     "name": "stdout",
     "output_type": "stream",
     "text": [
      "Train Epoch: 19 [5120/35947 (14%)]\tLoss: 0.465412\n"
     ]
    },
    {
     "name": "stderr",
     "output_type": "stream",
     "text": [
      " 31%|███▏      | 22/70 [00:04<00:08,  5.43it/s]"
     ]
    },
    {
     "name": "stdout",
     "output_type": "stream",
     "text": [
      "Train Epoch: 19 [10240/35947 (29%)]\tLoss: 0.343470\n"
     ]
    },
    {
     "name": "stderr",
     "output_type": "stream",
     "text": [
      " 46%|████▌     | 32/70 [00:06<00:07,  5.22it/s]"
     ]
    },
    {
     "name": "stdout",
     "output_type": "stream",
     "text": [
      "Train Epoch: 19 [15360/35947 (43%)]\tLoss: 0.535897\n"
     ]
    },
    {
     "name": "stderr",
     "output_type": "stream",
     "text": [
      " 60%|██████    | 42/70 [00:07<00:05,  5.34it/s]"
     ]
    },
    {
     "name": "stdout",
     "output_type": "stream",
     "text": [
      "Train Epoch: 19 [20480/35947 (57%)]\tLoss: 0.400371\n"
     ]
    },
    {
     "name": "stderr",
     "output_type": "stream",
     "text": [
      " 74%|███████▍  | 52/70 [00:09<00:03,  5.39it/s]"
     ]
    },
    {
     "name": "stdout",
     "output_type": "stream",
     "text": [
      "Train Epoch: 19 [25600/35947 (71%)]\tLoss: 0.550042\n"
     ]
    },
    {
     "name": "stderr",
     "output_type": "stream",
     "text": [
      " 87%|████████▋ | 61/70 [00:11<00:01,  4.88it/s]"
     ]
    },
    {
     "name": "stdout",
     "output_type": "stream",
     "text": [
      "Train Epoch: 19 [30720/35947 (86%)]\tLoss: 0.382854\n"
     ]
    },
    {
     "name": "stderr",
     "output_type": "stream",
     "text": [
      "100%|██████████| 70/70 [00:13<00:00,  5.27it/s]\n"
     ]
    },
    {
     "name": "stdout",
     "output_type": "stream",
     "text": [
      "Input\t['a', 'm', 'g', 'a', 't', 'h', 'a', 'v', 'a', 'v', 'u', 'm']\n",
      "GT\t['അ', 'ം', 'ഗ', 'ത', '്', 'വ', 'വ', 'ു', 'ം']\n",
      "pred\t['ആ', 'ം', 'ഗ', 'ാ', '്', 'വ', 'ം', 'ു']\n",
      "\n",
      "\n",
      "Input\t['m', 'a', 'n', 'n', 'i', 'n', 'g']\n",
      "GT\t['മ', 'ാ', 'ന', 'ി', 'ം', 'ഗ', '്']\n",
      "pred\t['മ', 'ാ', '്', 'ന', 'ി', 'ന', '്', 'ഗ', '്']\n",
      "\n",
      "\n",
      "Input\t['t', 'h', 'e', 'n', 'g', 'a', 'a', 'p', 'p', 'a', 'a', 'l']\n",
      "GT\t['ത', 'േ', 'ങ', '്', 'ങ', 'ാ', 'പ', '്', 'പ', 'ാ', 'ൽ']\n",
      "pred\t['ത', 'െ', 'റ', '്', 'ങ']\n",
      "\n",
      "\n",
      "\n",
      "Test set: Average loss: 0.5454, Accuracy: 187759/228544 (82%)\n",
      "\n"
     ]
    },
    {
     "name": "stderr",
     "output_type": "stream",
     "text": [
      "  1%|▏         | 1/70 [00:00<00:12,  5.52it/s]"
     ]
    },
    {
     "name": "stdout",
     "output_type": "stream",
     "text": [
      "Train Epoch: 20 [0/35947 (0%)]\tLoss: 0.454483\n"
     ]
    },
    {
     "name": "stderr",
     "output_type": "stream",
     "text": [
      " 17%|█▋        | 12/70 [00:02<00:11,  5.26it/s]"
     ]
    },
    {
     "name": "stdout",
     "output_type": "stream",
     "text": [
      "Train Epoch: 20 [5120/35947 (14%)]\tLoss: 0.482897\n"
     ]
    },
    {
     "name": "stderr",
     "output_type": "stream",
     "text": [
      " 31%|███▏      | 22/70 [00:04<00:08,  5.39it/s]"
     ]
    },
    {
     "name": "stdout",
     "output_type": "stream",
     "text": [
      "Train Epoch: 20 [10240/35947 (29%)]\tLoss: 0.338690\n"
     ]
    },
    {
     "name": "stderr",
     "output_type": "stream",
     "text": [
      " 46%|████▌     | 32/70 [00:06<00:07,  5.33it/s]"
     ]
    },
    {
     "name": "stdout",
     "output_type": "stream",
     "text": [
      "Train Epoch: 20 [15360/35947 (43%)]\tLoss: 0.498799\n"
     ]
    },
    {
     "name": "stderr",
     "output_type": "stream",
     "text": [
      " 60%|██████    | 42/70 [00:07<00:05,  5.41it/s]"
     ]
    },
    {
     "name": "stdout",
     "output_type": "stream",
     "text": [
      "Train Epoch: 20 [20480/35947 (57%)]\tLoss: 0.408735\n"
     ]
    },
    {
     "name": "stderr",
     "output_type": "stream",
     "text": [
      " 73%|███████▎  | 51/70 [00:09<00:03,  5.41it/s]"
     ]
    },
    {
     "name": "stdout",
     "output_type": "stream",
     "text": [
      "Train Epoch: 20 [25600/35947 (71%)]\tLoss: 0.560855\n"
     ]
    },
    {
     "name": "stderr",
     "output_type": "stream",
     "text": [
      " 89%|████████▊ | 62/70 [00:11<00:01,  5.30it/s]"
     ]
    },
    {
     "name": "stdout",
     "output_type": "stream",
     "text": [
      "Train Epoch: 20 [30720/35947 (86%)]\tLoss: 0.420999\n"
     ]
    },
    {
     "name": "stderr",
     "output_type": "stream",
     "text": [
      "100%|██████████| 70/70 [00:13<00:00,  5.30it/s]\n"
     ]
    },
    {
     "name": "stdout",
     "output_type": "stream",
     "text": [
      "Input\t['a', 'm', 'g', 'a', 't', 'h', 'a', 'v', 'a', 'v', 'u', 'm']\n",
      "GT\t['അ', 'ം', 'ഗ', 'ത', '്', 'വ', 'വ', 'ു', 'ം']\n",
      "pred\t['അ', 'ം', 'ഗ', 'വ', '്', 'ത', 'ം']\n",
      "\n",
      "\n",
      "Input\t['m', 'a', 'n', 'n', 'i', 'n', 'g']\n",
      "GT\t['മ', 'ാ', 'ന', 'ി', 'ം', 'ഗ', '്']\n",
      "pred\t['മ', 'ാ', '്', 'ന', 'ി', 'ന', '്', '്', '്']\n",
      "\n",
      "\n",
      "Input\t['t', 'h', 'e', 'n', 'g', 'a', 'a', 'p', 'p', 'a', 'a', 'l']\n",
      "GT\t['ത', 'േ', 'ങ', '്', 'ങ', 'ാ', 'പ', '്', 'പ', 'ാ', 'ൽ']\n",
      "pred\t['ത', 'ങ', 'ങ', '്', 'ങ', 'ൾ']\n",
      "\n",
      "\n",
      "\n",
      "Test set: Average loss: 0.5593, Accuracy: 187150/228544 (82%)\n",
      "\n"
     ]
    },
    {
     "data": {
      "image/png": "[encoded data removed]",
      "text/plain": [
       "<Figure size 864x432 with 1 Axes>"
      ]
     },
     "metadata": {},
     "output_type": "display_data"
    },
    {
     "data": {
      "image/png": "[encoded data removed]",
      "text/plain": [
       "<Figure size 864x432 with 1 Axes>"
      ]
     },
     "metadata": {},
     "output_type": "display_data"
    }
   ],
   "source": [
    "ml_gru_model, ml_en_voc2ind, ml_ind2voc, ml_seq_len, _ = main('ml', 'gru')"
   ]
  },
  {
   "cell_type": "code",
   "execution_count": 18,
   "id": "0deb1747",
   "metadata": {},
   "outputs": [
    {
     "name": "stdout",
     "output_type": "stream",
     "text": [
      "Using device cpu\n",
      "num workers: 48\n",
      "Input\t['a', 'm', 'g', 'a', 't', 'h', 'a', 'v', 'a', 'v', 'u', 'm']\n",
      "GT\t['അ', 'ം', 'ഗ', 'ത', '്', 'വ', 'വ', 'ു', 'ം']\n",
      "pred\t['ൽ', 'െ', 'െ', 'െ', 'െ', 'ു', 'െ', 'ു', 'ു', 'ു', 'ു', 'ു', 'ു', 'ു', 'ു', 'ു', 'ു', 'ു', 'ു', 'ു', 'ു', 'ു', 'ു', 'ു', 'ു', 'ു', 'ു', 'ു', 'ു', 'ു', 'ു', 'ു']\n",
      "\n",
      "\n",
      "Input\t['m', 'a', 'n', 'n', 'i', 'n', 'g']\n",
      "GT\t['മ', 'ാ', 'ന', 'ി', 'ം', 'ഗ', '്']\n",
      "pred\t['ൽ', 'െ', 'െ', 'െ', 'ു', 'ു', 'ു', 'ു', 'ു', 'ു', 'ു', 'ു', 'ു', 'ു', 'ു', 'ു', 'ു', 'ു', 'ു', 'ു', 'ു', 'ു', 'ു', 'ു', 'ു', 'ു', 'ു', 'ു', 'ു', 'ു', 'ു', 'ു']\n",
      "\n",
      "\n",
      "Input\t['t', 'h', 'e', 'n', 'g', 'a', 'a', 'p', 'p', 'a', 'a', 'l']\n",
      "GT\t['ത', 'േ', 'ങ', '്', 'ങ', 'ാ', 'പ', '്', 'പ', 'ാ', 'ൽ']\n",
      "pred\t['ൽ', 'ള', 'ള', 'ള', 'ു', 'െ', 'െ', 'ു', 'ു', 'ു', 'ു', 'ു', 'ു', 'ു', 'ു', 'ു', 'ു', 'ു', 'ു', 'ു', 'ു', 'ു', 'ു', 'ു', 'ു', 'ു', 'ു', 'ു', 'ു', 'ു', 'ു', 'ു']\n",
      "\n",
      "\n",
      "\n",
      "Test set: Average loss: 4.3132, Accuracy: 2116/228544 (1%)\n",
      "\n"
     ]
    },
    {
     "name": "stderr",
     "output_type": "stream",
     "text": [
      "  1%|▏         | 1/70 [00:00<00:12,  5.41it/s]"
     ]
    },
    {
     "name": "stdout",
     "output_type": "stream",
     "text": [
      "Train Epoch: 0 [0/35947 (0%)]\tLoss: 4.307038\n"
     ]
    },
    {
     "name": "stderr",
     "output_type": "stream",
     "text": [
      " 16%|█▌        | 11/70 [00:02<00:13,  4.42it/s]"
     ]
    },
    {
     "name": "stdout",
     "output_type": "stream",
     "text": [
      "Train Epoch: 0 [5120/35947 (14%)]\tLoss: 1.228041\n"
     ]
    },
    {
     "name": "stderr",
     "output_type": "stream",
     "text": [
      " 30%|███       | 21/70 [00:04<00:11,  4.21it/s]"
     ]
    },
    {
     "name": "stdout",
     "output_type": "stream",
     "text": [
      "Train Epoch: 0 [10240/35947 (29%)]\tLoss: 1.063486\n"
     ]
    },
    {
     "name": "stderr",
     "output_type": "stream",
     "text": [
      " 44%|████▍     | 31/70 [00:07<00:08,  4.37it/s]"
     ]
    },
    {
     "name": "stdout",
     "output_type": "stream",
     "text": [
      "Train Epoch: 0 [15360/35947 (43%)]\tLoss: 1.140278\n"
     ]
    },
    {
     "name": "stderr",
     "output_type": "stream",
     "text": [
      " 59%|█████▊    | 41/70 [00:09<00:06,  4.41it/s]"
     ]
    },
    {
     "name": "stdout",
     "output_type": "stream",
     "text": [
      "Train Epoch: 0 [20480/35947 (57%)]\tLoss: 1.116564\n"
     ]
    },
    {
     "name": "stderr",
     "output_type": "stream",
     "text": [
      " 73%|███████▎  | 51/70 [00:11<00:04,  4.38it/s]"
     ]
    },
    {
     "name": "stdout",
     "output_type": "stream",
     "text": [
      "Train Epoch: 0 [25600/35947 (71%)]\tLoss: 1.089236\n"
     ]
    },
    {
     "name": "stderr",
     "output_type": "stream",
     "text": [
      " 87%|████████▋ | 61/70 [00:13<00:02,  4.38it/s]"
     ]
    },
    {
     "name": "stdout",
     "output_type": "stream",
     "text": [
      "Train Epoch: 0 [30720/35947 (86%)]\tLoss: 1.160355\n"
     ]
    },
    {
     "name": "stderr",
     "output_type": "stream",
     "text": [
      "100%|██████████| 70/70 [00:15<00:00,  4.40it/s]\n"
     ]
    },
    {
     "name": "stdout",
     "output_type": "stream",
     "text": [
      "Input\t['a', 'm', 'g', 'a', 't', 'h', 'a', 'v', 'a', 'v', 'u', 'm']\n",
      "GT\t['അ', 'ം', 'ഗ', 'ത', '്', 'വ', 'വ', 'ു', 'ം']\n",
      "pred\t['വ', '്', 'വ', '്', '്', '്', '്']\n",
      "\n",
      "\n",
      "Input\t['m', 'a', 'n', 'n', 'i', 'n', 'g']\n",
      "GT\t['മ', 'ാ', 'ന', 'ി', 'ം', 'ഗ', '്']\n",
      "pred\t['വ', '്', '്', '്', '്', '്', '്']\n",
      "\n",
      "\n",
      "Input\t['t', 'h', 'e', 'n', 'g', 'a', 'a', 'p', 'p', 'a', 'a', 'l']\n",
      "GT\t['ത', 'േ', 'ങ', '്', 'ങ', 'ാ', 'പ', '്', 'പ', 'ാ', 'ൽ']\n",
      "pred\t['വ', '്', 'വ', '്', '്', '്', '്', '്', '്', '്']\n",
      "\n",
      "\n",
      "\n",
      "Test set: Average loss: 1.0511, Accuracy: 163031/228544 (71%)\n",
      "\n"
     ]
    },
    {
     "name": "stderr",
     "output_type": "stream",
     "text": [
      "  1%|▏         | 1/70 [00:00<00:15,  4.41it/s]"
     ]
    },
    {
     "name": "stdout",
     "output_type": "stream",
     "text": [
      "Train Epoch: 1 [0/35947 (0%)]\tLoss: 1.124674\n"
     ]
    },
    {
     "name": "stderr",
     "output_type": "stream",
     "text": [
      " 16%|█▌        | 11/70 [00:02<00:12,  4.62it/s]"
     ]
    },
    {
     "name": "stdout",
     "output_type": "stream",
     "text": [
      "Train Epoch: 1 [5120/35947 (14%)]\tLoss: 1.080413\n"
     ]
    },
    {
     "name": "stderr",
     "output_type": "stream",
     "text": [
      " 30%|███       | 21/70 [00:04<00:11,  4.43it/s]"
     ]
    },
    {
     "name": "stdout",
     "output_type": "stream",
     "text": [
      "Train Epoch: 1 [10240/35947 (29%)]\tLoss: 0.894888\n"
     ]
    },
    {
     "name": "stderr",
     "output_type": "stream",
     "text": [
      " 44%|████▍     | 31/70 [00:06<00:08,  4.40it/s]"
     ]
    },
    {
     "name": "stdout",
     "output_type": "stream",
     "text": [
      "Train Epoch: 1 [15360/35947 (43%)]\tLoss: 1.066451\n"
     ]
    },
    {
     "name": "stderr",
     "output_type": "stream",
     "text": [
      " 59%|█████▊    | 41/70 [00:09<00:06,  4.45it/s]"
     ]
    },
    {
     "name": "stdout",
     "output_type": "stream",
     "text": [
      "Train Epoch: 1 [20480/35947 (57%)]\tLoss: 0.902562\n"
     ]
    },
    {
     "name": "stderr",
     "output_type": "stream",
     "text": [
      " 73%|███████▎  | 51/70 [00:11<00:04,  4.55it/s]"
     ]
    },
    {
     "name": "stdout",
     "output_type": "stream",
     "text": [
      "Train Epoch: 1 [25600/35947 (71%)]\tLoss: 0.960303\n"
     ]
    },
    {
     "name": "stderr",
     "output_type": "stream",
     "text": [
      " 87%|████████▋ | 61/70 [00:13<00:01,  4.57it/s]"
     ]
    },
    {
     "name": "stdout",
     "output_type": "stream",
     "text": [
      "Train Epoch: 1 [30720/35947 (86%)]\tLoss: 0.969707\n"
     ]
    },
    {
     "name": "stderr",
     "output_type": "stream",
     "text": [
      "100%|██████████| 70/70 [00:15<00:00,  4.40it/s]\n"
     ]
    },
    {
     "name": "stdout",
     "output_type": "stream",
     "text": [
      "Input\t['a', 'm', 'g', 'a', 't', 'h', 'a', 'v', 'a', 'v', 'u', 'm']\n",
      "GT\t['അ', 'ം', 'ഗ', 'ത', '്', 'വ', 'വ', 'ു', 'ം']\n",
      "pred\t['മ', 'മ', 'സ', 'ാ', '്', '്']\n",
      "\n",
      "\n",
      "Input\t['m', 'a', 'n', 'n', 'i', 'n', 'g']\n",
      "GT\t['മ', 'ാ', 'ന', 'ി', 'ം', 'ഗ', '്']\n",
      "pred\t['മ', 'സ', '്', '്', 'ി', 'ന', '്', '്']\n",
      "\n",
      "\n",
      "Input\t['t', 'h', 'e', 'n', 'g', 'a', 'a', 'p', 'p', 'a', 'a', 'l']\n",
      "GT\t['ത', 'േ', 'ങ', '്', 'ങ', 'ാ', 'പ', '്', 'പ', 'ാ', 'ൽ']\n",
      "pred\t['ര', 'ി', 'വ', '്', 'സ', '്']\n",
      "\n",
      "\n",
      "\n",
      "Test set: Average loss: 0.9787, Accuracy: 165866/228544 (73%)\n",
      "\n"
     ]
    },
    {
     "name": "stderr",
     "output_type": "stream",
     "text": [
      "  1%|▏         | 1/70 [00:00<00:15,  4.55it/s]"
     ]
    },
    {
     "name": "stdout",
     "output_type": "stream",
     "text": [
      "Train Epoch: 2 [0/35947 (0%)]\tLoss: 0.991407\n"
     ]
    },
    {
     "name": "stderr",
     "output_type": "stream",
     "text": [
      " 16%|█▌        | 11/70 [00:02<00:12,  4.59it/s]"
     ]
    },
    {
     "name": "stdout",
     "output_type": "stream",
     "text": [
      "Train Epoch: 2 [5120/35947 (14%)]\tLoss: 0.979409\n"
     ]
    },
    {
     "name": "stderr",
     "output_type": "stream",
     "text": [
      " 30%|███       | 21/70 [00:04<00:11,  4.21it/s]"
     ]
    },
    {
     "name": "stdout",
     "output_type": "stream",
     "text": [
      "Train Epoch: 2 [10240/35947 (29%)]\tLoss: 0.758325\n"
     ]
    },
    {
     "name": "stderr",
     "output_type": "stream",
     "text": [
      " 44%|████▍     | 31/70 [00:06<00:08,  4.48it/s]"
     ]
    },
    {
     "name": "stdout",
     "output_type": "stream",
     "text": [
      "Train Epoch: 2 [15360/35947 (43%)]\tLoss: 1.024089\n"
     ]
    },
    {
     "name": "stderr",
     "output_type": "stream",
     "text": [
      " 59%|█████▊    | 41/70 [00:09<00:06,  4.56it/s]"
     ]
    },
    {
     "name": "stdout",
     "output_type": "stream",
     "text": [
      "Train Epoch: 2 [20480/35947 (57%)]\tLoss: 0.790218\n"
     ]
    },
    {
     "name": "stderr",
     "output_type": "stream",
     "text": [
      " 73%|███████▎  | 51/70 [00:11<00:04,  4.37it/s]"
     ]
    },
    {
     "name": "stdout",
     "output_type": "stream",
     "text": [
      "Train Epoch: 2 [25600/35947 (71%)]\tLoss: 0.905275\n"
     ]
    },
    {
     "name": "stderr",
     "output_type": "stream",
     "text": [
      " 87%|████████▋ | 61/70 [00:13<00:02,  4.46it/s]"
     ]
    },
    {
     "name": "stdout",
     "output_type": "stream",
     "text": [
      "Train Epoch: 2 [30720/35947 (86%)]\tLoss: 0.837551\n"
     ]
    },
    {
     "name": "stderr",
     "output_type": "stream",
     "text": [
      "100%|██████████| 70/70 [00:15<00:00,  4.48it/s]\n"
     ]
    },
    {
     "name": "stdout",
     "output_type": "stream",
     "text": [
      "Input\t['a', 'm', 'g', 'a', 't', 'h', 'a', 'v', 'a', 'v', 'u', 'm']\n",
      "GT\t['അ', 'ം', 'ഗ', 'ത', '്', 'വ', 'വ', 'ു', 'ം']\n",
      "pred\t['മ', 'മ', 'വ', 'ാ', '്', 'ത', 'ാ', 'വ']\n",
      "\n",
      "\n",
      "Input\t['m', 'a', 'n', 'n', 'i', 'n', 'g']\n",
      "GT\t['മ', 'ാ', 'ന', 'ി', 'ം', 'ഗ', '്']\n",
      "pred\t['മ', 'ക', 'ന', 'ന', 'ി', 'ന', '്', '്']\n",
      "\n",
      "\n",
      "Input\t['t', 'h', 'e', 'n', 'g', 'a', 'a', 'p', 'p', 'a', 'a', 'l']\n",
      "GT\t['ത', 'േ', 'ങ', '്', 'ങ', 'ാ', 'പ', '്', 'പ', 'ാ', 'ൽ']\n",
      "pred\t['ത', 'ി', 'ീ', 'ന', 'വ', '്', '്', 'പ', 'പ', '്']\n",
      "\n",
      "\n",
      "\n",
      "Test set: Average loss: 0.9424, Accuracy: 168260/228544 (74%)\n",
      "\n"
     ]
    },
    {
     "name": "stderr",
     "output_type": "stream",
     "text": [
      "  1%|▏         | 1/70 [00:00<00:16,  4.15it/s]"
     ]
    },
    {
     "name": "stdout",
     "output_type": "stream",
     "text": [
      "Train Epoch: 3 [0/35947 (0%)]\tLoss: 0.885764\n"
     ]
    },
    {
     "name": "stderr",
     "output_type": "stream",
     "text": [
      " 16%|█▌        | 11/70 [00:02<00:12,  4.60it/s]"
     ]
    },
    {
     "name": "stdout",
     "output_type": "stream",
     "text": [
      "Train Epoch: 3 [5120/35947 (14%)]\tLoss: 0.897000\n"
     ]
    },
    {
     "name": "stderr",
     "output_type": "stream",
     "text": [
      " 30%|███       | 21/70 [00:04<00:11,  4.44it/s]"
     ]
    },
    {
     "name": "stdout",
     "output_type": "stream",
     "text": [
      "Train Epoch: 3 [10240/35947 (29%)]\tLoss: 0.678177\n"
     ]
    },
    {
     "name": "stderr",
     "output_type": "stream",
     "text": [
      " 44%|████▍     | 31/70 [00:06<00:08,  4.34it/s]"
     ]
    },
    {
     "name": "stdout",
     "output_type": "stream",
     "text": [
      "Train Epoch: 3 [15360/35947 (43%)]\tLoss: 0.975616\n"
     ]
    },
    {
     "name": "stderr",
     "output_type": "stream",
     "text": [
      " 59%|█████▊    | 41/70 [00:09<00:06,  4.32it/s]"
     ]
    },
    {
     "name": "stdout",
     "output_type": "stream",
     "text": [
      "Train Epoch: 3 [20480/35947 (57%)]\tLoss: 0.743422\n"
     ]
    },
    {
     "name": "stderr",
     "output_type": "stream",
     "text": [
      " 73%|███████▎  | 51/70 [00:11<00:04,  4.36it/s]"
     ]
    },
    {
     "name": "stdout",
     "output_type": "stream",
     "text": [
      "Train Epoch: 3 [25600/35947 (71%)]\tLoss: 0.816784\n"
     ]
    },
    {
     "name": "stderr",
     "output_type": "stream",
     "text": [
      " 87%|████████▋ | 61/70 [00:13<00:02,  4.40it/s]"
     ]
    },
    {
     "name": "stdout",
     "output_type": "stream",
     "text": [
      "Train Epoch: 3 [30720/35947 (86%)]\tLoss: 0.790213\n"
     ]
    },
    {
     "name": "stderr",
     "output_type": "stream",
     "text": [
      "100%|██████████| 70/70 [00:15<00:00,  4.44it/s]\n"
     ]
    },
    {
     "name": "stdout",
     "output_type": "stream",
     "text": [
      "Input\t['a', 'm', 'g', 'a', 't', 'h', 'a', 'v', 'a', 'v', 'u', 'm']\n",
      "GT\t['അ', 'ം', 'ഗ', 'ത', '്', 'വ', 'വ', 'ു', 'ം']\n",
      "pred\t['അ', 'മ', '്', 'ാ', '്', 'ത', 'ാ', '്']\n",
      "\n",
      "\n",
      "Input\t['m', 'a', 'n', 'n', 'i', 'n', 'g']\n",
      "GT\t['മ', 'ാ', 'ന', 'ി', 'ം', 'ഗ', '്']\n",
      "pred\t['മ', 'ാ', '്', '്', 'ി', 'ന', '്', '്']\n",
      "\n",
      "\n",
      "Input\t['t', 'h', 'e', 'n', 'g', 'a', 'a', 'p', 'p', 'a', 'a', 'l']\n",
      "GT\t['ത', 'േ', 'ങ', '്', 'ങ', 'ാ', 'പ', '്', 'പ', 'ാ', 'ൽ']\n",
      "pred\t['ര', 'ര', 'ര', '്', '്', '്', '്', 'പ', 'പ', 'ാ']\n",
      "\n",
      "\n",
      "\n",
      "Test set: Average loss: 0.8994, Accuracy: 169062/228544 (74%)\n",
      "\n"
     ]
    },
    {
     "name": "stderr",
     "output_type": "stream",
     "text": [
      "  1%|▏         | 1/70 [00:00<00:14,  4.64it/s]"
     ]
    },
    {
     "name": "stdout",
     "output_type": "stream",
     "text": [
      "Train Epoch: 4 [0/35947 (0%)]\tLoss: 0.805470\n"
     ]
    },
    {
     "name": "stderr",
     "output_type": "stream",
     "text": [
      " 16%|█▌        | 11/70 [00:02<00:13,  4.49it/s]"
     ]
    },
    {
     "name": "stdout",
     "output_type": "stream",
     "text": [
      "Train Epoch: 4 [5120/35947 (14%)]\tLoss: 0.833563\n"
     ]
    },
    {
     "name": "stderr",
     "output_type": "stream",
     "text": [
      " 30%|███       | 21/70 [00:04<00:11,  4.34it/s]"
     ]
    },
    {
     "name": "stdout",
     "output_type": "stream",
     "text": [
      "Train Epoch: 4 [10240/35947 (29%)]\tLoss: 0.631787\n"
     ]
    },
    {
     "name": "stderr",
     "output_type": "stream",
     "text": [
      " 44%|████▍     | 31/70 [00:06<00:08,  4.54it/s]"
     ]
    },
    {
     "name": "stdout",
     "output_type": "stream",
     "text": [
      "Train Epoch: 4 [15360/35947 (43%)]\tLoss: 0.932383\n"
     ]
    },
    {
     "name": "stderr",
     "output_type": "stream",
     "text": [
      " 59%|█████▊    | 41/70 [00:09<00:06,  4.41it/s]"
     ]
    },
    {
     "name": "stdout",
     "output_type": "stream",
     "text": [
      "Train Epoch: 4 [20480/35947 (57%)]\tLoss: 0.704687\n"
     ]
    },
    {
     "name": "stderr",
     "output_type": "stream",
     "text": [
      " 73%|███████▎  | 51/70 [00:11<00:04,  4.17it/s]"
     ]
    },
    {
     "name": "stdout",
     "output_type": "stream",
     "text": [
      "Train Epoch: 4 [25600/35947 (71%)]\tLoss: 0.794377\n"
     ]
    },
    {
     "name": "stderr",
     "output_type": "stream",
     "text": [
      " 87%|████████▋ | 61/70 [00:13<00:01,  4.56it/s]"
     ]
    },
    {
     "name": "stdout",
     "output_type": "stream",
     "text": [
      "Train Epoch: 4 [30720/35947 (86%)]\tLoss: 0.745746\n"
     ]
    },
    {
     "name": "stderr",
     "output_type": "stream",
     "text": [
      "100%|██████████| 70/70 [00:15<00:00,  4.43it/s]\n"
     ]
    },
    {
     "name": "stdout",
     "output_type": "stream",
     "text": [
      "Input\t['a', 'm', 'g', 'a', 't', 'h', 'a', 'v', 'a', 'v', 'u', 'm']\n",
      "GT\t['അ', 'ം', 'ഗ', 'ത', '്', 'വ', 'വ', 'ു', 'ം']\n",
      "pred\t['ആ', 'മ', 'ഗ', '്', '്', 'ത', '്', '്']\n",
      "\n",
      "\n",
      "Input\t['m', 'a', 'n', 'n', 'i', 'n', 'g']\n",
      "GT\t['മ', 'ാ', 'ന', 'ി', 'ം', 'ഗ', '്']\n",
      "pred\t['മ', 'ക', '്', '്', 'ി', 'ന', '്', '്']\n",
      "\n",
      "\n",
      "Input\t['t', 'h', 'e', 'n', 'g', 'a', 'a', 'p', 'p', 'a', 'a', 'l']\n",
      "GT\t['ത', 'േ', 'ങ', '്', 'ങ', 'ാ', 'പ', '്', 'പ', 'ാ', 'ൽ']\n",
      "pred\t['ത', 'ി', 'ര', '്', 'ങ']\n",
      "\n",
      "\n",
      "\n",
      "Test set: Average loss: 0.8652, Accuracy: 170961/228544 (75%)\n",
      "\n"
     ]
    },
    {
     "name": "stderr",
     "output_type": "stream",
     "text": [
      "  1%|▏         | 1/70 [00:00<00:15,  4.51it/s]"
     ]
    },
    {
     "name": "stdout",
     "output_type": "stream",
     "text": [
      "Train Epoch: 5 [0/35947 (0%)]\tLoss: 0.760570\n"
     ]
    },
    {
     "name": "stderr",
     "output_type": "stream",
     "text": [
      " 16%|█▌        | 11/70 [00:02<00:13,  4.39it/s]"
     ]
    },
    {
     "name": "stdout",
     "output_type": "stream",
     "text": [
      "Train Epoch: 5 [5120/35947 (14%)]\tLoss: 0.783038\n"
     ]
    },
    {
     "name": "stderr",
     "output_type": "stream",
     "text": [
      " 30%|███       | 21/70 [00:04<00:11,  4.39it/s]"
     ]
    },
    {
     "name": "stdout",
     "output_type": "stream",
     "text": [
      "Train Epoch: 5 [10240/35947 (29%)]\tLoss: 0.612602\n"
     ]
    },
    {
     "name": "stderr",
     "output_type": "stream",
     "text": [
      " 44%|████▍     | 31/70 [00:06<00:08,  4.54it/s]"
     ]
    },
    {
     "name": "stdout",
     "output_type": "stream",
     "text": [
      "Train Epoch: 5 [15360/35947 (43%)]\tLoss: 0.906946\n"
     ]
    },
    {
     "name": "stderr",
     "output_type": "stream",
     "text": [
      " 59%|█████▊    | 41/70 [00:09<00:06,  4.50it/s]"
     ]
    },
    {
     "name": "stdout",
     "output_type": "stream",
     "text": [
      "Train Epoch: 5 [20480/35947 (57%)]\tLoss: 0.671072\n"
     ]
    },
    {
     "name": "stderr",
     "output_type": "stream",
     "text": [
      " 73%|███████▎  | 51/70 [00:11<00:04,  4.38it/s]"
     ]
    },
    {
     "name": "stdout",
     "output_type": "stream",
     "text": [
      "Train Epoch: 5 [25600/35947 (71%)]\tLoss: 0.766296\n"
     ]
    },
    {
     "name": "stderr",
     "output_type": "stream",
     "text": [
      " 87%|████████▋ | 61/70 [00:13<00:02,  4.42it/s]"
     ]
    },
    {
     "name": "stdout",
     "output_type": "stream",
     "text": [
      "Train Epoch: 5 [30720/35947 (86%)]\tLoss: 0.722232\n"
     ]
    },
    {
     "name": "stderr",
     "output_type": "stream",
     "text": [
      "100%|██████████| 70/70 [00:15<00:00,  4.42it/s]\n"
     ]
    },
    {
     "name": "stdout",
     "output_type": "stream",
     "text": [
      "Input\t['a', 'm', 'g', 'a', 't', 'h', 'a', 'v', 'a', 'v', 'u', 'm']\n",
      "GT\t['അ', 'ം', 'ഗ', 'ത', '്', 'വ', 'വ', 'ു', 'ം']\n",
      "pred\t['അ', 'മ', 'ഗ', '്', '്', 'ത', '്', '്']\n",
      "\n",
      "\n",
      "Input\t['m', 'a', 'n', 'n', 'i', 'n', 'g']\n",
      "GT\t['മ', 'ാ', 'ന', 'ി', 'ം', 'ഗ', '്']\n",
      "pred\t['മ', 'ക', '്', '്', 'ി', 'ന', 'ങ', '്']\n",
      "\n",
      "\n",
      "Input\t['t', 'h', 'e', 'n', 'g', 'a', 'a', 'p', 'p', 'a', 'a', 'l']\n",
      "GT\t['ത', 'േ', 'ങ', '്', 'ങ', 'ാ', 'പ', '്', 'പ', 'ാ', 'ൽ']\n",
      "pred\t['ത', 'ി', 'ര', '്', 'ങ', '്']\n",
      "\n",
      "\n",
      "\n",
      "Test set: Average loss: 0.8757, Accuracy: 170062/228544 (74%)\n",
      "\n"
     ]
    },
    {
     "name": "stderr",
     "output_type": "stream",
     "text": [
      "  1%|▏         | 1/70 [00:00<00:15,  4.50it/s]"
     ]
    },
    {
     "name": "stdout",
     "output_type": "stream",
     "text": [
      "Train Epoch: 6 [0/35947 (0%)]\tLoss: 0.745363\n"
     ]
    },
    {
     "name": "stderr",
     "output_type": "stream",
     "text": [
      " 16%|█▌        | 11/70 [00:02<00:13,  4.40it/s]"
     ]
    },
    {
     "name": "stdout",
     "output_type": "stream",
     "text": [
      "Train Epoch: 6 [5120/35947 (14%)]\tLoss: 0.757463\n"
     ]
    },
    {
     "name": "stderr",
     "output_type": "stream",
     "text": [
      " 30%|███       | 21/70 [00:04<00:10,  4.51it/s]"
     ]
    },
    {
     "name": "stdout",
     "output_type": "stream",
     "text": [
      "Train Epoch: 6 [10240/35947 (29%)]\tLoss: 0.584757\n"
     ]
    },
    {
     "name": "stderr",
     "output_type": "stream",
     "text": [
      " 44%|████▍     | 31/70 [00:07<00:09,  4.11it/s]"
     ]
    },
    {
     "name": "stdout",
     "output_type": "stream",
     "text": [
      "Train Epoch: 6 [15360/35947 (43%)]\tLoss: 0.878980\n"
     ]
    },
    {
     "name": "stderr",
     "output_type": "stream",
     "text": [
      " 59%|█████▊    | 41/70 [00:09<00:06,  4.54it/s]"
     ]
    },
    {
     "name": "stdout",
     "output_type": "stream",
     "text": [
      "Train Epoch: 6 [20480/35947 (57%)]\tLoss: 0.653016\n"
     ]
    },
    {
     "name": "stderr",
     "output_type": "stream",
     "text": [
      " 73%|███████▎  | 51/70 [00:11<00:04,  4.11it/s]"
     ]
    },
    {
     "name": "stdout",
     "output_type": "stream",
     "text": [
      "Train Epoch: 6 [25600/35947 (71%)]\tLoss: 0.739898\n"
     ]
    },
    {
     "name": "stderr",
     "output_type": "stream",
     "text": [
      " 87%|████████▋ | 61/70 [00:13<00:02,  4.37it/s]"
     ]
    },
    {
     "name": "stdout",
     "output_type": "stream",
     "text": [
      "Train Epoch: 6 [30720/35947 (86%)]\tLoss: 0.696548\n"
     ]
    },
    {
     "name": "stderr",
     "output_type": "stream",
     "text": [
      "100%|██████████| 70/70 [00:15<00:00,  4.40it/s]\n"
     ]
    },
    {
     "name": "stdout",
     "output_type": "stream",
     "text": [
      "Input\t['a', 'm', 'g', 'a', 't', 'h', 'a', 'v', 'a', 'v', 'u', 'm']\n",
      "GT\t['അ', 'ം', 'ഗ', 'ത', '്', 'വ', 'വ', 'ു', 'ം']\n",
      "pred\t['അ', 'മ', 'ഗ', '്', '്', 'ത', '്']\n",
      "\n",
      "\n",
      "Input\t['m', 'a', 'n', 'n', 'i', 'n', 'g']\n",
      "GT\t['മ', 'ാ', 'ന', 'ി', 'ം', 'ഗ', '്']\n",
      "pred\t['മ', 'ക', '്', '്', 'ി', 'ന', 'ങ', '്']\n",
      "\n",
      "\n",
      "Input\t['t', 'h', 'e', 'n', 'g', 'a', 'a', 'p', 'p', 'a', 'a', 'l']\n",
      "GT\t['ത', 'േ', 'ങ', '്', 'ങ', 'ാ', 'പ', '്', 'പ', 'ാ', 'ൽ']\n",
      "pred\t['ത', 'ാ', 'യ', '്', 'ങ', 'ങ']\n",
      "\n",
      "\n",
      "\n",
      "Test set: Average loss: 0.8789, Accuracy: 169059/228544 (74%)\n",
      "\n"
     ]
    },
    {
     "name": "stderr",
     "output_type": "stream",
     "text": [
      "  1%|▏         | 1/70 [00:00<00:14,  4.64it/s]"
     ]
    },
    {
     "name": "stdout",
     "output_type": "stream",
     "text": [
      "Train Epoch: 7 [0/35947 (0%)]\tLoss: 0.713484\n"
     ]
    },
    {
     "name": "stderr",
     "output_type": "stream",
     "text": [
      " 16%|█▌        | 11/70 [00:02<00:13,  4.28it/s]"
     ]
    },
    {
     "name": "stdout",
     "output_type": "stream",
     "text": [
      "Train Epoch: 7 [5120/35947 (14%)]\tLoss: 0.722763\n"
     ]
    },
    {
     "name": "stderr",
     "output_type": "stream",
     "text": [
      " 30%|███       | 21/70 [00:04<00:10,  4.56it/s]"
     ]
    },
    {
     "name": "stdout",
     "output_type": "stream",
     "text": [
      "Train Epoch: 7 [10240/35947 (29%)]\tLoss: 0.563052\n"
     ]
    },
    {
     "name": "stderr",
     "output_type": "stream",
     "text": [
      " 44%|████▍     | 31/70 [00:06<00:08,  4.41it/s]"
     ]
    },
    {
     "name": "stdout",
     "output_type": "stream",
     "text": [
      "Train Epoch: 7 [15360/35947 (43%)]\tLoss: 0.852718\n"
     ]
    },
    {
     "name": "stderr",
     "output_type": "stream",
     "text": [
      " 59%|█████▊    | 41/70 [00:09<00:06,  4.59it/s]"
     ]
    },
    {
     "name": "stdout",
     "output_type": "stream",
     "text": [
      "Train Epoch: 7 [20480/35947 (57%)]\tLoss: 0.635720\n"
     ]
    },
    {
     "name": "stderr",
     "output_type": "stream",
     "text": [
      " 73%|███████▎  | 51/70 [00:11<00:04,  4.43it/s]"
     ]
    },
    {
     "name": "stdout",
     "output_type": "stream",
     "text": [
      "Train Epoch: 7 [25600/35947 (71%)]\tLoss: 0.744653\n"
     ]
    },
    {
     "name": "stderr",
     "output_type": "stream",
     "text": [
      " 87%|████████▋ | 61/70 [00:13<00:02,  4.47it/s]"
     ]
    },
    {
     "name": "stdout",
     "output_type": "stream",
     "text": [
      "Train Epoch: 7 [30720/35947 (86%)]\tLoss: 0.674633\n"
     ]
    },
    {
     "name": "stderr",
     "output_type": "stream",
     "text": [
      "100%|██████████| 70/70 [00:15<00:00,  4.46it/s]\n"
     ]
    },
    {
     "name": "stdout",
     "output_type": "stream",
     "text": [
      "Input\t['a', 'm', 'g', 'a', 't', 'h', 'a', 'v', 'a', 'v', 'u', 'm']\n",
      "GT\t['അ', 'ം', 'ഗ', 'ത', '്', 'വ', 'വ', 'ു', 'ം']\n",
      "pred\t['അ', 'മ', 'ഗ', 'ാ', '്', 'ത', '്']\n",
      "\n",
      "\n",
      "Input\t['m', 'a', 'n', 'n', 'i', 'n', 'g']\n",
      "GT\t['മ', 'ാ', 'ന', 'ി', 'ം', 'ഗ', '്']\n",
      "pred\t['മ', 'ാ', '്', 'ന', 'ി', 'ന', 'ങ', '്']\n",
      "\n",
      "\n",
      "Input\t['t', 'h', 'e', 'n', 'g', 'a', 'a', 'p', 'p', 'a', 'a', 'l']\n",
      "GT\t['ത', 'േ', 'ങ', '്', 'ങ', 'ാ', 'പ', '്', 'പ', 'ാ', 'ൽ']\n",
      "pred\t['ത', 'ി', 'ര', '്', 'ങ', 'ങ']\n",
      "\n",
      "\n",
      "\n",
      "Test set: Average loss: 0.8579, Accuracy: 170179/228544 (74%)\n",
      "\n"
     ]
    },
    {
     "name": "stderr",
     "output_type": "stream",
     "text": [
      "  1%|▏         | 1/70 [00:00<00:15,  4.43it/s]"
     ]
    },
    {
     "name": "stdout",
     "output_type": "stream",
     "text": [
      "Train Epoch: 8 [0/35947 (0%)]\tLoss: 0.682480\n"
     ]
    },
    {
     "name": "stderr",
     "output_type": "stream",
     "text": [
      " 16%|█▌        | 11/70 [00:02<00:12,  4.54it/s]"
     ]
    },
    {
     "name": "stdout",
     "output_type": "stream",
     "text": [
      "Train Epoch: 8 [5120/35947 (14%)]\tLoss: 0.709022\n"
     ]
    },
    {
     "name": "stderr",
     "output_type": "stream",
     "text": [
      " 30%|███       | 21/70 [00:04<00:11,  4.42it/s]"
     ]
    },
    {
     "name": "stdout",
     "output_type": "stream",
     "text": [
      "Train Epoch: 8 [10240/35947 (29%)]\tLoss: 0.541240\n"
     ]
    },
    {
     "name": "stderr",
     "output_type": "stream",
     "text": [
      " 44%|████▍     | 31/70 [00:07<00:09,  4.29it/s]"
     ]
    },
    {
     "name": "stdout",
     "output_type": "stream",
     "text": [
      "Train Epoch: 8 [15360/35947 (43%)]\tLoss: 0.832463\n"
     ]
    },
    {
     "name": "stderr",
     "output_type": "stream",
     "text": [
      " 59%|█████▊    | 41/70 [00:09<00:06,  4.44it/s]"
     ]
    },
    {
     "name": "stdout",
     "output_type": "stream",
     "text": [
      "Train Epoch: 8 [20480/35947 (57%)]\tLoss: 0.602425\n"
     ]
    },
    {
     "name": "stderr",
     "output_type": "stream",
     "text": [
      " 73%|███████▎  | 51/70 [00:11<00:04,  4.52it/s]"
     ]
    },
    {
     "name": "stdout",
     "output_type": "stream",
     "text": [
      "Train Epoch: 8 [25600/35947 (71%)]\tLoss: 0.722330\n"
     ]
    },
    {
     "name": "stderr",
     "output_type": "stream",
     "text": [
      " 87%|████████▋ | 61/70 [00:13<00:02,  4.39it/s]"
     ]
    },
    {
     "name": "stdout",
     "output_type": "stream",
     "text": [
      "Train Epoch: 8 [30720/35947 (86%)]\tLoss: 0.649783\n"
     ]
    },
    {
     "name": "stderr",
     "output_type": "stream",
     "text": [
      "100%|██████████| 70/70 [00:15<00:00,  4.43it/s]\n"
     ]
    },
    {
     "name": "stdout",
     "output_type": "stream",
     "text": [
      "Input\t['a', 'm', 'g', 'a', 't', 'h', 'a', 'v', 'a', 'v', 'u', 'm']\n",
      "GT\t['അ', 'ം', 'ഗ', 'ത', '്', 'വ', 'വ', 'ു', 'ം']\n",
      "pred\t['അ', 'മ', 'ഗ', 'ാ', '്', 'ത']\n",
      "\n",
      "\n",
      "Input\t['m', 'a', 'n', 'n', 'i', 'n', 'g']\n",
      "GT\t['മ', 'ാ', 'ന', 'ി', 'ം', 'ഗ', '്']\n",
      "pred\t['മ', 'ാ', '്', 'ന', 'ി', 'ന', 'ങ', '്']\n",
      "\n",
      "\n",
      "Input\t['t', 'h', 'e', 'n', 'g', 'a', 'a', 'p', 'p', 'a', 'a', 'l']\n",
      "GT\t['ത', 'േ', 'ങ', '്', 'ങ', 'ാ', 'പ', '്', 'പ', 'ാ', 'ൽ']\n",
      "pred\t['ത', 'ാ', 'ര', '്', 'ങ']\n",
      "\n",
      "\n",
      "\n",
      "Test set: Average loss: 0.8377, Accuracy: 171525/228544 (75%)\n",
      "\n"
     ]
    },
    {
     "name": "stderr",
     "output_type": "stream",
     "text": [
      "  1%|▏         | 1/70 [00:00<00:16,  4.31it/s]"
     ]
    },
    {
     "name": "stdout",
     "output_type": "stream",
     "text": [
      "Train Epoch: 9 [0/35947 (0%)]\tLoss: 0.658821\n"
     ]
    },
    {
     "name": "stderr",
     "output_type": "stream",
     "text": [
      " 16%|█▌        | 11/70 [00:02<00:14,  4.13it/s]"
     ]
    },
    {
     "name": "stdout",
     "output_type": "stream",
     "text": [
      "Train Epoch: 9 [5120/35947 (14%)]\tLoss: 0.682556\n"
     ]
    },
    {
     "name": "stderr",
     "output_type": "stream",
     "text": [
      " 30%|███       | 21/70 [00:04<00:12,  3.99it/s]"
     ]
    },
    {
     "name": "stdout",
     "output_type": "stream",
     "text": [
      "Train Epoch: 9 [10240/35947 (29%)]\tLoss: 0.515881\n"
     ]
    },
    {
     "name": "stderr",
     "output_type": "stream",
     "text": [
      " 44%|████▍     | 31/70 [00:07<00:08,  4.55it/s]"
     ]
    },
    {
     "name": "stdout",
     "output_type": "stream",
     "text": [
      "Train Epoch: 9 [15360/35947 (43%)]\tLoss: 0.806927\n"
     ]
    },
    {
     "name": "stderr",
     "output_type": "stream",
     "text": [
      " 59%|█████▊    | 41/70 [00:09<00:06,  4.52it/s]"
     ]
    },
    {
     "name": "stdout",
     "output_type": "stream",
     "text": [
      "Train Epoch: 9 [20480/35947 (57%)]\tLoss: 0.589923\n"
     ]
    },
    {
     "name": "stderr",
     "output_type": "stream",
     "text": [
      " 73%|███████▎  | 51/70 [00:11<00:04,  4.52it/s]"
     ]
    },
    {
     "name": "stdout",
     "output_type": "stream",
     "text": [
      "Train Epoch: 9 [25600/35947 (71%)]\tLoss: 0.715668\n"
     ]
    },
    {
     "name": "stderr",
     "output_type": "stream",
     "text": [
      " 87%|████████▋ | 61/70 [00:13<00:02,  4.44it/s]"
     ]
    },
    {
     "name": "stdout",
     "output_type": "stream",
     "text": [
      "Train Epoch: 9 [30720/35947 (86%)]\tLoss: 0.609862\n"
     ]
    },
    {
     "name": "stderr",
     "output_type": "stream",
     "text": [
      "100%|██████████| 70/70 [00:15<00:00,  4.42it/s]\n"
     ]
    },
    {
     "name": "stdout",
     "output_type": "stream",
     "text": [
      "Input\t['a', 'm', 'g', 'a', 't', 'h', 'a', 'v', 'a', 'v', 'u', 'm']\n",
      "GT\t['അ', 'ം', 'ഗ', 'ത', '്', 'വ', 'വ', 'ു', 'ം']\n",
      "pred\t['ആ', 'മ', 'ഗ', '്', '്', 'ത']\n",
      "\n",
      "\n",
      "Input\t['m', 'a', 'n', 'n', 'i', 'n', 'g']\n",
      "GT\t['മ', 'ാ', 'ന', 'ി', 'ം', 'ഗ', '്']\n",
      "pred\t['മ', 'ാ', 'ന', '്', 'ി', 'ന', 'ഗ', '്']\n",
      "\n",
      "\n",
      "Input\t['t', 'h', 'e', 'n', 'g', 'a', 'a', 'p', 'p', 'a', 'a', 'l']\n",
      "GT\t['ത', 'േ', 'ങ', '്', 'ങ', 'ാ', 'പ', '്', 'പ', 'ാ', 'ൽ']\n",
      "pred\t['ത', 'ാ', 'ര', '്', 'ങ']\n",
      "\n",
      "\n",
      "\n",
      "Test set: Average loss: 0.8388, Accuracy: 171505/228544 (75%)\n",
      "\n"
     ]
    },
    {
     "name": "stderr",
     "output_type": "stream",
     "text": [
      "  1%|▏         | 1/70 [00:00<00:16,  4.25it/s]"
     ]
    },
    {
     "name": "stdout",
     "output_type": "stream",
     "text": [
      "Train Epoch: 10 [0/35947 (0%)]\tLoss: 0.642454\n"
     ]
    },
    {
     "name": "stderr",
     "output_type": "stream",
     "text": [
      " 16%|█▌        | 11/70 [00:02<00:13,  4.36it/s]"
     ]
    },
    {
     "name": "stdout",
     "output_type": "stream",
     "text": [
      "Train Epoch: 10 [5120/35947 (14%)]\tLoss: 0.657017\n"
     ]
    },
    {
     "name": "stderr",
     "output_type": "stream",
     "text": [
      " 30%|███       | 21/70 [00:04<00:10,  4.56it/s]"
     ]
    },
    {
     "name": "stdout",
     "output_type": "stream",
     "text": [
      "Train Epoch: 10 [10240/35947 (29%)]\tLoss: 0.506778\n"
     ]
    },
    {
     "name": "stderr",
     "output_type": "stream",
     "text": [
      " 44%|████▍     | 31/70 [00:07<00:08,  4.53it/s]"
     ]
    },
    {
     "name": "stdout",
     "output_type": "stream",
     "text": [
      "Train Epoch: 10 [15360/35947 (43%)]\tLoss: 0.777054\n"
     ]
    },
    {
     "name": "stderr",
     "output_type": "stream",
     "text": [
      " 59%|█████▊    | 41/70 [00:09<00:06,  4.59it/s]"
     ]
    },
    {
     "name": "stdout",
     "output_type": "stream",
     "text": [
      "Train Epoch: 10 [20480/35947 (57%)]\tLoss: 0.558588\n"
     ]
    },
    {
     "name": "stderr",
     "output_type": "stream",
     "text": [
      " 73%|███████▎  | 51/70 [00:11<00:04,  4.57it/s]"
     ]
    },
    {
     "name": "stdout",
     "output_type": "stream",
     "text": [
      "Train Epoch: 10 [25600/35947 (71%)]\tLoss: 0.696947\n"
     ]
    },
    {
     "name": "stderr",
     "output_type": "stream",
     "text": [
      " 87%|████████▋ | 61/70 [00:13<00:02,  4.47it/s]"
     ]
    },
    {
     "name": "stdout",
     "output_type": "stream",
     "text": [
      "Train Epoch: 10 [30720/35947 (86%)]\tLoss: 0.590212\n"
     ]
    },
    {
     "name": "stderr",
     "output_type": "stream",
     "text": [
      "100%|██████████| 70/70 [00:15<00:00,  4.41it/s]\n"
     ]
    },
    {
     "name": "stdout",
     "output_type": "stream",
     "text": [
      "Input\t['a', 'm', 'g', 'a', 't', 'h', 'a', 'v', 'a', 'v', 'u', 'm']\n",
      "GT\t['അ', 'ം', 'ഗ', 'ത', '്', 'വ', 'വ', 'ു', 'ം']\n",
      "pred\t['അ', 'മ', 'ഗ', '്', 'ത']\n",
      "\n",
      "\n",
      "Input\t['m', 'a', 'n', 'n', 'i', 'n', 'g']\n",
      "GT\t['മ', 'ാ', 'ന', 'ി', 'ം', 'ഗ', '്']\n",
      "pred\t['മ', 'ാ', '്', 'ന', 'ി', 'ന', 'ങ', '്']\n",
      "\n",
      "\n",
      "Input\t['t', 'h', 'e', 'n', 'g', 'a', 'a', 'p', 'p', 'a', 'a', 'l']\n",
      "GT\t['ത', 'േ', 'ങ', '്', 'ങ', 'ാ', 'പ', '്', 'പ', 'ാ', 'ൽ']\n",
      "pred\t['ക', 'ാ', 'ര', '്', 'ങ']\n",
      "\n",
      "\n",
      "\n",
      "Test set: Average loss: 0.8047, Accuracy: 173721/228544 (76%)\n",
      "\n"
     ]
    },
    {
     "name": "stderr",
     "output_type": "stream",
     "text": [
      "  1%|▏         | 1/70 [00:00<00:15,  4.60it/s]"
     ]
    },
    {
     "name": "stdout",
     "output_type": "stream",
     "text": [
      "Train Epoch: 11 [0/35947 (0%)]\tLoss: 0.636473\n"
     ]
    },
    {
     "name": "stderr",
     "output_type": "stream",
     "text": [
      " 16%|█▌        | 11/70 [00:02<00:12,  4.62it/s]"
     ]
    },
    {
     "name": "stdout",
     "output_type": "stream",
     "text": [
      "Train Epoch: 11 [5120/35947 (14%)]\tLoss: 0.621933\n"
     ]
    },
    {
     "name": "stderr",
     "output_type": "stream",
     "text": [
      " 30%|███       | 21/70 [00:04<00:13,  3.76it/s]"
     ]
    },
    {
     "name": "stdout",
     "output_type": "stream",
     "text": [
      "Train Epoch: 11 [10240/35947 (29%)]\tLoss: 0.473696\n"
     ]
    },
    {
     "name": "stderr",
     "output_type": "stream",
     "text": [
      " 44%|████▍     | 31/70 [00:07<00:09,  4.27it/s]"
     ]
    },
    {
     "name": "stdout",
     "output_type": "stream",
     "text": [
      "Train Epoch: 11 [15360/35947 (43%)]\tLoss: 0.756495\n"
     ]
    },
    {
     "name": "stderr",
     "output_type": "stream",
     "text": [
      " 59%|█████▊    | 41/70 [00:09<00:07,  3.96it/s]"
     ]
    },
    {
     "name": "stdout",
     "output_type": "stream",
     "text": [
      "Train Epoch: 11 [20480/35947 (57%)]\tLoss: 0.546476\n"
     ]
    },
    {
     "name": "stderr",
     "output_type": "stream",
     "text": [
      " 73%|███████▎  | 51/70 [00:12<00:04,  4.25it/s]"
     ]
    },
    {
     "name": "stdout",
     "output_type": "stream",
     "text": [
      "Train Epoch: 11 [25600/35947 (71%)]\tLoss: 0.711584\n"
     ]
    },
    {
     "name": "stderr",
     "output_type": "stream",
     "text": [
      " 87%|████████▋ | 61/70 [00:14<00:02,  4.36it/s]"
     ]
    },
    {
     "name": "stdout",
     "output_type": "stream",
     "text": [
      "Train Epoch: 11 [30720/35947 (86%)]\tLoss: 0.571434\n"
     ]
    },
    {
     "name": "stderr",
     "output_type": "stream",
     "text": [
      "100%|██████████| 70/70 [00:16<00:00,  4.24it/s]\n"
     ]
    },
    {
     "name": "stdout",
     "output_type": "stream",
     "text": [
      "Input\t['a', 'm', 'g', 'a', 't', 'h', 'a', 'v', 'a', 'v', 'u', 'm']\n",
      "GT\t['അ', 'ം', 'ഗ', 'ത', '്', 'വ', 'വ', 'ു', 'ം']\n",
      "pred\t['ആ', 'മ', 'ഗ', '്', '്', 'ത']\n",
      "\n",
      "\n",
      "Input\t['m', 'a', 'n', 'n', 'i', 'n', 'g']\n",
      "GT\t['മ', 'ാ', 'ന', 'ി', 'ം', 'ഗ', '്']\n",
      "pred\t['മ', 'ാ', 'ന', '്', 'ന', 'ന', 'ഗ', '്']\n",
      "\n",
      "\n",
      "Input\t['t', 'h', 'e', 'n', 'g', 'a', 'a', 'p', 'p', 'a', 'a', 'l']\n",
      "GT\t['ത', 'േ', 'ങ', '്', 'ങ', 'ാ', 'പ', '്', 'പ', 'ാ', 'ൽ']\n",
      "pred\t['ക', 'ാ', 'ര', '്', 'ങ']\n",
      "\n",
      "\n",
      "\n",
      "Test set: Average loss: 0.7893, Accuracy: 174830/228544 (76%)\n",
      "\n"
     ]
    },
    {
     "name": "stderr",
     "output_type": "stream",
     "text": [
      "  1%|▏         | 1/70 [00:00<00:16,  4.20it/s]"
     ]
    },
    {
     "name": "stdout",
     "output_type": "stream",
     "text": [
      "Train Epoch: 12 [0/35947 (0%)]\tLoss: 0.621352\n"
     ]
    },
    {
     "name": "stderr",
     "output_type": "stream",
     "text": [
      " 16%|█▌        | 11/70 [00:02<00:13,  4.48it/s]"
     ]
    },
    {
     "name": "stdout",
     "output_type": "stream",
     "text": [
      "Train Epoch: 12 [5120/35947 (14%)]\tLoss: 0.601402\n"
     ]
    },
    {
     "name": "stderr",
     "output_type": "stream",
     "text": [
      " 30%|███       | 21/70 [00:04<00:10,  4.55it/s]"
     ]
    },
    {
     "name": "stdout",
     "output_type": "stream",
     "text": [
      "Train Epoch: 12 [10240/35947 (29%)]\tLoss: 0.463762\n"
     ]
    },
    {
     "name": "stderr",
     "output_type": "stream",
     "text": [
      " 44%|████▍     | 31/70 [00:06<00:09,  4.32it/s]"
     ]
    },
    {
     "name": "stdout",
     "output_type": "stream",
     "text": [
      "Train Epoch: 12 [15360/35947 (43%)]\tLoss: 0.744452\n"
     ]
    },
    {
     "name": "stderr",
     "output_type": "stream",
     "text": [
      " 59%|█████▊    | 41/70 [00:09<00:06,  4.34it/s]"
     ]
    },
    {
     "name": "stdout",
     "output_type": "stream",
     "text": [
      "Train Epoch: 12 [20480/35947 (57%)]\tLoss: 0.533533\n"
     ]
    },
    {
     "name": "stderr",
     "output_type": "stream",
     "text": [
      " 73%|███████▎  | 51/70 [00:11<00:04,  4.41it/s]"
     ]
    },
    {
     "name": "stdout",
     "output_type": "stream",
     "text": [
      "Train Epoch: 12 [25600/35947 (71%)]\tLoss: 0.676052\n"
     ]
    },
    {
     "name": "stderr",
     "output_type": "stream",
     "text": [
      " 87%|████████▋ | 61/70 [00:13<00:02,  4.13it/s]"
     ]
    },
    {
     "name": "stdout",
     "output_type": "stream",
     "text": [
      "Train Epoch: 12 [30720/35947 (86%)]\tLoss: 0.559704\n"
     ]
    },
    {
     "name": "stderr",
     "output_type": "stream",
     "text": [
      "100%|██████████| 70/70 [00:16<00:00,  4.35it/s]\n"
     ]
    },
    {
     "name": "stdout",
     "output_type": "stream",
     "text": [
      "Input\t['a', 'm', 'g', 'a', 't', 'h', 'a', 'v', 'a', 'v', 'u', 'm']\n",
      "GT\t['അ', 'ം', 'ഗ', 'ത', '്', 'വ', 'വ', 'ു', 'ം']\n",
      "pred\t['അ', 'മ', 'ഗ', '്', 'ത']\n",
      "\n",
      "\n",
      "Input\t['m', 'a', 'n', 'n', 'i', 'n', 'g']\n",
      "GT\t['മ', 'ാ', 'ന', 'ി', 'ം', 'ഗ', '്']\n",
      "pred\t['മ', 'ാ', 'ന', '്', 'ന', 'ന', 'ങ', '്']\n",
      "\n",
      "\n",
      "Input\t['t', 'h', 'e', 'n', 'g', 'a', 'a', 'p', 'p', 'a', 'a', 'l']\n",
      "GT\t['ത', 'േ', 'ങ', '്', 'ങ', 'ാ', 'പ', '്', 'പ', 'ാ', 'ൽ']\n",
      "pred\t['ത', 'ാ', 'ര', '്', 'ങ']\n",
      "\n",
      "\n",
      "\n",
      "Test set: Average loss: 0.8043, Accuracy: 174982/228544 (77%)\n",
      "\n"
     ]
    },
    {
     "name": "stderr",
     "output_type": "stream",
     "text": [
      "  1%|▏         | 1/70 [00:00<00:15,  4.34it/s]"
     ]
    },
    {
     "name": "stdout",
     "output_type": "stream",
     "text": [
      "Train Epoch: 13 [0/35947 (0%)]\tLoss: 0.594807\n"
     ]
    },
    {
     "name": "stderr",
     "output_type": "stream",
     "text": [
      " 16%|█▌        | 11/70 [00:02<00:13,  4.31it/s]"
     ]
    },
    {
     "name": "stdout",
     "output_type": "stream",
     "text": [
      "Train Epoch: 13 [5120/35947 (14%)]\tLoss: 0.576995\n"
     ]
    },
    {
     "name": "stderr",
     "output_type": "stream",
     "text": [
      " 30%|███       | 21/70 [00:04<00:11,  4.28it/s]"
     ]
    },
    {
     "name": "stdout",
     "output_type": "stream",
     "text": [
      "Train Epoch: 13 [10240/35947 (29%)]\tLoss: 0.448661\n"
     ]
    },
    {
     "name": "stderr",
     "output_type": "stream",
     "text": [
      " 44%|████▍     | 31/70 [00:07<00:09,  4.17it/s]"
     ]
    },
    {
     "name": "stdout",
     "output_type": "stream",
     "text": [
      "Train Epoch: 13 [15360/35947 (43%)]\tLoss: 0.726051\n"
     ]
    },
    {
     "name": "stderr",
     "output_type": "stream",
     "text": [
      " 59%|█████▊    | 41/70 [00:09<00:06,  4.19it/s]"
     ]
    },
    {
     "name": "stdout",
     "output_type": "stream",
     "text": [
      "Train Epoch: 13 [20480/35947 (57%)]\tLoss: 0.524308\n"
     ]
    },
    {
     "name": "stderr",
     "output_type": "stream",
     "text": [
      " 73%|███████▎  | 51/70 [00:12<00:04,  4.25it/s]"
     ]
    },
    {
     "name": "stdout",
     "output_type": "stream",
     "text": [
      "Train Epoch: 13 [25600/35947 (71%)]\tLoss: 0.681061\n"
     ]
    },
    {
     "name": "stderr",
     "output_type": "stream",
     "text": [
      " 87%|████████▋ | 61/70 [00:14<00:02,  3.85it/s]"
     ]
    },
    {
     "name": "stdout",
     "output_type": "stream",
     "text": [
      "Train Epoch: 13 [30720/35947 (86%)]\tLoss: 0.536788\n"
     ]
    },
    {
     "name": "stderr",
     "output_type": "stream",
     "text": [
      "100%|██████████| 70/70 [00:16<00:00,  4.18it/s]\n"
     ]
    },
    {
     "name": "stdout",
     "output_type": "stream",
     "text": [
      "Input\t['a', 'm', 'g', 'a', 't', 'h', 'a', 'v', 'a', 'v', 'u', 'm']\n",
      "GT\t['അ', 'ം', 'ഗ', 'ത', '്', 'വ', 'വ', 'ു', 'ം']\n",
      "pred\t['ആ', 'ം', 'ഗ', 'ന', '്', 'ത']\n",
      "\n",
      "\n",
      "Input\t['m', 'a', 'n', 'n', 'i', 'n', 'g']\n",
      "GT\t['മ', 'ാ', 'ന', 'ി', 'ം', 'ഗ', '്']\n",
      "pred\t['മ', 'ാ', '്', 'ന', 'ി', 'ന', '്', 'ങ']\n",
      "\n",
      "\n",
      "Input\t['t', 'h', 'e', 'n', 'g', 'a', 'a', 'p', 'p', 'a', 'a', 'l']\n",
      "GT\t['ത', 'േ', 'ങ', '്', 'ങ', 'ാ', 'പ', '്', 'പ', 'ാ', 'ൽ']\n",
      "pred\t['ത', 'ാ', 'ര', '്', 'ങ']\n",
      "\n",
      "\n",
      "\n",
      "Test set: Average loss: 0.8175, Accuracy: 174551/228544 (76%)\n",
      "\n"
     ]
    },
    {
     "name": "stderr",
     "output_type": "stream",
     "text": [
      "  1%|▏         | 1/70 [00:00<00:16,  4.16it/s]"
     ]
    },
    {
     "name": "stdout",
     "output_type": "stream",
     "text": [
      "Train Epoch: 14 [0/35947 (0%)]\tLoss: 0.602469\n"
     ]
    },
    {
     "name": "stderr",
     "output_type": "stream",
     "text": [
      " 16%|█▌        | 11/70 [00:02<00:14,  4.17it/s]"
     ]
    },
    {
     "name": "stdout",
     "output_type": "stream",
     "text": [
      "Train Epoch: 14 [5120/35947 (14%)]\tLoss: 0.569632\n"
     ]
    },
    {
     "name": "stderr",
     "output_type": "stream",
     "text": [
      " 30%|███       | 21/70 [00:05<00:11,  4.24it/s]"
     ]
    },
    {
     "name": "stdout",
     "output_type": "stream",
     "text": [
      "Train Epoch: 14 [10240/35947 (29%)]\tLoss: 0.427294\n"
     ]
    },
    {
     "name": "stderr",
     "output_type": "stream",
     "text": [
      " 44%|████▍     | 31/70 [00:07<00:09,  4.17it/s]"
     ]
    },
    {
     "name": "stdout",
     "output_type": "stream",
     "text": [
      "Train Epoch: 14 [15360/35947 (43%)]\tLoss: 0.704014\n"
     ]
    },
    {
     "name": "stderr",
     "output_type": "stream",
     "text": [
      " 59%|█████▊    | 41/70 [00:09<00:06,  4.47it/s]"
     ]
    },
    {
     "name": "stdout",
     "output_type": "stream",
     "text": [
      "Train Epoch: 14 [20480/35947 (57%)]\tLoss: 0.498951\n"
     ]
    },
    {
     "name": "stderr",
     "output_type": "stream",
     "text": [
      " 73%|███████▎  | 51/70 [00:12<00:04,  3.95it/s]"
     ]
    },
    {
     "name": "stdout",
     "output_type": "stream",
     "text": [
      "Train Epoch: 14 [25600/35947 (71%)]\tLoss: 0.660533\n"
     ]
    },
    {
     "name": "stderr",
     "output_type": "stream",
     "text": [
      " 87%|████████▋ | 61/70 [00:14<00:02,  4.15it/s]"
     ]
    },
    {
     "name": "stdout",
     "output_type": "stream",
     "text": [
      "Train Epoch: 14 [30720/35947 (86%)]\tLoss: 0.521960\n"
     ]
    },
    {
     "name": "stderr",
     "output_type": "stream",
     "text": [
      "100%|██████████| 70/70 [00:16<00:00,  4.18it/s]\n"
     ]
    },
    {
     "name": "stdout",
     "output_type": "stream",
     "text": [
      "Input\t['a', 'm', 'g', 'a', 't', 'h', 'a', 'v', 'a', 'v', 'u', 'm']\n",
      "GT\t['അ', 'ം', 'ഗ', 'ത', '്', 'വ', 'വ', 'ു', 'ം']\n",
      "pred\t['അ', 'മ', 'ഗ', 'ന', 'ത']\n",
      "\n",
      "\n",
      "Input\t['m', 'a', 'n', 'n', 'i', 'n', 'g']\n",
      "GT\t['മ', 'ാ', 'ന', 'ി', 'ം', 'ഗ', '്']\n",
      "pred\t['മ', 'ാ', 'ന', 'ന', 'ന', 'ന', 'ങ', '്']\n",
      "\n",
      "\n",
      "Input\t['t', 'h', 'e', 'n', 'g', 'a', 'a', 'p', 'p', 'a', 'a', 'l']\n",
      "GT\t['ത', 'േ', 'ങ', '്', 'ങ', 'ാ', 'പ', '്', 'പ', 'ാ', 'ൽ']\n",
      "pred\t['ത', 'ാ', 'ര', '്', 'ഗ']\n",
      "\n",
      "\n",
      "\n",
      "Test set: Average loss: 0.8144, Accuracy: 175204/228544 (77%)\n",
      "\n"
     ]
    },
    {
     "name": "stderr",
     "output_type": "stream",
     "text": [
      "  1%|▏         | 1/70 [00:00<00:15,  4.40it/s]"
     ]
    },
    {
     "name": "stdout",
     "output_type": "stream",
     "text": [
      "Train Epoch: 15 [0/35947 (0%)]\tLoss: 0.565722\n"
     ]
    },
    {
     "name": "stderr",
     "output_type": "stream",
     "text": [
      " 16%|█▌        | 11/70 [00:02<00:13,  4.42it/s]"
     ]
    },
    {
     "name": "stdout",
     "output_type": "stream",
     "text": [
      "Train Epoch: 15 [5120/35947 (14%)]\tLoss: 0.548826\n"
     ]
    },
    {
     "name": "stderr",
     "output_type": "stream",
     "text": [
      " 30%|███       | 21/70 [00:04<00:11,  4.26it/s]"
     ]
    },
    {
     "name": "stdout",
     "output_type": "stream",
     "text": [
      "Train Epoch: 15 [10240/35947 (29%)]\tLoss: 0.428756\n"
     ]
    },
    {
     "name": "stderr",
     "output_type": "stream",
     "text": [
      " 44%|████▍     | 31/70 [00:07<00:08,  4.35it/s]"
     ]
    },
    {
     "name": "stdout",
     "output_type": "stream",
     "text": [
      "Train Epoch: 15 [15360/35947 (43%)]\tLoss: 0.691314\n"
     ]
    },
    {
     "name": "stderr",
     "output_type": "stream",
     "text": [
      " 59%|█████▊    | 41/70 [00:09<00:06,  4.41it/s]"
     ]
    },
    {
     "name": "stdout",
     "output_type": "stream",
     "text": [
      "Train Epoch: 15 [20480/35947 (57%)]\tLoss: 0.482645\n"
     ]
    },
    {
     "name": "stderr",
     "output_type": "stream",
     "text": [
      " 73%|███████▎  | 51/70 [00:11<00:04,  4.37it/s]"
     ]
    },
    {
     "name": "stdout",
     "output_type": "stream",
     "text": [
      "Train Epoch: 15 [25600/35947 (71%)]\tLoss: 0.668673\n"
     ]
    },
    {
     "name": "stderr",
     "output_type": "stream",
     "text": [
      " 87%|████████▋ | 61/70 [00:14<00:02,  4.47it/s]"
     ]
    },
    {
     "name": "stdout",
     "output_type": "stream",
     "text": [
      "Train Epoch: 15 [30720/35947 (86%)]\tLoss: 0.508276\n"
     ]
    },
    {
     "name": "stderr",
     "output_type": "stream",
     "text": [
      "100%|██████████| 70/70 [00:16<00:00,  4.36it/s]\n"
     ]
    },
    {
     "name": "stdout",
     "output_type": "stream",
     "text": [
      "Input\t['a', 'm', 'g', 'a', 't', 'h', 'a', 'v', 'a', 'v', 'u', 'm']\n",
      "GT\t['അ', 'ം', 'ഗ', 'ത', '്', 'വ', 'വ', 'ു', 'ം']\n",
      "pred\t['ആ', 'മ', 'ഗ', 'ന', '്', 'ത']\n",
      "\n",
      "\n",
      "Input\t['m', 'a', 'n', 'n', 'i', 'n', 'g']\n",
      "GT\t['മ', 'ാ', 'ന', 'ി', 'ം', 'ഗ', '്']\n",
      "pred\t['മ', 'ാ', 'ന', '്', 'ന', 'ന', 'ങ', '്']\n",
      "\n",
      "\n",
      "Input\t['t', 'h', 'e', 'n', 'g', 'a', 'a', 'p', 'p', 'a', 'a', 'l']\n",
      "GT\t['ത', 'േ', 'ങ', '്', 'ങ', 'ാ', 'പ', '്', 'പ', 'ാ', 'ൽ']\n",
      "pred\t['ത', 'ാ', 'ര', '്', 'ഗ']\n",
      "\n",
      "\n",
      "\n",
      "Test set: Average loss: 0.8240, Accuracy: 173840/228544 (76%)\n",
      "\n"
     ]
    },
    {
     "name": "stderr",
     "output_type": "stream",
     "text": [
      "  1%|▏         | 1/70 [00:00<00:14,  4.66it/s]"
     ]
    },
    {
     "name": "stdout",
     "output_type": "stream",
     "text": [
      "Train Epoch: 16 [0/35947 (0%)]\tLoss: 0.537420\n"
     ]
    },
    {
     "name": "stderr",
     "output_type": "stream",
     "text": [
      " 16%|█▌        | 11/70 [00:02<00:13,  4.41it/s]"
     ]
    },
    {
     "name": "stdout",
     "output_type": "stream",
     "text": [
      "Train Epoch: 16 [5120/35947 (14%)]\tLoss: 0.527066\n"
     ]
    },
    {
     "name": "stderr",
     "output_type": "stream",
     "text": [
      " 30%|███       | 21/70 [00:04<00:11,  4.30it/s]"
     ]
    },
    {
     "name": "stdout",
     "output_type": "stream",
     "text": [
      "Train Epoch: 16 [10240/35947 (29%)]\tLoss: 0.422670\n"
     ]
    },
    {
     "name": "stderr",
     "output_type": "stream",
     "text": [
      " 44%|████▍     | 31/70 [00:07<00:09,  4.02it/s]"
     ]
    },
    {
     "name": "stdout",
     "output_type": "stream",
     "text": [
      "Train Epoch: 16 [15360/35947 (43%)]\tLoss: 0.670812\n"
     ]
    },
    {
     "name": "stderr",
     "output_type": "stream",
     "text": [
      " 59%|█████▊    | 41/70 [00:09<00:06,  4.16it/s]"
     ]
    },
    {
     "name": "stdout",
     "output_type": "stream",
     "text": [
      "Train Epoch: 16 [20480/35947 (57%)]\tLoss: 0.468275\n"
     ]
    },
    {
     "name": "stderr",
     "output_type": "stream",
     "text": [
      " 73%|███████▎  | 51/70 [00:12<00:04,  3.92it/s]"
     ]
    },
    {
     "name": "stdout",
     "output_type": "stream",
     "text": [
      "Train Epoch: 16 [25600/35947 (71%)]\tLoss: 0.631002\n"
     ]
    },
    {
     "name": "stderr",
     "output_type": "stream",
     "text": [
      " 87%|████████▋ | 61/70 [00:14<00:02,  3.89it/s]"
     ]
    },
    {
     "name": "stdout",
     "output_type": "stream",
     "text": [
      "Train Epoch: 16 [30720/35947 (86%)]\tLoss: 0.490420\n"
     ]
    },
    {
     "name": "stderr",
     "output_type": "stream",
     "text": [
      "100%|██████████| 70/70 [00:16<00:00,  4.15it/s]\n"
     ]
    },
    {
     "name": "stdout",
     "output_type": "stream",
     "text": [
      "Input\t['a', 'm', 'g', 'a', 't', 'h', 'a', 'v', 'a', 'v', 'u', 'm']\n",
      "GT\t['അ', 'ം', 'ഗ', 'ത', '്', 'വ', 'വ', 'ു', 'ം']\n",
      "pred\t['അ', 'മ', 'ഗ', 'ന', '്', 'ത']\n",
      "\n",
      "\n",
      "Input\t['m', 'a', 'n', 'n', 'i', 'n', 'g']\n",
      "GT\t['മ', 'ാ', 'ന', 'ി', 'ം', 'ഗ', '്']\n",
      "pred\t['മ', 'ാ', 'ന', 'ന', 'ന', 'ന', 'ങ', '്']\n",
      "\n",
      "\n",
      "Input\t['t', 'h', 'e', 'n', 'g', 'a', 'a', 'p', 'p', 'a', 'a', 'l']\n",
      "GT\t['ത', 'േ', 'ങ', '്', 'ങ', 'ാ', 'പ', '്', 'പ', 'ാ', 'ൽ']\n",
      "pred\t['ത', 'ാ', 'ര', '്', 'ഗ']\n",
      "\n",
      "\n",
      "\n",
      "Test set: Average loss: 0.8117, Accuracy: 174800/228544 (76%)\n",
      "\n"
     ]
    },
    {
     "name": "stderr",
     "output_type": "stream",
     "text": [
      "  1%|▏         | 1/70 [00:00<00:16,  4.11it/s]"
     ]
    },
    {
     "name": "stdout",
     "output_type": "stream",
     "text": [
      "Train Epoch: 17 [0/35947 (0%)]\tLoss: 0.526193\n"
     ]
    },
    {
     "name": "stderr",
     "output_type": "stream",
     "text": [
      " 16%|█▌        | 11/70 [00:02<00:14,  4.04it/s]"
     ]
    },
    {
     "name": "stdout",
     "output_type": "stream",
     "text": [
      "Train Epoch: 17 [5120/35947 (14%)]\tLoss: 0.533038\n"
     ]
    },
    {
     "name": "stderr",
     "output_type": "stream",
     "text": [
      " 30%|███       | 21/70 [00:05<00:11,  4.17it/s]"
     ]
    },
    {
     "name": "stdout",
     "output_type": "stream",
     "text": [
      "Train Epoch: 17 [10240/35947 (29%)]\tLoss: 0.419335\n"
     ]
    },
    {
     "name": "stderr",
     "output_type": "stream",
     "text": [
      " 44%|████▍     | 31/70 [00:07<00:09,  4.10it/s]"
     ]
    },
    {
     "name": "stdout",
     "output_type": "stream",
     "text": [
      "Train Epoch: 17 [15360/35947 (43%)]\tLoss: 0.655706\n"
     ]
    },
    {
     "name": "stderr",
     "output_type": "stream",
     "text": [
      " 59%|█████▊    | 41/70 [00:10<00:07,  3.69it/s]"
     ]
    },
    {
     "name": "stdout",
     "output_type": "stream",
     "text": [
      "Train Epoch: 17 [20480/35947 (57%)]\tLoss: 0.464714\n"
     ]
    },
    {
     "name": "stderr",
     "output_type": "stream",
     "text": [
      " 73%|███████▎  | 51/70 [00:12<00:04,  4.25it/s]"
     ]
    },
    {
     "name": "stdout",
     "output_type": "stream",
     "text": [
      "Train Epoch: 17 [25600/35947 (71%)]\tLoss: 0.643436\n"
     ]
    },
    {
     "name": "stderr",
     "output_type": "stream",
     "text": [
      " 87%|████████▋ | 61/70 [00:14<00:01,  4.58it/s]"
     ]
    },
    {
     "name": "stdout",
     "output_type": "stream",
     "text": [
      "Train Epoch: 17 [30720/35947 (86%)]\tLoss: 0.492949\n"
     ]
    },
    {
     "name": "stderr",
     "output_type": "stream",
     "text": [
      "100%|██████████| 70/70 [00:16<00:00,  4.16it/s]\n"
     ]
    },
    {
     "name": "stdout",
     "output_type": "stream",
     "text": [
      "Input\t['a', 'm', 'g', 'a', 't', 'h', 'a', 'v', 'a', 'v', 'u', 'm']\n",
      "GT\t['അ', 'ം', 'ഗ', 'ത', '്', 'വ', 'വ', 'ു', 'ം']\n",
      "pred\t['അ', 'ം', 'ഗ', 'ന', 'ത']\n",
      "\n",
      "\n",
      "Input\t['m', 'a', 'n', 'n', 'i', 'n', 'g']\n",
      "GT\t['മ', 'ാ', 'ന', 'ി', 'ം', 'ഗ', '്']\n",
      "pred\t['ര', 'ാ', 'ന', '്', 'ന', 'ി', 'ങ', '്']\n",
      "\n",
      "\n",
      "Input\t['t', 'h', 'e', 'n', 'g', 'a', 'a', 'p', 'p', 'a', 'a', 'l']\n",
      "GT\t['ത', 'േ', 'ങ', '്', 'ങ', 'ാ', 'പ', '്', 'പ', 'ാ', 'ൽ']\n",
      "pred\t['ത', 'ി', 'ര', '്', 'ഗ']\n",
      "\n",
      "\n",
      "\n",
      "Test set: Average loss: 0.8430, Accuracy: 173267/228544 (76%)\n",
      "\n"
     ]
    },
    {
     "name": "stderr",
     "output_type": "stream",
     "text": [
      "  1%|▏         | 1/70 [00:00<00:14,  4.68it/s]"
     ]
    },
    {
     "name": "stdout",
     "output_type": "stream",
     "text": [
      "Train Epoch: 18 [0/35947 (0%)]\tLoss: 0.507103\n"
     ]
    },
    {
     "name": "stderr",
     "output_type": "stream",
     "text": [
      " 16%|█▌        | 11/70 [00:02<00:13,  4.30it/s]"
     ]
    },
    {
     "name": "stdout",
     "output_type": "stream",
     "text": [
      "Train Epoch: 18 [5120/35947 (14%)]\tLoss: 0.510110\n"
     ]
    },
    {
     "name": "stderr",
     "output_type": "stream",
     "text": [
      " 30%|███       | 21/70 [00:04<00:11,  4.23it/s]"
     ]
    },
    {
     "name": "stdout",
     "output_type": "stream",
     "text": [
      "Train Epoch: 18 [10240/35947 (29%)]\tLoss: 0.392639\n"
     ]
    },
    {
     "name": "stderr",
     "output_type": "stream",
     "text": [
      " 44%|████▍     | 31/70 [00:07<00:09,  4.07it/s]"
     ]
    },
    {
     "name": "stdout",
     "output_type": "stream",
     "text": [
      "Train Epoch: 18 [15360/35947 (43%)]\tLoss: 0.646335\n"
     ]
    },
    {
     "name": "stderr",
     "output_type": "stream",
     "text": [
      " 59%|█████▊    | 41/70 [00:09<00:06,  4.24it/s]"
     ]
    },
    {
     "name": "stdout",
     "output_type": "stream",
     "text": [
      "Train Epoch: 18 [20480/35947 (57%)]\tLoss: 0.456159\n"
     ]
    },
    {
     "name": "stderr",
     "output_type": "stream",
     "text": [
      " 73%|███████▎  | 51/70 [00:11<00:04,  4.40it/s]"
     ]
    },
    {
     "name": "stdout",
     "output_type": "stream",
     "text": [
      "Train Epoch: 18 [25600/35947 (71%)]\tLoss: 0.621685\n"
     ]
    },
    {
     "name": "stderr",
     "output_type": "stream",
     "text": [
      " 87%|████████▋ | 61/70 [00:14<00:02,  3.90it/s]"
     ]
    },
    {
     "name": "stdout",
     "output_type": "stream",
     "text": [
      "Train Epoch: 18 [30720/35947 (86%)]\tLoss: 0.469704\n"
     ]
    },
    {
     "name": "stderr",
     "output_type": "stream",
     "text": [
      "100%|██████████| 70/70 [00:16<00:00,  4.25it/s]\n"
     ]
    },
    {
     "name": "stdout",
     "output_type": "stream",
     "text": [
      "Input\t['a', 'm', 'g', 'a', 't', 'h', 'a', 'v', 'a', 'v', 'u', 'm']\n",
      "GT\t['അ', 'ം', 'ഗ', 'ത', '്', 'വ', 'വ', 'ു', 'ം']\n",
      "pred\t['അ', 'മ', 'ഗ', 'ന', '്', 'ത']\n",
      "\n",
      "\n",
      "Input\t['m', 'a', 'n', 'n', 'i', 'n', 'g']\n",
      "GT\t['മ', 'ാ', 'ന', 'ി', 'ം', 'ഗ', '്']\n",
      "pred\t['ര', 'ാ', 'ാ', 'ന', 'ന', 'ന', 'ങ', 'ങ']\n",
      "\n",
      "\n",
      "Input\t['t', 'h', 'e', 'n', 'g', 'a', 'a', 'p', 'p', 'a', 'a', 'l']\n",
      "GT\t['ത', 'േ', 'ങ', '്', 'ങ', 'ാ', 'പ', '്', 'പ', 'ാ', 'ൽ']\n",
      "pred\t['ത', 'ാ', 'ര', '്', 'ങ']\n",
      "\n",
      "\n",
      "\n",
      "Test set: Average loss: 0.8327, Accuracy: 173721/228544 (76%)\n",
      "\n"
     ]
    },
    {
     "name": "stderr",
     "output_type": "stream",
     "text": [
      "  1%|▏         | 1/70 [00:00<00:16,  4.17it/s]"
     ]
    },
    {
     "name": "stdout",
     "output_type": "stream",
     "text": [
      "Train Epoch: 19 [0/35947 (0%)]\tLoss: 0.505177\n"
     ]
    },
    {
     "name": "stderr",
     "output_type": "stream",
     "text": [
      " 16%|█▌        | 11/70 [00:02<00:13,  4.48it/s]"
     ]
    },
    {
     "name": "stdout",
     "output_type": "stream",
     "text": [
      "Train Epoch: 19 [5120/35947 (14%)]\tLoss: 0.497378\n"
     ]
    },
    {
     "name": "stderr",
     "output_type": "stream",
     "text": [
      " 30%|███       | 21/70 [00:04<00:10,  4.59it/s]"
     ]
    },
    {
     "name": "stdout",
     "output_type": "stream",
     "text": [
      "Train Epoch: 19 [10240/35947 (29%)]\tLoss: 0.386159\n"
     ]
    },
    {
     "name": "stderr",
     "output_type": "stream",
     "text": [
      " 44%|████▍     | 31/70 [00:06<00:08,  4.59it/s]"
     ]
    },
    {
     "name": "stdout",
     "output_type": "stream",
     "text": [
      "Train Epoch: 19 [15360/35947 (43%)]\tLoss: 0.621861\n"
     ]
    },
    {
     "name": "stderr",
     "output_type": "stream",
     "text": [
      " 59%|█████▊    | 41/70 [00:09<00:06,  4.44it/s]"
     ]
    },
    {
     "name": "stdout",
     "output_type": "stream",
     "text": [
      "Train Epoch: 19 [20480/35947 (57%)]\tLoss: 0.439657\n"
     ]
    },
    {
     "name": "stderr",
     "output_type": "stream",
     "text": [
      " 73%|███████▎  | 51/70 [00:11<00:04,  4.37it/s]"
     ]
    },
    {
     "name": "stdout",
     "output_type": "stream",
     "text": [
      "Train Epoch: 19 [25600/35947 (71%)]\tLoss: 0.612546\n"
     ]
    },
    {
     "name": "stderr",
     "output_type": "stream",
     "text": [
      " 87%|████████▋ | 61/70 [00:14<00:02,  3.86it/s]"
     ]
    },
    {
     "name": "stdout",
     "output_type": "stream",
     "text": [
      "Train Epoch: 19 [30720/35947 (86%)]\tLoss: 0.455831\n"
     ]
    },
    {
     "name": "stderr",
     "output_type": "stream",
     "text": [
      "100%|██████████| 70/70 [00:16<00:00,  4.33it/s]\n"
     ]
    },
    {
     "name": "stdout",
     "output_type": "stream",
     "text": [
      "Input\t['a', 'm', 'g', 'a', 't', 'h', 'a', 'v', 'a', 'v', 'u', 'm']\n",
      "GT\t['അ', 'ം', 'ഗ', 'ത', '്', 'വ', 'വ', 'ു', 'ം']\n",
      "pred\t['അ', 'മ', 'ഗ', 'ന', '്', 'ത']\n",
      "\n",
      "\n",
      "Input\t['m', 'a', 'n', 'n', 'i', 'n', 'g']\n",
      "GT\t['മ', 'ാ', 'ന', 'ി', 'ം', 'ഗ', '്']\n",
      "pred\t['ര', 'ര', 'ന', 'ണ', 'ന', 'ന', 'ങ', 'ങ']\n",
      "\n",
      "\n",
      "Input\t['t', 'h', 'e', 'n', 'g', 'a', 'a', 'p', 'p', 'a', 'a', 'l']\n",
      "GT\t['ത', 'േ', 'ങ', '്', 'ങ', 'ാ', 'പ', '്', 'പ', 'ാ', 'ൽ']\n",
      "pred\t['ത', 'ി', 'ര', '്', 'ഗ']\n",
      "\n",
      "\n",
      "\n",
      "Test set: Average loss: 0.8530, Accuracy: 173123/228544 (76%)\n",
      "\n"
     ]
    },
    {
     "name": "stderr",
     "output_type": "stream",
     "text": [
      "  1%|▏         | 1/70 [00:00<00:14,  4.66it/s]"
     ]
    },
    {
     "name": "stdout",
     "output_type": "stream",
     "text": [
      "Train Epoch: 20 [0/35947 (0%)]\tLoss: 0.489912\n"
     ]
    },
    {
     "name": "stderr",
     "output_type": "stream",
     "text": [
      " 16%|█▌        | 11/70 [00:02<00:13,  4.37it/s]"
     ]
    },
    {
     "name": "stdout",
     "output_type": "stream",
     "text": [
      "Train Epoch: 20 [5120/35947 (14%)]\tLoss: 0.482502\n"
     ]
    },
    {
     "name": "stderr",
     "output_type": "stream",
     "text": [
      " 30%|███       | 21/70 [00:05<00:11,  4.10it/s]"
     ]
    },
    {
     "name": "stdout",
     "output_type": "stream",
     "text": [
      "Train Epoch: 20 [10240/35947 (29%)]\tLoss: 0.373275\n"
     ]
    },
    {
     "name": "stderr",
     "output_type": "stream",
     "text": [
      " 44%|████▍     | 31/70 [00:07<00:08,  4.40it/s]"
     ]
    },
    {
     "name": "stdout",
     "output_type": "stream",
     "text": [
      "Train Epoch: 20 [15360/35947 (43%)]\tLoss: 0.608766\n"
     ]
    },
    {
     "name": "stderr",
     "output_type": "stream",
     "text": [
      " 59%|█████▊    | 41/70 [00:09<00:06,  4.37it/s]"
     ]
    },
    {
     "name": "stdout",
     "output_type": "stream",
     "text": [
      "Train Epoch: 20 [20480/35947 (57%)]\tLoss: 0.428627\n"
     ]
    },
    {
     "name": "stderr",
     "output_type": "stream",
     "text": [
      " 73%|███████▎  | 51/70 [00:11<00:04,  4.52it/s]"
     ]
    },
    {
     "name": "stdout",
     "output_type": "stream",
     "text": [
      "Train Epoch: 20 [25600/35947 (71%)]\tLoss: 0.602035\n"
     ]
    },
    {
     "name": "stderr",
     "output_type": "stream",
     "text": [
      " 87%|████████▋ | 61/70 [00:14<00:02,  4.42it/s]"
     ]
    },
    {
     "name": "stdout",
     "output_type": "stream",
     "text": [
      "Train Epoch: 20 [30720/35947 (86%)]\tLoss: 0.440254\n"
     ]
    },
    {
     "name": "stderr",
     "output_type": "stream",
     "text": [
      "100%|██████████| 70/70 [00:16<00:00,  4.30it/s]\n"
     ]
    },
    {
     "name": "stdout",
     "output_type": "stream",
     "text": [
      "Input\t['a', 'm', 'g', 'a', 't', 'h', 'a', 'v', 'a', 'v', 'u', 'm']\n",
      "GT\t['അ', 'ം', 'ഗ', 'ത', '്', 'വ', 'വ', 'ു', 'ം']\n",
      "pred\t['അ', 'മ', 'ഗ', 'ന', '്']\n",
      "\n",
      "\n",
      "Input\t['m', 'a', 'n', 'n', 'i', 'n', 'g']\n",
      "GT\t['മ', 'ാ', 'ന', 'ി', 'ം', 'ഗ', '്']\n",
      "pred\t['ഹ', 'ാ', 'ന', '്', 'ന', 'ന', 'ങ', 'ങ']\n",
      "\n",
      "\n",
      "Input\t['t', 'h', 'e', 'n', 'g', 'a', 'a', 'p', 'p', 'a', 'a', 'l']\n",
      "GT\t['ത', 'േ', 'ങ', '്', 'ങ', 'ാ', 'പ', '്', 'പ', 'ാ', 'ൽ']\n",
      "pred\t['ത', 'ാ', 'ക', '്', 'ഗ']\n",
      "\n",
      "\n",
      "\n",
      "Test set: Average loss: 0.8604, Accuracy: 173070/228544 (76%)\n",
      "\n"
     ]
    },
    {
     "data": {
      "image/png": "[encoded data removed]",
      "text/plain": [
       "<Figure size 864x432 with 1 Axes>"
      ]
     },
     "metadata": {},
     "output_type": "display_data"
    },
    {
     "data": {
      "image/png": "[encoded data removed]",
      "text/plain": [
       "<Figure size 864x432 with 1 Axes>"
      ]
     },
     "metadata": {},
     "output_type": "display_data"
    }
   ],
   "source": [
    "ml_lstm_model, _, _, _, _ = main('ml', 'lstm')"
   ]
  },
  {
   "cell_type": "code",
   "execution_count": 20,
   "id": "a3885dfa",
   "metadata": {
    "scrolled": true
   },
   "outputs": [
    {
     "name": "stdout",
     "output_type": "stream",
     "text": [
      "Saving best Tamil model\n",
      "Saved model/ta_gru.pt\n",
      "\n"
     ]
    }
   ],
   "source": [
    "print('Saving best Tamil model')\n",
    "ta_gru_model.save_model('model/ta_gru.pt', 0)"
   ]
  },
  {
   "cell_type": "code",
   "execution_count": 27,
   "id": "edcba9b6",
   "metadata": {},
   "outputs": [],
   "source": [
    "pickle.dump({'en_voc2ind': ta_en_voc2ind, 'lang_ind2voc': ta_ind2voc, 'seq_len': ta_seq_len}, open('./vars/ta.pkl', 'wb'))"
   ]
  },
  {
   "cell_type": "code",
   "execution_count": 25,
   "id": "069457fc",
   "metadata": {},
   "outputs": [
    {
     "data": {
      "text/plain": [
       "'பா்ட'"
      ]
     },
     "execution_count": 25,
     "metadata": {},
     "output_type": "execute_result"
    }
   ],
   "source": [
    "''.join(generate_transliteration('panthu', ta_gru_model, ta_en_voc2ind, ta_ind2voc, ta_seq_len))"
   ]
  },
  {
   "cell_type": "code",
   "execution_count": 28,
   "id": "36f3c56c",
   "metadata": {},
   "outputs": [],
   "source": [
    "# Try loading back vars\n",
    "with open('./vars/ta.pkl', 'rb') as data_pkl:\n",
    "    variables = pickle.load(data_pkl)\n",
    "loaded_voc2ind = variables['en_voc2ind']\n",
    "loaded_ind2voc = variables['lang_ind2voc']\n",
    "loaded_seq_len = variables['seq_len']"
   ]
  },
  {
   "cell_type": "code",
   "execution_count": 29,
   "id": "64c29002",
   "metadata": {},
   "outputs": [
    {
     "name": "stdout",
     "output_type": "stream",
     "text": [
      "Restoring:\n",
      "encoder.weight -> \ttorch.Size([27, 128]) = 0MB\n",
      "midLayer.weight -> \ttorch.Size([128, 128]) = 0MB\n",
      "midLayer.bias -> \ttorch.Size([128]) = 0MB\n",
      "decoder.weight -> \ttorch.Size([47, 128]) = 0MB\n",
      "decoder.bias -> \ttorch.Size([47]) = 0MB\n",
      "rnn.weight_ih_l0 -> \ttorch.Size([384, 128]) = 0MB\n",
      "rnn.weight_hh_l0 -> \ttorch.Size([384, 128]) = 0MB\n",
      "rnn.bias_ih_l0 -> \ttorch.Size([384]) = 0MB\n",
      "rnn.bias_hh_l0 -> \ttorch.Size([384]) = 0MB\n",
      "rnn2.weight_ih_l0 -> \ttorch.Size([384, 128]) = 0MB\n",
      "rnn2.weight_hh_l0 -> \ttorch.Size([384, 128]) = 0MB\n",
      "rnn2.bias_ih_l0 -> \ttorch.Size([384]) = 0MB\n",
      "rnn2.bias_hh_l0 -> \ttorch.Size([384]) = 0MB\n",
      "\n",
      "Restored all variables\n",
      "No new variables\n",
      "Restored model/ta_gru.pt\n"
     ]
    }
   ],
   "source": [
    "# Try loading back model (for demo)\n",
    "loaded_model = TransliterateNet(len(loaded_voc2ind), len(loaded_ind2voc), feature_size=128, rnn_type='gru').to(device)\n",
    "loaded_model.load_model('model/ta_gru.pt')"
   ]
  },
  {
   "cell_type": "code",
   "execution_count": 35,
   "id": "f24ef6c5",
   "metadata": {},
   "outputs": [
    {
     "data": {
      "text/plain": [
       "'பா்ட'"
      ]
     },
     "execution_count": 35,
     "metadata": {},
     "output_type": "execute_result"
    }
   ],
   "source": [
    "# Try generating transliteration with loaded model; should be same as the previous transliteration\n",
    "''.join(generate_transliteration('panthu', loaded_model, loaded_voc2ind, loaded_ind2voc, loaded_seq_len))"
   ]
  },
  {
   "cell_type": "code",
   "execution_count": 31,
   "id": "98969adc",
   "metadata": {},
   "outputs": [
    {
     "name": "stdout",
     "output_type": "stream",
     "text": [
      "Saved model/ml_gru.pt\n",
      "\n"
     ]
    }
   ],
   "source": [
    "# Now that saving works, save best model and vars for all languages (for safety)\n",
    "ml_gru_model.save_model('model/ml_gru.pt', 0)\n",
    "pickle.dump({'en_voc2ind': ml_en_voc2ind, 'lang_ind2voc': ml_ind2voc, 'seq_len': ml_seq_len}, open('./vars/ml.pkl', 'wb'))"
   ]
  },
  {
   "cell_type": "code",
   "execution_count": 32,
   "id": "ea84f1c3",
   "metadata": {},
   "outputs": [
    {
     "name": "stdout",
     "output_type": "stream",
     "text": [
      "Saved model/bn_gru.pt\n",
      "\n"
     ]
    }
   ],
   "source": [
    "bn_gru_model.save_model('model/bn_gru.pt', 0)\n",
    "pickle.dump({'en_voc2ind': bn_en_voc2ind, 'lang_ind2voc': bn_ind2voc, 'seq_len': bn_seq_len}, open('./vars/bn.pkl', 'wb'))"
   ]
  },
  {
   "cell_type": "code",
   "execution_count": 33,
   "id": "e194a509",
   "metadata": {},
   "outputs": [
    {
     "name": "stdout",
     "output_type": "stream",
     "text": [
      "Saved model/hi_gru.pt\n",
      "\n"
     ]
    }
   ],
   "source": [
    "hi_gru_model.save_model('model/hi_gru.pt', 0)\n",
    "pickle.dump({'en_voc2ind': hi_en_voc2ind, 'lang_ind2voc': hi_ind2voc, 'seq_len': hi_seq_len}, open('./vars/hi.pkl', 'wb'))"
   ]
  }
 ],
 "metadata": {
  "kernelspec": {
   "display_name": "Python 3",
   "language": "python",
   "name": "python3"
  },
  "language_info": {
   "codemirror_mode": {
    "name": "ipython",
    "version": 3
   },
   "file_extension": ".py",
   "mimetype": "text/x-python",
   "name": "python",
   "nbconvert_exporter": "python",
   "pygments_lexer": "ipython3",
   "version": "3.6.8"
  }
 },
 "nbformat": 4,
 "nbformat_minor": 5
}
