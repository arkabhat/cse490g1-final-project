{
 "cells": [
  {
   "cell_type": "code",
   "execution_count": 1,
   "id": "ee1b8694",
   "metadata": {},
   "outputs": [
    {
     "name": "stdout",
     "output_type": "stream",
     "text": [
      "Version 1.10.0+cu102\n",
      "CUDA enabled: False\n"
     ]
    }
   ],
   "source": [
    "import torch\n",
    "print('Version', torch.__version__)\n",
    "print('CUDA enabled:', torch.cuda.is_available())"
   ]
  },
  {
   "cell_type": "code",
   "execution_count": 2,
   "id": "e503fd20",
   "metadata": {},
   "outputs": [],
   "source": [
    "import torch.nn as nn\n",
    "from torchvision import datasets\n",
    "from torchvision import transforms\n",
    "import torch.nn.functional as F\n",
    "import torch.optim as optim\n",
    "import numpy as np\n",
    "import matplotlib.pyplot as plt\n",
    "import tqdm\n",
    "\n",
    "import sys\n",
    "import os\n",
    "import pickle\n",
    "import re\n",
    "import csv\n",
    "import multiprocessing\n",
    "\n",
    "import pt_util"
   ]
  },
  {
   "cell_type": "code",
   "execution_count": 3,
   "id": "66153b90",
   "metadata": {},
   "outputs": [],
   "source": [
    "DATA_DIR = 'dakshina_dataset_v1.0'\n",
    "LANG = 'ta'\n",
    "LANG_DIR = 'lexicons'\n",
    "DATA_PATH = '{}/{}/{}'.format(DATA_DIR, LANG, LANG_DIR)"
   ]
  },
  {
   "cell_type": "code",
   "execution_count": 4,
   "id": "774a0851",
   "metadata": {},
   "outputs": [],
   "source": [
    "def prepare_data(dirpath):\n",
    "    # Read train and test data\n",
    "    filenames = os.listdir(dirpath)\n",
    "    train_data = []\n",
    "    test_data = []\n",
    "    max_len = 0 # max length of any word in the dataset\n",
    "    \n",
    "    def get_most_annotated_transliterations(tsv_file, data, max_len):\n",
    "        curr_lang = None\n",
    "        max_annotations = 0\n",
    "        curr_translits = {}\n",
    "\n",
    "        # only consider the most annotated transliteration(s) for each foreign language word\n",
    "        for lang, en, annotations in tsv_file:\n",
    "            if not curr_lang or lang != curr_lang:\n",
    "                for translit, annots in curr_translits.items():\n",
    "                    if annots == max_annotations:\n",
    "                        data.append([curr_lang, translit])\n",
    "                        max_len = max(max_len, len(translit))\n",
    "                curr_lang = lang\n",
    "                max_annotations = annotations\n",
    "                curr_translits = {en: annotations}\n",
    "                max_len = max(max_len, len(curr_lang))\n",
    "            else:\n",
    "                max_annotations = max(max_annotations, annotations)\n",
    "                curr_translits[en] = annotations\n",
    "        for translit, annots in curr_translits.items(): # fencepost\n",
    "            if annots == max_annotations:\n",
    "                data.append([curr_lang, translit])\n",
    "                max_len = max(max_len, len(translit))\n",
    "        return max_len\n",
    "    \n",
    "    for filename in filenames:\n",
    "        with open(os.path.join(dirpath, filename), 'r') as file:\n",
    "            tsv = csv.reader(file, delimiter='\\t')\n",
    "            if filename.endswith('train.tsv'):\n",
    "                max_len = get_most_annotated_transliterations(tsv, train_data, max_len)\n",
    "            else:\n",
    "                max_len = get_most_annotated_transliterations(tsv, test_data, max_len)\n",
    "                \n",
    "    return train_data, test_data, max_len"
   ]
  },
  {
   "cell_type": "code",
   "execution_count": 5,
   "id": "9a49eb6f",
   "metadata": {},
   "outputs": [],
   "source": [
    "PAD = '<PAD>'\n",
    "def create_dictionaries(data):\n",
    "    #en_voc2ind = {PAD: 0}\n",
    "    #lang_voc2ind = {PAD: 0}\n",
    "    #en_ind2voc = {0: PAD}\n",
    "    #lang_ind2voc = {0: PAD}\n",
    "    \n",
    "    en_voc2ind = {}\n",
    "    lang_voc2ind = {}\n",
    "    en_ind2voc = {}\n",
    "    lang_ind2voc = {}\n",
    "    \n",
    "    en_ind = 0 #1\n",
    "    lang_ind = 0 #1\n",
    "    for lang, en in data:\n",
    "        for lang_char in lang:\n",
    "            if lang_char not in lang_voc2ind:\n",
    "                lang_voc2ind[lang_char] = lang_ind\n",
    "                lang_ind2voc[lang_ind] = lang_char\n",
    "                lang_ind += 1\n",
    "        for en_char in en:\n",
    "            if en_char not in en_voc2ind:\n",
    "                en_voc2ind[en_char] = en_ind\n",
    "                en_ind2voc[en_ind] = en_char\n",
    "                en_ind += 1\n",
    "                \n",
    "    en_voc2ind[PAD] = en_ind\n",
    "    lang_voc2ind[PAD] = lang_ind\n",
    "    en_ind2voc[en_ind] = PAD\n",
    "    lang_ind2voc[lang_ind] = PAD\n",
    "    \n",
    "    return lang_voc2ind, lang_ind2voc, en_voc2ind, en_ind2voc"
   ]
  },
  {
   "cell_type": "code",
   "execution_count": 6,
   "id": "07efad95",
   "metadata": {},
   "outputs": [],
   "source": [
    "# Preprocessing functions\n",
    "def tokenize_data(data, voc2ind):\n",
    "    return [voc2ind[char] for char in data]\n",
    "\n",
    "def detokenize_and_depad_data(data, ind2voc, pad_val=0):\n",
    "    res = []\n",
    "    for ind in data:\n",
    "        if ind.item() == pad_val:\n",
    "            break\n",
    "        res.append(ind2voc[ind.item()])\n",
    "    return res\n",
    "\n",
    "def pad_data(data, seq_len, pad_val=0):\n",
    "    for _ in range(len(data), seq_len):\n",
    "        data.append(pad_val)\n",
    "    return data"
   ]
  },
  {
   "cell_type": "code",
   "execution_count": 7,
   "id": "bfcc2098",
   "metadata": {},
   "outputs": [],
   "source": [
    "class TransliterateDataset(torch.utils.data.Dataset):\n",
    "    \n",
    "    def __init__(self, data, lang_voc2ind, en_voc2ind, seq_len):\n",
    "        super(TransliterateDataset, self).__init__()\n",
    "        \n",
    "        # Tokenize and pad data\n",
    "        lang_data = []\n",
    "        en_data = []\n",
    "        for lang, en in data:\n",
    "            lang_tokens = tokenize_data(lang, lang_voc2ind)\n",
    "            lang_data.append(pad_data(lang_tokens, seq_len, len(lang_voc2ind) - 1))\n",
    "            en_tokens = tokenize_data(en, en_voc2ind)\n",
    "            en_data.append(pad_data(en_tokens, seq_len, len(en_voc2ind) - 1))\n",
    "            \n",
    "        self.language_data = lang_data\n",
    "        self.english_data = en_data\n",
    "        self.sequence_length = seq_len\n",
    "\n",
    "    def __len__(self):\n",
    "        return len(self.english_data)\n",
    "        \n",
    "    def __getitem__(self, idx):\n",
    "        # Return the data and label at idx\n",
    "        return torch.LongTensor(self.english_data[idx]), torch.LongTensor(self.language_data[idx])\n",
    "    \n",
    "    def get_random_sample(self):\n",
    "        return self.__getitem__(np.random.randint(self.__len__()))"
   ]
  },
  {
   "cell_type": "code",
   "execution_count": 8,
   "id": "e150ff19",
   "metadata": {},
   "outputs": [],
   "source": [
    "class TransliterateNet(nn.Module):\n",
    "    \n",
    "    def __init__(self, en_vocab_size, lang_vocab_size, feature_size):\n",
    "        super(TransliterateNet, self).__init__()\n",
    "        self.en_vocab_size = en_vocab_size\n",
    "        self.lang_vocab_size = lang_vocab_size\n",
    "        self.feature_size = feature_size\n",
    "\n",
    "        self.encoder = nn.Embedding(self.en_vocab_size, self.feature_size)\n",
    "        self.rnn = nn.RNN(self.feature_size, self.feature_size, 2)\n",
    "        self.decoder = nn.Linear(self.feature_size, self.lang_vocab_size)\n",
    "        \n",
    "        #self.decoder.weight = self.encoder.weight\n",
    "        #self.decoder.bias.data.zero_()\n",
    "        \n",
    "        self.best_accuracy = -1\n",
    "    \n",
    "    def forward(self, x, hidden_state=None):\n",
    "        x = self.encoder(x)\n",
    "        x, hidden_state = self.rnn(x, hidden_state)\n",
    "        x = self.decoder(x)\n",
    "\n",
    "        return x, hidden_state\n",
    "\n",
    "    # This defines the function that gives a probability distribution and implements the temperature computation.\n",
    "    def inference(self, x, hidden_state=None, temperature=1):\n",
    "        x = x.view(-1, 1)\n",
    "        x, hidden_state = self.forward(x, hidden_state)\n",
    "        x = x.view(1, -1)\n",
    "        x = x / max(temperature, 1e-20)\n",
    "        x = F.softmax(x, dim=1)\n",
    "        return x, hidden_state\n",
    "\n",
    "    # Predefined loss function\n",
    "    def loss(self, prediction, label, reduction='mean'):\n",
    "        loss_val = F.cross_entropy(prediction.view(-1, self.lang_vocab_size), label.view(-1), reduction=reduction)\n",
    "        return loss_val\n",
    "\n",
    "    # Saves the current model\n",
    "    def save_model(self, file_path, num_to_keep=1):\n",
    "        pt_util.save(self, file_path, num_to_keep)\n",
    "\n",
    "    # Saves the best model so far\n",
    "    def save_best_model(self, accuracy, file_path, num_to_keep=1):\n",
    "        if accuracy > self.best_accuracy:\n",
    "            self.save_model(file_path, num_to_keep)\n",
    "            self.best_accuracy = accuracy\n",
    "\n",
    "    def load_model(self, file_path):\n",
    "        pt_util.restore(self, file_path)\n",
    "\n",
    "    def load_last_model(self, dir_path):\n",
    "        return pt_util.restore_latest(self, dir_path)"
   ]
  },
  {
   "cell_type": "code",
   "execution_count": 9,
   "id": "ae5bec02",
   "metadata": {},
   "outputs": [],
   "source": [
    "def repackage_hidden(h):\n",
    "    # Wraps hidden states in new Tensors, to detach them from their history\n",
    "    if isinstance(h, torch.Tensor):\n",
    "        return h.detach()\n",
    "    else:\n",
    "        return tuple(repackage_hidden(v) for v in h)\n",
    "\n",
    "def train(model, device, optimizer, train_loader, lr, epoch, log_interval):\n",
    "    model.train()\n",
    "    losses = []\n",
    "    hidden = None\n",
    "    for batch_idx, (data, label) in enumerate(tqdm.tqdm(train_loader)):\n",
    "        data, label = data.to(device), label.to(device)\n",
    "        # Separates the hidden state across batches.\n",
    "        # Otherwise the backward would try to go all the way to the beginning every time\n",
    "        if hidden is not None:\n",
    "            hidden = repackage_hidden(hidden)\n",
    "        optimizer.zero_grad()\n",
    "        output, hidden = model(data)\n",
    "        pred = output.max(-1)[1]\n",
    "        loss = model.loss(output, label)\n",
    "        losses.append(loss.item())\n",
    "        loss.backward()\n",
    "        optimizer.step()\n",
    "        if batch_idx % log_interval == 0:\n",
    "            print('Train Epoch: {} [{}/{} ({:.0f}%)]\\tLoss: {:.6f}'.format(\n",
    "                epoch, batch_idx * len(data), len(train_loader.dataset),\n",
    "                100. * batch_idx / len(train_loader), loss.item()))\n",
    "    return np.mean(losses)\n",
    "\n",
    "\n",
    "def test(model, device, test_loader, en_ind2voc, lang_ind2voc):\n",
    "    model.eval()\n",
    "    test_loss = 0\n",
    "    correct = 0\n",
    "\n",
    "    with torch.no_grad():\n",
    "        hidden = None\n",
    "        for batch_idx, (data, label) in enumerate(test_loader):\n",
    "            data, label = data.to(device), label.to(device)\n",
    "            output, hidden = model(data, hidden)\n",
    "            test_loss += model.loss(output, label, reduction='mean').item()\n",
    "            pred = output.max(-1)[1]\n",
    "            correct_mask = pred.eq(label.view_as(pred))\n",
    "            num_correct = correct_mask.sum().item()\n",
    "            correct += num_correct\n",
    "            # Comment this out to avoid printing test results\n",
    "            if batch_idx % 10 == 0:\n",
    "                print('Input\\t%s\\nGT\\t%s\\npred\\t%s\\n\\n' % (\n",
    "                    detokenize_and_depad_data(data[0], en_ind2voc, len(en_ind2voc) - 1),\n",
    "                    detokenize_and_depad_data(label[0], lang_ind2voc, len(lang_ind2voc) - 1),\n",
    "                    detokenize_and_depad_data(pred[0], lang_ind2voc, len(lang_ind2voc) - 1)))\n",
    "\n",
    "    test_loss /= len(test_loader)\n",
    "    test_accuracy = 100. * correct / (len(test_loader.dataset) * test_loader.dataset.sequence_length)\n",
    "\n",
    "    print('\\nTest set: Average loss: {:.4f}, Accuracy: {}/{} ({:.0f}%)\\n'.format(\n",
    "        test_loss, correct, len(test_loader.dataset) * test_loader.dataset.sequence_length,\n",
    "        100. * correct / (len(test_loader.dataset) * test_loader.dataset.sequence_length)))\n",
    "    return test_loss, test_accuracy"
   ]
  },
  {
   "cell_type": "code",
   "execution_count": 10,
   "id": "d7d4db38",
   "metadata": {},
   "outputs": [
    {
     "name": "stdout",
     "output_type": "stream",
     "text": [
      "Using device cpu\n",
      "num workers: 48\n",
      "Input\t['f', 'a', 'r', 'm']\n",
      "GT\t['ஃ', 'ப', 'ா', 'ர', '்', 'ம', '்']\n",
      "pred\t['்', 'ஷ', 'ௌ', 'ஜ', 'ஷ', 'ஷ', 'ஷ', 'ஷ', 'ஷ', 'ஷ', 'ஷ', 'ஷ', 'ஷ', 'ஷ', 'ஷ', 'ஷ', 'ஷ', 'ஷ', 'ஷ', 'ஷ', 'ஷ', 'ஷ', 'ஷ', 'ஷ', 'ஷ', 'ஷ', 'ஷ', 'ஷ', 'ஷ', 'ஷ']\n",
      "\n",
      "\n",
      "Input\t['n', 'e', 't', 'r', 'i']\n",
      "GT\t['ந', 'ெ', 'ற', '்', 'ற', 'ி']\n",
      "pred\t['ே', 'ஷ', 'ஹ', 'ௌ']\n",
      "\n",
      "\n",
      "Input\t['k', 'a', 'a', 'r', 'a', 'n', 'a', 't', 't', 'a', 'i', 'p']\n",
      "GT\t['க', 'ா', 'ர', 'ண', 'த', '்', 'த', 'ை', 'ப', '்']\n",
      "pred\t['ை', 'ஷ', 'ஷ', '்', 'ஷ', 'ே', 'ஷ', 'ா', 'ஹ', 'ா', 'ய', 'ஐ', 'ஷ', 'ஷ', 'ஷ', 'ஷ', 'ஷ', 'ஷ', 'ஷ', 'ஷ', 'ஷ', 'ஷ', 'ஷ', 'ஷ', 'ஷ', 'ஷ', 'ஷ', 'ஷ', 'ஷ', 'ஷ']\n",
      "\n",
      "\n",
      "Input\t['v', 'a', 'a', 'g', 'a', 'n', 'a']\n",
      "GT\t['வ', 'ா', 'க', 'ன']\n",
      "pred\t['ஷ', 'ஷ', 'ஷ', 'ஹ', 'ஷ', 'ஃ', 'ற', 'ஷ', 'ஷ', 'ஷ', 'ஷ', 'ஷ', 'ஷ', 'ஷ', 'ஷ', 'ஷ', 'ஷ', 'ஷ', 'ஷ', 'ஷ', 'ஷ', 'ஷ', 'ஷ', 'ஷ', 'ஷ', 'ஷ', 'ஷ', 'ஷ', 'ஷ', 'ஷ']\n",
      "\n",
      "\n",
      "\n",
      "Test set: Average loss: 3.7812, Accuracy: 1677/239760 (1%)\n",
      "\n"
     ]
    },
    {
     "name": "stderr",
     "output_type": "stream",
     "text": [
      "  1%|▏         | 1/76 [00:00<00:31,  2.39it/s]"
     ]
    },
    {
     "name": "stdout",
     "output_type": "stream",
     "text": [
      "Train Epoch: 0 [0/38723 (0%)]\tLoss: 3.773700\n"
     ]
    },
    {
     "name": "stderr",
     "output_type": "stream",
     "text": [
      " 14%|█▍        | 11/76 [00:02<00:13,  4.97it/s]"
     ]
    },
    {
     "name": "stdout",
     "output_type": "stream",
     "text": [
      "Train Epoch: 0 [5120/38723 (13%)]\tLoss: 1.084839\n"
     ]
    },
    {
     "name": "stderr",
     "output_type": "stream",
     "text": [
      " 28%|██▊       | 21/76 [00:04<00:10,  5.00it/s]"
     ]
    },
    {
     "name": "stdout",
     "output_type": "stream",
     "text": [
      "Train Epoch: 0 [10240/38723 (26%)]\tLoss: 1.029131\n"
     ]
    },
    {
     "name": "stderr",
     "output_type": "stream",
     "text": [
      " 41%|████      | 31/76 [00:06<00:09,  4.98it/s]"
     ]
    },
    {
     "name": "stdout",
     "output_type": "stream",
     "text": [
      "Train Epoch: 0 [15360/38723 (39%)]\tLoss: 1.057969\n"
     ]
    },
    {
     "name": "stderr",
     "output_type": "stream",
     "text": [
      " 55%|█████▌    | 42/76 [00:08<00:06,  5.09it/s]"
     ]
    },
    {
     "name": "stdout",
     "output_type": "stream",
     "text": [
      "Train Epoch: 0 [20480/38723 (53%)]\tLoss: 1.015509\n"
     ]
    },
    {
     "name": "stderr",
     "output_type": "stream",
     "text": [
      " 68%|██████▊   | 52/76 [00:10<00:04,  5.07it/s]"
     ]
    },
    {
     "name": "stdout",
     "output_type": "stream",
     "text": [
      "Train Epoch: 0 [25600/38723 (66%)]\tLoss: 0.960828\n"
     ]
    },
    {
     "name": "stderr",
     "output_type": "stream",
     "text": [
      " 82%|████████▏ | 62/76 [00:12<00:02,  5.00it/s]"
     ]
    },
    {
     "name": "stdout",
     "output_type": "stream",
     "text": [
      "Train Epoch: 0 [30720/38723 (79%)]\tLoss: 0.931095\n"
     ]
    },
    {
     "name": "stderr",
     "output_type": "stream",
     "text": [
      " 95%|█████████▍| 72/76 [00:14<00:00,  5.05it/s]"
     ]
    },
    {
     "name": "stdout",
     "output_type": "stream",
     "text": [
      "Train Epoch: 0 [35840/38723 (92%)]\tLoss: 0.976860\n"
     ]
    },
    {
     "name": "stderr",
     "output_type": "stream",
     "text": [
      "100%|██████████| 76/76 [00:15<00:00,  4.94it/s]\n"
     ]
    },
    {
     "name": "stdout",
     "output_type": "stream",
     "text": [
      "Input\t['f', 'a', 'r', 'm']\n",
      "GT\t['ஃ', 'ப', 'ா', 'ர', '்', 'ம', '்']\n",
      "pred\t['ப']\n",
      "\n",
      "\n",
      "Input\t['n', 'e', 't', 'r', 'i']\n",
      "GT\t['ந', 'ெ', 'ற', '்', 'ற', 'ி']\n",
      "pred\t['்', 'ெ', '்', '்', 'ி']\n",
      "\n",
      "\n",
      "Input\t['k', 'a', 'a', 'r', 'a', 'n', 'a', 't', 't', 'a', 'i', 'p']\n",
      "GT\t['க', 'ா', 'ர', 'ண', 'த', '்', 'த', 'ை', 'ப', '்']\n",
      "pred\t['க', 'ழ', '்', '்', '்', '்', '்', 'த', 'த']\n",
      "\n",
      "\n",
      "Input\t['v', 'a', 'a', 'g', 'a', 'n', 'a']\n",
      "GT\t['வ', 'ா', 'க', 'ன']\n",
      "pred\t['வ', 'வ']\n",
      "\n",
      "\n",
      "\n",
      "Test set: Average loss: 0.9213, Accuracy: 182819/239760 (76%)\n",
      "\n"
     ]
    },
    {
     "name": "stderr",
     "output_type": "stream",
     "text": [
      "  1%|▏         | 1/76 [00:00<00:13,  5.43it/s]"
     ]
    },
    {
     "name": "stdout",
     "output_type": "stream",
     "text": [
      "Train Epoch: 1 [0/38723 (0%)]\tLoss: 1.047001\n"
     ]
    },
    {
     "name": "stderr",
     "output_type": "stream",
     "text": [
      " 16%|█▌        | 12/76 [00:02<00:12,  5.07it/s]"
     ]
    },
    {
     "name": "stdout",
     "output_type": "stream",
     "text": [
      "Train Epoch: 1 [5120/38723 (13%)]\tLoss: 0.936652\n"
     ]
    },
    {
     "name": "stderr",
     "output_type": "stream",
     "text": [
      " 29%|██▉       | 22/76 [00:04<00:10,  5.07it/s]"
     ]
    },
    {
     "name": "stdout",
     "output_type": "stream",
     "text": [
      "Train Epoch: 1 [10240/38723 (26%)]\tLoss: 1.033904\n"
     ]
    },
    {
     "name": "stderr",
     "output_type": "stream",
     "text": [
      " 41%|████      | 31/76 [00:06<00:08,  5.08it/s]"
     ]
    },
    {
     "name": "stdout",
     "output_type": "stream",
     "text": [
      "Train Epoch: 1 [15360/38723 (39%)]\tLoss: 0.949082\n"
     ]
    },
    {
     "name": "stderr",
     "output_type": "stream",
     "text": [
      " 55%|█████▌    | 42/76 [00:08<00:06,  5.04it/s]"
     ]
    },
    {
     "name": "stdout",
     "output_type": "stream",
     "text": [
      "Train Epoch: 1 [20480/38723 (53%)]\tLoss: 1.008595\n"
     ]
    },
    {
     "name": "stderr",
     "output_type": "stream",
     "text": [
      " 67%|██████▋   | 51/76 [00:10<00:04,  5.06it/s]"
     ]
    },
    {
     "name": "stdout",
     "output_type": "stream",
     "text": [
      "Train Epoch: 1 [25600/38723 (66%)]\tLoss: 0.945646\n"
     ]
    },
    {
     "name": "stderr",
     "output_type": "stream",
     "text": [
      " 82%|████████▏ | 62/76 [00:12<00:02,  5.08it/s]"
     ]
    },
    {
     "name": "stdout",
     "output_type": "stream",
     "text": [
      "Train Epoch: 1 [30720/38723 (79%)]\tLoss: 0.927605\n"
     ]
    },
    {
     "name": "stderr",
     "output_type": "stream",
     "text": [
      " 95%|█████████▍| 72/76 [00:14<00:00,  5.11it/s]"
     ]
    },
    {
     "name": "stdout",
     "output_type": "stream",
     "text": [
      "Train Epoch: 1 [35840/38723 (92%)]\tLoss: 0.986792\n"
     ]
    },
    {
     "name": "stderr",
     "output_type": "stream",
     "text": [
      "100%|██████████| 76/76 [00:14<00:00,  5.09it/s]\n"
     ]
    },
    {
     "name": "stdout",
     "output_type": "stream",
     "text": [
      "Input\t['f', 'a', 'r', 'm']\n",
      "GT\t['ஃ', 'ப', 'ா', 'ர', '்', 'ம', '்']\n",
      "pred\t['ப']\n",
      "\n",
      "\n",
      "Input\t['n', 'e', 't', 'r', 'i']\n",
      "GT\t['ந', 'ெ', 'ற', '்', 'ற', 'ி']\n",
      "pred\t['்', 'ெ', '்', '்', 'ி']\n",
      "\n",
      "\n",
      "Input\t['k', 'a', 'a', 'r', 'a', 'n', 'a', 't', 't', 'a', 'i', 'p']\n",
      "GT\t['க', 'ா', 'ர', 'ண', 'த', '்', 'த', 'ை', 'ப', '்']\n",
      "pred\t['க', 'ா', 'ா', 'ர', 'ா', '்', 'ா', '்', '்']\n",
      "\n",
      "\n",
      "Input\t['v', 'a', 'a', 'g', 'a', 'n', 'a']\n",
      "GT\t['வ', 'ா', 'க', 'ன']\n",
      "pred\t['வ', 'ோ', '்', '்', 'ட', '்']\n",
      "\n",
      "\n",
      "\n",
      "Test set: Average loss: 0.9106, Accuracy: 182241/239760 (76%)\n",
      "\n"
     ]
    },
    {
     "name": "stderr",
     "output_type": "stream",
     "text": [
      "  1%|▏         | 1/76 [00:00<00:13,  5.41it/s]"
     ]
    },
    {
     "name": "stdout",
     "output_type": "stream",
     "text": [
      "Train Epoch: 2 [0/38723 (0%)]\tLoss: 1.030037\n"
     ]
    },
    {
     "name": "stderr",
     "output_type": "stream",
     "text": [
      " 16%|█▌        | 12/76 [00:02<00:12,  5.08it/s]"
     ]
    },
    {
     "name": "stdout",
     "output_type": "stream",
     "text": [
      "Train Epoch: 2 [5120/38723 (13%)]\tLoss: 0.878322\n"
     ]
    },
    {
     "name": "stderr",
     "output_type": "stream",
     "text": [
      " 29%|██▉       | 22/76 [00:04<00:10,  5.04it/s]"
     ]
    },
    {
     "name": "stdout",
     "output_type": "stream",
     "text": [
      "Train Epoch: 2 [10240/38723 (26%)]\tLoss: 1.002720\n"
     ]
    },
    {
     "name": "stderr",
     "output_type": "stream",
     "text": [
      " 42%|████▏     | 32/76 [00:06<00:09,  4.68it/s]"
     ]
    },
    {
     "name": "stdout",
     "output_type": "stream",
     "text": [
      "Train Epoch: 2 [15360/38723 (39%)]\tLoss: 0.952905\n"
     ]
    },
    {
     "name": "stderr",
     "output_type": "stream",
     "text": [
      " 55%|█████▌    | 42/76 [00:08<00:06,  5.06it/s]"
     ]
    },
    {
     "name": "stdout",
     "output_type": "stream",
     "text": [
      "Train Epoch: 2 [20480/38723 (53%)]\tLoss: 1.008647\n"
     ]
    },
    {
     "name": "stderr",
     "output_type": "stream",
     "text": [
      " 68%|██████▊   | 52/76 [00:10<00:04,  5.09it/s]"
     ]
    },
    {
     "name": "stdout",
     "output_type": "stream",
     "text": [
      "Train Epoch: 2 [25600/38723 (66%)]\tLoss: 0.932382\n"
     ]
    },
    {
     "name": "stderr",
     "output_type": "stream",
     "text": [
      " 80%|████████  | 61/76 [00:12<00:02,  5.12it/s]"
     ]
    },
    {
     "name": "stdout",
     "output_type": "stream",
     "text": [
      "Train Epoch: 2 [30720/38723 (79%)]\tLoss: 0.902797\n"
     ]
    },
    {
     "name": "stderr",
     "output_type": "stream",
     "text": [
      " 95%|█████████▍| 72/76 [00:14<00:00,  5.06it/s]"
     ]
    },
    {
     "name": "stdout",
     "output_type": "stream",
     "text": [
      "Train Epoch: 2 [35840/38723 (92%)]\tLoss: 0.948525\n"
     ]
    },
    {
     "name": "stderr",
     "output_type": "stream",
     "text": [
      "100%|██████████| 76/76 [00:15<00:00,  5.06it/s]\n"
     ]
    },
    {
     "name": "stdout",
     "output_type": "stream",
     "text": [
      "Input\t['f', 'a', 'r', 'm']\n",
      "GT\t['ஃ', 'ப', 'ா', 'ர', '்', 'ம', '்']\n",
      "pred\t['ப']\n",
      "\n",
      "\n",
      "Input\t['n', 'e', 't', 'r', 'i']\n",
      "GT\t['ந', 'ெ', 'ற', '்', 'ற', 'ி']\n",
      "pred\t['்', 'ெ', '்', 'ி', 'ி']\n",
      "\n",
      "\n",
      "Input\t['k', 'a', 'a', 'r', 'a', 'n', 'a', 't', 't', 'a', 'i', 'p']\n",
      "GT\t['க', 'ா', 'ர', 'ண', 'த', '்', 'த', 'ை', 'ப', '்']\n",
      "pred\t['க', 'ா', 'ா', 'ர', '்', '்', '்', '்', '்', '்']\n",
      "\n",
      "\n",
      "Input\t['v', 'a', 'a', 'g', 'a', 'n', 'a']\n",
      "GT\t['வ', 'ா', 'க', 'ன']\n",
      "pred\t['வ', 'ோ']\n",
      "\n",
      "\n",
      "\n",
      "Test set: Average loss: 0.9111, Accuracy: 182078/239760 (76%)\n",
      "\n"
     ]
    },
    {
     "name": "stderr",
     "output_type": "stream",
     "text": [
      "  1%|▏         | 1/76 [00:00<00:13,  5.39it/s]"
     ]
    },
    {
     "name": "stdout",
     "output_type": "stream",
     "text": [
      "Train Epoch: 3 [0/38723 (0%)]\tLoss: 1.021304\n"
     ]
    },
    {
     "name": "stderr",
     "output_type": "stream",
     "text": [
      " 16%|█▌        | 12/76 [00:02<00:12,  5.06it/s]"
     ]
    },
    {
     "name": "stdout",
     "output_type": "stream",
     "text": [
      "Train Epoch: 3 [5120/38723 (13%)]\tLoss: 0.895740\n"
     ]
    },
    {
     "name": "stderr",
     "output_type": "stream",
     "text": [
      " 29%|██▉       | 22/76 [00:04<00:10,  5.05it/s]"
     ]
    },
    {
     "name": "stdout",
     "output_type": "stream",
     "text": [
      "Train Epoch: 3 [10240/38723 (26%)]\tLoss: 1.031395\n"
     ]
    },
    {
     "name": "stderr",
     "output_type": "stream",
     "text": [
      " 42%|████▏     | 32/76 [00:06<00:08,  5.07it/s]"
     ]
    },
    {
     "name": "stdout",
     "output_type": "stream",
     "text": [
      "Train Epoch: 3 [15360/38723 (39%)]\tLoss: 0.963526\n"
     ]
    },
    {
     "name": "stderr",
     "output_type": "stream",
     "text": [
      " 55%|█████▌    | 42/76 [00:08<00:06,  5.09it/s]"
     ]
    },
    {
     "name": "stdout",
     "output_type": "stream",
     "text": [
      "Train Epoch: 3 [20480/38723 (53%)]\tLoss: 1.004429\n"
     ]
    },
    {
     "name": "stderr",
     "output_type": "stream",
     "text": [
      " 68%|██████▊   | 52/76 [00:10<00:04,  5.07it/s]"
     ]
    },
    {
     "name": "stdout",
     "output_type": "stream",
     "text": [
      "Train Epoch: 3 [25600/38723 (66%)]\tLoss: 0.931591\n"
     ]
    },
    {
     "name": "stderr",
     "output_type": "stream",
     "text": [
      " 80%|████████  | 61/76 [00:12<00:02,  5.02it/s]"
     ]
    },
    {
     "name": "stdout",
     "output_type": "stream",
     "text": [
      "Train Epoch: 3 [30720/38723 (79%)]\tLoss: 0.906188\n"
     ]
    },
    {
     "name": "stderr",
     "output_type": "stream",
     "text": [
      " 95%|█████████▍| 72/76 [00:14<00:00,  5.02it/s]"
     ]
    },
    {
     "name": "stdout",
     "output_type": "stream",
     "text": [
      "Train Epoch: 3 [35840/38723 (92%)]\tLoss: 0.950864\n"
     ]
    },
    {
     "name": "stderr",
     "output_type": "stream",
     "text": [
      "100%|██████████| 76/76 [00:14<00:00,  5.08it/s]\n"
     ]
    },
    {
     "name": "stdout",
     "output_type": "stream",
     "text": [
      "Input\t['f', 'a', 'r', 'm']\n",
      "GT\t['ஃ', 'ப', 'ா', 'ர', '்', 'ம', '்']\n",
      "pred\t['ப']\n",
      "\n",
      "\n",
      "Input\t['n', 'e', 't', 'r', 'i']\n",
      "GT\t['ந', 'ெ', 'ற', '்', 'ற', 'ி']\n",
      "pred\t['்', 'ெ', 'த', '்', 'ி']\n",
      "\n",
      "\n",
      "Input\t['k', 'a', 'a', 'r', 'a', 'n', 'a', 't', 't', 'a', 'i', 'p']\n",
      "GT\t['க', 'ா', 'ர', 'ண', 'த', '்', 'த', 'ை', 'ப', '்']\n",
      "pred\t['க', 'ா', 'ா', 'ர', 'ா', '்', 'ா', '்', '்']\n",
      "\n",
      "\n",
      "Input\t['v', 'a', 'a', 'g', 'a', 'n', 'a']\n",
      "GT\t['வ', 'ா', 'க', 'ன']\n",
      "pred\t['வ', 'ோ', 'ர', '்', 'ோ', '்']\n",
      "\n",
      "\n",
      "\n",
      "Test set: Average loss: 0.9055, Accuracy: 182558/239760 (76%)\n",
      "\n"
     ]
    },
    {
     "name": "stderr",
     "output_type": "stream",
     "text": [
      "  1%|▏         | 1/76 [00:00<00:15,  4.90it/s]"
     ]
    },
    {
     "name": "stdout",
     "output_type": "stream",
     "text": [
      "Train Epoch: 4 [0/38723 (0%)]\tLoss: 0.958075\n"
     ]
    },
    {
     "name": "stderr",
     "output_type": "stream",
     "text": [
      " 16%|█▌        | 12/76 [00:02<00:12,  5.03it/s]"
     ]
    },
    {
     "name": "stdout",
     "output_type": "stream",
     "text": [
      "Train Epoch: 4 [5120/38723 (13%)]\tLoss: 0.986516\n"
     ]
    },
    {
     "name": "stderr",
     "output_type": "stream",
     "text": [
      " 29%|██▉       | 22/76 [00:04<00:10,  5.07it/s]"
     ]
    },
    {
     "name": "stdout",
     "output_type": "stream",
     "text": [
      "Train Epoch: 4 [10240/38723 (26%)]\tLoss: 1.010262\n"
     ]
    },
    {
     "name": "stderr",
     "output_type": "stream",
     "text": [
      " 42%|████▏     | 32/76 [00:06<00:08,  5.06it/s]"
     ]
    },
    {
     "name": "stdout",
     "output_type": "stream",
     "text": [
      "Train Epoch: 4 [15360/38723 (39%)]\tLoss: 0.972253\n"
     ]
    },
    {
     "name": "stderr",
     "output_type": "stream",
     "text": [
      " 55%|█████▌    | 42/76 [00:08<00:06,  5.08it/s]"
     ]
    },
    {
     "name": "stdout",
     "output_type": "stream",
     "text": [
      "Train Epoch: 4 [20480/38723 (53%)]\tLoss: 1.003519\n"
     ]
    },
    {
     "name": "stderr",
     "output_type": "stream",
     "text": [
      " 68%|██████▊   | 52/76 [00:10<00:04,  5.06it/s]"
     ]
    },
    {
     "name": "stdout",
     "output_type": "stream",
     "text": [
      "Train Epoch: 4 [25600/38723 (66%)]\tLoss: 0.940964\n"
     ]
    },
    {
     "name": "stderr",
     "output_type": "stream",
     "text": [
      " 82%|████████▏ | 62/76 [00:12<00:02,  5.12it/s]"
     ]
    },
    {
     "name": "stdout",
     "output_type": "stream",
     "text": [
      "Train Epoch: 4 [30720/38723 (79%)]\tLoss: 0.891452\n"
     ]
    },
    {
     "name": "stderr",
     "output_type": "stream",
     "text": [
      " 95%|█████████▍| 72/76 [00:14<00:00,  5.26it/s]"
     ]
    },
    {
     "name": "stdout",
     "output_type": "stream",
     "text": [
      "Train Epoch: 4 [35840/38723 (92%)]\tLoss: 0.954444\n"
     ]
    },
    {
     "name": "stderr",
     "output_type": "stream",
     "text": [
      "100%|██████████| 76/76 [00:14<00:00,  5.12it/s]\n"
     ]
    },
    {
     "name": "stdout",
     "output_type": "stream",
     "text": [
      "Input\t['f', 'a', 'r', 'm']\n",
      "GT\t['ஃ', 'ப', 'ா', 'ர', '்', 'ம', '்']\n",
      "pred\t['ப']\n",
      "\n",
      "\n",
      "Input\t['n', 'e', 't', 'r', 'i']\n",
      "GT\t['ந', 'ெ', 'ற', '்', 'ற', 'ி']\n",
      "pred\t['்', 'ெ', '்', '்', 'ி']\n",
      "\n",
      "\n",
      "Input\t['k', 'a', 'a', 'r', 'a', 'n', 'a', 't', 't', 'a', 'i', 'p']\n",
      "GT\t['க', 'ா', 'ர', 'ண', 'த', '்', 'த', 'ை', 'ப', '்']\n",
      "pred\t['க', 'ா', 'ா', '்', '்', '்', '்', '்', '்']\n",
      "\n",
      "\n",
      "Input\t['v', 'a', 'a', 'g', 'a', 'n', 'a']\n",
      "GT\t['வ', 'ா', 'க', 'ன']\n",
      "pred\t['வ', 'வ']\n",
      "\n",
      "\n",
      "\n",
      "Test set: Average loss: 0.8985, Accuracy: 183148/239760 (76%)\n",
      "\n"
     ]
    },
    {
     "name": "stderr",
     "output_type": "stream",
     "text": [
      "  1%|▏         | 1/76 [00:00<00:13,  5.40it/s]"
     ]
    },
    {
     "name": "stdout",
     "output_type": "stream",
     "text": [
      "Train Epoch: 5 [0/38723 (0%)]\tLoss: 1.055995\n"
     ]
    },
    {
     "name": "stderr",
     "output_type": "stream",
     "text": [
      " 16%|█▌        | 12/76 [00:02<00:12,  5.11it/s]"
     ]
    },
    {
     "name": "stdout",
     "output_type": "stream",
     "text": [
      "Train Epoch: 5 [5120/38723 (13%)]\tLoss: 0.861334\n"
     ]
    },
    {
     "name": "stderr",
     "output_type": "stream",
     "text": [
      " 29%|██▉       | 22/76 [00:04<00:10,  4.92it/s]"
     ]
    },
    {
     "name": "stdout",
     "output_type": "stream",
     "text": [
      "Train Epoch: 5 [10240/38723 (26%)]\tLoss: 1.027299\n"
     ]
    },
    {
     "name": "stderr",
     "output_type": "stream",
     "text": [
      " 42%|████▏     | 32/76 [00:06<00:08,  5.17it/s]"
     ]
    },
    {
     "name": "stdout",
     "output_type": "stream",
     "text": [
      "Train Epoch: 5 [15360/38723 (39%)]\tLoss: 0.931633\n"
     ]
    },
    {
     "name": "stderr",
     "output_type": "stream",
     "text": [
      " 55%|█████▌    | 42/76 [00:08<00:06,  5.08it/s]"
     ]
    },
    {
     "name": "stdout",
     "output_type": "stream",
     "text": [
      "Train Epoch: 5 [20480/38723 (53%)]\tLoss: 1.001947\n"
     ]
    },
    {
     "name": "stderr",
     "output_type": "stream",
     "text": [
      " 68%|██████▊   | 52/76 [00:10<00:04,  5.04it/s]"
     ]
    },
    {
     "name": "stdout",
     "output_type": "stream",
     "text": [
      "Train Epoch: 5 [25600/38723 (66%)]\tLoss: 0.912656\n"
     ]
    },
    {
     "name": "stderr",
     "output_type": "stream",
     "text": [
      " 80%|████████  | 61/76 [00:12<00:03,  4.99it/s]"
     ]
    },
    {
     "name": "stdout",
     "output_type": "stream",
     "text": [
      "Train Epoch: 5 [30720/38723 (79%)]\tLoss: 0.902691\n"
     ]
    },
    {
     "name": "stderr",
     "output_type": "stream",
     "text": [
      " 93%|█████████▎| 71/76 [00:14<00:00,  5.00it/s]"
     ]
    },
    {
     "name": "stdout",
     "output_type": "stream",
     "text": [
      "Train Epoch: 5 [35840/38723 (92%)]\tLoss: 0.950111\n"
     ]
    },
    {
     "name": "stderr",
     "output_type": "stream",
     "text": [
      "100%|██████████| 76/76 [00:15<00:00,  5.01it/s]\n"
     ]
    },
    {
     "name": "stdout",
     "output_type": "stream",
     "text": [
      "Input\t['f', 'a', 'r', 'm']\n",
      "GT\t['ஃ', 'ப', 'ா', 'ர', '்', 'ம', '்']\n",
      "pred\t['ப', 'ா', 'ர', 'ம']\n",
      "\n",
      "\n",
      "Input\t['n', 'e', 't', 'r', 'i']\n",
      "GT\t['ந', 'ெ', 'ற', '்', 'ற', 'ி']\n",
      "pred\t['்', 'ெ', '்', '்', '்']\n",
      "\n",
      "\n",
      "Input\t['k', 'a', 'a', 'r', 'a', 'n', 'a', 't', 't', 'a', 'i', 'p']\n",
      "GT\t['க', 'ா', 'ர', 'ண', 'த', '்', 'த', 'ை', 'ப', '்']\n",
      "pred\t['க', 'ா', '்', 'ர', '்', '்', '்', '்', '்']\n",
      "\n",
      "\n",
      "Input\t['v', 'a', 'a', 'g', 'a', 'n', 'a']\n",
      "GT\t['வ', 'ா', 'க', 'ன']\n",
      "pred\t['வ', 'ட']\n",
      "\n",
      "\n",
      "\n",
      "Test set: Average loss: 0.8956, Accuracy: 183566/239760 (77%)\n",
      "\n"
     ]
    },
    {
     "name": "stderr",
     "output_type": "stream",
     "text": [
      "  1%|▏         | 1/76 [00:00<00:13,  5.39it/s]"
     ]
    },
    {
     "name": "stdout",
     "output_type": "stream",
     "text": [
      "Train Epoch: 6 [0/38723 (0%)]\tLoss: 1.010990\n"
     ]
    },
    {
     "name": "stderr",
     "output_type": "stream",
     "text": [
      " 16%|█▌        | 12/76 [00:02<00:12,  5.08it/s]"
     ]
    },
    {
     "name": "stdout",
     "output_type": "stream",
     "text": [
      "Train Epoch: 6 [5120/38723 (13%)]\tLoss: 0.925431\n"
     ]
    },
    {
     "name": "stderr",
     "output_type": "stream",
     "text": [
      " 29%|██▉       | 22/76 [00:04<00:10,  5.04it/s]"
     ]
    },
    {
     "name": "stdout",
     "output_type": "stream",
     "text": [
      "Train Epoch: 6 [10240/38723 (26%)]\tLoss: 1.013516\n"
     ]
    },
    {
     "name": "stderr",
     "output_type": "stream",
     "text": [
      " 42%|████▏     | 32/76 [00:06<00:08,  5.04it/s]"
     ]
    },
    {
     "name": "stdout",
     "output_type": "stream",
     "text": [
      "Train Epoch: 6 [15360/38723 (39%)]\tLoss: 0.952749\n"
     ]
    },
    {
     "name": "stderr",
     "output_type": "stream",
     "text": [
      " 55%|█████▌    | 42/76 [00:08<00:06,  5.05it/s]"
     ]
    },
    {
     "name": "stdout",
     "output_type": "stream",
     "text": [
      "Train Epoch: 6 [20480/38723 (53%)]\tLoss: 0.993121\n"
     ]
    },
    {
     "name": "stderr",
     "output_type": "stream",
     "text": [
      " 67%|██████▋   | 51/76 [00:10<00:05,  4.86it/s]"
     ]
    },
    {
     "name": "stdout",
     "output_type": "stream",
     "text": [
      "Train Epoch: 6 [25600/38723 (66%)]\tLoss: 0.912143\n"
     ]
    },
    {
     "name": "stderr",
     "output_type": "stream",
     "text": [
      " 82%|████████▏ | 62/76 [00:12<00:02,  5.09it/s]"
     ]
    },
    {
     "name": "stdout",
     "output_type": "stream",
     "text": [
      "Train Epoch: 6 [30720/38723 (79%)]\tLoss: 0.894750\n"
     ]
    },
    {
     "name": "stderr",
     "output_type": "stream",
     "text": [
      " 95%|█████████▍| 72/76 [00:14<00:00,  5.04it/s]"
     ]
    },
    {
     "name": "stdout",
     "output_type": "stream",
     "text": [
      "Train Epoch: 6 [35840/38723 (92%)]\tLoss: 0.941731\n"
     ]
    },
    {
     "name": "stderr",
     "output_type": "stream",
     "text": [
      "100%|██████████| 76/76 [00:14<00:00,  5.07it/s]\n"
     ]
    },
    {
     "name": "stdout",
     "output_type": "stream",
     "text": [
      "Input\t['f', 'a', 'r', 'm']\n",
      "GT\t['ஃ', 'ப', 'ா', 'ர', '்', 'ம', '்']\n",
      "pred\t['ப', 'ா', 'ர', 'ம']\n",
      "\n",
      "\n",
      "Input\t['n', 'e', 't', 'r', 'i']\n",
      "GT\t['ந', 'ெ', 'ற', '்', 'ற', 'ி']\n",
      "pred\t['்', 'ெ', 'த', 'ி', '்']\n",
      "\n",
      "\n",
      "Input\t['k', 'a', 'a', 'r', 'a', 'n', 'a', 't', 't', 'a', 'i', 'p']\n",
      "GT\t['க', 'ா', 'ர', 'ண', 'த', '்', 'த', 'ை', 'ப', '்']\n",
      "pred\t['க', 'ா', 'ா', 'ர', '்', '்', '்', '்', '்', '்', 'ி', '்']\n",
      "\n",
      "\n",
      "Input\t['v', 'a', 'a', 'g', 'a', 'n', 'a']\n",
      "GT\t['வ', 'ா', 'க', 'ன']\n",
      "pred\t['வ', 'ோ', '்', '்', 'ோ', 'ங']\n",
      "\n",
      "\n",
      "\n",
      "Test set: Average loss: 0.9043, Accuracy: 182051/239760 (76%)\n",
      "\n"
     ]
    },
    {
     "name": "stderr",
     "output_type": "stream",
     "text": [
      "  1%|▏         | 1/76 [00:00<00:14,  5.35it/s]"
     ]
    },
    {
     "name": "stdout",
     "output_type": "stream",
     "text": [
      "Train Epoch: 7 [0/38723 (0%)]\tLoss: 1.024875\n"
     ]
    },
    {
     "name": "stderr",
     "output_type": "stream",
     "text": [
      " 16%|█▌        | 12/76 [00:02<00:12,  5.01it/s]"
     ]
    },
    {
     "name": "stdout",
     "output_type": "stream",
     "text": [
      "Train Epoch: 7 [5120/38723 (13%)]\tLoss: 0.901949\n"
     ]
    },
    {
     "name": "stderr",
     "output_type": "stream",
     "text": [
      " 29%|██▉       | 22/76 [00:04<00:10,  5.06it/s]"
     ]
    },
    {
     "name": "stdout",
     "output_type": "stream",
     "text": [
      "Train Epoch: 7 [10240/38723 (26%)]\tLoss: 1.011550\n"
     ]
    },
    {
     "name": "stderr",
     "output_type": "stream",
     "text": [
      " 42%|████▏     | 32/76 [00:06<00:08,  5.04it/s]"
     ]
    },
    {
     "name": "stdout",
     "output_type": "stream",
     "text": [
      "Train Epoch: 7 [15360/38723 (39%)]\tLoss: 0.942167\n"
     ]
    },
    {
     "name": "stderr",
     "output_type": "stream",
     "text": [
      " 55%|█████▌    | 42/76 [00:08<00:06,  5.08it/s]"
     ]
    },
    {
     "name": "stdout",
     "output_type": "stream",
     "text": [
      "Train Epoch: 7 [20480/38723 (53%)]\tLoss: 1.031164\n"
     ]
    },
    {
     "name": "stderr",
     "output_type": "stream",
     "text": [
      " 68%|██████▊   | 52/76 [00:10<00:04,  5.05it/s]"
     ]
    },
    {
     "name": "stdout",
     "output_type": "stream",
     "text": [
      "Train Epoch: 7 [25600/38723 (66%)]\tLoss: 0.930277\n"
     ]
    },
    {
     "name": "stderr",
     "output_type": "stream",
     "text": [
      " 82%|████████▏ | 62/76 [00:12<00:02,  5.04it/s]"
     ]
    },
    {
     "name": "stdout",
     "output_type": "stream",
     "text": [
      "Train Epoch: 7 [30720/38723 (79%)]\tLoss: 0.891642\n"
     ]
    },
    {
     "name": "stderr",
     "output_type": "stream",
     "text": [
      " 95%|█████████▍| 72/76 [00:14<00:00,  5.03it/s]"
     ]
    },
    {
     "name": "stdout",
     "output_type": "stream",
     "text": [
      "Train Epoch: 7 [35840/38723 (92%)]\tLoss: 0.950172\n"
     ]
    },
    {
     "name": "stderr",
     "output_type": "stream",
     "text": [
      "100%|██████████| 76/76 [00:15<00:00,  5.07it/s]\n"
     ]
    },
    {
     "name": "stdout",
     "output_type": "stream",
     "text": [
      "Input\t['f', 'a', 'r', 'm']\n",
      "GT\t['ஃ', 'ப', 'ா', 'ர', '்', 'ம', '்']\n",
      "pred\t['ப', 'ா', 'ர', 'ம']\n",
      "\n",
      "\n",
      "Input\t['n', 'e', 't', 'r', 'i']\n",
      "GT\t['ந', 'ெ', 'ற', '்', 'ற', 'ி']\n",
      "pred\t['்', 'ெ', '்', '்', 'ி']\n",
      "\n",
      "\n",
      "Input\t['k', 'a', 'a', 'r', 'a', 'n', 'a', 't', 't', 'a', 'i', 'p']\n",
      "GT\t['க', 'ா', 'ர', 'ண', 'த', '்', 'த', 'ை', 'ப', '்']\n",
      "pred\t['க', 'ா', 'ா', 'ர', 'ா', '்', 'ா', '்', '்']\n",
      "\n",
      "\n",
      "Input\t['v', 'a', 'a', 'g', 'a', 'n', 'a']\n",
      "GT\t['வ', 'ா', 'க', 'ன']\n",
      "pred\t['வ', 'ா']\n",
      "\n",
      "\n",
      "\n",
      "Test set: Average loss: 0.9058, Accuracy: 182223/239760 (76%)\n",
      "\n"
     ]
    },
    {
     "name": "stderr",
     "output_type": "stream",
     "text": [
      "  3%|▎         | 2/76 [00:00<00:14,  5.01it/s]"
     ]
    },
    {
     "name": "stdout",
     "output_type": "stream",
     "text": [
      "Train Epoch: 8 [0/38723 (0%)]\tLoss: 1.032139\n"
     ]
    },
    {
     "name": "stderr",
     "output_type": "stream",
     "text": [
      " 16%|█▌        | 12/76 [00:02<00:12,  5.02it/s]"
     ]
    },
    {
     "name": "stdout",
     "output_type": "stream",
     "text": [
      "Train Epoch: 8 [5120/38723 (13%)]\tLoss: 0.931700\n"
     ]
    },
    {
     "name": "stderr",
     "output_type": "stream",
     "text": [
      " 29%|██▉       | 22/76 [00:04<00:10,  5.04it/s]"
     ]
    },
    {
     "name": "stdout",
     "output_type": "stream",
     "text": [
      "Train Epoch: 8 [10240/38723 (26%)]\tLoss: 1.007336\n"
     ]
    },
    {
     "name": "stderr",
     "output_type": "stream",
     "text": [
      " 42%|████▏     | 32/76 [00:06<00:08,  5.02it/s]"
     ]
    },
    {
     "name": "stdout",
     "output_type": "stream",
     "text": [
      "Train Epoch: 8 [15360/38723 (39%)]\tLoss: 0.932247\n"
     ]
    },
    {
     "name": "stderr",
     "output_type": "stream",
     "text": [
      " 55%|█████▌    | 42/76 [00:08<00:06,  5.01it/s]"
     ]
    },
    {
     "name": "stdout",
     "output_type": "stream",
     "text": [
      "Train Epoch: 8 [20480/38723 (53%)]\tLoss: 0.976367\n"
     ]
    },
    {
     "name": "stderr",
     "output_type": "stream",
     "text": [
      " 68%|██████▊   | 52/76 [00:10<00:04,  5.08it/s]"
     ]
    },
    {
     "name": "stdout",
     "output_type": "stream",
     "text": [
      "Train Epoch: 8 [25600/38723 (66%)]\tLoss: 0.913809\n"
     ]
    },
    {
     "name": "stderr",
     "output_type": "stream",
     "text": [
      " 82%|████████▏ | 62/76 [00:12<00:02,  5.05it/s]"
     ]
    },
    {
     "name": "stdout",
     "output_type": "stream",
     "text": [
      "Train Epoch: 8 [30720/38723 (79%)]\tLoss: 0.909338\n"
     ]
    },
    {
     "name": "stderr",
     "output_type": "stream",
     "text": [
      " 95%|█████████▍| 72/76 [00:14<00:00,  5.05it/s]"
     ]
    },
    {
     "name": "stdout",
     "output_type": "stream",
     "text": [
      "Train Epoch: 8 [35840/38723 (92%)]\tLoss: 0.943127\n"
     ]
    },
    {
     "name": "stderr",
     "output_type": "stream",
     "text": [
      "100%|██████████| 76/76 [00:15<00:00,  5.06it/s]\n"
     ]
    },
    {
     "name": "stdout",
     "output_type": "stream",
     "text": [
      "Input\t['f', 'a', 'r', 'm']\n",
      "GT\t['ஃ', 'ப', 'ா', 'ர', '்', 'ம', '்']\n",
      "pred\t['ப']\n",
      "\n",
      "\n",
      "Input\t['n', 'e', 't', 'r', 'i']\n",
      "GT\t['ந', 'ெ', 'ற', '்', 'ற', 'ி']\n",
      "pred\t['்', 'ெ', '்']\n",
      "\n",
      "\n",
      "Input\t['k', 'a', 'a', 'r', 'a', 'n', 'a', 't', 't', 'a', 'i', 'p']\n",
      "GT\t['க', 'ா', 'ர', 'ண', 'த', '்', 'த', 'ை', 'ப', '்']\n",
      "pred\t['க', 'ா', '்', '்', '்', '்']\n",
      "\n",
      "\n",
      "Input\t['v', 'a', 'a', 'g', 'a', 'n', 'a']\n",
      "GT\t['வ', 'ா', 'க', 'ன']\n",
      "pred\t['வ', 'ா', 'ர', '்', 'ப', '்']\n",
      "\n",
      "\n",
      "\n",
      "Test set: Average loss: 0.9043, Accuracy: 182590/239760 (76%)\n",
      "\n"
     ]
    },
    {
     "name": "stderr",
     "output_type": "stream",
     "text": [
      "  1%|▏         | 1/76 [00:00<00:13,  5.39it/s]"
     ]
    },
    {
     "name": "stdout",
     "output_type": "stream",
     "text": [
      "Train Epoch: 9 [0/38723 (0%)]\tLoss: 1.046376\n"
     ]
    },
    {
     "name": "stderr",
     "output_type": "stream",
     "text": [
      " 16%|█▌        | 12/76 [00:02<00:12,  5.02it/s]"
     ]
    },
    {
     "name": "stdout",
     "output_type": "stream",
     "text": [
      "Train Epoch: 9 [5120/38723 (13%)]\tLoss: 0.925154\n"
     ]
    },
    {
     "name": "stderr",
     "output_type": "stream",
     "text": [
      " 29%|██▉       | 22/76 [00:04<00:10,  5.06it/s]"
     ]
    },
    {
     "name": "stdout",
     "output_type": "stream",
     "text": [
      "Train Epoch: 9 [10240/38723 (26%)]\tLoss: 1.001751\n"
     ]
    },
    {
     "name": "stderr",
     "output_type": "stream",
     "text": [
      " 42%|████▏     | 32/76 [00:06<00:08,  5.07it/s]"
     ]
    },
    {
     "name": "stdout",
     "output_type": "stream",
     "text": [
      "Train Epoch: 9 [15360/38723 (39%)]\tLoss: 0.948955\n"
     ]
    },
    {
     "name": "stderr",
     "output_type": "stream",
     "text": [
      " 55%|█████▌    | 42/76 [00:08<00:06,  5.06it/s]"
     ]
    },
    {
     "name": "stdout",
     "output_type": "stream",
     "text": [
      "Train Epoch: 9 [20480/38723 (53%)]\tLoss: 0.992910\n"
     ]
    },
    {
     "name": "stderr",
     "output_type": "stream",
     "text": [
      " 67%|██████▋   | 51/76 [00:10<00:04,  5.08it/s]"
     ]
    },
    {
     "name": "stdout",
     "output_type": "stream",
     "text": [
      "Train Epoch: 9 [25600/38723 (66%)]\tLoss: 0.922125\n"
     ]
    },
    {
     "name": "stderr",
     "output_type": "stream",
     "text": [
      " 82%|████████▏ | 62/76 [00:12<00:02,  5.03it/s]"
     ]
    },
    {
     "name": "stdout",
     "output_type": "stream",
     "text": [
      "Train Epoch: 9 [30720/38723 (79%)]\tLoss: 0.890907\n"
     ]
    },
    {
     "name": "stderr",
     "output_type": "stream",
     "text": [
      " 95%|█████████▍| 72/76 [00:14<00:00,  4.98it/s]"
     ]
    },
    {
     "name": "stdout",
     "output_type": "stream",
     "text": [
      "Train Epoch: 9 [35840/38723 (92%)]\tLoss: 0.935672\n"
     ]
    },
    {
     "name": "stderr",
     "output_type": "stream",
     "text": [
      "100%|██████████| 76/76 [00:15<00:00,  5.05it/s]\n"
     ]
    },
    {
     "name": "stdout",
     "output_type": "stream",
     "text": [
      "Input\t['f', 'a', 'r', 'm']\n",
      "GT\t['ஃ', 'ப', 'ா', 'ர', '்', 'ம', '்']\n",
      "pred\t['ப', 'ா', 'ர', 'ம']\n",
      "\n",
      "\n",
      "Input\t['n', 'e', 't', 'r', 'i']\n",
      "GT\t['ந', 'ெ', 'ற', '்', 'ற', 'ி']\n",
      "pred\t['்', 'ெ', '்', '்', 'ி']\n",
      "\n",
      "\n",
      "Input\t['k', 'a', 'a', 'r', 'a', 'n', 'a', 't', 't', 'a', 'i', 'p']\n",
      "GT\t['க', 'ா', 'ர', 'ண', 'த', '்', 'த', 'ை', 'ப', '்']\n",
      "pred\t['க', 'ா', 'ா', 'ர', 'ா', '்', 'ட', '்', '்']\n",
      "\n",
      "\n",
      "Input\t['v', 'a', 'a', 'g', 'a', 'n', 'a']\n",
      "GT\t['வ', 'ா', 'க', 'ன']\n",
      "pred\t['வ', 'ோ']\n",
      "\n",
      "\n",
      "\n",
      "Test set: Average loss: 0.8960, Accuracy: 183000/239760 (76%)\n",
      "\n"
     ]
    },
    {
     "name": "stderr",
     "output_type": "stream",
     "text": [
      "  1%|▏         | 1/76 [00:00<00:13,  5.38it/s]"
     ]
    },
    {
     "name": "stdout",
     "output_type": "stream",
     "text": [
      "Train Epoch: 10 [0/38723 (0%)]\tLoss: 1.043501\n"
     ]
    },
    {
     "name": "stderr",
     "output_type": "stream",
     "text": [
      " 14%|█▍        | 11/76 [00:02<00:12,  5.03it/s]"
     ]
    },
    {
     "name": "stdout",
     "output_type": "stream",
     "text": [
      "Train Epoch: 10 [5120/38723 (13%)]\tLoss: 0.903531\n"
     ]
    },
    {
     "name": "stderr",
     "output_type": "stream",
     "text": [
      " 29%|██▉       | 22/76 [00:04<00:10,  5.07it/s]"
     ]
    },
    {
     "name": "stdout",
     "output_type": "stream",
     "text": [
      "Train Epoch: 10 [10240/38723 (26%)]\tLoss: 1.008012\n"
     ]
    },
    {
     "name": "stderr",
     "output_type": "stream",
     "text": [
      " 42%|████▏     | 32/76 [00:06<00:08,  5.05it/s]"
     ]
    },
    {
     "name": "stdout",
     "output_type": "stream",
     "text": [
      "Train Epoch: 10 [15360/38723 (39%)]\tLoss: 0.935474\n"
     ]
    },
    {
     "name": "stderr",
     "output_type": "stream",
     "text": [
      " 55%|█████▌    | 42/76 [00:08<00:06,  5.02it/s]"
     ]
    },
    {
     "name": "stdout",
     "output_type": "stream",
     "text": [
      "Train Epoch: 10 [20480/38723 (53%)]\tLoss: 0.995466\n"
     ]
    },
    {
     "name": "stderr",
     "output_type": "stream",
     "text": [
      " 68%|██████▊   | 52/76 [00:10<00:04,  5.04it/s]"
     ]
    },
    {
     "name": "stdout",
     "output_type": "stream",
     "text": [
      "Train Epoch: 10 [25600/38723 (66%)]\tLoss: 0.914468\n"
     ]
    },
    {
     "name": "stderr",
     "output_type": "stream",
     "text": [
      " 82%|████████▏ | 62/76 [00:12<00:02,  5.05it/s]"
     ]
    },
    {
     "name": "stdout",
     "output_type": "stream",
     "text": [
      "Train Epoch: 10 [30720/38723 (79%)]\tLoss: 0.867375\n"
     ]
    },
    {
     "name": "stderr",
     "output_type": "stream",
     "text": [
      " 95%|█████████▍| 72/76 [00:14<00:00,  5.05it/s]"
     ]
    },
    {
     "name": "stdout",
     "output_type": "stream",
     "text": [
      "Train Epoch: 10 [35840/38723 (92%)]\tLoss: 0.921958\n"
     ]
    },
    {
     "name": "stderr",
     "output_type": "stream",
     "text": [
      "100%|██████████| 76/76 [00:14<00:00,  5.07it/s]\n"
     ]
    },
    {
     "name": "stdout",
     "output_type": "stream",
     "text": [
      "Input\t['f', 'a', 'r', 'm']\n",
      "GT\t['ஃ', 'ப', 'ா', 'ர', '்', 'ம', '்']\n",
      "pred\t['ப', '்', 'ர', 'ம']\n",
      "\n",
      "\n",
      "Input\t['n', 'e', 't', 'r', 'i']\n",
      "GT\t['ந', 'ெ', 'ற', '்', 'ற', 'ி']\n",
      "pred\t['்', 'ெ', '்', '்', 'ி']\n",
      "\n",
      "\n",
      "Input\t['k', 'a', 'a', 'r', 'a', 'n', 'a', 't', 't', 'a', 'i', 'p']\n",
      "GT\t['க', 'ா', 'ர', 'ண', 'த', '்', 'த', 'ை', 'ப', '்']\n",
      "pred\t['க', 'ா', 'ா', 'ர', '்', '்', '்', 'ட', '்']\n",
      "\n",
      "\n",
      "Input\t['v', 'a', 'a', 'g', 'a', 'n', 'a']\n",
      "GT\t['வ', 'ா', 'க', 'ன']\n",
      "pred\t['வ', 'ா']\n",
      "\n",
      "\n",
      "\n",
      "Test set: Average loss: 0.8976, Accuracy: 183765/239760 (77%)\n",
      "\n"
     ]
    },
    {
     "name": "stderr",
     "output_type": "stream",
     "text": [
      "  1%|▏         | 1/76 [00:00<00:14,  5.33it/s]"
     ]
    },
    {
     "name": "stdout",
     "output_type": "stream",
     "text": [
      "Train Epoch: 11 [0/38723 (0%)]\tLoss: 0.998159\n"
     ]
    },
    {
     "name": "stderr",
     "output_type": "stream",
     "text": [
      " 16%|█▌        | 12/76 [00:02<00:12,  5.00it/s]"
     ]
    },
    {
     "name": "stdout",
     "output_type": "stream",
     "text": [
      "Train Epoch: 11 [5120/38723 (13%)]\tLoss: 0.930025\n"
     ]
    },
    {
     "name": "stderr",
     "output_type": "stream",
     "text": [
      " 29%|██▉       | 22/76 [00:04<00:10,  5.00it/s]"
     ]
    },
    {
     "name": "stdout",
     "output_type": "stream",
     "text": [
      "Train Epoch: 11 [10240/38723 (26%)]\tLoss: 1.025099\n"
     ]
    },
    {
     "name": "stderr",
     "output_type": "stream",
     "text": [
      " 41%|████      | 31/76 [00:06<00:08,  5.02it/s]"
     ]
    },
    {
     "name": "stdout",
     "output_type": "stream",
     "text": [
      "Train Epoch: 11 [15360/38723 (39%)]\tLoss: 0.954412\n"
     ]
    },
    {
     "name": "stderr",
     "output_type": "stream",
     "text": [
      " 55%|█████▌    | 42/76 [00:08<00:06,  5.04it/s]"
     ]
    },
    {
     "name": "stdout",
     "output_type": "stream",
     "text": [
      "Train Epoch: 11 [20480/38723 (53%)]\tLoss: 0.985928\n"
     ]
    },
    {
     "name": "stderr",
     "output_type": "stream",
     "text": [
      " 68%|██████▊   | 52/76 [00:10<00:04,  5.05it/s]"
     ]
    },
    {
     "name": "stdout",
     "output_type": "stream",
     "text": [
      "Train Epoch: 11 [25600/38723 (66%)]\tLoss: 0.918779\n"
     ]
    },
    {
     "name": "stderr",
     "output_type": "stream",
     "text": [
      " 80%|████████  | 61/76 [00:12<00:03,  4.98it/s]"
     ]
    },
    {
     "name": "stdout",
     "output_type": "stream",
     "text": [
      "Train Epoch: 11 [30720/38723 (79%)]\tLoss: 0.873394\n"
     ]
    },
    {
     "name": "stderr",
     "output_type": "stream",
     "text": [
      " 93%|█████████▎| 71/76 [00:14<00:00,  5.01it/s]"
     ]
    },
    {
     "name": "stdout",
     "output_type": "stream",
     "text": [
      "Train Epoch: 11 [35840/38723 (92%)]\tLoss: 0.935864\n"
     ]
    },
    {
     "name": "stderr",
     "output_type": "stream",
     "text": [
      "100%|██████████| 76/76 [00:15<00:00,  5.04it/s]\n"
     ]
    },
    {
     "name": "stdout",
     "output_type": "stream",
     "text": [
      "Input\t['f', 'a', 'r', 'm']\n",
      "GT\t['ஃ', 'ப', 'ா', 'ர', '்', 'ம', '்']\n",
      "pred\t['ப', 'க', 'ர']\n",
      "\n",
      "\n",
      "Input\t['n', 'e', 't', 'r', 'i']\n",
      "GT\t['ந', 'ெ', 'ற', '்', 'ற', 'ி']\n",
      "pred\t['்', 'ெ', '்', '்', 'ி']\n",
      "\n",
      "\n",
      "Input\t['k', 'a', 'a', 'r', 'a', 'n', 'a', 't', 't', 'a', 'i', 'p']\n",
      "GT\t['க', 'ா', 'ர', 'ண', 'த', '்', 'த', 'ை', 'ப', '்']\n",
      "pred\t['க', 'ா', 'வ', 'ர', '்', '்']\n",
      "\n",
      "\n",
      "Input\t['v', 'a', 'a', 'g', 'a', 'n', 'a']\n",
      "GT\t['வ', 'ா', 'க', 'ன']\n",
      "pred\t['வ', 'ட', '்', '்', 'ட', '்']\n",
      "\n",
      "\n",
      "\n",
      "Test set: Average loss: 0.8884, Accuracy: 183485/239760 (77%)\n",
      "\n"
     ]
    },
    {
     "name": "stderr",
     "output_type": "stream",
     "text": [
      "  1%|▏         | 1/76 [00:00<00:14,  5.28it/s]"
     ]
    },
    {
     "name": "stdout",
     "output_type": "stream",
     "text": [
      "Train Epoch: 12 [0/38723 (0%)]\tLoss: 1.003879\n"
     ]
    },
    {
     "name": "stderr",
     "output_type": "stream",
     "text": [
      " 16%|█▌        | 12/76 [00:02<00:12,  5.00it/s]"
     ]
    },
    {
     "name": "stdout",
     "output_type": "stream",
     "text": [
      "Train Epoch: 12 [5120/38723 (13%)]\tLoss: 0.901150\n"
     ]
    },
    {
     "name": "stderr",
     "output_type": "stream",
     "text": [
      " 28%|██▊       | 21/76 [00:04<00:11,  4.96it/s]"
     ]
    },
    {
     "name": "stdout",
     "output_type": "stream",
     "text": [
      "Train Epoch: 12 [10240/38723 (26%)]\tLoss: 1.028860\n"
     ]
    },
    {
     "name": "stderr",
     "output_type": "stream",
     "text": [
      " 41%|████      | 31/76 [00:06<00:09,  4.98it/s]"
     ]
    },
    {
     "name": "stdout",
     "output_type": "stream",
     "text": [
      "Train Epoch: 12 [15360/38723 (39%)]\tLoss: 0.948454\n"
     ]
    },
    {
     "name": "stderr",
     "output_type": "stream",
     "text": [
      " 54%|█████▍    | 41/76 [00:08<00:07,  4.98it/s]"
     ]
    },
    {
     "name": "stdout",
     "output_type": "stream",
     "text": [
      "Train Epoch: 12 [20480/38723 (53%)]\tLoss: 1.004272\n"
     ]
    },
    {
     "name": "stderr",
     "output_type": "stream",
     "text": [
      " 67%|██████▋   | 51/76 [00:10<00:05,  4.97it/s]"
     ]
    },
    {
     "name": "stdout",
     "output_type": "stream",
     "text": [
      "Train Epoch: 12 [25600/38723 (66%)]\tLoss: 0.919990\n"
     ]
    },
    {
     "name": "stderr",
     "output_type": "stream",
     "text": [
      " 82%|████████▏ | 62/76 [00:12<00:02,  5.01it/s]"
     ]
    },
    {
     "name": "stdout",
     "output_type": "stream",
     "text": [
      "Train Epoch: 12 [30720/38723 (79%)]\tLoss: 0.886411\n"
     ]
    },
    {
     "name": "stderr",
     "output_type": "stream",
     "text": [
      " 93%|█████████▎| 71/76 [00:14<00:01,  5.00it/s]"
     ]
    },
    {
     "name": "stdout",
     "output_type": "stream",
     "text": [
      "Train Epoch: 12 [35840/38723 (92%)]\tLoss: 0.950294\n"
     ]
    },
    {
     "name": "stderr",
     "output_type": "stream",
     "text": [
      "100%|██████████| 76/76 [00:15<00:00,  4.99it/s]\n"
     ]
    },
    {
     "name": "stdout",
     "output_type": "stream",
     "text": [
      "Input\t['f', 'a', 'r', 'm']\n",
      "GT\t['ஃ', 'ப', 'ா', 'ர', '்', 'ம', '்']\n",
      "pred\t['ப']\n",
      "\n",
      "\n",
      "Input\t['n', 'e', 't', 'r', 'i']\n",
      "GT\t['ந', 'ெ', 'ற', '்', 'ற', 'ி']\n",
      "pred\t['்', 'ெ', '்', '்', '்']\n",
      "\n",
      "\n",
      "Input\t['k', 'a', 'a', 'r', 'a', 'n', 'a', 't', 't', 'a', 'i', 'p']\n",
      "GT\t['க', 'ா', 'ர', 'ண', 'த', '்', 'த', 'ை', 'ப', '்']\n",
      "pred\t['க', 'ா']\n",
      "\n",
      "\n",
      "Input\t['v', 'a', 'a', 'g', 'a', 'n', 'a']\n",
      "GT\t['வ', 'ா', 'க', 'ன']\n",
      "pred\t['வ', 'ோ', 'ச', '்', 'ா', 'ங']\n",
      "\n",
      "\n",
      "\n",
      "Test set: Average loss: 0.8981, Accuracy: 182991/239760 (76%)\n",
      "\n"
     ]
    },
    {
     "name": "stderr",
     "output_type": "stream",
     "text": [
      "  1%|▏         | 1/76 [00:00<00:14,  5.23it/s]"
     ]
    },
    {
     "name": "stdout",
     "output_type": "stream",
     "text": [
      "Train Epoch: 13 [0/38723 (0%)]\tLoss: 1.042312\n"
     ]
    },
    {
     "name": "stderr",
     "output_type": "stream",
     "text": [
      " 16%|█▌        | 12/76 [00:02<00:12,  5.00it/s]"
     ]
    },
    {
     "name": "stdout",
     "output_type": "stream",
     "text": [
      "Train Epoch: 13 [5120/38723 (13%)]\tLoss: 0.972841\n"
     ]
    },
    {
     "name": "stderr",
     "output_type": "stream",
     "text": [
      " 28%|██▊       | 21/76 [00:04<00:11,  4.98it/s]"
     ]
    },
    {
     "name": "stdout",
     "output_type": "stream",
     "text": [
      "Train Epoch: 13 [10240/38723 (26%)]\tLoss: 1.029401\n"
     ]
    },
    {
     "name": "stderr",
     "output_type": "stream",
     "text": [
      " 41%|████      | 31/76 [00:06<00:09,  4.99it/s]"
     ]
    },
    {
     "name": "stdout",
     "output_type": "stream",
     "text": [
      "Train Epoch: 13 [15360/38723 (39%)]\tLoss: 0.962671\n"
     ]
    },
    {
     "name": "stderr",
     "output_type": "stream",
     "text": [
      " 54%|█████▍    | 41/76 [00:08<00:07,  4.96it/s]"
     ]
    },
    {
     "name": "stdout",
     "output_type": "stream",
     "text": [
      "Train Epoch: 13 [20480/38723 (53%)]\tLoss: 0.988136\n"
     ]
    },
    {
     "name": "stderr",
     "output_type": "stream",
     "text": [
      " 68%|██████▊   | 52/76 [00:10<00:04,  4.98it/s]"
     ]
    },
    {
     "name": "stdout",
     "output_type": "stream",
     "text": [
      "Train Epoch: 13 [25600/38723 (66%)]\tLoss: 0.934006\n"
     ]
    },
    {
     "name": "stderr",
     "output_type": "stream",
     "text": [
      " 80%|████████  | 61/76 [00:12<00:03,  4.98it/s]"
     ]
    },
    {
     "name": "stdout",
     "output_type": "stream",
     "text": [
      "Train Epoch: 13 [30720/38723 (79%)]\tLoss: 0.885732\n"
     ]
    },
    {
     "name": "stderr",
     "output_type": "stream",
     "text": [
      " 93%|█████████▎| 71/76 [00:14<00:01,  4.99it/s]"
     ]
    },
    {
     "name": "stdout",
     "output_type": "stream",
     "text": [
      "Train Epoch: 13 [35840/38723 (92%)]\tLoss: 0.946792\n"
     ]
    },
    {
     "name": "stderr",
     "output_type": "stream",
     "text": [
      "100%|██████████| 76/76 [00:15<00:00,  5.01it/s]\n"
     ]
    },
    {
     "name": "stdout",
     "output_type": "stream",
     "text": [
      "Input\t['f', 'a', 'r', 'm']\n",
      "GT\t['ஃ', 'ப', 'ா', 'ர', '்', 'ம', '்']\n",
      "pred\t['ப']\n",
      "\n",
      "\n",
      "Input\t['n', 'e', 't', 'r', 'i']\n",
      "GT\t['ந', 'ெ', 'ற', '்', 'ற', 'ி']\n",
      "pred\t['்', 'ெ', '்', '்', '்']\n",
      "\n",
      "\n",
      "Input\t['k', 'a', 'a', 'r', 'a', 'n', 'a', 't', 't', 'a', 'i', 'p']\n",
      "GT\t['க', 'ா', 'ர', 'ண', 'த', '்', 'த', 'ை', 'ப', '்']\n",
      "pred\t['க', 'ா', 'ா', '்', '்', '்']\n",
      "\n",
      "\n",
      "Input\t['v', 'a', 'a', 'g', 'a', 'n', 'a']\n",
      "GT\t['வ', 'ா', 'க', 'ன']\n",
      "pred\t['வ', 'ட']\n",
      "\n",
      "\n",
      "\n",
      "Test set: Average loss: 0.8867, Accuracy: 183371/239760 (76%)\n",
      "\n"
     ]
    },
    {
     "name": "stderr",
     "output_type": "stream",
     "text": [
      "  1%|▏         | 1/76 [00:00<00:14,  5.24it/s]"
     ]
    },
    {
     "name": "stdout",
     "output_type": "stream",
     "text": [
      "Train Epoch: 14 [0/38723 (0%)]\tLoss: 1.012743\n"
     ]
    },
    {
     "name": "stderr",
     "output_type": "stream",
     "text": [
      " 14%|█▍        | 11/76 [00:02<00:13,  4.98it/s]"
     ]
    },
    {
     "name": "stdout",
     "output_type": "stream",
     "text": [
      "Train Epoch: 14 [5120/38723 (13%)]\tLoss: 0.891550\n"
     ]
    },
    {
     "name": "stderr",
     "output_type": "stream",
     "text": [
      " 29%|██▉       | 22/76 [00:04<00:10,  5.00it/s]"
     ]
    },
    {
     "name": "stdout",
     "output_type": "stream",
     "text": [
      "Train Epoch: 14 [10240/38723 (26%)]\tLoss: 1.016572\n"
     ]
    },
    {
     "name": "stderr",
     "output_type": "stream",
     "text": [
      " 42%|████▏     | 32/76 [00:06<00:08,  4.99it/s]"
     ]
    },
    {
     "name": "stdout",
     "output_type": "stream",
     "text": [
      "Train Epoch: 14 [15360/38723 (39%)]\tLoss: 0.945284\n"
     ]
    },
    {
     "name": "stderr",
     "output_type": "stream",
     "text": [
      " 54%|█████▍    | 41/76 [00:08<00:07,  4.99it/s]"
     ]
    },
    {
     "name": "stdout",
     "output_type": "stream",
     "text": [
      "Train Epoch: 14 [20480/38723 (53%)]\tLoss: 0.990324\n"
     ]
    },
    {
     "name": "stderr",
     "output_type": "stream",
     "text": [
      " 67%|██████▋   | 51/76 [00:10<00:04,  5.01it/s]"
     ]
    },
    {
     "name": "stdout",
     "output_type": "stream",
     "text": [
      "Train Epoch: 14 [25600/38723 (66%)]\tLoss: 0.913052\n"
     ]
    },
    {
     "name": "stderr",
     "output_type": "stream",
     "text": [
      " 80%|████████  | 61/76 [00:12<00:03,  4.98it/s]"
     ]
    },
    {
     "name": "stdout",
     "output_type": "stream",
     "text": [
      "Train Epoch: 14 [30720/38723 (79%)]\tLoss: 0.892531\n"
     ]
    },
    {
     "name": "stderr",
     "output_type": "stream",
     "text": [
      " 93%|█████████▎| 71/76 [00:14<00:01,  4.99it/s]"
     ]
    },
    {
     "name": "stdout",
     "output_type": "stream",
     "text": [
      "Train Epoch: 14 [35840/38723 (92%)]\tLoss: 0.939005\n"
     ]
    },
    {
     "name": "stderr",
     "output_type": "stream",
     "text": [
      "100%|██████████| 76/76 [00:15<00:00,  5.01it/s]\n"
     ]
    },
    {
     "name": "stdout",
     "output_type": "stream",
     "text": [
      "Input\t['f', 'a', 'r', 'm']\n",
      "GT\t['ஃ', 'ப', 'ா', 'ர', '்', 'ம', '்']\n",
      "pred\t['ப']\n",
      "\n",
      "\n",
      "Input\t['n', 'e', 't', 'r', 'i']\n",
      "GT\t['ந', 'ெ', 'ற', '்', 'ற', 'ி']\n",
      "pred\t['்', 'ெ', '்', '்', 'ி']\n",
      "\n",
      "\n",
      "Input\t['k', 'a', 'a', 'r', 'a', 'n', 'a', 't', 't', 'a', 'i', 'p']\n",
      "GT\t['க', 'ா', 'ர', 'ண', 'த', '்', 'த', 'ை', 'ப', '்']\n",
      "pred\t['க', 'ா', '்', 'ர', '்', '்', '்', '்', '்']\n",
      "\n",
      "\n",
      "Input\t['v', 'a', 'a', 'g', 'a', 'n', 'a']\n",
      "GT\t['வ', 'ா', 'க', 'ன']\n",
      "pred\t['வ', '்', '்', '்', 'ர', '்']\n",
      "\n",
      "\n",
      "\n",
      "Test set: Average loss: 0.9026, Accuracy: 182406/239760 (76%)\n",
      "\n"
     ]
    },
    {
     "name": "stderr",
     "output_type": "stream",
     "text": [
      "  1%|▏         | 1/76 [00:00<00:14,  5.29it/s]"
     ]
    },
    {
     "name": "stdout",
     "output_type": "stream",
     "text": [
      "Train Epoch: 15 [0/38723 (0%)]\tLoss: 1.031870\n"
     ]
    },
    {
     "name": "stderr",
     "output_type": "stream",
     "text": [
      " 16%|█▌        | 12/76 [00:02<00:12,  4.94it/s]"
     ]
    },
    {
     "name": "stdout",
     "output_type": "stream",
     "text": [
      "Train Epoch: 15 [5120/38723 (13%)]\tLoss: 0.908554\n"
     ]
    },
    {
     "name": "stderr",
     "output_type": "stream",
     "text": [
      " 29%|██▉       | 22/76 [00:04<00:10,  5.05it/s]"
     ]
    },
    {
     "name": "stdout",
     "output_type": "stream",
     "text": [
      "Train Epoch: 15 [10240/38723 (26%)]\tLoss: 1.021050\n"
     ]
    },
    {
     "name": "stderr",
     "output_type": "stream",
     "text": [
      " 42%|████▏     | 32/76 [00:06<00:08,  5.07it/s]"
     ]
    },
    {
     "name": "stdout",
     "output_type": "stream",
     "text": [
      "Train Epoch: 15 [15360/38723 (39%)]\tLoss: 0.925070\n"
     ]
    },
    {
     "name": "stderr",
     "output_type": "stream",
     "text": [
      " 55%|█████▌    | 42/76 [00:08<00:06,  5.07it/s]"
     ]
    },
    {
     "name": "stdout",
     "output_type": "stream",
     "text": [
      "Train Epoch: 15 [20480/38723 (53%)]\tLoss: 0.988796\n"
     ]
    },
    {
     "name": "stderr",
     "output_type": "stream",
     "text": [
      " 68%|██████▊   | 52/76 [00:10<00:04,  5.08it/s]"
     ]
    },
    {
     "name": "stdout",
     "output_type": "stream",
     "text": [
      "Train Epoch: 15 [25600/38723 (66%)]\tLoss: 0.937518\n"
     ]
    },
    {
     "name": "stderr",
     "output_type": "stream",
     "text": [
      " 82%|████████▏ | 62/76 [00:12<00:02,  5.06it/s]"
     ]
    },
    {
     "name": "stdout",
     "output_type": "stream",
     "text": [
      "Train Epoch: 15 [30720/38723 (79%)]\tLoss: 0.889656\n"
     ]
    },
    {
     "name": "stderr",
     "output_type": "stream",
     "text": [
      " 95%|█████████▍| 72/76 [00:14<00:00,  5.08it/s]"
     ]
    },
    {
     "name": "stdout",
     "output_type": "stream",
     "text": [
      "Train Epoch: 15 [35840/38723 (92%)]\tLoss: 0.938391\n"
     ]
    },
    {
     "name": "stderr",
     "output_type": "stream",
     "text": [
      "100%|██████████| 76/76 [00:14<00:00,  5.08it/s]\n"
     ]
    },
    {
     "name": "stdout",
     "output_type": "stream",
     "text": [
      "Input\t['f', 'a', 'r', 'm']\n",
      "GT\t['ஃ', 'ப', 'ா', 'ர', '்', 'ம', '்']\n",
      "pred\t['ப', 'க', 'ர', 'ம']\n",
      "\n",
      "\n",
      "Input\t['n', 'e', 't', 'r', 'i']\n",
      "GT\t['ந', 'ெ', 'ற', '்', 'ற', 'ி']\n",
      "pred\t['்', 'ெ', '்', '்']\n",
      "\n",
      "\n",
      "Input\t['k', 'a', 'a', 'r', 'a', 'n', 'a', 't', 't', 'a', 'i', 'p']\n",
      "GT\t['க', 'ா', 'ர', 'ண', 'த', '்', 'த', 'ை', 'ப', '்']\n",
      "pred\t['க', 'ா', 'ா', 'ர', '்', '்', '்', '்', '்']\n",
      "\n",
      "\n",
      "Input\t['v', 'a', 'a', 'g', 'a', 'n', 'a']\n",
      "GT\t['வ', 'ா', 'க', 'ன']\n",
      "pred\t['வ', 'ோ', '்', '்']\n",
      "\n",
      "\n",
      "\n",
      "Test set: Average loss: 0.8959, Accuracy: 182004/239760 (76%)\n",
      "\n"
     ]
    },
    {
     "name": "stderr",
     "output_type": "stream",
     "text": [
      "  1%|▏         | 1/76 [00:00<00:14,  5.34it/s]"
     ]
    },
    {
     "name": "stdout",
     "output_type": "stream",
     "text": [
      "Train Epoch: 16 [0/38723 (0%)]\tLoss: 1.018579\n"
     ]
    },
    {
     "name": "stderr",
     "output_type": "stream",
     "text": [
      " 16%|█▌        | 12/76 [00:02<00:12,  5.05it/s]"
     ]
    },
    {
     "name": "stdout",
     "output_type": "stream",
     "text": [
      "Train Epoch: 16 [5120/38723 (13%)]\tLoss: 0.897881\n"
     ]
    },
    {
     "name": "stderr",
     "output_type": "stream",
     "text": [
      " 29%|██▉       | 22/76 [00:04<00:10,  5.06it/s]"
     ]
    },
    {
     "name": "stdout",
     "output_type": "stream",
     "text": [
      "Train Epoch: 16 [10240/38723 (26%)]\tLoss: 1.029755\n"
     ]
    },
    {
     "name": "stderr",
     "output_type": "stream",
     "text": [
      " 42%|████▏     | 32/76 [00:06<00:08,  5.04it/s]"
     ]
    },
    {
     "name": "stdout",
     "output_type": "stream",
     "text": [
      "Train Epoch: 16 [15360/38723 (39%)]\tLoss: 0.967391\n"
     ]
    },
    {
     "name": "stderr",
     "output_type": "stream",
     "text": [
      " 55%|█████▌    | 42/76 [00:08<00:06,  5.03it/s]"
     ]
    },
    {
     "name": "stdout",
     "output_type": "stream",
     "text": [
      "Train Epoch: 16 [20480/38723 (53%)]\tLoss: 0.996492\n"
     ]
    },
    {
     "name": "stderr",
     "output_type": "stream",
     "text": [
      " 68%|██████▊   | 52/76 [00:10<00:04,  5.05it/s]"
     ]
    },
    {
     "name": "stdout",
     "output_type": "stream",
     "text": [
      "Train Epoch: 16 [25600/38723 (66%)]\tLoss: 0.931345\n"
     ]
    },
    {
     "name": "stderr",
     "output_type": "stream",
     "text": [
      " 82%|████████▏ | 62/76 [00:12<00:02,  5.01it/s]"
     ]
    },
    {
     "name": "stdout",
     "output_type": "stream",
     "text": [
      "Train Epoch: 16 [30720/38723 (79%)]\tLoss: 0.888167\n"
     ]
    },
    {
     "name": "stderr",
     "output_type": "stream",
     "text": [
      " 95%|█████████▍| 72/76 [00:14<00:00,  5.05it/s]"
     ]
    },
    {
     "name": "stdout",
     "output_type": "stream",
     "text": [
      "Train Epoch: 16 [35840/38723 (92%)]\tLoss: 0.932317\n"
     ]
    },
    {
     "name": "stderr",
     "output_type": "stream",
     "text": [
      "100%|██████████| 76/76 [00:14<00:00,  5.07it/s]\n"
     ]
    },
    {
     "name": "stdout",
     "output_type": "stream",
     "text": [
      "Input\t['f', 'a', 'r', 'm']\n",
      "GT\t['ஃ', 'ப', 'ா', 'ர', '்', 'ம', '்']\n",
      "pred\t['ப', 'ா', 'ர', 'ம']\n",
      "\n",
      "\n",
      "Input\t['n', 'e', 't', 'r', 'i']\n",
      "GT\t['ந', 'ெ', 'ற', '்', 'ற', 'ி']\n",
      "pred\t['்', 'ெ', '்', '்', 'ி']\n",
      "\n",
      "\n",
      "Input\t['k', 'a', 'a', 'r', 'a', 'n', 'a', 't', 't', 'a', 'i', 'p']\n",
      "GT\t['க', 'ா', 'ர', 'ண', 'த', '்', 'த', 'ை', 'ப', '்']\n",
      "pred\t['க', '்', '்', '்', '்', '்', '்', '்', '்']\n",
      "\n",
      "\n",
      "Input\t['v', 'a', 'a', 'g', 'a', 'n', 'a']\n",
      "GT\t['வ', 'ா', 'க', 'ன']\n",
      "pred\t['வ', 'ழ', '்', '்', 'ட', '்']\n",
      "\n",
      "\n",
      "\n",
      "Test set: Average loss: 0.8965, Accuracy: 183457/239760 (77%)\n",
      "\n"
     ]
    },
    {
     "name": "stderr",
     "output_type": "stream",
     "text": [
      "  1%|▏         | 1/76 [00:00<00:13,  5.38it/s]"
     ]
    },
    {
     "name": "stdout",
     "output_type": "stream",
     "text": [
      "Train Epoch: 17 [0/38723 (0%)]\tLoss: 1.036370\n"
     ]
    },
    {
     "name": "stderr",
     "output_type": "stream",
     "text": [
      " 16%|█▌        | 12/76 [00:02<00:13,  4.68it/s]"
     ]
    },
    {
     "name": "stdout",
     "output_type": "stream",
     "text": [
      "Train Epoch: 17 [5120/38723 (13%)]\tLoss: 0.911290\n"
     ]
    },
    {
     "name": "stderr",
     "output_type": "stream",
     "text": [
      " 29%|██▉       | 22/76 [00:04<00:10,  5.05it/s]"
     ]
    },
    {
     "name": "stdout",
     "output_type": "stream",
     "text": [
      "Train Epoch: 17 [10240/38723 (26%)]\tLoss: 1.013102\n"
     ]
    },
    {
     "name": "stderr",
     "output_type": "stream",
     "text": [
      " 42%|████▏     | 32/76 [00:06<00:08,  5.03it/s]"
     ]
    },
    {
     "name": "stdout",
     "output_type": "stream",
     "text": [
      "Train Epoch: 17 [15360/38723 (39%)]\tLoss: 0.966223\n"
     ]
    },
    {
     "name": "stderr",
     "output_type": "stream",
     "text": [
      " 55%|█████▌    | 42/76 [00:08<00:06,  5.02it/s]"
     ]
    },
    {
     "name": "stdout",
     "output_type": "stream",
     "text": [
      "Train Epoch: 17 [20480/38723 (53%)]\tLoss: 0.990890\n"
     ]
    },
    {
     "name": "stderr",
     "output_type": "stream",
     "text": [
      " 68%|██████▊   | 52/76 [00:10<00:04,  5.04it/s]"
     ]
    },
    {
     "name": "stdout",
     "output_type": "stream",
     "text": [
      "Train Epoch: 17 [25600/38723 (66%)]\tLoss: 0.900536\n"
     ]
    },
    {
     "name": "stderr",
     "output_type": "stream",
     "text": [
      " 82%|████████▏ | 62/76 [00:12<00:02,  5.03it/s]"
     ]
    },
    {
     "name": "stdout",
     "output_type": "stream",
     "text": [
      "Train Epoch: 17 [30720/38723 (79%)]\tLoss: 0.869586\n"
     ]
    },
    {
     "name": "stderr",
     "output_type": "stream",
     "text": [
      " 95%|█████████▍| 72/76 [00:14<00:00,  5.03it/s]"
     ]
    },
    {
     "name": "stdout",
     "output_type": "stream",
     "text": [
      "Train Epoch: 17 [35840/38723 (92%)]\tLoss: 0.932425\n"
     ]
    },
    {
     "name": "stderr",
     "output_type": "stream",
     "text": [
      "100%|██████████| 76/76 [00:15<00:00,  5.05it/s]\n"
     ]
    },
    {
     "name": "stdout",
     "output_type": "stream",
     "text": [
      "Input\t['f', 'a', 'r', 'm']\n",
      "GT\t['ஃ', 'ப', 'ா', 'ர', '்', 'ம', '்']\n",
      "pred\t['ப', 'வ', 'ர', 'ம']\n",
      "\n",
      "\n",
      "Input\t['n', 'e', 't', 'r', 'i']\n",
      "GT\t['ந', 'ெ', 'ற', '்', 'ற', 'ி']\n",
      "pred\t['்', 'ெ', '்', '்', 'ி']\n",
      "\n",
      "\n",
      "Input\t['k', 'a', 'a', 'r', 'a', 'n', 'a', 't', 't', 'a', 'i', 'p']\n",
      "GT\t['க', 'ா', 'ர', 'ண', 'த', '்', 'த', 'ை', 'ப', '்']\n",
      "pred\t['க', 'ா']\n",
      "\n",
      "\n",
      "Input\t['v', 'a', 'a', 'g', 'a', 'n', 'a']\n",
      "GT\t['வ', 'ா', 'க', 'ன']\n",
      "pred\t['வ', 'ழ', '்', '்', 'ட', '்']\n",
      "\n",
      "\n",
      "\n",
      "Test set: Average loss: 0.9016, Accuracy: 182919/239760 (76%)\n",
      "\n"
     ]
    },
    {
     "name": "stderr",
     "output_type": "stream",
     "text": [
      "  1%|▏         | 1/76 [00:00<00:13,  5.38it/s]"
     ]
    },
    {
     "name": "stdout",
     "output_type": "stream",
     "text": [
      "Train Epoch: 18 [0/38723 (0%)]\tLoss: 1.036052\n"
     ]
    },
    {
     "name": "stderr",
     "output_type": "stream",
     "text": [
      " 16%|█▌        | 12/76 [00:02<00:12,  5.04it/s]"
     ]
    },
    {
     "name": "stdout",
     "output_type": "stream",
     "text": [
      "Train Epoch: 18 [5120/38723 (13%)]\tLoss: 0.921146\n"
     ]
    },
    {
     "name": "stderr",
     "output_type": "stream",
     "text": [
      " 29%|██▉       | 22/76 [00:04<00:10,  5.07it/s]"
     ]
    },
    {
     "name": "stdout",
     "output_type": "stream",
     "text": [
      "Train Epoch: 18 [10240/38723 (26%)]\tLoss: 1.019368\n"
     ]
    },
    {
     "name": "stderr",
     "output_type": "stream",
     "text": [
      " 42%|████▏     | 32/76 [00:06<00:08,  5.08it/s]"
     ]
    },
    {
     "name": "stdout",
     "output_type": "stream",
     "text": [
      "Train Epoch: 18 [15360/38723 (39%)]\tLoss: 0.920185\n"
     ]
    },
    {
     "name": "stderr",
     "output_type": "stream",
     "text": [
      " 55%|█████▌    | 42/76 [00:08<00:06,  5.05it/s]"
     ]
    },
    {
     "name": "stdout",
     "output_type": "stream",
     "text": [
      "Train Epoch: 18 [20480/38723 (53%)]\tLoss: 0.999754\n"
     ]
    },
    {
     "name": "stderr",
     "output_type": "stream",
     "text": [
      " 68%|██████▊   | 52/76 [00:10<00:04,  5.05it/s]"
     ]
    },
    {
     "name": "stdout",
     "output_type": "stream",
     "text": [
      "Train Epoch: 18 [25600/38723 (66%)]\tLoss: 0.915281\n"
     ]
    },
    {
     "name": "stderr",
     "output_type": "stream",
     "text": [
      " 82%|████████▏ | 62/76 [00:12<00:02,  5.06it/s]"
     ]
    },
    {
     "name": "stdout",
     "output_type": "stream",
     "text": [
      "Train Epoch: 18 [30720/38723 (79%)]\tLoss: 0.867193\n"
     ]
    },
    {
     "name": "stderr",
     "output_type": "stream",
     "text": [
      " 95%|█████████▍| 72/76 [00:14<00:00,  5.04it/s]"
     ]
    },
    {
     "name": "stdout",
     "output_type": "stream",
     "text": [
      "Train Epoch: 18 [35840/38723 (92%)]\tLoss: 0.923576\n"
     ]
    },
    {
     "name": "stderr",
     "output_type": "stream",
     "text": [
      "100%|██████████| 76/76 [00:14<00:00,  5.09it/s]\n"
     ]
    },
    {
     "name": "stdout",
     "output_type": "stream",
     "text": [
      "Input\t['f', 'a', 'r', 'm']\n",
      "GT\t['ஃ', 'ப', 'ா', 'ர', '்', 'ம', '்']\n",
      "pred\t['ப', 'ா', 'ர', 'ம']\n",
      "\n",
      "\n",
      "Input\t['n', 'e', 't', 'r', 'i']\n",
      "GT\t['ந', 'ெ', 'ற', '்', 'ற', 'ி']\n",
      "pred\t['்', 'ெ', '்', '்', 'ி']\n",
      "\n",
      "\n",
      "Input\t['k', 'a', 'a', 'r', 'a', 'n', 'a', 't', 't', 'a', 'i', 'p']\n",
      "GT\t['க', 'ா', 'ர', 'ண', 'த', '்', 'த', 'ை', 'ப', '்']\n",
      "pred\t['க', 'ா']\n",
      "\n",
      "\n",
      "Input\t['v', 'a', 'a', 'g', 'a', 'n', 'a']\n",
      "GT\t['வ', 'ா', 'க', 'ன']\n",
      "pred\t['வ', 'ோ', 'ச', '்']\n",
      "\n",
      "\n",
      "\n",
      "Test set: Average loss: 0.8809, Accuracy: 183273/239760 (76%)\n",
      "\n"
     ]
    },
    {
     "name": "stderr",
     "output_type": "stream",
     "text": [
      "  1%|▏         | 1/76 [00:00<00:13,  5.41it/s]"
     ]
    },
    {
     "name": "stdout",
     "output_type": "stream",
     "text": [
      "Train Epoch: 19 [0/38723 (0%)]\tLoss: 0.933204\n"
     ]
    },
    {
     "name": "stderr",
     "output_type": "stream",
     "text": [
      " 16%|█▌        | 12/76 [00:02<00:12,  5.05it/s]"
     ]
    },
    {
     "name": "stdout",
     "output_type": "stream",
     "text": [
      "Train Epoch: 19 [5120/38723 (13%)]\tLoss: 0.893430\n"
     ]
    },
    {
     "name": "stderr",
     "output_type": "stream",
     "text": [
      " 29%|██▉       | 22/76 [00:04<00:10,  5.04it/s]"
     ]
    },
    {
     "name": "stdout",
     "output_type": "stream",
     "text": [
      "Train Epoch: 19 [10240/38723 (26%)]\tLoss: 1.042273\n"
     ]
    },
    {
     "name": "stderr",
     "output_type": "stream",
     "text": [
      " 42%|████▏     | 32/76 [00:06<00:08,  5.06it/s]"
     ]
    },
    {
     "name": "stdout",
     "output_type": "stream",
     "text": [
      "Train Epoch: 19 [15360/38723 (39%)]\tLoss: 0.914803\n"
     ]
    },
    {
     "name": "stderr",
     "output_type": "stream",
     "text": [
      " 55%|█████▌    | 42/76 [00:08<00:06,  5.06it/s]"
     ]
    },
    {
     "name": "stdout",
     "output_type": "stream",
     "text": [
      "Train Epoch: 19 [20480/38723 (53%)]\tLoss: 0.984442\n"
     ]
    },
    {
     "name": "stderr",
     "output_type": "stream",
     "text": [
      " 68%|██████▊   | 52/76 [00:10<00:04,  5.04it/s]"
     ]
    },
    {
     "name": "stdout",
     "output_type": "stream",
     "text": [
      "Train Epoch: 19 [25600/38723 (66%)]\tLoss: 0.899507\n"
     ]
    },
    {
     "name": "stderr",
     "output_type": "stream",
     "text": [
      " 82%|████████▏ | 62/76 [00:12<00:02,  5.05it/s]"
     ]
    },
    {
     "name": "stdout",
     "output_type": "stream",
     "text": [
      "Train Epoch: 19 [30720/38723 (79%)]\tLoss: 0.885595\n"
     ]
    },
    {
     "name": "stderr",
     "output_type": "stream",
     "text": [
      " 95%|█████████▍| 72/76 [00:14<00:00,  5.01it/s]"
     ]
    },
    {
     "name": "stdout",
     "output_type": "stream",
     "text": [
      "Train Epoch: 19 [35840/38723 (92%)]\tLoss: 0.918733\n"
     ]
    },
    {
     "name": "stderr",
     "output_type": "stream",
     "text": [
      "100%|██████████| 76/76 [00:15<00:00,  5.05it/s]\n"
     ]
    },
    {
     "name": "stdout",
     "output_type": "stream",
     "text": [
      "Input\t['f', 'a', 'r', 'm']\n",
      "GT\t['ஃ', 'ப', 'ா', 'ர', '்', 'ம', '்']\n",
      "pred\t['ஃ', 'ா', 'ர', 'ம']\n",
      "\n",
      "\n",
      "Input\t['n', 'e', 't', 'r', 'i']\n",
      "GT\t['ந', 'ெ', 'ற', '்', 'ற', 'ி']\n",
      "pred\t['்', 'ெ', '்', '்']\n",
      "\n",
      "\n",
      "Input\t['k', 'a', 'a', 'r', 'a', 'n', 'a', 't', 't', 'a', 'i', 'p']\n",
      "GT\t['க', 'ா', 'ர', 'ண', 'த', '்', 'த', 'ை', 'ப', '்']\n",
      "pred\t['க', 'ா', '்', 'ர', '்', '்', '்', '்', '்', '்', 'ி', '்']\n",
      "\n",
      "\n",
      "Input\t['v', 'a', 'a', 'g', 'a', 'n', 'a']\n",
      "GT\t['வ', 'ா', 'க', 'ன']\n",
      "pred\t['வ', 'ர', '்', '்', 'ர', '்']\n",
      "\n",
      "\n",
      "\n",
      "Test set: Average loss: 0.8952, Accuracy: 182611/239760 (76%)\n",
      "\n"
     ]
    },
    {
     "name": "stderr",
     "output_type": "stream",
     "text": [
      "  1%|▏         | 1/76 [00:00<00:13,  5.39it/s]"
     ]
    },
    {
     "name": "stdout",
     "output_type": "stream",
     "text": [
      "Train Epoch: 20 [0/38723 (0%)]\tLoss: 1.033589\n"
     ]
    },
    {
     "name": "stderr",
     "output_type": "stream",
     "text": [
      " 16%|█▌        | 12/76 [00:02<00:12,  5.06it/s]"
     ]
    },
    {
     "name": "stdout",
     "output_type": "stream",
     "text": [
      "Train Epoch: 20 [5120/38723 (13%)]\tLoss: 0.914589\n"
     ]
    },
    {
     "name": "stderr",
     "output_type": "stream",
     "text": [
      " 29%|██▉       | 22/76 [00:04<00:10,  5.06it/s]"
     ]
    },
    {
     "name": "stdout",
     "output_type": "stream",
     "text": [
      "Train Epoch: 20 [10240/38723 (26%)]\tLoss: 1.029139\n"
     ]
    },
    {
     "name": "stderr",
     "output_type": "stream",
     "text": [
      " 42%|████▏     | 32/76 [00:06<00:08,  5.05it/s]"
     ]
    },
    {
     "name": "stdout",
     "output_type": "stream",
     "text": [
      "Train Epoch: 20 [15360/38723 (39%)]\tLoss: 0.943165\n"
     ]
    },
    {
     "name": "stderr",
     "output_type": "stream",
     "text": [
      " 55%|█████▌    | 42/76 [00:08<00:06,  5.05it/s]"
     ]
    },
    {
     "name": "stdout",
     "output_type": "stream",
     "text": [
      "Train Epoch: 20 [20480/38723 (53%)]\tLoss: 1.004858\n"
     ]
    },
    {
     "name": "stderr",
     "output_type": "stream",
     "text": [
      " 68%|██████▊   | 52/76 [00:10<00:04,  5.04it/s]"
     ]
    },
    {
     "name": "stdout",
     "output_type": "stream",
     "text": [
      "Train Epoch: 20 [25600/38723 (66%)]\tLoss: 0.912012\n"
     ]
    },
    {
     "name": "stderr",
     "output_type": "stream",
     "text": [
      " 82%|████████▏ | 62/76 [00:12<00:02,  5.03it/s]"
     ]
    },
    {
     "name": "stdout",
     "output_type": "stream",
     "text": [
      "Train Epoch: 20 [30720/38723 (79%)]\tLoss: 0.884084\n"
     ]
    },
    {
     "name": "stderr",
     "output_type": "stream",
     "text": [
      " 95%|█████████▍| 72/76 [00:14<00:00,  5.04it/s]"
     ]
    },
    {
     "name": "stdout",
     "output_type": "stream",
     "text": [
      "Train Epoch: 20 [35840/38723 (92%)]\tLoss: 0.938906\n"
     ]
    },
    {
     "name": "stderr",
     "output_type": "stream",
     "text": [
      "100%|██████████| 76/76 [00:14<00:00,  5.07it/s]\n"
     ]
    },
    {
     "name": "stdout",
     "output_type": "stream",
     "text": [
      "Input\t['f', 'a', 'r', 'm']\n",
      "GT\t['ஃ', 'ப', 'ா', 'ர', '்', 'ம', '்']\n",
      "pred\t['ஃ', 'ா', 'ர', 'ம']\n",
      "\n",
      "\n",
      "Input\t['n', 'e', 't', 'r', 'i']\n",
      "GT\t['ந', 'ெ', 'ற', '்', 'ற', 'ி']\n",
      "pred\t['்', 'ெ', '்', '்', 'ி']\n",
      "\n",
      "\n",
      "Input\t['k', 'a', 'a', 'r', 'a', 'n', 'a', 't', 't', 'a', 'i', 'p']\n",
      "GT\t['க', 'ா', 'ர', 'ண', 'த', '்', 'த', 'ை', 'ப', '்']\n",
      "pred\t['க', 'ா', '்', 'ர', '்', '்', '்', '்', '்', '்', 'ி', '்']\n",
      "\n",
      "\n",
      "Input\t['v', 'a', 'a', 'g', 'a', 'n', 'a']\n",
      "GT\t['வ', 'ா', 'க', 'ன']\n",
      "pred\t['வ', 'ோ', 'ச', '்', 'வ', '்']\n",
      "\n",
      "\n",
      "\n",
      "Test set: Average loss: 0.9098, Accuracy: 181530/239760 (76%)\n",
      "\n"
     ]
    },
    {
     "data": {
      "image/png": "[encoded data removed]",
      "text/plain": [
       "<Figure size 1440x720 with 1 Axes>"
      ]
     },
     "metadata": {
      "needs_background": "light"
     },
     "output_type": "display_data"
    },
    {
     "data": {
      "image/png": "[encoded data removed]",
      "text/plain": [
       "<Figure size 1440x720 with 1 Axes>"
      ]
     },
     "metadata": {
      "needs_background": "light"
     },
     "output_type": "display_data"
    },
    {
     "data": {
      "image/png": "[encoded data removed]",
      "text/plain": [
       "<Figure size 1440x720 with 1 Axes>"
      ]
     },
     "metadata": {
      "needs_background": "light"
     },
     "output_type": "display_data"
    }
   ],
   "source": [
    "def main():\n",
    "    BATCH_SIZE = 512\n",
    "    FEATURE_SIZE = 128\n",
    "    TEST_BATCH_SIZE = 256\n",
    "    EPOCHS = 20\n",
    "    LEARNING_RATE = 0.005\n",
    "    MOMENTUM = 0.9\n",
    "    WEIGHT_DECAY = 0.000005\n",
    "    USE_CUDA = True\n",
    "    PRINT_INTERVAL = 10\n",
    "    OUT_PATH = 'out/'\n",
    "    LOG_PATH = OUT_PATH + 'logs/log.pkl'\n",
    "    \n",
    "    train_data, test_data, seq_len = prepare_data(DATA_PATH)\n",
    "    lang_voc2ind, lang_ind2voc, en_voc2ind, en_ind2voc = create_dictionaries(train_data + test_data)\n",
    "    train_dataset = TransliterateDataset(train_data, lang_voc2ind, en_voc2ind, seq_len)\n",
    "    test_dataset = TransliterateDataset(test_data, lang_voc2ind, en_voc2ind, seq_len)\n",
    "    \n",
    "    use_cuda = USE_CUDA and torch.cuda.is_available()\n",
    "    device = torch.device(\"cuda\" if use_cuda else \"cpu\")\n",
    "    print('Using device', device)\n",
    "    \n",
    "    num_workers = multiprocessing.cpu_count()\n",
    "    print('num workers:', num_workers)\n",
    "    kwargs = {'num_workers': num_workers,\n",
    "              'pin_memory': True} if use_cuda else {}\n",
    "    \n",
    "    train_loader = torch.utils.data.DataLoader(train_dataset, batch_size=BATCH_SIZE,\n",
    "                                               shuffle=False, **kwargs)\n",
    "    test_loader = torch.utils.data.DataLoader(test_dataset, batch_size=TEST_BATCH_SIZE,\n",
    "                                              shuffle=False, **kwargs)\n",
    "    \n",
    "    model = TransliterateNet(len(en_voc2ind), len(lang_voc2ind), FEATURE_SIZE).to(device)\n",
    "    \n",
    "    optimizer = optim.Adam(model.parameters(), lr=LEARNING_RATE, weight_decay=WEIGHT_DECAY)\n",
    "    #optimizer = optim.SGD(model.parameters(), lr=LEARNING_RATE, momentum=MOMENTUM, weight_decay=WEIGHT_DECAY)\n",
    "    start_epoch = model.load_last_model(OUT_PATH + 'checkpoints')\n",
    "\n",
    "    train_losses, test_losses, test_accuracies = pt_util.read_log(LOG_PATH, ([], [], []))\n",
    "    test_loss, test_accuracy = test(model, device, test_loader, en_ind2voc, lang_ind2voc)\n",
    "\n",
    "    test_losses.append((start_epoch, test_loss))\n",
    "    test_accuracies.append((start_epoch, test_accuracy))\n",
    "    \n",
    "    try:\n",
    "        for epoch in range(start_epoch, EPOCHS + 1):\n",
    "            lr = LEARNING_RATE * np.power(0.25, (int(epoch / 6)))\n",
    "            train_loss = train(model, device, optimizer, train_loader, lr, epoch, PRINT_INTERVAL)\n",
    "            test_loss, test_accuracy = test(model, device, test_loader, en_ind2voc, lang_ind2voc)\n",
    "            train_losses.append((epoch, train_loss))\n",
    "            test_losses.append((epoch, test_loss))\n",
    "            test_accuracies.append((epoch, test_accuracy))\n",
    "            #pt_util.write_log(LOG_PATH, (train_losses, test_losses, test_accuracies))\n",
    "            #model.save_best_model(test_accuracy, DATA_PATH + 'checkpoints/%03d.pt' % epoch)\n",
    "\n",
    "    except KeyboardInterrupt as ke:\n",
    "        print('Interrupted')\n",
    "    except:\n",
    "        import traceback\n",
    "        traceback.print_exc()\n",
    "    finally:\n",
    "        #print('Saving final model')\n",
    "        #model.save_model(DATA_PATH + 'checkpoints/%03d.pt' % epoch, 0)\n",
    "        ep, val = zip(*train_losses)\n",
    "        pt_util.plot(ep, val, 'Train loss', 'Epoch', 'Error')\n",
    "        ep, val = zip(*test_losses)\n",
    "        pt_util.plot(ep, val, 'Test loss', 'Epoch', 'Error')\n",
    "        ep, val = zip(*test_accuracies)\n",
    "        pt_util.plot(ep, val, 'Test accuracy', 'Epoch', 'Error')\n",
    "        return model, en_voc2ind, lang_ind2voc, device\n",
    "    \n",
    "final_model, en_voc2ind, lang_ind2voc, device = main()"
   ]
  },
  {
   "cell_type": "code",
   "execution_count": 11,
   "id": "48112d7f",
   "metadata": {},
   "outputs": [],
   "source": [
    "def generate_transliteration(model, word, en_voc2ind, lang_ind2voc, seq_len=30):\n",
    "    transliteration = []\n",
    "    hidden = None\n",
    "    \n",
    "    en_tokens = tokenize_data(word, en_voc2ind)\n",
    "    en_data = torch.LongTensor(pad_data(en_tokens, seq_len))\n",
    "    \n",
    "    for c in torch.LongTensor(en_data):\n",
    "        x, hidden = model.inference(c, hidden)\n",
    "        transliteration.append(torch.argmax(x))\n",
    "    \n",
    "    return detokenize_and_depad_data(transliteration, lang_ind2voc, len(lang_ind2voc) - 1)"
   ]
  },
  {
   "cell_type": "code",
   "execution_count": 12,
   "id": "39e48498",
   "metadata": {},
   "outputs": [
    {
     "name": "stdout",
     "output_type": "stream",
     "text": [
      "['ஃ', 'ஆ', 'ஐ', 'ஆ', 'ம', 'ூ', 'ூ', 'ஆ', 'ஃ', 'ஐ', 'ஐ', 'ஐ', 'ஃ', 'ஃ', 'ஃ', 'ஃ', 'ஜ', 'ஜ', 'ஜ', 'ஜ', 'ஜ', 'ஜ', 'ஜ', 'ஜ', 'ஜ', 'ஜ', 'ஜ', 'ஜ', 'ஜ', 'ஜ']\n"
     ]
    }
   ],
   "source": [
    "print(generate_transliteration(final_model, 'farm', en_voc2ind, lang_ind2voc)) # should ideally say 'ஃபார்ம்'"
   ]
  }
 ],
 "metadata": {
  "kernelspec": {
   "display_name": "Python 3",
   "language": "python",
   "name": "python3"
  },
  "language_info": {
   "codemirror_mode": {
    "name": "ipython",
    "version": 3
   },
   "file_extension": ".py",
   "mimetype": "text/x-python",
   "name": "python",
   "nbconvert_exporter": "python",
   "pygments_lexer": "ipython3",
   "version": "3.6.8"
  }
 },
 "nbformat": 4,
 "nbformat_minor": 5
}
