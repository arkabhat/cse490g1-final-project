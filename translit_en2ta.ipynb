{
 "cells": [
  {
   "cell_type": "code",
   "execution_count": 198,
   "id": "ee1b8694",
   "metadata": {},
   "outputs": [
    {
     "name": "stdout",
     "output_type": "stream",
     "text": [
      "Version 1.10.0+cu102\n",
      "CUDA enabled: False\n"
     ]
    }
   ],
   "source": [
    "import torch\n",
    "print('Version', torch.__version__)\n",
    "print('CUDA enabled:', torch.cuda.is_available())"
   ]
  },
  {
   "cell_type": "code",
   "execution_count": 199,
   "id": "e503fd20",
   "metadata": {},
   "outputs": [],
   "source": [
    "import torch.nn as nn\n",
    "from torchvision import datasets\n",
    "from torchvision import transforms\n",
    "import torch.nn.functional as F\n",
    "import torch.optim as optim\n",
    "import numpy as np\n",
    "import matplotlib.pyplot as plt\n",
    "import tqdm\n",
    "\n",
    "import sys\n",
    "import os\n",
    "import pickle\n",
    "import re\n",
    "import csv\n",
    "import multiprocessing\n",
    "\n",
    "import pt_util"
   ]
  },
  {
   "cell_type": "code",
   "execution_count": 200,
   "id": "66153b90",
   "metadata": {},
   "outputs": [],
   "source": [
    "DATA_DIR = 'dakshina_dataset_v1.0'\n",
    "LANG = 'ta'\n",
    "LANG_DIR = 'lexicons'\n",
    "DATA_PATH = '{}/{}/{}'.format(DATA_DIR, LANG, LANG_DIR)"
   ]
  },
  {
   "cell_type": "code",
   "execution_count": 201,
   "id": "774a0851",
   "metadata": {},
   "outputs": [],
   "source": [
    "def prepare_data(dirpath):\n",
    "    # Read train and test data\n",
    "    filenames = os.listdir(dirpath)\n",
    "    train_data = []\n",
    "    test_data = []\n",
    "    max_len = 0 # max length of any word in the dataset\n",
    "    \n",
    "    def get_most_annotated_transliterations(tsv_file, data, max_len):\n",
    "        curr_lang = None\n",
    "        max_annotations = 0\n",
    "        curr_translits = {}\n",
    "\n",
    "        # only consider the most annotated transliteration(s) for each foreign language word\n",
    "        for lang, en, annotations in tsv_file:\n",
    "            if not curr_lang or lang != curr_lang:\n",
    "                for translit, annots in curr_translits.items():\n",
    "                    if annots == max_annotations:\n",
    "                        data.append([curr_lang, translit])\n",
    "                        max_len = max(max_len, len(translit))\n",
    "                curr_lang = lang\n",
    "                max_annotations = annotations\n",
    "                curr_translits = {en: annotations}\n",
    "                max_len = max(max_len, len(curr_lang))\n",
    "            else:\n",
    "                max_annotations = max(max_annotations, annotations)\n",
    "                curr_translits[en] = annotations\n",
    "        for translit, annots in curr_translits.items(): # fencepost\n",
    "            if annots == max_annotations:\n",
    "                data.append([curr_lang, translit])\n",
    "                max_len = max(max_len, len(translit))\n",
    "        return max_len\n",
    "    \n",
    "    for filename in filenames:\n",
    "        with open(os.path.join(dirpath, filename), 'r') as file:\n",
    "            tsv = csv.reader(file, delimiter='\\t')\n",
    "            if filename.endswith('train.tsv'):\n",
    "                max_len = get_most_annotated_transliterations(tsv, train_data, max_len)\n",
    "            else:\n",
    "                max_len = get_most_annotated_transliterations(tsv, test_data, max_len)\n",
    "                \n",
    "    return train_data, test_data, max_len"
   ]
  },
  {
   "cell_type": "code",
   "execution_count": 209,
   "id": "9a49eb6f",
   "metadata": {},
   "outputs": [],
   "source": [
    "PAD = '<PAD>'\n",
    "def create_dictionaries(data):\n",
    "    #en_voc2ind = {PAD: 0}\n",
    "    #lang_voc2ind = {PAD: 0}\n",
    "    #en_ind2voc = {0: PAD}\n",
    "    #lang_ind2voc = {0: PAD}\n",
    "    \n",
    "    en_voc2ind = {}\n",
    "    lang_voc2ind = {}\n",
    "    en_ind2voc = {}\n",
    "    lang_ind2voc = {}\n",
    "    \n",
    "    en_ind = 0 #1\n",
    "    lang_ind = 0 #1\n",
    "    for lang, en in data:\n",
    "        for lang_char in lang:\n",
    "            if lang_char not in lang_voc2ind:\n",
    "                lang_voc2ind[lang_char] = lang_ind\n",
    "                lang_ind2voc[lang_ind] = lang_char\n",
    "                lang_ind += 1\n",
    "        for en_char in en:\n",
    "            if en_char not in en_voc2ind:\n",
    "                en_voc2ind[en_char] = en_ind\n",
    "                en_ind2voc[en_ind] = en_char\n",
    "                en_ind += 1\n",
    "                \n",
    "    en_voc2ind[PAD] = en_ind\n",
    "    lang_voc2ind[PAD] = lang_ind\n",
    "    en_ind2voc[en_ind] = PAD\n",
    "    lang_ind2voc[lang_ind] = PAD\n",
    "    \n",
    "    return lang_voc2ind, lang_ind2voc, en_voc2ind, en_ind2voc"
   ]
  },
  {
   "cell_type": "code",
   "execution_count": 296,
   "id": "07efad95",
   "metadata": {},
   "outputs": [],
   "source": [
    "# Preprocessing functions\n",
    "def tokenize_data(data, voc2ind):\n",
    "    return [voc2ind[char] for char in data]\n",
    "\n",
    "def detokenize_and_depad_data(data, ind2voc, pad_val=0):\n",
    "    res = []\n",
    "    for ind in data:\n",
    "        if ind.item() == pad_val:\n",
    "            break\n",
    "        res.append(ind2voc[ind.item()])\n",
    "    return res\n",
    "\n",
    "def pad_data(data, seq_len, pad_val=0):\n",
    "    for _ in range(len(data), seq_len):\n",
    "        data.append(pad_val)\n",
    "    return data"
   ]
  },
  {
   "cell_type": "code",
   "execution_count": 297,
   "id": "bfcc2098",
   "metadata": {},
   "outputs": [],
   "source": [
    "class TransliterateDataset(torch.utils.data.Dataset):\n",
    "    \n",
    "    def __init__(self, data, lang_voc2ind, en_voc2ind, seq_len):\n",
    "        super(TransliterateDataset, self).__init__()\n",
    "        \n",
    "        # Tokenize and pad data\n",
    "        lang_data = []\n",
    "        en_data = []\n",
    "        for lang, en in data:\n",
    "            lang_tokens = tokenize_data(lang, lang_voc2ind)\n",
    "            lang_data.append(pad_data(lang_tokens, seq_len, len(lang_voc2ind) - 1))\n",
    "            en_tokens = tokenize_data(en, en_voc2ind)\n",
    "            en_data.append(pad_data(en_tokens, seq_len, len(en_voc2ind) - 1))\n",
    "            \n",
    "        self.language_data = lang_data\n",
    "        self.english_data = en_data\n",
    "        self.sequence_length = seq_len\n",
    "\n",
    "    def __len__(self):\n",
    "        return len(self.english_data)\n",
    "        \n",
    "    def __getitem__(self, idx):\n",
    "        # Return the data and label at idx\n",
    "        return torch.LongTensor(self.english_data[idx]), torch.LongTensor(self.language_data[idx])\n",
    "    \n",
    "    def get_random_sample(self):\n",
    "        return self.__getitem__(np.random.randint(self.__len__()))"
   ]
  },
  {
   "cell_type": "code",
   "execution_count": 298,
   "id": "e150ff19",
   "metadata": {},
   "outputs": [],
   "source": [
    "class TransliterateNet(nn.Module):\n",
    "    \n",
    "    def __init__(self, en_vocab_size, lang_vocab_size, feature_size):\n",
    "        super(TransliterateNet, self).__init__()\n",
    "        self.en_vocab_size = en_vocab_size\n",
    "        self.lang_vocab_size = lang_vocab_size\n",
    "        self.feature_size = feature_size\n",
    "\n",
    "        self.encoder = nn.Embedding(self.en_vocab_size, self.feature_size)\n",
    "        self.rnn = nn.GRU(self.feature_size, self.feature_size, num_layers = 2, batch_first=True)\n",
    "        self.decoder = nn.Linear(self.feature_size, self.lang_vocab_size)\n",
    "        \n",
    "        #self.decoder.weight = self.encoder.weight\n",
    "        #self.decoder.bias.data.zero_()\n",
    "        \n",
    "        self.best_accuracy = -1\n",
    "    \n",
    "    def forward(self, x, hidden_state=None):\n",
    "        x = self.encoder(x)\n",
    "        x, hidden_state = self.rnn(x, hidden_state)\n",
    "        x = self.decoder(x)\n",
    "        return x, hidden_state\n",
    "\n",
    "    # This defines the function that gives a probability distribution and implements the temperature computation.\n",
    "    def inference(self, x, hidden_state=None, temperature=1):\n",
    "        x = x.view(-1, 1)\n",
    "        x, hidden_state = self.forward(x, hidden_state)\n",
    "        x = x.view(1, -1)\n",
    "        x = x / max(temperature, 1e-20)\n",
    "        x = F.softmax(x, dim=1)\n",
    "        return x, hidden_state\n",
    "\n",
    "    # Predefined loss function\n",
    "    def loss(self, prediction, label, reduction='mean'):\n",
    "        loss_val = F.cross_entropy(prediction.view(-1, self.lang_vocab_size), label.view(-1), reduction=reduction)\n",
    "        return loss_val\n",
    "\n",
    "    # Saves the current model\n",
    "    def save_model(self, file_path, num_to_keep=1):\n",
    "        pt_util.save(self, file_path, num_to_keep)\n",
    "\n",
    "    # Saves the best model so far\n",
    "    def save_best_model(self, accuracy, file_path, num_to_keep=1):\n",
    "        if accuracy > self.best_accuracy:\n",
    "            self.save_model(file_path, num_to_keep)\n",
    "            self.best_accuracy = accuracy\n",
    "\n",
    "    def load_model(self, file_path):\n",
    "        pt_util.restore(self, file_path)\n",
    "\n",
    "    def load_last_model(self, dir_path):\n",
    "        return pt_util.restore_latest(self, dir_path)"
   ]
  },
  {
   "cell_type": "code",
   "execution_count": 1,
   "id": "ae5bec02",
   "metadata": {},
   "outputs": [],
   "source": [
    "def repackage_hidden(h):\n",
    "    # Wraps hidden states in new Tensors, to detach them from their history\n",
    "    if isinstance(h, torch.Tensor):\n",
    "        return h.detach()\n",
    "    else:\n",
    "        return tuple(repackage_hidden(v) for v in h)\n",
    "\n",
    "def train(model, device, optimizer, train_loader, lr, epoch, log_interval):\n",
    "    model.train()\n",
    "    losses = []\n",
    "    hidden = None\n",
    "    for batch_idx, (data, label) in enumerate(tqdm.tqdm(train_loader)):\n",
    "        data, label = data.to(device), label.to(device)\n",
    "        # Separates the hidden state across batches.\n",
    "        # Otherwise the backward would try to go all the way to the beginning every time\n",
    "        if hidden is not None:\n",
    "            hidden = repackage_hidden(hidden)\n",
    "        optimizer.zero_grad()\n",
    "        output, hidden = model(data)\n",
    "        pred = output.max(-1)[1]\n",
    "        loss = model.loss(output, label)\n",
    "        losses.append(loss.item())\n",
    "        loss.backward()\n",
    "        optimizer.step()\n",
    "        if batch_idx % log_interval == 0:\n",
    "            print('Train Epoch: {} [{}/{} ({:.0f}%)]\\tLoss: {:.6f}'.format(\n",
    "                epoch, batch_idx * len(data), len(train_loader.dataset),\n",
    "                100. * batch_idx / len(train_loader), loss.item()))\n",
    "    return np.mean(losses)\n",
    "\n",
    "\n",
    "def test(model, device, test_loader, en_ind2voc, lang_ind2voc):\n",
    "    model.eval()\n",
    "    test_loss = 0\n",
    "    correct = 0\n",
    "\n",
    "    with torch.no_grad():\n",
    "        hidden = None\n",
    "        for batch_idx, (data, label) in enumerate(test_loader):\n",
    "            data, label = data.to(device), label.to(device)\n",
    "            output, hidden = model(data, hidden)\n",
    "            test_loss += model.loss(output, label, reduction='mean').item()\n",
    "            pred = output.max(-1)[1]\n",
    "            correct_mask = pred.eq(label.view_as(pred))\n",
    "            num_correct = correct_mask.sum().item()\n",
    "            correct += num_correct\n",
    "            # Comment this out to avoid printing test results\n",
    "            if batch_idx % 10 == 0:\n",
    "                print('Input\\t%s\\nGT\\t%s\\npred\\t%s\\n\\n' % (\n",
    "                    detokenize_and_depad_data(data[0], en_ind2voc, len(en_ind2voc) - 1),\n",
    "                    detokenize_and_depad_data(label[0], lang_ind2voc, len(lang_ind2voc) - 1),\n",
    "                    detokenize_and_depad_data(pred[0], lang_ind2voc, len(lang_ind2voc) - 1)))\n",
    "\n",
    "    test_loss /= len(test_loader)\n",
    "    test_accuracy = 100. * correct / (len(test_loader.dataset) * test_loader.dataset.sequence_length)\n",
    "\n",
    "    print('\\nTest set: Average loss: {:.4f}, Accuracy: {}/{} ({:.0f}%)\\n'.format(\n",
    "        test_loss, correct, len(test_loader.dataset) * test_loader.dataset.sequence_length,\n",
    "        100. * correct / (len(test_loader.dataset) * test_loader.dataset.sequence_length)))\n",
    "    return test_loss, test_accuracy"
   ]
  },
  {
   "cell_type": "code",
   "execution_count": null,
   "id": "d7d4db38",
   "metadata": {},
   "outputs": [
    {
     "name": "stdout",
     "output_type": "stream",
     "text": [
      "Using device cpu\n",
      "num workers: 48\n",
      "Input\t[]\n",
      "GT\t[]\n",
      "pred\t['ஜ', 'ஜ', 'ஜ', 'ங', 'ஜ', 'ஜ', 'ஜ', 'ஜ', 'ம', 'ம', 'ம', 'ம', 'ம', 'ம', 'ம', 'ம', 'ம', 'ம', 'ம', 'ம', 'ம', 'ம', 'ம', 'ம', 'ம', 'ம', 'ம', 'ம', 'ம', 'ம']\n",
      "\n",
      "\n",
      "Input\t['n', 'e', 't', 'r', 'i']\n",
      "GT\t['ந', 'ெ', 'ற', '்', 'ற', 'ி']\n",
      "pred\t['ம', 'ண', 'ண', 'ங', 'ங', 'ஜ', 'ஜ', 'ஜ', 'ஜ', 'ஜ', 'ம', 'ம', 'ம', 'ம', 'ம', 'ம', 'ம', 'ம', 'ம', 'ம', 'ம', 'ம', 'ம', 'ம', 'ம', 'ம', 'ம', 'ம', 'ம', 'ம']\n",
      "\n",
      "\n",
      "Input\t['k', 'a', 'a', 'r', 'a', 'n', 'a', 't', 't', 'a', 'i', 'p']\n",
      "GT\t['க', 'ா', 'ர', 'ண', 'த', '்', 'த', 'ை', 'ப', '்']\n",
      "pred\t['ம', 'ஜ', 'ஜ', 'ஜ', 'ஜ', 'ங', 'ஹ', 'ஹ', 'ஹ', 'ஹ', 'ஜ', 'ஜ', 'ஜ', 'ஜ', 'ஜ', 'ஜ', 'ம', 'ம', 'ம', 'ம', 'ம', 'ம', 'ம', 'ம', 'ம', 'ம', 'ம', 'ம', 'ம', 'ம']\n",
      "\n",
      "\n",
      "Input\t['v', 'a', 'a', 'g', 'a', 'n', 'a']\n",
      "GT\t['வ', 'ா', 'க', 'ன']\n",
      "pred\t['ம', 'ம', 'ஜ', 'ஹ', 'ஹ', 'ஹ', 'ஹ', 'ஜ', 'ஜ', 'ஜ', 'ஜ', 'ஜ', 'ஜ', 'ம', 'ம', 'ம', 'ம', 'ம', 'ம', 'ம', 'ம', 'ம', 'ம', 'ம', 'ம', 'ம', 'ம', 'ம', 'ம', 'ம']\n",
      "\n",
      "\n",
      "\n",
      "Test set: Average loss: 3.8472, Accuracy: 674/239760 (0%)\n",
      "\n"
     ]
    },
    {
     "name": "stderr",
     "output_type": "stream",
     "text": [
      "  1%|▏         | 1/75 [00:00<00:13,  5.50it/s]"
     ]
    },
    {
     "name": "stdout",
     "output_type": "stream",
     "text": [
      "Train Epoch: 0 [0/38723 (0%)]\tLoss: 3.858480\n"
     ]
    },
    {
     "name": "stderr",
     "output_type": "stream",
     "text": [
      " 16%|█▌        | 12/75 [00:02<00:11,  5.43it/s]"
     ]
    },
    {
     "name": "stdout",
     "output_type": "stream",
     "text": [
      "Train Epoch: 0 [5120/38723 (13%)]\tLoss: 2.820517\n"
     ]
    },
    {
     "name": "stderr",
     "output_type": "stream",
     "text": [
      " 29%|██▉       | 22/75 [00:04<00:10,  5.26it/s]"
     ]
    },
    {
     "name": "stdout",
     "output_type": "stream",
     "text": [
      "Train Epoch: 0 [10240/38723 (27%)]\tLoss: 2.864334\n"
     ]
    },
    {
     "name": "stderr",
     "output_type": "stream",
     "text": [
      " 43%|████▎     | 32/75 [00:05<00:07,  5.78it/s]"
     ]
    },
    {
     "name": "stdout",
     "output_type": "stream",
     "text": [
      "Train Epoch: 0 [15360/38723 (40%)]\tLoss: 2.938934\n"
     ]
    },
    {
     "name": "stderr",
     "output_type": "stream",
     "text": [
      " 56%|█████▌    | 42/75 [00:07<00:05,  5.59it/s]"
     ]
    },
    {
     "name": "stdout",
     "output_type": "stream",
     "text": [
      "Train Epoch: 0 [20480/38723 (53%)]\tLoss: 2.631716\n"
     ]
    },
    {
     "name": "stderr",
     "output_type": "stream",
     "text": [
      " 69%|██████▉   | 52/75 [00:09<00:04,  5.73it/s]"
     ]
    },
    {
     "name": "stdout",
     "output_type": "stream",
     "text": [
      "Train Epoch: 0 [25600/38723 (67%)]\tLoss: 2.411434\n"
     ]
    },
    {
     "name": "stderr",
     "output_type": "stream",
     "text": [
      " 83%|████████▎ | 62/75 [00:11<00:02,  5.53it/s]"
     ]
    },
    {
     "name": "stdout",
     "output_type": "stream",
     "text": [
      "Train Epoch: 0 [30720/38723 (80%)]\tLoss: 2.624771\n"
     ]
    },
    {
     "name": "stderr",
     "output_type": "stream",
     "text": [
      " 96%|█████████▌| 72/75 [00:13<00:00,  5.28it/s]"
     ]
    },
    {
     "name": "stdout",
     "output_type": "stream",
     "text": [
      "Train Epoch: 0 [35840/38723 (93%)]\tLoss: 2.469128\n"
     ]
    },
    {
     "name": "stderr",
     "output_type": "stream",
     "text": [
      "100%|██████████| 75/75 [00:13<00:00,  5.51it/s]\n"
     ]
    },
    {
     "name": "stdout",
     "output_type": "stream",
     "text": [
      "Input\t[]\n",
      "GT\t[]\n",
      "pred\t['்', 'ா', '்', 'ம', '்', '்', '்', '்', '்', '்', '்', '்', '்', '்', '்', '்', '்', '்', '்', '்', '்', '்', '்', '்', '்', 'ம', 'ம', 'ம', 'ம', 'ம']\n",
      "\n",
      "\n",
      "Input\t['n', 'e', 't', 'r', 'i']\n",
      "GT\t['ந', 'ெ', 'ற', '்', 'ற', 'ி']\n",
      "pred\t['்', 'ெ', '்', '்', 'ி', 'ி', '்', '்', '்', '்', '்', '்', '்', '்', '்', '்', '்', '்', '்', '்', '்', '்', '்', '்', '்', '்', '்', '்', '்', '்']\n",
      "\n",
      "\n",
      "Input\t['k', 'a', 'a', 'r', 'a', 'n', 'a', 't', 't', 'a', 'i', 'p']\n",
      "GT\t['க', 'ா', 'ர', 'ண', 'த', '்', 'த', 'ை', 'ப', '்']\n",
      "pred\t['்', 'ா', 'ா', '்', '்', '்', '்', '்', '்', '்', 'ி', '்', '்', '்', '்', '்', '்', '்', '்', '்', '்', '்', '்', '்', '்', '்', '்', '்', '்', '்']\n",
      "\n",
      "\n",
      "Input\t['v', 'a', 'a', 'g', 'a', 'n', 'a']\n",
      "GT\t['வ', 'ா', 'க', 'ன']\n",
      "pred\t['்', 'ா', 'ா', '்', '்', '்', '்', '்', '்', '்', '்', '்', '்', '்', '்', '்', '்', '்', '்', '்', '்', '்', '்', '்', '்', '்', '்', '்', '்', '்']\n",
      "\n",
      "\n",
      "\n",
      "Test set: Average loss: 2.6534, Accuracy: 18196/239760 (8%)\n",
      "\n"
     ]
    },
    {
     "name": "stderr",
     "output_type": "stream",
     "text": [
      "  1%|▏         | 1/75 [00:00<00:12,  5.78it/s]"
     ]
    },
    {
     "name": "stdout",
     "output_type": "stream",
     "text": [
      "Train Epoch: 1 [0/38723 (0%)]\tLoss: 2.821139\n"
     ]
    },
    {
     "name": "stderr",
     "output_type": "stream",
     "text": [
      " 16%|█▌        | 12/75 [00:02<00:12,  5.25it/s]"
     ]
    },
    {
     "name": "stdout",
     "output_type": "stream",
     "text": [
      "Train Epoch: 1 [5120/38723 (13%)]\tLoss: 2.308460\n"
     ]
    },
    {
     "name": "stderr",
     "output_type": "stream",
     "text": [
      " 29%|██▉       | 22/75 [00:04<00:09,  5.46it/s]"
     ]
    },
    {
     "name": "stdout",
     "output_type": "stream",
     "text": [
      "Train Epoch: 1 [10240/38723 (27%)]\tLoss: 2.719246\n"
     ]
    },
    {
     "name": "stderr",
     "output_type": "stream",
     "text": [
      " 43%|████▎     | 32/75 [00:06<00:10,  4.13it/s]"
     ]
    },
    {
     "name": "stdout",
     "output_type": "stream",
     "text": [
      "Train Epoch: 1 [15360/38723 (40%)]\tLoss: 2.628161\n"
     ]
    },
    {
     "name": "stderr",
     "output_type": "stream",
     "text": [
      " 56%|█████▌    | 42/75 [00:08<00:05,  5.55it/s]"
     ]
    },
    {
     "name": "stdout",
     "output_type": "stream",
     "text": [
      "Train Epoch: 1 [20480/38723 (53%)]\tLoss: 2.487092\n"
     ]
    },
    {
     "name": "stderr",
     "output_type": "stream",
     "text": [
      " 69%|██████▉   | 52/75 [00:09<00:04,  5.63it/s]"
     ]
    },
    {
     "name": "stdout",
     "output_type": "stream",
     "text": [
      "Train Epoch: 1 [25600/38723 (67%)]\tLoss: 2.212328\n"
     ]
    },
    {
     "name": "stderr",
     "output_type": "stream",
     "text": [
      " 83%|████████▎ | 62/75 [00:11<00:02,  5.59it/s]"
     ]
    },
    {
     "name": "stdout",
     "output_type": "stream",
     "text": [
      "Train Epoch: 1 [30720/38723 (80%)]\tLoss: 2.435691\n"
     ]
    },
    {
     "name": "stderr",
     "output_type": "stream",
     "text": [
      " 96%|█████████▌| 72/75 [00:13<00:00,  5.70it/s]"
     ]
    },
    {
     "name": "stdout",
     "output_type": "stream",
     "text": [
      "Train Epoch: 1 [35840/38723 (93%)]\tLoss: 2.373961\n"
     ]
    },
    {
     "name": "stderr",
     "output_type": "stream",
     "text": [
      "100%|██████████| 75/75 [00:13<00:00,  5.41it/s]\n"
     ]
    },
    {
     "name": "stdout",
     "output_type": "stream",
     "text": [
      "Input\t[]\n",
      "GT\t[]\n",
      "pred\t['ப', 'ஆ', 'ர', 'ம', '்', '்', '்', '்', '்', '்', '்', '்', '்', '்', '்', '்', '்', '்', '்', '்', '்', '்', '்', '்', '்', '்', '்', '்', '்', '்']\n",
      "\n",
      "\n",
      "Input\t['n', 'e', 't', 'r', 'i']\n",
      "GT\t['ந', 'ெ', 'ற', '்', 'ற', 'ி']\n",
      "pred\t['்', '்', '்', '்', 'ி', 'ி', 'ி', 'ி', 'ி', 'ி', 'ி', 'ி', 'ி', 'ி', 'ி', 'ி', 'ி', 'ி', 'ி', 'ி', 'ி', 'ி', 'ி', 'ி', 'ி', 'ி', 'ி', 'ி', 'ி', 'ி']\n",
      "\n",
      "\n",
      "Input\t['k', 'a', 'a', 'r', 'a', 'n', 'a', 't', 't', 'a', 'i', 'p']\n",
      "GT\t['க', 'ா', 'ர', 'ண', 'த', '்', 'த', 'ை', 'ப', '்']\n",
      "pred\t['்', 'ா', '்', '்', '்', '்', '்', '்', '்', '்', '்', 'ப', '்', '்', '்', '்', '்', '்', '்', '்', '்', '்', '்', '்', '்', '்', '்', '்', '்', '்']\n",
      "\n",
      "\n",
      "Input\t['v', 'a', 'a', 'g', 'a', 'n', 'a']\n",
      "GT\t['வ', 'ா', 'க', 'ன']\n",
      "pred\t['வ', 'ா', '்', '்', '்', '்', '்', '்', '்', '்', '்', '்', '்', '்', '்', '்', '்', '்', '்', '்', '்', '்', '்', '்', '்', '்', '்', '்', '்', '்']\n",
      "\n",
      "\n",
      "\n",
      "Test set: Average loss: 2.6731, Accuracy: 18422/239760 (8%)\n",
      "\n"
     ]
    },
    {
     "name": "stderr",
     "output_type": "stream",
     "text": [
      "  1%|▏         | 1/75 [00:00<00:12,  5.92it/s]"
     ]
    },
    {
     "name": "stdout",
     "output_type": "stream",
     "text": [
      "Train Epoch: 2 [0/38723 (0%)]\tLoss: 2.423639\n"
     ]
    },
    {
     "name": "stderr",
     "output_type": "stream",
     "text": [
      " 16%|█▌        | 12/75 [00:02<00:11,  5.53it/s]"
     ]
    },
    {
     "name": "stdout",
     "output_type": "stream",
     "text": [
      "Train Epoch: 2 [5120/38723 (13%)]\tLoss: 2.142987\n"
     ]
    },
    {
     "name": "stderr",
     "output_type": "stream",
     "text": [
      " 29%|██▉       | 22/75 [00:03<00:09,  5.60it/s]"
     ]
    },
    {
     "name": "stdout",
     "output_type": "stream",
     "text": [
      "Train Epoch: 2 [10240/38723 (27%)]\tLoss: 2.595984\n"
     ]
    },
    {
     "name": "stderr",
     "output_type": "stream",
     "text": [
      " 43%|████▎     | 32/75 [00:05<00:07,  5.70it/s]"
     ]
    },
    {
     "name": "stdout",
     "output_type": "stream",
     "text": [
      "Train Epoch: 2 [15360/38723 (40%)]\tLoss: 2.471978\n"
     ]
    },
    {
     "name": "stderr",
     "output_type": "stream",
     "text": [
      " 56%|█████▌    | 42/75 [00:07<00:05,  5.63it/s]"
     ]
    },
    {
     "name": "stdout",
     "output_type": "stream",
     "text": [
      "Train Epoch: 2 [20480/38723 (53%)]\tLoss: 2.359979\n"
     ]
    },
    {
     "name": "stderr",
     "output_type": "stream",
     "text": [
      " 69%|██████▉   | 52/75 [00:09<00:04,  5.47it/s]"
     ]
    },
    {
     "name": "stdout",
     "output_type": "stream",
     "text": [
      "Train Epoch: 2 [25600/38723 (67%)]\tLoss: 2.134584\n"
     ]
    },
    {
     "name": "stderr",
     "output_type": "stream",
     "text": [
      " 83%|████████▎ | 62/75 [00:11<00:02,  5.28it/s]"
     ]
    },
    {
     "name": "stdout",
     "output_type": "stream",
     "text": [
      "Train Epoch: 2 [30720/38723 (80%)]\tLoss: 2.369963\n"
     ]
    },
    {
     "name": "stderr",
     "output_type": "stream",
     "text": [
      " 96%|█████████▌| 72/75 [00:13<00:00,  5.45it/s]"
     ]
    },
    {
     "name": "stdout",
     "output_type": "stream",
     "text": [
      "Train Epoch: 2 [35840/38723 (93%)]\tLoss: 2.276266\n"
     ]
    },
    {
     "name": "stderr",
     "output_type": "stream",
     "text": [
      "100%|██████████| 75/75 [00:13<00:00,  5.49it/s]\n"
     ]
    },
    {
     "name": "stdout",
     "output_type": "stream",
     "text": [
      "Input\t[]\n",
      "GT\t[]\n",
      "pred\t['ப', 'ஆ', '்', 'ம', '்', '்', '்', '்', '்', '்', '்', '்', '்', '்', '்', '்', '்', '்', '்', '்', '்', '்', '்', '்', '்', '்', '்', '்', '்', '்']\n",
      "\n",
      "\n",
      "Input\t['n', 'e', 't', 'r', 'i']\n",
      "GT\t['ந', 'ெ', 'ற', '்', 'ற', 'ி']\n",
      "pred\t['்', '்', '்', '்', 'ி', 'ி', 'ி', 'ி', 'ி', 'ி', 'ி', 'ி', 'ி', 'ி', 'ி', 'ி', 'ி', 'ி', 'ி', 'ி', 'ி', 'ி', 'ி', 'ி', 'ி', 'ி', 'ி', 'ி', 'ி', 'ி']\n",
      "\n",
      "\n",
      "Input\t['k', 'a', 'a', 'r', 'a', 'n', 'a', 't', 't', 'a', 'i', 'p']\n",
      "GT\t['க', 'ா', 'ர', 'ண', 'த', '்', 'த', 'ை', 'ப', '்']\n",
      "pred\t['்', 'ா', 'ா', '்', '்', 'க', '்', 'ி', '்', '்', 'ய', 'ப', '்', '்', '்', '்', '்', '்', '்', '்', '்', '்', '்', '்', '்', '்', '்', '்', '்', '்']\n",
      "\n",
      "\n",
      "Input\t['v', 'a', 'a', 'g', 'a', 'n', 'a']\n",
      "GT\t['வ', 'ா', 'க', 'ன']\n",
      "pred\t['்', 'ா', 'ா', '்', '்', '்', '்', '்', '்', '்', '்', '்', '்', '்', '்', '்', '்', '்', '்', '்', '்', '்', '்', '்', '்', '்', '்', '்', '்', '்']\n",
      "\n",
      "\n",
      "\n",
      "Test set: Average loss: 2.7684, Accuracy: 18683/239760 (8%)\n",
      "\n"
     ]
    },
    {
     "name": "stderr",
     "output_type": "stream",
     "text": [
      "  1%|▏         | 1/75 [00:00<00:13,  5.61it/s]"
     ]
    },
    {
     "name": "stdout",
     "output_type": "stream",
     "text": [
      "Train Epoch: 3 [0/38723 (0%)]\tLoss: 2.335620\n"
     ]
    },
    {
     "name": "stderr",
     "output_type": "stream",
     "text": [
      " 16%|█▌        | 12/75 [00:02<00:11,  5.44it/s]"
     ]
    },
    {
     "name": "stdout",
     "output_type": "stream",
     "text": [
      "Train Epoch: 3 [5120/38723 (13%)]\tLoss: 1.991194\n"
     ]
    },
    {
     "name": "stderr",
     "output_type": "stream",
     "text": [
      " 29%|██▉       | 22/75 [00:03<00:09,  5.71it/s]"
     ]
    },
    {
     "name": "stdout",
     "output_type": "stream",
     "text": [
      "Train Epoch: 3 [10240/38723 (27%)]\tLoss: 2.573151\n"
     ]
    },
    {
     "name": "stderr",
     "output_type": "stream",
     "text": [
      " 43%|████▎     | 32/75 [00:05<00:07,  5.41it/s]"
     ]
    },
    {
     "name": "stdout",
     "output_type": "stream",
     "text": [
      "Train Epoch: 3 [15360/38723 (40%)]\tLoss: 2.426244\n"
     ]
    },
    {
     "name": "stderr",
     "output_type": "stream",
     "text": [
      " 56%|█████▌    | 42/75 [00:07<00:05,  5.57it/s]"
     ]
    },
    {
     "name": "stdout",
     "output_type": "stream",
     "text": [
      "Train Epoch: 3 [20480/38723 (53%)]\tLoss: 2.299864\n"
     ]
    },
    {
     "name": "stderr",
     "output_type": "stream",
     "text": [
      " 69%|██████▉   | 52/75 [00:09<00:04,  5.32it/s]"
     ]
    },
    {
     "name": "stdout",
     "output_type": "stream",
     "text": [
      "Train Epoch: 3 [25600/38723 (67%)]\tLoss: 2.042185\n"
     ]
    },
    {
     "name": "stderr",
     "output_type": "stream",
     "text": [
      " 83%|████████▎ | 62/75 [00:11<00:02,  5.79it/s]"
     ]
    },
    {
     "name": "stdout",
     "output_type": "stream",
     "text": [
      "Train Epoch: 3 [30720/38723 (80%)]\tLoss: 2.400589\n"
     ]
    },
    {
     "name": "stderr",
     "output_type": "stream",
     "text": [
      " 96%|█████████▌| 72/75 [00:12<00:00,  5.82it/s]"
     ]
    },
    {
     "name": "stdout",
     "output_type": "stream",
     "text": [
      "Train Epoch: 3 [35840/38723 (93%)]\tLoss: 2.306796\n"
     ]
    },
    {
     "name": "stderr",
     "output_type": "stream",
     "text": [
      "100%|██████████| 75/75 [00:13<00:00,  5.54it/s]\n"
     ]
    },
    {
     "name": "stdout",
     "output_type": "stream",
     "text": [
      "Input\t[]\n",
      "GT\t[]\n",
      "pred\t['ப', 'ப', 'ா', 'ம', '்', '்', '்', '்', '்', '்', '்', '்', '்', '்', '்', '்', '்', '்', '்', '்', '்', '்', '்', '்', '்', '்', '்', '்', '்', '்']\n",
      "\n",
      "\n",
      "Input\t['n', 'e', 't', 'r', 'i']\n",
      "GT\t['ந', 'ெ', 'ற', '்', 'ற', 'ி']\n",
      "pred\t['ன', 'ன', 'ன', 'ன', 'ன', 'ி', 'ி', 'ி', 'ி', 'ி', '்', 'ி', '்', '்', '்', '்', '்', '்', '்', '்', '்', '்', '்', '்', '்', '்', '்', '்', '்', '்']\n",
      "\n",
      "\n",
      "Input\t['k', 'a', 'a', 'r', 'a', 'n', 'a', 't', 't', 'a', 'i', 'p']\n",
      "GT\t['க', 'ா', 'ர', 'ண', 'த', '்', 'த', 'ை', 'ப', '்']\n",
      "pred\t['க', 'க', 'ய', '்', 'ய', 'க', 'ய', 'ி', 'ி', '்', 'ய', 'ப', '்', '்', '்', '்', '்', '்', '்', '்', '்', '்', '்', '்', '்', '்', '்', '்', '்', '்']\n",
      "\n",
      "\n",
      "Input\t['v', 'a', 'a', 'g', 'a', 'n', 'a']\n",
      "GT\t['வ', 'ா', 'க', 'ன']\n",
      "pred\t['வ', 'ா', 'ா', 'ா', 'ய', 'க', 'ய', 'ா', 'ா', 'ா', 'ா', '்', '்', '்', '்', '்', '்', '்', '்', '்', '்', '்', '்', '்', '்', '்', '்', '்', '்', '்']\n",
      "\n",
      "\n",
      "\n",
      "Test set: Average loss: 2.8712, Accuracy: 18040/239760 (8%)\n",
      "\n"
     ]
    },
    {
     "name": "stderr",
     "output_type": "stream",
     "text": [
      "  1%|▏         | 1/75 [00:00<00:12,  5.92it/s]"
     ]
    },
    {
     "name": "stdout",
     "output_type": "stream",
     "text": [
      "Train Epoch: 4 [0/38723 (0%)]\tLoss: 2.376456\n"
     ]
    },
    {
     "name": "stderr",
     "output_type": "stream",
     "text": [
      " 16%|█▌        | 12/75 [00:02<00:10,  5.82it/s]"
     ]
    },
    {
     "name": "stdout",
     "output_type": "stream",
     "text": [
      "Train Epoch: 4 [5120/38723 (13%)]\tLoss: 2.014029\n"
     ]
    },
    {
     "name": "stderr",
     "output_type": "stream",
     "text": [
      " 29%|██▉       | 22/75 [00:03<00:09,  5.49it/s]"
     ]
    },
    {
     "name": "stdout",
     "output_type": "stream",
     "text": [
      "Train Epoch: 4 [10240/38723 (27%)]\tLoss: 2.491916\n"
     ]
    },
    {
     "name": "stderr",
     "output_type": "stream",
     "text": [
      " 43%|████▎     | 32/75 [00:05<00:08,  5.15it/s]"
     ]
    },
    {
     "name": "stdout",
     "output_type": "stream",
     "text": [
      "Train Epoch: 4 [15360/38723 (40%)]\tLoss: 2.449735\n"
     ]
    },
    {
     "name": "stderr",
     "output_type": "stream",
     "text": [
      " 56%|█████▌    | 42/75 [00:07<00:06,  5.34it/s]"
     ]
    },
    {
     "name": "stdout",
     "output_type": "stream",
     "text": [
      "Train Epoch: 4 [20480/38723 (53%)]\tLoss: 2.236258\n"
     ]
    },
    {
     "name": "stderr",
     "output_type": "stream",
     "text": [
      " 69%|██████▉   | 52/75 [00:09<00:04,  5.49it/s]"
     ]
    },
    {
     "name": "stdout",
     "output_type": "stream",
     "text": [
      "Train Epoch: 4 [25600/38723 (67%)]\tLoss: 2.029114\n"
     ]
    },
    {
     "name": "stderr",
     "output_type": "stream",
     "text": [
      " 83%|████████▎ | 62/75 [00:11<00:02,  5.79it/s]"
     ]
    },
    {
     "name": "stdout",
     "output_type": "stream",
     "text": [
      "Train Epoch: 4 [30720/38723 (80%)]\tLoss: 2.226333\n"
     ]
    },
    {
     "name": "stderr",
     "output_type": "stream",
     "text": [
      " 96%|█████████▌| 72/75 [00:13<00:00,  5.62it/s]"
     ]
    },
    {
     "name": "stdout",
     "output_type": "stream",
     "text": [
      "Train Epoch: 4 [35840/38723 (93%)]\tLoss: 2.261808\n"
     ]
    },
    {
     "name": "stderr",
     "output_type": "stream",
     "text": [
      "100%|██████████| 75/75 [00:13<00:00,  5.48it/s]\n"
     ]
    },
    {
     "name": "stdout",
     "output_type": "stream",
     "text": [
      "Input\t[]\n",
      "GT\t[]\n",
      "pred\t['ப', 'ப', 'ி', 'ம', '்', '்', '்', '்', '்', '்', '்', '்', '்', '்', '்', '்', '்', '்', '்', '்', '்', '்', '்', '்', '்', '்', '்', '்', '்', '்']\n",
      "\n",
      "\n",
      "Input\t['n', 'e', 't', 'r', 'i']\n",
      "GT\t['ந', 'ெ', 'ற', '்', 'ற', 'ி']\n",
      "pred\t['்', 'ன', '்', 'ற', 'ி', 'ன', 'ி', 'ி', 'ி', 'ி', 'ி', 'ி', 'ி', 'ி', 'ி', 'ி', 'ி', 'ி', 'ி', 'ி', 'ி', 'ி', 'ி', 'ி', 'ி', 'ி', 'ி', 'ி', 'ி', '்']\n",
      "\n",
      "\n",
      "Input\t['k', 'a', 'a', 'r', 'a', 'n', 'a', 't', 't', 'a', 'i', 'p']\n",
      "GT\t['க', 'ா', 'ர', 'ண', 'த', '்', 'த', 'ை', 'ப', '்']\n",
      "pred\t['க', '்', '்', '்', '்', '்', '்', 'ி', 'ி', '்', 'ய', 'ப', '்', '்', '்', '்', '்', '்', '்', '்', '்', '்', '்', '்', '்', '்', '்', '்', '்', '்']\n",
      "\n",
      "\n",
      "Input\t['v', 'a', 'a', 'g', 'a', 'n', 'a']\n",
      "GT\t['வ', 'ா', 'க', 'ன']\n",
      "pred\t['வ', '்', '்', '்', '்', '்', '்', '்', '்', '்', '்', '்', '்', '்', '்', '்', '்', '்', '்', '்', '்', '்', '்', '்', '்', '்', '்', '்', '்', '்']\n",
      "\n",
      "\n",
      "\n",
      "Test set: Average loss: 2.9114, Accuracy: 18988/239760 (8%)\n",
      "\n"
     ]
    },
    {
     "name": "stderr",
     "output_type": "stream",
     "text": [
      "  1%|▏         | 1/75 [00:00<00:12,  6.12it/s]"
     ]
    },
    {
     "name": "stdout",
     "output_type": "stream",
     "text": [
      "Train Epoch: 5 [0/38723 (0%)]\tLoss: 2.125967\n"
     ]
    },
    {
     "name": "stderr",
     "output_type": "stream",
     "text": [
      " 16%|█▌        | 12/75 [00:02<00:11,  5.61it/s]"
     ]
    },
    {
     "name": "stdout",
     "output_type": "stream",
     "text": [
      "Train Epoch: 5 [5120/38723 (13%)]\tLoss: 1.886667\n"
     ]
    },
    {
     "name": "stderr",
     "output_type": "stream",
     "text": [
      " 29%|██▉       | 22/75 [00:04<00:09,  5.57it/s]"
     ]
    },
    {
     "name": "stdout",
     "output_type": "stream",
     "text": [
      "Train Epoch: 5 [10240/38723 (27%)]\tLoss: 2.449748\n"
     ]
    },
    {
     "name": "stderr",
     "output_type": "stream",
     "text": [
      " 43%|████▎     | 32/75 [00:05<00:07,  5.66it/s]"
     ]
    },
    {
     "name": "stdout",
     "output_type": "stream",
     "text": [
      "Train Epoch: 5 [15360/38723 (40%)]\tLoss: 2.397824\n"
     ]
    },
    {
     "name": "stderr",
     "output_type": "stream",
     "text": [
      " 56%|█████▌    | 42/75 [00:07<00:05,  5.58it/s]"
     ]
    },
    {
     "name": "stdout",
     "output_type": "stream",
     "text": [
      "Train Epoch: 5 [20480/38723 (53%)]\tLoss: 2.197926\n"
     ]
    },
    {
     "name": "stderr",
     "output_type": "stream",
     "text": [
      " 69%|██████▉   | 52/75 [00:09<00:04,  5.53it/s]"
     ]
    },
    {
     "name": "stdout",
     "output_type": "stream",
     "text": [
      "Train Epoch: 5 [25600/38723 (67%)]\tLoss: 1.882242\n"
     ]
    },
    {
     "name": "stderr",
     "output_type": "stream",
     "text": [
      " 83%|████████▎ | 62/75 [00:11<00:02,  5.76it/s]"
     ]
    },
    {
     "name": "stdout",
     "output_type": "stream",
     "text": [
      "Train Epoch: 5 [30720/38723 (80%)]\tLoss: 2.179115\n"
     ]
    },
    {
     "name": "stderr",
     "output_type": "stream",
     "text": [
      " 96%|█████████▌| 72/75 [00:13<00:00,  5.35it/s]"
     ]
    },
    {
     "name": "stdout",
     "output_type": "stream",
     "text": [
      "Train Epoch: 5 [35840/38723 (93%)]\tLoss: 2.151758\n"
     ]
    },
    {
     "name": "stderr",
     "output_type": "stream",
     "text": [
      "100%|██████████| 75/75 [00:13<00:00,  5.51it/s]\n"
     ]
    },
    {
     "name": "stdout",
     "output_type": "stream",
     "text": [
      "Input\t[]\n",
      "GT\t[]\n",
      "pred\t['ப', 'ப', 'ி', 'ம', '்', '்', '்', '்', '்', '்', '்', '்', '்', '்', '்', '்', '்', '்', '்', '்', '்', '்', '்', '்', '்', '்', '்', '்', '்', '்']\n",
      "\n",
      "\n",
      "Input\t['n', 'e', 't', 'r', 'i']\n",
      "GT\t['ந', 'ெ', 'ற', '்', 'ற', 'ி']\n",
      "pred\t['ன', 'ே', 'ற', '்', 'க', 'ி', 'ய', 'ி', '்', 'ி', '்', 'ி', '்', 'ி', '்', 'ி', 'ல', 'ி', 'ல', 'ி', 'ல', 'ி', 'ல', 'ி', 'ல', 'ி', 'ல', 'ி', 'ல', 'ி']\n",
      "\n",
      "\n",
      "Input\t['k', 'a', 'a', 'r', 'a', 'n', 'a', 't', 't', 'a', 'i', 'p']\n",
      "GT\t['க', 'ா', 'ர', 'ண', 'த', '்', 'த', 'ை', 'ப', '்']\n",
      "pred\t['க', 'ா', '்', '்', '்', 'ா', '்', 'ல', 'ி', '்', 'ய', 'ப', '்', '்', '்', '்', '்', '்', '்', '்', '்', '்', '்', '்', '்', '்', '்', '்', '்', '்']\n",
      "\n",
      "\n",
      "Input\t['v', 'a', 'a', 'g', 'a', 'n', 'a']\n",
      "GT\t['வ', 'ா', 'க', 'ன']\n",
      "pred\t['வ', 'ா', 'ா', 'ா', '்', 'க', '்', 'ா', 'ா', 'ா', 'ா', 'ா', 'ா', 'ா', 'ா', 'ா', 'ா', 'ா', 'ா', 'ா', 'ா', 'ா', 'ா', 'ா', 'ா', 'ா', 'ா', 'ா', 'ா', 'ா']\n",
      "\n",
      "\n",
      "\n",
      "Test set: Average loss: 2.9032, Accuracy: 19094/239760 (8%)\n",
      "\n"
     ]
    },
    {
     "name": "stderr",
     "output_type": "stream",
     "text": [
      "  1%|▏         | 1/75 [00:00<00:12,  5.89it/s]"
     ]
    },
    {
     "name": "stdout",
     "output_type": "stream",
     "text": [
      "Train Epoch: 6 [0/38723 (0%)]\tLoss: 2.070226\n"
     ]
    },
    {
     "name": "stderr",
     "output_type": "stream",
     "text": [
      " 16%|█▌        | 12/75 [00:02<00:11,  5.37it/s]"
     ]
    },
    {
     "name": "stdout",
     "output_type": "stream",
     "text": [
      "Train Epoch: 6 [5120/38723 (13%)]\tLoss: 1.760732\n"
     ]
    },
    {
     "name": "stderr",
     "output_type": "stream",
     "text": [
      " 29%|██▉       | 22/75 [00:04<00:09,  5.52it/s]"
     ]
    },
    {
     "name": "stdout",
     "output_type": "stream",
     "text": [
      "Train Epoch: 6 [10240/38723 (27%)]\tLoss: 2.461184\n"
     ]
    },
    {
     "name": "stderr",
     "output_type": "stream",
     "text": [
      " 43%|████▎     | 32/75 [00:05<00:08,  5.33it/s]"
     ]
    },
    {
     "name": "stdout",
     "output_type": "stream",
     "text": [
      "Train Epoch: 6 [15360/38723 (40%)]\tLoss: 2.331584\n"
     ]
    },
    {
     "name": "stderr",
     "output_type": "stream",
     "text": [
      " 56%|█████▌    | 42/75 [00:07<00:05,  5.74it/s]"
     ]
    },
    {
     "name": "stdout",
     "output_type": "stream",
     "text": [
      "Train Epoch: 6 [20480/38723 (53%)]\tLoss: 2.165351\n"
     ]
    },
    {
     "name": "stderr",
     "output_type": "stream",
     "text": [
      " 69%|██████▉   | 52/75 [00:09<00:04,  5.65it/s]"
     ]
    },
    {
     "name": "stdout",
     "output_type": "stream",
     "text": [
      "Train Epoch: 6 [25600/38723 (67%)]\tLoss: 1.835929\n"
     ]
    },
    {
     "name": "stderr",
     "output_type": "stream",
     "text": [
      " 83%|████████▎ | 62/75 [00:11<00:02,  5.48it/s]"
     ]
    },
    {
     "name": "stdout",
     "output_type": "stream",
     "text": [
      "Train Epoch: 6 [30720/38723 (80%)]\tLoss: 2.265953\n"
     ]
    },
    {
     "name": "stderr",
     "output_type": "stream",
     "text": [
      " 96%|█████████▌| 72/75 [00:13<00:00,  5.57it/s]"
     ]
    },
    {
     "name": "stdout",
     "output_type": "stream",
     "text": [
      "Train Epoch: 6 [35840/38723 (93%)]\tLoss: 2.171346\n"
     ]
    },
    {
     "name": "stderr",
     "output_type": "stream",
     "text": [
      "100%|██████████| 75/75 [00:13<00:00,  5.53it/s]\n"
     ]
    },
    {
     "name": "stdout",
     "output_type": "stream",
     "text": [
      "Input\t[]\n",
      "GT\t[]\n",
      "pred\t['ப', 'ா', '்', 'ம', '்', '்', '்', '்', '்', '்', '்', '்', '்', '்', '்', '்', '்', '்', '்', '்', '்', '்', '்', '்', '்', '்', '்', '்', '்', '்']\n",
      "\n",
      "\n",
      "Input\t['n', 'e', 't', 'r', 'i']\n",
      "GT\t['ந', 'ெ', 'ற', '்', 'ற', 'ி']\n",
      "pred\t['்', '்', '்', 'ற', '்', 'ி', 'ி', 'ி', 'ி', 'ி', 'ி', 'ி', 'ி', 'ி', 'ி', 'ி', 'ி', 'ர', 'ி', 'ர', 'ி', 'ர', 'ி', 'ர', 'ி', 'ர', 'ி', 'ர', 'ி', 'ர']\n",
      "\n",
      "\n",
      "Input\t['k', 'a', 'a', 'r', 'a', 'n', 'a', 't', 't', 'a', 'i', 'p']\n",
      "GT\t['க', 'ா', 'ர', 'ண', 'த', '்', 'த', 'ை', 'ப', '்']\n",
      "pred\t['க', '்', '்', '்', '்', 'க', '்', '்', 'த', '்', '்', '்', '்', '்', '்', '்', '்', '்', '்', '்', '்', '்', '்', '்', '்', '்', '்', '்', '்', '்']\n",
      "\n",
      "\n",
      "Input\t['v', 'a', 'a', 'g', 'a', 'n', 'a']\n",
      "GT\t['வ', 'ா', 'க', 'ன']\n",
      "pred\t['வ', '்', '்', '்', '்', 'க', '்', 'க', 'ா', 'ா', 'ா', 'ா', 'ா', 'ா', 'ா', 'ா', 'ா', 'ா', 'ா', 'ா', 'ா', 'ா', 'ா', 'ா', 'ா', 'ா', 'ா', 'ா', 'ா', 'ா']\n",
      "\n",
      "\n",
      "\n",
      "Test set: Average loss: 2.9568, Accuracy: 17876/239760 (7%)\n",
      "\n"
     ]
    },
    {
     "name": "stderr",
     "output_type": "stream",
     "text": [
      "  1%|▏         | 1/75 [00:00<00:13,  5.56it/s]"
     ]
    },
    {
     "name": "stdout",
     "output_type": "stream",
     "text": [
      "Train Epoch: 7 [0/38723 (0%)]\tLoss: 2.048019\n"
     ]
    },
    {
     "name": "stderr",
     "output_type": "stream",
     "text": [
      " 16%|█▌        | 12/75 [00:02<00:11,  5.58it/s]"
     ]
    },
    {
     "name": "stdout",
     "output_type": "stream",
     "text": [
      "Train Epoch: 7 [5120/38723 (13%)]\tLoss: 1.645682\n"
     ]
    },
    {
     "name": "stderr",
     "output_type": "stream",
     "text": [
      " 28%|██▊       | 21/75 [00:03<00:10,  5.09it/s]"
     ]
    },
    {
     "name": "stdout",
     "output_type": "stream",
     "text": [
      "Train Epoch: 7 [10240/38723 (27%)]\tLoss: 2.437017\n"
     ]
    },
    {
     "name": "stderr",
     "output_type": "stream",
     "text": [
      " 43%|████▎     | 32/75 [00:05<00:07,  5.46it/s]"
     ]
    },
    {
     "name": "stdout",
     "output_type": "stream",
     "text": [
      "Train Epoch: 7 [15360/38723 (40%)]\tLoss: 2.339839\n"
     ]
    },
    {
     "name": "stderr",
     "output_type": "stream",
     "text": [
      " 56%|█████▌    | 42/75 [00:07<00:05,  5.82it/s]"
     ]
    },
    {
     "name": "stdout",
     "output_type": "stream",
     "text": [
      "Train Epoch: 7 [20480/38723 (53%)]\tLoss: 2.110343\n"
     ]
    },
    {
     "name": "stderr",
     "output_type": "stream",
     "text": [
      " 68%|██████▊   | 51/75 [00:09<00:04,  5.79it/s]"
     ]
    },
    {
     "name": "stdout",
     "output_type": "stream",
     "text": [
      "Train Epoch: 7 [25600/38723 (67%)]\tLoss: 1.852154\n"
     ]
    },
    {
     "name": "stderr",
     "output_type": "stream",
     "text": [
      " 83%|████████▎ | 62/75 [00:11<00:02,  5.82it/s]"
     ]
    },
    {
     "name": "stdout",
     "output_type": "stream",
     "text": [
      "Train Epoch: 7 [30720/38723 (80%)]\tLoss: 2.285444\n"
     ]
    },
    {
     "name": "stderr",
     "output_type": "stream",
     "text": [
      " 96%|█████████▌| 72/75 [00:13<00:00,  5.32it/s]"
     ]
    },
    {
     "name": "stdout",
     "output_type": "stream",
     "text": [
      "Train Epoch: 7 [35840/38723 (93%)]\tLoss: 2.098676\n"
     ]
    },
    {
     "name": "stderr",
     "output_type": "stream",
     "text": [
      "100%|██████████| 75/75 [00:13<00:00,  5.53it/s]\n"
     ]
    },
    {
     "name": "stdout",
     "output_type": "stream",
     "text": [
      "Input\t[]\n",
      "GT\t[]\n",
      "pred\t['ப', 'ஆ', 'ர', '்', '்', '்', '்', '்', 'ம', 'ம', 'ம', 'ம', 'ம', 'ம', 'ம', 'ம', 'ம', 'ம', 'ம', 'ம', 'ம', 'ம', 'ம', 'ம', 'ம', 'ம', 'ம', 'ம', 'ம', 'ம']\n",
      "\n",
      "\n",
      "Input\t['n', 'e', 't', 'r', 'i']\n",
      "GT\t['ந', 'ெ', 'ற', '்', 'ற', 'ி']\n",
      "pred\t['்', '்', '்', '்', '்', '்', '்', '்', '்', '்', '்', '்', '்', '்', '்', '்', '்', '்', '்', '்', '்', '்', '்', '்', '்', '்', '்', '்', '்', '்']\n",
      "\n",
      "\n",
      "Input\t['k', 'a', 'a', 'r', 'a', 'n', 'a', 't', 't', 'a', 'i', 'p']\n",
      "GT\t['க', 'ா', 'ர', 'ண', 'த', '்', 'த', 'ை', 'ப', '்']\n",
      "pred\t['க', 'க', 'ா', '்', '்', '்', '்', '்', 'ட', '்', '்', '்', '்', '்', '்', '்', '்', '்', '்', '்', '்', '்', '்', '்', '்', '்', '்', '்', '்', '்']\n",
      "\n",
      "\n",
      "Input\t['v', 'a', 'a', 'g', 'a', 'n', 'a']\n",
      "GT\t['வ', 'ா', 'க', 'ன']\n",
      "pred\t['்', '்', 'ா', 'க', '்', '்', '்', 'ா', 'ா', 'ா', 'ா', 'ா', 'ா', 'ா', 'ா', 'ா', 'ா', 'ா', 'ா', 'ா', 'ா', 'ா', 'ா', 'ா', 'ா', 'ா', 'ா', 'ா', 'ா', 'ா']\n",
      "\n",
      "\n",
      "\n",
      "Test set: Average loss: 2.9075, Accuracy: 20028/239760 (8%)\n",
      "\n"
     ]
    },
    {
     "name": "stderr",
     "output_type": "stream",
     "text": [
      "  1%|▏         | 1/75 [00:00<00:12,  6.03it/s]"
     ]
    },
    {
     "name": "stdout",
     "output_type": "stream",
     "text": [
      "Train Epoch: 8 [0/38723 (0%)]\tLoss: 1.901402\n"
     ]
    },
    {
     "name": "stderr",
     "output_type": "stream",
     "text": [
      " 16%|█▌        | 12/75 [00:02<00:10,  5.78it/s]"
     ]
    },
    {
     "name": "stdout",
     "output_type": "stream",
     "text": [
      "Train Epoch: 8 [5120/38723 (13%)]\tLoss: 1.705714\n"
     ]
    },
    {
     "name": "stderr",
     "output_type": "stream",
     "text": [
      " 29%|██▉       | 22/75 [00:03<00:09,  5.56it/s]"
     ]
    },
    {
     "name": "stdout",
     "output_type": "stream",
     "text": [
      "Train Epoch: 8 [10240/38723 (27%)]\tLoss: 2.382361\n"
     ]
    },
    {
     "name": "stderr",
     "output_type": "stream",
     "text": [
      " 43%|████▎     | 32/75 [00:05<00:07,  5.45it/s]"
     ]
    },
    {
     "name": "stdout",
     "output_type": "stream",
     "text": [
      "Train Epoch: 8 [15360/38723 (40%)]\tLoss: 2.312261\n"
     ]
    },
    {
     "name": "stderr",
     "output_type": "stream",
     "text": [
      " 56%|█████▌    | 42/75 [00:07<00:05,  5.64it/s]"
     ]
    },
    {
     "name": "stdout",
     "output_type": "stream",
     "text": [
      "Train Epoch: 8 [20480/38723 (53%)]\tLoss: 2.178290\n"
     ]
    },
    {
     "name": "stderr",
     "output_type": "stream",
     "text": [
      " 69%|██████▉   | 52/75 [00:09<00:04,  5.46it/s]"
     ]
    },
    {
     "name": "stdout",
     "output_type": "stream",
     "text": [
      "Train Epoch: 8 [25600/38723 (67%)]\tLoss: 1.798060\n"
     ]
    },
    {
     "name": "stderr",
     "output_type": "stream",
     "text": [
      " 83%|████████▎ | 62/75 [00:11<00:02,  5.44it/s]"
     ]
    },
    {
     "name": "stdout",
     "output_type": "stream",
     "text": [
      "Train Epoch: 8 [30720/38723 (80%)]\tLoss: 2.157295\n"
     ]
    },
    {
     "name": "stderr",
     "output_type": "stream",
     "text": [
      " 96%|█████████▌| 72/75 [00:12<00:00,  5.81it/s]"
     ]
    },
    {
     "name": "stdout",
     "output_type": "stream",
     "text": [
      "Train Epoch: 8 [35840/38723 (93%)]\tLoss: 2.056757\n"
     ]
    },
    {
     "name": "stderr",
     "output_type": "stream",
     "text": [
      "100%|██████████| 75/75 [00:13<00:00,  5.57it/s]\n"
     ]
    },
    {
     "name": "stdout",
     "output_type": "stream",
     "text": [
      "Input\t[]\n",
      "GT\t[]\n",
      "pred\t['ப', 'ப', 'ர', 'ம', '்', '்', '்', '்', '்', '்', '்', '்', '்', '்', '்', '்', '்', '்', '்', '்', '்', '்', '்', '்', '்', '்', '்', '்', '்', '்']\n",
      "\n",
      "\n",
      "Input\t['n', 'e', 't', 'r', 'i']\n",
      "GT\t['ந', 'ெ', 'ற', '்', 'ற', 'ி']\n",
      "pred\t['்', 'ர', '்', 'ற', 'ி', 'ர', 'ி', 'ர', 'ி', 'ி', 'ி', 'ி', 'ி', 'ி', 'ி', 'ி', 'ி', 'ி', 'ி', '்', 'ி', '்', 'ி', '்', 'ி', '்', 'ி', '்', 'ி', '்']\n",
      "\n",
      "\n",
      "Input\t['k', 'a', 'a', 'r', 'a', 'n', 'a', 't', 't', 'a', 'i', 'p']\n",
      "GT\t['க', 'ா', 'ர', 'ண', 'த', '்', 'த', 'ை', 'ப', '்']\n",
      "pred\t['க', 'ா', 'ா', '்', '்', 'ன', 'க', '்', 'த', 'ன', 'ய', '்', '்', '்', '்', '்', '்', '்', '்', '்', '்', '்', '்', '்', '்', '்', '்', '்', '்', '்']\n",
      "\n",
      "\n",
      "Input\t['v', 'a', 'a', 'g', 'a', 'n', 'a']\n",
      "GT\t['வ', 'ா', 'க', 'ன']\n",
      "pred\t['வ', 'ா', 'ா', 'க', 'க', '்', '்', 'ா', 'ா', 'ா', 'ா', 'ா', 'ா', 'ா', 'ா', 'ா', 'ா', 'ா', 'ா', 'ா', 'ா', 'ா', 'ா', '்', '்', '்', '்', '்', '்', '்']\n",
      "\n",
      "\n",
      "\n",
      "Test set: Average loss: 3.0335, Accuracy: 18117/239760 (8%)\n",
      "\n"
     ]
    },
    {
     "name": "stderr",
     "output_type": "stream",
     "text": [
      "  1%|▏         | 1/75 [00:00<00:12,  5.76it/s]"
     ]
    },
    {
     "name": "stdout",
     "output_type": "stream",
     "text": [
      "Train Epoch: 9 [0/38723 (0%)]\tLoss: 1.929941\n"
     ]
    },
    {
     "name": "stderr",
     "output_type": "stream",
     "text": [
      " 16%|█▌        | 12/75 [00:03<00:13,  4.78it/s]"
     ]
    },
    {
     "name": "stdout",
     "output_type": "stream",
     "text": [
      "Train Epoch: 9 [5120/38723 (13%)]\tLoss: 1.778678\n"
     ]
    },
    {
     "name": "stderr",
     "output_type": "stream",
     "text": [
      " 29%|██▉       | 22/75 [00:05<00:09,  5.67it/s]"
     ]
    },
    {
     "name": "stdout",
     "output_type": "stream",
     "text": [
      "Train Epoch: 9 [10240/38723 (27%)]\tLoss: 2.456371\n"
     ]
    },
    {
     "name": "stderr",
     "output_type": "stream",
     "text": [
      " 43%|████▎     | 32/75 [00:06<00:07,  5.65it/s]"
     ]
    },
    {
     "name": "stdout",
     "output_type": "stream",
     "text": [
      "Train Epoch: 9 [15360/38723 (40%)]\tLoss: 2.337572\n"
     ]
    },
    {
     "name": "stderr",
     "output_type": "stream",
     "text": [
      " 56%|█████▌    | 42/75 [00:08<00:06,  5.45it/s]"
     ]
    },
    {
     "name": "stdout",
     "output_type": "stream",
     "text": [
      "Train Epoch: 9 [20480/38723 (53%)]\tLoss: 2.160844\n"
     ]
    },
    {
     "name": "stderr",
     "output_type": "stream",
     "text": [
      " 69%|██████▉   | 52/75 [00:10<00:04,  5.55it/s]"
     ]
    },
    {
     "name": "stdout",
     "output_type": "stream",
     "text": [
      "Train Epoch: 9 [25600/38723 (67%)]\tLoss: 1.850706\n"
     ]
    },
    {
     "name": "stderr",
     "output_type": "stream",
     "text": [
      " 81%|████████▏ | 61/75 [00:12<00:02,  5.63it/s]"
     ]
    },
    {
     "name": "stdout",
     "output_type": "stream",
     "text": [
      "Train Epoch: 9 [30720/38723 (80%)]\tLoss: 2.120937\n"
     ]
    },
    {
     "name": "stderr",
     "output_type": "stream",
     "text": [
      " 96%|█████████▌| 72/75 [00:14<00:00,  5.60it/s]"
     ]
    },
    {
     "name": "stdout",
     "output_type": "stream",
     "text": [
      "Train Epoch: 9 [35840/38723 (93%)]\tLoss: 2.203630\n"
     ]
    },
    {
     "name": "stderr",
     "output_type": "stream",
     "text": [
      "100%|██████████| 75/75 [00:14<00:00,  5.06it/s]\n"
     ]
    },
    {
     "name": "stdout",
     "output_type": "stream",
     "text": [
      "Input\t[]\n",
      "GT\t[]\n",
      "pred\t['ப', 'ா', 'ர', 'ம', '்', 'ம', '்', '்', '்', '்', '்', '்', '்', '்', '்', '்', '்', '்', '்', '்', '்', '்', '்', '்', '்', '்', '்', '்', '்', '்']\n",
      "\n",
      "\n",
      "Input\t['n', 'e', 't', 'r', 'i']\n",
      "GT\t['ந', 'ெ', 'ற', '்', 'ற', 'ி']\n",
      "pred\t['்', 'ன', '்', 'ற', 'ி', '்', 'ி', '்', '்', '்', '்', '்', '்', '்', '்', '்', '்', '்', '்', '்', '்', '்', '்', '்', '்', '்', '்', '்', '்', '்']\n",
      "\n",
      "\n",
      "Input\t['k', 'a', 'a', 'r', 'a', 'n', 'a', 't', 't', 'a', 'i', 'p']\n",
      "GT\t['க', 'ா', 'ர', 'ண', 'த', '்', 'த', 'ை', 'ப', '்']\n",
      "pred\t['க', 'ப', 'ப', '்', '்', 'க', 'க', '்', 'த', 'க', 'க', 'ப', '்', '்', '்', '்', '்', '்', '்', '்', '்', '்', '்', '்', '்', '்', '்', '்', '்', '்']\n",
      "\n",
      "\n",
      "Input\t['v', 'a', 'a', 'g', 'a', 'n', 'a']\n",
      "GT\t['வ', 'ா', 'க', 'ன']\n",
      "pred\t['ப', 'ா', 'ர', 'ர', '்', '்', '்', '்', 'ப', 'ப', 'ப', 'ப', 'ப', 'ப', 'ப', 'ப', 'ப', '்', '்', '்', '்', '்', '்', '்', '்', '்', '்', '்', '்', '்']\n",
      "\n",
      "\n",
      "\n",
      "Test set: Average loss: 2.9855, Accuracy: 18059/239760 (8%)\n",
      "\n"
     ]
    },
    {
     "name": "stderr",
     "output_type": "stream",
     "text": [
      "  1%|▏         | 1/75 [00:00<00:12,  5.72it/s]"
     ]
    },
    {
     "name": "stdout",
     "output_type": "stream",
     "text": [
      "Train Epoch: 10 [0/38723 (0%)]\tLoss: 2.056742\n"
     ]
    },
    {
     "name": "stderr",
     "output_type": "stream",
     "text": [
      " 16%|█▌        | 12/75 [00:02<00:11,  5.40it/s]"
     ]
    },
    {
     "name": "stdout",
     "output_type": "stream",
     "text": [
      "Train Epoch: 10 [5120/38723 (13%)]\tLoss: 1.736023\n"
     ]
    },
    {
     "name": "stderr",
     "output_type": "stream",
     "text": [
      " 29%|██▉       | 22/75 [00:03<00:09,  5.76it/s]"
     ]
    },
    {
     "name": "stdout",
     "output_type": "stream",
     "text": [
      "Train Epoch: 10 [10240/38723 (27%)]\tLoss: 2.382564\n"
     ]
    },
    {
     "name": "stderr",
     "output_type": "stream",
     "text": [
      " 43%|████▎     | 32/75 [00:05<00:09,  4.65it/s]"
     ]
    },
    {
     "name": "stdout",
     "output_type": "stream",
     "text": [
      "Train Epoch: 10 [15360/38723 (40%)]\tLoss: 2.395710\n"
     ]
    },
    {
     "name": "stderr",
     "output_type": "stream",
     "text": [
      " 56%|█████▌    | 42/75 [00:07<00:05,  5.78it/s]"
     ]
    },
    {
     "name": "stdout",
     "output_type": "stream",
     "text": [
      "Train Epoch: 10 [20480/38723 (53%)]\tLoss: 2.161490\n"
     ]
    },
    {
     "name": "stderr",
     "output_type": "stream",
     "text": [
      " 69%|██████▉   | 52/75 [00:09<00:04,  5.65it/s]"
     ]
    },
    {
     "name": "stdout",
     "output_type": "stream",
     "text": [
      "Train Epoch: 10 [25600/38723 (67%)]\tLoss: 1.930424\n"
     ]
    },
    {
     "name": "stderr",
     "output_type": "stream",
     "text": [
      " 83%|████████▎ | 62/75 [00:11<00:02,  5.85it/s]"
     ]
    },
    {
     "name": "stdout",
     "output_type": "stream",
     "text": [
      "Train Epoch: 10 [30720/38723 (80%)]\tLoss: 2.194062\n"
     ]
    },
    {
     "name": "stderr",
     "output_type": "stream",
     "text": [
      " 96%|█████████▌| 72/75 [00:12<00:00,  5.45it/s]"
     ]
    },
    {
     "name": "stdout",
     "output_type": "stream",
     "text": [
      "Train Epoch: 10 [35840/38723 (93%)]\tLoss: 2.156184\n"
     ]
    },
    {
     "name": "stderr",
     "output_type": "stream",
     "text": [
      "100%|██████████| 75/75 [00:13<00:00,  5.56it/s]\n"
     ]
    },
    {
     "name": "stdout",
     "output_type": "stream",
     "text": [
      "Input\t[]\n",
      "GT\t[]\n",
      "pred\t['ப', 'ஆ', 'ர', 'ம', '்', '்', '்', '்', '்', '்', '்', '்', '்', '்', '்', '்', '்', '்', '்', '்', '்', '்', '்', '்', '்', '்', '்', '்', '்', '்']\n",
      "\n",
      "\n",
      "Input\t['n', 'e', 't', 'r', 'i']\n",
      "GT\t['ந', 'ெ', 'ற', '்', 'ற', 'ி']\n",
      "pred\t['ன', '்', 'ற', '்', 'ர', 'ி', '்', 'ி', '்', '்', '்', '்', '்', '்', '்', '்', '்', '்', '்', '்', '்', '்', '்', '்', '்', '்', '்', '்', '்', '்']\n",
      "\n",
      "\n",
      "Input\t['k', 'a', 'a', 'r', 'a', 'n', 'a', 't', 't', 'a', 'i', 'p']\n",
      "GT\t['க', 'ா', 'ர', 'ண', 'த', '்', 'த', 'ை', 'ப', '்']\n",
      "pred\t['க', 'ா', 'ா', '்', '்', 'க', '்', '்', '்', '்', '்', '்', 'ப', '்', '்', '்', '்', '்', '்', '்', '்', '்', '்', '்', '்', '்', '்', '்', '்', '்']\n",
      "\n",
      "\n",
      "Input\t['v', 'a', 'a', 'g', 'a', 'n', 'a']\n",
      "GT\t['வ', 'ா', 'க', 'ன']\n",
      "pred\t['வ', 'ன', 'ா', '்', '்', 'க', '்', 'ா', 'ா', 'ா', 'ா', 'ா', 'ா', 'ா', 'ா', 'ா', 'ா', 'ா', 'ா', 'ா', 'ா', 'ா', 'ா', 'ா', 'ா', 'ா', 'ா', 'ா', 'ா', 'ா']\n",
      "\n",
      "\n",
      "\n",
      "Test set: Average loss: 3.0429, Accuracy: 18198/239760 (8%)\n",
      "\n"
     ]
    },
    {
     "name": "stderr",
     "output_type": "stream",
     "text": [
      "  1%|▏         | 1/75 [00:00<00:13,  5.59it/s]"
     ]
    },
    {
     "name": "stdout",
     "output_type": "stream",
     "text": [
      "Train Epoch: 11 [0/38723 (0%)]\tLoss: 1.979366\n"
     ]
    },
    {
     "name": "stderr",
     "output_type": "stream",
     "text": [
      " 16%|█▌        | 12/75 [00:02<00:10,  5.76it/s]"
     ]
    },
    {
     "name": "stdout",
     "output_type": "stream",
     "text": [
      "Train Epoch: 11 [5120/38723 (13%)]\tLoss: 1.679363\n"
     ]
    },
    {
     "name": "stderr",
     "output_type": "stream",
     "text": [
      " 29%|██▉       | 22/75 [00:03<00:09,  5.47it/s]"
     ]
    },
    {
     "name": "stdout",
     "output_type": "stream",
     "text": [
      "Train Epoch: 11 [10240/38723 (27%)]\tLoss: 2.355458\n"
     ]
    },
    {
     "name": "stderr",
     "output_type": "stream",
     "text": [
      " 43%|████▎     | 32/75 [00:05<00:07,  5.59it/s]"
     ]
    },
    {
     "name": "stdout",
     "output_type": "stream",
     "text": [
      "Train Epoch: 11 [15360/38723 (40%)]\tLoss: 2.285889\n"
     ]
    },
    {
     "name": "stderr",
     "output_type": "stream",
     "text": [
      " 56%|█████▌    | 42/75 [00:07<00:05,  5.53it/s]"
     ]
    },
    {
     "name": "stdout",
     "output_type": "stream",
     "text": [
      "Train Epoch: 11 [20480/38723 (53%)]\tLoss: 2.101165\n"
     ]
    },
    {
     "name": "stderr",
     "output_type": "stream",
     "text": [
      " 69%|██████▉   | 52/75 [00:09<00:04,  5.75it/s]"
     ]
    },
    {
     "name": "stdout",
     "output_type": "stream",
     "text": [
      "Train Epoch: 11 [25600/38723 (67%)]\tLoss: 1.861690\n"
     ]
    },
    {
     "name": "stderr",
     "output_type": "stream",
     "text": [
      " 83%|████████▎ | 62/75 [00:11<00:02,  5.72it/s]"
     ]
    },
    {
     "name": "stdout",
     "output_type": "stream",
     "text": [
      "Train Epoch: 11 [30720/38723 (80%)]\tLoss: 2.132751\n"
     ]
    },
    {
     "name": "stderr",
     "output_type": "stream",
     "text": [
      " 95%|█████████▍| 71/75 [00:12<00:00,  5.85it/s]"
     ]
    },
    {
     "name": "stdout",
     "output_type": "stream",
     "text": [
      "Train Epoch: 11 [35840/38723 (93%)]\tLoss: 2.085541\n"
     ]
    },
    {
     "name": "stderr",
     "output_type": "stream",
     "text": [
      "100%|██████████| 75/75 [00:13<00:00,  5.61it/s]\n"
     ]
    },
    {
     "name": "stdout",
     "output_type": "stream",
     "text": [
      "Input\t[]\n",
      "GT\t[]\n",
      "pred\t['ப', 'ா', 'ர', 'ம', '்', 'ம', '்', 'ம', '்', '்', '்', '்', '்', '்', '்', '்', '்', '்', '்', '்', '்', '்', '்', '்', '்', '்', '்', '்', '்', '்']\n",
      "\n",
      "\n",
      "Input\t['n', 'e', 't', 'r', 'i']\n",
      "GT\t['ந', 'ெ', 'ற', '்', 'ற', 'ி']\n",
      "pred\t['ன', 'ன', '்', 'ற', 'ி', 'ி', 'ி', 'ி', 'ி', 'ி', 'ி', 'ி', 'ி', 'ி', 'ி', 'ி', 'ி', 'ி', 'ி', 'ி', 'ி', 'ி', 'ி', 'ி', 'ி', 'ி', 'ி', 'ி', 'ி', 'ி']\n",
      "\n",
      "\n",
      "Input\t['k', 'a', 'a', 'r', 'a', 'n', 'a', 't', 't', 'a', 'i', 'p']\n",
      "GT\t['க', 'ா', 'ர', 'ண', 'த', '்', 'த', 'ை', 'ப', '்']\n",
      "pred\t['க', 'ா', 'ா', 'ா', '்', 'ன', '்', '்', 'ன', 'ன', 'ய', '்', 'ப', '்', '்', '்', '்', '்', '்', '்', '்', '்', '்', '்', '்', '்', '்', '்', '்', '்']\n",
      "\n",
      "\n",
      "Input\t['v', 'a', 'a', 'g', 'a', 'n', 'a']\n",
      "GT\t['வ', 'ா', 'க', 'ன']\n",
      "pred\t['்', 'ா', 'ா', 'ா', '்', 'க', '்', 'ா', 'ா', 'ா', 'ா', 'ா', 'ா', 'ா', 'ா', 'ா', 'ா', 'ா', 'ா', 'ா', 'ா', 'ா', 'ா', 'ா', 'ா', 'ா', 'ா', 'ா', 'ா', 'ா']\n",
      "\n",
      "\n",
      "\n",
      "Test set: Average loss: 3.0312, Accuracy: 18346/239760 (8%)\n",
      "\n"
     ]
    },
    {
     "name": "stderr",
     "output_type": "stream",
     "text": [
      "  1%|▏         | 1/75 [00:00<00:12,  5.89it/s]"
     ]
    },
    {
     "name": "stdout",
     "output_type": "stream",
     "text": [
      "Train Epoch: 12 [0/38723 (0%)]\tLoss: 1.781467\n"
     ]
    },
    {
     "name": "stderr",
     "output_type": "stream",
     "text": [
      " 16%|█▌        | 12/75 [00:02<00:11,  5.57it/s]"
     ]
    },
    {
     "name": "stdout",
     "output_type": "stream",
     "text": [
      "Train Epoch: 12 [5120/38723 (13%)]\tLoss: 1.650716\n"
     ]
    },
    {
     "name": "stderr",
     "output_type": "stream",
     "text": [
      " 29%|██▉       | 22/75 [00:03<00:09,  5.66it/s]"
     ]
    },
    {
     "name": "stdout",
     "output_type": "stream",
     "text": [
      "Train Epoch: 12 [10240/38723 (27%)]\tLoss: 2.341038\n"
     ]
    },
    {
     "name": "stderr",
     "output_type": "stream",
     "text": [
      " 43%|████▎     | 32/75 [00:05<00:07,  5.62it/s]"
     ]
    },
    {
     "name": "stdout",
     "output_type": "stream",
     "text": [
      "Train Epoch: 12 [15360/38723 (40%)]\tLoss: 2.266676\n"
     ]
    },
    {
     "name": "stderr",
     "output_type": "stream",
     "text": [
      " 56%|█████▌    | 42/75 [00:07<00:05,  5.71it/s]"
     ]
    },
    {
     "name": "stdout",
     "output_type": "stream",
     "text": [
      "Train Epoch: 12 [20480/38723 (53%)]\tLoss: 2.100688\n"
     ]
    },
    {
     "name": "stderr",
     "output_type": "stream",
     "text": [
      " 69%|██████▉   | 52/75 [00:09<00:04,  5.66it/s]"
     ]
    },
    {
     "name": "stdout",
     "output_type": "stream",
     "text": [
      "Train Epoch: 12 [25600/38723 (67%)]\tLoss: 1.791618\n"
     ]
    },
    {
     "name": "stderr",
     "output_type": "stream",
     "text": [
      " 83%|████████▎ | 62/75 [00:11<00:02,  5.82it/s]"
     ]
    },
    {
     "name": "stdout",
     "output_type": "stream",
     "text": [
      "Train Epoch: 12 [30720/38723 (80%)]\tLoss: 2.118371\n"
     ]
    },
    {
     "name": "stderr",
     "output_type": "stream",
     "text": [
      " 96%|█████████▌| 72/75 [00:12<00:00,  5.55it/s]"
     ]
    },
    {
     "name": "stdout",
     "output_type": "stream",
     "text": [
      "Train Epoch: 12 [35840/38723 (93%)]\tLoss: 2.002535\n"
     ]
    },
    {
     "name": "stderr",
     "output_type": "stream",
     "text": [
      "100%|██████████| 75/75 [00:13<00:00,  5.60it/s]\n"
     ]
    },
    {
     "name": "stdout",
     "output_type": "stream",
     "text": [
      "Input\t[]\n",
      "GT\t[]\n",
      "pred\t['ப', 'ா', 'ா', 'ம', '்', 'ம', '்', '்', '்', '்', '்', '்', '்', '்', '்', '்', '்', '்', '்', '்', '்', '்', '்', '்', '்', '்', '்', '்', '்', '்']\n",
      "\n",
      "\n",
      "Input\t['n', 'e', 't', 'r', 'i']\n",
      "GT\t['ந', 'ெ', 'ற', '்', 'ற', 'ி']\n",
      "pred\t['ன', '்', 'த', '்', 'ர', 'ி', 'ி', '்', '்', '்', '்', '்', '்', '்', '்', '்', '்', '்', '்', '்', '்', '்', '்', '்', '்', '்', '்', '்', '்', '்']\n",
      "\n",
      "\n",
      "Input\t['k', 'a', 'a', 'r', 'a', 'n', 'a', 't', 't', 'a', 'i', 'p']\n",
      "GT\t['க', 'ா', 'ர', 'ண', 'த', '்', 'த', 'ை', 'ப', '்']\n",
      "pred\t['்', 'ா', 'ா', '்', '்', '்', '்', '்', 'ட', '்', '்', '்', '்', '்', '்', '்', '்', '்', '்', '்', '்', '்', '்', '்', '்', '்', '்', '்', '்', '்']\n",
      "\n",
      "\n",
      "Input\t['v', 'a', 'a', 'g', 'a', 'n', 'a']\n",
      "GT\t['வ', 'ா', 'க', 'ன']\n",
      "pred\t['வ', 'ா', 'ா', '்', '்', 'க', '்', '்', '்', '்', '்', '்', '்', '்', '்', '்', '்', '்', '்', '்', '்', '்', '்', '்', '்', '்', '்', '்', '்', '்']\n",
      "\n",
      "\n",
      "\n",
      "Test set: Average loss: 3.0041, Accuracy: 18899/239760 (8%)\n",
      "\n"
     ]
    },
    {
     "name": "stderr",
     "output_type": "stream",
     "text": [
      "  1%|▏         | 1/75 [00:00<00:12,  6.08it/s]"
     ]
    },
    {
     "name": "stdout",
     "output_type": "stream",
     "text": [
      "Train Epoch: 13 [0/38723 (0%)]\tLoss: 1.791215\n"
     ]
    },
    {
     "name": "stderr",
     "output_type": "stream",
     "text": [
      " 16%|█▌        | 12/75 [00:02<00:11,  5.67it/s]"
     ]
    },
    {
     "name": "stdout",
     "output_type": "stream",
     "text": [
      "Train Epoch: 13 [5120/38723 (13%)]\tLoss: 1.597875\n"
     ]
    },
    {
     "name": "stderr",
     "output_type": "stream",
     "text": [
      " 29%|██▉       | 22/75 [00:03<00:09,  5.64it/s]"
     ]
    },
    {
     "name": "stdout",
     "output_type": "stream",
     "text": [
      "Train Epoch: 13 [10240/38723 (27%)]\tLoss: 2.327175\n"
     ]
    },
    {
     "name": "stderr",
     "output_type": "stream",
     "text": [
      " 43%|████▎     | 32/75 [00:05<00:07,  5.72it/s]"
     ]
    },
    {
     "name": "stdout",
     "output_type": "stream",
     "text": [
      "Train Epoch: 13 [15360/38723 (40%)]\tLoss: 2.191117\n"
     ]
    },
    {
     "name": "stderr",
     "output_type": "stream",
     "text": [
      " 56%|█████▌    | 42/75 [00:07<00:05,  5.71it/s]"
     ]
    },
    {
     "name": "stdout",
     "output_type": "stream",
     "text": [
      "Train Epoch: 13 [20480/38723 (53%)]\tLoss: 2.075632\n"
     ]
    },
    {
     "name": "stderr",
     "output_type": "stream",
     "text": [
      " 69%|██████▉   | 52/75 [00:09<00:04,  5.50it/s]"
     ]
    },
    {
     "name": "stdout",
     "output_type": "stream",
     "text": [
      "Train Epoch: 13 [25600/38723 (67%)]\tLoss: 1.859537\n"
     ]
    },
    {
     "name": "stderr",
     "output_type": "stream",
     "text": [
      " 83%|████████▎ | 62/75 [00:10<00:02,  5.81it/s]"
     ]
    },
    {
     "name": "stdout",
     "output_type": "stream",
     "text": [
      "Train Epoch: 13 [30720/38723 (80%)]\tLoss: 2.072013\n"
     ]
    },
    {
     "name": "stderr",
     "output_type": "stream",
     "text": [
      " 96%|█████████▌| 72/75 [00:12<00:00,  5.75it/s]"
     ]
    },
    {
     "name": "stdout",
     "output_type": "stream",
     "text": [
      "Train Epoch: 13 [35840/38723 (93%)]\tLoss: 2.054458\n"
     ]
    },
    {
     "name": "stderr",
     "output_type": "stream",
     "text": [
      "100%|██████████| 75/75 [00:13<00:00,  5.67it/s]\n"
     ]
    },
    {
     "name": "stdout",
     "output_type": "stream",
     "text": [
      "Input\t[]\n",
      "GT\t[]\n",
      "pred\t['ப', 'ா', 'ா', 'ம', '்', '்', '்', '்', '்', '்', '்', '்', '்', '்', '்', '்', '்', '்', '்', '்', '்', '்', '்', '்', '்', '்', '்', '்', '்', '்']\n",
      "\n",
      "\n",
      "Input\t['n', 'e', 't', 'r', 'i']\n",
      "GT\t['ந', 'ெ', 'ற', '்', 'ற', 'ி']\n",
      "pred\t['ன', 'ன', '்', 'ர', 'ர', '்', '்', '்', '்', 'ி', '்', 'ி', '்', 'ி', '்', 'ி', '்', 'ி', '்', 'ி', '்', 'ி', '்', 'ி', '்', 'ி', '்', 'ி', '்', 'ி']\n",
      "\n",
      "\n",
      "Input\t['k', 'a', 'a', 'r', 'a', 'n', 'a', 't', 't', 'a', 'i', 'p']\n",
      "GT\t['க', 'ா', 'ர', 'ண', 'த', '்', 'த', 'ை', 'ப', '்']\n",
      "pred\t['்', 'ா', 'ர', '்', '்', '்', '்', '்', 'ல', '்', '்', '்', '்', '்', '்', '்', '்', '்', '்', '்', '்', '்', '்', '்', '்', '்', '்', '்', '்', '்']\n",
      "\n",
      "\n",
      "Input\t['v', 'a', 'a', 'g', 'a', 'n', 'a']\n",
      "GT\t['வ', 'ா', 'க', 'ன']\n",
      "pred\t['வ', 'ர', 'ர', 'ா', '்', '்', '்', 'ா', 'ா', 'ா', 'ா', 'ா', 'ா', 'ா', 'ா', 'ா', 'ா', 'ா', 'ா', 'ா', 'ா', 'ா', 'ா', 'ா', 'ா', 'ா', 'ா', 'ா', 'ா', 'ா']\n",
      "\n",
      "\n",
      "\n",
      "Test set: Average loss: 3.2415, Accuracy: 17485/239760 (7%)\n",
      "\n"
     ]
    },
    {
     "name": "stderr",
     "output_type": "stream",
     "text": [
      "  1%|▏         | 1/75 [00:00<00:12,  6.06it/s]"
     ]
    },
    {
     "name": "stdout",
     "output_type": "stream",
     "text": [
      "Train Epoch: 14 [0/38723 (0%)]\tLoss: 1.766121\n"
     ]
    },
    {
     "name": "stderr",
     "output_type": "stream",
     "text": [
      " 16%|█▌        | 12/75 [00:02<00:10,  5.73it/s]"
     ]
    },
    {
     "name": "stdout",
     "output_type": "stream",
     "text": [
      "Train Epoch: 14 [5120/38723 (13%)]\tLoss: 1.619100\n"
     ]
    },
    {
     "name": "stderr",
     "output_type": "stream",
     "text": [
      " 29%|██▉       | 22/75 [00:03<00:09,  5.43it/s]"
     ]
    },
    {
     "name": "stdout",
     "output_type": "stream",
     "text": [
      "Train Epoch: 14 [10240/38723 (27%)]\tLoss: 2.334424\n"
     ]
    },
    {
     "name": "stderr",
     "output_type": "stream",
     "text": [
      " 32%|███▏      | 24/75 [00:04<00:09,  5.51it/s]"
     ]
    }
   ],
   "source": [
    "def main():\n",
    "    BATCH_SIZE = 512\n",
    "    FEATURE_SIZE = 128\n",
    "    TEST_BATCH_SIZE = 256\n",
    "    EPOCHS = 20\n",
    "    LEARNING_RATE = 0.005\n",
    "    MOMENTUM = 0.9\n",
    "    WEIGHT_DECAY = 0.000005\n",
    "    USE_CUDA = True\n",
    "    PRINT_INTERVAL = 10\n",
    "    OUT_PATH = 'out/'\n",
    "    LOG_PATH = OUT_PATH + 'logs/log.pkl'\n",
    "    \n",
    "    train_data, test_data, seq_len = prepare_data(DATA_PATH)\n",
    "    lang_voc2ind, lang_ind2voc, en_voc2ind, en_ind2voc = create_dictionaries(train_data + test_data)\n",
    "    train_dataset = TransliterateDataset(train_data, lang_voc2ind, en_voc2ind, seq_len)\n",
    "    test_dataset = TransliterateDataset(test_data, lang_voc2ind, en_voc2ind, seq_len)\n",
    "    \n",
    "    use_cuda = USE_CUDA and torch.cuda.is_available()\n",
    "    device = torch.device(\"cuda\" if use_cuda else \"cpu\")\n",
    "    print('Using device', device)\n",
    "    \n",
    "    num_workers = multiprocessing.cpu_count()\n",
    "    print('num workers:', num_workers)\n",
    "    kwargs = {'num_workers': num_workers,\n",
    "              'pin_memory': True} if use_cuda else {}\n",
    "    \n",
    "    train_loader = torch.utils.data.DataLoader(train_dataset, batch_size=BATCH_SIZE, drop_last=True,\n",
    "                                               shuffle=False, **kwargs)\n",
    "    test_loader = torch.utils.data.DataLoader(test_dataset, batch_size=TEST_BATCH_SIZE, drop_last=True,\n",
    "                                              shuffle=False, **kwargs)\n",
    "    \n",
    "    model = TransliterateNet(len(en_voc2ind), len(lang_voc2ind), FEATURE_SIZE).to(device)\n",
    "    \n",
    "    optimizer = optim.Adam(model.parameters(), lr=LEARNING_RATE, weight_decay=WEIGHT_DECAY)\n",
    "    #optimizer = optim.SGD(model.parameters(), lr=LEARNING_RATE, momentum=MOMENTUM, weight_decay=WEIGHT_DECAY)\n",
    "    start_epoch = model.load_last_model(OUT_PATH + 'checkpoints')\n",
    "\n",
    "    train_losses, test_losses, test_accuracies = pt_util.read_log(LOG_PATH, ([], [], []))\n",
    "    test_loss, test_accuracy = test(model, device, test_loader, en_ind2voc, lang_ind2voc)\n",
    "\n",
    "    test_losses.append((start_epoch, test_loss))\n",
    "    test_accuracies.append((start_epoch, test_accuracy))\n",
    "    \n",
    "    try:\n",
    "        for epoch in range(start_epoch, EPOCHS + 1):\n",
    "            lr = LEARNING_RATE * np.power(0.25, (int(epoch / 6)))\n",
    "            train_loss = train(model, device, optimizer, train_loader, lr, epoch, PRINT_INTERVAL)\n",
    "            test_loss, test_accuracy = test(model, device, test_loader, en_ind2voc, lang_ind2voc)\n",
    "            train_losses.append((epoch, train_loss))\n",
    "            test_losses.append((epoch, test_loss))\n",
    "            test_accuracies.append((epoch, test_accuracy))\n",
    "            #pt_util.write_log(LOG_PATH, (train_losses, test_losses, test_accuracies))\n",
    "            #model.save_best_model(test_accuracy, DATA_PATH + 'checkpoints/%03d.pt' % epoch)\n",
    "\n",
    "    except KeyboardInterrupt as ke:\n",
    "        print('Interrupted')\n",
    "    except:\n",
    "        import traceback\n",
    "        traceback.print_exc()\n",
    "    finally:\n",
    "        #print('Saving final model')\n",
    "        #model.save_model(DATA_PATH + 'checkpoints/%03d.pt' % epoch, 0)\n",
    "        ep, val = zip(*train_losses)\n",
    "        pt_util.plot(ep, val, 'Train loss', 'Epoch', 'Error')\n",
    "        ep, val = zip(*test_losses)\n",
    "        pt_util.plot(ep, val, 'Test loss', 'Epoch', 'Error')\n",
    "        ep, val = zip(*test_accuracies)\n",
    "        pt_util.plot(ep, val, 'Test accuracy', 'Epoch', 'Error')\n",
    "        return model, en_voc2ind, lang_ind2voc, device\n",
    "    \n",
    "final_model, en_voc2ind, lang_ind2voc, device = main()"
   ]
  },
  {
   "cell_type": "code",
   "execution_count": 281,
   "id": "48112d7f",
   "metadata": {},
   "outputs": [],
   "source": [
    "def generate_transliteration(model, word, en_voc2ind, lang_ind2voc, seq_len=30):\n",
    "    transliteration = []\n",
    "    hidden = None\n",
    "    \n",
    "    en_tokens = tokenize_data(word, en_voc2ind)\n",
    "    en_data = torch.LongTensor(pad_data(en_tokens, seq_len))\n",
    "    \n",
    "    for c in torch.LongTensor(en_data):\n",
    "        x, hidden = model.inference(c, hidden)\n",
    "        transliteration.append(torch.argmax(x))\n",
    "    \n",
    "    return detokenize_and_depad_data(transliteration, lang_ind2voc, len(lang_ind2voc) - 1)"
   ]
  },
  {
   "cell_type": "code",
   "execution_count": 282,
   "id": "39e48498",
   "metadata": {},
   "outputs": [
    {
     "name": "stdout",
     "output_type": "stream",
     "text": [
      "['ப', 'ா', 'ர', '்', 'க', '்', 'ப', '்', 'ப', '்', 'ப', 'ெ', 'ப', 'ெ', 'ப', 'ெ', 'ஃ', 'ெ', 'ஃ', 'ெ', 'ஃ', 'ெ', 'ஃ', 'ெ', 'ஃ', 'ெ', 'ஃ', 'ெ', 'ஃ', 'ெ']\n"
     ]
    }
   ],
   "source": [
    "print(generate_transliteration(final_model, 'farm', en_voc2ind, lang_ind2voc)) # should ideally say 'ஃபார்ம்'"
   ]
  },
  {
   "cell_type": "code",
   "execution_count": null,
   "id": "09b18ab4",
   "metadata": {},
   "outputs": [],
   "source": []
  }
 ],
 "metadata": {
  "kernelspec": {
   "display_name": "Python 3",
   "language": "python",
   "name": "python3"
  },
  "language_info": {
   "codemirror_mode": {
    "name": "ipython",
    "version": 3
   },
   "file_extension": ".py",
   "mimetype": "text/x-python",
   "name": "python",
   "nbconvert_exporter": "python",
   "pygments_lexer": "ipython3",
   "version": "3.6.8"
  }
 },
 "nbformat": 4,
 "nbformat_minor": 5
}
