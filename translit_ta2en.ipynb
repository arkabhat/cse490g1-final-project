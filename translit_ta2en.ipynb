{
 "cells": [
  {
   "cell_type": "code",
   "execution_count": 1,
   "id": "ee1b8694",
   "metadata": {},
   "outputs": [
    {
     "name": "stdout",
     "output_type": "stream",
     "text": [
      "Version 1.10.0+cu102\n",
      "CUDA enabled: False\n"
     ]
    }
   ],
   "source": [
    "import torch\n",
    "print('Version', torch.__version__)\n",
    "print('CUDA enabled:', torch.cuda.is_available())"
   ]
  },
  {
   "cell_type": "code",
   "execution_count": 2,
   "id": "e503fd20",
   "metadata": {},
   "outputs": [],
   "source": [
    "import torch.nn as nn\n",
    "from torchvision import datasets\n",
    "from torchvision import transforms\n",
    "import torch.nn.functional as F\n",
    "import torch.optim as optim\n",
    "import numpy as np\n",
    "import matplotlib.pyplot as plt\n",
    "import tqdm\n",
    "\n",
    "import sys\n",
    "import os\n",
    "import pickle\n",
    "import re\n",
    "import csv\n",
    "import multiprocessing\n",
    "\n",
    "import pt_util"
   ]
  },
  {
   "cell_type": "code",
   "execution_count": 3,
   "id": "66153b90",
   "metadata": {},
   "outputs": [],
   "source": [
    "DATA_DIR = 'dakshina_dataset_v1.0'\n",
    "LANG = 'ta'\n",
    "LANG_DIR = 'lexicons'\n",
    "DATA_PATH = '{}/{}/{}'.format(DATA_DIR, LANG, LANG_DIR)"
   ]
  },
  {
   "cell_type": "code",
   "execution_count": 4,
   "id": "774a0851",
   "metadata": {},
   "outputs": [],
   "source": [
    "def prepare_data(dirpath):\n",
    "    # Read train and test data\n",
    "    filenames = os.listdir(dirpath)\n",
    "    train_data = []\n",
    "    test_data = []\n",
    "    max_len = 0 # max length of any word in the dataset\n",
    "    \n",
    "    def get_most_annotated_transliterations(tsv_file, data, max_len):\n",
    "        curr_lang = None\n",
    "        max_annotations = 0\n",
    "        curr_translits = {}\n",
    "\n",
    "        # only consider the most annotated transliteration(s) for each foreign language word\n",
    "        for lang, en, annotations in tsv_file:\n",
    "            if not curr_lang or lang != curr_lang:\n",
    "                for translit, annots in curr_translits.items():\n",
    "                    if annots == max_annotations:\n",
    "                        data.append([curr_lang, translit])\n",
    "                        max_len = max(max_len, len(translit))\n",
    "                curr_lang = lang\n",
    "                max_annotations = annotations\n",
    "                curr_translits = {en: annotations}\n",
    "                max_len = max(max_len, len(curr_lang))\n",
    "            else:\n",
    "                max_annotations = max(max_annotations, annotations)\n",
    "                curr_translits[en] = annotations\n",
    "        for translit, annots in curr_translits.items(): # fencepost\n",
    "            if annots == max_annotations:\n",
    "                data.append([curr_lang, translit])\n",
    "                max_len = max(max_len, len(translit))\n",
    "        return max_len\n",
    "    \n",
    "    for filename in filenames:\n",
    "        with open(os.path.join(dirpath, filename), 'r') as file:\n",
    "            tsv = csv.reader(file, delimiter='\\t')\n",
    "            if filename.endswith('train.tsv'):\n",
    "                max_len = get_most_annotated_transliterations(tsv, train_data, max_len)\n",
    "            else:\n",
    "                max_len = get_most_annotated_transliterations(tsv, test_data, max_len)\n",
    "                \n",
    "    return train_data, test_data, max_len"
   ]
  },
  {
   "cell_type": "code",
   "execution_count": 5,
   "id": "9a49eb6f",
   "metadata": {},
   "outputs": [],
   "source": [
    "PAD = '<PAD>'\n",
    "def create_dictionaries(data):\n",
    "    #en_voc2ind = {PAD: 0}\n",
    "    #lang_voc2ind = {PAD: 0}\n",
    "    #en_ind2voc = {0: PAD}\n",
    "    #lang_ind2voc = {0: PAD}\n",
    "    \n",
    "    en_voc2ind = {}\n",
    "    lang_voc2ind = {}\n",
    "    en_ind2voc = {}\n",
    "    lang_ind2voc = {}\n",
    "    \n",
    "    en_ind = 0 #1\n",
    "    lang_ind = 0 #1\n",
    "    for lang, en in data:\n",
    "        for lang_char in lang:\n",
    "            if lang_char not in lang_voc2ind:\n",
    "                lang_voc2ind[lang_char] = lang_ind\n",
    "                lang_ind2voc[lang_ind] = lang_char\n",
    "                lang_ind += 1\n",
    "        for en_char in en:\n",
    "            if en_char not in en_voc2ind:\n",
    "                en_voc2ind[en_char] = en_ind\n",
    "                en_ind2voc[en_ind] = en_char\n",
    "                en_ind += 1\n",
    "                \n",
    "    en_voc2ind[PAD] = en_ind\n",
    "    lang_voc2ind[PAD] = lang_ind\n",
    "    en_ind2voc[en_ind] = PAD\n",
    "    lang_ind2voc[lang_ind] = PAD\n",
    "    \n",
    "    return lang_voc2ind, lang_ind2voc, en_voc2ind, en_ind2voc"
   ]
  },
  {
   "cell_type": "code",
   "execution_count": 6,
   "id": "07efad95",
   "metadata": {},
   "outputs": [],
   "source": [
    "# Preprocessing functions\n",
    "def tokenize_data(data, voc2ind):\n",
    "    return [voc2ind[char] for char in data]\n",
    "\n",
    "def detokenize_and_depad_data(data, ind2voc, pad_val=0):\n",
    "    res = []\n",
    "    for ind in data:\n",
    "        if ind.item() == pad_val:\n",
    "            break\n",
    "        res.append(ind2voc[ind.item()])\n",
    "    return res\n",
    "\n",
    "def pad_data(data, seq_len, pad_val=0):\n",
    "    for _ in range(len(data), seq_len):\n",
    "        data.append(pad_val)\n",
    "    return data"
   ]
  },
  {
   "cell_type": "code",
   "execution_count": 7,
   "id": "bfcc2098",
   "metadata": {},
   "outputs": [],
   "source": [
    "class TransliterateDataset(torch.utils.data.Dataset):\n",
    "    \n",
    "    def __init__(self, data, lang_voc2ind, en_voc2ind, seq_len):\n",
    "        super(TransliterateDataset, self).__init__()\n",
    "        \n",
    "        # Tokenize and pad data\n",
    "        lang_data = []\n",
    "        en_data = []\n",
    "        for lang, en in data:\n",
    "            lang_tokens = tokenize_data(lang, lang_voc2ind)\n",
    "            lang_data.append(pad_data(lang_tokens, seq_len, len(lang_voc2ind) - 1))\n",
    "            en_tokens = tokenize_data(en, en_voc2ind)\n",
    "            en_data.append(pad_data(en_tokens, seq_len, len(en_voc2ind) - 1))\n",
    "            \n",
    "        self.language_data = lang_data\n",
    "        self.english_data = en_data\n",
    "        self.sequence_length = seq_len\n",
    "\n",
    "    def __len__(self):\n",
    "        return len(self.english_data)\n",
    "        \n",
    "    def __getitem__(self, idx):\n",
    "        # Return the data and label at idx\n",
    "        return torch.LongTensor(self.language_data[idx]), torch.LongTensor(self.english_data[idx])\n",
    "    \n",
    "    def get_random_sample(self):\n",
    "        return self.__getitem__(np.random.randint(self.__len__()))"
   ]
  },
  {
   "cell_type": "code",
   "execution_count": 8,
   "id": "e150ff19",
   "metadata": {},
   "outputs": [],
   "source": [
    "class TransliterateNet(nn.Module):\n",
    "    \n",
    "    def __init__(self, lang_vocab_size, en_vocab_size, feature_size):\n",
    "        super(TransliterateNet, self).__init__()\n",
    "        self.lang_vocab_size = lang_vocab_size\n",
    "        self.en_vocab_size = en_vocab_size\n",
    "        self.feature_size = feature_size\n",
    "\n",
    "        self.encoder = nn.Embedding(self.lang_vocab_size, self.feature_size)\n",
    "        self.rnn = nn.RNN(self.feature_size, self.feature_size, 2)\n",
    "        self.decoder = nn.Linear(self.feature_size, self.en_vocab_size)\n",
    "        \n",
    "        #self.decoder.weight = self.encoder.weight\n",
    "        #self.decoder.bias.data.zero_()\n",
    "        \n",
    "        self.best_accuracy = -1\n",
    "    \n",
    "    def forward(self, x, hidden_state=None):\n",
    "        x = self.encoder(x)\n",
    "        x, hidden_state = self.rnn(x, hidden_state)\n",
    "        x = self.decoder(x)\n",
    "\n",
    "        return x, hidden_state\n",
    "\n",
    "    # This defines the function that gives a probability distribution and implements the temperature computation.\n",
    "    def inference(self, x, hidden_state=None, temperature=1):\n",
    "        x = x.view(-1, 1)\n",
    "        x, hidden_state = self.forward(x, hidden_state)\n",
    "        x = x.view(1, -1)\n",
    "        x = x / max(temperature, 1e-20)\n",
    "        x = F.softmax(x, dim=1)\n",
    "        return x, hidden_state\n",
    "\n",
    "    # Predefined loss function\n",
    "    def loss(self, prediction, label, reduction='mean'):\n",
    "        loss_val = F.cross_entropy(prediction.view(-1, self.en_vocab_size), label.view(-1), reduction=reduction)\n",
    "        return loss_val\n",
    "\n",
    "    # Saves the current model\n",
    "    def save_model(self, file_path, num_to_keep=1):\n",
    "        pt_util.save(self, file_path, num_to_keep)\n",
    "\n",
    "    # Saves the best model so far\n",
    "    def save_best_model(self, accuracy, file_path, num_to_keep=1):\n",
    "        if accuracy > self.best_accuracy:\n",
    "            self.save_model(file_path, num_to_keep)\n",
    "            self.best_accuracy = accuracy\n",
    "\n",
    "    def load_model(self, file_path):\n",
    "        pt_util.restore(self, file_path)\n",
    "\n",
    "    def load_last_model(self, dir_path):\n",
    "        return pt_util.restore_latest(self, dir_path)"
   ]
  },
  {
   "cell_type": "code",
   "execution_count": 9,
   "id": "ae5bec02",
   "metadata": {},
   "outputs": [],
   "source": [
    "def repackage_hidden(h):\n",
    "    # Wraps hidden states in new Tensors, to detach them from their history\n",
    "    if isinstance(h, torch.Tensor):\n",
    "        return h.detach()\n",
    "    else:\n",
    "        return tuple(repackage_hidden(v) for v in h)\n",
    "\n",
    "def train(model, device, optimizer, train_loader, lr, epoch, log_interval):\n",
    "    model.train()\n",
    "    losses = []\n",
    "    hidden = None\n",
    "    for batch_idx, (data, label) in enumerate(tqdm.tqdm(train_loader)):\n",
    "        data, label = data.to(device), label.to(device)\n",
    "        # Separates the hidden state across batches.\n",
    "        # Otherwise the backward would try to go all the way to the beginning every time\n",
    "        if hidden is not None:\n",
    "            hidden = repackage_hidden(hidden)\n",
    "        optimizer.zero_grad()\n",
    "        output, hidden = model(data)\n",
    "        pred = output.max(-1)[1]\n",
    "        loss = model.loss(output, label)\n",
    "        losses.append(loss.item())\n",
    "        loss.backward()\n",
    "        optimizer.step()\n",
    "        if batch_idx % log_interval == 0:\n",
    "            print('Train Epoch: {} [{}/{} ({:.0f}%)]\\tLoss: {:.6f}'.format(\n",
    "                epoch, batch_idx * len(data), len(train_loader.dataset),\n",
    "                100. * batch_idx / len(train_loader), loss.item()))\n",
    "    return np.mean(losses)\n",
    "\n",
    "\n",
    "def test(model, device, test_loader, lang_ind2voc, en_ind2voc):\n",
    "    model.eval()\n",
    "    test_loss = 0\n",
    "    correct = 0\n",
    "\n",
    "    with torch.no_grad():\n",
    "        hidden = None\n",
    "        for batch_idx, (data, label) in enumerate(test_loader):\n",
    "            data, label = data.to(device), label.to(device)\n",
    "            output, hidden = model(data, hidden)\n",
    "            test_loss += model.loss(output, label, reduction='mean').item()\n",
    "            pred = output.max(-1)[1]\n",
    "            correct_mask = pred.eq(label.view_as(pred))\n",
    "            num_correct = correct_mask.sum().item()\n",
    "            correct += num_correct\n",
    "            # Comment this out to avoid printing test results\n",
    "            if batch_idx % 10 == 0:\n",
    "                print('Input\\t%s\\nGT\\t%s\\npred\\t%s\\n\\n' % (\n",
    "                    detokenize_and_depad_data(data[0], lang_ind2voc, len(lang_ind2voc) - 1),\n",
    "                    detokenize_and_depad_data(label[0], en_ind2voc, len(en_ind2voc) - 1),\n",
    "                    detokenize_and_depad_data(pred[0], en_ind2voc, len(en_ind2voc) - 1)))\n",
    "\n",
    "    test_loss /= len(test_loader)\n",
    "    test_accuracy = 100. * correct / (len(test_loader.dataset) * test_loader.dataset.sequence_length)\n",
    "\n",
    "    print('\\nTest set: Average loss: {:.4f}, Accuracy: {}/{} ({:.0f}%)\\n'.format(\n",
    "        test_loss, correct, len(test_loader.dataset) * test_loader.dataset.sequence_length,\n",
    "        100. * correct / (len(test_loader.dataset) * test_loader.dataset.sequence_length)))\n",
    "    return test_loss, test_accuracy"
   ]
  },
  {
   "cell_type": "code",
   "execution_count": 10,
   "id": "d7d4db38",
   "metadata": {},
   "outputs": [
    {
     "name": "stdout",
     "output_type": "stream",
     "text": [
      "Using device cpu\n",
      "num workers: 56\n",
      "Input\t['ஃ', 'ப', 'ா', 'ர', '்', 'ம', '்']\n",
      "GT\t['f', 'a', 'r', 'm']\n",
      "pred\t['q', 'w', 'i', 'm', 'n', 'h', 'n', 'm', 'm', 'm', 'm', 'm', 'm', 'm', 'm', 'm', 'm', 'm', 'm', 'm', 'm', 'm', 'm', 'm', 'm', 'm', 'm', 'm', 'm', 'm']\n",
      "\n",
      "\n",
      "Input\t['ந', 'ெ', 'ற', '்', 'ற', 'ி']\n",
      "GT\t['n', 'e', 't', 'r', 'i']\n",
      "pred\t['i', 'h', 'u', 'i', 'e', 'n', 't', 'g', 'm', 'm']\n",
      "\n",
      "\n",
      "Input\t['க', 'ா', 'ர', 'ண', 'த', '்', 'த', 'ை', 'ப', '்']\n",
      "GT\t['k', 'a', 'a', 'r', 'a', 'n', 'a', 't', 't', 'a', 'i', 'p']\n",
      "pred\t[]\n",
      "\n",
      "\n",
      "Input\t['வ', 'ா', 'க', 'ன']\n",
      "GT\t['v', 'a', 'a', 'g', 'a', 'n', 'a']\n",
      "pred\t['w', 'i']\n",
      "\n",
      "\n",
      "\n",
      "Test set: Average loss: 3.2460, Accuracy: 4927/239760 (2%)\n",
      "\n"
     ]
    },
    {
     "name": "stderr",
     "output_type": "stream",
     "text": [
      "  1%|▏         | 1/76 [00:00<00:13,  5.52it/s]"
     ]
    },
    {
     "name": "stdout",
     "output_type": "stream",
     "text": [
      "Train Epoch: 0 [0/38723 (0%)]\tLoss: 3.255905\n"
     ]
    },
    {
     "name": "stderr",
     "output_type": "stream",
     "text": [
      " 14%|█▍        | 11/76 [00:02<00:14,  4.34it/s]"
     ]
    },
    {
     "name": "stdout",
     "output_type": "stream",
     "text": [
      "Train Epoch: 0 [5120/38723 (13%)]\tLoss: 1.086130\n"
     ]
    },
    {
     "name": "stderr",
     "output_type": "stream",
     "text": [
      " 29%|██▉       | 22/76 [00:04<00:09,  5.48it/s]"
     ]
    },
    {
     "name": "stdout",
     "output_type": "stream",
     "text": [
      "Train Epoch: 0 [10240/38723 (26%)]\tLoss: 1.176849\n"
     ]
    },
    {
     "name": "stderr",
     "output_type": "stream",
     "text": [
      " 42%|████▏     | 32/76 [00:06<00:07,  5.56it/s]"
     ]
    },
    {
     "name": "stdout",
     "output_type": "stream",
     "text": [
      "Train Epoch: 0 [15360/38723 (39%)]\tLoss: 1.219539\n"
     ]
    },
    {
     "name": "stderr",
     "output_type": "stream",
     "text": [
      " 55%|█████▌    | 42/76 [00:07<00:06,  5.60it/s]"
     ]
    },
    {
     "name": "stdout",
     "output_type": "stream",
     "text": [
      "Train Epoch: 0 [20480/38723 (53%)]\tLoss: 1.140200\n"
     ]
    },
    {
     "name": "stderr",
     "output_type": "stream",
     "text": [
      " 68%|██████▊   | 52/76 [00:09<00:04,  5.36it/s]"
     ]
    },
    {
     "name": "stdout",
     "output_type": "stream",
     "text": [
      "Train Epoch: 0 [25600/38723 (66%)]\tLoss: 1.001733\n"
     ]
    },
    {
     "name": "stderr",
     "output_type": "stream",
     "text": [
      " 82%|████████▏ | 62/76 [00:11<00:02,  5.59it/s]"
     ]
    },
    {
     "name": "stdout",
     "output_type": "stream",
     "text": [
      "Train Epoch: 0 [30720/38723 (79%)]\tLoss: 1.092110\n"
     ]
    },
    {
     "name": "stderr",
     "output_type": "stream",
     "text": [
      " 95%|█████████▍| 72/76 [00:13<00:00,  5.56it/s]"
     ]
    },
    {
     "name": "stdout",
     "output_type": "stream",
     "text": [
      "Train Epoch: 0 [35840/38723 (92%)]\tLoss: 1.111346\n"
     ]
    },
    {
     "name": "stderr",
     "output_type": "stream",
     "text": [
      "100%|██████████| 76/76 [00:14<00:00,  5.40it/s]\n"
     ]
    },
    {
     "name": "stdout",
     "output_type": "stream",
     "text": [
      "Input\t['ஃ', 'ப', 'ா', 'ர', '்', 'ம', '்']\n",
      "GT\t['f', 'a', 'r', 'm']\n",
      "pred\t['s', 'p', 'a', 'r']\n",
      "\n",
      "\n",
      "Input\t['ந', 'ெ', 'ற', '்', 'ற', 'ி']\n",
      "GT\t['n', 'e', 't', 'r', 'i']\n",
      "pred\t['a', 'e', 't', 'i', 'a', 'i']\n",
      "\n",
      "\n",
      "Input\t['க', 'ா', 'ர', 'ண', 'த', '்', 'த', 'ை', 'ப', '்']\n",
      "GT\t['k', 'a', 'a', 'r', 'a', 'n', 'a', 't', 't', 'a', 'i', 'p']\n",
      "pred\t['a', 'a', 'r', 'a', 't', 'a', 't', 'a', 'p']\n",
      "\n",
      "\n",
      "Input\t['வ', 'ா', 'க', 'ன']\n",
      "GT\t['v', 'a', 'a', 'g', 'a', 'n', 'a']\n",
      "pred\t['v', 'a', 'a', 'a']\n",
      "\n",
      "\n",
      "\n",
      "Test set: Average loss: 0.9798, Accuracy: 180616/239760 (75%)\n",
      "\n"
     ]
    },
    {
     "name": "stderr",
     "output_type": "stream",
     "text": [
      "  1%|▏         | 1/76 [00:00<00:12,  5.91it/s]"
     ]
    },
    {
     "name": "stdout",
     "output_type": "stream",
     "text": [
      "Train Epoch: 1 [0/38723 (0%)]\tLoss: 0.941664\n"
     ]
    },
    {
     "name": "stderr",
     "output_type": "stream",
     "text": [
      " 16%|█▌        | 12/76 [00:02<00:12,  5.26it/s]"
     ]
    },
    {
     "name": "stdout",
     "output_type": "stream",
     "text": [
      "Train Epoch: 1 [5120/38723 (13%)]\tLoss: 0.946916\n"
     ]
    },
    {
     "name": "stderr",
     "output_type": "stream",
     "text": [
      " 29%|██▉       | 22/76 [00:04<00:10,  5.08it/s]"
     ]
    },
    {
     "name": "stdout",
     "output_type": "stream",
     "text": [
      "Train Epoch: 1 [10240/38723 (26%)]\tLoss: 1.148896\n"
     ]
    },
    {
     "name": "stderr",
     "output_type": "stream",
     "text": [
      " 42%|████▏     | 32/76 [00:06<00:08,  5.22it/s]"
     ]
    },
    {
     "name": "stdout",
     "output_type": "stream",
     "text": [
      "Train Epoch: 1 [15360/38723 (39%)]\tLoss: 1.148189\n"
     ]
    },
    {
     "name": "stderr",
     "output_type": "stream",
     "text": [
      " 55%|█████▌    | 42/76 [00:08<00:06,  5.59it/s]"
     ]
    },
    {
     "name": "stdout",
     "output_type": "stream",
     "text": [
      "Train Epoch: 1 [20480/38723 (53%)]\tLoss: 1.133134\n"
     ]
    },
    {
     "name": "stderr",
     "output_type": "stream",
     "text": [
      " 68%|██████▊   | 52/76 [00:09<00:04,  5.67it/s]"
     ]
    },
    {
     "name": "stdout",
     "output_type": "stream",
     "text": [
      "Train Epoch: 1 [25600/38723 (66%)]\tLoss: 0.991637\n"
     ]
    },
    {
     "name": "stderr",
     "output_type": "stream",
     "text": [
      " 82%|████████▏ | 62/76 [00:11<00:02,  5.59it/s]"
     ]
    },
    {
     "name": "stdout",
     "output_type": "stream",
     "text": [
      "Train Epoch: 1 [30720/38723 (79%)]\tLoss: 1.081855\n"
     ]
    },
    {
     "name": "stderr",
     "output_type": "stream",
     "text": [
      " 95%|█████████▍| 72/76 [00:13<00:00,  5.36it/s]"
     ]
    },
    {
     "name": "stdout",
     "output_type": "stream",
     "text": [
      "Train Epoch: 1 [35840/38723 (92%)]\tLoss: 1.103379\n"
     ]
    },
    {
     "name": "stderr",
     "output_type": "stream",
     "text": [
      "100%|██████████| 76/76 [00:14<00:00,  5.40it/s]\n"
     ]
    },
    {
     "name": "stdout",
     "output_type": "stream",
     "text": [
      "Input\t['ஃ', 'ப', 'ா', 'ர', '்', 'ம', '்']\n",
      "GT\t['f', 'a', 'r', 'm']\n",
      "pred\t['o', 'p', 'a', 'r']\n",
      "\n",
      "\n",
      "Input\t['ந', 'ெ', 'ற', '்', 'ற', 'ி']\n",
      "GT\t['n', 'e', 't', 'r', 'i']\n",
      "pred\t['a', 'e', 'r', 'i', 'a', 'i']\n",
      "\n",
      "\n",
      "Input\t['க', 'ா', 'ர', 'ண', 'த', '்', 'த', 'ை', 'ப', '்']\n",
      "GT\t['k', 'a', 'a', 'r', 'a', 'n', 'a', 't', 't', 'a', 'i', 'p']\n",
      "pred\t['a', 'a', 'r', 'a', 't', 'a', 't', 'a', 'p', 'a']\n",
      "\n",
      "\n",
      "Input\t['வ', 'ா', 'க', 'ன']\n",
      "GT\t['v', 'a', 'a', 'g', 'a', 'n', 'a']\n",
      "pred\t['v', 'a', 'a', 'a']\n",
      "\n",
      "\n",
      "\n",
      "Test set: Average loss: 0.9663, Accuracy: 181249/239760 (76%)\n",
      "\n"
     ]
    },
    {
     "name": "stderr",
     "output_type": "stream",
     "text": [
      "  1%|▏         | 1/76 [00:00<00:14,  5.08it/s]"
     ]
    },
    {
     "name": "stdout",
     "output_type": "stream",
     "text": [
      "Train Epoch: 2 [0/38723 (0%)]\tLoss: 0.913445\n"
     ]
    },
    {
     "name": "stderr",
     "output_type": "stream",
     "text": [
      " 16%|█▌        | 12/76 [00:02<00:12,  5.04it/s]"
     ]
    },
    {
     "name": "stdout",
     "output_type": "stream",
     "text": [
      "Train Epoch: 2 [5120/38723 (13%)]\tLoss: 0.883890\n"
     ]
    },
    {
     "name": "stderr",
     "output_type": "stream",
     "text": [
      " 28%|██▊       | 21/76 [00:04<00:10,  5.30it/s]"
     ]
    },
    {
     "name": "stdout",
     "output_type": "stream",
     "text": [
      "Train Epoch: 2 [10240/38723 (26%)]\tLoss: 1.212912\n"
     ]
    },
    {
     "name": "stderr",
     "output_type": "stream",
     "text": [
      " 42%|████▏     | 32/76 [00:06<00:08,  5.08it/s]"
     ]
    },
    {
     "name": "stdout",
     "output_type": "stream",
     "text": [
      "Train Epoch: 2 [15360/38723 (39%)]\tLoss: 1.133844\n"
     ]
    },
    {
     "name": "stderr",
     "output_type": "stream",
     "text": [
      " 55%|█████▌    | 42/76 [00:08<00:06,  5.63it/s]"
     ]
    },
    {
     "name": "stdout",
     "output_type": "stream",
     "text": [
      "Train Epoch: 2 [20480/38723 (53%)]\tLoss: 1.131916\n"
     ]
    },
    {
     "name": "stderr",
     "output_type": "stream",
     "text": [
      " 68%|██████▊   | 52/76 [00:09<00:04,  5.64it/s]"
     ]
    },
    {
     "name": "stdout",
     "output_type": "stream",
     "text": [
      "Train Epoch: 2 [25600/38723 (66%)]\tLoss: 0.984055\n"
     ]
    },
    {
     "name": "stderr",
     "output_type": "stream",
     "text": [
      " 82%|████████▏ | 62/76 [00:11<00:02,  5.65it/s]"
     ]
    },
    {
     "name": "stdout",
     "output_type": "stream",
     "text": [
      "Train Epoch: 2 [30720/38723 (79%)]\tLoss: 1.060317\n"
     ]
    },
    {
     "name": "stderr",
     "output_type": "stream",
     "text": [
      " 95%|█████████▍| 72/76 [00:13<00:00,  5.65it/s]"
     ]
    },
    {
     "name": "stdout",
     "output_type": "stream",
     "text": [
      "Train Epoch: 2 [35840/38723 (92%)]\tLoss: 1.086131\n"
     ]
    },
    {
     "name": "stderr",
     "output_type": "stream",
     "text": [
      "100%|██████████| 76/76 [00:14<00:00,  5.40it/s]\n"
     ]
    },
    {
     "name": "stdout",
     "output_type": "stream",
     "text": [
      "Input\t['ஃ', 'ப', 'ா', 'ர', '்', 'ம', '்']\n",
      "GT\t['f', 'a', 'r', 'm']\n",
      "pred\t['o', 'p', 'a', 'r']\n",
      "\n",
      "\n",
      "Input\t['ந', 'ெ', 'ற', '்', 'ற', 'ி']\n",
      "GT\t['n', 'e', 't', 'r', 'i']\n",
      "pred\t['a', 'e', 'a', 'a', 'a', 'i']\n",
      "\n",
      "\n",
      "Input\t['க', 'ா', 'ர', 'ண', 'த', '்', 'த', 'ை', 'ப', '்']\n",
      "GT\t['k', 'a', 'a', 'r', 'a', 'n', 'a', 't', 't', 'a', 'i', 'p']\n",
      "pred\t['a', 'a', 'a', 'a', 'a', 'a', 'a', 'a', 'a', 'a']\n",
      "\n",
      "\n",
      "Input\t['வ', 'ா', 'க', 'ன']\n",
      "GT\t['v', 'a', 'a', 'g', 'a', 'n', 'a']\n",
      "pred\t['v', 'a', 'a', 'a']\n",
      "\n",
      "\n",
      "\n",
      "Test set: Average loss: 0.9543, Accuracy: 179483/239760 (75%)\n",
      "\n"
     ]
    },
    {
     "name": "stderr",
     "output_type": "stream",
     "text": [
      "  3%|▎         | 2/76 [00:00<00:15,  4.89it/s]"
     ]
    },
    {
     "name": "stdout",
     "output_type": "stream",
     "text": [
      "Train Epoch: 3 [0/38723 (0%)]\tLoss: 0.911926\n"
     ]
    },
    {
     "name": "stderr",
     "output_type": "stream",
     "text": [
      " 16%|█▌        | 12/76 [00:02<00:12,  5.22it/s]"
     ]
    },
    {
     "name": "stdout",
     "output_type": "stream",
     "text": [
      "Train Epoch: 3 [5120/38723 (13%)]\tLoss: 0.874029\n"
     ]
    },
    {
     "name": "stderr",
     "output_type": "stream",
     "text": [
      " 29%|██▉       | 22/76 [00:04<00:09,  5.61it/s]"
     ]
    },
    {
     "name": "stdout",
     "output_type": "stream",
     "text": [
      "Train Epoch: 3 [10240/38723 (26%)]\tLoss: 1.132556\n"
     ]
    },
    {
     "name": "stderr",
     "output_type": "stream",
     "text": [
      " 42%|████▏     | 32/76 [00:05<00:07,  5.65it/s]"
     ]
    },
    {
     "name": "stdout",
     "output_type": "stream",
     "text": [
      "Train Epoch: 3 [15360/38723 (39%)]\tLoss: 1.125437\n"
     ]
    },
    {
     "name": "stderr",
     "output_type": "stream",
     "text": [
      " 55%|█████▌    | 42/76 [00:07<00:05,  5.67it/s]"
     ]
    },
    {
     "name": "stdout",
     "output_type": "stream",
     "text": [
      "Train Epoch: 3 [20480/38723 (53%)]\tLoss: 1.119319\n"
     ]
    },
    {
     "name": "stderr",
     "output_type": "stream",
     "text": [
      " 68%|██████▊   | 52/76 [00:09<00:04,  5.65it/s]"
     ]
    },
    {
     "name": "stdout",
     "output_type": "stream",
     "text": [
      "Train Epoch: 3 [25600/38723 (66%)]\tLoss: 0.991914\n"
     ]
    },
    {
     "name": "stderr",
     "output_type": "stream",
     "text": [
      " 82%|████████▏ | 62/76 [00:11<00:02,  5.58it/s]"
     ]
    },
    {
     "name": "stdout",
     "output_type": "stream",
     "text": [
      "Train Epoch: 3 [30720/38723 (79%)]\tLoss: 1.050694\n"
     ]
    },
    {
     "name": "stderr",
     "output_type": "stream",
     "text": [
      " 95%|█████████▍| 72/76 [00:13<00:00,  5.62it/s]"
     ]
    },
    {
     "name": "stdout",
     "output_type": "stream",
     "text": [
      "Train Epoch: 3 [35840/38723 (92%)]\tLoss: 1.098116\n"
     ]
    },
    {
     "name": "stderr",
     "output_type": "stream",
     "text": [
      "100%|██████████| 76/76 [00:13<00:00,  5.56it/s]\n"
     ]
    },
    {
     "name": "stdout",
     "output_type": "stream",
     "text": [
      "Input\t['ஃ', 'ப', 'ா', 'ர', '்', 'ம', '்']\n",
      "GT\t['f', 'a', 'r', 'm']\n",
      "pred\t['o', 'p', 'a', 'r']\n",
      "\n",
      "\n",
      "Input\t['ந', 'ெ', 'ற', '்', 'ற', 'ி']\n",
      "GT\t['n', 'e', 't', 'r', 'i']\n",
      "pred\t['a', 'e', 'a', 'a', 'a', 'i']\n",
      "\n",
      "\n",
      "Input\t['க', 'ா', 'ர', 'ண', 'த', '்', 'த', 'ை', 'ப', '்']\n",
      "GT\t['k', 'a', 'a', 'r', 'a', 'n', 'a', 't', 't', 'a', 'i', 'p']\n",
      "pred\t['a', 'a', 'r', 'a', 't', 'a', 't', 'a', 'a', 'a']\n",
      "\n",
      "\n",
      "Input\t['வ', 'ா', 'க', 'ன']\n",
      "GT\t['v', 'a', 'a', 'g', 'a', 'n', 'a']\n",
      "pred\t['v', 'a', 'a', 'a']\n",
      "\n",
      "\n",
      "\n",
      "Test set: Average loss: 0.9557, Accuracy: 181166/239760 (76%)\n",
      "\n"
     ]
    },
    {
     "name": "stderr",
     "output_type": "stream",
     "text": [
      "  1%|▏         | 1/76 [00:00<00:14,  5.14it/s]"
     ]
    },
    {
     "name": "stdout",
     "output_type": "stream",
     "text": [
      "Train Epoch: 4 [0/38723 (0%)]\tLoss: 0.908232\n"
     ]
    },
    {
     "name": "stderr",
     "output_type": "stream",
     "text": [
      " 14%|█▍        | 11/76 [00:02<00:12,  5.25it/s]"
     ]
    },
    {
     "name": "stdout",
     "output_type": "stream",
     "text": [
      "Train Epoch: 4 [5120/38723 (13%)]\tLoss: 0.864788\n"
     ]
    },
    {
     "name": "stderr",
     "output_type": "stream",
     "text": [
      " 28%|██▊       | 21/76 [00:04<00:10,  5.34it/s]"
     ]
    },
    {
     "name": "stdout",
     "output_type": "stream",
     "text": [
      "Train Epoch: 4 [10240/38723 (26%)]\tLoss: 1.149159\n"
     ]
    },
    {
     "name": "stderr",
     "output_type": "stream",
     "text": [
      " 42%|████▏     | 32/76 [00:06<00:08,  5.17it/s]"
     ]
    },
    {
     "name": "stdout",
     "output_type": "stream",
     "text": [
      "Train Epoch: 4 [15360/38723 (39%)]\tLoss: 1.124951\n"
     ]
    },
    {
     "name": "stderr",
     "output_type": "stream",
     "text": [
      " 55%|█████▌    | 42/76 [00:08<00:06,  5.43it/s]"
     ]
    },
    {
     "name": "stdout",
     "output_type": "stream",
     "text": [
      "Train Epoch: 4 [20480/38723 (53%)]\tLoss: 1.105677\n"
     ]
    },
    {
     "name": "stderr",
     "output_type": "stream",
     "text": [
      " 67%|██████▋   | 51/76 [00:09<00:04,  5.47it/s]"
     ]
    },
    {
     "name": "stdout",
     "output_type": "stream",
     "text": [
      "Train Epoch: 4 [25600/38723 (66%)]\tLoss: 0.987910\n"
     ]
    },
    {
     "name": "stderr",
     "output_type": "stream",
     "text": [
      " 82%|████████▏ | 62/76 [00:12<00:02,  5.42it/s]"
     ]
    },
    {
     "name": "stdout",
     "output_type": "stream",
     "text": [
      "Train Epoch: 4 [30720/38723 (79%)]\tLoss: 1.055371\n"
     ]
    },
    {
     "name": "stderr",
     "output_type": "stream",
     "text": [
      " 95%|█████████▍| 72/76 [00:13<00:00,  5.67it/s]"
     ]
    },
    {
     "name": "stdout",
     "output_type": "stream",
     "text": [
      "Train Epoch: 4 [35840/38723 (92%)]\tLoss: 1.083642\n"
     ]
    },
    {
     "name": "stderr",
     "output_type": "stream",
     "text": [
      "100%|██████████| 76/76 [00:14<00:00,  5.27it/s]\n"
     ]
    },
    {
     "name": "stdout",
     "output_type": "stream",
     "text": [
      "Input\t['ஃ', 'ப', 'ா', 'ர', '்', 'ம', '்']\n",
      "GT\t['f', 'a', 'r', 'm']\n",
      "pred\t['o', 'p', 'a', 'r']\n",
      "\n",
      "\n",
      "Input\t['ந', 'ெ', 'ற', '்', 'ற', 'ி']\n",
      "GT\t['n', 'e', 't', 'r', 'i']\n",
      "pred\t['n', 'e', 'a', 'a', 'a', 'i']\n",
      "\n",
      "\n",
      "Input\t['க', 'ா', 'ர', 'ண', 'த', '்', 'த', 'ை', 'ப', '்']\n",
      "GT\t['k', 'a', 'a', 'r', 'a', 'n', 'a', 't', 't', 'a', 'i', 'p']\n",
      "pred\t['a', 'a', 'r', 'a', 't', 'a', 't', 'a', 'p', 'a']\n",
      "\n",
      "\n",
      "Input\t['வ', 'ா', 'க', 'ன']\n",
      "GT\t['v', 'a', 'a', 'g', 'a', 'n', 'a']\n",
      "pred\t['v', 'a', 'a', 'a']\n",
      "\n",
      "\n",
      "\n",
      "Test set: Average loss: 0.9507, Accuracy: 181969/239760 (76%)\n",
      "\n"
     ]
    },
    {
     "name": "stderr",
     "output_type": "stream",
     "text": [
      "\r",
      "  0%|          | 0/76 [00:00<?, ?it/s]"
     ]
    },
    {
     "name": "stdout",
     "output_type": "stream",
     "text": [
      "Train Epoch: 5 [0/38723 (0%)]\tLoss: 0.899852"
     ]
    },
    {
     "name": "stderr",
     "output_type": "stream",
     "text": [
      "\r",
      "  1%|▏         | 1/76 [00:00<00:14,  5.17it/s]"
     ]
    },
    {
     "name": "stdout",
     "output_type": "stream",
     "text": [
      "\n"
     ]
    },
    {
     "name": "stderr",
     "output_type": "stream",
     "text": [
      " 14%|█▍        | 11/76 [00:02<00:13,  4.90it/s]"
     ]
    },
    {
     "name": "stdout",
     "output_type": "stream",
     "text": [
      "Train Epoch: 5 [5120/38723 (13%)]\tLoss: 0.853871\n"
     ]
    },
    {
     "name": "stderr",
     "output_type": "stream",
     "text": [
      " 29%|██▉       | 22/76 [00:04<00:09,  5.45it/s]"
     ]
    },
    {
     "name": "stdout",
     "output_type": "stream",
     "text": [
      "Train Epoch: 5 [10240/38723 (26%)]\tLoss: 1.113089\n"
     ]
    },
    {
     "name": "stderr",
     "output_type": "stream",
     "text": [
      " 42%|████▏     | 32/76 [00:06<00:07,  5.60it/s]"
     ]
    },
    {
     "name": "stdout",
     "output_type": "stream",
     "text": [
      "Train Epoch: 5 [15360/38723 (39%)]\tLoss: 1.115149\n"
     ]
    },
    {
     "name": "stderr",
     "output_type": "stream",
     "text": [
      " 55%|█████▌    | 42/76 [00:07<00:06,  5.61it/s]"
     ]
    },
    {
     "name": "stdout",
     "output_type": "stream",
     "text": [
      "Train Epoch: 5 [20480/38723 (53%)]\tLoss: 1.094461\n"
     ]
    },
    {
     "name": "stderr",
     "output_type": "stream",
     "text": [
      " 68%|██████▊   | 52/76 [00:09<00:04,  5.57it/s]"
     ]
    },
    {
     "name": "stdout",
     "output_type": "stream",
     "text": [
      "Train Epoch: 5 [25600/38723 (66%)]\tLoss: 0.977751\n"
     ]
    },
    {
     "name": "stderr",
     "output_type": "stream",
     "text": [
      " 82%|████████▏ | 62/76 [00:11<00:02,  5.58it/s]"
     ]
    },
    {
     "name": "stdout",
     "output_type": "stream",
     "text": [
      "Train Epoch: 5 [30720/38723 (79%)]\tLoss: 1.032270\n"
     ]
    },
    {
     "name": "stderr",
     "output_type": "stream",
     "text": [
      " 95%|█████████▍| 72/76 [00:13<00:00,  5.62it/s]"
     ]
    },
    {
     "name": "stdout",
     "output_type": "stream",
     "text": [
      "Train Epoch: 5 [35840/38723 (92%)]\tLoss: 1.077925\n"
     ]
    },
    {
     "name": "stderr",
     "output_type": "stream",
     "text": [
      "100%|██████████| 76/76 [00:13<00:00,  5.46it/s]\n"
     ]
    },
    {
     "name": "stdout",
     "output_type": "stream",
     "text": [
      "Input\t['ஃ', 'ப', 'ா', 'ர', '்', 'ம', '்']\n",
      "GT\t['f', 'a', 'r', 'm']\n",
      "pred\t['f', 'p', 'a', 'r']\n",
      "\n",
      "\n",
      "Input\t['ந', 'ெ', 'ற', '்', 'ற', 'ி']\n",
      "GT\t['n', 'e', 't', 'r', 'i']\n",
      "pred\t['n', 'e', 't', 'a', 'i', 'i']\n",
      "\n",
      "\n",
      "Input\t['க', 'ா', 'ர', 'ண', 'த', '்', 'த', 'ை', 'ப', '்']\n",
      "GT\t['k', 'a', 'a', 'r', 'a', 'n', 'a', 't', 't', 'a', 'i', 'p']\n",
      "pred\t['k', 'a', 'a', 'a', 't', 'a', 't', 'a', 'p', 'a']\n",
      "\n",
      "\n",
      "Input\t['வ', 'ா', 'க', 'ன']\n",
      "GT\t['v', 'a', 'a', 'g', 'a', 'n', 'a']\n",
      "pred\t['v', 'a', 'a', 'a']\n",
      "\n",
      "\n",
      "\n",
      "Test set: Average loss: 0.9476, Accuracy: 182131/239760 (76%)\n",
      "\n"
     ]
    },
    {
     "name": "stderr",
     "output_type": "stream",
     "text": [
      "  1%|▏         | 1/76 [00:00<00:12,  6.09it/s]"
     ]
    },
    {
     "name": "stdout",
     "output_type": "stream",
     "text": [
      "Train Epoch: 6 [0/38723 (0%)]\tLoss: 0.890140\n"
     ]
    },
    {
     "name": "stderr",
     "output_type": "stream",
     "text": [
      " 16%|█▌        | 12/76 [00:02<00:11,  5.63it/s]"
     ]
    },
    {
     "name": "stdout",
     "output_type": "stream",
     "text": [
      "Train Epoch: 6 [5120/38723 (13%)]\tLoss: 0.862809\n"
     ]
    },
    {
     "name": "stderr",
     "output_type": "stream",
     "text": [
      " 29%|██▉       | 22/76 [00:03<00:09,  5.61it/s]"
     ]
    },
    {
     "name": "stdout",
     "output_type": "stream",
     "text": [
      "Train Epoch: 6 [10240/38723 (26%)]\tLoss: 1.115503\n"
     ]
    },
    {
     "name": "stderr",
     "output_type": "stream",
     "text": [
      " 42%|████▏     | 32/76 [00:05<00:07,  5.61it/s]"
     ]
    },
    {
     "name": "stdout",
     "output_type": "stream",
     "text": [
      "Train Epoch: 6 [15360/38723 (39%)]\tLoss: 1.125893\n"
     ]
    },
    {
     "name": "stderr",
     "output_type": "stream",
     "text": [
      " 55%|█████▌    | 42/76 [00:07<00:06,  5.58it/s]"
     ]
    },
    {
     "name": "stdout",
     "output_type": "stream",
     "text": [
      "Train Epoch: 6 [20480/38723 (53%)]\tLoss: 1.107033\n"
     ]
    },
    {
     "name": "stderr",
     "output_type": "stream",
     "text": [
      " 68%|██████▊   | 52/76 [00:09<00:04,  5.55it/s]"
     ]
    },
    {
     "name": "stdout",
     "output_type": "stream",
     "text": [
      "Train Epoch: 6 [25600/38723 (66%)]\tLoss: 0.977372\n"
     ]
    },
    {
     "name": "stderr",
     "output_type": "stream",
     "text": [
      " 82%|████████▏ | 62/76 [00:11<00:02,  5.50it/s]"
     ]
    },
    {
     "name": "stdout",
     "output_type": "stream",
     "text": [
      "Train Epoch: 6 [30720/38723 (79%)]\tLoss: 1.044638\n"
     ]
    },
    {
     "name": "stderr",
     "output_type": "stream",
     "text": [
      " 95%|█████████▍| 72/76 [00:12<00:00,  5.59it/s]"
     ]
    },
    {
     "name": "stdout",
     "output_type": "stream",
     "text": [
      "Train Epoch: 6 [35840/38723 (92%)]\tLoss: 1.083371\n"
     ]
    },
    {
     "name": "stderr",
     "output_type": "stream",
     "text": [
      "100%|██████████| 76/76 [00:13<00:00,  5.61it/s]\n"
     ]
    },
    {
     "name": "stdout",
     "output_type": "stream",
     "text": [
      "Input\t['ஃ', 'ப', 'ா', 'ர', '்', 'ம', '்']\n",
      "GT\t['f', 'a', 'r', 'm']\n",
      "pred\t['o', 'p', 'a', 'r']\n",
      "\n",
      "\n",
      "Input\t['ந', 'ெ', 'ற', '்', 'ற', 'ி']\n",
      "GT\t['n', 'e', 't', 'r', 'i']\n",
      "pred\t['n', 'e', 'a', 'a', 'a', 'i']\n",
      "\n",
      "\n",
      "Input\t['க', 'ா', 'ர', 'ண', 'த', '்', 'த', 'ை', 'ப', '்']\n",
      "GT\t['k', 'a', 'a', 'r', 'a', 'n', 'a', 't', 't', 'a', 'i', 'p']\n",
      "pred\t['a', 'a', 'a', 'a', 't', 'a', 't', 'a', 'p', 'a']\n",
      "\n",
      "\n",
      "Input\t['வ', 'ா', 'க', 'ன']\n",
      "GT\t['v', 'a', 'a', 'g', 'a', 'n', 'a']\n",
      "pred\t['v', 'a', 'a', 'a']\n",
      "\n",
      "\n",
      "\n",
      "Test set: Average loss: 0.9651, Accuracy: 181130/239760 (76%)\n",
      "\n"
     ]
    },
    {
     "name": "stderr",
     "output_type": "stream",
     "text": [
      "  1%|▏         | 1/76 [00:00<00:12,  5.91it/s]"
     ]
    },
    {
     "name": "stdout",
     "output_type": "stream",
     "text": [
      "Train Epoch: 7 [0/38723 (0%)]\tLoss: 0.920235\n"
     ]
    },
    {
     "name": "stderr",
     "output_type": "stream",
     "text": [
      " 16%|█▌        | 12/76 [00:02<00:11,  5.67it/s]"
     ]
    },
    {
     "name": "stdout",
     "output_type": "stream",
     "text": [
      "Train Epoch: 7 [5120/38723 (13%)]\tLoss: 0.859873\n"
     ]
    },
    {
     "name": "stderr",
     "output_type": "stream",
     "text": [
      " 29%|██▉       | 22/76 [00:03<00:09,  5.44it/s]"
     ]
    },
    {
     "name": "stdout",
     "output_type": "stream",
     "text": [
      "Train Epoch: 7 [10240/38723 (26%)]\tLoss: 1.145307\n"
     ]
    },
    {
     "name": "stderr",
     "output_type": "stream",
     "text": [
      " 42%|████▏     | 32/76 [00:05<00:08,  5.43it/s]"
     ]
    },
    {
     "name": "stdout",
     "output_type": "stream",
     "text": [
      "Train Epoch: 7 [15360/38723 (39%)]\tLoss: 1.137558\n"
     ]
    },
    {
     "name": "stderr",
     "output_type": "stream",
     "text": [
      " 55%|█████▌    | 42/76 [00:07<00:06,  5.63it/s]"
     ]
    },
    {
     "name": "stdout",
     "output_type": "stream",
     "text": [
      "Train Epoch: 7 [20480/38723 (53%)]\tLoss: 1.108426\n"
     ]
    },
    {
     "name": "stderr",
     "output_type": "stream",
     "text": [
      " 68%|██████▊   | 52/76 [00:09<00:04,  5.44it/s]"
     ]
    },
    {
     "name": "stdout",
     "output_type": "stream",
     "text": [
      "Train Epoch: 7 [25600/38723 (66%)]\tLoss: 0.991307\n"
     ]
    },
    {
     "name": "stderr",
     "output_type": "stream",
     "text": [
      " 82%|████████▏ | 62/76 [00:11<00:02,  5.42it/s]"
     ]
    },
    {
     "name": "stdout",
     "output_type": "stream",
     "text": [
      "Train Epoch: 7 [30720/38723 (79%)]\tLoss: 1.030739\n"
     ]
    },
    {
     "name": "stderr",
     "output_type": "stream",
     "text": [
      " 95%|█████████▍| 72/76 [00:12<00:00,  5.58it/s]"
     ]
    },
    {
     "name": "stdout",
     "output_type": "stream",
     "text": [
      "Train Epoch: 7 [35840/38723 (92%)]\tLoss: 1.088654\n"
     ]
    },
    {
     "name": "stderr",
     "output_type": "stream",
     "text": [
      "100%|██████████| 76/76 [00:13<00:00,  5.58it/s]\n"
     ]
    },
    {
     "name": "stdout",
     "output_type": "stream",
     "text": [
      "Input\t['ஃ', 'ப', 'ா', 'ர', '்', 'ம', '்']\n",
      "GT\t['f', 'a', 'r', 'm']\n",
      "pred\t['o', 'p', 'a', 'r']\n",
      "\n",
      "\n",
      "Input\t['ந', 'ெ', 'ற', '்', 'ற', 'ி']\n",
      "GT\t['n', 'e', 't', 'r', 'i']\n",
      "pred\t['a', 'e', 'a', 'a', 'a', 'i']\n",
      "\n",
      "\n",
      "Input\t['க', 'ா', 'ர', 'ண', 'த', '்', 'த', 'ை', 'ப', '்']\n",
      "GT\t['k', 'a', 'a', 'r', 'a', 'n', 'a', 't', 't', 'a', 'i', 'p']\n",
      "pred\t['a', 'a', 'a', 'a', 't', 'a', 't', 'a', 'p', 'a']\n",
      "\n",
      "\n",
      "Input\t['வ', 'ா', 'க', 'ன']\n",
      "GT\t['v', 'a', 'a', 'g', 'a', 'n', 'a']\n",
      "pred\t['v', 'a', 'a', 'a']\n",
      "\n",
      "\n",
      "\n",
      "Test set: Average loss: 0.9539, Accuracy: 180198/239760 (75%)\n",
      "\n"
     ]
    },
    {
     "name": "stderr",
     "output_type": "stream",
     "text": [
      "  1%|▏         | 1/76 [00:00<00:12,  6.00it/s]"
     ]
    },
    {
     "name": "stdout",
     "output_type": "stream",
     "text": [
      "Train Epoch: 8 [0/38723 (0%)]\tLoss: 0.903162\n"
     ]
    },
    {
     "name": "stderr",
     "output_type": "stream",
     "text": [
      " 16%|█▌        | 12/76 [00:02<00:11,  5.56it/s]"
     ]
    },
    {
     "name": "stdout",
     "output_type": "stream",
     "text": [
      "Train Epoch: 8 [5120/38723 (13%)]\tLoss: 0.859713\n"
     ]
    },
    {
     "name": "stderr",
     "output_type": "stream",
     "text": [
      " 29%|██▉       | 22/76 [00:03<00:09,  5.50it/s]"
     ]
    },
    {
     "name": "stdout",
     "output_type": "stream",
     "text": [
      "Train Epoch: 8 [10240/38723 (26%)]\tLoss: 1.168654\n"
     ]
    },
    {
     "name": "stderr",
     "output_type": "stream",
     "text": [
      " 42%|████▏     | 32/76 [00:05<00:07,  5.64it/s]"
     ]
    },
    {
     "name": "stdout",
     "output_type": "stream",
     "text": [
      "Train Epoch: 8 [15360/38723 (39%)]\tLoss: 1.132403\n"
     ]
    },
    {
     "name": "stderr",
     "output_type": "stream",
     "text": [
      " 55%|█████▌    | 42/76 [00:07<00:06,  5.63it/s]"
     ]
    },
    {
     "name": "stdout",
     "output_type": "stream",
     "text": [
      "Train Epoch: 8 [20480/38723 (53%)]\tLoss: 1.114255\n"
     ]
    },
    {
     "name": "stderr",
     "output_type": "stream",
     "text": [
      " 68%|██████▊   | 52/76 [00:09<00:04,  5.47it/s]"
     ]
    },
    {
     "name": "stdout",
     "output_type": "stream",
     "text": [
      "Train Epoch: 8 [25600/38723 (66%)]\tLoss: 0.983901\n"
     ]
    },
    {
     "name": "stderr",
     "output_type": "stream",
     "text": [
      " 82%|████████▏ | 62/76 [00:11<00:02,  5.55it/s]"
     ]
    },
    {
     "name": "stdout",
     "output_type": "stream",
     "text": [
      "Train Epoch: 8 [30720/38723 (79%)]\tLoss: 1.040215\n"
     ]
    },
    {
     "name": "stderr",
     "output_type": "stream",
     "text": [
      " 95%|█████████▍| 72/76 [00:12<00:00,  5.60it/s]"
     ]
    },
    {
     "name": "stdout",
     "output_type": "stream",
     "text": [
      "Train Epoch: 8 [35840/38723 (92%)]\tLoss: 1.089684\n"
     ]
    },
    {
     "name": "stderr",
     "output_type": "stream",
     "text": [
      "100%|██████████| 76/76 [00:13<00:00,  5.58it/s]\n"
     ]
    },
    {
     "name": "stdout",
     "output_type": "stream",
     "text": [
      "Input\t['ஃ', 'ப', 'ா', 'ர', '்', 'ம', '்']\n",
      "GT\t['f', 'a', 'r', 'm']\n",
      "pred\t['o', 'p', 'a', 'r']\n",
      "\n",
      "\n",
      "Input\t['ந', 'ெ', 'ற', '்', 'ற', 'ி']\n",
      "GT\t['n', 'e', 't', 'r', 'i']\n",
      "pred\t['a', 'e', 'a', 'a', 'r', 'i']\n",
      "\n",
      "\n",
      "Input\t['க', 'ா', 'ர', 'ண', 'த', '்', 'த', 'ை', 'ப', '்']\n",
      "GT\t['k', 'a', 'a', 'r', 'a', 'n', 'a', 't', 't', 'a', 'i', 'p']\n",
      "pred\t['a', 'a', 'r', 'a', 't', 'a', 't', 'a', 'p']\n",
      "\n",
      "\n",
      "Input\t['வ', 'ா', 'க', 'ன']\n",
      "GT\t['v', 'a', 'a', 'g', 'a', 'n', 'a']\n",
      "pred\t['v', 'a', 'a', 'a']\n",
      "\n",
      "\n",
      "\n",
      "Test set: Average loss: 0.9541, Accuracy: 180965/239760 (75%)\n",
      "\n"
     ]
    },
    {
     "name": "stderr",
     "output_type": "stream",
     "text": [
      "  1%|▏         | 1/76 [00:00<00:12,  6.02it/s]"
     ]
    },
    {
     "name": "stdout",
     "output_type": "stream",
     "text": [
      "Train Epoch: 9 [0/38723 (0%)]\tLoss: 0.901789\n"
     ]
    },
    {
     "name": "stderr",
     "output_type": "stream",
     "text": [
      " 16%|█▌        | 12/76 [00:02<00:11,  5.58it/s]"
     ]
    },
    {
     "name": "stdout",
     "output_type": "stream",
     "text": [
      "Train Epoch: 9 [5120/38723 (13%)]\tLoss: 0.866595\n"
     ]
    },
    {
     "name": "stderr",
     "output_type": "stream",
     "text": [
      " 29%|██▉       | 22/76 [00:04<00:10,  5.17it/s]"
     ]
    },
    {
     "name": "stdout",
     "output_type": "stream",
     "text": [
      "Train Epoch: 9 [10240/38723 (26%)]\tLoss: 1.161297\n"
     ]
    },
    {
     "name": "stderr",
     "output_type": "stream",
     "text": [
      " 42%|████▏     | 32/76 [00:05<00:07,  5.61it/s]"
     ]
    },
    {
     "name": "stdout",
     "output_type": "stream",
     "text": [
      "Train Epoch: 9 [15360/38723 (39%)]\tLoss: 1.138049\n"
     ]
    },
    {
     "name": "stderr",
     "output_type": "stream",
     "text": [
      " 55%|█████▌    | 42/76 [00:07<00:06,  5.64it/s]"
     ]
    },
    {
     "name": "stdout",
     "output_type": "stream",
     "text": [
      "Train Epoch: 9 [20480/38723 (53%)]\tLoss: 1.128658\n"
     ]
    },
    {
     "name": "stderr",
     "output_type": "stream",
     "text": [
      " 68%|██████▊   | 52/76 [00:09<00:04,  5.41it/s]"
     ]
    },
    {
     "name": "stdout",
     "output_type": "stream",
     "text": [
      "Train Epoch: 9 [25600/38723 (66%)]\tLoss: 0.974503\n"
     ]
    },
    {
     "name": "stderr",
     "output_type": "stream",
     "text": [
      " 82%|████████▏ | 62/76 [00:11<00:02,  5.60it/s]"
     ]
    },
    {
     "name": "stdout",
     "output_type": "stream",
     "text": [
      "Train Epoch: 9 [30720/38723 (79%)]\tLoss: 1.032305\n"
     ]
    },
    {
     "name": "stderr",
     "output_type": "stream",
     "text": [
      " 95%|█████████▍| 72/76 [00:13<00:00,  5.46it/s]"
     ]
    },
    {
     "name": "stdout",
     "output_type": "stream",
     "text": [
      "Train Epoch: 9 [35840/38723 (92%)]\tLoss: 1.088966\n"
     ]
    },
    {
     "name": "stderr",
     "output_type": "stream",
     "text": [
      "100%|██████████| 76/76 [00:13<00:00,  5.47it/s]\n"
     ]
    },
    {
     "name": "stdout",
     "output_type": "stream",
     "text": [
      "Input\t['ஃ', 'ப', 'ா', 'ர', '்', 'ம', '்']\n",
      "GT\t['f', 'a', 'r', 'm']\n",
      "pred\t['b', 'p', 'a', 'r']\n",
      "\n",
      "\n",
      "Input\t['ந', 'ெ', 'ற', '்', 'ற', 'ி']\n",
      "GT\t['n', 'e', 't', 'r', 'i']\n",
      "pred\t['n', 'e', 'a', 'a', 'a', 'i']\n",
      "\n",
      "\n",
      "Input\t['க', 'ா', 'ர', 'ண', 'த', '்', 'த', 'ை', 'ப', '்']\n",
      "GT\t['k', 'a', 'a', 'r', 'a', 'n', 'a', 't', 't', 'a', 'i', 'p']\n",
      "pred\t['a', 'a', 'a', 'a', 't', 'a', 't', 'a', 'p']\n",
      "\n",
      "\n",
      "Input\t['வ', 'ா', 'க', 'ன']\n",
      "GT\t['v', 'a', 'a', 'g', 'a', 'n', 'a']\n",
      "pred\t['v', 'a', 'k', 'a']\n",
      "\n",
      "\n",
      "\n",
      "Test set: Average loss: 0.9620, Accuracy: 180062/239760 (75%)\n",
      "\n"
     ]
    },
    {
     "name": "stderr",
     "output_type": "stream",
     "text": [
      "  1%|▏         | 1/76 [00:00<00:12,  6.05it/s]"
     ]
    },
    {
     "name": "stdout",
     "output_type": "stream",
     "text": [
      "Train Epoch: 10 [0/38723 (0%)]\tLoss: 0.902962\n"
     ]
    },
    {
     "name": "stderr",
     "output_type": "stream",
     "text": [
      " 16%|█▌        | 12/76 [00:02<00:11,  5.54it/s]"
     ]
    },
    {
     "name": "stdout",
     "output_type": "stream",
     "text": [
      "Train Epoch: 10 [5120/38723 (13%)]\tLoss: 0.871130\n"
     ]
    },
    {
     "name": "stderr",
     "output_type": "stream",
     "text": [
      " 29%|██▉       | 22/76 [00:03<00:09,  5.65it/s]"
     ]
    },
    {
     "name": "stdout",
     "output_type": "stream",
     "text": [
      "Train Epoch: 10 [10240/38723 (26%)]\tLoss: 1.125967\n"
     ]
    },
    {
     "name": "stderr",
     "output_type": "stream",
     "text": [
      " 42%|████▏     | 32/76 [00:05<00:07,  5.54it/s]"
     ]
    },
    {
     "name": "stdout",
     "output_type": "stream",
     "text": [
      "Train Epoch: 10 [15360/38723 (39%)]\tLoss: 1.144894\n"
     ]
    },
    {
     "name": "stderr",
     "output_type": "stream",
     "text": [
      " 55%|█████▌    | 42/76 [00:07<00:06,  5.55it/s]"
     ]
    },
    {
     "name": "stdout",
     "output_type": "stream",
     "text": [
      "Train Epoch: 10 [20480/38723 (53%)]\tLoss: 1.106900\n"
     ]
    },
    {
     "name": "stderr",
     "output_type": "stream",
     "text": [
      " 68%|██████▊   | 52/76 [00:09<00:04,  5.55it/s]"
     ]
    },
    {
     "name": "stdout",
     "output_type": "stream",
     "text": [
      "Train Epoch: 10 [25600/38723 (66%)]\tLoss: 0.985274\n"
     ]
    },
    {
     "name": "stderr",
     "output_type": "stream",
     "text": [
      " 82%|████████▏ | 62/76 [00:11<00:02,  5.60it/s]"
     ]
    },
    {
     "name": "stdout",
     "output_type": "stream",
     "text": [
      "Train Epoch: 10 [30720/38723 (79%)]\tLoss: 1.035769\n"
     ]
    },
    {
     "name": "stderr",
     "output_type": "stream",
     "text": [
      " 95%|█████████▍| 72/76 [00:12<00:00,  5.52it/s]"
     ]
    },
    {
     "name": "stdout",
     "output_type": "stream",
     "text": [
      "Train Epoch: 10 [35840/38723 (92%)]\tLoss: 1.080352\n"
     ]
    },
    {
     "name": "stderr",
     "output_type": "stream",
     "text": [
      "100%|██████████| 76/76 [00:13<00:00,  5.59it/s]\n"
     ]
    },
    {
     "name": "stdout",
     "output_type": "stream",
     "text": [
      "Input\t['ஃ', 'ப', 'ா', 'ர', '்', 'ம', '்']\n",
      "GT\t['f', 'a', 'r', 'm']\n",
      "pred\t['f', 'p', 'a', 'r']\n",
      "\n",
      "\n",
      "Input\t['ந', 'ெ', 'ற', '்', 'ற', 'ி']\n",
      "GT\t['n', 'e', 't', 'r', 'i']\n",
      "pred\t['a', 'e', 'r', 'a', 'a', 'i']\n",
      "\n",
      "\n",
      "Input\t['க', 'ா', 'ர', 'ண', 'த', '்', 'த', 'ை', 'ப', '்']\n",
      "GT\t['k', 'a', 'a', 'r', 'a', 'n', 'a', 't', 't', 'a', 'i', 'p']\n",
      "pred\t['a', 'a', 'a', 'a', 't', 'a', 't', 'a', 'p']\n",
      "\n",
      "\n",
      "Input\t['வ', 'ா', 'க', 'ன']\n",
      "GT\t['v', 'a', 'a', 'g', 'a', 'n', 'a']\n",
      "pred\t['v']\n",
      "\n",
      "\n",
      "\n",
      "Test set: Average loss: 0.9676, Accuracy: 181089/239760 (76%)\n",
      "\n"
     ]
    },
    {
     "name": "stderr",
     "output_type": "stream",
     "text": [
      "  1%|▏         | 1/76 [00:00<00:12,  5.93it/s]"
     ]
    },
    {
     "name": "stdout",
     "output_type": "stream",
     "text": [
      "Train Epoch: 11 [0/38723 (0%)]\tLoss: 0.905542\n"
     ]
    },
    {
     "name": "stderr",
     "output_type": "stream",
     "text": [
      " 16%|█▌        | 12/76 [00:02<00:11,  5.59it/s]"
     ]
    },
    {
     "name": "stdout",
     "output_type": "stream",
     "text": [
      "Train Epoch: 11 [5120/38723 (13%)]\tLoss: 0.852513\n"
     ]
    },
    {
     "name": "stderr",
     "output_type": "stream",
     "text": [
      " 29%|██▉       | 22/76 [00:04<00:10,  5.35it/s]"
     ]
    },
    {
     "name": "stdout",
     "output_type": "stream",
     "text": [
      "Train Epoch: 11 [10240/38723 (26%)]\tLoss: 1.120756\n"
     ]
    },
    {
     "name": "stderr",
     "output_type": "stream",
     "text": [
      " 41%|████      | 31/76 [00:05<00:08,  5.55it/s]"
     ]
    },
    {
     "name": "stdout",
     "output_type": "stream",
     "text": [
      "Train Epoch: 11 [15360/38723 (39%)]\tLoss: 1.115793\n"
     ]
    },
    {
     "name": "stderr",
     "output_type": "stream",
     "text": [
      " 55%|█████▌    | 42/76 [00:07<00:06,  5.53it/s]"
     ]
    },
    {
     "name": "stdout",
     "output_type": "stream",
     "text": [
      "Train Epoch: 11 [20480/38723 (53%)]\tLoss: 1.135054\n"
     ]
    },
    {
     "name": "stderr",
     "output_type": "stream",
     "text": [
      " 68%|██████▊   | 52/76 [00:09<00:04,  5.46it/s]"
     ]
    },
    {
     "name": "stdout",
     "output_type": "stream",
     "text": [
      "Train Epoch: 11 [25600/38723 (66%)]\tLoss: 0.971120\n"
     ]
    },
    {
     "name": "stderr",
     "output_type": "stream",
     "text": [
      " 82%|████████▏ | 62/76 [00:11<00:02,  5.57it/s]"
     ]
    },
    {
     "name": "stdout",
     "output_type": "stream",
     "text": [
      "Train Epoch: 11 [30720/38723 (79%)]\tLoss: 1.036741\n"
     ]
    },
    {
     "name": "stderr",
     "output_type": "stream",
     "text": [
      " 95%|█████████▍| 72/76 [00:13<00:00,  5.58it/s]"
     ]
    },
    {
     "name": "stdout",
     "output_type": "stream",
     "text": [
      "Train Epoch: 11 [35840/38723 (92%)]\tLoss: 1.074954\n"
     ]
    },
    {
     "name": "stderr",
     "output_type": "stream",
     "text": [
      "100%|██████████| 76/76 [00:13<00:00,  5.52it/s]\n"
     ]
    },
    {
     "name": "stdout",
     "output_type": "stream",
     "text": [
      "Input\t['ஃ', 'ப', 'ா', 'ர', '்', 'ம', '்']\n",
      "GT\t['f', 'a', 'r', 'm']\n",
      "pred\t['p', 'p', 'a', 'r', 'l', 'm', 'l']\n",
      "\n",
      "\n",
      "Input\t['ந', 'ெ', 'ற', '்', 'ற', 'ி']\n",
      "GT\t['n', 'e', 't', 'r', 'i']\n",
      "pred\t['n', 'e', 'a', 'a', 'a', 'i']\n",
      "\n",
      "\n",
      "Input\t['க', 'ா', 'ர', 'ண', 'த', '்', 'த', 'ை', 'ப', '்']\n",
      "GT\t['k', 'a', 'a', 'r', 'a', 'n', 'a', 't', 't', 'a', 'i', 'p']\n",
      "pred\t['a', 'a', 'a', 'a', 'a', 'a', 'a', 'a', 'p']\n",
      "\n",
      "\n",
      "Input\t['வ', 'ா', 'க', 'ன']\n",
      "GT\t['v', 'a', 'a', 'g', 'a', 'n', 'a']\n",
      "pred\t['v', 'a', 'a', 'a']\n",
      "\n",
      "\n",
      "\n",
      "Test set: Average loss: 0.9643, Accuracy: 181065/239760 (76%)\n",
      "\n"
     ]
    },
    {
     "name": "stderr",
     "output_type": "stream",
     "text": [
      "  1%|▏         | 1/76 [00:00<00:12,  6.04it/s]"
     ]
    },
    {
     "name": "stdout",
     "output_type": "stream",
     "text": [
      "Train Epoch: 12 [0/38723 (0%)]\tLoss: 0.903154\n"
     ]
    },
    {
     "name": "stderr",
     "output_type": "stream",
     "text": [
      " 16%|█▌        | 12/76 [00:02<00:11,  5.41it/s]"
     ]
    },
    {
     "name": "stdout",
     "output_type": "stream",
     "text": [
      "Train Epoch: 12 [5120/38723 (13%)]\tLoss: 0.864159\n"
     ]
    },
    {
     "name": "stderr",
     "output_type": "stream",
     "text": [
      " 29%|██▉       | 22/76 [00:03<00:09,  5.50it/s]"
     ]
    },
    {
     "name": "stdout",
     "output_type": "stream",
     "text": [
      "Train Epoch: 12 [10240/38723 (26%)]\tLoss: 1.126383\n"
     ]
    },
    {
     "name": "stderr",
     "output_type": "stream",
     "text": [
      " 42%|████▏     | 32/76 [00:05<00:08,  5.39it/s]"
     ]
    },
    {
     "name": "stdout",
     "output_type": "stream",
     "text": [
      "Train Epoch: 12 [15360/38723 (39%)]\tLoss: 1.139157\n"
     ]
    },
    {
     "name": "stderr",
     "output_type": "stream",
     "text": [
      " 55%|█████▌    | 42/76 [00:07<00:06,  5.60it/s]"
     ]
    },
    {
     "name": "stdout",
     "output_type": "stream",
     "text": [
      "Train Epoch: 12 [20480/38723 (53%)]\tLoss: 1.124459\n"
     ]
    },
    {
     "name": "stderr",
     "output_type": "stream",
     "text": [
      " 67%|██████▋   | 51/76 [00:09<00:04,  5.41it/s]"
     ]
    },
    {
     "name": "stdout",
     "output_type": "stream",
     "text": [
      "Train Epoch: 12 [25600/38723 (66%)]\tLoss: 0.976278\n"
     ]
    },
    {
     "name": "stderr",
     "output_type": "stream",
     "text": [
      " 82%|████████▏ | 62/76 [00:11<00:02,  5.54it/s]"
     ]
    },
    {
     "name": "stdout",
     "output_type": "stream",
     "text": [
      "Train Epoch: 12 [30720/38723 (79%)]\tLoss: 1.046728\n"
     ]
    },
    {
     "name": "stderr",
     "output_type": "stream",
     "text": [
      " 95%|█████████▍| 72/76 [00:13<00:00,  5.49it/s]"
     ]
    },
    {
     "name": "stdout",
     "output_type": "stream",
     "text": [
      "Train Epoch: 12 [35840/38723 (92%)]\tLoss: 1.078067\n"
     ]
    },
    {
     "name": "stderr",
     "output_type": "stream",
     "text": [
      "100%|██████████| 76/76 [00:13<00:00,  5.47it/s]\n"
     ]
    },
    {
     "name": "stdout",
     "output_type": "stream",
     "text": [
      "Input\t['ஃ', 'ப', 'ா', 'ர', '்', 'ம', '்']\n",
      "GT\t['f', 'a', 'r', 'm']\n",
      "pred\t['x', 'p', 'a', 'r']\n",
      "\n",
      "\n",
      "Input\t['ந', 'ெ', 'ற', '்', 'ற', 'ி']\n",
      "GT\t['n', 'e', 't', 'r', 'i']\n",
      "pred\t['n', 'e', 'a', 'a', 'a', 'i']\n",
      "\n",
      "\n",
      "Input\t['க', 'ா', 'ர', 'ண', 'த', '்', 'த', 'ை', 'ப', '்']\n",
      "GT\t['k', 'a', 'a', 'r', 'a', 'n', 'a', 't', 't', 'a', 'i', 'p']\n",
      "pred\t['a', 'a', 'a', 'a', 't', 'a', 't', 'a', 'p', 'a']\n",
      "\n",
      "\n",
      "Input\t['வ', 'ா', 'க', 'ன']\n",
      "GT\t['v', 'a', 'a', 'g', 'a', 'n', 'a']\n",
      "pred\t['v', 'a', 'a', 'a']\n",
      "\n",
      "\n",
      "\n",
      "Test set: Average loss: 0.9506, Accuracy: 182193/239760 (76%)\n",
      "\n"
     ]
    },
    {
     "name": "stderr",
     "output_type": "stream",
     "text": [
      "  1%|▏         | 1/76 [00:00<00:12,  5.96it/s]"
     ]
    },
    {
     "name": "stdout",
     "output_type": "stream",
     "text": [
      "Train Epoch: 13 [0/38723 (0%)]\tLoss: 0.902787\n"
     ]
    },
    {
     "name": "stderr",
     "output_type": "stream",
     "text": [
      " 16%|█▌        | 12/76 [00:02<00:11,  5.57it/s]"
     ]
    },
    {
     "name": "stdout",
     "output_type": "stream",
     "text": [
      "Train Epoch: 13 [5120/38723 (13%)]\tLoss: 0.852868\n"
     ]
    },
    {
     "name": "stderr",
     "output_type": "stream",
     "text": [
      " 29%|██▉       | 22/76 [00:03<00:09,  5.42it/s]"
     ]
    },
    {
     "name": "stdout",
     "output_type": "stream",
     "text": [
      "Train Epoch: 13 [10240/38723 (26%)]\tLoss: 1.130157\n"
     ]
    },
    {
     "name": "stderr",
     "output_type": "stream",
     "text": [
      " 42%|████▏     | 32/76 [00:05<00:08,  5.46it/s]"
     ]
    },
    {
     "name": "stdout",
     "output_type": "stream",
     "text": [
      "Train Epoch: 13 [15360/38723 (39%)]\tLoss: 1.102259\n"
     ]
    },
    {
     "name": "stderr",
     "output_type": "stream",
     "text": [
      " 55%|█████▌    | 42/76 [00:07<00:06,  5.57it/s]"
     ]
    },
    {
     "name": "stdout",
     "output_type": "stream",
     "text": [
      "Train Epoch: 13 [20480/38723 (53%)]\tLoss: 1.124191\n"
     ]
    },
    {
     "name": "stderr",
     "output_type": "stream",
     "text": [
      " 68%|██████▊   | 52/76 [00:09<00:04,  5.60it/s]"
     ]
    },
    {
     "name": "stdout",
     "output_type": "stream",
     "text": [
      "Train Epoch: 13 [25600/38723 (66%)]\tLoss: 0.974024\n"
     ]
    },
    {
     "name": "stderr",
     "output_type": "stream",
     "text": [
      " 82%|████████▏ | 62/76 [00:11<00:02,  5.37it/s]"
     ]
    },
    {
     "name": "stdout",
     "output_type": "stream",
     "text": [
      "Train Epoch: 13 [30720/38723 (79%)]\tLoss: 1.045818\n"
     ]
    },
    {
     "name": "stderr",
     "output_type": "stream",
     "text": [
      " 95%|█████████▍| 72/76 [00:13<00:00,  5.52it/s]"
     ]
    },
    {
     "name": "stdout",
     "output_type": "stream",
     "text": [
      "Train Epoch: 13 [35840/38723 (92%)]\tLoss: 1.091471\n"
     ]
    },
    {
     "name": "stderr",
     "output_type": "stream",
     "text": [
      "100%|██████████| 76/76 [00:13<00:00,  5.53it/s]\n"
     ]
    },
    {
     "name": "stdout",
     "output_type": "stream",
     "text": [
      "Input\t['ஃ', 'ப', 'ா', 'ர', '்', 'ம', '்']\n",
      "GT\t['f', 'a', 'r', 'm']\n",
      "pred\t['x', 'p', 'a', 'r']\n",
      "\n",
      "\n",
      "Input\t['ந', 'ெ', 'ற', '்', 'ற', 'ி']\n",
      "GT\t['n', 'e', 't', 'r', 'i']\n",
      "pred\t['n', 'e', 'a', 'a', 'a', 'i']\n",
      "\n",
      "\n",
      "Input\t['க', 'ா', 'ர', 'ண', 'த', '்', 'த', 'ை', 'ப', '்']\n",
      "GT\t['k', 'a', 'a', 'r', 'a', 'n', 'a', 't', 't', 'a', 'i', 'p']\n",
      "pred\t['a', 'a', 'a', 'a', 't', 'n', 't', 'a', 'p', 'a']\n",
      "\n",
      "\n",
      "Input\t['வ', 'ா', 'க', 'ன']\n",
      "GT\t['v', 'a', 'a', 'g', 'a', 'n', 'a']\n",
      "pred\t['v', 'a', 'a', 'a']\n",
      "\n",
      "\n",
      "\n",
      "Test set: Average loss: 0.9484, Accuracy: 180974/239760 (75%)\n",
      "\n"
     ]
    },
    {
     "name": "stderr",
     "output_type": "stream",
     "text": [
      "  1%|▏         | 1/76 [00:00<00:12,  5.92it/s]"
     ]
    },
    {
     "name": "stdout",
     "output_type": "stream",
     "text": [
      "Train Epoch: 14 [0/38723 (0%)]\tLoss: 0.899136\n"
     ]
    },
    {
     "name": "stderr",
     "output_type": "stream",
     "text": [
      " 14%|█▍        | 11/76 [00:01<00:11,  5.55it/s]"
     ]
    },
    {
     "name": "stdout",
     "output_type": "stream",
     "text": [
      "Train Epoch: 14 [5120/38723 (13%)]\tLoss: 0.846950\n"
     ]
    },
    {
     "name": "stderr",
     "output_type": "stream",
     "text": [
      " 29%|██▉       | 22/76 [00:04<00:09,  5.54it/s]"
     ]
    },
    {
     "name": "stdout",
     "output_type": "stream",
     "text": [
      "Train Epoch: 14 [10240/38723 (26%)]\tLoss: 1.110531\n"
     ]
    },
    {
     "name": "stderr",
     "output_type": "stream",
     "text": [
      " 42%|████▏     | 32/76 [00:05<00:08,  5.45it/s]"
     ]
    },
    {
     "name": "stdout",
     "output_type": "stream",
     "text": [
      "Train Epoch: 14 [15360/38723 (39%)]\tLoss: 1.134546\n"
     ]
    },
    {
     "name": "stderr",
     "output_type": "stream",
     "text": [
      " 55%|█████▌    | 42/76 [00:07<00:06,  5.41it/s]"
     ]
    },
    {
     "name": "stdout",
     "output_type": "stream",
     "text": [
      "Train Epoch: 14 [20480/38723 (53%)]\tLoss: 1.120010\n"
     ]
    },
    {
     "name": "stderr",
     "output_type": "stream",
     "text": [
      " 68%|██████▊   | 52/76 [00:09<00:04,  5.55it/s]"
     ]
    },
    {
     "name": "stdout",
     "output_type": "stream",
     "text": [
      "Train Epoch: 14 [25600/38723 (66%)]\tLoss: 0.969943\n"
     ]
    },
    {
     "name": "stderr",
     "output_type": "stream",
     "text": [
      " 82%|████████▏ | 62/76 [00:11<00:02,  5.40it/s]"
     ]
    },
    {
     "name": "stdout",
     "output_type": "stream",
     "text": [
      "Train Epoch: 14 [30720/38723 (79%)]\tLoss: 1.039353\n"
     ]
    },
    {
     "name": "stderr",
     "output_type": "stream",
     "text": [
      " 95%|█████████▍| 72/76 [00:13<00:00,  5.54it/s]"
     ]
    },
    {
     "name": "stdout",
     "output_type": "stream",
     "text": [
      "Train Epoch: 14 [35840/38723 (92%)]\tLoss: 1.078940\n"
     ]
    },
    {
     "name": "stderr",
     "output_type": "stream",
     "text": [
      "100%|██████████| 76/76 [00:13<00:00,  5.50it/s]\n"
     ]
    },
    {
     "name": "stdout",
     "output_type": "stream",
     "text": [
      "Input\t['ஃ', 'ப', 'ா', 'ர', '்', 'ம', '்']\n",
      "GT\t['f', 'a', 'r', 'm']\n",
      "pred\t['p', 'p', 'a', 'r', 'n', 'm', 'n']\n",
      "\n",
      "\n",
      "Input\t['ந', 'ெ', 'ற', '்', 'ற', 'ி']\n",
      "GT\t['n', 'e', 't', 'r', 'i']\n",
      "pred\t['n', 'e', 'r', 'i', 'a', 'i']\n",
      "\n",
      "\n",
      "Input\t['க', 'ா', 'ர', 'ண', 'த', '்', 'த', 'ை', 'ப', '்']\n",
      "GT\t['k', 'a', 'a', 'r', 'a', 'n', 'a', 't', 't', 'a', 'i', 'p']\n",
      "pred\t['k', 'a', 'a', 'a', 't', 'n', 't', 'a', 'a', 'a']\n",
      "\n",
      "\n",
      "Input\t['வ', 'ா', 'க', 'ன']\n",
      "GT\t['v', 'a', 'a', 'g', 'a', 'n', 'a']\n",
      "pred\t['v', 'a', 'a', 'a']\n",
      "\n",
      "\n",
      "\n",
      "Test set: Average loss: 0.9531, Accuracy: 181964/239760 (76%)\n",
      "\n"
     ]
    },
    {
     "name": "stderr",
     "output_type": "stream",
     "text": [
      "  1%|▏         | 1/76 [00:00<00:12,  5.99it/s]"
     ]
    },
    {
     "name": "stdout",
     "output_type": "stream",
     "text": [
      "Train Epoch: 15 [0/38723 (0%)]\tLoss: 0.900055\n"
     ]
    },
    {
     "name": "stderr",
     "output_type": "stream",
     "text": [
      " 16%|█▌        | 12/76 [00:02<00:11,  5.50it/s]"
     ]
    },
    {
     "name": "stdout",
     "output_type": "stream",
     "text": [
      "Train Epoch: 15 [5120/38723 (13%)]\tLoss: 0.849390\n"
     ]
    },
    {
     "name": "stderr",
     "output_type": "stream",
     "text": [
      " 29%|██▉       | 22/76 [00:03<00:09,  5.52it/s]"
     ]
    },
    {
     "name": "stdout",
     "output_type": "stream",
     "text": [
      "Train Epoch: 15 [10240/38723 (26%)]\tLoss: 1.245606\n"
     ]
    },
    {
     "name": "stderr",
     "output_type": "stream",
     "text": [
      " 42%|████▏     | 32/76 [00:05<00:08,  5.45it/s]"
     ]
    },
    {
     "name": "stdout",
     "output_type": "stream",
     "text": [
      "Train Epoch: 15 [15360/38723 (39%)]\tLoss: 1.136230\n"
     ]
    },
    {
     "name": "stderr",
     "output_type": "stream",
     "text": [
      " 55%|█████▌    | 42/76 [00:07<00:06,  5.62it/s]"
     ]
    },
    {
     "name": "stdout",
     "output_type": "stream",
     "text": [
      "Train Epoch: 15 [20480/38723 (53%)]\tLoss: 1.174662\n"
     ]
    },
    {
     "name": "stderr",
     "output_type": "stream",
     "text": [
      " 68%|██████▊   | 52/76 [00:09<00:04,  5.67it/s]"
     ]
    },
    {
     "name": "stdout",
     "output_type": "stream",
     "text": [
      "Train Epoch: 15 [25600/38723 (66%)]\tLoss: 1.011926\n"
     ]
    },
    {
     "name": "stderr",
     "output_type": "stream",
     "text": [
      " 82%|████████▏ | 62/76 [00:11<00:02,  5.64it/s]"
     ]
    },
    {
     "name": "stdout",
     "output_type": "stream",
     "text": [
      "Train Epoch: 15 [30720/38723 (79%)]\tLoss: 1.041406\n"
     ]
    },
    {
     "name": "stderr",
     "output_type": "stream",
     "text": [
      " 95%|█████████▍| 72/76 [00:12<00:00,  5.59it/s]"
     ]
    },
    {
     "name": "stdout",
     "output_type": "stream",
     "text": [
      "Train Epoch: 15 [35840/38723 (92%)]\tLoss: 1.094574\n"
     ]
    },
    {
     "name": "stderr",
     "output_type": "stream",
     "text": [
      "100%|██████████| 76/76 [00:13<00:00,  5.60it/s]\n"
     ]
    },
    {
     "name": "stdout",
     "output_type": "stream",
     "text": [
      "Input\t['ஃ', 'ப', 'ா', 'ர', '்', 'ம', '்']\n",
      "GT\t['f', 'a', 'r', 'm']\n",
      "pred\t['b', 'p', 'a', 'r', 'm', 'm', 'm']\n",
      "\n",
      "\n",
      "Input\t['ந', 'ெ', 'ற', '்', 'ற', 'ி']\n",
      "GT\t['n', 'e', 't', 'r', 'i']\n",
      "pred\t['n', 'e', 'r', 'i', 'a', 'i']\n",
      "\n",
      "\n",
      "Input\t['க', 'ா', 'ர', 'ண', 'த', '்', 'த', 'ை', 'ப', '்']\n",
      "GT\t['k', 'a', 'a', 'r', 'a', 'n', 'a', 't', 't', 'a', 'i', 'p']\n",
      "pred\t['a', 'a', 'a', 'a', 't', 'a', 't', 'a', 'a', 'i']\n",
      "\n",
      "\n",
      "Input\t['வ', 'ா', 'க', 'ன']\n",
      "GT\t['v', 'a', 'a', 'g', 'a', 'n', 'a']\n",
      "pred\t['v']\n",
      "\n",
      "\n",
      "\n",
      "Test set: Average loss: 0.9575, Accuracy: 181495/239760 (76%)\n",
      "\n"
     ]
    },
    {
     "name": "stderr",
     "output_type": "stream",
     "text": [
      "  1%|▏         | 1/76 [00:00<00:12,  5.92it/s]"
     ]
    },
    {
     "name": "stdout",
     "output_type": "stream",
     "text": [
      "Train Epoch: 16 [0/38723 (0%)]\tLoss: 0.927277\n"
     ]
    },
    {
     "name": "stderr",
     "output_type": "stream",
     "text": [
      " 16%|█▌        | 12/76 [00:02<00:11,  5.65it/s]"
     ]
    },
    {
     "name": "stdout",
     "output_type": "stream",
     "text": [
      "Train Epoch: 16 [5120/38723 (13%)]\tLoss: 0.857431\n"
     ]
    },
    {
     "name": "stderr",
     "output_type": "stream",
     "text": [
      " 29%|██▉       | 22/76 [00:03<00:09,  5.58it/s]"
     ]
    },
    {
     "name": "stdout",
     "output_type": "stream",
     "text": [
      "Train Epoch: 16 [10240/38723 (26%)]\tLoss: 1.134857\n"
     ]
    },
    {
     "name": "stderr",
     "output_type": "stream",
     "text": [
      " 42%|████▏     | 32/76 [00:05<00:07,  5.64it/s]"
     ]
    },
    {
     "name": "stdout",
     "output_type": "stream",
     "text": [
      "Train Epoch: 16 [15360/38723 (39%)]\tLoss: 1.149916\n"
     ]
    },
    {
     "name": "stderr",
     "output_type": "stream",
     "text": [
      " 55%|█████▌    | 42/76 [00:07<00:06,  5.57it/s]"
     ]
    },
    {
     "name": "stdout",
     "output_type": "stream",
     "text": [
      "Train Epoch: 16 [20480/38723 (53%)]\tLoss: 1.137869\n"
     ]
    },
    {
     "name": "stderr",
     "output_type": "stream",
     "text": [
      " 68%|██████▊   | 52/76 [00:09<00:04,  5.58it/s]"
     ]
    },
    {
     "name": "stdout",
     "output_type": "stream",
     "text": [
      "Train Epoch: 16 [25600/38723 (66%)]\tLoss: 0.987960\n"
     ]
    },
    {
     "name": "stderr",
     "output_type": "stream",
     "text": [
      " 82%|████████▏ | 62/76 [00:11<00:02,  5.57it/s]"
     ]
    },
    {
     "name": "stdout",
     "output_type": "stream",
     "text": [
      "Train Epoch: 16 [30720/38723 (79%)]\tLoss: 1.049285\n"
     ]
    },
    {
     "name": "stderr",
     "output_type": "stream",
     "text": [
      " 95%|█████████▍| 72/76 [00:12<00:00,  5.59it/s]"
     ]
    },
    {
     "name": "stdout",
     "output_type": "stream",
     "text": [
      "Train Epoch: 16 [35840/38723 (92%)]\tLoss: 1.098089\n"
     ]
    },
    {
     "name": "stderr",
     "output_type": "stream",
     "text": [
      "100%|██████████| 76/76 [00:13<00:00,  5.62it/s]\n"
     ]
    },
    {
     "name": "stdout",
     "output_type": "stream",
     "text": [
      "Input\t['ஃ', 'ப', 'ா', 'ர', '்', 'ம', '்']\n",
      "GT\t['f', 'a', 'r', 'm']\n",
      "pred\t['f', 'p', 'a', 'r', 'n', 'm', 'n']\n",
      "\n",
      "\n",
      "Input\t['ந', 'ெ', 'ற', '்', 'ற', 'ி']\n",
      "GT\t['n', 'e', 't', 'r', 'i']\n",
      "pred\t['a', 'e', 'a', 'n', 'a', 'i']\n",
      "\n",
      "\n",
      "Input\t['க', 'ா', 'ர', 'ண', 'த', '்', 'த', 'ை', 'ப', '்']\n",
      "GT\t['k', 'a', 'a', 'r', 'a', 'n', 'a', 't', 't', 'a', 'i', 'p']\n",
      "pred\t['a', 'a', 'a', 'a', 't', 'a', 't', 'a', 'a', 'a']\n",
      "\n",
      "\n",
      "Input\t['வ', 'ா', 'க', 'ன']\n",
      "GT\t['v', 'a', 'a', 'g', 'a', 'n', 'a']\n",
      "pred\t['v', 'a', 'a', 'a']\n",
      "\n",
      "\n",
      "\n",
      "Test set: Average loss: 0.9637, Accuracy: 181125/239760 (76%)\n",
      "\n"
     ]
    },
    {
     "name": "stderr",
     "output_type": "stream",
     "text": [
      "  1%|▏         | 1/76 [00:00<00:12,  6.02it/s]"
     ]
    },
    {
     "name": "stdout",
     "output_type": "stream",
     "text": [
      "Train Epoch: 17 [0/38723 (0%)]\tLoss: 0.927074\n"
     ]
    },
    {
     "name": "stderr",
     "output_type": "stream",
     "text": [
      " 16%|█▌        | 12/76 [00:02<00:12,  5.09it/s]"
     ]
    },
    {
     "name": "stdout",
     "output_type": "stream",
     "text": [
      "Train Epoch: 17 [5120/38723 (13%)]\tLoss: 0.875842\n"
     ]
    },
    {
     "name": "stderr",
     "output_type": "stream",
     "text": [
      " 29%|██▉       | 22/76 [00:04<00:09,  5.57it/s]"
     ]
    },
    {
     "name": "stdout",
     "output_type": "stream",
     "text": [
      "Train Epoch: 17 [10240/38723 (26%)]\tLoss: 1.136894\n"
     ]
    },
    {
     "name": "stderr",
     "output_type": "stream",
     "text": [
      " 42%|████▏     | 32/76 [00:05<00:07,  5.57it/s]"
     ]
    },
    {
     "name": "stdout",
     "output_type": "stream",
     "text": [
      "Train Epoch: 17 [15360/38723 (39%)]\tLoss: 1.128084\n"
     ]
    },
    {
     "name": "stderr",
     "output_type": "stream",
     "text": [
      " 55%|█████▌    | 42/76 [00:07<00:06,  5.58it/s]"
     ]
    },
    {
     "name": "stdout",
     "output_type": "stream",
     "text": [
      "Train Epoch: 17 [20480/38723 (53%)]\tLoss: 1.128973\n"
     ]
    },
    {
     "name": "stderr",
     "output_type": "stream",
     "text": [
      " 68%|██████▊   | 52/76 [00:09<00:04,  5.45it/s]"
     ]
    },
    {
     "name": "stdout",
     "output_type": "stream",
     "text": [
      "Train Epoch: 17 [25600/38723 (66%)]\tLoss: 0.986858\n"
     ]
    },
    {
     "name": "stderr",
     "output_type": "stream",
     "text": [
      " 82%|████████▏ | 62/76 [00:11<00:02,  5.61it/s]"
     ]
    },
    {
     "name": "stdout",
     "output_type": "stream",
     "text": [
      "Train Epoch: 17 [30720/38723 (79%)]\tLoss: 1.050427\n"
     ]
    },
    {
     "name": "stderr",
     "output_type": "stream",
     "text": [
      " 95%|█████████▍| 72/76 [00:13<00:00,  5.54it/s]"
     ]
    },
    {
     "name": "stdout",
     "output_type": "stream",
     "text": [
      "Train Epoch: 17 [35840/38723 (92%)]\tLoss: 1.086783\n"
     ]
    },
    {
     "name": "stderr",
     "output_type": "stream",
     "text": [
      "100%|██████████| 76/76 [00:13<00:00,  5.55it/s]\n"
     ]
    },
    {
     "name": "stdout",
     "output_type": "stream",
     "text": [
      "Input\t['ஃ', 'ப', 'ா', 'ர', '்', 'ம', '்']\n",
      "GT\t['f', 'a', 'r', 'm']\n",
      "pred\t['f', 'p', 'a', 'r']\n",
      "\n",
      "\n",
      "Input\t['ந', 'ெ', 'ற', '்', 'ற', 'ி']\n",
      "GT\t['n', 'e', 't', 'r', 'i']\n",
      "pred\t['n', 'e', 't', 'a', 'a', 'i']\n",
      "\n",
      "\n",
      "Input\t['க', 'ா', 'ர', 'ண', 'த', '்', 'த', 'ை', 'ப', '்']\n",
      "GT\t['k', 'a', 'a', 'r', 'a', 'n', 'a', 't', 't', 'a', 'i', 'p']\n",
      "pred\t['a', 'a', 'r', 'a', 't', 'a', 't', 'a', 'a', 'a']\n",
      "\n",
      "\n",
      "Input\t['வ', 'ா', 'க', 'ன']\n",
      "GT\t['v', 'a', 'a', 'g', 'a', 'n', 'a']\n",
      "pred\t['v', 'a', 'k', 'n']\n",
      "\n",
      "\n",
      "\n",
      "Test set: Average loss: 0.9494, Accuracy: 182083/239760 (76%)\n",
      "\n"
     ]
    },
    {
     "name": "stderr",
     "output_type": "stream",
     "text": [
      "  1%|▏         | 1/76 [00:00<00:12,  5.87it/s]"
     ]
    },
    {
     "name": "stdout",
     "output_type": "stream",
     "text": [
      "Train Epoch: 18 [0/38723 (0%)]\tLoss: 0.912419\n"
     ]
    },
    {
     "name": "stderr",
     "output_type": "stream",
     "text": [
      " 16%|█▌        | 12/76 [00:02<00:11,  5.54it/s]"
     ]
    },
    {
     "name": "stdout",
     "output_type": "stream",
     "text": [
      "Train Epoch: 18 [5120/38723 (13%)]\tLoss: 0.854861\n"
     ]
    },
    {
     "name": "stderr",
     "output_type": "stream",
     "text": [
      " 29%|██▉       | 22/76 [00:03<00:09,  5.55it/s]"
     ]
    },
    {
     "name": "stdout",
     "output_type": "stream",
     "text": [
      "Train Epoch: 18 [10240/38723 (26%)]\tLoss: 1.127791\n"
     ]
    },
    {
     "name": "stderr",
     "output_type": "stream",
     "text": [
      " 42%|████▏     | 32/76 [00:05<00:07,  5.57it/s]"
     ]
    },
    {
     "name": "stdout",
     "output_type": "stream",
     "text": [
      "Train Epoch: 18 [15360/38723 (39%)]\tLoss: 1.112395\n"
     ]
    },
    {
     "name": "stderr",
     "output_type": "stream",
     "text": [
      " 55%|█████▌    | 42/76 [00:07<00:06,  5.60it/s]"
     ]
    },
    {
     "name": "stdout",
     "output_type": "stream",
     "text": [
      "Train Epoch: 18 [20480/38723 (53%)]\tLoss: 1.126406\n"
     ]
    },
    {
     "name": "stderr",
     "output_type": "stream",
     "text": [
      " 68%|██████▊   | 52/76 [00:09<00:04,  5.59it/s]"
     ]
    },
    {
     "name": "stdout",
     "output_type": "stream",
     "text": [
      "Train Epoch: 18 [25600/38723 (66%)]\tLoss: 0.976913\n"
     ]
    },
    {
     "name": "stderr",
     "output_type": "stream",
     "text": [
      " 82%|████████▏ | 62/76 [00:11<00:02,  5.62it/s]"
     ]
    },
    {
     "name": "stdout",
     "output_type": "stream",
     "text": [
      "Train Epoch: 18 [30720/38723 (79%)]\tLoss: 1.037956\n"
     ]
    },
    {
     "name": "stderr",
     "output_type": "stream",
     "text": [
      " 95%|█████████▍| 72/76 [00:12<00:00,  5.38it/s]"
     ]
    },
    {
     "name": "stdout",
     "output_type": "stream",
     "text": [
      "Train Epoch: 18 [35840/38723 (92%)]\tLoss: 1.100255\n"
     ]
    },
    {
     "name": "stderr",
     "output_type": "stream",
     "text": [
      "100%|██████████| 76/76 [00:13<00:00,  5.61it/s]\n"
     ]
    },
    {
     "name": "stdout",
     "output_type": "stream",
     "text": [
      "Input\t['ஃ', 'ப', 'ா', 'ர', '்', 'ம', '்']\n",
      "GT\t['f', 'a', 'r', 'm']\n",
      "pred\t['f', 'p', 'a', 'r']\n",
      "\n",
      "\n",
      "Input\t['ந', 'ெ', 'ற', '்', 'ற', 'ி']\n",
      "GT\t['n', 'e', 't', 'r', 'i']\n",
      "pred\t['n', 'e', 'a', 'a', 'a', 'i']\n",
      "\n",
      "\n",
      "Input\t['க', 'ா', 'ர', 'ண', 'த', '்', 'த', 'ை', 'ப', '்']\n",
      "GT\t['k', 'a', 'a', 'r', 'a', 'n', 'a', 't', 't', 'a', 'i', 'p']\n",
      "pred\t['k', 'a', 'a', 'a', 't', 'a', 't', 'a', 'a', 'a']\n",
      "\n",
      "\n",
      "Input\t['வ', 'ா', 'க', 'ன']\n",
      "GT\t['v', 'a', 'a', 'g', 'a', 'n', 'a']\n",
      "pred\t['v', 'a', 'a', 'n']\n",
      "\n",
      "\n",
      "\n",
      "Test set: Average loss: 0.9554, Accuracy: 182728/239760 (76%)\n",
      "\n"
     ]
    },
    {
     "name": "stderr",
     "output_type": "stream",
     "text": [
      "  1%|▏         | 1/76 [00:00<00:12,  5.99it/s]"
     ]
    },
    {
     "name": "stdout",
     "output_type": "stream",
     "text": [
      "Train Epoch: 19 [0/38723 (0%)]\tLoss: 0.913993\n"
     ]
    },
    {
     "name": "stderr",
     "output_type": "stream",
     "text": [
      " 16%|█▌        | 12/76 [00:02<00:11,  5.55it/s]"
     ]
    },
    {
     "name": "stdout",
     "output_type": "stream",
     "text": [
      "Train Epoch: 19 [5120/38723 (13%)]\tLoss: 0.869964\n"
     ]
    },
    {
     "name": "stderr",
     "output_type": "stream",
     "text": [
      " 29%|██▉       | 22/76 [00:03<00:09,  5.53it/s]"
     ]
    },
    {
     "name": "stdout",
     "output_type": "stream",
     "text": [
      "Train Epoch: 19 [10240/38723 (26%)]\tLoss: 1.124503\n"
     ]
    },
    {
     "name": "stderr",
     "output_type": "stream",
     "text": [
      " 42%|████▏     | 32/76 [00:05<00:08,  5.43it/s]"
     ]
    },
    {
     "name": "stdout",
     "output_type": "stream",
     "text": [
      "Train Epoch: 19 [15360/38723 (39%)]\tLoss: 1.109250\n"
     ]
    },
    {
     "name": "stderr",
     "output_type": "stream",
     "text": [
      " 55%|█████▌    | 42/76 [00:07<00:06,  5.63it/s]"
     ]
    },
    {
     "name": "stdout",
     "output_type": "stream",
     "text": [
      "Train Epoch: 19 [20480/38723 (53%)]\tLoss: 1.134605\n"
     ]
    },
    {
     "name": "stderr",
     "output_type": "stream",
     "text": [
      " 68%|██████▊   | 52/76 [00:09<00:04,  5.48it/s]"
     ]
    },
    {
     "name": "stdout",
     "output_type": "stream",
     "text": [
      "Train Epoch: 19 [25600/38723 (66%)]\tLoss: 0.976898\n"
     ]
    },
    {
     "name": "stderr",
     "output_type": "stream",
     "text": [
      " 82%|████████▏ | 62/76 [00:11<00:02,  5.43it/s]"
     ]
    },
    {
     "name": "stdout",
     "output_type": "stream",
     "text": [
      "Train Epoch: 19 [30720/38723 (79%)]\tLoss: 1.038685\n"
     ]
    },
    {
     "name": "stderr",
     "output_type": "stream",
     "text": [
      " 95%|█████████▍| 72/76 [00:13<00:00,  5.43it/s]"
     ]
    },
    {
     "name": "stdout",
     "output_type": "stream",
     "text": [
      "Train Epoch: 19 [35840/38723 (92%)]\tLoss: 1.088689\n"
     ]
    },
    {
     "name": "stderr",
     "output_type": "stream",
     "text": [
      "100%|██████████| 76/76 [00:13<00:00,  5.49it/s]\n"
     ]
    },
    {
     "name": "stdout",
     "output_type": "stream",
     "text": [
      "Input\t['ஃ', 'ப', 'ா', 'ர', '்', 'ம', '்']\n",
      "GT\t['f', 'a', 'r', 'm']\n",
      "pred\t['f', 'p', 'a', 'r', 'i', 'm', 'i']\n",
      "\n",
      "\n",
      "Input\t['ந', 'ெ', 'ற', '்', 'ற', 'ி']\n",
      "GT\t['n', 'e', 't', 'r', 'i']\n",
      "pred\t['n', 'e', 'a', 'a', 'a', 'i']\n",
      "\n",
      "\n",
      "Input\t['க', 'ா', 'ர', 'ண', 'த', '்', 'த', 'ை', 'ப', '்']\n",
      "GT\t['k', 'a', 'a', 'r', 'a', 'n', 'a', 't', 't', 'a', 'i', 'p']\n",
      "pred\t['a', 'a', 'r', 'a', 'a', 't', 'a', 'a', 'p', 'a']\n",
      "\n",
      "\n",
      "Input\t['வ', 'ா', 'க', 'ன']\n",
      "GT\t['v', 'a', 'a', 'g', 'a', 'n', 'a']\n",
      "pred\t['v', 'a', 'k', 'a']\n",
      "\n",
      "\n",
      "\n",
      "Test set: Average loss: 0.9480, Accuracy: 181513/239760 (76%)\n",
      "\n"
     ]
    },
    {
     "name": "stderr",
     "output_type": "stream",
     "text": [
      "  1%|▏         | 1/76 [00:00<00:12,  6.07it/s]"
     ]
    },
    {
     "name": "stdout",
     "output_type": "stream",
     "text": [
      "Train Epoch: 20 [0/38723 (0%)]\tLoss: 0.910805\n"
     ]
    },
    {
     "name": "stderr",
     "output_type": "stream",
     "text": [
      " 16%|█▌        | 12/76 [00:02<00:11,  5.51it/s]"
     ]
    },
    {
     "name": "stdout",
     "output_type": "stream",
     "text": [
      "Train Epoch: 20 [5120/38723 (13%)]\tLoss: 0.851721\n"
     ]
    },
    {
     "name": "stderr",
     "output_type": "stream",
     "text": [
      " 29%|██▉       | 22/76 [00:03<00:09,  5.54it/s]"
     ]
    },
    {
     "name": "stdout",
     "output_type": "stream",
     "text": [
      "Train Epoch: 20 [10240/38723 (26%)]\tLoss: 1.116093\n"
     ]
    },
    {
     "name": "stderr",
     "output_type": "stream",
     "text": [
      " 42%|████▏     | 32/76 [00:05<00:07,  5.53it/s]"
     ]
    },
    {
     "name": "stdout",
     "output_type": "stream",
     "text": [
      "Train Epoch: 20 [15360/38723 (39%)]\tLoss: 1.113337\n"
     ]
    },
    {
     "name": "stderr",
     "output_type": "stream",
     "text": [
      " 55%|█████▌    | 42/76 [00:07<00:06,  5.56it/s]"
     ]
    },
    {
     "name": "stdout",
     "output_type": "stream",
     "text": [
      "Train Epoch: 20 [20480/38723 (53%)]\tLoss: 1.119520\n"
     ]
    },
    {
     "name": "stderr",
     "output_type": "stream",
     "text": [
      " 68%|██████▊   | 52/76 [00:09<00:04,  5.55it/s]"
     ]
    },
    {
     "name": "stdout",
     "output_type": "stream",
     "text": [
      "Train Epoch: 20 [25600/38723 (66%)]\tLoss: 0.966347\n"
     ]
    },
    {
     "name": "stderr",
     "output_type": "stream",
     "text": [
      " 82%|████████▏ | 62/76 [00:11<00:02,  5.63it/s]"
     ]
    },
    {
     "name": "stdout",
     "output_type": "stream",
     "text": [
      "Train Epoch: 20 [30720/38723 (79%)]\tLoss: 1.025685\n"
     ]
    },
    {
     "name": "stderr",
     "output_type": "stream",
     "text": [
      " 95%|█████████▍| 72/76 [00:12<00:00,  5.44it/s]"
     ]
    },
    {
     "name": "stdout",
     "output_type": "stream",
     "text": [
      "Train Epoch: 20 [35840/38723 (92%)]\tLoss: 1.111349\n"
     ]
    },
    {
     "name": "stderr",
     "output_type": "stream",
     "text": [
      "100%|██████████| 76/76 [00:13<00:00,  5.57it/s]\n"
     ]
    },
    {
     "name": "stdout",
     "output_type": "stream",
     "text": [
      "Input\t['ஃ', 'ப', 'ா', 'ர', '்', 'ம', '்']\n",
      "GT\t['f', 'a', 'r', 'm']\n",
      "pred\t['f', 'p', 'a', 'r', 'm', 'm', 'm']\n",
      "\n",
      "\n",
      "Input\t['ந', 'ெ', 'ற', '்', 'ற', 'ி']\n",
      "GT\t['n', 'e', 't', 'r', 'i']\n",
      "pred\t['n', 'e', 'r', 'a', 'a', 'i']\n",
      "\n",
      "\n",
      "Input\t['க', 'ா', 'ர', 'ண', 'த', '்', 'த', 'ை', 'ப', '்']\n",
      "GT\t['k', 'a', 'a', 'r', 'a', 'n', 'a', 't', 't', 'a', 'i', 'p']\n",
      "pred\t['k', 'a', 'a', 'a', 't', 'a', 't', 'a', 'p']\n",
      "\n",
      "\n",
      "Input\t['வ', 'ா', 'க', 'ன']\n",
      "GT\t['v', 'a', 'a', 'g', 'a', 'n', 'a']\n",
      "pred\t['v', 'a', 'k', 'a']\n",
      "\n",
      "\n",
      "\n",
      "Test set: Average loss: 0.9557, Accuracy: 182666/239760 (76%)\n",
      "\n"
     ]
    },
    {
     "data": {
      "image/png": "[encoded data removed]",
      "text/plain": [
       "<Figure size 1440x720 with 1 Axes>"
      ]
     },
     "metadata": {
      "needs_background": "light"
     },
     "output_type": "display_data"
    },
    {
     "data": {
      "image/png": "[encoded data removed]",
      "text/plain": [
       "<Figure size 1440x720 with 1 Axes>"
      ]
     },
     "metadata": {
      "needs_background": "light"
     },
     "output_type": "display_data"
    },
    {
     "data": {
      "image/png": "[encoded data removed]",
      "text/plain": [
       "<Figure size 1440x720 with 1 Axes>"
      ]
     },
     "metadata": {
      "needs_background": "light"
     },
     "output_type": "display_data"
    }
   ],
   "source": [
    "def main():\n",
    "    BATCH_SIZE = 512\n",
    "    FEATURE_SIZE = 128\n",
    "    TEST_BATCH_SIZE = 256\n",
    "    EPOCHS = 20\n",
    "    LEARNING_RATE = 0.005\n",
    "    MOMENTUM = 0.9\n",
    "    WEIGHT_DECAY = 0.000005\n",
    "    USE_CUDA = True\n",
    "    PRINT_INTERVAL = 10\n",
    "    OUT_PATH = 'out/'\n",
    "    LOG_PATH = OUT_PATH + 'logs/log.pkl'\n",
    "    \n",
    "    train_data, test_data, seq_len = prepare_data(DATA_PATH)\n",
    "    lang_voc2ind, lang_ind2voc, en_voc2ind, en_ind2voc = create_dictionaries(train_data + test_data)\n",
    "    train_dataset = TransliterateDataset(train_data, lang_voc2ind, en_voc2ind, seq_len)\n",
    "    test_dataset = TransliterateDataset(test_data, lang_voc2ind, en_voc2ind, seq_len)\n",
    "    \n",
    "    use_cuda = USE_CUDA and torch.cuda.is_available()\n",
    "    device = torch.device(\"cuda\" if use_cuda else \"cpu\")\n",
    "    print('Using device', device)\n",
    "    \n",
    "    num_workers = multiprocessing.cpu_count()\n",
    "    print('num workers:', num_workers)\n",
    "    kwargs = {'num_workers': num_workers,\n",
    "              'pin_memory': True} if use_cuda else {}\n",
    "    \n",
    "    train_loader = torch.utils.data.DataLoader(train_dataset, batch_size=BATCH_SIZE,\n",
    "                                               shuffle=False, **kwargs)\n",
    "    test_loader = torch.utils.data.DataLoader(test_dataset, batch_size=TEST_BATCH_SIZE,\n",
    "                                              shuffle=False, **kwargs)\n",
    "    \n",
    "    model = TransliterateNet(len(lang_voc2ind), len(en_voc2ind), FEATURE_SIZE).to(device)\n",
    "    \n",
    "    optimizer = optim.Adam(model.parameters(), lr=LEARNING_RATE, weight_decay=WEIGHT_DECAY)\n",
    "    #optimizer = optim.SGD(model.parameters(), lr=LEARNING_RATE, momentum=MOMENTUM, weight_decay=WEIGHT_DECAY)\n",
    "    start_epoch = model.load_last_model(OUT_PATH + 'checkpoints')\n",
    "\n",
    "    train_losses, test_losses, test_accuracies = pt_util.read_log(LOG_PATH, ([], [], []))\n",
    "    test_loss, test_accuracy = test(model, device, test_loader, lang_ind2voc, en_ind2voc)\n",
    "\n",
    "    test_losses.append((start_epoch, test_loss))\n",
    "    test_accuracies.append((start_epoch, test_accuracy))\n",
    "    \n",
    "    try:\n",
    "        for epoch in range(start_epoch, EPOCHS + 1):\n",
    "            lr = LEARNING_RATE * np.power(0.25, (int(epoch / 6)))\n",
    "            train_loss = train(model, device, optimizer, train_loader, lr, epoch, PRINT_INTERVAL)\n",
    "            test_loss, test_accuracy = test(model, device, test_loader, lang_ind2voc, en_ind2voc)\n",
    "            train_losses.append((epoch, train_loss))\n",
    "            test_losses.append((epoch, test_loss))\n",
    "            test_accuracies.append((epoch, test_accuracy))\n",
    "            #pt_util.write_log(LOG_PATH, (train_losses, test_losses, test_accuracies))\n",
    "            #model.save_best_model(test_accuracy, DATA_PATH + 'checkpoints/%03d.pt' % epoch)\n",
    "\n",
    "    except KeyboardInterrupt as ke:\n",
    "        print('Interrupted')\n",
    "    except:\n",
    "        import traceback\n",
    "        traceback.print_exc()\n",
    "    finally:\n",
    "        #print('Saving final model')\n",
    "        #model.save_model(DATA_PATH + 'checkpoints/%03d.pt' % epoch, 0)\n",
    "        ep, val = zip(*train_losses)\n",
    "        pt_util.plot(ep, val, 'Train loss', 'Epoch', 'Error')\n",
    "        ep, val = zip(*test_losses)\n",
    "        pt_util.plot(ep, val, 'Test loss', 'Epoch', 'Error')\n",
    "        ep, val = zip(*test_accuracies)\n",
    "        pt_util.plot(ep, val, 'Test accuracy', 'Epoch', 'Error')\n",
    "        return model, lang_voc2ind, en_ind2voc, device\n",
    "    \n",
    "final_model, lang_voc2ind, en_ind2voc, device = main()"
   ]
  },
  {
   "cell_type": "code",
   "execution_count": 11,
   "id": "48112d7f",
   "metadata": {},
   "outputs": [],
   "source": [
    "def generate_transliteration(model, word, lang_voc2ind, en_ind2voc, seq_len=30):\n",
    "    transliteration = []\n",
    "    hidden = None\n",
    "    \n",
    "    lang_tokens = tokenize_data(word, lang_voc2ind)\n",
    "    lang_data = torch.LongTensor(pad_data(lang_tokens, seq_len))\n",
    "    \n",
    "    for c in torch.LongTensor(lang_data):\n",
    "        x, hidden = model.inference(c, hidden)\n",
    "        transliteration.append(torch.argmax(x))\n",
    "    \n",
    "    return detokenize_and_depad_data(transliteration, en_ind2voc, len(en_ind2voc) - 1)"
   ]
  },
  {
   "cell_type": "code",
   "execution_count": 12,
   "id": "39e48498",
   "metadata": {},
   "outputs": [
    {
     "name": "stdout",
     "output_type": "stream",
     "text": [
      "['f', 'p', 'a', 'a']\n"
     ]
    }
   ],
   "source": [
    "print(generate_transliteration(final_model, 'ஃபார்ம்', lang_voc2ind, en_ind2voc)) # should ideally say 'farm'"
   ]
  }
 ],
 "metadata": {
  "kernelspec": {
   "display_name": "Python 3",
   "language": "python",
   "name": "python3"
  },
  "language_info": {
   "codemirror_mode": {
    "name": "ipython",
    "version": 3
   },
   "file_extension": ".py",
   "mimetype": "text/x-python",
   "name": "python",
   "nbconvert_exporter": "python",
   "pygments_lexer": "ipython3",
   "version": "3.6.8"
  }
 },
 "nbformat": 4,
 "nbformat_minor": 5
}
